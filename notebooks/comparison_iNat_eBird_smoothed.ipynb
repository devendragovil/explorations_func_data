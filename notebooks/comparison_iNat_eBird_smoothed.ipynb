{
 "cells": [
  {
   "cell_type": "code",
   "execution_count": 68,
   "metadata": {},
   "outputs": [],
   "source": [
    "import pandas as pd\n",
    "import numpy as np\n",
    "import seaborn as sns\n",
    "import matplotlib.pyplot as plt"
   ]
  },
  {
   "cell_type": "code",
   "execution_count": 2,
   "metadata": {},
   "outputs": [],
   "source": [
    "iNat_density = pd.read_csv('./inat_dens_df.csv')\n",
    "eBird_density = pd.read_csv('./ebird_dens_df.csv')"
   ]
  },
  {
   "cell_type": "code",
   "execution_count": 21,
   "metadata": {},
   "outputs": [],
   "source": [
    "iNat_density_filtered = iNat_density[iNat_density['AVIBASEID'].isin(eBird_density['AVIBASEID'].values)]"
   ]
  },
  {
   "cell_type": "code",
   "execution_count": 22,
   "metadata": {},
   "outputs": [],
   "source": [
    "iNat_density2 = iNat_density_filtered.pivot_table(index='AVIBASEID', columns='WEEK', values='smoothed_counts').sort_index()"
   ]
  },
  {
   "cell_type": "code",
   "execution_count": 23,
   "metadata": {},
   "outputs": [],
   "source": [
    "eBird_density2 = eBird_density.pivot_table(index='AVIBASEID', columns='WEEK', values='smoothed_counts').sort_index()"
   ]
  },
  {
   "cell_type": "code",
   "execution_count": 33,
   "metadata": {},
   "outputs": [],
   "source": [
    "iNat_density2.fillna(value=0, inplace=True)"
   ]
  },
  {
   "cell_type": "code",
   "execution_count": 34,
   "metadata": {},
   "outputs": [],
   "source": [
    "eBird_density2.fillna(value=0, inplace=True)"
   ]
  },
  {
   "cell_type": "code",
   "execution_count": 35,
   "metadata": {},
   "outputs": [],
   "source": [
    "iNat_birds_total_count = np.sum(iNat_density2.values, axis=1)"
   ]
  },
  {
   "cell_type": "code",
   "execution_count": 36,
   "metadata": {},
   "outputs": [],
   "source": [
    "eBird_total_count = np.sum(eBird_density2.values, axis=1)"
   ]
  },
  {
   "cell_type": "code",
   "execution_count": 39,
   "metadata": {},
   "outputs": [],
   "source": [
    "multiplier_ratios = eBird_total_count/iNat_birds_total_count"
   ]
  },
  {
   "cell_type": "code",
   "execution_count": 40,
   "metadata": {},
   "outputs": [
    {
     "data": {
      "text/plain": [
       "array([4.81969784e+02, 1.05690236e+04, 1.52511815e+02, 8.77485376e+02,\n",
       "       5.57950345e+02, 1.37784376e+03, 3.24925079e+02, 9.44471204e+02,\n",
       "       1.89337954e+02, 1.25620842e-01, 7.44778985e+01, 4.35474603e+02,\n",
       "       1.90873827e-01, 5.24432221e+03, 1.85497626e+03, 2.40294831e+02,\n",
       "       4.91049176e+02, 3.03136528e+02, 8.54031777e+01, 7.54174814e+01,\n",
       "       1.80182057e+02, 1.35288990e+02, 8.28564909e+02, 4.10622891e+02,\n",
       "       2.70912157e+03, 1.58494001e+03, 1.10378279e+03, 2.68567680e+02,\n",
       "       8.11104121e+01, 5.85230341e+03, 8.31131348e+02, 9.99066987e+01,\n",
       "       6.97001579e+01, 3.49069079e+02, 4.49815546e+05, 7.68902730e+02,\n",
       "       9.28106807e+01, 2.79253795e+03, 2.34028074e+02, 1.97087876e+02,\n",
       "       1.18949472e+04, 1.26539839e+02, 7.21917822e+02, 7.76454398e+01,\n",
       "       4.23952181e+02, 6.00819431e+01, 6.43621585e+01, 2.85551807e+02,\n",
       "       3.17979325e-03, 4.69601117e+03, 7.76754838e+03, 5.14121972e+02,\n",
       "       1.87822358e+02, 3.79583033e+01, 2.82140820e+02, 1.35116640e+02,\n",
       "       2.13739363e+03, 3.85027442e+02, 1.88228799e+03, 1.56928142e+02,\n",
       "       5.55013390e+01, 2.27765910e+02, 8.64577771e+02, 2.34770446e+02,\n",
       "       4.85201393e+02, 1.19055903e+02, 2.67338053e+02, 1.49447769e+02,\n",
       "       1.78408672e+02, 4.30665245e+03, 2.21855250e+02, 6.34811325e+02,\n",
       "       4.51538721e+02, 5.05986778e+02, 6.93025425e+02, 1.73416286e+03,\n",
       "       7.54816943e+02, 1.30073357e+03, 4.89779847e+03, 6.56829236e+02,\n",
       "       6.32425677e+02, 2.21894045e+02, 8.92066154e+01, 7.57669281e+01,\n",
       "       2.32577828e+03, 2.54109274e+02, 1.46480989e+02, 1.71761100e+02,\n",
       "       2.49065991e+02, 1.60096020e+02, 1.72471574e+02, 2.90064054e+02,\n",
       "       1.16374757e+03, 2.19752849e+02, 3.79323872e+02, 2.35453269e+01,\n",
       "       2.78711342e+02, 1.70934321e+02, 1.76513575e+03, 3.01395040e+02,\n",
       "       3.21382519e+02, 3.96293919e+02, 4.25285342e+02, 1.24823969e+03,\n",
       "       5.79321531e+02, 5.45399582e+02, 5.93876612e+01, 4.25762686e+03,\n",
       "       1.69718564e+02, 5.42308394e+02, 3.66324465e+03, 3.11334666e+04,\n",
       "       3.88215795e+02, 1.06857252e+02, 1.26466119e+02, 2.50553113e+03,\n",
       "       1.34615696e+03, 1.06437768e+03, 4.75982766e+01, 1.43266561e+03,\n",
       "       4.98382945e+01, 3.77505245e+03, 1.92565631e+02, 1.88467009e+03,\n",
       "       1.37609757e+03, 1.70578408e+02, 1.63174633e+02, 1.64785301e+02,\n",
       "       3.74989741e+02, 1.00426054e+03, 4.99790595e+01, 1.46568132e+03,\n",
       "       5.47713922e+01, 4.08966305e+02, 2.64186413e+02])"
      ]
     },
     "execution_count": 40,
     "metadata": {},
     "output_type": "execute_result"
    }
   ],
   "source": [
    "multiplier_ratios"
   ]
  },
  {
   "cell_type": "code",
   "execution_count": 42,
   "metadata": {},
   "outputs": [
    {
     "data": {
      "text/plain": [
       "4548.992869448593"
      ]
     },
     "execution_count": 42,
     "metadata": {},
     "output_type": "execute_result"
    }
   ],
   "source": [
    "np.mean(multiplier_ratios)"
   ]
  },
  {
   "cell_type": "code",
   "execution_count": 43,
   "metadata": {},
   "outputs": [
    {
     "data": {
      "text/plain": [
       "38593.55733173665"
      ]
     },
     "execution_count": 43,
     "metadata": {},
     "output_type": "execute_result"
    }
   ],
   "source": [
    "np.std(multiplier_ratios)"
   ]
  },
  {
   "cell_type": "code",
   "execution_count": 120,
   "metadata": {},
   "outputs": [
    {
     "data": {
      "text/plain": [
       "(4548.992869448593,\n",
       " 38593.55733173665,\n",
       " 349.0690789246921,\n",
       " array([3.17979325e-03, 7.16112541e+01, 1.33401280e+02, 1.73658993e+02,\n",
       "        2.45557527e+02, 3.49069079e+02, 4.87540506e+02, 7.66085573e+02,\n",
       "        1.37644681e+03, 2.75917140e+03, 4.49815546e+05]))"
      ]
     },
     "execution_count": 120,
     "metadata": {},
     "output_type": "execute_result"
    }
   ],
   "source": [
    "derive_summary_stats(multiplier_ratios)"
   ]
  },
  {
   "cell_type": "code",
   "execution_count": 44,
   "metadata": {},
   "outputs": [
    {
     "data": {
      "text/plain": [
       "449815.5458002649"
      ]
     },
     "execution_count": 44,
     "metadata": {},
     "output_type": "execute_result"
    }
   ],
   "source": [
    "np.max(multiplier_ratios)"
   ]
  },
  {
   "cell_type": "code",
   "execution_count": 45,
   "metadata": {},
   "outputs": [
    {
     "data": {
      "text/plain": [
       "0.003179793253209798"
      ]
     },
     "execution_count": 45,
     "metadata": {},
     "output_type": "execute_result"
    }
   ],
   "source": [
    "np.min(multiplier_ratios)"
   ]
  },
  {
   "cell_type": "code",
   "execution_count": 47,
   "metadata": {},
   "outputs": [
    {
     "data": {
      "text/plain": [
       "<Axes: >"
      ]
     },
     "execution_count": 47,
     "metadata": {},
     "output_type": "execute_result"
    },
    {
     "data": {
      "image/png": "[encoded data removed]",
      "text/plain": [
       "<Figure size 640x480 with 1 Axes>"
      ]
     },
     "metadata": {},
     "output_type": "display_data"
    }
   ],
   "source": [
    "sns.violinplot(multiplier_ratios)"
   ]
  },
  {
   "cell_type": "code",
   "execution_count": 49,
   "metadata": {},
   "outputs": [
    {
     "data": {
      "text/plain": [
       "array([3.17979325e-03, 1.25620842e-01, 1.90873827e-01, 2.35453269e+01,\n",
       "       3.79583033e+01, 4.75982766e+01, 4.98382945e+01, 4.99790595e+01,\n",
       "       5.47713922e+01, 5.55013390e+01, 5.93876612e+01, 6.00819431e+01,\n",
       "       6.43621585e+01, 6.97001579e+01, 7.44778985e+01, 7.54174814e+01,\n",
       "       7.57669281e+01, 7.76454398e+01, 8.11104121e+01, 8.54031777e+01,\n",
       "       8.92066154e+01, 9.28106807e+01, 9.99066987e+01, 1.06857252e+02,\n",
       "       1.19055903e+02, 1.26466119e+02, 1.26539839e+02, 1.35116640e+02,\n",
       "       1.35288990e+02, 1.46480989e+02, 1.49447769e+02, 1.52511815e+02,\n",
       "       1.56928142e+02, 1.60096020e+02, 1.63174633e+02, 1.64785301e+02,\n",
       "       1.69718564e+02, 1.70578408e+02, 1.70934321e+02, 1.71761100e+02,\n",
       "       1.72471574e+02, 1.78408672e+02, 1.80182057e+02, 1.87822358e+02,\n",
       "       1.89337954e+02, 1.92565631e+02, 1.97087876e+02, 2.19752849e+02,\n",
       "       2.21855250e+02, 2.21894045e+02, 2.27765910e+02, 2.34028074e+02,\n",
       "       2.34770446e+02, 2.40294831e+02, 2.49065991e+02, 2.54109274e+02,\n",
       "       2.64186413e+02, 2.67338053e+02, 2.68567680e+02, 2.78711342e+02,\n",
       "       2.82140820e+02, 2.85551807e+02, 2.90064054e+02, 3.01395040e+02,\n",
       "       3.03136528e+02, 3.21382519e+02, 3.24925079e+02, 3.49069079e+02,\n",
       "       3.74989741e+02, 3.79323872e+02, 3.85027442e+02, 3.88215795e+02,\n",
       "       3.96293919e+02, 4.08966305e+02, 4.10622891e+02, 4.23952181e+02,\n",
       "       4.25285342e+02, 4.35474603e+02, 4.51538721e+02, 4.81969784e+02,\n",
       "       4.85201393e+02, 4.91049176e+02, 5.05986778e+02, 5.14121972e+02,\n",
       "       5.42308394e+02, 5.45399582e+02, 5.57950345e+02, 5.79321531e+02,\n",
       "       6.32425677e+02, 6.34811325e+02, 6.56829236e+02, 6.93025425e+02,\n",
       "       7.21917822e+02, 7.54816943e+02, 7.68902730e+02, 8.28564909e+02,\n",
       "       8.31131348e+02, 8.64577771e+02, 8.77485376e+02, 9.44471204e+02,\n",
       "       1.00426054e+03, 1.06437768e+03, 1.10378279e+03, 1.16374757e+03,\n",
       "       1.24823969e+03, 1.30073357e+03, 1.34615696e+03, 1.37609757e+03,\n",
       "       1.37784376e+03, 1.43266561e+03, 1.46568132e+03, 1.58494001e+03,\n",
       "       1.73416286e+03, 1.76513575e+03, 1.85497626e+03, 1.88228799e+03,\n",
       "       1.88467009e+03, 2.13739363e+03, 2.32577828e+03, 2.50553113e+03,\n",
       "       2.70912157e+03, 2.79253795e+03, 3.66324465e+03, 3.77505245e+03,\n",
       "       4.25762686e+03, 4.30665245e+03, 4.69601117e+03, 4.89779847e+03,\n",
       "       5.24432221e+03, 5.85230341e+03, 7.76754838e+03, 1.05690236e+04,\n",
       "       1.18949472e+04, 3.11334666e+04, 4.49815546e+05])"
      ]
     },
     "execution_count": 49,
     "metadata": {},
     "output_type": "execute_result"
    }
   ],
   "source": [
    "np.sort(multiplier_ratios)"
   ]
  },
  {
   "cell_type": "code",
   "execution_count": 56,
   "metadata": {},
   "outputs": [
    {
     "name": "stderr",
     "output_type": "stream",
     "text": [
      "/var/folders/ms/2ygwp03d4b5526gc0h51spqh0000gn/T/ipykernel_28638/2756468928.py:1: UserWarning: \n",
      "\n",
      "The `bw` parameter is deprecated in favor of `bw_method` and `bw_adjust`.\n",
      "Setting `bw_method=0.1`, but please see the docs for the new parameters\n",
      "and update your code. This will become an error in seaborn v0.13.0.\n",
      "\n",
      "  sns.kdeplot(np.sort(multiplier_ratios)[4:-5], bw=0.1)\n"
     ]
    },
    {
     "data": {
      "text/plain": [
       "<Axes: ylabel='Density'>"
      ]
     },
     "execution_count": 56,
     "metadata": {},
     "output_type": "execute_result"
    },
    {
     "data": {
      "image/png": "[encoded data removed]",
      "text/plain": [
       "<Figure size 640x480 with 1 Axes>"
      ]
     },
     "metadata": {},
     "output_type": "display_data"
    }
   ],
   "source": [
    "sns.kdeplot(np.sort(multiplier_ratios)[4:-5], bw=0.1)"
   ]
  },
  {
   "cell_type": "code",
   "execution_count": 57,
   "metadata": {},
   "outputs": [
    {
     "data": {
      "text/plain": [
       "349.0690789246921"
      ]
     },
     "execution_count": 57,
     "metadata": {},
     "output_type": "execute_result"
    }
   ],
   "source": [
    "np.median(multiplier_ratios)"
   ]
  },
  {
   "cell_type": "code",
   "execution_count": 58,
   "metadata": {},
   "outputs": [],
   "source": [
    "iNat_density3 = iNat_density2.copy()"
   ]
  },
  {
   "cell_type": "code",
   "execution_count": 64,
   "metadata": {},
   "outputs": [],
   "source": [
    "iNat_density3 = (iNat_density2.values.T/iNat_birds_total_count).T"
   ]
  },
  {
   "cell_type": "code",
   "execution_count": 65,
   "metadata": {},
   "outputs": [],
   "source": [
    "eBird_density3 = (eBird_density2.values.T/eBird_total_count).T"
   ]
  },
  {
   "cell_type": "code",
   "execution_count": 66,
   "metadata": {},
   "outputs": [
    {
     "data": {
      "text/plain": [
       "(135.0, 135.0)"
      ]
     },
     "execution_count": 66,
     "metadata": {},
     "output_type": "execute_result"
    }
   ],
   "source": [
    "np.sum(iNat_density3), np.sum(eBird_density3)"
   ]
  },
  {
   "cell_type": "code",
   "execution_count": 139,
   "metadata": {},
   "outputs": [
    {
     "data": {
      "text/plain": [
       "(0.0, 0.05)"
      ]
     },
     "execution_count": 139,
     "metadata": {},
     "output_type": "execute_result"
    },
    {
     "data": {
      "image/png": "[encoded data removed]",
      "text/plain": [
       "<Figure size 640x480 with 1 Axes>"
      ]
     },
     "metadata": {},
     "output_type": "display_data"
    }
   ],
   "source": [
    "x = 48\n",
    "plt.plot(iNat_density3[x, :], color='red')\n",
    "plt.plot(eBird_density3[x, :], color='purple')\n",
    "plt.ylim((0, 0.05))"
   ]
  },
  {
   "cell_type": "code",
   "execution_count": 82,
   "metadata": {},
   "outputs": [],
   "source": [
    "from sklearn.decomposition import PCA"
   ]
  },
  {
   "cell_type": "code",
   "execution_count": 83,
   "metadata": {},
   "outputs": [],
   "source": [
    "pca_iNat = PCA().fit(iNat_density3)\n",
    "pca_eBird = PCA().fit(eBird_density3)"
   ]
  },
  {
   "cell_type": "code",
   "execution_count": 131,
   "metadata": {},
   "outputs": [
    {
     "data": {
      "text/plain": [
       "array([0.69658884, 0.96220078, 0.98202539, 0.99847833, 0.99945739,\n",
       "       0.99996696, 0.99998301, 0.99999166, 0.99999916, 0.99999991,\n",
       "       0.99999996, 1.        , 1.        , 1.        , 1.        ,\n",
       "       1.        , 1.        , 1.        , 1.        , 1.        ,\n",
       "       1.        , 1.        , 1.        , 1.        , 1.        ,\n",
       "       1.        , 1.        , 1.        , 1.        , 1.        ,\n",
       "       1.        , 1.        , 1.        , 1.        , 1.        ,\n",
       "       1.        , 1.        , 1.        , 1.        , 1.        ,\n",
       "       1.        , 1.        , 1.        , 1.        , 1.        ,\n",
       "       1.        , 1.        , 1.        , 1.        , 1.        ,\n",
       "       1.        , 1.        ])"
      ]
     },
     "execution_count": 131,
     "metadata": {},
     "output_type": "execute_result"
    }
   ],
   "source": [
    "np.cumsum(pca_iNat.explained_variance_ratio_)"
   ]
  },
  {
   "cell_type": "code",
   "execution_count": 86,
   "metadata": {},
   "outputs": [
    {
     "data": {
      "text/plain": [
       "[<matplotlib.lines.Line2D at 0x7ff0898efa90>]"
      ]
     },
     "execution_count": 86,
     "metadata": {},
     "output_type": "execute_result"
    },
    {
     "data": {
      "image/png": "[encoded data removed]",
      "text/plain": [
       "<Figure size 640x480 with 1 Axes>"
      ]
     },
     "metadata": {},
     "output_type": "display_data"
    }
   ],
   "source": [
    "plt.plot(np.cumsum(pca_iNat.explained_variance_ratio_)[0:10])"
   ]
  },
  {
   "cell_type": "code",
   "execution_count": 87,
   "metadata": {},
   "outputs": [
    {
     "data": {
      "text/plain": [
       "[<matplotlib.lines.Line2D at 0x7ff0416b8940>]"
      ]
     },
     "execution_count": 87,
     "metadata": {},
     "output_type": "execute_result"
    },
    {
     "data": {
      "image/png": "[encoded data removed]",
      "text/plain": [
       "<Figure size 640x480 with 1 Axes>"
      ]
     },
     "metadata": {},
     "output_type": "display_data"
    }
   ],
   "source": [
    "plt.plot(np.cumsum(pca_eBird.explained_variance_ratio_)[0:10])"
   ]
  },
  {
   "cell_type": "code",
   "execution_count": 133,
   "metadata": {},
   "outputs": [
    {
     "data": {
      "text/plain": [
       "[<matplotlib.lines.Line2D at 0x7ff0420b9f00>]"
      ]
     },
     "execution_count": 133,
     "metadata": {},
     "output_type": "execute_result"
    },
    {
     "data": {
      "image/png": "[encoded data removed]",
      "text/plain": [
       "<Figure size 640x480 with 1 Axes>"
      ]
     },
     "metadata": {},
     "output_type": "display_data"
    }
   ],
   "source": [
    "x = 1\n",
    "plt.plot(pca_iNat.components_[x], color='red')\n",
    "plt.plot(pca_eBird.components_[x], color='purple')"
   ]
  },
  {
   "cell_type": "code",
   "execution_count": 89,
   "metadata": {},
   "outputs": [],
   "source": [
    "from scipy.stats import wasserstein_distance"
   ]
  },
  {
   "cell_type": "code",
   "execution_count": 94,
   "metadata": {},
   "outputs": [],
   "source": [
    "wasserstein_distances_all_pca = [wasserstein_distance(pca_iNat.components_[x], pca_eBird.components_[x]) for x in range(52)]"
   ]
  },
  {
   "cell_type": "code",
   "execution_count": 95,
   "metadata": {},
   "outputs": [],
   "source": [
    "wasserstein_distances_all = [wasserstein_distance(iNat_density3[x, :], eBird_density3[x, :]) for x in range(135)]"
   ]
  },
  {
   "cell_type": "code",
   "execution_count": 100,
   "metadata": {},
   "outputs": [],
   "source": [
    "def derive_summary_stats(x):\n",
    "    return np.mean(x), np.std(x), np.median(x), np.quantile(x, np.linspace(0, 1 ,11))"
   ]
  },
  {
   "cell_type": "code",
   "execution_count": 101,
   "metadata": {},
   "outputs": [
    {
     "data": {
      "text/plain": [
       "[0.04623081777373598,\n",
       " 0.039824746950663986,\n",
       " 0.02565424233574214,\n",
       " 0.05078279273916756,\n",
       " 0.019276490763247715,\n",
       " 0.013694767251531665,\n",
       " 0.03964498334362997,\n",
       " 0.023058894670391947,\n",
       " 0.044786106881351956,\n",
       " 0.06478205363096938,\n",
       " 0.06445758654153279,\n",
       " 0.06501700945729946,\n",
       " 0.030359085058002312,\n",
       " 0.08208857965396717,\n",
       " 0.08092660264133139,\n",
       " 0.020469911794247033,\n",
       " 0.03310829915897847,\n",
       " 0.04774224309412835,\n",
       " 0.06092101586354299,\n",
       " 0.0301417838711682,\n",
       " 0.041585116767302255,\n",
       " 0.033653798333317865,\n",
       " 0.03676668651242764,\n",
       " 0.02039748712112396,\n",
       " 0.04549275371626428,\n",
       " 0.033837486726445404,\n",
       " 0.016416455996858512,\n",
       " 0.0549576147008686,\n",
       " 0.035724553719374844,\n",
       " 0.02583494715690976,\n",
       " 0.04534756680984019,\n",
       " 0.03403344921491012,\n",
       " 0.03328424871135357,\n",
       " 0.039448855829637974,\n",
       " 0.022579379369507796,\n",
       " 0.03209907283426503,\n",
       " 0.023776665312149895,\n",
       " 0.019077745465858876,\n",
       " 0.1437937086070123,\n",
       " 0.025084297039367737,\n",
       " 0.02619284791900503,\n",
       " 0.016914908992255225,\n",
       " 0.025930998353154152,\n",
       " 0.028463046116420056,\n",
       " 0.022478629873268915,\n",
       " 0.020002410018051055,\n",
       " 0.024286296072666344,\n",
       " 0.026920768350588212,\n",
       " 0.07074060835993726,\n",
       " 0.05253177665419086,\n",
       " 0.1679818236555216,\n",
       " 0.07686299807782106]"
      ]
     },
     "execution_count": 101,
     "metadata": {},
     "output_type": "execute_result"
    }
   ],
   "source": [
    "wasserstein_distances_all_pca"
   ]
  },
  {
   "cell_type": "code",
   "execution_count": 138,
   "metadata": {},
   "outputs": [
    {
     "data": {
      "text/plain": [
       "48"
      ]
     },
     "execution_count": 138,
     "metadata": {},
     "output_type": "execute_result"
    }
   ],
   "source": [
    "np.argmax(wasserstein_distances_all)"
   ]
  },
  {
   "cell_type": "code",
   "execution_count": 103,
   "metadata": {},
   "outputs": [
    {
     "data": {
      "text/plain": [
       "(0.003256345726059614,\n",
       " 0.0041995585345222415,\n",
       " 0.0022834691524179942,\n",
       " array([0.00015915, 0.00069854, 0.0010511 , 0.00149855, 0.00186766,\n",
       "        0.00228347, 0.00268859, 0.00337882, 0.00417426, 0.00639537,\n",
       "        0.036819  ]))"
      ]
     },
     "execution_count": 103,
     "metadata": {},
     "output_type": "execute_result"
    }
   ],
   "source": [
    "derive_summary_stats(wasserstein_distances_all)"
   ]
  },
  {
   "cell_type": "code",
   "execution_count": 104,
   "metadata": {},
   "outputs": [
    {
     "data": {
      "text/plain": [
       "(0.04241282722812129,\n",
       " 0.02861791886994074,\n",
       " 0.03374564252988163,\n",
       " array([0.01369477, 0.02004192, 0.02320245, 0.02586376, 0.0302287 ,\n",
       "        0.03374564, 0.03956653, 0.0454492 , 0.05447245, 0.07016825,\n",
       "        0.16798182]))"
      ]
     },
     "execution_count": 104,
     "metadata": {},
     "output_type": "execute_result"
    }
   ],
   "source": [
    "derive_summary_stats(wasserstein_distances_all_pca)"
   ]
  },
  {
   "cell_type": "code",
   "execution_count": 114,
   "metadata": {},
   "outputs": [
    {
     "data": {
      "text/plain": [
       "Index(['00124D98', '01060BFD', '018B3169', '03AC32BA', '0413ED30', '06B9BD24',\n",
       "       '0716A71C', '0783A7EA', '0ADA5F17', '0B1B2EB6',\n",
       "       ...\n",
       "       'F6C6C3F7', 'F6CA75F0', 'F9305BAA', 'F93AC929', 'FB738385', 'FC366114',\n",
       "       'FD2B0309', 'FED3756C', 'FF592882', 'FFF61080'],\n",
       "      dtype='object', name='AVIBASEID', length=135)"
      ]
     },
     "execution_count": 114,
     "metadata": {},
     "output_type": "execute_result"
    }
   ],
   "source": [
    "iNat_density2.index"
   ]
  },
  {
   "cell_type": "code",
   "execution_count": 119,
   "metadata": {},
   "outputs": [
    {
     "data": {
      "text/plain": [
       "array([2541.33988856, 2368.79712471, 2204.98863119, 2050.95641648,\n",
       "       1907.16213407, 1773.48248042, 1649.243981  , 1533.29785626,\n",
       "       1424.13658973, 1320.05667997, 1219.37676809, 1120.72551393,\n",
       "       1023.41353256,  927.88325882,  836.16343925,  752.12387392,\n",
       "        681.19050961,  629.24824197,  600.94397452,  598.26446865,\n",
       "        620.31007111,  664.30921618,    0.        ,    0.        ,\n",
       "          0.        ,    0.        ,    0.        , 1265.83793442,\n",
       "       1424.20913938, 1606.51227623, 1814.84891596, 2047.08996149,\n",
       "       2295.55432917, 2548.18542027, 2791.65944053, 3014.48044095,\n",
       "       3208.60926506, 3369.54781065, 3495.58172853, 3586.84968797,\n",
       "       3644.57511382, 3670.53989122, 3666.76664291, 3635.35101181,\n",
       "       3578.39309384, 3497.99068735, 3396.26787529, 3275.41984665,\n",
       "       3137.75993126, 2985.75853854, 2822.0665209 , 2649.51769708])"
      ]
     },
     "execution_count": 119,
     "metadata": {},
     "output_type": "execute_result"
    }
   ],
   "source": [
    "eBird_density2.values[4, :]"
   ]
  },
  {
   "cell_type": "code",
   "execution_count": null,
   "metadata": {},
   "outputs": [],
   "source": []
  }
 ],
 "metadata": {
  "kernelspec": {
   "display_name": "Python 3.10.11 ('exp_func')",
   "language": "python",
   "name": "python3"
  },
  "language_info": {
   "codemirror_mode": {
    "name": "ipython",
    "version": 3
   },
   "file_extension": ".py",
   "mimetype": "text/x-python",
   "name": "python",
   "nbconvert_exporter": "python",
   "pygments_lexer": "ipython3",
   "version": "3.10.11"
  },
  "orig_nbformat": 4,
  "vscode": {
   "interpreter": {
    "hash": "51ab48f99c10b131b06c2c5468102467b7e92e0ffbfd68ac19cda9304f04b617"
   }
  }
 },
 "nbformat": 4,
 "nbformat_minor": 2
}
