{
 "cells": [
  {
   "cell_type": "code",
   "execution_count": 1,
   "metadata": {},
   "outputs": [],
   "source": [
    "import pandas as pd\n",
    "import numpy as np\n",
    "import matplotlib.pyplot as plt"
   ]
  },
  {
   "cell_type": "code",
   "execution_count": 2,
   "metadata": {},
   "outputs": [],
   "source": [
    "ebird_data_135 = pd.read_csv('./ebird_data_135.csv')"
   ]
  },
  {
   "cell_type": "code",
   "execution_count": 4,
   "metadata": {},
   "outputs": [],
   "source": [
    "df_ebird_135_final = ebird_data_135.pivot_table(index=['AVIBASEID'], columns=['MONTH'], values='fractional_norm_count', aggfunc='sum')"
   ]
  },
  {
   "cell_type": "code",
   "execution_count": 5,
   "metadata": {},
   "outputs": [
    {
     "data": {
      "text/html": [
       "<div>\n",
       "<style scoped>\n",
       "    .dataframe tbody tr th:only-of-type {\n",
       "        vertical-align: middle;\n",
       "    }\n",
       "\n",
       "    .dataframe tbody tr th {\n",
       "        vertical-align: top;\n",
       "    }\n",
       "\n",
       "    .dataframe thead th {\n",
       "        text-align: right;\n",
       "    }\n",
       "</style>\n",
       "<table border=\"1\" class=\"dataframe\">\n",
       "  <thead>\n",
       "    <tr style=\"text-align: right;\">\n",
       "      <th>MONTH</th>\n",
       "      <th>1</th>\n",
       "      <th>2</th>\n",
       "      <th>3</th>\n",
       "      <th>4</th>\n",
       "      <th>5</th>\n",
       "      <th>6</th>\n",
       "      <th>7</th>\n",
       "      <th>8</th>\n",
       "      <th>9</th>\n",
       "      <th>10</th>\n",
       "      <th>11</th>\n",
       "      <th>12</th>\n",
       "    </tr>\n",
       "    <tr>\n",
       "      <th>AVIBASEID</th>\n",
       "      <th></th>\n",
       "      <th></th>\n",
       "      <th></th>\n",
       "      <th></th>\n",
       "      <th></th>\n",
       "      <th></th>\n",
       "      <th></th>\n",
       "      <th></th>\n",
       "      <th></th>\n",
       "      <th></th>\n",
       "      <th></th>\n",
       "      <th></th>\n",
       "    </tr>\n",
       "  </thead>\n",
       "  <tbody>\n",
       "    <tr>\n",
       "      <th>00124D98</th>\n",
       "      <td>0.107478</td>\n",
       "      <td>0.114974</td>\n",
       "      <td>0.079311</td>\n",
       "      <td>0.056969</td>\n",
       "      <td>0.049722</td>\n",
       "      <td>0.016776</td>\n",
       "      <td>0.024835</td>\n",
       "      <td>0.092066</td>\n",
       "      <td>0.180225</td>\n",
       "      <td>0.125314</td>\n",
       "      <td>0.063691</td>\n",
       "      <td>0.088639</td>\n",
       "    </tr>\n",
       "    <tr>\n",
       "      <th>01060BFD</th>\n",
       "      <td>0.039675</td>\n",
       "      <td>0.040806</td>\n",
       "      <td>0.013185</td>\n",
       "      <td>0.063235</td>\n",
       "      <td>0.003330</td>\n",
       "      <td>0.000137</td>\n",
       "      <td>0.046361</td>\n",
       "      <td>0.303887</td>\n",
       "      <td>0.314738</td>\n",
       "      <td>0.095122</td>\n",
       "      <td>0.050674</td>\n",
       "      <td>0.028851</td>\n",
       "    </tr>\n",
       "    <tr>\n",
       "      <th>018B3169</th>\n",
       "      <td>0.237519</td>\n",
       "      <td>0.304570</td>\n",
       "      <td>0.115802</td>\n",
       "      <td>0.041342</td>\n",
       "      <td>0.001775</td>\n",
       "      <td>0.000343</td>\n",
       "      <td>0.000244</td>\n",
       "      <td>0.001777</td>\n",
       "      <td>0.005741</td>\n",
       "      <td>0.055841</td>\n",
       "      <td>0.114796</td>\n",
       "      <td>0.120250</td>\n",
       "    </tr>\n",
       "    <tr>\n",
       "      <th>03AC32BA</th>\n",
       "      <td>0.167936</td>\n",
       "      <td>0.359255</td>\n",
       "      <td>0.081609</td>\n",
       "      <td>0.013187</td>\n",
       "      <td>0.001986</td>\n",
       "      <td>0.000508</td>\n",
       "      <td>0.001266</td>\n",
       "      <td>0.001909</td>\n",
       "      <td>0.007297</td>\n",
       "      <td>0.059247</td>\n",
       "      <td>0.109766</td>\n",
       "      <td>0.196035</td>\n",
       "    </tr>\n",
       "    <tr>\n",
       "      <th>0413ED30</th>\n",
       "      <td>0.051661</td>\n",
       "      <td>0.075763</td>\n",
       "      <td>0.045442</td>\n",
       "      <td>0.020449</td>\n",
       "      <td>0.000505</td>\n",
       "      <td>NaN</td>\n",
       "      <td>0.003707</td>\n",
       "      <td>0.088413</td>\n",
       "      <td>0.277268</td>\n",
       "      <td>0.245643</td>\n",
       "      <td>0.114520</td>\n",
       "      <td>0.076630</td>\n",
       "    </tr>\n",
       "    <tr>\n",
       "      <th>...</th>\n",
       "      <td>...</td>\n",
       "      <td>...</td>\n",
       "      <td>...</td>\n",
       "      <td>...</td>\n",
       "      <td>...</td>\n",
       "      <td>...</td>\n",
       "      <td>...</td>\n",
       "      <td>...</td>\n",
       "      <td>...</td>\n",
       "      <td>...</td>\n",
       "      <td>...</td>\n",
       "      <td>...</td>\n",
       "    </tr>\n",
       "    <tr>\n",
       "      <th>FC366114</th>\n",
       "      <td>0.134541</td>\n",
       "      <td>0.133108</td>\n",
       "      <td>0.103116</td>\n",
       "      <td>0.062517</td>\n",
       "      <td>0.029890</td>\n",
       "      <td>0.010911</td>\n",
       "      <td>0.014576</td>\n",
       "      <td>0.053594</td>\n",
       "      <td>0.184517</td>\n",
       "      <td>0.137562</td>\n",
       "      <td>0.057189</td>\n",
       "      <td>0.078480</td>\n",
       "    </tr>\n",
       "    <tr>\n",
       "      <th>FD2B0309</th>\n",
       "      <td>0.190501</td>\n",
       "      <td>0.035369</td>\n",
       "      <td>0.042008</td>\n",
       "      <td>0.044393</td>\n",
       "      <td>0.061618</td>\n",
       "      <td>0.022693</td>\n",
       "      <td>0.073774</td>\n",
       "      <td>0.133942</td>\n",
       "      <td>0.195460</td>\n",
       "      <td>0.097306</td>\n",
       "      <td>0.039567</td>\n",
       "      <td>0.063368</td>\n",
       "    </tr>\n",
       "    <tr>\n",
       "      <th>FED3756C</th>\n",
       "      <td>0.208153</td>\n",
       "      <td>0.218695</td>\n",
       "      <td>0.127838</td>\n",
       "      <td>0.071255</td>\n",
       "      <td>0.043723</td>\n",
       "      <td>0.015893</td>\n",
       "      <td>0.013131</td>\n",
       "      <td>0.023813</td>\n",
       "      <td>0.034037</td>\n",
       "      <td>0.069501</td>\n",
       "      <td>0.080277</td>\n",
       "      <td>0.093684</td>\n",
       "    </tr>\n",
       "    <tr>\n",
       "      <th>FF592882</th>\n",
       "      <td>0.068530</td>\n",
       "      <td>0.085170</td>\n",
       "      <td>0.067835</td>\n",
       "      <td>0.044278</td>\n",
       "      <td>0.036604</td>\n",
       "      <td>0.020879</td>\n",
       "      <td>0.027543</td>\n",
       "      <td>0.091268</td>\n",
       "      <td>0.260738</td>\n",
       "      <td>0.179737</td>\n",
       "      <td>0.060350</td>\n",
       "      <td>0.057067</td>\n",
       "    </tr>\n",
       "    <tr>\n",
       "      <th>FFF61080</th>\n",
       "      <td>0.026268</td>\n",
       "      <td>0.027070</td>\n",
       "      <td>0.123804</td>\n",
       "      <td>0.247085</td>\n",
       "      <td>0.093936</td>\n",
       "      <td>0.029329</td>\n",
       "      <td>0.016911</td>\n",
       "      <td>0.056212</td>\n",
       "      <td>0.232313</td>\n",
       "      <td>0.095985</td>\n",
       "      <td>0.026165</td>\n",
       "      <td>0.024922</td>\n",
       "    </tr>\n",
       "  </tbody>\n",
       "</table>\n",
       "<p>135 rows × 12 columns</p>\n",
       "</div>"
      ],
      "text/plain": [
       "MONTH            1         2         3         4         5         6   \\\n",
       "AVIBASEID                                                               \n",
       "00124D98   0.107478  0.114974  0.079311  0.056969  0.049722  0.016776   \n",
       "01060BFD   0.039675  0.040806  0.013185  0.063235  0.003330  0.000137   \n",
       "018B3169   0.237519  0.304570  0.115802  0.041342  0.001775  0.000343   \n",
       "03AC32BA   0.167936  0.359255  0.081609  0.013187  0.001986  0.000508   \n",
       "0413ED30   0.051661  0.075763  0.045442  0.020449  0.000505       NaN   \n",
       "...             ...       ...       ...       ...       ...       ...   \n",
       "FC366114   0.134541  0.133108  0.103116  0.062517  0.029890  0.010911   \n",
       "FD2B0309   0.190501  0.035369  0.042008  0.044393  0.061618  0.022693   \n",
       "FED3756C   0.208153  0.218695  0.127838  0.071255  0.043723  0.015893   \n",
       "FF592882   0.068530  0.085170  0.067835  0.044278  0.036604  0.020879   \n",
       "FFF61080   0.026268  0.027070  0.123804  0.247085  0.093936  0.029329   \n",
       "\n",
       "MONTH            7         8         9         10        11        12  \n",
       "AVIBASEID                                                              \n",
       "00124D98   0.024835  0.092066  0.180225  0.125314  0.063691  0.088639  \n",
       "01060BFD   0.046361  0.303887  0.314738  0.095122  0.050674  0.028851  \n",
       "018B3169   0.000244  0.001777  0.005741  0.055841  0.114796  0.120250  \n",
       "03AC32BA   0.001266  0.001909  0.007297  0.059247  0.109766  0.196035  \n",
       "0413ED30   0.003707  0.088413  0.277268  0.245643  0.114520  0.076630  \n",
       "...             ...       ...       ...       ...       ...       ...  \n",
       "FC366114   0.014576  0.053594  0.184517  0.137562  0.057189  0.078480  \n",
       "FD2B0309   0.073774  0.133942  0.195460  0.097306  0.039567  0.063368  \n",
       "FED3756C   0.013131  0.023813  0.034037  0.069501  0.080277  0.093684  \n",
       "FF592882   0.027543  0.091268  0.260738  0.179737  0.060350  0.057067  \n",
       "FFF61080   0.016911  0.056212  0.232313  0.095985  0.026165  0.024922  \n",
       "\n",
       "[135 rows x 12 columns]"
      ]
     },
     "execution_count": 5,
     "metadata": {},
     "output_type": "execute_result"
    }
   ],
   "source": [
    "df_ebird_135_final"
   ]
  },
  {
   "cell_type": "code",
   "execution_count": 6,
   "metadata": {},
   "outputs": [],
   "source": [
    "df_ebird_135_final.fillna(0, inplace=True)"
   ]
  },
  {
   "cell_type": "code",
   "execution_count": 22,
   "metadata": {},
   "outputs": [],
   "source": [
    "df_ebird_135_final.sort_index(inplace=True)"
   ]
  },
  {
   "cell_type": "code",
   "execution_count": 23,
   "metadata": {},
   "outputs": [
    {
     "data": {
      "text/html": [
       "<div>\n",
       "<style scoped>\n",
       "    .dataframe tbody tr th:only-of-type {\n",
       "        vertical-align: middle;\n",
       "    }\n",
       "\n",
       "    .dataframe tbody tr th {\n",
       "        vertical-align: top;\n",
       "    }\n",
       "\n",
       "    .dataframe thead th {\n",
       "        text-align: right;\n",
       "    }\n",
       "</style>\n",
       "<table border=\"1\" class=\"dataframe\">\n",
       "  <thead>\n",
       "    <tr style=\"text-align: right;\">\n",
       "      <th>MONTH</th>\n",
       "      <th>1</th>\n",
       "      <th>2</th>\n",
       "      <th>3</th>\n",
       "      <th>4</th>\n",
       "      <th>5</th>\n",
       "      <th>6</th>\n",
       "      <th>7</th>\n",
       "      <th>8</th>\n",
       "      <th>9</th>\n",
       "      <th>10</th>\n",
       "      <th>11</th>\n",
       "      <th>12</th>\n",
       "    </tr>\n",
       "    <tr>\n",
       "      <th>AVIBASEID</th>\n",
       "      <th></th>\n",
       "      <th></th>\n",
       "      <th></th>\n",
       "      <th></th>\n",
       "      <th></th>\n",
       "      <th></th>\n",
       "      <th></th>\n",
       "      <th></th>\n",
       "      <th></th>\n",
       "      <th></th>\n",
       "      <th></th>\n",
       "      <th></th>\n",
       "    </tr>\n",
       "  </thead>\n",
       "  <tbody>\n",
       "    <tr>\n",
       "      <th>00124D98</th>\n",
       "      <td>0.107478</td>\n",
       "      <td>0.114974</td>\n",
       "      <td>0.079311</td>\n",
       "      <td>0.056969</td>\n",
       "      <td>0.049722</td>\n",
       "      <td>0.016776</td>\n",
       "      <td>0.024835</td>\n",
       "      <td>0.092066</td>\n",
       "      <td>0.180225</td>\n",
       "      <td>0.125314</td>\n",
       "      <td>0.063691</td>\n",
       "      <td>0.088639</td>\n",
       "    </tr>\n",
       "    <tr>\n",
       "      <th>01060BFD</th>\n",
       "      <td>0.039675</td>\n",
       "      <td>0.040806</td>\n",
       "      <td>0.013185</td>\n",
       "      <td>0.063235</td>\n",
       "      <td>0.003330</td>\n",
       "      <td>0.000137</td>\n",
       "      <td>0.046361</td>\n",
       "      <td>0.303887</td>\n",
       "      <td>0.314738</td>\n",
       "      <td>0.095122</td>\n",
       "      <td>0.050674</td>\n",
       "      <td>0.028851</td>\n",
       "    </tr>\n",
       "    <tr>\n",
       "      <th>018B3169</th>\n",
       "      <td>0.237519</td>\n",
       "      <td>0.304570</td>\n",
       "      <td>0.115802</td>\n",
       "      <td>0.041342</td>\n",
       "      <td>0.001775</td>\n",
       "      <td>0.000343</td>\n",
       "      <td>0.000244</td>\n",
       "      <td>0.001777</td>\n",
       "      <td>0.005741</td>\n",
       "      <td>0.055841</td>\n",
       "      <td>0.114796</td>\n",
       "      <td>0.120250</td>\n",
       "    </tr>\n",
       "    <tr>\n",
       "      <th>03AC32BA</th>\n",
       "      <td>0.167936</td>\n",
       "      <td>0.359255</td>\n",
       "      <td>0.081609</td>\n",
       "      <td>0.013187</td>\n",
       "      <td>0.001986</td>\n",
       "      <td>0.000508</td>\n",
       "      <td>0.001266</td>\n",
       "      <td>0.001909</td>\n",
       "      <td>0.007297</td>\n",
       "      <td>0.059247</td>\n",
       "      <td>0.109766</td>\n",
       "      <td>0.196035</td>\n",
       "    </tr>\n",
       "    <tr>\n",
       "      <th>0413ED30</th>\n",
       "      <td>0.051661</td>\n",
       "      <td>0.075763</td>\n",
       "      <td>0.045442</td>\n",
       "      <td>0.020449</td>\n",
       "      <td>0.000505</td>\n",
       "      <td>0.000000</td>\n",
       "      <td>0.003707</td>\n",
       "      <td>0.088413</td>\n",
       "      <td>0.277268</td>\n",
       "      <td>0.245643</td>\n",
       "      <td>0.114520</td>\n",
       "      <td>0.076630</td>\n",
       "    </tr>\n",
       "    <tr>\n",
       "      <th>...</th>\n",
       "      <td>...</td>\n",
       "      <td>...</td>\n",
       "      <td>...</td>\n",
       "      <td>...</td>\n",
       "      <td>...</td>\n",
       "      <td>...</td>\n",
       "      <td>...</td>\n",
       "      <td>...</td>\n",
       "      <td>...</td>\n",
       "      <td>...</td>\n",
       "      <td>...</td>\n",
       "      <td>...</td>\n",
       "    </tr>\n",
       "    <tr>\n",
       "      <th>FC366114</th>\n",
       "      <td>0.134541</td>\n",
       "      <td>0.133108</td>\n",
       "      <td>0.103116</td>\n",
       "      <td>0.062517</td>\n",
       "      <td>0.029890</td>\n",
       "      <td>0.010911</td>\n",
       "      <td>0.014576</td>\n",
       "      <td>0.053594</td>\n",
       "      <td>0.184517</td>\n",
       "      <td>0.137562</td>\n",
       "      <td>0.057189</td>\n",
       "      <td>0.078480</td>\n",
       "    </tr>\n",
       "    <tr>\n",
       "      <th>FD2B0309</th>\n",
       "      <td>0.190501</td>\n",
       "      <td>0.035369</td>\n",
       "      <td>0.042008</td>\n",
       "      <td>0.044393</td>\n",
       "      <td>0.061618</td>\n",
       "      <td>0.022693</td>\n",
       "      <td>0.073774</td>\n",
       "      <td>0.133942</td>\n",
       "      <td>0.195460</td>\n",
       "      <td>0.097306</td>\n",
       "      <td>0.039567</td>\n",
       "      <td>0.063368</td>\n",
       "    </tr>\n",
       "    <tr>\n",
       "      <th>FED3756C</th>\n",
       "      <td>0.208153</td>\n",
       "      <td>0.218695</td>\n",
       "      <td>0.127838</td>\n",
       "      <td>0.071255</td>\n",
       "      <td>0.043723</td>\n",
       "      <td>0.015893</td>\n",
       "      <td>0.013131</td>\n",
       "      <td>0.023813</td>\n",
       "      <td>0.034037</td>\n",
       "      <td>0.069501</td>\n",
       "      <td>0.080277</td>\n",
       "      <td>0.093684</td>\n",
       "    </tr>\n",
       "    <tr>\n",
       "      <th>FF592882</th>\n",
       "      <td>0.068530</td>\n",
       "      <td>0.085170</td>\n",
       "      <td>0.067835</td>\n",
       "      <td>0.044278</td>\n",
       "      <td>0.036604</td>\n",
       "      <td>0.020879</td>\n",
       "      <td>0.027543</td>\n",
       "      <td>0.091268</td>\n",
       "      <td>0.260738</td>\n",
       "      <td>0.179737</td>\n",
       "      <td>0.060350</td>\n",
       "      <td>0.057067</td>\n",
       "    </tr>\n",
       "    <tr>\n",
       "      <th>FFF61080</th>\n",
       "      <td>0.026268</td>\n",
       "      <td>0.027070</td>\n",
       "      <td>0.123804</td>\n",
       "      <td>0.247085</td>\n",
       "      <td>0.093936</td>\n",
       "      <td>0.029329</td>\n",
       "      <td>0.016911</td>\n",
       "      <td>0.056212</td>\n",
       "      <td>0.232313</td>\n",
       "      <td>0.095985</td>\n",
       "      <td>0.026165</td>\n",
       "      <td>0.024922</td>\n",
       "    </tr>\n",
       "  </tbody>\n",
       "</table>\n",
       "<p>135 rows × 12 columns</p>\n",
       "</div>"
      ],
      "text/plain": [
       "MONTH            1         2         3         4         5         6   \\\n",
       "AVIBASEID                                                               \n",
       "00124D98   0.107478  0.114974  0.079311  0.056969  0.049722  0.016776   \n",
       "01060BFD   0.039675  0.040806  0.013185  0.063235  0.003330  0.000137   \n",
       "018B3169   0.237519  0.304570  0.115802  0.041342  0.001775  0.000343   \n",
       "03AC32BA   0.167936  0.359255  0.081609  0.013187  0.001986  0.000508   \n",
       "0413ED30   0.051661  0.075763  0.045442  0.020449  0.000505  0.000000   \n",
       "...             ...       ...       ...       ...       ...       ...   \n",
       "FC366114   0.134541  0.133108  0.103116  0.062517  0.029890  0.010911   \n",
       "FD2B0309   0.190501  0.035369  0.042008  0.044393  0.061618  0.022693   \n",
       "FED3756C   0.208153  0.218695  0.127838  0.071255  0.043723  0.015893   \n",
       "FF592882   0.068530  0.085170  0.067835  0.044278  0.036604  0.020879   \n",
       "FFF61080   0.026268  0.027070  0.123804  0.247085  0.093936  0.029329   \n",
       "\n",
       "MONTH            7         8         9         10        11        12  \n",
       "AVIBASEID                                                              \n",
       "00124D98   0.024835  0.092066  0.180225  0.125314  0.063691  0.088639  \n",
       "01060BFD   0.046361  0.303887  0.314738  0.095122  0.050674  0.028851  \n",
       "018B3169   0.000244  0.001777  0.005741  0.055841  0.114796  0.120250  \n",
       "03AC32BA   0.001266  0.001909  0.007297  0.059247  0.109766  0.196035  \n",
       "0413ED30   0.003707  0.088413  0.277268  0.245643  0.114520  0.076630  \n",
       "...             ...       ...       ...       ...       ...       ...  \n",
       "FC366114   0.014576  0.053594  0.184517  0.137562  0.057189  0.078480  \n",
       "FD2B0309   0.073774  0.133942  0.195460  0.097306  0.039567  0.063368  \n",
       "FED3756C   0.013131  0.023813  0.034037  0.069501  0.080277  0.093684  \n",
       "FF592882   0.027543  0.091268  0.260738  0.179737  0.060350  0.057067  \n",
       "FFF61080   0.016911  0.056212  0.232313  0.095985  0.026165  0.024922  \n",
       "\n",
       "[135 rows x 12 columns]"
      ]
     },
     "execution_count": 23,
     "metadata": {},
     "output_type": "execute_result"
    }
   ],
   "source": [
    "df_ebird_135_final"
   ]
  },
  {
   "cell_type": "code",
   "execution_count": 24,
   "metadata": {},
   "outputs": [],
   "source": [
    "df_iNat_birds = pd.read_csv('./iNat_bird_counts_MoM.csv')"
   ]
  },
  {
   "cell_type": "code",
   "execution_count": 25,
   "metadata": {},
   "outputs": [],
   "source": [
    "df_iNat_birds = df_iNat_birds[df_iNat_birds['aviID_short'].isin(df_ebird_135_final.index)].copy()"
   ]
  },
  {
   "cell_type": "code",
   "execution_count": 27,
   "metadata": {},
   "outputs": [],
   "source": [
    "df_iNat_birds.set_index('aviID_short', inplace=True)"
   ]
  },
  {
   "cell_type": "code",
   "execution_count": 30,
   "metadata": {},
   "outputs": [],
   "source": [
    "df_iNat_birds.drop(columns=[\"Unnamed: 0\"], inplace=True)"
   ]
  },
  {
   "cell_type": "code",
   "execution_count": 32,
   "metadata": {},
   "outputs": [],
   "source": [
    "df_iNat_birds.sort_index(inplace=True)"
   ]
  },
  {
   "cell_type": "code",
   "execution_count": 33,
   "metadata": {},
   "outputs": [
    {
     "data": {
      "text/html": [
       "<div>\n",
       "<style scoped>\n",
       "    .dataframe tbody tr th:only-of-type {\n",
       "        vertical-align: middle;\n",
       "    }\n",
       "\n",
       "    .dataframe tbody tr th {\n",
       "        vertical-align: top;\n",
       "    }\n",
       "\n",
       "    .dataframe thead th {\n",
       "        text-align: right;\n",
       "    }\n",
       "</style>\n",
       "<table border=\"1\" class=\"dataframe\">\n",
       "  <thead>\n",
       "    <tr style=\"text-align: right;\">\n",
       "      <th></th>\n",
       "      <th>month-0</th>\n",
       "      <th>month-1</th>\n",
       "      <th>month-2</th>\n",
       "      <th>month-3</th>\n",
       "      <th>month-4</th>\n",
       "      <th>month-5</th>\n",
       "      <th>month-6</th>\n",
       "      <th>month-7</th>\n",
       "      <th>month-8</th>\n",
       "      <th>month-9</th>\n",
       "      <th>month-10</th>\n",
       "      <th>month-11</th>\n",
       "    </tr>\n",
       "    <tr>\n",
       "      <th>aviID_short</th>\n",
       "      <th></th>\n",
       "      <th></th>\n",
       "      <th></th>\n",
       "      <th></th>\n",
       "      <th></th>\n",
       "      <th></th>\n",
       "      <th></th>\n",
       "      <th></th>\n",
       "      <th></th>\n",
       "      <th></th>\n",
       "      <th></th>\n",
       "      <th></th>\n",
       "    </tr>\n",
       "  </thead>\n",
       "  <tbody>\n",
       "    <tr>\n",
       "      <th>00124D98</th>\n",
       "      <td>38</td>\n",
       "      <td>15</td>\n",
       "      <td>51</td>\n",
       "      <td>103</td>\n",
       "      <td>89</td>\n",
       "      <td>67</td>\n",
       "      <td>42</td>\n",
       "      <td>62</td>\n",
       "      <td>44</td>\n",
       "      <td>35</td>\n",
       "      <td>31</td>\n",
       "      <td>29</td>\n",
       "    </tr>\n",
       "    <tr>\n",
       "      <th>01060BFD</th>\n",
       "      <td>15</td>\n",
       "      <td>8</td>\n",
       "      <td>4</td>\n",
       "      <td>23</td>\n",
       "      <td>2</td>\n",
       "      <td>2</td>\n",
       "      <td>60</td>\n",
       "      <td>20</td>\n",
       "      <td>36</td>\n",
       "      <td>13</td>\n",
       "      <td>29</td>\n",
       "      <td>6</td>\n",
       "    </tr>\n",
       "    <tr>\n",
       "      <th>018B3169</th>\n",
       "      <td>23</td>\n",
       "      <td>13</td>\n",
       "      <td>21</td>\n",
       "      <td>10</td>\n",
       "      <td>2</td>\n",
       "      <td>3</td>\n",
       "      <td>1</td>\n",
       "      <td>4</td>\n",
       "      <td>3</td>\n",
       "      <td>3</td>\n",
       "      <td>16</td>\n",
       "      <td>20</td>\n",
       "    </tr>\n",
       "    <tr>\n",
       "      <th>03AC32BA</th>\n",
       "      <td>13</td>\n",
       "      <td>14</td>\n",
       "      <td>17</td>\n",
       "      <td>14</td>\n",
       "      <td>3</td>\n",
       "      <td>3</td>\n",
       "      <td>5</td>\n",
       "      <td>1</td>\n",
       "      <td>2</td>\n",
       "      <td>7</td>\n",
       "      <td>13</td>\n",
       "      <td>20</td>\n",
       "    </tr>\n",
       "    <tr>\n",
       "      <th>0413ED30</th>\n",
       "      <td>12</td>\n",
       "      <td>18</td>\n",
       "      <td>14</td>\n",
       "      <td>15</td>\n",
       "      <td>1</td>\n",
       "      <td>0</td>\n",
       "      <td>3</td>\n",
       "      <td>31</td>\n",
       "      <td>29</td>\n",
       "      <td>23</td>\n",
       "      <td>16</td>\n",
       "      <td>19</td>\n",
       "    </tr>\n",
       "    <tr>\n",
       "      <th>...</th>\n",
       "      <td>...</td>\n",
       "      <td>...</td>\n",
       "      <td>...</td>\n",
       "      <td>...</td>\n",
       "      <td>...</td>\n",
       "      <td>...</td>\n",
       "      <td>...</td>\n",
       "      <td>...</td>\n",
       "      <td>...</td>\n",
       "      <td>...</td>\n",
       "      <td>...</td>\n",
       "      <td>...</td>\n",
       "    </tr>\n",
       "    <tr>\n",
       "      <th>FC366114</th>\n",
       "      <td>27</td>\n",
       "      <td>20</td>\n",
       "      <td>30</td>\n",
       "      <td>32</td>\n",
       "      <td>23</td>\n",
       "      <td>27</td>\n",
       "      <td>24</td>\n",
       "      <td>41</td>\n",
       "      <td>35</td>\n",
       "      <td>18</td>\n",
       "      <td>14</td>\n",
       "      <td>13</td>\n",
       "    </tr>\n",
       "    <tr>\n",
       "      <th>FD2B0309</th>\n",
       "      <td>20</td>\n",
       "      <td>6</td>\n",
       "      <td>11</td>\n",
       "      <td>5</td>\n",
       "      <td>10</td>\n",
       "      <td>34</td>\n",
       "      <td>29</td>\n",
       "      <td>42</td>\n",
       "      <td>32</td>\n",
       "      <td>25</td>\n",
       "      <td>19</td>\n",
       "      <td>14</td>\n",
       "    </tr>\n",
       "    <tr>\n",
       "      <th>FED3756C</th>\n",
       "      <td>34</td>\n",
       "      <td>28</td>\n",
       "      <td>24</td>\n",
       "      <td>32</td>\n",
       "      <td>17</td>\n",
       "      <td>22</td>\n",
       "      <td>20</td>\n",
       "      <td>11</td>\n",
       "      <td>8</td>\n",
       "      <td>26</td>\n",
       "      <td>27</td>\n",
       "      <td>25</td>\n",
       "    </tr>\n",
       "    <tr>\n",
       "      <th>FF592882</th>\n",
       "      <td>29</td>\n",
       "      <td>40</td>\n",
       "      <td>55</td>\n",
       "      <td>38</td>\n",
       "      <td>58</td>\n",
       "      <td>53</td>\n",
       "      <td>31</td>\n",
       "      <td>40</td>\n",
       "      <td>56</td>\n",
       "      <td>42</td>\n",
       "      <td>30</td>\n",
       "      <td>35</td>\n",
       "    </tr>\n",
       "    <tr>\n",
       "      <th>FFF61080</th>\n",
       "      <td>10</td>\n",
       "      <td>8</td>\n",
       "      <td>19</td>\n",
       "      <td>28</td>\n",
       "      <td>9</td>\n",
       "      <td>13</td>\n",
       "      <td>14</td>\n",
       "      <td>11</td>\n",
       "      <td>21</td>\n",
       "      <td>15</td>\n",
       "      <td>7</td>\n",
       "      <td>12</td>\n",
       "    </tr>\n",
       "  </tbody>\n",
       "</table>\n",
       "<p>135 rows × 12 columns</p>\n",
       "</div>"
      ],
      "text/plain": [
       "             month-0  month-1  month-2  month-3  month-4  month-5  month-6  \\\n",
       "aviID_short                                                                  \n",
       "00124D98          38       15       51      103       89       67       42   \n",
       "01060BFD          15        8        4       23        2        2       60   \n",
       "018B3169          23       13       21       10        2        3        1   \n",
       "03AC32BA          13       14       17       14        3        3        5   \n",
       "0413ED30          12       18       14       15        1        0        3   \n",
       "...              ...      ...      ...      ...      ...      ...      ...   \n",
       "FC366114          27       20       30       32       23       27       24   \n",
       "FD2B0309          20        6       11        5       10       34       29   \n",
       "FED3756C          34       28       24       32       17       22       20   \n",
       "FF592882          29       40       55       38       58       53       31   \n",
       "FFF61080          10        8       19       28        9       13       14   \n",
       "\n",
       "             month-7  month-8  month-9  month-10  month-11  \n",
       "aviID_short                                                 \n",
       "00124D98          62       44       35        31        29  \n",
       "01060BFD          20       36       13        29         6  \n",
       "018B3169           4        3        3        16        20  \n",
       "03AC32BA           1        2        7        13        20  \n",
       "0413ED30          31       29       23        16        19  \n",
       "...              ...      ...      ...       ...       ...  \n",
       "FC366114          41       35       18        14        13  \n",
       "FD2B0309          42       32       25        19        14  \n",
       "FED3756C          11        8       26        27        25  \n",
       "FF592882          40       56       42        30        35  \n",
       "FFF61080          11       21       15         7        12  \n",
       "\n",
       "[135 rows x 12 columns]"
      ]
     },
     "execution_count": 33,
     "metadata": {},
     "output_type": "execute_result"
    }
   ],
   "source": [
    "df_iNat_birds"
   ]
  },
  {
   "cell_type": "code",
   "execution_count": 34,
   "metadata": {},
   "outputs": [],
   "source": [
    "iNat_obs_counts_agg_MoM = np.sum(df_iNat_birds.values , axis=0)"
   ]
  },
  {
   "cell_type": "code",
   "execution_count": 35,
   "metadata": {},
   "outputs": [
    {
     "data": {
      "text/plain": [
       "array([4933, 3987, 5597, 6389, 4448, 4386, 3857, 4146, 4670, 5381, 5764,\n",
       "       5262])"
      ]
     },
     "execution_count": 35,
     "metadata": {},
     "output_type": "execute_result"
    }
   ],
   "source": [
    "iNat_obs_counts_agg_MoM"
   ]
  },
  {
   "cell_type": "code",
   "execution_count": 36,
   "metadata": {},
   "outputs": [],
   "source": [
    "df_iNat_birds_2 = df_iNat_birds.copy()"
   ]
  },
  {
   "cell_type": "code",
   "execution_count": 38,
   "metadata": {},
   "outputs": [],
   "source": [
    "df_iNat_birds_2 = df_iNat_birds_2/iNat_obs_counts_agg_MoM"
   ]
  },
  {
   "cell_type": "code",
   "execution_count": 99,
   "metadata": {},
   "outputs": [
    {
     "data": {
      "text/html": [
       "<div>\n",
       "<style scoped>\n",
       "    .dataframe tbody tr th:only-of-type {\n",
       "        vertical-align: middle;\n",
       "    }\n",
       "\n",
       "    .dataframe tbody tr th {\n",
       "        vertical-align: top;\n",
       "    }\n",
       "\n",
       "    .dataframe thead th {\n",
       "        text-align: right;\n",
       "    }\n",
       "</style>\n",
       "<table border=\"1\" class=\"dataframe\">\n",
       "  <thead>\n",
       "    <tr style=\"text-align: right;\">\n",
       "      <th></th>\n",
       "      <th>month-0</th>\n",
       "      <th>month-1</th>\n",
       "      <th>month-2</th>\n",
       "      <th>month-3</th>\n",
       "      <th>month-4</th>\n",
       "      <th>month-5</th>\n",
       "      <th>month-6</th>\n",
       "      <th>month-7</th>\n",
       "      <th>month-8</th>\n",
       "      <th>month-9</th>\n",
       "      <th>month-10</th>\n",
       "      <th>month-11</th>\n",
       "    </tr>\n",
       "    <tr>\n",
       "      <th>aviID_short</th>\n",
       "      <th></th>\n",
       "      <th></th>\n",
       "      <th></th>\n",
       "      <th></th>\n",
       "      <th></th>\n",
       "      <th></th>\n",
       "      <th></th>\n",
       "      <th></th>\n",
       "      <th></th>\n",
       "      <th></th>\n",
       "      <th></th>\n",
       "      <th></th>\n",
       "    </tr>\n",
       "  </thead>\n",
       "  <tbody>\n",
       "    <tr>\n",
       "      <th>00124D98</th>\n",
       "      <td>0.061802</td>\n",
       "      <td>0.030184</td>\n",
       "      <td>0.073105</td>\n",
       "      <td>0.129341</td>\n",
       "      <td>0.160531</td>\n",
       "      <td>0.122557</td>\n",
       "      <td>0.087364</td>\n",
       "      <td>0.119976</td>\n",
       "      <td>0.075591</td>\n",
       "      <td>0.052184</td>\n",
       "      <td>0.043149</td>\n",
       "      <td>0.044216</td>\n",
       "    </tr>\n",
       "    <tr>\n",
       "      <th>01060BFD</th>\n",
       "      <td>0.064774</td>\n",
       "      <td>0.042743</td>\n",
       "      <td>0.015224</td>\n",
       "      <td>0.076686</td>\n",
       "      <td>0.009578</td>\n",
       "      <td>0.009714</td>\n",
       "      <td>0.331378</td>\n",
       "      <td>0.102760</td>\n",
       "      <td>0.164213</td>\n",
       "      <td>0.051464</td>\n",
       "      <td>0.107176</td>\n",
       "      <td>0.024290</td>\n",
       "    </tr>\n",
       "    <tr>\n",
       "      <th>018B3169</th>\n",
       "      <td>0.199468</td>\n",
       "      <td>0.139493</td>\n",
       "      <td>0.160517</td>\n",
       "      <td>0.066961</td>\n",
       "      <td>0.019236</td>\n",
       "      <td>0.029262</td>\n",
       "      <td>0.011092</td>\n",
       "      <td>0.041275</td>\n",
       "      <td>0.027483</td>\n",
       "      <td>0.023851</td>\n",
       "      <td>0.118755</td>\n",
       "      <td>0.162606</td>\n",
       "    </tr>\n",
       "    <tr>\n",
       "      <th>03AC32BA</th>\n",
       "      <td>0.119479</td>\n",
       "      <td>0.159199</td>\n",
       "      <td>0.137706</td>\n",
       "      <td>0.099347</td>\n",
       "      <td>0.030579</td>\n",
       "      <td>0.031011</td>\n",
       "      <td>0.058773</td>\n",
       "      <td>0.010935</td>\n",
       "      <td>0.019417</td>\n",
       "      <td>0.058979</td>\n",
       "      <td>0.102254</td>\n",
       "      <td>0.172321</td>\n",
       "    </tr>\n",
       "    <tr>\n",
       "      <th>0413ED30</th>\n",
       "      <td>0.065486</td>\n",
       "      <td>0.121536</td>\n",
       "      <td>0.067336</td>\n",
       "      <td>0.063203</td>\n",
       "      <td>0.006052</td>\n",
       "      <td>0.000000</td>\n",
       "      <td>0.020939</td>\n",
       "      <td>0.201284</td>\n",
       "      <td>0.167170</td>\n",
       "      <td>0.115065</td>\n",
       "      <td>0.074726</td>\n",
       "      <td>0.097203</td>\n",
       "    </tr>\n",
       "    <tr>\n",
       "      <th>...</th>\n",
       "      <td>...</td>\n",
       "      <td>...</td>\n",
       "      <td>...</td>\n",
       "      <td>...</td>\n",
       "      <td>...</td>\n",
       "      <td>...</td>\n",
       "      <td>...</td>\n",
       "      <td>...</td>\n",
       "      <td>...</td>\n",
       "      <td>...</td>\n",
       "      <td>...</td>\n",
       "      <td>...</td>\n",
       "    </tr>\n",
       "    <tr>\n",
       "      <th>FC366114</th>\n",
       "      <td>0.085473</td>\n",
       "      <td>0.078336</td>\n",
       "      <td>0.083703</td>\n",
       "      <td>0.078216</td>\n",
       "      <td>0.080750</td>\n",
       "      <td>0.096133</td>\n",
       "      <td>0.097172</td>\n",
       "      <td>0.154430</td>\n",
       "      <td>0.117038</td>\n",
       "      <td>0.052238</td>\n",
       "      <td>0.037930</td>\n",
       "      <td>0.038581</td>\n",
       "    </tr>\n",
       "    <tr>\n",
       "      <th>FD2B0309</th>\n",
       "      <td>0.075907</td>\n",
       "      <td>0.028175</td>\n",
       "      <td>0.036796</td>\n",
       "      <td>0.014652</td>\n",
       "      <td>0.042092</td>\n",
       "      <td>0.145136</td>\n",
       "      <td>0.140771</td>\n",
       "      <td>0.189664</td>\n",
       "      <td>0.128292</td>\n",
       "      <td>0.086985</td>\n",
       "      <td>0.061716</td>\n",
       "      <td>0.049813</td>\n",
       "    </tr>\n",
       "    <tr>\n",
       "      <th>FED3756C</th>\n",
       "      <td>0.123368</td>\n",
       "      <td>0.125703</td>\n",
       "      <td>0.076752</td>\n",
       "      <td>0.089650</td>\n",
       "      <td>0.068410</td>\n",
       "      <td>0.089782</td>\n",
       "      <td>0.092814</td>\n",
       "      <td>0.047489</td>\n",
       "      <td>0.030662</td>\n",
       "      <td>0.086486</td>\n",
       "      <td>0.083844</td>\n",
       "      <td>0.085040</td>\n",
       "    </tr>\n",
       "    <tr>\n",
       "      <th>FF592882</th>\n",
       "      <td>0.055383</td>\n",
       "      <td>0.094516</td>\n",
       "      <td>0.092576</td>\n",
       "      <td>0.056033</td>\n",
       "      <td>0.122844</td>\n",
       "      <td>0.113841</td>\n",
       "      <td>0.075719</td>\n",
       "      <td>0.090891</td>\n",
       "      <td>0.112970</td>\n",
       "      <td>0.073532</td>\n",
       "      <td>0.049033</td>\n",
       "      <td>0.062663</td>\n",
       "    </tr>\n",
       "    <tr>\n",
       "      <th>FFF61080</th>\n",
       "      <td>0.059868</td>\n",
       "      <td>0.059258</td>\n",
       "      <td>0.100255</td>\n",
       "      <td>0.129429</td>\n",
       "      <td>0.059756</td>\n",
       "      <td>0.087535</td>\n",
       "      <td>0.107198</td>\n",
       "      <td>0.078356</td>\n",
       "      <td>0.132803</td>\n",
       "      <td>0.082326</td>\n",
       "      <td>0.035866</td>\n",
       "      <td>0.067350</td>\n",
       "    </tr>\n",
       "  </tbody>\n",
       "</table>\n",
       "<p>135 rows × 12 columns</p>\n",
       "</div>"
      ],
      "text/plain": [
       "              month-0   month-1   month-2   month-3   month-4   month-5  \\\n",
       "aviID_short                                                               \n",
       "00124D98     0.061802  0.030184  0.073105  0.129341  0.160531  0.122557   \n",
       "01060BFD     0.064774  0.042743  0.015224  0.076686  0.009578  0.009714   \n",
       "018B3169     0.199468  0.139493  0.160517  0.066961  0.019236  0.029262   \n",
       "03AC32BA     0.119479  0.159199  0.137706  0.099347  0.030579  0.031011   \n",
       "0413ED30     0.065486  0.121536  0.067336  0.063203  0.006052  0.000000   \n",
       "...               ...       ...       ...       ...       ...       ...   \n",
       "FC366114     0.085473  0.078336  0.083703  0.078216  0.080750  0.096133   \n",
       "FD2B0309     0.075907  0.028175  0.036796  0.014652  0.042092  0.145136   \n",
       "FED3756C     0.123368  0.125703  0.076752  0.089650  0.068410  0.089782   \n",
       "FF592882     0.055383  0.094516  0.092576  0.056033  0.122844  0.113841   \n",
       "FFF61080     0.059868  0.059258  0.100255  0.129429  0.059756  0.087535   \n",
       "\n",
       "              month-6   month-7   month-8   month-9  month-10  month-11  \n",
       "aviID_short                                                              \n",
       "00124D98     0.087364  0.119976  0.075591  0.052184  0.043149  0.044216  \n",
       "01060BFD     0.331378  0.102760  0.164213  0.051464  0.107176  0.024290  \n",
       "018B3169     0.011092  0.041275  0.027483  0.023851  0.118755  0.162606  \n",
       "03AC32BA     0.058773  0.010935  0.019417  0.058979  0.102254  0.172321  \n",
       "0413ED30     0.020939  0.201284  0.167170  0.115065  0.074726  0.097203  \n",
       "...               ...       ...       ...       ...       ...       ...  \n",
       "FC366114     0.097172  0.154430  0.117038  0.052238  0.037930  0.038581  \n",
       "FD2B0309     0.140771  0.189664  0.128292  0.086985  0.061716  0.049813  \n",
       "FED3756C     0.092814  0.047489  0.030662  0.086486  0.083844  0.085040  \n",
       "FF592882     0.075719  0.090891  0.112970  0.073532  0.049033  0.062663  \n",
       "FFF61080     0.107198  0.078356  0.132803  0.082326  0.035866  0.067350  \n",
       "\n",
       "[135 rows x 12 columns]"
      ]
     },
     "execution_count": 99,
     "metadata": {},
     "output_type": "execute_result"
    }
   ],
   "source": [
    "df_iNat_birds_2"
   ]
  },
  {
   "cell_type": "code",
   "execution_count": 40,
   "metadata": {},
   "outputs": [],
   "source": [
    "birds_total_counts = np.sum(df_iNat_birds_2.values, axis=1)"
   ]
  },
  {
   "cell_type": "code",
   "execution_count": 42,
   "metadata": {},
   "outputs": [
    {
     "data": {
      "text/plain": [
       "135"
      ]
     },
     "execution_count": 42,
     "metadata": {},
     "output_type": "execute_result"
    }
   ],
   "source": [
    "len(birds_total_counts)"
   ]
  },
  {
   "cell_type": "code",
   "execution_count": 50,
   "metadata": {},
   "outputs": [],
   "source": [
    "for i in range(12):\n",
    "    df_iNat_birds_2.iloc[:, i] = df_iNat_birds_2.iloc[:, i]/ birds_total_counts"
   ]
  },
  {
   "cell_type": "code",
   "execution_count": 51,
   "metadata": {},
   "outputs": [
    {
     "data": {
      "text/html": [
       "<div>\n",
       "<style scoped>\n",
       "    .dataframe tbody tr th:only-of-type {\n",
       "        vertical-align: middle;\n",
       "    }\n",
       "\n",
       "    .dataframe tbody tr th {\n",
       "        vertical-align: top;\n",
       "    }\n",
       "\n",
       "    .dataframe thead th {\n",
       "        text-align: right;\n",
       "    }\n",
       "</style>\n",
       "<table border=\"1\" class=\"dataframe\">\n",
       "  <thead>\n",
       "    <tr style=\"text-align: right;\">\n",
       "      <th></th>\n",
       "      <th>month-0</th>\n",
       "      <th>month-1</th>\n",
       "      <th>month-2</th>\n",
       "      <th>month-3</th>\n",
       "      <th>month-4</th>\n",
       "      <th>month-5</th>\n",
       "      <th>month-6</th>\n",
       "      <th>month-7</th>\n",
       "      <th>month-8</th>\n",
       "      <th>month-9</th>\n",
       "      <th>month-10</th>\n",
       "      <th>month-11</th>\n",
       "    </tr>\n",
       "    <tr>\n",
       "      <th>aviID_short</th>\n",
       "      <th></th>\n",
       "      <th></th>\n",
       "      <th></th>\n",
       "      <th></th>\n",
       "      <th></th>\n",
       "      <th></th>\n",
       "      <th></th>\n",
       "      <th></th>\n",
       "      <th></th>\n",
       "      <th></th>\n",
       "      <th></th>\n",
       "      <th></th>\n",
       "    </tr>\n",
       "  </thead>\n",
       "  <tbody>\n",
       "    <tr>\n",
       "      <th>00124D98</th>\n",
       "      <td>0.061802</td>\n",
       "      <td>0.030184</td>\n",
       "      <td>0.073105</td>\n",
       "      <td>0.129341</td>\n",
       "      <td>0.160531</td>\n",
       "      <td>0.122557</td>\n",
       "      <td>0.087364</td>\n",
       "      <td>0.119976</td>\n",
       "      <td>0.075591</td>\n",
       "      <td>0.052184</td>\n",
       "      <td>0.043149</td>\n",
       "      <td>0.044216</td>\n",
       "    </tr>\n",
       "    <tr>\n",
       "      <th>01060BFD</th>\n",
       "      <td>0.064774</td>\n",
       "      <td>0.042743</td>\n",
       "      <td>0.015224</td>\n",
       "      <td>0.076686</td>\n",
       "      <td>0.009578</td>\n",
       "      <td>0.009714</td>\n",
       "      <td>0.331378</td>\n",
       "      <td>0.102760</td>\n",
       "      <td>0.164213</td>\n",
       "      <td>0.051464</td>\n",
       "      <td>0.107176</td>\n",
       "      <td>0.024290</td>\n",
       "    </tr>\n",
       "    <tr>\n",
       "      <th>018B3169</th>\n",
       "      <td>0.199468</td>\n",
       "      <td>0.139493</td>\n",
       "      <td>0.160517</td>\n",
       "      <td>0.066961</td>\n",
       "      <td>0.019236</td>\n",
       "      <td>0.029262</td>\n",
       "      <td>0.011092</td>\n",
       "      <td>0.041275</td>\n",
       "      <td>0.027483</td>\n",
       "      <td>0.023851</td>\n",
       "      <td>0.118755</td>\n",
       "      <td>0.162606</td>\n",
       "    </tr>\n",
       "    <tr>\n",
       "      <th>03AC32BA</th>\n",
       "      <td>0.119479</td>\n",
       "      <td>0.159199</td>\n",
       "      <td>0.137706</td>\n",
       "      <td>0.099347</td>\n",
       "      <td>0.030579</td>\n",
       "      <td>0.031011</td>\n",
       "      <td>0.058773</td>\n",
       "      <td>0.010935</td>\n",
       "      <td>0.019417</td>\n",
       "      <td>0.058979</td>\n",
       "      <td>0.102254</td>\n",
       "      <td>0.172321</td>\n",
       "    </tr>\n",
       "    <tr>\n",
       "      <th>0413ED30</th>\n",
       "      <td>0.065486</td>\n",
       "      <td>0.121536</td>\n",
       "      <td>0.067336</td>\n",
       "      <td>0.063203</td>\n",
       "      <td>0.006052</td>\n",
       "      <td>0.000000</td>\n",
       "      <td>0.020939</td>\n",
       "      <td>0.201284</td>\n",
       "      <td>0.167170</td>\n",
       "      <td>0.115065</td>\n",
       "      <td>0.074726</td>\n",
       "      <td>0.097203</td>\n",
       "    </tr>\n",
       "    <tr>\n",
       "      <th>...</th>\n",
       "      <td>...</td>\n",
       "      <td>...</td>\n",
       "      <td>...</td>\n",
       "      <td>...</td>\n",
       "      <td>...</td>\n",
       "      <td>...</td>\n",
       "      <td>...</td>\n",
       "      <td>...</td>\n",
       "      <td>...</td>\n",
       "      <td>...</td>\n",
       "      <td>...</td>\n",
       "      <td>...</td>\n",
       "    </tr>\n",
       "    <tr>\n",
       "      <th>FC366114</th>\n",
       "      <td>0.085473</td>\n",
       "      <td>0.078336</td>\n",
       "      <td>0.083703</td>\n",
       "      <td>0.078216</td>\n",
       "      <td>0.080750</td>\n",
       "      <td>0.096133</td>\n",
       "      <td>0.097172</td>\n",
       "      <td>0.154430</td>\n",
       "      <td>0.117038</td>\n",
       "      <td>0.052238</td>\n",
       "      <td>0.037930</td>\n",
       "      <td>0.038581</td>\n",
       "    </tr>\n",
       "    <tr>\n",
       "      <th>FD2B0309</th>\n",
       "      <td>0.075907</td>\n",
       "      <td>0.028175</td>\n",
       "      <td>0.036796</td>\n",
       "      <td>0.014652</td>\n",
       "      <td>0.042092</td>\n",
       "      <td>0.145136</td>\n",
       "      <td>0.140771</td>\n",
       "      <td>0.189664</td>\n",
       "      <td>0.128292</td>\n",
       "      <td>0.086985</td>\n",
       "      <td>0.061716</td>\n",
       "      <td>0.049813</td>\n",
       "    </tr>\n",
       "    <tr>\n",
       "      <th>FED3756C</th>\n",
       "      <td>0.123368</td>\n",
       "      <td>0.125703</td>\n",
       "      <td>0.076752</td>\n",
       "      <td>0.089650</td>\n",
       "      <td>0.068410</td>\n",
       "      <td>0.089782</td>\n",
       "      <td>0.092814</td>\n",
       "      <td>0.047489</td>\n",
       "      <td>0.030662</td>\n",
       "      <td>0.086486</td>\n",
       "      <td>0.083844</td>\n",
       "      <td>0.085040</td>\n",
       "    </tr>\n",
       "    <tr>\n",
       "      <th>FF592882</th>\n",
       "      <td>0.055383</td>\n",
       "      <td>0.094516</td>\n",
       "      <td>0.092576</td>\n",
       "      <td>0.056033</td>\n",
       "      <td>0.122844</td>\n",
       "      <td>0.113841</td>\n",
       "      <td>0.075719</td>\n",
       "      <td>0.090891</td>\n",
       "      <td>0.112970</td>\n",
       "      <td>0.073532</td>\n",
       "      <td>0.049033</td>\n",
       "      <td>0.062663</td>\n",
       "    </tr>\n",
       "    <tr>\n",
       "      <th>FFF61080</th>\n",
       "      <td>0.059868</td>\n",
       "      <td>0.059258</td>\n",
       "      <td>0.100255</td>\n",
       "      <td>0.129429</td>\n",
       "      <td>0.059756</td>\n",
       "      <td>0.087535</td>\n",
       "      <td>0.107198</td>\n",
       "      <td>0.078356</td>\n",
       "      <td>0.132803</td>\n",
       "      <td>0.082326</td>\n",
       "      <td>0.035866</td>\n",
       "      <td>0.067350</td>\n",
       "    </tr>\n",
       "  </tbody>\n",
       "</table>\n",
       "<p>135 rows × 12 columns</p>\n",
       "</div>"
      ],
      "text/plain": [
       "              month-0   month-1   month-2   month-3   month-4   month-5  \\\n",
       "aviID_short                                                               \n",
       "00124D98     0.061802  0.030184  0.073105  0.129341  0.160531  0.122557   \n",
       "01060BFD     0.064774  0.042743  0.015224  0.076686  0.009578  0.009714   \n",
       "018B3169     0.199468  0.139493  0.160517  0.066961  0.019236  0.029262   \n",
       "03AC32BA     0.119479  0.159199  0.137706  0.099347  0.030579  0.031011   \n",
       "0413ED30     0.065486  0.121536  0.067336  0.063203  0.006052  0.000000   \n",
       "...               ...       ...       ...       ...       ...       ...   \n",
       "FC366114     0.085473  0.078336  0.083703  0.078216  0.080750  0.096133   \n",
       "FD2B0309     0.075907  0.028175  0.036796  0.014652  0.042092  0.145136   \n",
       "FED3756C     0.123368  0.125703  0.076752  0.089650  0.068410  0.089782   \n",
       "FF592882     0.055383  0.094516  0.092576  0.056033  0.122844  0.113841   \n",
       "FFF61080     0.059868  0.059258  0.100255  0.129429  0.059756  0.087535   \n",
       "\n",
       "              month-6   month-7   month-8   month-9  month-10  month-11  \n",
       "aviID_short                                                              \n",
       "00124D98     0.087364  0.119976  0.075591  0.052184  0.043149  0.044216  \n",
       "01060BFD     0.331378  0.102760  0.164213  0.051464  0.107176  0.024290  \n",
       "018B3169     0.011092  0.041275  0.027483  0.023851  0.118755  0.162606  \n",
       "03AC32BA     0.058773  0.010935  0.019417  0.058979  0.102254  0.172321  \n",
       "0413ED30     0.020939  0.201284  0.167170  0.115065  0.074726  0.097203  \n",
       "...               ...       ...       ...       ...       ...       ...  \n",
       "FC366114     0.097172  0.154430  0.117038  0.052238  0.037930  0.038581  \n",
       "FD2B0309     0.140771  0.189664  0.128292  0.086985  0.061716  0.049813  \n",
       "FED3756C     0.092814  0.047489  0.030662  0.086486  0.083844  0.085040  \n",
       "FF592882     0.075719  0.090891  0.112970  0.073532  0.049033  0.062663  \n",
       "FFF61080     0.107198  0.078356  0.132803  0.082326  0.035866  0.067350  \n",
       "\n",
       "[135 rows x 12 columns]"
      ]
     },
     "execution_count": 51,
     "metadata": {},
     "output_type": "execute_result"
    }
   ],
   "source": [
    "df_iNat_birds_2"
   ]
  },
  {
   "cell_type": "code",
   "execution_count": 53,
   "metadata": {},
   "outputs": [],
   "source": [
    "from sklearn.decomposition import PCA"
   ]
  },
  {
   "cell_type": "code",
   "execution_count": 54,
   "metadata": {},
   "outputs": [],
   "source": [
    "pca_iNat = PCA(n_components=12)"
   ]
  },
  {
   "cell_type": "code",
   "execution_count": 55,
   "metadata": {},
   "outputs": [
    {
     "data": {
      "text/html": [
       "<style>#sk-container-id-1 {color: black;background-color: white;}#sk-container-id-1 pre{padding: 0;}#sk-container-id-1 div.sk-toggleable {background-color: white;}#sk-container-id-1 label.sk-toggleable__label {cursor: pointer;display: block;width: 100%;margin-bottom: 0;padding: 0.3em;box-sizing: border-box;text-align: center;}#sk-container-id-1 label.sk-toggleable__label-arrow:before {content: \"▸\";float: left;margin-right: 0.25em;color: #696969;}#sk-container-id-1 label.sk-toggleable__label-arrow:hover:before {color: black;}#sk-container-id-1 div.sk-estimator:hover label.sk-toggleable__label-arrow:before {color: black;}#sk-container-id-1 div.sk-toggleable__content {max-height: 0;max-width: 0;overflow: hidden;text-align: left;background-color: #f0f8ff;}#sk-container-id-1 div.sk-toggleable__content pre {margin: 0.2em;color: black;border-radius: 0.25em;background-color: #f0f8ff;}#sk-container-id-1 input.sk-toggleable__control:checked~div.sk-toggleable__content {max-height: 200px;max-width: 100%;overflow: auto;}#sk-container-id-1 input.sk-toggleable__control:checked~label.sk-toggleable__label-arrow:before {content: \"▾\";}#sk-container-id-1 div.sk-estimator input.sk-toggleable__control:checked~label.sk-toggleable__label {background-color: #d4ebff;}#sk-container-id-1 div.sk-label input.sk-toggleable__control:checked~label.sk-toggleable__label {background-color: #d4ebff;}#sk-container-id-1 input.sk-hidden--visually {border: 0;clip: rect(1px 1px 1px 1px);clip: rect(1px, 1px, 1px, 1px);height: 1px;margin: -1px;overflow: hidden;padding: 0;position: absolute;width: 1px;}#sk-container-id-1 div.sk-estimator {font-family: monospace;background-color: #f0f8ff;border: 1px dotted black;border-radius: 0.25em;box-sizing: border-box;margin-bottom: 0.5em;}#sk-container-id-1 div.sk-estimator:hover {background-color: #d4ebff;}#sk-container-id-1 div.sk-parallel-item::after {content: \"\";width: 100%;border-bottom: 1px solid gray;flex-grow: 1;}#sk-container-id-1 div.sk-label:hover label.sk-toggleable__label {background-color: #d4ebff;}#sk-container-id-1 div.sk-serial::before {content: \"\";position: absolute;border-left: 1px solid gray;box-sizing: border-box;top: 0;bottom: 0;left: 50%;z-index: 0;}#sk-container-id-1 div.sk-serial {display: flex;flex-direction: column;align-items: center;background-color: white;padding-right: 0.2em;padding-left: 0.2em;position: relative;}#sk-container-id-1 div.sk-item {position: relative;z-index: 1;}#sk-container-id-1 div.sk-parallel {display: flex;align-items: stretch;justify-content: center;background-color: white;position: relative;}#sk-container-id-1 div.sk-item::before, #sk-container-id-1 div.sk-parallel-item::before {content: \"\";position: absolute;border-left: 1px solid gray;box-sizing: border-box;top: 0;bottom: 0;left: 50%;z-index: -1;}#sk-container-id-1 div.sk-parallel-item {display: flex;flex-direction: column;z-index: 1;position: relative;background-color: white;}#sk-container-id-1 div.sk-parallel-item:first-child::after {align-self: flex-end;width: 50%;}#sk-container-id-1 div.sk-parallel-item:last-child::after {align-self: flex-start;width: 50%;}#sk-container-id-1 div.sk-parallel-item:only-child::after {width: 0;}#sk-container-id-1 div.sk-dashed-wrapped {border: 1px dashed gray;margin: 0 0.4em 0.5em 0.4em;box-sizing: border-box;padding-bottom: 0.4em;background-color: white;}#sk-container-id-1 div.sk-label label {font-family: monospace;font-weight: bold;display: inline-block;line-height: 1.2em;}#sk-container-id-1 div.sk-label-container {text-align: center;}#sk-container-id-1 div.sk-container {/* jupyter's `normalize.less` sets `[hidden] { display: none; }` but bootstrap.min.css set `[hidden] { display: none !important; }` so we also need the `!important` here to be able to override the default hidden behavior on the sphinx rendered scikit-learn.org. See: https://github.com/scikit-learn/scikit-learn/issues/21755 */display: inline-block !important;position: relative;}#sk-container-id-1 div.sk-text-repr-fallback {display: none;}</style><div id=\"sk-container-id-1\" class=\"sk-top-container\"><div class=\"sk-text-repr-fallback\"><pre>PCA(n_components=12)</pre><b>In a Jupyter environment, please rerun this cell to show the HTML representation or trust the notebook. <br />On GitHub, the HTML representation is unable to render, please try loading this page with nbviewer.org.</b></div><div class=\"sk-container\" hidden><div class=\"sk-item\"><div class=\"sk-estimator sk-toggleable\"><input class=\"sk-toggleable__control sk-hidden--visually\" id=\"sk-estimator-id-1\" type=\"checkbox\" checked><label for=\"sk-estimator-id-1\" class=\"sk-toggleable__label sk-toggleable__label-arrow\">PCA</label><div class=\"sk-toggleable__content\"><pre>PCA(n_components=12)</pre></div></div></div></div></div>"
      ],
      "text/plain": [
       "PCA(n_components=12)"
      ]
     },
     "execution_count": 55,
     "metadata": {},
     "output_type": "execute_result"
    }
   ],
   "source": [
    "pca_iNat.fit(df_iNat_birds_2.values)"
   ]
  },
  {
   "cell_type": "code",
   "execution_count": 56,
   "metadata": {},
   "outputs": [
    {
     "data": {
      "text/plain": [
       "array([5.10696742e-01, 2.07121585e-01, 7.04357305e-02, 5.01139434e-02,\n",
       "       3.67305982e-02, 3.38082647e-02, 2.52312603e-02, 2.00339784e-02,\n",
       "       1.88396141e-02, 1.44650982e-02, 1.25231852e-02, 2.10552385e-32])"
      ]
     },
     "execution_count": 56,
     "metadata": {},
     "output_type": "execute_result"
    }
   ],
   "source": [
    "pca_iNat.explained_variance_ratio_"
   ]
  },
  {
   "cell_type": "code",
   "execution_count": 57,
   "metadata": {},
   "outputs": [
    {
     "data": {
      "text/plain": [
       "array([0.51069674, 0.71781833, 0.78825406, 0.838368  , 0.8750986 ,\n",
       "       0.90890686, 0.93413812, 0.9541721 , 0.97301172, 0.98747681,\n",
       "       1.        , 1.        ])"
      ]
     },
     "execution_count": 57,
     "metadata": {},
     "output_type": "execute_result"
    }
   ],
   "source": [
    "np.cumsum(pca_iNat.explained_variance_ratio_)"
   ]
  },
  {
   "cell_type": "code",
   "execution_count": 59,
   "metadata": {},
   "outputs": [],
   "source": [
    "pca_ebird = PCA(n_components=12)"
   ]
  },
  {
   "cell_type": "code",
   "execution_count": 60,
   "metadata": {},
   "outputs": [
    {
     "data": {
      "text/html": [
       "<style>#sk-container-id-2 {color: black;background-color: white;}#sk-container-id-2 pre{padding: 0;}#sk-container-id-2 div.sk-toggleable {background-color: white;}#sk-container-id-2 label.sk-toggleable__label {cursor: pointer;display: block;width: 100%;margin-bottom: 0;padding: 0.3em;box-sizing: border-box;text-align: center;}#sk-container-id-2 label.sk-toggleable__label-arrow:before {content: \"▸\";float: left;margin-right: 0.25em;color: #696969;}#sk-container-id-2 label.sk-toggleable__label-arrow:hover:before {color: black;}#sk-container-id-2 div.sk-estimator:hover label.sk-toggleable__label-arrow:before {color: black;}#sk-container-id-2 div.sk-toggleable__content {max-height: 0;max-width: 0;overflow: hidden;text-align: left;background-color: #f0f8ff;}#sk-container-id-2 div.sk-toggleable__content pre {margin: 0.2em;color: black;border-radius: 0.25em;background-color: #f0f8ff;}#sk-container-id-2 input.sk-toggleable__control:checked~div.sk-toggleable__content {max-height: 200px;max-width: 100%;overflow: auto;}#sk-container-id-2 input.sk-toggleable__control:checked~label.sk-toggleable__label-arrow:before {content: \"▾\";}#sk-container-id-2 div.sk-estimator input.sk-toggleable__control:checked~label.sk-toggleable__label {background-color: #d4ebff;}#sk-container-id-2 div.sk-label input.sk-toggleable__control:checked~label.sk-toggleable__label {background-color: #d4ebff;}#sk-container-id-2 input.sk-hidden--visually {border: 0;clip: rect(1px 1px 1px 1px);clip: rect(1px, 1px, 1px, 1px);height: 1px;margin: -1px;overflow: hidden;padding: 0;position: absolute;width: 1px;}#sk-container-id-2 div.sk-estimator {font-family: monospace;background-color: #f0f8ff;border: 1px dotted black;border-radius: 0.25em;box-sizing: border-box;margin-bottom: 0.5em;}#sk-container-id-2 div.sk-estimator:hover {background-color: #d4ebff;}#sk-container-id-2 div.sk-parallel-item::after {content: \"\";width: 100%;border-bottom: 1px solid gray;flex-grow: 1;}#sk-container-id-2 div.sk-label:hover label.sk-toggleable__label {background-color: #d4ebff;}#sk-container-id-2 div.sk-serial::before {content: \"\";position: absolute;border-left: 1px solid gray;box-sizing: border-box;top: 0;bottom: 0;left: 50%;z-index: 0;}#sk-container-id-2 div.sk-serial {display: flex;flex-direction: column;align-items: center;background-color: white;padding-right: 0.2em;padding-left: 0.2em;position: relative;}#sk-container-id-2 div.sk-item {position: relative;z-index: 1;}#sk-container-id-2 div.sk-parallel {display: flex;align-items: stretch;justify-content: center;background-color: white;position: relative;}#sk-container-id-2 div.sk-item::before, #sk-container-id-2 div.sk-parallel-item::before {content: \"\";position: absolute;border-left: 1px solid gray;box-sizing: border-box;top: 0;bottom: 0;left: 50%;z-index: -1;}#sk-container-id-2 div.sk-parallel-item {display: flex;flex-direction: column;z-index: 1;position: relative;background-color: white;}#sk-container-id-2 div.sk-parallel-item:first-child::after {align-self: flex-end;width: 50%;}#sk-container-id-2 div.sk-parallel-item:last-child::after {align-self: flex-start;width: 50%;}#sk-container-id-2 div.sk-parallel-item:only-child::after {width: 0;}#sk-container-id-2 div.sk-dashed-wrapped {border: 1px dashed gray;margin: 0 0.4em 0.5em 0.4em;box-sizing: border-box;padding-bottom: 0.4em;background-color: white;}#sk-container-id-2 div.sk-label label {font-family: monospace;font-weight: bold;display: inline-block;line-height: 1.2em;}#sk-container-id-2 div.sk-label-container {text-align: center;}#sk-container-id-2 div.sk-container {/* jupyter's `normalize.less` sets `[hidden] { display: none; }` but bootstrap.min.css set `[hidden] { display: none !important; }` so we also need the `!important` here to be able to override the default hidden behavior on the sphinx rendered scikit-learn.org. See: https://github.com/scikit-learn/scikit-learn/issues/21755 */display: inline-block !important;position: relative;}#sk-container-id-2 div.sk-text-repr-fallback {display: none;}</style><div id=\"sk-container-id-2\" class=\"sk-top-container\"><div class=\"sk-text-repr-fallback\"><pre>PCA(n_components=12)</pre><b>In a Jupyter environment, please rerun this cell to show the HTML representation or trust the notebook. <br />On GitHub, the HTML representation is unable to render, please try loading this page with nbviewer.org.</b></div><div class=\"sk-container\" hidden><div class=\"sk-item\"><div class=\"sk-estimator sk-toggleable\"><input class=\"sk-toggleable__control sk-hidden--visually\" id=\"sk-estimator-id-2\" type=\"checkbox\" checked><label for=\"sk-estimator-id-2\" class=\"sk-toggleable__label sk-toggleable__label-arrow\">PCA</label><div class=\"sk-toggleable__content\"><pre>PCA(n_components=12)</pre></div></div></div></div></div>"
      ],
      "text/plain": [
       "PCA(n_components=12)"
      ]
     },
     "execution_count": 60,
     "metadata": {},
     "output_type": "execute_result"
    }
   ],
   "source": [
    "pca_ebird.fit(df_ebird_135_final.values)"
   ]
  },
  {
   "cell_type": "code",
   "execution_count": 61,
   "metadata": {},
   "outputs": [
    {
     "data": {
      "text/plain": [
       "array([4.43870229e-01, 2.64645914e-01, 1.31859861e-01, 4.54558903e-02,\n",
       "       3.71080157e-02, 2.79987895e-02, 1.66065813e-02, 1.43442509e-02,\n",
       "       9.75639088e-03, 5.17735861e-03, 3.17671848e-03, 2.27356552e-32])"
      ]
     },
     "execution_count": 61,
     "metadata": {},
     "output_type": "execute_result"
    }
   ],
   "source": [
    "pca_ebird.explained_variance_ratio_"
   ]
  },
  {
   "cell_type": "code",
   "execution_count": 62,
   "metadata": {},
   "outputs": [
    {
     "data": {
      "text/plain": [
       "array([0.44387023, 0.70851614, 0.840376  , 0.88583189, 0.92293991,\n",
       "       0.9509387 , 0.96754528, 0.98188953, 0.99164592, 0.99682328,\n",
       "       1.        , 1.        ])"
      ]
     },
     "execution_count": 62,
     "metadata": {},
     "output_type": "execute_result"
    }
   ],
   "source": [
    "np.cumsum(pca_ebird.explained_variance_ratio_)"
   ]
  },
  {
   "cell_type": "code",
   "execution_count": 74,
   "metadata": {},
   "outputs": [
    {
     "data": {
      "text/plain": [
       "[<matplotlib.lines.Line2D at 0x7f8c5024c280>]"
      ]
     },
     "execution_count": 74,
     "metadata": {},
     "output_type": "execute_result"
    },
    {
     "data": {
      "image/png": "[encoded data removed]",
      "text/plain": [
       "<Figure size 640x480 with 1 Axes>"
      ]
     },
     "metadata": {},
     "output_type": "display_data"
    }
   ],
   "source": [
    "plt.plot(pca_ebird.components_[0])\n",
    "plt.plot(-1*pca_iNat.components_[0], c='r')"
   ]
  },
  {
   "cell_type": "code",
   "execution_count": 75,
   "metadata": {},
   "outputs": [
    {
     "data": {
      "text/plain": [
       "[<matplotlib.lines.Line2D at 0x7f8c502838e0>]"
      ]
     },
     "execution_count": 75,
     "metadata": {},
     "output_type": "execute_result"
    },
    {
     "data": {
      "image/png": "[encoded data removed]",
      "text/plain": [
       "<Figure size 640x480 with 1 Axes>"
      ]
     },
     "metadata": {},
     "output_type": "display_data"
    }
   ],
   "source": [
    "plt.plot(pca_ebird.components_[1])\n",
    "plt.plot(pca_iNat.components_[1], c='r')"
   ]
  },
  {
   "cell_type": "code",
   "execution_count": 86,
   "metadata": {},
   "outputs": [
    {
     "data": {
      "text/plain": [
       "[<matplotlib.lines.Line2D at 0x7f8c904691e0>]"
      ]
     },
     "execution_count": 86,
     "metadata": {},
     "output_type": "execute_result"
    },
    {
     "data": {
      "image/png": "[encoded data removed]",
      "text/plain": [
       "<Figure size 800x600 with 1 Axes>"
      ]
     },
     "metadata": {},
     "output_type": "display_data"
    }
   ],
   "source": [
    "fig, ax = plt.subplots(1,1, figsize = (8,6))\n",
    "ax.plot(df_ebird_135_final.loc['F6C6C3F7', :].values)\n",
    "ax.plot(df_iNat_birds_2.loc['F6C6C3F7', :].values, c='r')"
   ]
  },
  {
   "cell_type": "code",
   "execution_count": 87,
   "metadata": {},
   "outputs": [],
   "source": [
    "from scipy.stats import wasserstein_distance"
   ]
  },
  {
   "cell_type": "code",
   "execution_count": 88,
   "metadata": {},
   "outputs": [
    {
     "data": {
      "text/plain": [
       "0.04878262915993313"
      ]
     },
     "execution_count": 88,
     "metadata": {},
     "output_type": "execute_result"
    }
   ],
   "source": [
    "wasserstein_distance(pca_ebird.components_[0], (-1*pca_iNat.components_[0]))"
   ]
  },
  {
   "cell_type": "code",
   "execution_count": 89,
   "metadata": {},
   "outputs": [
    {
     "data": {
      "text/plain": [
       "0.06847887753000528"
      ]
     },
     "execution_count": 89,
     "metadata": {},
     "output_type": "execute_result"
    }
   ],
   "source": [
    "wasserstein_distance(pca_ebird.components_[1], (pca_iNat.components_[1]))"
   ]
  },
  {
   "cell_type": "code",
   "execution_count": 90,
   "metadata": {},
   "outputs": [
    {
     "name": "stdout",
     "output_type": "stream",
     "text": [
      "Collecting geomstats\n",
      "  Downloading geomstats-2.5.0-py3-none-any.whl (7.5 MB)\n",
      "\u001b[2K     \u001b[90m━━━━━━━━━━━━━━━━━━━━━━━━━━━━━━━━━━━━━━━━\u001b[0m \u001b[32m7.5/7.5 MB\u001b[0m \u001b[31m4.3 MB/s\u001b[0m eta \u001b[36m0:00:00\u001b[0ma \u001b[36m0:00:01\u001b[0mm\n",
      "\u001b[?25hRequirement already satisfied: matplotlib>=3.3.4 in /Users/devendragovil/opt/anaconda3/envs/exp_func/lib/python3.10/site-packages (from geomstats) (3.7.1)\n",
      "Requirement already satisfied: joblib>=0.14.1 in /Users/devendragovil/opt/anaconda3/envs/exp_func/lib/python3.10/site-packages (from geomstats) (1.1.1)\n",
      "Requirement already satisfied: pandas>=1.1.5 in /Users/devendragovil/opt/anaconda3/envs/exp_func/lib/python3.10/site-packages (from geomstats) (1.5.3)\n",
      "Requirement already satisfied: scipy>=1.4.1 in /Users/devendragovil/opt/anaconda3/envs/exp_func/lib/python3.10/site-packages (from geomstats) (1.10.1)\n",
      "Requirement already satisfied: scikit-learn>=0.22.1 in /Users/devendragovil/opt/anaconda3/envs/exp_func/lib/python3.10/site-packages (from geomstats) (1.2.2)\n",
      "Requirement already satisfied: numpy>=1.18.1 in /Users/devendragovil/opt/anaconda3/envs/exp_func/lib/python3.10/site-packages (from geomstats) (1.21.6)\n",
      "Requirement already satisfied: fonttools>=4.22.0 in /Users/devendragovil/opt/anaconda3/envs/exp_func/lib/python3.10/site-packages (from matplotlib>=3.3.4->geomstats) (4.25.0)\n",
      "Requirement already satisfied: cycler>=0.10 in /Users/devendragovil/opt/anaconda3/envs/exp_func/lib/python3.10/site-packages (from matplotlib>=3.3.4->geomstats) (0.11.0)\n",
      "Requirement already satisfied: kiwisolver>=1.0.1 in /Users/devendragovil/opt/anaconda3/envs/exp_func/lib/python3.10/site-packages (from matplotlib>=3.3.4->geomstats) (1.4.4)\n",
      "Requirement already satisfied: packaging>=20.0 in /Users/devendragovil/opt/anaconda3/envs/exp_func/lib/python3.10/site-packages (from matplotlib>=3.3.4->geomstats) (23.0)\n",
      "Requirement already satisfied: pillow>=6.2.0 in /Users/devendragovil/opt/anaconda3/envs/exp_func/lib/python3.10/site-packages (from matplotlib>=3.3.4->geomstats) (9.4.0)\n",
      "Requirement already satisfied: python-dateutil>=2.7 in /Users/devendragovil/opt/anaconda3/envs/exp_func/lib/python3.10/site-packages (from matplotlib>=3.3.4->geomstats) (2.8.2)\n",
      "Requirement already satisfied: pyparsing>=2.3.1 in /Users/devendragovil/opt/anaconda3/envs/exp_func/lib/python3.10/site-packages (from matplotlib>=3.3.4->geomstats) (3.0.9)\n",
      "Requirement already satisfied: contourpy>=1.0.1 in /Users/devendragovil/opt/anaconda3/envs/exp_func/lib/python3.10/site-packages (from matplotlib>=3.3.4->geomstats) (1.0.5)\n",
      "Requirement already satisfied: pytz>=2020.1 in /Users/devendragovil/opt/anaconda3/envs/exp_func/lib/python3.10/site-packages (from pandas>=1.1.5->geomstats) (2022.7)\n",
      "Requirement already satisfied: threadpoolctl>=2.0.0 in /Users/devendragovil/opt/anaconda3/envs/exp_func/lib/python3.10/site-packages (from scikit-learn>=0.22.1->geomstats) (2.2.0)\n",
      "Requirement already satisfied: six>=1.5 in /Users/devendragovil/opt/anaconda3/envs/exp_func/lib/python3.10/site-packages (from python-dateutil>=2.7->matplotlib>=3.3.4->geomstats) (1.16.0)\n",
      "Installing collected packages: geomstats\n",
      "Successfully installed geomstats-2.5.0\n"
     ]
    }
   ],
   "source": [
    "! pip install geomstats"
   ]
  },
  {
   "cell_type": "code",
   "execution_count": 91,
   "metadata": {},
   "outputs": [],
   "source": [
    "from scipy.special import kl_div"
   ]
  },
  {
   "cell_type": "code",
   "execution_count": 94,
   "metadata": {},
   "outputs": [
    {
     "data": {
      "text/plain": [
       "array([8.92742987e-03, 1.93493387e-02, 2.69673510e-07, 5.24224212e-03,\n",
       "       2.81016850e-03,            inf,            inf, 2.42261155e-05,\n",
       "       7.83859769e-02, 4.94409449e-02, 2.17907695e-02, 5.02588144e-02])"
      ]
     },
     "execution_count": 94,
     "metadata": {},
     "output_type": "execute_result"
    }
   ],
   "source": [
    "kl_div(df_ebird_135_final.loc['F6C6C3F7', :].values,  df_iNat_birds_2.loc['F6C6C3F7', :].values)"
   ]
  },
  {
   "cell_type": "markdown",
   "metadata": {},
   "source": [
    "## Trying out Geomstats"
   ]
  },
  {
   "cell_type": "code",
   "execution_count": 105,
   "metadata": {},
   "outputs": [],
   "source": [
    "# Code taken from geomstats tutorials\n",
    "import matplotlib.pyplot as plt\n",
    "\n",
    "import geomstats.backend as gs\n",
    "import geomstats.visualization as visualization\n",
    "\n",
    "from geomstats.learning.frechet_mean import FrechetMean\n",
    "from geomstats.learning.pca import TangentPCA"
   ]
  },
  {
   "cell_type": "code",
   "execution_count": 106,
   "metadata": {},
   "outputs": [],
   "source": [
    "from geomstats.geometry.hypersphere import Hypersphere"
   ]
  },
  {
   "cell_type": "code",
   "execution_count": 107,
   "metadata": {},
   "outputs": [],
   "source": [
    "# Code taken from geomstats tutorial\n",
    "from geomstats.geometry.hypersphere import Hypersphere\n",
    "\n",
    "sphere = Hypersphere(dim=2)\n",
    "data = sphere.random_von_mises_fisher(kappa=15, n_samples=140)"
   ]
  },
  {
   "cell_type": "code",
   "execution_count": 108,
   "metadata": {},
   "outputs": [
    {
     "data": {
      "text/plain": [
       "(140, 3)"
      ]
     },
     "execution_count": 108,
     "metadata": {},
     "output_type": "execute_result"
    }
   ],
   "source": [
    "data.shape"
   ]
  },
  {
   "cell_type": "code",
   "execution_count": 109,
   "metadata": {},
   "outputs": [],
   "source": [
    "circle = Hypersphere(dim=1)"
   ]
  },
  {
   "cell_type": "code",
   "execution_count": 110,
   "metadata": {},
   "outputs": [],
   "source": [
    "from geomstats.geometry.hypersphere import HypersphereMetric"
   ]
  },
  {
   "cell_type": "code",
   "execution_count": 113,
   "metadata": {},
   "outputs": [],
   "source": [
    "riem_met = HypersphereMetric(dim=1)"
   ]
  },
  {
   "cell_type": "code",
   "execution_count": 114,
   "metadata": {},
   "outputs": [
    {
     "data": {
      "text/plain": [
       "3.141592653589793"
      ]
     },
     "execution_count": 114,
     "metadata": {},
     "output_type": "execute_result"
    }
   ],
   "source": [
    "np.pi"
   ]
  },
  {
   "cell_type": "code",
   "execution_count": null,
   "metadata": {},
   "outputs": [],
   "source": [
    "from geomstats."
   ]
  }
 ],
 "metadata": {
  "kernelspec": {
   "display_name": "Python 3.10.11 ('exp_func')",
   "language": "python",
   "name": "python3"
  },
  "language_info": {
   "codemirror_mode": {
    "name": "ipython",
    "version": 3
   },
   "file_extension": ".py",
   "mimetype": "text/x-python",
   "name": "python",
   "nbconvert_exporter": "python",
   "pygments_lexer": "ipython3",
   "version": "3.10.11"
  },
  "orig_nbformat": 4,
  "vscode": {
   "interpreter": {
    "hash": "51ab48f99c10b131b06c2c5468102467b7e92e0ffbfd68ac19cda9304f04b617"
   }
  }
 },
 "nbformat": 4,
 "nbformat_minor": 2
}
