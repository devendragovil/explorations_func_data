{
 "cells": [
  {
   "cell_type": "code",
   "execution_count": 3,
   "metadata": {},
   "outputs": [],
   "source": [
    "from ebird.api import get_observations\n",
    "import os, sys"
   ]
  },
  {
   "cell_type": "code",
   "execution_count": 6,
   "metadata": {},
   "outputs": [],
   "source": [
    "with open('../api_key.yaml', 'r') as f:\n",
    "    api_key = f.read()"
   ]
  },
  {
   "cell_type": "code",
   "execution_count": 5,
   "metadata": {},
   "outputs": [
    {
     "name": "stdout",
     "output_type": "stream",
     "text": [
      "/Users/devendragovil/AllClassesMaterial/RA_Func/explorations_func_data/notebooks\n"
     ]
    }
   ],
   "source": [
    "!pwd"
   ]
  },
  {
   "cell_type": "code",
   "execution_count": 7,
   "metadata": {},
   "outputs": [],
   "source": [
    "\"\"\"\n",
    "# provide latitude & longitude, return eBird \"regionCode\"\n",
    "Written by Jess Sullivan\n",
    "@ https://www.transscendsurvival.org/\n",
    "available at: \n",
    "https://raw.githubusercontent.com/Jesssullivan/GIS_Shortcuts/master/regioncodes.py\n",
    "\"\"\"\n",
    "import requests\n",
    "import json\n",
    "\n",
    "def get_regioncode(lat, lon):\n",
    "\n",
    "    # this municipal api is a publicly available, no keys needed afaict\n",
    "    census_url = str('https://geo.fcc.gov/api/census/area?lat=' +\n",
    "                     str(lat) +\n",
    "                     '&lon=' +\n",
    "                     str(lon) +\n",
    "                     '&format=json')\n",
    "\n",
    "    # send out a GET request:\n",
    "    payload = {}\n",
    "    get = requests.request(\"GET\", census_url, data=payload)\n",
    "\n",
    "    # parse the response, all api values are contained in list 'results':\n",
    "    response = json.loads(get.content)['results'][0]\n",
    "\n",
    "    # use the last three digits from the in-state fips code as the \"subnational 2\" identifier:\n",
    "    fips = response['county_fips']\n",
    "\n",
    "    # assemble and return the \"subnational type 2\" code:\n",
    "    regioncode = 'US-' + response['state_code'] + '-' + fips[2] + fips[3] + fips[4]\n",
    "    print('formed region code: ' + regioncode)\n",
    "    return regioncode"
   ]
  },
  {
   "cell_type": "code",
   "execution_count": 9,
   "metadata": {},
   "outputs": [
    {
     "name": "stdout",
     "output_type": "stream",
     "text": [
      "formed region code: US-CA-075\n"
     ]
    },
    {
     "data": {
      "text/plain": [
       "'US-CA-075'"
      ]
     },
     "execution_count": 9,
     "metadata": {},
     "output_type": "execute_result"
    }
   ],
   "source": [
    "get_regioncode(37.79548676388334, -122.38379189326457)"
   ]
  },
  {
   "cell_type": "code",
   "execution_count": 20,
   "metadata": {},
   "outputs": [
    {
     "name": "stdout",
     "output_type": "stream",
     "text": [
      "formed region code: US-CA-095\n"
     ]
    },
    {
     "data": {
      "text/plain": [
       "'US-CA-095'"
      ]
     },
     "execution_count": 20,
     "metadata": {},
     "output_type": "execute_result"
    }
   ],
   "source": [
    "get_regioncode(38.13213768885837, -122.01535028961922)"
   ]
  },
  {
   "cell_type": "code",
   "execution_count": 29,
   "metadata": {},
   "outputs": [],
   "source": [
    "regions_list = ['US-CA-' + x  for x in ['001', '055', '067', '075', '081', '085', '095', '041']]"
   ]
  },
  {
   "cell_type": "code",
   "execution_count": 30,
   "metadata": {},
   "outputs": [],
   "source": [
    "a = get_observations(api_key, area=regions_list, back=30)"
   ]
  },
  {
   "cell_type": "code",
   "execution_count": 31,
   "metadata": {},
   "outputs": [
    {
     "data": {
      "text/plain": [
       "1745"
      ]
     },
     "execution_count": 31,
     "metadata": {},
     "output_type": "execute_result"
    }
   ],
   "source": [
    "len(a)"
   ]
  },
  {
   "cell_type": "code",
   "execution_count": 36,
   "metadata": {},
   "outputs": [
    {
     "data": {
      "text/plain": [
       "{'speciesCode': 'normoc',\n",
       " 'comName': 'Northern Mockingbird',\n",
       " 'sciName': 'Mimus polyglottos',\n",
       " 'locId': 'L1294688',\n",
       " 'locName': 'Sacramento Reg Wastewater Treatment Plant (limited access)',\n",
       " 'obsDt': '2023-05-23 14:22',\n",
       " 'howMany': 3,\n",
       " 'lat': 38.4407495,\n",
       " 'lng': -121.4792633,\n",
       " 'obsValid': True,\n",
       " 'obsReviewed': False,\n",
       " 'locationPrivate': False,\n",
       " 'subId': 'S139012812'}"
      ]
     },
     "execution_count": 36,
     "metadata": {},
     "output_type": "execute_result"
    }
   ],
   "source": [
    "a[30]"
   ]
  },
  {
   "cell_type": "code",
   "execution_count": 14,
   "metadata": {},
   "outputs": [
    {
     "name": "stdout",
     "output_type": "stream",
     "text": [
      "<!doctype html><html lang=\"en\"><head><title>HTTP Status 404 – Not Found</title><style type=\"text/css\">body {font-family:Tahoma,Arial,sans-serif;} h1, h2, h3, b {color:white;background-color:#525D76;} h1 {font-size:22px;} h2 {font-size:16px;} h3 {font-size:14px;} p {font-size:12px;} a {color:black;} .line {height:1px;background-color:#525D76;border:none;}</style></head><body><h1>HTTP Status 404 – Not Found</h1><hr class=\"line\" /><p><b>Type</b> Status Report</p><p><b>Description</b> The origin server did not find a current representation for the target resource or is not willing to disclose that one exists.</p><hr class=\"line\" /><h3>Apache Tomcat</h3></body></html>\n"
     ]
    }
   ],
   "source": [
    "import requests\n",
    "\n",
    "url = \"https://api.ebird.org/v2/data/obs/US-CA-075/historic2019/01/01\"\n",
    "\n",
    "payload={}\n",
    "headers = {}\n",
    "\n",
    "response = requests.request(\"GET\", url, headers=headers, data=payload)\n",
    "\n",
    "print(response.text)\n"
   ]
  },
  {
   "cell_type": "code",
   "execution_count": 37,
   "metadata": {},
   "outputs": [],
   "source": [
    "import json"
   ]
  },
  {
   "cell_type": "code",
   "execution_count": 38,
   "metadata": {},
   "outputs": [],
   "source": [
    "with open('response.json', 'r') as f:\n",
    "    response_data_ca_recent = json.load(f)"
   ]
  },
  {
   "cell_type": "code",
   "execution_count": 40,
   "metadata": {},
   "outputs": [],
   "source": [
    "import pandas as pd"
   ]
  },
  {
   "cell_type": "code",
   "execution_count": 41,
   "metadata": {},
   "outputs": [],
   "source": [
    "df_ca_recent = pd.DataFrame(response_data_ca_recent)"
   ]
  },
  {
   "cell_type": "code",
   "execution_count": 42,
   "metadata": {},
   "outputs": [
    {
     "data": {
      "text/html": [
       "<div>\n",
       "<style scoped>\n",
       "    .dataframe tbody tr th:only-of-type {\n",
       "        vertical-align: middle;\n",
       "    }\n",
       "\n",
       "    .dataframe tbody tr th {\n",
       "        vertical-align: top;\n",
       "    }\n",
       "\n",
       "    .dataframe thead th {\n",
       "        text-align: right;\n",
       "    }\n",
       "</style>\n",
       "<table border=\"1\" class=\"dataframe\">\n",
       "  <thead>\n",
       "    <tr style=\"text-align: right;\">\n",
       "      <th></th>\n",
       "      <th>speciesCode</th>\n",
       "      <th>comName</th>\n",
       "      <th>sciName</th>\n",
       "      <th>locId</th>\n",
       "      <th>locName</th>\n",
       "      <th>obsDt</th>\n",
       "      <th>howMany</th>\n",
       "      <th>lat</th>\n",
       "      <th>lng</th>\n",
       "      <th>obsValid</th>\n",
       "      <th>obsReviewed</th>\n",
       "      <th>locationPrivate</th>\n",
       "      <th>subId</th>\n",
       "      <th>exoticCategory</th>\n",
       "    </tr>\n",
       "  </thead>\n",
       "  <tbody>\n",
       "    <tr>\n",
       "      <th>0</th>\n",
       "      <td>bawwar</td>\n",
       "      <td>Black-and-white Warbler</td>\n",
       "      <td>Mniotilta varia</td>\n",
       "      <td>L24605569</td>\n",
       "      <td>19 Mills Lake Road, Geary, New Brunswick, CA (...</td>\n",
       "      <td>2023-05-23 18:45</td>\n",
       "      <td>2.0</td>\n",
       "      <td>45.773322</td>\n",
       "      <td>-66.535823</td>\n",
       "      <td>True</td>\n",
       "      <td>False</td>\n",
       "      <td>True</td>\n",
       "      <td>S139014343</td>\n",
       "      <td>NaN</td>\n",
       "    </tr>\n",
       "    <tr>\n",
       "      <th>1</th>\n",
       "      <td>y00478</td>\n",
       "      <td>Iceland Gull</td>\n",
       "      <td>Larus glaucoides</td>\n",
       "      <td>L354063</td>\n",
       "      <td>Saint John--Marsh Creek</td>\n",
       "      <td>2023-05-23 18:45</td>\n",
       "      <td>1.0</td>\n",
       "      <td>45.281445</td>\n",
       "      <td>-66.048887</td>\n",
       "      <td>True</td>\n",
       "      <td>False</td>\n",
       "      <td>False</td>\n",
       "      <td>S139015416</td>\n",
       "      <td>NaN</td>\n",
       "    </tr>\n",
       "    <tr>\n",
       "      <th>2</th>\n",
       "      <td>hergul</td>\n",
       "      <td>Herring Gull</td>\n",
       "      <td>Larus argentatus</td>\n",
       "      <td>L354063</td>\n",
       "      <td>Saint John--Marsh Creek</td>\n",
       "      <td>2023-05-23 18:45</td>\n",
       "      <td>10.0</td>\n",
       "      <td>45.281445</td>\n",
       "      <td>-66.048887</td>\n",
       "      <td>True</td>\n",
       "      <td>False</td>\n",
       "      <td>False</td>\n",
       "      <td>S139015416</td>\n",
       "      <td>NaN</td>\n",
       "    </tr>\n",
       "    <tr>\n",
       "      <th>3</th>\n",
       "      <td>ribgul</td>\n",
       "      <td>Ring-billed Gull</td>\n",
       "      <td>Larus delawarensis</td>\n",
       "      <td>L354063</td>\n",
       "      <td>Saint John--Marsh Creek</td>\n",
       "      <td>2023-05-23 18:45</td>\n",
       "      <td>17.0</td>\n",
       "      <td>45.281445</td>\n",
       "      <td>-66.048887</td>\n",
       "      <td>True</td>\n",
       "      <td>False</td>\n",
       "      <td>False</td>\n",
       "      <td>S139015416</td>\n",
       "      <td>NaN</td>\n",
       "    </tr>\n",
       "    <tr>\n",
       "      <th>4</th>\n",
       "      <td>norpar</td>\n",
       "      <td>Northern Parula</td>\n",
       "      <td>Setophaga americana</td>\n",
       "      <td>L24605569</td>\n",
       "      <td>19 Mills Lake Road, Geary, New Brunswick, CA (...</td>\n",
       "      <td>2023-05-23 18:45</td>\n",
       "      <td>2.0</td>\n",
       "      <td>45.773322</td>\n",
       "      <td>-66.535823</td>\n",
       "      <td>True</td>\n",
       "      <td>False</td>\n",
       "      <td>True</td>\n",
       "      <td>S139014343</td>\n",
       "      <td>NaN</td>\n",
       "    </tr>\n",
       "    <tr>\n",
       "      <th>...</th>\n",
       "      <td>...</td>\n",
       "      <td>...</td>\n",
       "      <td>...</td>\n",
       "      <td>...</td>\n",
       "      <td>...</td>\n",
       "      <td>...</td>\n",
       "      <td>...</td>\n",
       "      <td>...</td>\n",
       "      <td>...</td>\n",
       "      <td>...</td>\n",
       "      <td>...</td>\n",
       "      <td>...</td>\n",
       "      <td>...</td>\n",
       "      <td>...</td>\n",
       "    </tr>\n",
       "    <tr>\n",
       "      <th>466</th>\n",
       "      <td>blkswa</td>\n",
       "      <td>Black Swan</td>\n",
       "      <td>Cygnus atratus</td>\n",
       "      <td>L24234729</td>\n",
       "      <td>Welland Ridge Rd East to canal</td>\n",
       "      <td>2023-05-11 15:25</td>\n",
       "      <td>2.0</td>\n",
       "      <td>42.974800</td>\n",
       "      <td>-79.219017</td>\n",
       "      <td>True</td>\n",
       "      <td>True</td>\n",
       "      <td>True</td>\n",
       "      <td>S137133806</td>\n",
       "      <td>X</td>\n",
       "    </tr>\n",
       "    <tr>\n",
       "      <th>467</th>\n",
       "      <td>flfshe</td>\n",
       "      <td>Flesh-footed Shearwater</td>\n",
       "      <td>Ardenna carneipes</td>\n",
       "      <td>L24243961</td>\n",
       "      <td>Nitinat Canyon</td>\n",
       "      <td>2023-05-11 10:56</td>\n",
       "      <td>1.0</td>\n",
       "      <td>48.241805</td>\n",
       "      <td>-125.932523</td>\n",
       "      <td>True</td>\n",
       "      <td>False</td>\n",
       "      <td>True</td>\n",
       "      <td>S137185074</td>\n",
       "      <td>NaN</td>\n",
       "    </tr>\n",
       "    <tr>\n",
       "      <th>468</th>\n",
       "      <td>whtpta1</td>\n",
       "      <td>White-tailed Ptarmigan</td>\n",
       "      <td>Lagopus leucura</td>\n",
       "      <td>L24257920</td>\n",
       "      <td>MacMillan Pass Airstrip</td>\n",
       "      <td>2023-05-11 10:00</td>\n",
       "      <td>3.0</td>\n",
       "      <td>63.176511</td>\n",
       "      <td>-130.205679</td>\n",
       "      <td>True</td>\n",
       "      <td>False</td>\n",
       "      <td>True</td>\n",
       "      <td>S137259225</td>\n",
       "      <td>NaN</td>\n",
       "    </tr>\n",
       "    <tr>\n",
       "      <th>469</th>\n",
       "      <td>pomjae</td>\n",
       "      <td>Pomarine Jaeger</td>\n",
       "      <td>Stercorarius pomarinus</td>\n",
       "      <td>L2427624</td>\n",
       "      <td>Barkley Canyon</td>\n",
       "      <td>2023-05-11 08:00</td>\n",
       "      <td>1.0</td>\n",
       "      <td>48.503382</td>\n",
       "      <td>-125.884094</td>\n",
       "      <td>True</td>\n",
       "      <td>False</td>\n",
       "      <td>False</td>\n",
       "      <td>S137182925</td>\n",
       "      <td>NaN</td>\n",
       "    </tr>\n",
       "    <tr>\n",
       "      <th>470</th>\n",
       "      <td>norshr4</td>\n",
       "      <td>Northern Shrike</td>\n",
       "      <td>Lanius borealis</td>\n",
       "      <td>L24123824</td>\n",
       "      <td>Wood Buffalo NP--Crane pullout and wetland jus...</td>\n",
       "      <td>2023-05-10 20:00</td>\n",
       "      <td>1.0</td>\n",
       "      <td>60.023886</td>\n",
       "      <td>-112.947090</td>\n",
       "      <td>True</td>\n",
       "      <td>False</td>\n",
       "      <td>True</td>\n",
       "      <td>S137096848</td>\n",
       "      <td>NaN</td>\n",
       "    </tr>\n",
       "  </tbody>\n",
       "</table>\n",
       "<p>471 rows × 14 columns</p>\n",
       "</div>"
      ],
      "text/plain": [
       "    speciesCode                  comName                 sciName      locId  \\\n",
       "0        bawwar  Black-and-white Warbler         Mniotilta varia  L24605569   \n",
       "1        y00478             Iceland Gull        Larus glaucoides    L354063   \n",
       "2        hergul             Herring Gull        Larus argentatus    L354063   \n",
       "3        ribgul         Ring-billed Gull      Larus delawarensis    L354063   \n",
       "4        norpar          Northern Parula     Setophaga americana  L24605569   \n",
       "..          ...                      ...                     ...        ...   \n",
       "466      blkswa               Black Swan          Cygnus atratus  L24234729   \n",
       "467      flfshe  Flesh-footed Shearwater       Ardenna carneipes  L24243961   \n",
       "468     whtpta1   White-tailed Ptarmigan         Lagopus leucura  L24257920   \n",
       "469      pomjae          Pomarine Jaeger  Stercorarius pomarinus   L2427624   \n",
       "470     norshr4          Northern Shrike         Lanius borealis  L24123824   \n",
       "\n",
       "                                               locName             obsDt  \\\n",
       "0    19 Mills Lake Road, Geary, New Brunswick, CA (...  2023-05-23 18:45   \n",
       "1                              Saint John--Marsh Creek  2023-05-23 18:45   \n",
       "2                              Saint John--Marsh Creek  2023-05-23 18:45   \n",
       "3                              Saint John--Marsh Creek  2023-05-23 18:45   \n",
       "4    19 Mills Lake Road, Geary, New Brunswick, CA (...  2023-05-23 18:45   \n",
       "..                                                 ...               ...   \n",
       "466                     Welland Ridge Rd East to canal  2023-05-11 15:25   \n",
       "467                                     Nitinat Canyon  2023-05-11 10:56   \n",
       "468                            MacMillan Pass Airstrip  2023-05-11 10:00   \n",
       "469                                     Barkley Canyon  2023-05-11 08:00   \n",
       "470  Wood Buffalo NP--Crane pullout and wetland jus...  2023-05-10 20:00   \n",
       "\n",
       "     howMany        lat         lng  obsValid  obsReviewed  locationPrivate  \\\n",
       "0        2.0  45.773322  -66.535823      True        False             True   \n",
       "1        1.0  45.281445  -66.048887      True        False            False   \n",
       "2       10.0  45.281445  -66.048887      True        False            False   \n",
       "3       17.0  45.281445  -66.048887      True        False            False   \n",
       "4        2.0  45.773322  -66.535823      True        False             True   \n",
       "..       ...        ...         ...       ...          ...              ...   \n",
       "466      2.0  42.974800  -79.219017      True         True             True   \n",
       "467      1.0  48.241805 -125.932523      True        False             True   \n",
       "468      3.0  63.176511 -130.205679      True        False             True   \n",
       "469      1.0  48.503382 -125.884094      True        False            False   \n",
       "470      1.0  60.023886 -112.947090      True        False             True   \n",
       "\n",
       "          subId exoticCategory  \n",
       "0    S139014343            NaN  \n",
       "1    S139015416            NaN  \n",
       "2    S139015416            NaN  \n",
       "3    S139015416            NaN  \n",
       "4    S139014343            NaN  \n",
       "..          ...            ...  \n",
       "466  S137133806              X  \n",
       "467  S137185074            NaN  \n",
       "468  S137259225            NaN  \n",
       "469  S137182925            NaN  \n",
       "470  S137096848            NaN  \n",
       "\n",
       "[471 rows x 14 columns]"
      ]
     },
     "execution_count": 42,
     "metadata": {},
     "output_type": "execute_result"
    }
   ],
   "source": [
    "df_ca_recent"
   ]
  },
  {
   "cell_type": "code",
   "execution_count": null,
   "metadata": {},
   "outputs": [],
   "source": []
  }
 ],
 "metadata": {
  "kernelspec": {
   "display_name": "Python 3.10.11 ('exp_func')",
   "language": "python",
   "name": "python3"
  },
  "language_info": {
   "codemirror_mode": {
    "name": "ipython",
    "version": 3
   },
   "file_extension": ".py",
   "mimetype": "text/x-python",
   "name": "python",
   "nbconvert_exporter": "python",
   "pygments_lexer": "ipython3",
   "version": "3.10.11"
  },
  "orig_nbformat": 4,
  "vscode": {
   "interpreter": {
    "hash": "51ab48f99c10b131b06c2c5468102467b7e92e0ffbfd68ac19cda9304f04b617"
   }
  }
 },
 "nbformat": 4,
 "nbformat_minor": 2
}
