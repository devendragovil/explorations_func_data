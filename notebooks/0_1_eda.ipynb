{
 "cells": [
  {
   "cell_type": "code",
   "execution_count": 1,
   "metadata": {},
   "outputs": [],
   "source": [
    "import pandas as pd\n",
    "import numpy as np\n",
    "import matplotlib.pyplot as plt"
   ]
  },
  {
   "cell_type": "code",
   "execution_count": 2,
   "metadata": {},
   "outputs": [],
   "source": [
    "base_loc = '/Users/devendragovil/Library/Application Support/inaturalist/'"
   ]
  },
  {
   "cell_type": "code",
   "execution_count": 7,
   "metadata": {},
   "outputs": [],
   "source": [
    "df = pd.read_csv(base_loc + 'observations.csv', sep='\\t')"
   ]
  },
  {
   "cell_type": "code",
   "execution_count": 8,
   "metadata": {},
   "outputs": [
    {
     "data": {
      "text/plain": [
       "(94765503, 8)"
      ]
     },
     "execution_count": 8,
     "metadata": {},
     "output_type": "execute_result"
    }
   ],
   "source": [
    "df.shape"
   ]
  },
  {
   "cell_type": "code",
   "execution_count": 9,
   "metadata": {},
   "outputs": [
    {
     "data": {
      "text/html": [
       "<div>\n",
       "<style scoped>\n",
       "    .dataframe tbody tr th:only-of-type {\n",
       "        vertical-align: middle;\n",
       "    }\n",
       "\n",
       "    .dataframe tbody tr th {\n",
       "        vertical-align: top;\n",
       "    }\n",
       "\n",
       "    .dataframe thead th {\n",
       "        text-align: right;\n",
       "    }\n",
       "</style>\n",
       "<table border=\"1\" class=\"dataframe\">\n",
       "  <thead>\n",
       "    <tr style=\"text-align: right;\">\n",
       "      <th></th>\n",
       "      <th>observation_uuid</th>\n",
       "      <th>observer_id</th>\n",
       "      <th>latitude</th>\n",
       "      <th>longitude</th>\n",
       "      <th>positional_accuracy</th>\n",
       "      <th>taxon_id</th>\n",
       "      <th>quality_grade</th>\n",
       "      <th>observed_on</th>\n",
       "    </tr>\n",
       "  </thead>\n",
       "  <tbody>\n",
       "    <tr>\n",
       "      <th>0</th>\n",
       "      <td>526ababd-aff2-4ce8-b111-d8013b9d8b42</td>\n",
       "      <td>505</td>\n",
       "      <td>38.609740</td>\n",
       "      <td>-122.767302</td>\n",
       "      <td>NaN</td>\n",
       "      <td>53137.0</td>\n",
       "      <td>research</td>\n",
       "      <td>2011-05-30</td>\n",
       "    </tr>\n",
       "    <tr>\n",
       "      <th>1</th>\n",
       "      <td>192a2b2c-1def-4172-b1c4-674efef4eaba</td>\n",
       "      <td>347</td>\n",
       "      <td>41.007900</td>\n",
       "      <td>-95.897141</td>\n",
       "      <td>NaN</td>\n",
       "      <td>47157.0</td>\n",
       "      <td>needs_id</td>\n",
       "      <td>2011-06-02</td>\n",
       "    </tr>\n",
       "    <tr>\n",
       "      <th>2</th>\n",
       "      <td>ca563500-5c4b-4471-ae14-8977fe14cff9</td>\n",
       "      <td>347</td>\n",
       "      <td>NaN</td>\n",
       "      <td>NaN</td>\n",
       "      <td>NaN</td>\n",
       "      <td>54964.0</td>\n",
       "      <td>casual</td>\n",
       "      <td>2011-06-02</td>\n",
       "    </tr>\n",
       "    <tr>\n",
       "      <th>3</th>\n",
       "      <td>4c29f4cc-3b42-4d6d-872a-fd1007007a75</td>\n",
       "      <td>347</td>\n",
       "      <td>41.007900</td>\n",
       "      <td>-95.897141</td>\n",
       "      <td>NaN</td>\n",
       "      <td>358161.0</td>\n",
       "      <td>needs_id</td>\n",
       "      <td>2011-06-02</td>\n",
       "    </tr>\n",
       "    <tr>\n",
       "      <th>4</th>\n",
       "      <td>966c3d38-de4d-4d31-a0f3-b32b7deb1ea3</td>\n",
       "      <td>533</td>\n",
       "      <td>-25.719343</td>\n",
       "      <td>27.187214</td>\n",
       "      <td>NaN</td>\n",
       "      <td>2334.0</td>\n",
       "      <td>research</td>\n",
       "      <td>2007-06-27</td>\n",
       "    </tr>\n",
       "  </tbody>\n",
       "</table>\n",
       "</div>"
      ],
      "text/plain": [
       "                       observation_uuid  observer_id   latitude   longitude  \\\n",
       "0  526ababd-aff2-4ce8-b111-d8013b9d8b42          505  38.609740 -122.767302   \n",
       "1  192a2b2c-1def-4172-b1c4-674efef4eaba          347  41.007900  -95.897141   \n",
       "2  ca563500-5c4b-4471-ae14-8977fe14cff9          347        NaN         NaN   \n",
       "3  4c29f4cc-3b42-4d6d-872a-fd1007007a75          347  41.007900  -95.897141   \n",
       "4  966c3d38-de4d-4d31-a0f3-b32b7deb1ea3          533 -25.719343   27.187214   \n",
       "\n",
       "   positional_accuracy  taxon_id quality_grade observed_on  \n",
       "0                  NaN   53137.0      research  2011-05-30  \n",
       "1                  NaN   47157.0      needs_id  2011-06-02  \n",
       "2                  NaN   54964.0        casual  2011-06-02  \n",
       "3                  NaN  358161.0      needs_id  2011-06-02  \n",
       "4                  NaN    2334.0      research  2007-06-27  "
      ]
     },
     "execution_count": 9,
     "metadata": {},
     "output_type": "execute_result"
    }
   ],
   "source": [
    "df.head()"
   ]
  },
  {
   "cell_type": "code",
   "execution_count": 10,
   "metadata": {},
   "outputs": [
    {
     "name": "stdout",
     "output_type": "stream",
     "text": [
      "<class 'pandas.core.frame.DataFrame'>\n",
      "RangeIndex: 94765503 entries, 0 to 94765502\n",
      "Data columns (total 8 columns):\n",
      " #   Column               Dtype  \n",
      "---  ------               -----  \n",
      " 0   observation_uuid     object \n",
      " 1   observer_id          int64  \n",
      " 2   latitude             float64\n",
      " 3   longitude            float64\n",
      " 4   positional_accuracy  float64\n",
      " 5   taxon_id             float64\n",
      " 6   quality_grade        object \n",
      " 7   observed_on          object \n",
      "dtypes: float64(4), int64(1), object(3)\n",
      "memory usage: 5.6+ GB\n"
     ]
    }
   ],
   "source": [
    "df.info()"
   ]
  },
  {
   "cell_type": "code",
   "execution_count": 11,
   "metadata": {},
   "outputs": [],
   "source": [
    "df.drop(columns=['observation_uuid'], inplace=True)"
   ]
  },
  {
   "cell_type": "code",
   "execution_count": 12,
   "metadata": {},
   "outputs": [
    {
     "name": "stdout",
     "output_type": "stream",
     "text": [
      "<class 'pandas.core.frame.DataFrame'>\n",
      "RangeIndex: 94765503 entries, 0 to 94765502\n",
      "Data columns (total 7 columns):\n",
      " #   Column               Dtype  \n",
      "---  ------               -----  \n",
      " 0   observer_id          int64  \n",
      " 1   latitude             float64\n",
      " 2   longitude            float64\n",
      " 3   positional_accuracy  float64\n",
      " 4   taxon_id             float64\n",
      " 5   quality_grade        object \n",
      " 6   observed_on          object \n",
      "dtypes: float64(4), int64(1), object(2)\n",
      "memory usage: 4.9+ GB\n"
     ]
    }
   ],
   "source": [
    "df.info()"
   ]
  },
  {
   "cell_type": "code",
   "execution_count": 13,
   "metadata": {},
   "outputs": [
    {
     "data": {
      "text/plain": [
       "482245"
      ]
     },
     "execution_count": 13,
     "metadata": {},
     "output_type": "execute_result"
    }
   ],
   "source": [
    "df['taxon_id'].nunique()"
   ]
  },
  {
   "cell_type": "code",
   "execution_count": 22,
   "metadata": {},
   "outputs": [],
   "source": [
    "df_taxon = pd.read_csv(base_loc + 'taxa.csv', sep='\\t')"
   ]
  },
  {
   "cell_type": "code",
   "execution_count": 27,
   "metadata": {},
   "outputs": [
    {
     "name": "stdout",
     "output_type": "stream",
     "text": [
      "['48460/1/47120/372739/47158/184884/47201/124417/326777/47222/630955/47221/199939/538904/47220/578086']\n"
     ]
    }
   ],
   "source": [
    "print(df_taxon[df_taxon['taxon_id'] == 47219]['ancestry'].values)"
   ]
  },
  {
   "cell_type": "code",
   "execution_count": 29,
   "metadata": {},
   "outputs": [
    {
     "data": {
      "text/html": [
       "<div>\n",
       "<style scoped>\n",
       "    .dataframe tbody tr th:only-of-type {\n",
       "        vertical-align: middle;\n",
       "    }\n",
       "\n",
       "    .dataframe tbody tr th {\n",
       "        vertical-align: top;\n",
       "    }\n",
       "\n",
       "    .dataframe thead th {\n",
       "        text-align: right;\n",
       "    }\n",
       "</style>\n",
       "<table border=\"1\" class=\"dataframe\">\n",
       "  <thead>\n",
       "    <tr style=\"text-align: right;\">\n",
       "      <th></th>\n",
       "      <th>taxon_id</th>\n",
       "      <th>ancestry</th>\n",
       "      <th>rank_level</th>\n",
       "      <th>rank</th>\n",
       "      <th>name</th>\n",
       "      <th>active</th>\n",
       "    </tr>\n",
       "  </thead>\n",
       "  <tbody>\n",
       "    <tr>\n",
       "      <th>33065</th>\n",
       "      <td>47219</td>\n",
       "      <td>48460/1/47120/372739/47158/184884/47201/124417...</td>\n",
       "      <td>10.0</td>\n",
       "      <td>species</td>\n",
       "      <td>Apis mellifera</td>\n",
       "      <td>True</td>\n",
       "    </tr>\n",
       "  </tbody>\n",
       "</table>\n",
       "</div>"
      ],
      "text/plain": [
       "       taxon_id                                           ancestry  \\\n",
       "33065     47219  48460/1/47120/372739/47158/184884/47201/124417...   \n",
       "\n",
       "       rank_level     rank            name  active  \n",
       "33065        10.0  species  Apis mellifera    True  "
      ]
     },
     "execution_count": 29,
     "metadata": {},
     "output_type": "execute_result"
    }
   ],
   "source": [
    "df_taxon[df_taxon['taxon_id'] == 47219]"
   ]
  },
  {
   "cell_type": "code",
   "execution_count": 21,
   "metadata": {},
   "outputs": [
    {
     "name": "stdout",
     "output_type": "stream",
     "text": [
      "<class 'pandas.core.frame.DataFrame'>\n",
      "RangeIndex: 10 entries, 0 to 9\n",
      "Data columns (total 6 columns):\n",
      " #   Column      Non-Null Count  Dtype \n",
      "---  ------      --------------  ----- \n",
      " 0   taxon_id    10 non-null     int64 \n",
      " 1   ancestry    10 non-null     object\n",
      " 2   rank_level  10 non-null     int64 \n",
      " 3   rank        10 non-null     object\n",
      " 4   name        10 non-null     object\n",
      " 5   active      10 non-null     bool  \n",
      "dtypes: bool(1), int64(2), object(3)\n",
      "memory usage: 538.0+ bytes\n"
     ]
    }
   ],
   "source": [
    "df_taxon.info()"
   ]
  },
  {
   "cell_type": "code",
   "execution_count": null,
   "metadata": {},
   "outputs": [],
   "source": [
    "df_taxon"
   ]
  }
 ],
 "metadata": {
  "kernelspec": {
   "display_name": "Python 3.10.11 ('exp_func')",
   "language": "python",
   "name": "python3"
  },
  "language_info": {
   "codemirror_mode": {
    "name": "ipython",
    "version": 3
   },
   "file_extension": ".py",
   "mimetype": "text/x-python",
   "name": "python",
   "nbconvert_exporter": "python",
   "pygments_lexer": "ipython3",
   "version": "3.10.11"
  },
  "orig_nbformat": 4,
  "vscode": {
   "interpreter": {
    "hash": "51ab48f99c10b131b06c2c5468102467b7e92e0ffbfd68ac19cda9304f04b617"
   }
  }
 },
 "nbformat": 4,
 "nbformat_minor": 2
}
