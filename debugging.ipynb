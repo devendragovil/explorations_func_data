{
 "cells": [
  {
   "cell_type": "markdown",
   "metadata": {},
   "source": [
    "Debugging issues with occurrence.txt file"
   ]
  },
  {
   "cell_type": "code",
   "execution_count": 1,
   "metadata": {},
   "outputs": [],
   "source": [
    "import pandas as pd\n",
    "import numpy as np\n",
    "import matplotlib.pyplot as plt"
   ]
  },
  {
   "cell_type": "code",
   "execution_count": 2,
   "metadata": {},
   "outputs": [],
   "source": [
    "with open('./occurrence.txt', 'r') as f:\n",
    "    file_read = f.readlines()"
   ]
  },
  {
   "cell_type": "code",
   "execution_count": 3,
   "metadata": {},
   "outputs": [],
   "source": [
    "number_of_tabs = [x.count('\\t') for x in file_read]"
   ]
  },
  {
   "cell_type": "code",
   "execution_count": 4,
   "metadata": {},
   "outputs": [],
   "source": [
    "a = set(number_of_tabs)"
   ]
  },
  {
   "cell_type": "code",
   "execution_count": 5,
   "metadata": {},
   "outputs": [
    {
     "data": {
      "text/plain": [
       "{211}"
      ]
     },
     "execution_count": 5,
     "metadata": {},
     "output_type": "execute_result"
    }
   ],
   "source": [
    "a"
   ]
  },
  {
   "cell_type": "code",
   "execution_count": 7,
   "metadata": {},
   "outputs": [],
   "source": [
    "parsed_lines = [file_read[5132652+x].split('\\t') for x in range(10)]"
   ]
  },
  {
   "cell_type": "code",
   "execution_count": 10,
   "metadata": {},
   "outputs": [
    {
     "data": {
      "text/plain": [
       "['3985718243',\n",
       " '',\n",
       " '',\n",
       " '',\n",
       " 'CC_BY_NC_4_0',\n",
       " '2022-11-29T19:40:54Z',\n",
       " 'iNaturalist.org',\n",
       " 'https://www.inaturalist.org/observations/142256791',\n",
       " 'steve_y',\n",
       " '',\n",
       " '',\n",
       " '',\n",
       " '',\n",
       " 'iNaturalist',\n",
       " 'Observations',\n",
       " 'iNaturalist research-grade observations',\n",
       " '',\n",
       " 'HUMAN_OBSERVATION',\n",
       " '',\n",
       " '',\n",
       " '',\n",
       " 'https://www.inaturalist.org/observations/142256791',\n",
       " '142256791',\n",
       " '',\n",
       " 'steve_y',\n",
       " '',\n",
       " '',\n",
       " '',\n",
       " '',\n",
       " '',\n",
       " '',\n",
       " '',\n",
       " '',\n",
       " '',\n",
       " '',\n",
       " '',\n",
       " '',\n",
       " 'PRESENT',\n",
       " '',\n",
       " '',\n",
       " '',\n",
       " '',\n",
       " '',\n",
       " '',\n",
       " '',\n",
       " 'Seen outside after a rainy day, Was 67 degrees fahrenheit.',\n",
       " '',\n",
       " '',\n",
       " '',\n",
       " '',\n",
       " '',\n",
       " '',\n",
       " '',\n",
       " '',\n",
       " '',\n",
       " '',\n",
       " '2022-11-09T09:58:43',\n",
       " '09:58:43-08:00',\n",
       " '',\n",
       " '',\n",
       " '2022',\n",
       " '11',\n",
       " '9',\n",
       " '2022-11-09 09:58:43',\n",
       " '',\n",
       " '',\n",
       " '',\n",
       " '',\n",
       " '',\n",
       " '',\n",
       " '',\n",
       " '',\n",
       " '',\n",
       " '',\n",
       " 'NORTH_AMERICA',\n",
       " '',\n",
       " '',\n",
       " '',\n",
       " 'US',\n",
       " 'California',\n",
       " '',\n",
       " '',\n",
       " '',\n",
       " '\"LC - Learning Resource Center, Norwalk, CA 90650, USA',\n",
       " '',\n",
       " '',\n",
       " '',\n",
       " '',\n",
       " '',\n",
       " '',\n",
       " '',\n",
       " '33.885969',\n",
       " '-118.097268',\n",
       " '',\n",
       " '',\n",
       " '',\n",
       " '',\n",
       " '',\n",
       " '',\n",
       " '',\n",
       " '',\n",
       " '',\n",
       " '',\n",
       " '',\n",
       " '',\n",
       " '',\n",
       " '',\n",
       " '',\n",
       " '',\n",
       " '',\n",
       " '',\n",
       " '',\n",
       " '',\n",
       " '',\n",
       " '',\n",
       " '',\n",
       " '',\n",
       " '',\n",
       " '',\n",
       " '',\n",
       " '',\n",
       " '',\n",
       " '',\n",
       " '',\n",
       " '314417695',\n",
       " '',\n",
       " '',\n",
       " '',\n",
       " 'steve_y',\n",
       " '',\n",
       " '2022-11-18T00:40:06',\n",
       " '',\n",
       " '',\n",
       " '',\n",
       " '128568',\n",
       " '',\n",
       " '2295819',\n",
       " '',\n",
       " '',\n",
       " '',\n",
       " '',\n",
       " '',\n",
       " 'Polygyra cereolus (Megerle von Mühlfeld, 1818)',\n",
       " '',\n",
       " '',\n",
       " '',\n",
       " '',\n",
       " '',\n",
       " '',\n",
       " '',\n",
       " 'Animalia',\n",
       " 'Mollusca',\n",
       " 'Gastropoda',\n",
       " 'Stylommatophora',\n",
       " 'Polygyridae',\n",
       " '',\n",
       " 'Polygyra',\n",
       " 'Polygyra',\n",
       " '',\n",
       " '',\n",
       " 'cereolus',\n",
       " '',\n",
       " '',\n",
       " 'SPECIES',\n",
       " '',\n",
       " '',\n",
       " '',\n",
       " 'ACCEPTED',\n",
       " '',\n",
       " '',\n",
       " '50c9509d-22c7-4a22-a47d-8c48425ef4a7',\n",
       " 'US',\n",
       " '2023-10-26T19:19:26.983Z',\n",
       " '',\n",
       " '',\n",
       " '',\n",
       " '',\n",
       " '',\n",
       " 'COORDINATE_ROUNDED;CONTINENT_DERIVED_FROM_COORDINATES;TAXON_MATCH_TAXON_ID_IGNORED',\n",
       " 'StillImage',\n",
       " 'true',\n",
       " 'false',\n",
       " '2295819',\n",
       " '2295819',\n",
       " '1',\n",
       " '52',\n",
       " '225',\n",
       " '1456',\n",
       " '2624',\n",
       " '2295806',\n",
       " '',\n",
       " '2295819',\n",
       " 'Polygyra cereolus',\n",
       " 'Polygyra cereolus (Megerle von Mühlfeld, 1818)',\n",
       " 'Polygyra cereolus',\n",
       " '',\n",
       " 'DWC_ARCHIVE',\n",
       " '2023-10-26T19:19:26.983Z',\n",
       " '2023-10-26T10:11:20.854Z',\n",
       " 'false',\n",
       " '',\n",
       " 'null',\n",
       " 'USA',\n",
       " 'United States',\n",
       " 'USA.5_1',\n",
       " 'California',\n",
       " 'USA.5.19_1',\n",
       " 'Los Angeles',\n",
       " '',\n",
       " '',\n",
       " 'NE',\n",
       " '\\n']"
      ]
     },
     "execution_count": 10,
     "metadata": {},
     "output_type": "execute_result"
    }
   ],
   "source": [
    "parsed_lines[4]"
   ]
  },
  {
   "cell_type": "code",
   "execution_count": 12,
   "metadata": {},
   "outputs": [
    {
     "name": "stderr",
     "output_type": "stream",
     "text": [
      "/var/folders/ms/2ygwp03d4b5526gc0h51spqh0000gn/T/ipykernel_62561/3877355490.py:1: DtypeWarning: Columns (208,209) have mixed types. Specify dtype option on import or set low_memory=False.\n",
      "  df = pd.read_csv('./occurrence.txt', delimiter='\\t', quoting=3)\n"
     ]
    }
   ],
   "source": [
    "df = pd.read_csv('./occurrence.txt', delimiter='\\t', quoting=3)"
   ]
  },
  {
   "cell_type": "code",
   "execution_count": null,
   "metadata": {},
   "outputs": [],
   "source": []
  }
 ],
 "metadata": {
  "kernelspec": {
   "display_name": "Python 3.9.12 ('base')",
   "language": "python",
   "name": "python3"
  },
  "language_info": {
   "codemirror_mode": {
    "name": "ipython",
    "version": 3
   },
   "file_extension": ".py",
   "mimetype": "text/x-python",
   "name": "python",
   "nbconvert_exporter": "python",
   "pygments_lexer": "ipython3",
   "version": "3.9.12"
  },
  "orig_nbformat": 4,
  "vscode": {
   "interpreter": {
    "hash": "e0c937fdf9ccae87d0c83294b3046bb90558c3dea393d9c359be1166f2ad2fa3"
   }
  }
 },
 "nbformat": 4,
 "nbformat_minor": 2
}
