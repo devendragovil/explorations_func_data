{
 "cells": [
  {
   "cell_type": "code",
   "execution_count": 1,
   "metadata": {},
   "outputs": [],
   "source": [
    "import pandas as pd"
   ]
  },
  {
   "cell_type": "code",
   "execution_count": 2,
   "metadata": {},
   "outputs": [
    {
     "name": "stderr",
     "output_type": "stream",
     "text": [
      "/var/folders/ms/2ygwp03d4b5526gc0h51spqh0000gn/T/ipykernel_41606/3809163833.py:1: DtypeWarning: Columns (100,108,110,111,112,114,115,118,121,128,130,136,138,139,140,141,150,152,153,154,156,157,158,159,160,161,162,163,164,165,166,168,169,171,178,180,189,190,191,204,208,211,212,214,215,219,228,229,247,255,256) have mixed types. Specify dtype option on import or set low_memory=False.\n",
      "  df_inat = pd.read_csv('../data/gbif/occurrence.txt', delimiter='\\t', quotechar='\"')\n"
     ]
    }
   ],
   "source": [
    "df_inat = pd.read_csv('../data/gbif/occurrence.txt', delimiter='\\t', quotechar='\"')"
   ]
  },
  {
   "cell_type": "code",
   "execution_count": 3,
   "metadata": {},
   "outputs": [
    {
     "name": "stderr",
     "output_type": "stream",
     "text": [
      "/var/folders/ms/2ygwp03d4b5526gc0h51spqh0000gn/T/ipykernel_41606/142200405.py:1: DtypeWarning: Columns (9,23) have mixed types. Specify dtype option on import or set low_memory=False.\n",
      "  df_eBird = pd.read_csv('../data/eBird/ebd_US-CA_201901_201912_relApr-2023/ebd_US-CA_201901_201912_relApr-2023.txt', sep='\\t')\n"
     ]
    }
   ],
   "source": [
    "df_eBird = pd.read_csv('../data/eBird/ebd_US-CA_201901_201912_relApr-2023/ebd_US-CA_201901_201912_relApr-2023.txt', sep='\\t')"
   ]
  },
  {
   "cell_type": "code",
   "execution_count": 31,
   "metadata": {},
   "outputs": [
    {
     "data": {
      "text/plain": [
       "(3321454, 259)"
      ]
     },
     "execution_count": 31,
     "metadata": {},
     "output_type": "execute_result"
    }
   ],
   "source": [
    "df_inat.shape"
   ]
  },
  {
   "cell_type": "code",
   "execution_count": 32,
   "metadata": {},
   "outputs": [
    {
     "data": {
      "text/plain": [
       "(8694926, 50)"
      ]
     },
     "execution_count": 32,
     "metadata": {},
     "output_type": "execute_result"
    }
   ],
   "source": [
    "df_eBird.shape"
   ]
  },
  {
   "cell_type": "code",
   "execution_count": 4,
   "metadata": {},
   "outputs": [],
   "source": [
    "rel_columns_iNat = [\n",
    "    'taxonID',\n",
    "    'taxonKey',\n",
    "    'countryCode',\n",
    "    'stateProvince',\n",
    "    'decimalLatitude',\n",
    "    'decimalLongitude',\n",
    "    'eventDate',\n",
    "]\n",
    "rel_columns_eBird = [\n",
    "    'TAXON CONCEPT ID',\n",
    "    'OBSERVATION COUNT',\n",
    "    'COUNTRY',\n",
    "    'STATE',\n",
    "    'LATITUDE',\n",
    "    'LONGITUDE',\n",
    "    'OBSERVATION DATE',\n",
    "]"
   ]
  },
  {
   "cell_type": "code",
   "execution_count": 5,
   "metadata": {},
   "outputs": [],
   "source": [
    "df_iNat2 = df_inat[rel_columns_iNat].copy()\n",
    "df_eBird2 = df_eBird[rel_columns_eBird].copy()"
   ]
  },
  {
   "cell_type": "code",
   "execution_count": 6,
   "metadata": {},
   "outputs": [
    {
     "data": {
      "text/html": [
       "<div>\n",
       "<style scoped>\n",
       "    .dataframe tbody tr th:only-of-type {\n",
       "        vertical-align: middle;\n",
       "    }\n",
       "\n",
       "    .dataframe tbody tr th {\n",
       "        vertical-align: top;\n",
       "    }\n",
       "\n",
       "    .dataframe thead th {\n",
       "        text-align: right;\n",
       "    }\n",
       "</style>\n",
       "<table border=\"1\" class=\"dataframe\">\n",
       "  <thead>\n",
       "    <tr style=\"text-align: right;\">\n",
       "      <th></th>\n",
       "      <th>taxonID</th>\n",
       "      <th>taxonKey</th>\n",
       "      <th>countryCode</th>\n",
       "      <th>stateProvince</th>\n",
       "      <th>decimalLatitude</th>\n",
       "      <th>decimalLongitude</th>\n",
       "      <th>eventDate</th>\n",
       "    </tr>\n",
       "  </thead>\n",
       "  <tbody>\n",
       "    <tr>\n",
       "      <th>0</th>\n",
       "      <td>123045</td>\n",
       "      <td>2515238.0</td>\n",
       "      <td>US</td>\n",
       "      <td>California</td>\n",
       "      <td>34.140209</td>\n",
       "      <td>-119.187897</td>\n",
       "      <td>2019-01-30T09:59:56</td>\n",
       "    </tr>\n",
       "    <tr>\n",
       "      <th>1</th>\n",
       "      <td>84994</td>\n",
       "      <td>5156078.0</td>\n",
       "      <td>US</td>\n",
       "      <td>Florida</td>\n",
       "      <td>28.059126</td>\n",
       "      <td>-82.418194</td>\n",
       "      <td>2019-01-21T14:35:00</td>\n",
       "    </tr>\n",
       "    <tr>\n",
       "      <th>2</th>\n",
       "      <td>36204</td>\n",
       "      <td>2451234.0</td>\n",
       "      <td>US</td>\n",
       "      <td>California</td>\n",
       "      <td>35.271399</td>\n",
       "      <td>-120.888941</td>\n",
       "      <td>2019-03-17T13:56:00</td>\n",
       "    </tr>\n",
       "    <tr>\n",
       "      <th>3</th>\n",
       "      <td>53326</td>\n",
       "      <td>3169708.0</td>\n",
       "      <td>US</td>\n",
       "      <td>Georgia</td>\n",
       "      <td>33.769633</td>\n",
       "      <td>-84.30645</td>\n",
       "      <td>2019-03-29T14:33:23</td>\n",
       "    </tr>\n",
       "    <tr>\n",
       "      <th>4</th>\n",
       "      <td>9176</td>\n",
       "      <td>5231132.0</td>\n",
       "      <td>US</td>\n",
       "      <td>Texas</td>\n",
       "      <td>33.562034</td>\n",
       "      <td>-101.809798</td>\n",
       "      <td>2019-04-02T12:44:00</td>\n",
       "    </tr>\n",
       "  </tbody>\n",
       "</table>\n",
       "</div>"
      ],
      "text/plain": [
       "  taxonID   taxonKey countryCode stateProvince  decimalLatitude  \\\n",
       "0  123045  2515238.0          US    California        34.140209   \n",
       "1   84994  5156078.0          US       Florida        28.059126   \n",
       "2   36204  2451234.0          US    California        35.271399   \n",
       "3   53326  3169708.0          US       Georgia        33.769633   \n",
       "4    9176  5231132.0          US         Texas        33.562034   \n",
       "\n",
       "  decimalLongitude            eventDate  \n",
       "0      -119.187897  2019-01-30T09:59:56  \n",
       "1       -82.418194  2019-01-21T14:35:00  \n",
       "2      -120.888941  2019-03-17T13:56:00  \n",
       "3        -84.30645  2019-03-29T14:33:23  \n",
       "4      -101.809798  2019-04-02T12:44:00  "
      ]
     },
     "execution_count": 6,
     "metadata": {},
     "output_type": "execute_result"
    }
   ],
   "source": [
    "df_iNat2.head()"
   ]
  },
  {
   "cell_type": "code",
   "execution_count": 8,
   "metadata": {},
   "outputs": [
    {
     "data": {
      "text/plain": [
       "US    3321452\n",
       "Name: countryCode, dtype: int64"
      ]
     },
     "execution_count": 8,
     "metadata": {},
     "output_type": "execute_result"
    }
   ],
   "source": [
    "df_iNat2['countryCode'].value_counts()"
   ]
  },
  {
   "cell_type": "markdown",
   "metadata": {},
   "source": [
    "# eBird Analysis"
   ]
  },
  {
   "cell_type": "code",
   "execution_count": 10,
   "metadata": {},
   "outputs": [
    {
     "data": {
      "text/plain": [
       "United States    8694926\n",
       "Name: COUNTRY, dtype: int64"
      ]
     },
     "execution_count": 10,
     "metadata": {},
     "output_type": "execute_result"
    }
   ],
   "source": [
    "df_eBird2['COUNTRY'].value_counts()"
   ]
  },
  {
   "cell_type": "code",
   "execution_count": 11,
   "metadata": {},
   "outputs": [
    {
     "data": {
      "text/plain": [
       "California    8694926\n",
       "Name: STATE, dtype: int64"
      ]
     },
     "execution_count": 11,
     "metadata": {},
     "output_type": "execute_result"
    }
   ],
   "source": [
    "df_eBird2['STATE'].value_counts()"
   ]
  },
  {
   "cell_type": "code",
   "execution_count": 12,
   "metadata": {},
   "outputs": [
    {
     "data": {
      "text/html": [
       "<div>\n",
       "<style scoped>\n",
       "    .dataframe tbody tr th:only-of-type {\n",
       "        vertical-align: middle;\n",
       "    }\n",
       "\n",
       "    .dataframe tbody tr th {\n",
       "        vertical-align: top;\n",
       "    }\n",
       "\n",
       "    .dataframe thead th {\n",
       "        text-align: right;\n",
       "    }\n",
       "</style>\n",
       "<table border=\"1\" class=\"dataframe\">\n",
       "  <thead>\n",
       "    <tr style=\"text-align: right;\">\n",
       "      <th></th>\n",
       "      <th>TAXON CONCEPT ID</th>\n",
       "      <th>OBSERVATION COUNT</th>\n",
       "      <th>COUNTRY</th>\n",
       "      <th>STATE</th>\n",
       "      <th>LATITUDE</th>\n",
       "      <th>LONGITUDE</th>\n",
       "      <th>OBSERVATION DATE</th>\n",
       "    </tr>\n",
       "  </thead>\n",
       "  <tbody>\n",
       "    <tr>\n",
       "      <th>0</th>\n",
       "      <td>avibase-CA08045E</td>\n",
       "      <td>1</td>\n",
       "      <td>United States</td>\n",
       "      <td>California</td>\n",
       "      <td>37.892331</td>\n",
       "      <td>-122.311800</td>\n",
       "      <td>2019-01-13</td>\n",
       "    </tr>\n",
       "    <tr>\n",
       "      <th>1</th>\n",
       "      <td>avibase-CA08045E</td>\n",
       "      <td>X</td>\n",
       "      <td>United States</td>\n",
       "      <td>California</td>\n",
       "      <td>37.871270</td>\n",
       "      <td>-122.307890</td>\n",
       "      <td>2019-01-01</td>\n",
       "    </tr>\n",
       "    <tr>\n",
       "      <th>2</th>\n",
       "      <td>avibase-CA08045E</td>\n",
       "      <td>1</td>\n",
       "      <td>United States</td>\n",
       "      <td>California</td>\n",
       "      <td>37.834029</td>\n",
       "      <td>-122.238747</td>\n",
       "      <td>2019-01-25</td>\n",
       "    </tr>\n",
       "    <tr>\n",
       "      <th>3</th>\n",
       "      <td>avibase-CA08045E</td>\n",
       "      <td>1</td>\n",
       "      <td>United States</td>\n",
       "      <td>California</td>\n",
       "      <td>37.695328</td>\n",
       "      <td>-121.844741</td>\n",
       "      <td>2019-01-10</td>\n",
       "    </tr>\n",
       "    <tr>\n",
       "      <th>4</th>\n",
       "      <td>avibase-CA08045E</td>\n",
       "      <td>1</td>\n",
       "      <td>United States</td>\n",
       "      <td>California</td>\n",
       "      <td>37.834029</td>\n",
       "      <td>-122.238747</td>\n",
       "      <td>2019-01-25</td>\n",
       "    </tr>\n",
       "  </tbody>\n",
       "</table>\n",
       "</div>"
      ],
      "text/plain": [
       "   TAXON CONCEPT ID OBSERVATION COUNT        COUNTRY       STATE   LATITUDE  \\\n",
       "0  avibase-CA08045E                 1  United States  California  37.892331   \n",
       "1  avibase-CA08045E                 X  United States  California  37.871270   \n",
       "2  avibase-CA08045E                 1  United States  California  37.834029   \n",
       "3  avibase-CA08045E                 1  United States  California  37.695328   \n",
       "4  avibase-CA08045E                 1  United States  California  37.834029   \n",
       "\n",
       "    LONGITUDE OBSERVATION DATE  \n",
       "0 -122.311800       2019-01-13  \n",
       "1 -122.307890       2019-01-01  \n",
       "2 -122.238747       2019-01-25  \n",
       "3 -121.844741       2019-01-10  \n",
       "4 -122.238747       2019-01-25  "
      ]
     },
     "execution_count": 12,
     "metadata": {},
     "output_type": "execute_result"
    }
   ],
   "source": [
    "df_eBird2.head()"
   ]
  },
  {
   "cell_type": "code",
   "execution_count": 13,
   "metadata": {},
   "outputs": [],
   "source": [
    "df_eBird2['AVIBASEID'] = df_eBird2['TAXON CONCEPT ID'].apply(lambda x : x[-8:])"
   ]
  },
  {
   "cell_type": "code",
   "execution_count": 34,
   "metadata": {},
   "outputs": [
    {
     "data": {
      "text/html": [
       "<div>\n",
       "<style scoped>\n",
       "    .dataframe tbody tr th:only-of-type {\n",
       "        vertical-align: middle;\n",
       "    }\n",
       "\n",
       "    .dataframe tbody tr th {\n",
       "        vertical-align: top;\n",
       "    }\n",
       "\n",
       "    .dataframe thead th {\n",
       "        text-align: right;\n",
       "    }\n",
       "</style>\n",
       "<table border=\"1\" class=\"dataframe\">\n",
       "  <thead>\n",
       "    <tr style=\"text-align: right;\">\n",
       "      <th></th>\n",
       "      <th>TAXON CONCEPT ID</th>\n",
       "      <th>OBSERVATION COUNT</th>\n",
       "      <th>COUNTRY</th>\n",
       "      <th>STATE</th>\n",
       "      <th>LATITUDE</th>\n",
       "      <th>LONGITUDE</th>\n",
       "      <th>OBSERVATION DATE</th>\n",
       "      <th>AVIBASEID</th>\n",
       "    </tr>\n",
       "  </thead>\n",
       "  <tbody>\n",
       "    <tr>\n",
       "      <th>0</th>\n",
       "      <td>avibase-CA08045E</td>\n",
       "      <td>1</td>\n",
       "      <td>United States</td>\n",
       "      <td>California</td>\n",
       "      <td>37.892331</td>\n",
       "      <td>-122.311800</td>\n",
       "      <td>2019-01-13</td>\n",
       "      <td>CA08045E</td>\n",
       "    </tr>\n",
       "    <tr>\n",
       "      <th>1</th>\n",
       "      <td>avibase-CA08045E</td>\n",
       "      <td>X</td>\n",
       "      <td>United States</td>\n",
       "      <td>California</td>\n",
       "      <td>37.871270</td>\n",
       "      <td>-122.307890</td>\n",
       "      <td>2019-01-01</td>\n",
       "      <td>CA08045E</td>\n",
       "    </tr>\n",
       "    <tr>\n",
       "      <th>2</th>\n",
       "      <td>avibase-CA08045E</td>\n",
       "      <td>1</td>\n",
       "      <td>United States</td>\n",
       "      <td>California</td>\n",
       "      <td>37.834029</td>\n",
       "      <td>-122.238747</td>\n",
       "      <td>2019-01-25</td>\n",
       "      <td>CA08045E</td>\n",
       "    </tr>\n",
       "    <tr>\n",
       "      <th>3</th>\n",
       "      <td>avibase-CA08045E</td>\n",
       "      <td>1</td>\n",
       "      <td>United States</td>\n",
       "      <td>California</td>\n",
       "      <td>37.695328</td>\n",
       "      <td>-121.844741</td>\n",
       "      <td>2019-01-10</td>\n",
       "      <td>CA08045E</td>\n",
       "    </tr>\n",
       "    <tr>\n",
       "      <th>4</th>\n",
       "      <td>avibase-CA08045E</td>\n",
       "      <td>1</td>\n",
       "      <td>United States</td>\n",
       "      <td>California</td>\n",
       "      <td>37.834029</td>\n",
       "      <td>-122.238747</td>\n",
       "      <td>2019-01-25</td>\n",
       "      <td>CA08045E</td>\n",
       "    </tr>\n",
       "    <tr>\n",
       "      <th>...</th>\n",
       "      <td>...</td>\n",
       "      <td>...</td>\n",
       "      <td>...</td>\n",
       "      <td>...</td>\n",
       "      <td>...</td>\n",
       "      <td>...</td>\n",
       "      <td>...</td>\n",
       "      <td>...</td>\n",
       "    </tr>\n",
       "    <tr>\n",
       "      <th>8694921</th>\n",
       "      <td>avibase-BC5A9498</td>\n",
       "      <td>13</td>\n",
       "      <td>United States</td>\n",
       "      <td>California</td>\n",
       "      <td>39.427357</td>\n",
       "      <td>-121.130547</td>\n",
       "      <td>2019-12-26</td>\n",
       "      <td>BC5A9498</td>\n",
       "    </tr>\n",
       "    <tr>\n",
       "      <th>8694922</th>\n",
       "      <td>avibase-BC5A9498</td>\n",
       "      <td>4</td>\n",
       "      <td>United States</td>\n",
       "      <td>California</td>\n",
       "      <td>39.189706</td>\n",
       "      <td>-121.593404</td>\n",
       "      <td>2019-12-19</td>\n",
       "      <td>BC5A9498</td>\n",
       "    </tr>\n",
       "    <tr>\n",
       "      <th>8694923</th>\n",
       "      <td>avibase-BC5A9498</td>\n",
       "      <td>4</td>\n",
       "      <td>United States</td>\n",
       "      <td>California</td>\n",
       "      <td>39.264460</td>\n",
       "      <td>-121.602397</td>\n",
       "      <td>2019-12-19</td>\n",
       "      <td>BC5A9498</td>\n",
       "    </tr>\n",
       "    <tr>\n",
       "      <th>8694924</th>\n",
       "      <td>avibase-BC5A9498</td>\n",
       "      <td>4</td>\n",
       "      <td>United States</td>\n",
       "      <td>California</td>\n",
       "      <td>39.264460</td>\n",
       "      <td>-121.602397</td>\n",
       "      <td>2019-12-19</td>\n",
       "      <td>BC5A9498</td>\n",
       "    </tr>\n",
       "    <tr>\n",
       "      <th>8694925</th>\n",
       "      <td>avibase-BC5A9498</td>\n",
       "      <td>17</td>\n",
       "      <td>United States</td>\n",
       "      <td>California</td>\n",
       "      <td>39.265221</td>\n",
       "      <td>-121.534367</td>\n",
       "      <td>2019-12-20</td>\n",
       "      <td>BC5A9498</td>\n",
       "    </tr>\n",
       "  </tbody>\n",
       "</table>\n",
       "<p>8694926 rows × 8 columns</p>\n",
       "</div>"
      ],
      "text/plain": [
       "         TAXON CONCEPT ID OBSERVATION COUNT        COUNTRY       STATE  \\\n",
       "0        avibase-CA08045E                 1  United States  California   \n",
       "1        avibase-CA08045E                 X  United States  California   \n",
       "2        avibase-CA08045E                 1  United States  California   \n",
       "3        avibase-CA08045E                 1  United States  California   \n",
       "4        avibase-CA08045E                 1  United States  California   \n",
       "...                   ...               ...            ...         ...   \n",
       "8694921  avibase-BC5A9498                13  United States  California   \n",
       "8694922  avibase-BC5A9498                 4  United States  California   \n",
       "8694923  avibase-BC5A9498                 4  United States  California   \n",
       "8694924  avibase-BC5A9498                 4  United States  California   \n",
       "8694925  avibase-BC5A9498                17  United States  California   \n",
       "\n",
       "          LATITUDE   LONGITUDE OBSERVATION DATE AVIBASEID  \n",
       "0        37.892331 -122.311800       2019-01-13  CA08045E  \n",
       "1        37.871270 -122.307890       2019-01-01  CA08045E  \n",
       "2        37.834029 -122.238747       2019-01-25  CA08045E  \n",
       "3        37.695328 -121.844741       2019-01-10  CA08045E  \n",
       "4        37.834029 -122.238747       2019-01-25  CA08045E  \n",
       "...            ...         ...              ...       ...  \n",
       "8694921  39.427357 -121.130547       2019-12-26  BC5A9498  \n",
       "8694922  39.189706 -121.593404       2019-12-19  BC5A9498  \n",
       "8694923  39.264460 -121.602397       2019-12-19  BC5A9498  \n",
       "8694924  39.264460 -121.602397       2019-12-19  BC5A9498  \n",
       "8694925  39.265221 -121.534367       2019-12-20  BC5A9498  \n",
       "\n",
       "[8694926 rows x 8 columns]"
      ]
     },
     "execution_count": 34,
     "metadata": {},
     "output_type": "execute_result"
    }
   ],
   "source": [
    "df_eBird2"
   ]
  },
  {
   "cell_type": "code",
   "execution_count": 29,
   "metadata": {},
   "outputs": [],
   "source": [
    "df_eBird_median_by_species = df_eBird2[df_eBird2['OBSERVATION COUNT']!='X'].groupby('AVIBASEID')['OBSERVATION COUNT'].median().to_dict()"
   ]
  },
  {
   "cell_type": "code",
   "execution_count": 38,
   "metadata": {},
   "outputs": [],
   "source": [
    "df_eBird2['OBSCOUNT'] = df_eBird2[['AVIBASEID','OBSERVATION COUNT']].apply(\n",
    "    lambda row: (df_eBird_median_by_species[row['AVIBASEID']] if row['AVIBASEID'] in df_eBird_median_by_species else 1) if row['OBSERVATION COUNT'] == 'X' else row['OBSERVATION COUNT'],\n",
    "    axis=1\n",
    ")"
   ]
  },
  {
   "cell_type": "code",
   "execution_count": 41,
   "metadata": {},
   "outputs": [
    {
     "data": {
      "text/plain": [
       "(8694926, 9)"
      ]
     },
     "execution_count": 41,
     "metadata": {},
     "output_type": "execute_result"
    }
   ],
   "source": [
    "df_eBird2.shape"
   ]
  },
  {
   "cell_type": "code",
   "execution_count": 43,
   "metadata": {},
   "outputs": [],
   "source": [
    "df_eBird2['OBSCOUNT'] = df_eBird2['OBSCOUNT'].astype(float)"
   ]
  },
  {
   "cell_type": "code",
   "execution_count": 44,
   "metadata": {},
   "outputs": [
    {
     "data": {
      "text/plain": [
       "255405907.5"
      ]
     },
     "execution_count": 44,
     "metadata": {},
     "output_type": "execute_result"
    }
   ],
   "source": [
    "df_eBird2['OBSCOUNT'].sum()"
   ]
  },
  {
   "cell_type": "code",
   "execution_count": 45,
   "metadata": {},
   "outputs": [
    {
     "data": {
      "text/plain": [
       "1088"
      ]
     },
     "execution_count": 45,
     "metadata": {},
     "output_type": "execute_result"
    }
   ],
   "source": [
    "df_eBird2['AVIBASEID'].nunique()"
   ]
  },
  {
   "cell_type": "code",
   "execution_count": 46,
   "metadata": {},
   "outputs": [],
   "source": [
    "df_eBird3 = df_eBird2[\n",
    "    (df_eBird2['LATITUDE']>=36.4701132878)\n",
    "    &\n",
    "    (df_eBird2['LATITUDE']<=42.009518)\n",
    "    &\n",
    "    (df_eBird2['LONGITUDE']>= -124.409591)\n",
    "    &\n",
    "    (df_eBird2['LONGITUDE']<= -114.131211)\n",
    "].copy()"
   ]
  },
  {
   "cell_type": "code",
   "execution_count": 48,
   "metadata": {},
   "outputs": [
    {
     "data": {
      "text/plain": [
       "(5168169, 9)"
      ]
     },
     "execution_count": 48,
     "metadata": {},
     "output_type": "execute_result"
    }
   ],
   "source": [
    "df_eBird3.shape"
   ]
  },
  {
   "cell_type": "code",
   "execution_count": 49,
   "metadata": {},
   "outputs": [
    {
     "data": {
      "text/plain": [
       "218303859.5"
      ]
     },
     "execution_count": 49,
     "metadata": {},
     "output_type": "execute_result"
    }
   ],
   "source": [
    "df_eBird3['OBSCOUNT'].sum()"
   ]
  },
  {
   "cell_type": "code",
   "execution_count": 50,
   "metadata": {},
   "outputs": [
    {
     "data": {
      "text/plain": [
       "918"
      ]
     },
     "execution_count": 50,
     "metadata": {},
     "output_type": "execute_result"
    }
   ],
   "source": [
    "df_eBird3['AVIBASEID'].nunique()"
   ]
  },
  {
   "cell_type": "code",
   "execution_count": 51,
   "metadata": {},
   "outputs": [],
   "source": [
    "df_eBird3['observation_datetime'] = pd.to_datetime(df_eBird3['OBSERVATION DATE'])"
   ]
  },
  {
   "cell_type": "code",
   "execution_count": 53,
   "metadata": {},
   "outputs": [
    {
     "name": "stderr",
     "output_type": "stream",
     "text": [
      "/var/folders/ms/2ygwp03d4b5526gc0h51spqh0000gn/T/ipykernel_41606/4278245370.py:1: FutureWarning: Series.dt.weekofyear and Series.dt.week have been deprecated. Please use Series.dt.isocalendar().week instead.\n",
      "  df_eBird3['WEEK'] = df_eBird3['observation_datetime'].dt.week\n"
     ]
    }
   ],
   "source": [
    "df_eBird3['WEEK'] = df_eBird3['observation_datetime'].dt.week"
   ]
  },
  {
   "cell_type": "code",
   "execution_count": 55,
   "metadata": {},
   "outputs": [],
   "source": [
    "df_eBird3['YEAR'] = df_eBird3['observation_datetime'].dt.year"
   ]
  },
  {
   "cell_type": "code",
   "execution_count": 57,
   "metadata": {},
   "outputs": [
    {
     "data": {
      "text/plain": [
       "2019    5168169\n",
       "Name: YEAR, dtype: int64"
      ]
     },
     "execution_count": 57,
     "metadata": {},
     "output_type": "execute_result"
    }
   ],
   "source": [
    "df_eBird3['YEAR'].value_counts()"
   ]
  },
  {
   "cell_type": "markdown",
   "metadata": {},
   "source": [
    "# iNat Analysis"
   ]
  },
  {
   "cell_type": "code",
   "execution_count": 58,
   "metadata": {},
   "outputs": [
    {
     "data": {
      "text/plain": [
       "(3321454, 259)"
      ]
     },
     "execution_count": 58,
     "metadata": {},
     "output_type": "execute_result"
    }
   ],
   "source": [
    "df_inat.shape"
   ]
  },
  {
   "cell_type": "code",
   "execution_count": 59,
   "metadata": {},
   "outputs": [
    {
     "data": {
      "text/plain": [
       "(3321454, 7)"
      ]
     },
     "execution_count": 59,
     "metadata": {},
     "output_type": "execute_result"
    }
   ],
   "source": [
    "df_iNat2.shape"
   ]
  },
  {
   "cell_type": "code",
   "execution_count": 60,
   "metadata": {},
   "outputs": [
    {
     "data": {
      "text/html": [
       "<div>\n",
       "<style scoped>\n",
       "    .dataframe tbody tr th:only-of-type {\n",
       "        vertical-align: middle;\n",
       "    }\n",
       "\n",
       "    .dataframe tbody tr th {\n",
       "        vertical-align: top;\n",
       "    }\n",
       "\n",
       "    .dataframe thead th {\n",
       "        text-align: right;\n",
       "    }\n",
       "</style>\n",
       "<table border=\"1\" class=\"dataframe\">\n",
       "  <thead>\n",
       "    <tr style=\"text-align: right;\">\n",
       "      <th></th>\n",
       "      <th>taxonID</th>\n",
       "      <th>taxonKey</th>\n",
       "      <th>countryCode</th>\n",
       "      <th>stateProvince</th>\n",
       "      <th>decimalLatitude</th>\n",
       "      <th>decimalLongitude</th>\n",
       "      <th>eventDate</th>\n",
       "    </tr>\n",
       "  </thead>\n",
       "  <tbody>\n",
       "    <tr>\n",
       "      <th>0</th>\n",
       "      <td>123045</td>\n",
       "      <td>2515238.0</td>\n",
       "      <td>US</td>\n",
       "      <td>California</td>\n",
       "      <td>34.140209</td>\n",
       "      <td>-119.187897</td>\n",
       "      <td>2019-01-30T09:59:56</td>\n",
       "    </tr>\n",
       "    <tr>\n",
       "      <th>1</th>\n",
       "      <td>84994</td>\n",
       "      <td>5156078.0</td>\n",
       "      <td>US</td>\n",
       "      <td>Florida</td>\n",
       "      <td>28.059126</td>\n",
       "      <td>-82.418194</td>\n",
       "      <td>2019-01-21T14:35:00</td>\n",
       "    </tr>\n",
       "    <tr>\n",
       "      <th>2</th>\n",
       "      <td>36204</td>\n",
       "      <td>2451234.0</td>\n",
       "      <td>US</td>\n",
       "      <td>California</td>\n",
       "      <td>35.271399</td>\n",
       "      <td>-120.888941</td>\n",
       "      <td>2019-03-17T13:56:00</td>\n",
       "    </tr>\n",
       "    <tr>\n",
       "      <th>3</th>\n",
       "      <td>53326</td>\n",
       "      <td>3169708.0</td>\n",
       "      <td>US</td>\n",
       "      <td>Georgia</td>\n",
       "      <td>33.769633</td>\n",
       "      <td>-84.30645</td>\n",
       "      <td>2019-03-29T14:33:23</td>\n",
       "    </tr>\n",
       "    <tr>\n",
       "      <th>4</th>\n",
       "      <td>9176</td>\n",
       "      <td>5231132.0</td>\n",
       "      <td>US</td>\n",
       "      <td>Texas</td>\n",
       "      <td>33.562034</td>\n",
       "      <td>-101.809798</td>\n",
       "      <td>2019-04-02T12:44:00</td>\n",
       "    </tr>\n",
       "  </tbody>\n",
       "</table>\n",
       "</div>"
      ],
      "text/plain": [
       "  taxonID   taxonKey countryCode stateProvince  decimalLatitude  \\\n",
       "0  123045  2515238.0          US    California        34.140209   \n",
       "1   84994  5156078.0          US       Florida        28.059126   \n",
       "2   36204  2451234.0          US    California        35.271399   \n",
       "3   53326  3169708.0          US       Georgia        33.769633   \n",
       "4    9176  5231132.0          US         Texas        33.562034   \n",
       "\n",
       "  decimalLongitude            eventDate  \n",
       "0      -119.187897  2019-01-30T09:59:56  \n",
       "1       -82.418194  2019-01-21T14:35:00  \n",
       "2      -120.888941  2019-03-17T13:56:00  \n",
       "3        -84.30645  2019-03-29T14:33:23  \n",
       "4      -101.809798  2019-04-02T12:44:00  "
      ]
     },
     "execution_count": 60,
     "metadata": {},
     "output_type": "execute_result"
    }
   ],
   "source": [
    "df_iNat2.head()"
   ]
  },
  {
   "cell_type": "code",
   "execution_count": 61,
   "metadata": {},
   "outputs": [
    {
     "data": {
      "text/plain": [
       "US    3321452\n",
       "Name: countryCode, dtype: int64"
      ]
     },
     "execution_count": 61,
     "metadata": {},
     "output_type": "execute_result"
    }
   ],
   "source": [
    "df_iNat2['countryCode'].value_counts()"
   ]
  },
  {
   "cell_type": "code",
   "execution_count": 62,
   "metadata": {},
   "outputs": [
    {
     "data": {
      "text/plain": [
       "California              717224\n",
       "Texas                   491869\n",
       "Florida                 182561\n",
       "New York                138104\n",
       "Ohio                    111734\n",
       "Virginia                 88869\n",
       "Massachusetts            87683\n",
       "Illinois                 87369\n",
       "Pennsylvania             84083\n",
       "North Carolina           80368\n",
       "Arizona                  77953\n",
       "Oregon                   69151\n",
       "Washington               67702\n",
       "Maryland                 66009\n",
       "New Jersey               64479\n",
       "Vermont                  59887\n",
       "Colorado                 57119\n",
       "Michigan                 54503\n",
       "Minnesota                50984\n",
       "New Mexico               49280\n",
       "Alabama                  45433\n",
       "Tennessee                44713\n",
       "Wisconsin                43611\n",
       "Georgia                  34427\n",
       "Louisiana                32647\n",
       "Indiana                  28997\n",
       "South Carolina           27786\n",
       "Missouri                 26843\n",
       "Kentucky                 25402\n",
       "Arkansas                 24412\n",
       "Oklahoma                 23415\n",
       "Maine                    23354\n",
       "Mississippi              22729\n",
       "Utah                     21369\n",
       "Connecticut              21068\n",
       "Alaska                   19832\n",
       "Nevada                   19293\n",
       "Hawaii                   18744\n",
       "Kansas                   18147\n",
       "New Hampshire            17578\n",
       "Idaho                    12941\n",
       "Montana                  11514\n",
       "District of Columbia     10677\n",
       "West Virginia            10227\n",
       "Nebraska                  9273\n",
       "Iowa                      9083\n",
       "Delaware                  8260\n",
       "Wyoming                   8100\n",
       "Rhode Island              4286\n",
       "North Dakota              4128\n",
       "South Dakota              3439\n",
       "Midway                       2\n",
       "ACCEPTED                     1\n",
       "Name: stateProvince, dtype: int64"
      ]
     },
     "execution_count": 62,
     "metadata": {},
     "output_type": "execute_result"
    }
   ],
   "source": [
    "df_iNat2['stateProvince'].value_counts()"
   ]
  },
  {
   "cell_type": "code",
   "execution_count": 63,
   "metadata": {},
   "outputs": [],
   "source": [
    "df_iNat2['observation_dt'] = pd.to_datetime(df_iNat2['eventDate'])"
   ]
  },
  {
   "cell_type": "code",
   "execution_count": 65,
   "metadata": {},
   "outputs": [],
   "source": [
    "df_iNat3 = df_iNat2[df_iNat2['stateProvince'] == 'California'].copy()"
   ]
  },
  {
   "cell_type": "code",
   "execution_count": 66,
   "metadata": {},
   "outputs": [
    {
     "data": {
      "text/html": [
       "<div>\n",
       "<style scoped>\n",
       "    .dataframe tbody tr th:only-of-type {\n",
       "        vertical-align: middle;\n",
       "    }\n",
       "\n",
       "    .dataframe tbody tr th {\n",
       "        vertical-align: top;\n",
       "    }\n",
       "\n",
       "    .dataframe thead th {\n",
       "        text-align: right;\n",
       "    }\n",
       "</style>\n",
       "<table border=\"1\" class=\"dataframe\">\n",
       "  <thead>\n",
       "    <tr style=\"text-align: right;\">\n",
       "      <th></th>\n",
       "      <th>taxonID</th>\n",
       "      <th>taxonKey</th>\n",
       "      <th>countryCode</th>\n",
       "      <th>stateProvince</th>\n",
       "      <th>decimalLatitude</th>\n",
       "      <th>decimalLongitude</th>\n",
       "      <th>eventDate</th>\n",
       "      <th>observation_dt</th>\n",
       "    </tr>\n",
       "  </thead>\n",
       "  <tbody>\n",
       "    <tr>\n",
       "      <th>0</th>\n",
       "      <td>123045</td>\n",
       "      <td>2515238.0</td>\n",
       "      <td>US</td>\n",
       "      <td>California</td>\n",
       "      <td>34.140209</td>\n",
       "      <td>-119.187897</td>\n",
       "      <td>2019-01-30T09:59:56</td>\n",
       "      <td>2019-01-30 09:59:56</td>\n",
       "    </tr>\n",
       "    <tr>\n",
       "      <th>2</th>\n",
       "      <td>36204</td>\n",
       "      <td>2451234.0</td>\n",
       "      <td>US</td>\n",
       "      <td>California</td>\n",
       "      <td>35.271399</td>\n",
       "      <td>-120.888941</td>\n",
       "      <td>2019-03-17T13:56:00</td>\n",
       "      <td>2019-03-17 13:56:00</td>\n",
       "    </tr>\n",
       "    <tr>\n",
       "      <th>7</th>\n",
       "      <td>58088</td>\n",
       "      <td>3051417.0</td>\n",
       "      <td>US</td>\n",
       "      <td>California</td>\n",
       "      <td>33.069050</td>\n",
       "      <td>-116.601188</td>\n",
       "      <td>2019-04-18T09:14:00</td>\n",
       "      <td>2019-04-18 09:14:00</td>\n",
       "    </tr>\n",
       "    <tr>\n",
       "      <th>11</th>\n",
       "      <td>58976</td>\n",
       "      <td>2927694.0</td>\n",
       "      <td>US</td>\n",
       "      <td>California</td>\n",
       "      <td>39.780938</td>\n",
       "      <td>-121.730509</td>\n",
       "      <td>2019-04-28T12:28:00</td>\n",
       "      <td>2019-04-28 12:28:00</td>\n",
       "    </tr>\n",
       "    <tr>\n",
       "      <th>12</th>\n",
       "      <td>42391</td>\n",
       "      <td>2441119.0</td>\n",
       "      <td>US</td>\n",
       "      <td>California</td>\n",
       "      <td>33.875304</td>\n",
       "      <td>-116.10492</td>\n",
       "      <td>2019-05-02T10:44:57</td>\n",
       "      <td>2019-05-02 10:44:57</td>\n",
       "    </tr>\n",
       "    <tr>\n",
       "      <th>...</th>\n",
       "      <td>...</td>\n",
       "      <td>...</td>\n",
       "      <td>...</td>\n",
       "      <td>...</td>\n",
       "      <td>...</td>\n",
       "      <td>...</td>\n",
       "      <td>...</td>\n",
       "      <td>...</td>\n",
       "    </tr>\n",
       "    <tr>\n",
       "      <th>3321414</th>\n",
       "      <td>9535</td>\n",
       "      <td>9596413.0</td>\n",
       "      <td>US</td>\n",
       "      <td>California</td>\n",
       "      <td>34.117050</td>\n",
       "      <td>-117.965894</td>\n",
       "      <td>2019-01-04T16:42:00</td>\n",
       "      <td>2019-01-04 16:42:00</td>\n",
       "    </tr>\n",
       "    <tr>\n",
       "      <th>3321415</th>\n",
       "      <td>485176</td>\n",
       "      <td>2498155.0</td>\n",
       "      <td>US</td>\n",
       "      <td>California</td>\n",
       "      <td>37.582335</td>\n",
       "      <td>-122.314627</td>\n",
       "      <td>2019-02-09T07:46:00</td>\n",
       "      <td>2019-02-09 07:46:00</td>\n",
       "    </tr>\n",
       "    <tr>\n",
       "      <th>3321417</th>\n",
       "      <td>1061811</td>\n",
       "      <td>5955209.0</td>\n",
       "      <td>US</td>\n",
       "      <td>California</td>\n",
       "      <td>37.047745</td>\n",
       "      <td>-122.202159</td>\n",
       "      <td>2019-04-07T12:43:17</td>\n",
       "      <td>2019-04-07 12:43:17</td>\n",
       "    </tr>\n",
       "    <tr>\n",
       "      <th>3321449</th>\n",
       "      <td>508048</td>\n",
       "      <td>9036008.0</td>\n",
       "      <td>US</td>\n",
       "      <td>California</td>\n",
       "      <td>38.157721</td>\n",
       "      <td>-121.443274</td>\n",
       "      <td>2019-12-16T16:59:00</td>\n",
       "      <td>2019-12-16 16:59:00</td>\n",
       "    </tr>\n",
       "    <tr>\n",
       "      <th>3321451</th>\n",
       "      <td>564394</td>\n",
       "      <td>2498314.0</td>\n",
       "      <td>US</td>\n",
       "      <td>California</td>\n",
       "      <td>33.704197</td>\n",
       "      <td>-118.004519</td>\n",
       "      <td>2019-12-17T15:20:00</td>\n",
       "      <td>2019-12-17 15:20:00</td>\n",
       "    </tr>\n",
       "  </tbody>\n",
       "</table>\n",
       "<p>717224 rows × 8 columns</p>\n",
       "</div>"
      ],
      "text/plain": [
       "         taxonID   taxonKey countryCode stateProvince  decimalLatitude  \\\n",
       "0         123045  2515238.0          US    California        34.140209   \n",
       "2          36204  2451234.0          US    California        35.271399   \n",
       "7          58088  3051417.0          US    California        33.069050   \n",
       "11         58976  2927694.0          US    California        39.780938   \n",
       "12         42391  2441119.0          US    California        33.875304   \n",
       "...          ...        ...         ...           ...              ...   \n",
       "3321414     9535  9596413.0          US    California        34.117050   \n",
       "3321415   485176  2498155.0          US    California        37.582335   \n",
       "3321417  1061811  5955209.0          US    California        37.047745   \n",
       "3321449   508048  9036008.0          US    California        38.157721   \n",
       "3321451   564394  2498314.0          US    California        33.704197   \n",
       "\n",
       "        decimalLongitude            eventDate      observation_dt  \n",
       "0            -119.187897  2019-01-30T09:59:56 2019-01-30 09:59:56  \n",
       "2            -120.888941  2019-03-17T13:56:00 2019-03-17 13:56:00  \n",
       "7            -116.601188  2019-04-18T09:14:00 2019-04-18 09:14:00  \n",
       "11           -121.730509  2019-04-28T12:28:00 2019-04-28 12:28:00  \n",
       "12            -116.10492  2019-05-02T10:44:57 2019-05-02 10:44:57  \n",
       "...                  ...                  ...                 ...  \n",
       "3321414      -117.965894  2019-01-04T16:42:00 2019-01-04 16:42:00  \n",
       "3321415      -122.314627  2019-02-09T07:46:00 2019-02-09 07:46:00  \n",
       "3321417      -122.202159  2019-04-07T12:43:17 2019-04-07 12:43:17  \n",
       "3321449      -121.443274  2019-12-16T16:59:00 2019-12-16 16:59:00  \n",
       "3321451      -118.004519  2019-12-17T15:20:00 2019-12-17 15:20:00  \n",
       "\n",
       "[717224 rows x 8 columns]"
      ]
     },
     "execution_count": 66,
     "metadata": {},
     "output_type": "execute_result"
    }
   ],
   "source": [
    "df_iNat3"
   ]
  },
  {
   "cell_type": "code",
   "execution_count": 69,
   "metadata": {},
   "outputs": [],
   "source": [
    "df_iNat3['decimalLatitude'] = df_iNat3['decimalLatitude'].astype(float)"
   ]
  },
  {
   "cell_type": "code",
   "execution_count": 70,
   "metadata": {},
   "outputs": [],
   "source": [
    "df_iNat3['decimalLongitude'] = df_iNat3['decimalLongitude'].astype(float)"
   ]
  },
  {
   "cell_type": "code",
   "execution_count": 71,
   "metadata": {},
   "outputs": [],
   "source": [
    "df_iNat4 = df_iNat3[\n",
    "    (df_iNat3['decimalLatitude']>=36.4701132878)\n",
    "    &\n",
    "    (df_iNat3['decimalLatitude']<=42.009518)\n",
    "    &\n",
    "    (df_iNat3['decimalLongitude']>= -124.409591)\n",
    "    &\n",
    "    (df_iNat3['decimalLongitude']<= -114.131211)\n",
    "].copy()"
   ]
  },
  {
   "cell_type": "code",
   "execution_count": 72,
   "metadata": {},
   "outputs": [
    {
     "data": {
      "text/plain": [
       "(363386, 8)"
      ]
     },
     "execution_count": 72,
     "metadata": {},
     "output_type": "execute_result"
    }
   ],
   "source": [
    "df_iNat4.shape"
   ]
  },
  {
   "cell_type": "code",
   "execution_count": 74,
   "metadata": {},
   "outputs": [
    {
     "name": "stderr",
     "output_type": "stream",
     "text": [
      "/var/folders/ms/2ygwp03d4b5526gc0h51spqh0000gn/T/ipykernel_41606/2813681667.py:2: FutureWarning: Series.dt.weekofyear and Series.dt.week have been deprecated. Please use Series.dt.isocalendar().week instead.\n",
      "  df_iNat4['WEEK'] = df_iNat4['observation_dt'].dt.week\n"
     ]
    }
   ],
   "source": [
    "df_iNat4['YEAR'] = df_iNat4['observation_dt'].dt.year\n",
    "df_iNat4['WEEK'] = df_iNat4['observation_dt'].dt.week"
   ]
  },
  {
   "cell_type": "code",
   "execution_count": 75,
   "metadata": {},
   "outputs": [
    {
     "data": {
      "text/plain": [
       "2019    363386\n",
       "Name: YEAR, dtype: int64"
      ]
     },
     "execution_count": 75,
     "metadata": {},
     "output_type": "execute_result"
    }
   ],
   "source": [
    "df_iNat4['YEAR'].value_counts()"
   ]
  },
  {
   "cell_type": "code",
   "execution_count": 76,
   "metadata": {},
   "outputs": [
    {
     "data": {
      "text/plain": [
       "10757"
      ]
     },
     "execution_count": 76,
     "metadata": {},
     "output_type": "execute_result"
    }
   ],
   "source": [
    "df_iNat4['taxonID'].nunique()"
   ]
  },
  {
   "cell_type": "markdown",
   "metadata": {},
   "source": [
    "# Merging iNat and eBird"
   ]
  },
  {
   "cell_type": "code",
   "execution_count": 77,
   "metadata": {},
   "outputs": [
    {
     "name": "stderr",
     "output_type": "stream",
     "text": [
      "/var/folders/ms/2ygwp03d4b5526gc0h51spqh0000gn/T/ipykernel_41606/2743186917.py:1: DtypeWarning: Columns (1) have mixed types. Specify dtype option on import or set low_memory=False.\n",
      "  df_tax_key = pd.read_csv('../data/query_taxonIDs_various.csv')\n"
     ]
    }
   ],
   "source": [
    "df_tax_key = pd.read_csv('../data/query_taxonIDs_various.csv')"
   ]
  },
  {
   "cell_type": "code",
   "execution_count": 85,
   "metadata": {},
   "outputs": [
    {
     "name": "stdout",
     "output_type": "stream",
     "text": [
      "<class 'pandas.core.frame.DataFrame'>\n",
      "RangeIndex: 830987 entries, 0 to 830986\n",
      "Data columns (total 5 columns):\n",
      " #   Column     Non-Null Count   Dtype  \n",
      "---  ------     --------------   -----  \n",
      " 0   item       830987 non-null  object \n",
      " 1   iNat_Tid   830987 non-null  object \n",
      " 2   ITIS_TSN   314392 non-null  float64\n",
      " 3   GBF_ID     809035 non-null  float64\n",
      " 4   avibaseid  8795 non-null    object \n",
      "dtypes: float64(2), object(3)\n",
      "memory usage: 31.7+ MB\n"
     ]
    }
   ],
   "source": [
    "df_tax_key.info()"
   ]
  },
  {
   "cell_type": "markdown",
   "metadata": {},
   "source": [
    "# Adding avibase-id to iNat"
   ]
  },
  {
   "cell_type": "code",
   "execution_count": 109,
   "metadata": {},
   "outputs": [],
   "source": [
    "df_tax_key_fil = df_tax_key[~df_tax_key['avibaseid'].isna()]"
   ]
  },
  {
   "cell_type": "code",
   "execution_count": 112,
   "metadata": {},
   "outputs": [],
   "source": [
    "df_tax_key_fil = df_tax_key_fil[df_tax_key_fil['iNat_Tid']!='Frank'].copy()"
   ]
  },
  {
   "cell_type": "code",
   "execution_count": 113,
   "metadata": {},
   "outputs": [],
   "source": [
    "df_tax_key_fil['iNat_Tid_num']= df_tax_key_fil['iNat_Tid'].astype(float)"
   ]
  },
  {
   "cell_type": "code",
   "execution_count": 114,
   "metadata": {},
   "outputs": [
    {
     "data": {
      "text/html": [
       "<div>\n",
       "<style scoped>\n",
       "    .dataframe tbody tr th:only-of-type {\n",
       "        vertical-align: middle;\n",
       "    }\n",
       "\n",
       "    .dataframe tbody tr th {\n",
       "        vertical-align: top;\n",
       "    }\n",
       "\n",
       "    .dataframe thead th {\n",
       "        text-align: right;\n",
       "    }\n",
       "</style>\n",
       "<table border=\"1\" class=\"dataframe\">\n",
       "  <thead>\n",
       "    <tr style=\"text-align: right;\">\n",
       "      <th></th>\n",
       "      <th>item</th>\n",
       "      <th>iNat_Tid</th>\n",
       "      <th>ITIS_TSN</th>\n",
       "      <th>GBF_ID</th>\n",
       "      <th>avibaseid</th>\n",
       "      <th>iNat_Tid_num</th>\n",
       "    </tr>\n",
       "  </thead>\n",
       "  <tbody>\n",
       "    <tr>\n",
       "      <th>8</th>\n",
       "      <td>http://www.wikidata.org/entity/Q855024</td>\n",
       "      <td>2244</td>\n",
       "      <td>554655.0</td>\n",
       "      <td>2475439.0</td>\n",
       "      <td>302385236F22586B</td>\n",
       "      <td>2244.0</td>\n",
       "    </tr>\n",
       "    <tr>\n",
       "      <th>10</th>\n",
       "      <td>http://www.wikidata.org/entity/Q25388</td>\n",
       "      <td>204556</td>\n",
       "      <td>561707.0</td>\n",
       "      <td>2488949.0</td>\n",
       "      <td>EBDD410629FE11AC</td>\n",
       "      <td>204556.0</td>\n",
       "    </tr>\n",
       "    <tr>\n",
       "      <th>19</th>\n",
       "      <td>http://www.wikidata.org/entity/Q1094736</td>\n",
       "      <td>3352</td>\n",
       "      <td>676921.0</td>\n",
       "      <td>2495757.0</td>\n",
       "      <td>F6C3F6DB6EE1478B</td>\n",
       "      <td>3352.0</td>\n",
       "    </tr>\n",
       "    <tr>\n",
       "      <th>23</th>\n",
       "      <td>http://www.wikidata.org/entity/Q961967</td>\n",
       "      <td>2021</td>\n",
       "      <td>553828.0</td>\n",
       "      <td>2482140.0</td>\n",
       "      <td>69BBDE320D31CA7A</td>\n",
       "      <td>2021.0</td>\n",
       "    </tr>\n",
       "    <tr>\n",
       "      <th>24</th>\n",
       "      <td>http://www.wikidata.org/entity/Q494983</td>\n",
       "      <td>26</td>\n",
       "      <td>176186.0</td>\n",
       "      <td>2474943.0</td>\n",
       "      <td>38F36091DBC85095</td>\n",
       "      <td>26.0</td>\n",
       "    </tr>\n",
       "    <tr>\n",
       "      <th>...</th>\n",
       "      <td>...</td>\n",
       "      <td>...</td>\n",
       "      <td>...</td>\n",
       "      <td>...</td>\n",
       "      <td>...</td>\n",
       "      <td>...</td>\n",
       "    </tr>\n",
       "    <tr>\n",
       "      <th>823400</th>\n",
       "      <td>http://www.wikidata.org/entity/Q55112126</td>\n",
       "      <td>1286936</td>\n",
       "      <td>NaN</td>\n",
       "      <td>7626227.0</td>\n",
       "      <td>3C6A0512</td>\n",
       "      <td>1286936.0</td>\n",
       "    </tr>\n",
       "    <tr>\n",
       "      <th>824753</th>\n",
       "      <td>http://www.wikidata.org/entity/Q971542</td>\n",
       "      <td>792908</td>\n",
       "      <td>554011.0</td>\n",
       "      <td>2478391.0</td>\n",
       "      <td>33F13BB178A3EB73</td>\n",
       "      <td>792908.0</td>\n",
       "    </tr>\n",
       "    <tr>\n",
       "      <th>827782</th>\n",
       "      <td>http://www.wikidata.org/entity/Q27617614</td>\n",
       "      <td>718627</td>\n",
       "      <td>918391.0</td>\n",
       "      <td>6541423.0</td>\n",
       "      <td>0CC1FD4A59962145</td>\n",
       "      <td>718627.0</td>\n",
       "    </tr>\n",
       "    <tr>\n",
       "      <th>829307</th>\n",
       "      <td>http://www.wikidata.org/entity/Q28065684</td>\n",
       "      <td>979640</td>\n",
       "      <td>NaN</td>\n",
       "      <td>10658506.0</td>\n",
       "      <td>3FC8CA50CC50BAAD</td>\n",
       "      <td>979640.0</td>\n",
       "    </tr>\n",
       "    <tr>\n",
       "      <th>829702</th>\n",
       "      <td>http://www.wikidata.org/entity/Q1591239</td>\n",
       "      <td>138481918</td>\n",
       "      <td>559668.0</td>\n",
       "      <td>2492428.0</td>\n",
       "      <td>2A6075392F255EB8</td>\n",
       "      <td>138481918.0</td>\n",
       "    </tr>\n",
       "  </tbody>\n",
       "</table>\n",
       "<p>8794 rows × 6 columns</p>\n",
       "</div>"
      ],
      "text/plain": [
       "                                            item   iNat_Tid  ITIS_TSN  \\\n",
       "8         http://www.wikidata.org/entity/Q855024       2244  554655.0   \n",
       "10         http://www.wikidata.org/entity/Q25388     204556  561707.0   \n",
       "19       http://www.wikidata.org/entity/Q1094736       3352  676921.0   \n",
       "23        http://www.wikidata.org/entity/Q961967       2021  553828.0   \n",
       "24        http://www.wikidata.org/entity/Q494983         26  176186.0   \n",
       "...                                          ...        ...       ...   \n",
       "823400  http://www.wikidata.org/entity/Q55112126    1286936       NaN   \n",
       "824753    http://www.wikidata.org/entity/Q971542     792908  554011.0   \n",
       "827782  http://www.wikidata.org/entity/Q27617614     718627  918391.0   \n",
       "829307  http://www.wikidata.org/entity/Q28065684     979640       NaN   \n",
       "829702   http://www.wikidata.org/entity/Q1591239  138481918  559668.0   \n",
       "\n",
       "            GBF_ID         avibaseid  iNat_Tid_num  \n",
       "8        2475439.0  302385236F22586B        2244.0  \n",
       "10       2488949.0  EBDD410629FE11AC      204556.0  \n",
       "19       2495757.0  F6C3F6DB6EE1478B        3352.0  \n",
       "23       2482140.0  69BBDE320D31CA7A        2021.0  \n",
       "24       2474943.0  38F36091DBC85095          26.0  \n",
       "...            ...               ...           ...  \n",
       "823400   7626227.0          3C6A0512     1286936.0  \n",
       "824753   2478391.0  33F13BB178A3EB73      792908.0  \n",
       "827782   6541423.0  0CC1FD4A59962145      718627.0  \n",
       "829307  10658506.0  3FC8CA50CC50BAAD      979640.0  \n",
       "829702   2492428.0  2A6075392F255EB8   138481918.0  \n",
       "\n",
       "[8794 rows x 6 columns]"
      ]
     },
     "execution_count": 114,
     "metadata": {},
     "output_type": "execute_result"
    }
   ],
   "source": [
    "df_tax_key_fil"
   ]
  },
  {
   "cell_type": "code",
   "execution_count": 115,
   "metadata": {},
   "outputs": [],
   "source": [
    "merge_process1 = df_iNat4.merge(right=df_tax_key_fil, how='left', left_on='taxonID', right_on='iNat_Tid_num')"
   ]
  },
  {
   "cell_type": "code",
   "execution_count": 116,
   "metadata": {},
   "outputs": [],
   "source": [
    "merge_process2 = [x[0:8] for x in merge_process1['avibaseid'].dropna().values]"
   ]
  },
  {
   "cell_type": "code",
   "execution_count": 117,
   "metadata": {},
   "outputs": [],
   "source": [
    "merge_process3 = list(set(merge_process2))"
   ]
  },
  {
   "cell_type": "code",
   "execution_count": 118,
   "metadata": {},
   "outputs": [
    {
     "data": {
      "text/plain": [
       "['78509A5D',\n",
       " '53D94597',\n",
       " 'B9B272F4',\n",
       " '52F63879',\n",
       " '2CC21529',\n",
       " 'C3168495',\n",
       " 'D05FFEF7',\n",
       " '9B26D30B',\n",
       " '9FFEDE99',\n",
       " 'AC2B812A',\n",
       " '466E9077',\n",
       " '8B85CB2C',\n",
       " '94A44032',\n",
       " 'FFF61080',\n",
       " '866903B9',\n",
       " '0413ED30',\n",
       " '0337440E',\n",
       " 'B182DED2',\n",
       " '319D044A',\n",
       " 'EA5E858A',\n",
       " '031409C7',\n",
       " '787E0536',\n",
       " '5816834E',\n",
       " '8DB64266',\n",
       " 'FB4D08F0',\n",
       " '36171C2B',\n",
       " '2F5DF476',\n",
       " 'FC4D40D2',\n",
       " '5BFFE091',\n",
       " 'BBFF0963',\n",
       " '6A7F76A7',\n",
       " '28A4DA76',\n",
       " '6BDADC9C',\n",
       " '930E8874',\n",
       " 'EB0CD5DC',\n",
       " 'A1F323F5',\n",
       " 'FF592882',\n",
       " '9DBB70D5',\n",
       " 'CAA5E106',\n",
       " 'F7937349',\n",
       " '538A9CA7',\n",
       " '36B3872D',\n",
       " '39F29B55',\n",
       " '709AF716',\n",
       " '1FFFEF4E',\n",
       " '4D4ED4BD',\n",
       " '6EB81C98',\n",
       " '640D71AA',\n",
       " 'E0A04985',\n",
       " '115F04DD',\n",
       " '7E327303',\n",
       " '7B0669CB',\n",
       " 'B48335B1',\n",
       " '00124D98',\n",
       " 'F59AB6B3',\n",
       " '23863F65',\n",
       " 'A47B0BD4',\n",
       " '2DABF98F',\n",
       " '7784B060',\n",
       " '5459228D',\n",
       " '0EB30FB8',\n",
       " '4BB4F257',\n",
       " '0716A71C',\n",
       " 'B6B84BEE',\n",
       " '3647E146',\n",
       " 'D621FFC6',\n",
       " '98FB6D4B',\n",
       " '89F8B6F5',\n",
       " 'C7F1C08C',\n",
       " 'F8DDF6A6',\n",
       " '6BB94D7E',\n",
       " '39086887',\n",
       " '42393721',\n",
       " 'B9EE9676',\n",
       " 'FED3756C',\n",
       " 'D4540F88',\n",
       " '5F8E7CA8',\n",
       " '20C2214E',\n",
       " '18A19380',\n",
       " '1F09CCCC',\n",
       " '68EA281A',\n",
       " 'FA36ABE5',\n",
       " '4E192262',\n",
       " 'BBA2F9DF',\n",
       " '27B2749A',\n",
       " '8601A467',\n",
       " '12E354E2',\n",
       " 'EAD14427',\n",
       " '486265CF',\n",
       " '951C150C',\n",
       " '6CDC3C9C',\n",
       " '07C11CF3',\n",
       " 'BD929CBC',\n",
       " '76DF73A9',\n",
       " '649F85B5',\n",
       " '77567086',\n",
       " '8F123A11',\n",
       " 'B01E8BD4',\n",
       " 'DB5DABCF',\n",
       " '95B77F08',\n",
       " '5EC21767',\n",
       " '6D2B5CDA',\n",
       " 'F6CA75F0',\n",
       " 'B7B1A5DD',\n",
       " 'ED4CE8E7',\n",
       " '2281F1C7',\n",
       " '4D2FF6F1',\n",
       " '0A4609D1',\n",
       " 'D13B9122',\n",
       " 'A091D50A',\n",
       " '19CCBBD2',\n",
       " 'DDAF0666',\n",
       " '9F67F3AF',\n",
       " '5284C27B',\n",
       " '4185F617',\n",
       " 'AF0C7BDE',\n",
       " '2CF6D6F6',\n",
       " '1DA430B8',\n",
       " 'FB738385',\n",
       " '25ACCDC0',\n",
       " '41FACE63',\n",
       " 'C53F4940',\n",
       " 'E196D6F9',\n",
       " 'A59FA446',\n",
       " 'B401C2DD',\n",
       " '24111FA5',\n",
       " 'A5F09E05',\n",
       " '0E599E6C',\n",
       " '4AED44E8',\n",
       " '667AE65A',\n",
       " 'BA9191BC',\n",
       " 'FD2B0309',\n",
       " '7E65A952',\n",
       " '075C1610',\n",
       " '5CBA3391',\n",
       " '249AE8DF',\n",
       " '1EB2595E',\n",
       " '2E047850',\n",
       " '20748450',\n",
       " 'CEA5B6AA',\n",
       " '83F9C058',\n",
       " 'F8AFCAC7',\n",
       " 'A5EC8BF5',\n",
       " '135564AA',\n",
       " 'FC366114',\n",
       " '26BA25EF',\n",
       " 'C5DF08E7',\n",
       " 'F5C181CA',\n",
       " '603194D3',\n",
       " 'BC06BC0D',\n",
       " '624078BA',\n",
       " '536A5157',\n",
       " '407E2CA8',\n",
       " '6B7A93C5',\n",
       " 'E7A14E91',\n",
       " 'DC3050A9',\n",
       " '87878948',\n",
       " 'DE0971C1',\n",
       " '67CEA1C1',\n",
       " '043F337A',\n",
       " '31CE00C7',\n",
       " '1044B438',\n",
       " '31ACA998',\n",
       " '7CB8F5B7',\n",
       " '534FB490',\n",
       " '15EE0D36',\n",
       " '8EB0C1FA',\n",
       " 'E366AB90',\n",
       " '58312873',\n",
       " '1CBD2CED',\n",
       " 'D204A930',\n",
       " '6FB34E54',\n",
       " 'DE473F42',\n",
       " '154BCCAE',\n",
       " '049D9AEA',\n",
       " '75DC49AD',\n",
       " 'B7E467E2',\n",
       " 'B7D7EF23',\n",
       " 'EE8ECB1D',\n",
       " 'F012ED4B',\n",
       " 'E4B3332D',\n",
       " 'E1714A09',\n",
       " '0ADA5F17',\n",
       " '6C50988A',\n",
       " 'E0148AC5',\n",
       " '4FF7DE80',\n",
       " '7A24F57F',\n",
       " '1E82CE1E',\n",
       " '3072CC16',\n",
       " 'BB6B236F',\n",
       " 'F6C6C3F7',\n",
       " '39BD9FF2',\n",
       " '667C6969',\n",
       " '77AFF9B8',\n",
       " 'E7C9A1F5',\n",
       " '13E9F9B4',\n",
       " '85106518',\n",
       " '3E04020B',\n",
       " '0BDB87DE',\n",
       " '018B3169',\n",
       " '80285D5C',\n",
       " '41062654',\n",
       " '88AB027C',\n",
       " '3558066B',\n",
       " 'E4A5B66A',\n",
       " 'F3DA111C',\n",
       " 'F3BEE8C7',\n",
       " '49025D8B',\n",
       " '1E1AB415',\n",
       " '28669A3D',\n",
       " '1E1B6D19',\n",
       " '93013964',\n",
       " '32DCEC14',\n",
       " '0C120038',\n",
       " 'D3A260BC',\n",
       " '694C127A',\n",
       " 'C6772490',\n",
       " 'C5971E25',\n",
       " '9BEBC025',\n",
       " '1F1AD154',\n",
       " 'B4EE123D',\n",
       " '3EF081A8',\n",
       " '1929E1E1',\n",
       " '115AF02D',\n",
       " 'B5CE8FAD',\n",
       " '295C4CD6',\n",
       " '526A3692',\n",
       " '2225D685',\n",
       " '3AC46C54',\n",
       " '420850D6',\n",
       " 'BBA263C2',\n",
       " '1725B07D',\n",
       " '2C7A2673',\n",
       " '06B9BD24',\n",
       " '85625D75',\n",
       " 'B86C504C',\n",
       " 'B745D852',\n",
       " '4D207AF6',\n",
       " '12D5BA6C',\n",
       " '145F1116',\n",
       " '62DAF6CC',\n",
       " 'BAC33609',\n",
       " '56CCA717',\n",
       " '2FA39DCD',\n",
       " '1181E297',\n",
       " 'BD49DB46',\n",
       " '891798D9',\n",
       " '1456993D',\n",
       " '4A3B2CFF',\n",
       " 'A7A75EA1',\n",
       " '15369E8E',\n",
       " 'F002188E',\n",
       " '25C94A8F',\n",
       " 'C6E1197B',\n",
       " 'A15C5071',\n",
       " 'B59E1863',\n",
       " '58C502EA',\n",
       " '3E2D0C9B',\n",
       " '989B57D8',\n",
       " '8D6D5F2B',\n",
       " '171E91FF',\n",
       " '575A3E3B',\n",
       " '79F3C681',\n",
       " '9456DEDF',\n",
       " '97B870B4',\n",
       " '24E39ACD',\n",
       " '45D829B3',\n",
       " '4AAEF549',\n",
       " '91CCBC71',\n",
       " 'BC5A9498',\n",
       " '68EDCC23',\n",
       " '90B13ACF',\n",
       " '9690689D',\n",
       " '56036504',\n",
       " '4A5B4883',\n",
       " '6C74415D',\n",
       " '6996D540',\n",
       " '46B54DB1',\n",
       " '1BB9C864',\n",
       " 'ACB9D1C6',\n",
       " 'B1F0CC82',\n",
       " '938C5572',\n",
       " '151C2B3F',\n",
       " 'C25794D5',\n",
       " 'BD0914CB',\n",
       " '50566E50',\n",
       " '4F28673C',\n",
       " '734C73A9',\n",
       " 'BCF9A19A',\n",
       " 'A6905B3C',\n",
       " 'F5C8516D',\n",
       " '31557374',\n",
       " '89431E9F',\n",
       " '0D88C072',\n",
       " 'E53FC25C',\n",
       " '862DF149',\n",
       " '9A8E55D0',\n",
       " '24F14328',\n",
       " 'C235A4D7',\n",
       " '5BC4E0EF',\n",
       " 'B12B8816',\n",
       " '08F22F84',\n",
       " '7FCE8A43',\n",
       " '60E6081E',\n",
       " '13854B6E',\n",
       " 'A2BB98A9',\n",
       " '90E2543E',\n",
       " '63FB826E',\n",
       " '6D4F72B1',\n",
       " '2B46719D',\n",
       " '029491CD',\n",
       " '37E9CCDA',\n",
       " '544A5E6B',\n",
       " 'BCBD2EAE',\n",
       " '86182656',\n",
       " 'EA4D6C0B',\n",
       " 'AB1CB216',\n",
       " '9A684C99',\n",
       " 'A0F29F1E',\n",
       " 'BDC5CF80',\n",
       " '6C439FF4',\n",
       " '4168AF09',\n",
       " 'E36325FA',\n",
       " '11CF8C9A',\n",
       " 'C27D9E26',\n",
       " '7E022378',\n",
       " 'B77377EE',\n",
       " 'BD61BDEC',\n",
       " 'E19252A7',\n",
       " 'BA4C8A02',\n",
       " '7EFF698D',\n",
       " '27903EF7',\n",
       " 'DACF7A98',\n",
       " '60214D49',\n",
       " '75600969',\n",
       " 'EB98812F',\n",
       " 'A8C34DC9',\n",
       " '178B8955',\n",
       " '1F9D883E',\n",
       " 'F6DF700B',\n",
       " '96B91A68',\n",
       " '9A77D2B0',\n",
       " 'AF49F890',\n",
       " '240E3390',\n",
       " 'AC1E519F',\n",
       " '93694BB5',\n",
       " 'C9ABA616',\n",
       " 'F577BA0F',\n",
       " 'DA2F24E3',\n",
       " '9BEECB7E',\n",
       " '3F9E1C51',\n",
       " '0B1B2EB6',\n",
       " '188707A5',\n",
       " '01060BFD',\n",
       " '9BE68BD3',\n",
       " '3A3C62BC',\n",
       " '03AC32BA',\n",
       " '11512CF4',\n",
       " 'ACC99F35',\n",
       " '000482C9',\n",
       " '9E9F2476',\n",
       " '8C4CE60F',\n",
       " '8F268682',\n",
       " 'ECDE73F2',\n",
       " '87705CC4',\n",
       " 'AA7901D8',\n",
       " 'F93AC929',\n",
       " 'F5837054',\n",
       " '0783A7EA',\n",
       " '9437D635',\n",
       " '7AB1229B',\n",
       " 'BDBB04D5',\n",
       " '86D45B8F',\n",
       " 'CD7DC84B',\n",
       " '62CA2AF8',\n",
       " '9C5ED06A',\n",
       " '0BCBA6B9',\n",
       " 'CB343E43',\n",
       " '0EB07C12',\n",
       " '00635FF9',\n",
       " 'BE78E765',\n",
       " '31FB19D4',\n",
       " '824361E5',\n",
       " '49D9148A',\n",
       " 'F9305BAA',\n",
       " '95E28A57',\n",
       " 'D201EB72',\n",
       " '87CBEBF7',\n",
       " '3230898E',\n",
       " '0B0BC750',\n",
       " 'E6F3BA54',\n",
       " 'F35821AA']"
      ]
     },
     "execution_count": 118,
     "metadata": {},
     "output_type": "execute_result"
    }
   ],
   "source": [
    "merge_process3"
   ]
  },
  {
   "cell_type": "code",
   "execution_count": 119,
   "metadata": {},
   "outputs": [
    {
     "data": {
      "text/plain": [
       "392"
      ]
     },
     "execution_count": 119,
     "metadata": {},
     "output_type": "execute_result"
    }
   ],
   "source": [
    "len(merge_process3)"
   ]
  },
  {
   "cell_type": "code",
   "execution_count": 121,
   "metadata": {},
   "outputs": [
    {
     "data": {
      "text/plain": [
       "392"
      ]
     },
     "execution_count": 121,
     "metadata": {},
     "output_type": "execute_result"
    }
   ],
   "source": [
    "len(merge_process3)"
   ]
  },
  {
   "cell_type": "code",
   "execution_count": 122,
   "metadata": {},
   "outputs": [
    {
     "data": {
      "text/html": [
       "<div>\n",
       "<style scoped>\n",
       "    .dataframe tbody tr th:only-of-type {\n",
       "        vertical-align: middle;\n",
       "    }\n",
       "\n",
       "    .dataframe tbody tr th {\n",
       "        vertical-align: top;\n",
       "    }\n",
       "\n",
       "    .dataframe thead th {\n",
       "        text-align: right;\n",
       "    }\n",
       "</style>\n",
       "<table border=\"1\" class=\"dataframe\">\n",
       "  <thead>\n",
       "    <tr style=\"text-align: right;\">\n",
       "      <th></th>\n",
       "      <th>TAXON CONCEPT ID</th>\n",
       "      <th>OBSERVATION COUNT</th>\n",
       "      <th>COUNTRY</th>\n",
       "      <th>STATE</th>\n",
       "      <th>LATITUDE</th>\n",
       "      <th>LONGITUDE</th>\n",
       "      <th>OBSERVATION DATE</th>\n",
       "      <th>AVIBASEID</th>\n",
       "      <th>OBSCOUNT</th>\n",
       "      <th>observation_datetime</th>\n",
       "      <th>WEEK</th>\n",
       "      <th>YEAR</th>\n",
       "    </tr>\n",
       "  </thead>\n",
       "  <tbody>\n",
       "    <tr>\n",
       "      <th>0</th>\n",
       "      <td>avibase-CA08045E</td>\n",
       "      <td>1</td>\n",
       "      <td>United States</td>\n",
       "      <td>California</td>\n",
       "      <td>37.892331</td>\n",
       "      <td>-122.311800</td>\n",
       "      <td>2019-01-13</td>\n",
       "      <td>CA08045E</td>\n",
       "      <td>1.0</td>\n",
       "      <td>2019-01-13</td>\n",
       "      <td>2</td>\n",
       "      <td>2019</td>\n",
       "    </tr>\n",
       "    <tr>\n",
       "      <th>1</th>\n",
       "      <td>avibase-CA08045E</td>\n",
       "      <td>X</td>\n",
       "      <td>United States</td>\n",
       "      <td>California</td>\n",
       "      <td>37.871270</td>\n",
       "      <td>-122.307890</td>\n",
       "      <td>2019-01-01</td>\n",
       "      <td>CA08045E</td>\n",
       "      <td>1.0</td>\n",
       "      <td>2019-01-01</td>\n",
       "      <td>1</td>\n",
       "      <td>2019</td>\n",
       "    </tr>\n",
       "    <tr>\n",
       "      <th>2</th>\n",
       "      <td>avibase-CA08045E</td>\n",
       "      <td>1</td>\n",
       "      <td>United States</td>\n",
       "      <td>California</td>\n",
       "      <td>37.834029</td>\n",
       "      <td>-122.238747</td>\n",
       "      <td>2019-01-25</td>\n",
       "      <td>CA08045E</td>\n",
       "      <td>1.0</td>\n",
       "      <td>2019-01-25</td>\n",
       "      <td>4</td>\n",
       "      <td>2019</td>\n",
       "    </tr>\n",
       "    <tr>\n",
       "      <th>3</th>\n",
       "      <td>avibase-CA08045E</td>\n",
       "      <td>1</td>\n",
       "      <td>United States</td>\n",
       "      <td>California</td>\n",
       "      <td>37.695328</td>\n",
       "      <td>-121.844741</td>\n",
       "      <td>2019-01-10</td>\n",
       "      <td>CA08045E</td>\n",
       "      <td>1.0</td>\n",
       "      <td>2019-01-10</td>\n",
       "      <td>2</td>\n",
       "      <td>2019</td>\n",
       "    </tr>\n",
       "    <tr>\n",
       "      <th>4</th>\n",
       "      <td>avibase-CA08045E</td>\n",
       "      <td>1</td>\n",
       "      <td>United States</td>\n",
       "      <td>California</td>\n",
       "      <td>37.834029</td>\n",
       "      <td>-122.238747</td>\n",
       "      <td>2019-01-25</td>\n",
       "      <td>CA08045E</td>\n",
       "      <td>1.0</td>\n",
       "      <td>2019-01-25</td>\n",
       "      <td>4</td>\n",
       "      <td>2019</td>\n",
       "    </tr>\n",
       "    <tr>\n",
       "      <th>...</th>\n",
       "      <td>...</td>\n",
       "      <td>...</td>\n",
       "      <td>...</td>\n",
       "      <td>...</td>\n",
       "      <td>...</td>\n",
       "      <td>...</td>\n",
       "      <td>...</td>\n",
       "      <td>...</td>\n",
       "      <td>...</td>\n",
       "      <td>...</td>\n",
       "      <td>...</td>\n",
       "      <td>...</td>\n",
       "    </tr>\n",
       "    <tr>\n",
       "      <th>8694921</th>\n",
       "      <td>avibase-BC5A9498</td>\n",
       "      <td>13</td>\n",
       "      <td>United States</td>\n",
       "      <td>California</td>\n",
       "      <td>39.427357</td>\n",
       "      <td>-121.130547</td>\n",
       "      <td>2019-12-26</td>\n",
       "      <td>BC5A9498</td>\n",
       "      <td>13.0</td>\n",
       "      <td>2019-12-26</td>\n",
       "      <td>52</td>\n",
       "      <td>2019</td>\n",
       "    </tr>\n",
       "    <tr>\n",
       "      <th>8694922</th>\n",
       "      <td>avibase-BC5A9498</td>\n",
       "      <td>4</td>\n",
       "      <td>United States</td>\n",
       "      <td>California</td>\n",
       "      <td>39.189706</td>\n",
       "      <td>-121.593404</td>\n",
       "      <td>2019-12-19</td>\n",
       "      <td>BC5A9498</td>\n",
       "      <td>4.0</td>\n",
       "      <td>2019-12-19</td>\n",
       "      <td>51</td>\n",
       "      <td>2019</td>\n",
       "    </tr>\n",
       "    <tr>\n",
       "      <th>8694923</th>\n",
       "      <td>avibase-BC5A9498</td>\n",
       "      <td>4</td>\n",
       "      <td>United States</td>\n",
       "      <td>California</td>\n",
       "      <td>39.264460</td>\n",
       "      <td>-121.602397</td>\n",
       "      <td>2019-12-19</td>\n",
       "      <td>BC5A9498</td>\n",
       "      <td>4.0</td>\n",
       "      <td>2019-12-19</td>\n",
       "      <td>51</td>\n",
       "      <td>2019</td>\n",
       "    </tr>\n",
       "    <tr>\n",
       "      <th>8694924</th>\n",
       "      <td>avibase-BC5A9498</td>\n",
       "      <td>4</td>\n",
       "      <td>United States</td>\n",
       "      <td>California</td>\n",
       "      <td>39.264460</td>\n",
       "      <td>-121.602397</td>\n",
       "      <td>2019-12-19</td>\n",
       "      <td>BC5A9498</td>\n",
       "      <td>4.0</td>\n",
       "      <td>2019-12-19</td>\n",
       "      <td>51</td>\n",
       "      <td>2019</td>\n",
       "    </tr>\n",
       "    <tr>\n",
       "      <th>8694925</th>\n",
       "      <td>avibase-BC5A9498</td>\n",
       "      <td>17</td>\n",
       "      <td>United States</td>\n",
       "      <td>California</td>\n",
       "      <td>39.265221</td>\n",
       "      <td>-121.534367</td>\n",
       "      <td>2019-12-20</td>\n",
       "      <td>BC5A9498</td>\n",
       "      <td>17.0</td>\n",
       "      <td>2019-12-20</td>\n",
       "      <td>51</td>\n",
       "      <td>2019</td>\n",
       "    </tr>\n",
       "  </tbody>\n",
       "</table>\n",
       "<p>5168169 rows × 12 columns</p>\n",
       "</div>"
      ],
      "text/plain": [
       "         TAXON CONCEPT ID OBSERVATION COUNT        COUNTRY       STATE  \\\n",
       "0        avibase-CA08045E                 1  United States  California   \n",
       "1        avibase-CA08045E                 X  United States  California   \n",
       "2        avibase-CA08045E                 1  United States  California   \n",
       "3        avibase-CA08045E                 1  United States  California   \n",
       "4        avibase-CA08045E                 1  United States  California   \n",
       "...                   ...               ...            ...         ...   \n",
       "8694921  avibase-BC5A9498                13  United States  California   \n",
       "8694922  avibase-BC5A9498                 4  United States  California   \n",
       "8694923  avibase-BC5A9498                 4  United States  California   \n",
       "8694924  avibase-BC5A9498                 4  United States  California   \n",
       "8694925  avibase-BC5A9498                17  United States  California   \n",
       "\n",
       "          LATITUDE   LONGITUDE OBSERVATION DATE AVIBASEID  OBSCOUNT  \\\n",
       "0        37.892331 -122.311800       2019-01-13  CA08045E       1.0   \n",
       "1        37.871270 -122.307890       2019-01-01  CA08045E       1.0   \n",
       "2        37.834029 -122.238747       2019-01-25  CA08045E       1.0   \n",
       "3        37.695328 -121.844741       2019-01-10  CA08045E       1.0   \n",
       "4        37.834029 -122.238747       2019-01-25  CA08045E       1.0   \n",
       "...            ...         ...              ...       ...       ...   \n",
       "8694921  39.427357 -121.130547       2019-12-26  BC5A9498      13.0   \n",
       "8694922  39.189706 -121.593404       2019-12-19  BC5A9498       4.0   \n",
       "8694923  39.264460 -121.602397       2019-12-19  BC5A9498       4.0   \n",
       "8694924  39.264460 -121.602397       2019-12-19  BC5A9498       4.0   \n",
       "8694925  39.265221 -121.534367       2019-12-20  BC5A9498      17.0   \n",
       "\n",
       "        observation_datetime  WEEK  YEAR  \n",
       "0                 2019-01-13     2  2019  \n",
       "1                 2019-01-01     1  2019  \n",
       "2                 2019-01-25     4  2019  \n",
       "3                 2019-01-10     2  2019  \n",
       "4                 2019-01-25     4  2019  \n",
       "...                      ...   ...   ...  \n",
       "8694921           2019-12-26    52  2019  \n",
       "8694922           2019-12-19    51  2019  \n",
       "8694923           2019-12-19    51  2019  \n",
       "8694924           2019-12-19    51  2019  \n",
       "8694925           2019-12-20    51  2019  \n",
       "\n",
       "[5168169 rows x 12 columns]"
      ]
     },
     "execution_count": 122,
     "metadata": {},
     "output_type": "execute_result"
    }
   ],
   "source": [
    "df_eBird3"
   ]
  },
  {
   "cell_type": "code",
   "execution_count": 124,
   "metadata": {},
   "outputs": [],
   "source": [
    "final_list_birds = [x for x in df_eBird3['AVIBASEID'] if x in merge_process3]"
   ]
  },
  {
   "cell_type": "code",
   "execution_count": 126,
   "metadata": {},
   "outputs": [],
   "source": [
    "final_list_birds2_l = list(set(final_list_birds))\n",
    "final_list_birds2_s = set(final_list_birds)"
   ]
  },
  {
   "cell_type": "code",
   "execution_count": 127,
   "metadata": {},
   "outputs": [
    {
     "data": {
      "text/plain": [
       "353"
      ]
     },
     "execution_count": 127,
     "metadata": {},
     "output_type": "execute_result"
    }
   ],
   "source": [
    "len(final_list_birds2_l)"
   ]
  },
  {
   "cell_type": "markdown",
   "metadata": {},
   "source": [
    "# Filtering only the relevant birds"
   ]
  },
  {
   "cell_type": "code",
   "execution_count": 129,
   "metadata": {},
   "outputs": [],
   "source": [
    "df_eBird4 = df_eBird3[df_eBird3['AVIBASEID'].isin(final_list_birds2_s)]"
   ]
  },
  {
   "cell_type": "code",
   "execution_count": 131,
   "metadata": {},
   "outputs": [
    {
     "data": {
      "text/plain": [
       "(3842332, 12)"
      ]
     },
     "execution_count": 131,
     "metadata": {},
     "output_type": "execute_result"
    }
   ],
   "source": [
    "df_eBird4.shape"
   ]
  },
  {
   "cell_type": "code",
   "execution_count": 132,
   "metadata": {},
   "outputs": [
    {
     "data": {
      "text/plain": [
       "187133113.0"
      ]
     },
     "execution_count": 132,
     "metadata": {},
     "output_type": "execute_result"
    }
   ],
   "source": [
    "df_eBird4['OBSCOUNT'].sum()"
   ]
  },
  {
   "cell_type": "code",
   "execution_count": 133,
   "metadata": {},
   "outputs": [
    {
     "data": {
      "text/plain": [
       "353"
      ]
     },
     "execution_count": 133,
     "metadata": {},
     "output_type": "execute_result"
    }
   ],
   "source": [
    "df_eBird4['AVIBASEID'].nunique()"
   ]
  },
  {
   "cell_type": "code",
   "execution_count": 134,
   "metadata": {},
   "outputs": [
    {
     "data": {
      "text/html": [
       "<div>\n",
       "<style scoped>\n",
       "    .dataframe tbody tr th:only-of-type {\n",
       "        vertical-align: middle;\n",
       "    }\n",
       "\n",
       "    .dataframe tbody tr th {\n",
       "        vertical-align: top;\n",
       "    }\n",
       "\n",
       "    .dataframe thead th {\n",
       "        text-align: right;\n",
       "    }\n",
       "</style>\n",
       "<table border=\"1\" class=\"dataframe\">\n",
       "  <thead>\n",
       "    <tr style=\"text-align: right;\">\n",
       "      <th></th>\n",
       "      <th>TAXON CONCEPT ID</th>\n",
       "      <th>OBSERVATION COUNT</th>\n",
       "      <th>COUNTRY</th>\n",
       "      <th>STATE</th>\n",
       "      <th>LATITUDE</th>\n",
       "      <th>LONGITUDE</th>\n",
       "      <th>OBSERVATION DATE</th>\n",
       "      <th>AVIBASEID</th>\n",
       "      <th>OBSCOUNT</th>\n",
       "      <th>observation_datetime</th>\n",
       "      <th>WEEK</th>\n",
       "      <th>YEAR</th>\n",
       "    </tr>\n",
       "  </thead>\n",
       "  <tbody>\n",
       "    <tr>\n",
       "      <th>6</th>\n",
       "      <td>avibase-7E327303</td>\n",
       "      <td>10</td>\n",
       "      <td>United States</td>\n",
       "      <td>California</td>\n",
       "      <td>37.606181</td>\n",
       "      <td>-121.735039</td>\n",
       "      <td>2019-01-23</td>\n",
       "      <td>7E327303</td>\n",
       "      <td>10.0</td>\n",
       "      <td>2019-01-23</td>\n",
       "      <td>4</td>\n",
       "      <td>2019</td>\n",
       "    </tr>\n",
       "    <tr>\n",
       "      <th>7</th>\n",
       "      <td>avibase-7E327303</td>\n",
       "      <td>1</td>\n",
       "      <td>United States</td>\n",
       "      <td>California</td>\n",
       "      <td>37.866130</td>\n",
       "      <td>-122.239573</td>\n",
       "      <td>2019-01-12</td>\n",
       "      <td>7E327303</td>\n",
       "      <td>1.0</td>\n",
       "      <td>2019-01-12</td>\n",
       "      <td>2</td>\n",
       "      <td>2019</td>\n",
       "    </tr>\n",
       "    <tr>\n",
       "      <th>8</th>\n",
       "      <td>avibase-7E327303</td>\n",
       "      <td>3</td>\n",
       "      <td>United States</td>\n",
       "      <td>California</td>\n",
       "      <td>37.863654</td>\n",
       "      <td>-122.244400</td>\n",
       "      <td>2019-01-13</td>\n",
       "      <td>7E327303</td>\n",
       "      <td>3.0</td>\n",
       "      <td>2019-01-13</td>\n",
       "      <td>2</td>\n",
       "      <td>2019</td>\n",
       "    </tr>\n",
       "    <tr>\n",
       "      <th>9</th>\n",
       "      <td>avibase-7E327303</td>\n",
       "      <td>1</td>\n",
       "      <td>United States</td>\n",
       "      <td>California</td>\n",
       "      <td>37.890680</td>\n",
       "      <td>-122.271627</td>\n",
       "      <td>2019-01-04</td>\n",
       "      <td>7E327303</td>\n",
       "      <td>1.0</td>\n",
       "      <td>2019-01-04</td>\n",
       "      <td>1</td>\n",
       "      <td>2019</td>\n",
       "    </tr>\n",
       "    <tr>\n",
       "      <th>10</th>\n",
       "      <td>avibase-7E327303</td>\n",
       "      <td>2</td>\n",
       "      <td>United States</td>\n",
       "      <td>California</td>\n",
       "      <td>37.601176</td>\n",
       "      <td>-121.699676</td>\n",
       "      <td>2019-01-10</td>\n",
       "      <td>7E327303</td>\n",
       "      <td>2.0</td>\n",
       "      <td>2019-01-10</td>\n",
       "      <td>2</td>\n",
       "      <td>2019</td>\n",
       "    </tr>\n",
       "    <tr>\n",
       "      <th>...</th>\n",
       "      <td>...</td>\n",
       "      <td>...</td>\n",
       "      <td>...</td>\n",
       "      <td>...</td>\n",
       "      <td>...</td>\n",
       "      <td>...</td>\n",
       "      <td>...</td>\n",
       "      <td>...</td>\n",
       "      <td>...</td>\n",
       "      <td>...</td>\n",
       "      <td>...</td>\n",
       "      <td>...</td>\n",
       "    </tr>\n",
       "    <tr>\n",
       "      <th>8694921</th>\n",
       "      <td>avibase-BC5A9498</td>\n",
       "      <td>13</td>\n",
       "      <td>United States</td>\n",
       "      <td>California</td>\n",
       "      <td>39.427357</td>\n",
       "      <td>-121.130547</td>\n",
       "      <td>2019-12-26</td>\n",
       "      <td>BC5A9498</td>\n",
       "      <td>13.0</td>\n",
       "      <td>2019-12-26</td>\n",
       "      <td>52</td>\n",
       "      <td>2019</td>\n",
       "    </tr>\n",
       "    <tr>\n",
       "      <th>8694922</th>\n",
       "      <td>avibase-BC5A9498</td>\n",
       "      <td>4</td>\n",
       "      <td>United States</td>\n",
       "      <td>California</td>\n",
       "      <td>39.189706</td>\n",
       "      <td>-121.593404</td>\n",
       "      <td>2019-12-19</td>\n",
       "      <td>BC5A9498</td>\n",
       "      <td>4.0</td>\n",
       "      <td>2019-12-19</td>\n",
       "      <td>51</td>\n",
       "      <td>2019</td>\n",
       "    </tr>\n",
       "    <tr>\n",
       "      <th>8694923</th>\n",
       "      <td>avibase-BC5A9498</td>\n",
       "      <td>4</td>\n",
       "      <td>United States</td>\n",
       "      <td>California</td>\n",
       "      <td>39.264460</td>\n",
       "      <td>-121.602397</td>\n",
       "      <td>2019-12-19</td>\n",
       "      <td>BC5A9498</td>\n",
       "      <td>4.0</td>\n",
       "      <td>2019-12-19</td>\n",
       "      <td>51</td>\n",
       "      <td>2019</td>\n",
       "    </tr>\n",
       "    <tr>\n",
       "      <th>8694924</th>\n",
       "      <td>avibase-BC5A9498</td>\n",
       "      <td>4</td>\n",
       "      <td>United States</td>\n",
       "      <td>California</td>\n",
       "      <td>39.264460</td>\n",
       "      <td>-121.602397</td>\n",
       "      <td>2019-12-19</td>\n",
       "      <td>BC5A9498</td>\n",
       "      <td>4.0</td>\n",
       "      <td>2019-12-19</td>\n",
       "      <td>51</td>\n",
       "      <td>2019</td>\n",
       "    </tr>\n",
       "    <tr>\n",
       "      <th>8694925</th>\n",
       "      <td>avibase-BC5A9498</td>\n",
       "      <td>17</td>\n",
       "      <td>United States</td>\n",
       "      <td>California</td>\n",
       "      <td>39.265221</td>\n",
       "      <td>-121.534367</td>\n",
       "      <td>2019-12-20</td>\n",
       "      <td>BC5A9498</td>\n",
       "      <td>17.0</td>\n",
       "      <td>2019-12-20</td>\n",
       "      <td>51</td>\n",
       "      <td>2019</td>\n",
       "    </tr>\n",
       "  </tbody>\n",
       "</table>\n",
       "<p>3842332 rows × 12 columns</p>\n",
       "</div>"
      ],
      "text/plain": [
       "         TAXON CONCEPT ID OBSERVATION COUNT        COUNTRY       STATE  \\\n",
       "6        avibase-7E327303                10  United States  California   \n",
       "7        avibase-7E327303                 1  United States  California   \n",
       "8        avibase-7E327303                 3  United States  California   \n",
       "9        avibase-7E327303                 1  United States  California   \n",
       "10       avibase-7E327303                 2  United States  California   \n",
       "...                   ...               ...            ...         ...   \n",
       "8694921  avibase-BC5A9498                13  United States  California   \n",
       "8694922  avibase-BC5A9498                 4  United States  California   \n",
       "8694923  avibase-BC5A9498                 4  United States  California   \n",
       "8694924  avibase-BC5A9498                 4  United States  California   \n",
       "8694925  avibase-BC5A9498                17  United States  California   \n",
       "\n",
       "          LATITUDE   LONGITUDE OBSERVATION DATE AVIBASEID  OBSCOUNT  \\\n",
       "6        37.606181 -121.735039       2019-01-23  7E327303      10.0   \n",
       "7        37.866130 -122.239573       2019-01-12  7E327303       1.0   \n",
       "8        37.863654 -122.244400       2019-01-13  7E327303       3.0   \n",
       "9        37.890680 -122.271627       2019-01-04  7E327303       1.0   \n",
       "10       37.601176 -121.699676       2019-01-10  7E327303       2.0   \n",
       "...            ...         ...              ...       ...       ...   \n",
       "8694921  39.427357 -121.130547       2019-12-26  BC5A9498      13.0   \n",
       "8694922  39.189706 -121.593404       2019-12-19  BC5A9498       4.0   \n",
       "8694923  39.264460 -121.602397       2019-12-19  BC5A9498       4.0   \n",
       "8694924  39.264460 -121.602397       2019-12-19  BC5A9498       4.0   \n",
       "8694925  39.265221 -121.534367       2019-12-20  BC5A9498      17.0   \n",
       "\n",
       "        observation_datetime  WEEK  YEAR  \n",
       "6                 2019-01-23     4  2019  \n",
       "7                 2019-01-12     2  2019  \n",
       "8                 2019-01-13     2  2019  \n",
       "9                 2019-01-04     1  2019  \n",
       "10                2019-01-10     2  2019  \n",
       "...                      ...   ...   ...  \n",
       "8694921           2019-12-26    52  2019  \n",
       "8694922           2019-12-19    51  2019  \n",
       "8694923           2019-12-19    51  2019  \n",
       "8694924           2019-12-19    51  2019  \n",
       "8694925           2019-12-20    51  2019  \n",
       "\n",
       "[3842332 rows x 12 columns]"
      ]
     },
     "execution_count": 134,
     "metadata": {},
     "output_type": "execute_result"
    }
   ],
   "source": [
    "df_eBird4"
   ]
  },
  {
   "cell_type": "code",
   "execution_count": 135,
   "metadata": {},
   "outputs": [
    {
     "data": {
      "text/html": [
       "<div>\n",
       "<style scoped>\n",
       "    .dataframe tbody tr th:only-of-type {\n",
       "        vertical-align: middle;\n",
       "    }\n",
       "\n",
       "    .dataframe tbody tr th {\n",
       "        vertical-align: top;\n",
       "    }\n",
       "\n",
       "    .dataframe thead th {\n",
       "        text-align: right;\n",
       "    }\n",
       "</style>\n",
       "<table border=\"1\" class=\"dataframe\">\n",
       "  <thead>\n",
       "    <tr style=\"text-align: right;\">\n",
       "      <th></th>\n",
       "      <th>taxonID</th>\n",
       "      <th>taxonKey</th>\n",
       "      <th>countryCode</th>\n",
       "      <th>stateProvince</th>\n",
       "      <th>decimalLatitude</th>\n",
       "      <th>decimalLongitude</th>\n",
       "      <th>eventDate</th>\n",
       "      <th>observation_dt</th>\n",
       "      <th>YEAR</th>\n",
       "      <th>WEEK</th>\n",
       "    </tr>\n",
       "  </thead>\n",
       "  <tbody>\n",
       "    <tr>\n",
       "      <th>11</th>\n",
       "      <td>58976.0</td>\n",
       "      <td>2927694.0</td>\n",
       "      <td>US</td>\n",
       "      <td>California</td>\n",
       "      <td>39.780938</td>\n",
       "      <td>-121.730509</td>\n",
       "      <td>2019-04-28T12:28:00</td>\n",
       "      <td>2019-04-28 12:28:00</td>\n",
       "      <td>2019</td>\n",
       "      <td>17</td>\n",
       "    </tr>\n",
       "    <tr>\n",
       "      <th>13</th>\n",
       "      <td>52155.0</td>\n",
       "      <td>2183465.0</td>\n",
       "      <td>US</td>\n",
       "      <td>California</td>\n",
       "      <td>37.942774</td>\n",
       "      <td>-122.349663</td>\n",
       "      <td>2019-05-05T14:01:08</td>\n",
       "      <td>2019-05-05 14:01:08</td>\n",
       "      <td>2019</td>\n",
       "      <td>18</td>\n",
       "    </tr>\n",
       "    <tr>\n",
       "      <th>14</th>\n",
       "      <td>6317.0</td>\n",
       "      <td>2476674.0</td>\n",
       "      <td>US</td>\n",
       "      <td>California</td>\n",
       "      <td>37.951323</td>\n",
       "      <td>-122.598442</td>\n",
       "      <td>2019-05-08T07:49:00</td>\n",
       "      <td>2019-05-08 07:49:00</td>\n",
       "      <td>2019</td>\n",
       "      <td>19</td>\n",
       "    </tr>\n",
       "    <tr>\n",
       "      <th>17</th>\n",
       "      <td>48225.0</td>\n",
       "      <td>2888380.0</td>\n",
       "      <td>US</td>\n",
       "      <td>California</td>\n",
       "      <td>37.315917</td>\n",
       "      <td>-122.199652</td>\n",
       "      <td>2019-06-01T14:42:03</td>\n",
       "      <td>2019-06-01 14:42:03</td>\n",
       "      <td>2019</td>\n",
       "      <td>22</td>\n",
       "    </tr>\n",
       "    <tr>\n",
       "      <th>30</th>\n",
       "      <td>113521.0</td>\n",
       "      <td>1428261.0</td>\n",
       "      <td>US</td>\n",
       "      <td>California</td>\n",
       "      <td>37.746799</td>\n",
       "      <td>-119.550209</td>\n",
       "      <td>2019-09-10T13:17:00</td>\n",
       "      <td>2019-09-10 13:17:00</td>\n",
       "      <td>2019</td>\n",
       "      <td>37</td>\n",
       "    </tr>\n",
       "    <tr>\n",
       "      <th>...</th>\n",
       "      <td>...</td>\n",
       "      <td>...</td>\n",
       "      <td>...</td>\n",
       "      <td>...</td>\n",
       "      <td>...</td>\n",
       "      <td>...</td>\n",
       "      <td>...</td>\n",
       "      <td>...</td>\n",
       "      <td>...</td>\n",
       "      <td>...</td>\n",
       "    </tr>\n",
       "    <tr>\n",
       "      <th>3321412</th>\n",
       "      <td>42221.0</td>\n",
       "      <td>4262326.0</td>\n",
       "      <td>US</td>\n",
       "      <td>California</td>\n",
       "      <td>38.351037</td>\n",
       "      <td>-122.516596</td>\n",
       "      <td>2019-10-14T12:42:00</td>\n",
       "      <td>2019-10-14 12:42:00</td>\n",
       "      <td>2019</td>\n",
       "      <td>42</td>\n",
       "    </tr>\n",
       "    <tr>\n",
       "      <th>3321413</th>\n",
       "      <td>59556.0</td>\n",
       "      <td>5353595.0</td>\n",
       "      <td>US</td>\n",
       "      <td>California</td>\n",
       "      <td>40.075851</td>\n",
       "      <td>-121.599233</td>\n",
       "      <td>2019-04-26T03:26:00</td>\n",
       "      <td>2019-04-26 03:26:00</td>\n",
       "      <td>2019</td>\n",
       "      <td>17</td>\n",
       "    </tr>\n",
       "    <tr>\n",
       "      <th>3321415</th>\n",
       "      <td>485176.0</td>\n",
       "      <td>2498155.0</td>\n",
       "      <td>US</td>\n",
       "      <td>California</td>\n",
       "      <td>37.582335</td>\n",
       "      <td>-122.314627</td>\n",
       "      <td>2019-02-09T07:46:00</td>\n",
       "      <td>2019-02-09 07:46:00</td>\n",
       "      <td>2019</td>\n",
       "      <td>6</td>\n",
       "    </tr>\n",
       "    <tr>\n",
       "      <th>3321417</th>\n",
       "      <td>1061811.0</td>\n",
       "      <td>5955209.0</td>\n",
       "      <td>US</td>\n",
       "      <td>California</td>\n",
       "      <td>37.047745</td>\n",
       "      <td>-122.202159</td>\n",
       "      <td>2019-04-07T12:43:17</td>\n",
       "      <td>2019-04-07 12:43:17</td>\n",
       "      <td>2019</td>\n",
       "      <td>14</td>\n",
       "    </tr>\n",
       "    <tr>\n",
       "      <th>3321449</th>\n",
       "      <td>508048.0</td>\n",
       "      <td>9036008.0</td>\n",
       "      <td>US</td>\n",
       "      <td>California</td>\n",
       "      <td>38.157721</td>\n",
       "      <td>-121.443274</td>\n",
       "      <td>2019-12-16T16:59:00</td>\n",
       "      <td>2019-12-16 16:59:00</td>\n",
       "      <td>2019</td>\n",
       "      <td>51</td>\n",
       "    </tr>\n",
       "  </tbody>\n",
       "</table>\n",
       "<p>363386 rows × 10 columns</p>\n",
       "</div>"
      ],
      "text/plain": [
       "           taxonID   taxonKey countryCode stateProvince  decimalLatitude  \\\n",
       "11         58976.0  2927694.0          US    California        39.780938   \n",
       "13         52155.0  2183465.0          US    California        37.942774   \n",
       "14          6317.0  2476674.0          US    California        37.951323   \n",
       "17         48225.0  2888380.0          US    California        37.315917   \n",
       "30        113521.0  1428261.0          US    California        37.746799   \n",
       "...            ...        ...         ...           ...              ...   \n",
       "3321412    42221.0  4262326.0          US    California        38.351037   \n",
       "3321413    59556.0  5353595.0          US    California        40.075851   \n",
       "3321415   485176.0  2498155.0          US    California        37.582335   \n",
       "3321417  1061811.0  5955209.0          US    California        37.047745   \n",
       "3321449   508048.0  9036008.0          US    California        38.157721   \n",
       "\n",
       "         decimalLongitude            eventDate      observation_dt  YEAR  WEEK  \n",
       "11            -121.730509  2019-04-28T12:28:00 2019-04-28 12:28:00  2019    17  \n",
       "13            -122.349663  2019-05-05T14:01:08 2019-05-05 14:01:08  2019    18  \n",
       "14            -122.598442  2019-05-08T07:49:00 2019-05-08 07:49:00  2019    19  \n",
       "17            -122.199652  2019-06-01T14:42:03 2019-06-01 14:42:03  2019    22  \n",
       "30            -119.550209  2019-09-10T13:17:00 2019-09-10 13:17:00  2019    37  \n",
       "...                   ...                  ...                 ...   ...   ...  \n",
       "3321412       -122.516596  2019-10-14T12:42:00 2019-10-14 12:42:00  2019    42  \n",
       "3321413       -121.599233  2019-04-26T03:26:00 2019-04-26 03:26:00  2019    17  \n",
       "3321415       -122.314627  2019-02-09T07:46:00 2019-02-09 07:46:00  2019     6  \n",
       "3321417       -122.202159  2019-04-07T12:43:17 2019-04-07 12:43:17  2019    14  \n",
       "3321449       -121.443274  2019-12-16T16:59:00 2019-12-16 16:59:00  2019    51  \n",
       "\n",
       "[363386 rows x 10 columns]"
      ]
     },
     "execution_count": 135,
     "metadata": {},
     "output_type": "execute_result"
    }
   ],
   "source": [
    "df_iNat4"
   ]
  },
  {
   "cell_type": "code",
   "execution_count": 137,
   "metadata": {},
   "outputs": [
    {
     "data": {
      "text/html": [
       "<div>\n",
       "<style scoped>\n",
       "    .dataframe tbody tr th:only-of-type {\n",
       "        vertical-align: middle;\n",
       "    }\n",
       "\n",
       "    .dataframe tbody tr th {\n",
       "        vertical-align: top;\n",
       "    }\n",
       "\n",
       "    .dataframe thead th {\n",
       "        text-align: right;\n",
       "    }\n",
       "</style>\n",
       "<table border=\"1\" class=\"dataframe\">\n",
       "  <thead>\n",
       "    <tr style=\"text-align: right;\">\n",
       "      <th></th>\n",
       "      <th>taxonID</th>\n",
       "      <th>taxonKey</th>\n",
       "      <th>countryCode</th>\n",
       "      <th>stateProvince</th>\n",
       "      <th>decimalLatitude</th>\n",
       "      <th>decimalLongitude</th>\n",
       "      <th>eventDate</th>\n",
       "      <th>observation_dt</th>\n",
       "      <th>YEAR</th>\n",
       "      <th>WEEK</th>\n",
       "    </tr>\n",
       "  </thead>\n",
       "  <tbody>\n",
       "    <tr>\n",
       "      <th>11</th>\n",
       "      <td>58976.0</td>\n",
       "      <td>2927694.0</td>\n",
       "      <td>US</td>\n",
       "      <td>California</td>\n",
       "      <td>39.780938</td>\n",
       "      <td>-121.730509</td>\n",
       "      <td>2019-04-28T12:28:00</td>\n",
       "      <td>2019-04-28 12:28:00</td>\n",
       "      <td>2019</td>\n",
       "      <td>17</td>\n",
       "    </tr>\n",
       "    <tr>\n",
       "      <th>13</th>\n",
       "      <td>52155.0</td>\n",
       "      <td>2183465.0</td>\n",
       "      <td>US</td>\n",
       "      <td>California</td>\n",
       "      <td>37.942774</td>\n",
       "      <td>-122.349663</td>\n",
       "      <td>2019-05-05T14:01:08</td>\n",
       "      <td>2019-05-05 14:01:08</td>\n",
       "      <td>2019</td>\n",
       "      <td>18</td>\n",
       "    </tr>\n",
       "    <tr>\n",
       "      <th>14</th>\n",
       "      <td>6317.0</td>\n",
       "      <td>2476674.0</td>\n",
       "      <td>US</td>\n",
       "      <td>California</td>\n",
       "      <td>37.951323</td>\n",
       "      <td>-122.598442</td>\n",
       "      <td>2019-05-08T07:49:00</td>\n",
       "      <td>2019-05-08 07:49:00</td>\n",
       "      <td>2019</td>\n",
       "      <td>19</td>\n",
       "    </tr>\n",
       "    <tr>\n",
       "      <th>17</th>\n",
       "      <td>48225.0</td>\n",
       "      <td>2888380.0</td>\n",
       "      <td>US</td>\n",
       "      <td>California</td>\n",
       "      <td>37.315917</td>\n",
       "      <td>-122.199652</td>\n",
       "      <td>2019-06-01T14:42:03</td>\n",
       "      <td>2019-06-01 14:42:03</td>\n",
       "      <td>2019</td>\n",
       "      <td>22</td>\n",
       "    </tr>\n",
       "    <tr>\n",
       "      <th>30</th>\n",
       "      <td>113521.0</td>\n",
       "      <td>1428261.0</td>\n",
       "      <td>US</td>\n",
       "      <td>California</td>\n",
       "      <td>37.746799</td>\n",
       "      <td>-119.550209</td>\n",
       "      <td>2019-09-10T13:17:00</td>\n",
       "      <td>2019-09-10 13:17:00</td>\n",
       "      <td>2019</td>\n",
       "      <td>37</td>\n",
       "    </tr>\n",
       "    <tr>\n",
       "      <th>...</th>\n",
       "      <td>...</td>\n",
       "      <td>...</td>\n",
       "      <td>...</td>\n",
       "      <td>...</td>\n",
       "      <td>...</td>\n",
       "      <td>...</td>\n",
       "      <td>...</td>\n",
       "      <td>...</td>\n",
       "      <td>...</td>\n",
       "      <td>...</td>\n",
       "    </tr>\n",
       "    <tr>\n",
       "      <th>3321412</th>\n",
       "      <td>42221.0</td>\n",
       "      <td>4262326.0</td>\n",
       "      <td>US</td>\n",
       "      <td>California</td>\n",
       "      <td>38.351037</td>\n",
       "      <td>-122.516596</td>\n",
       "      <td>2019-10-14T12:42:00</td>\n",
       "      <td>2019-10-14 12:42:00</td>\n",
       "      <td>2019</td>\n",
       "      <td>42</td>\n",
       "    </tr>\n",
       "    <tr>\n",
       "      <th>3321413</th>\n",
       "      <td>59556.0</td>\n",
       "      <td>5353595.0</td>\n",
       "      <td>US</td>\n",
       "      <td>California</td>\n",
       "      <td>40.075851</td>\n",
       "      <td>-121.599233</td>\n",
       "      <td>2019-04-26T03:26:00</td>\n",
       "      <td>2019-04-26 03:26:00</td>\n",
       "      <td>2019</td>\n",
       "      <td>17</td>\n",
       "    </tr>\n",
       "    <tr>\n",
       "      <th>3321415</th>\n",
       "      <td>485176.0</td>\n",
       "      <td>2498155.0</td>\n",
       "      <td>US</td>\n",
       "      <td>California</td>\n",
       "      <td>37.582335</td>\n",
       "      <td>-122.314627</td>\n",
       "      <td>2019-02-09T07:46:00</td>\n",
       "      <td>2019-02-09 07:46:00</td>\n",
       "      <td>2019</td>\n",
       "      <td>6</td>\n",
       "    </tr>\n",
       "    <tr>\n",
       "      <th>3321417</th>\n",
       "      <td>1061811.0</td>\n",
       "      <td>5955209.0</td>\n",
       "      <td>US</td>\n",
       "      <td>California</td>\n",
       "      <td>37.047745</td>\n",
       "      <td>-122.202159</td>\n",
       "      <td>2019-04-07T12:43:17</td>\n",
       "      <td>2019-04-07 12:43:17</td>\n",
       "      <td>2019</td>\n",
       "      <td>14</td>\n",
       "    </tr>\n",
       "    <tr>\n",
       "      <th>3321449</th>\n",
       "      <td>508048.0</td>\n",
       "      <td>9036008.0</td>\n",
       "      <td>US</td>\n",
       "      <td>California</td>\n",
       "      <td>38.157721</td>\n",
       "      <td>-121.443274</td>\n",
       "      <td>2019-12-16T16:59:00</td>\n",
       "      <td>2019-12-16 16:59:00</td>\n",
       "      <td>2019</td>\n",
       "      <td>51</td>\n",
       "    </tr>\n",
       "  </tbody>\n",
       "</table>\n",
       "<p>363386 rows × 10 columns</p>\n",
       "</div>"
      ],
      "text/plain": [
       "           taxonID   taxonKey countryCode stateProvince  decimalLatitude  \\\n",
       "11         58976.0  2927694.0          US    California        39.780938   \n",
       "13         52155.0  2183465.0          US    California        37.942774   \n",
       "14          6317.0  2476674.0          US    California        37.951323   \n",
       "17         48225.0  2888380.0          US    California        37.315917   \n",
       "30        113521.0  1428261.0          US    California        37.746799   \n",
       "...            ...        ...         ...           ...              ...   \n",
       "3321412    42221.0  4262326.0          US    California        38.351037   \n",
       "3321413    59556.0  5353595.0          US    California        40.075851   \n",
       "3321415   485176.0  2498155.0          US    California        37.582335   \n",
       "3321417  1061811.0  5955209.0          US    California        37.047745   \n",
       "3321449   508048.0  9036008.0          US    California        38.157721   \n",
       "\n",
       "         decimalLongitude            eventDate      observation_dt  YEAR  WEEK  \n",
       "11            -121.730509  2019-04-28T12:28:00 2019-04-28 12:28:00  2019    17  \n",
       "13            -122.349663  2019-05-05T14:01:08 2019-05-05 14:01:08  2019    18  \n",
       "14            -122.598442  2019-05-08T07:49:00 2019-05-08 07:49:00  2019    19  \n",
       "17            -122.199652  2019-06-01T14:42:03 2019-06-01 14:42:03  2019    22  \n",
       "30            -119.550209  2019-09-10T13:17:00 2019-09-10 13:17:00  2019    37  \n",
       "...                   ...                  ...                 ...   ...   ...  \n",
       "3321412       -122.516596  2019-10-14T12:42:00 2019-10-14 12:42:00  2019    42  \n",
       "3321413       -121.599233  2019-04-26T03:26:00 2019-04-26 03:26:00  2019    17  \n",
       "3321415       -122.314627  2019-02-09T07:46:00 2019-02-09 07:46:00  2019     6  \n",
       "3321417       -122.202159  2019-04-07T12:43:17 2019-04-07 12:43:17  2019    14  \n",
       "3321449       -121.443274  2019-12-16T16:59:00 2019-12-16 16:59:00  2019    51  \n",
       "\n",
       "[363386 rows x 10 columns]"
      ]
     },
     "execution_count": 137,
     "metadata": {},
     "output_type": "execute_result"
    }
   ],
   "source": [
    "df_iNat4"
   ]
  },
  {
   "cell_type": "code",
   "execution_count": 138,
   "metadata": {},
   "outputs": [
    {
     "data": {
      "text/plain": [
       "(364365, 16)"
      ]
     },
     "execution_count": 138,
     "metadata": {},
     "output_type": "execute_result"
    }
   ],
   "source": [
    "merge_process1.shape"
   ]
  },
  {
   "cell_type": "code",
   "execution_count": 146,
   "metadata": {},
   "outputs": [],
   "source": [
    "df_iNat5 = merge_process1[~(merge_process1['avibaseid'].isna())].copy()"
   ]
  },
  {
   "cell_type": "code",
   "execution_count": 147,
   "metadata": {},
   "outputs": [],
   "source": [
    "df_iNat5['AVIBASEID'] = df_iNat5['avibaseid'].apply(lambda x: x[0:8])"
   ]
  },
  {
   "cell_type": "code",
   "execution_count": 151,
   "metadata": {},
   "outputs": [],
   "source": [
    "df_iNat6 = df_iNat5.drop_duplicates().copy()"
   ]
  },
  {
   "cell_type": "code",
   "execution_count": 152,
   "metadata": {},
   "outputs": [
    {
     "data": {
      "text/html": [
       "<div>\n",
       "<style scoped>\n",
       "    .dataframe tbody tr th:only-of-type {\n",
       "        vertical-align: middle;\n",
       "    }\n",
       "\n",
       "    .dataframe tbody tr th {\n",
       "        vertical-align: top;\n",
       "    }\n",
       "\n",
       "    .dataframe thead th {\n",
       "        text-align: right;\n",
       "    }\n",
       "</style>\n",
       "<table border=\"1\" class=\"dataframe\">\n",
       "  <thead>\n",
       "    <tr style=\"text-align: right;\">\n",
       "      <th></th>\n",
       "      <th>taxonID</th>\n",
       "      <th>taxonKey</th>\n",
       "      <th>countryCode</th>\n",
       "      <th>stateProvince</th>\n",
       "      <th>decimalLatitude</th>\n",
       "      <th>decimalLongitude</th>\n",
       "      <th>eventDate</th>\n",
       "      <th>observation_dt</th>\n",
       "      <th>YEAR</th>\n",
       "      <th>WEEK</th>\n",
       "      <th>item</th>\n",
       "      <th>iNat_Tid</th>\n",
       "      <th>ITIS_TSN</th>\n",
       "      <th>GBF_ID</th>\n",
       "      <th>avibaseid</th>\n",
       "      <th>iNat_Tid_num</th>\n",
       "      <th>AVIBASEID</th>\n",
       "    </tr>\n",
       "  </thead>\n",
       "  <tbody>\n",
       "    <tr>\n",
       "      <th>2</th>\n",
       "      <td>6317.0</td>\n",
       "      <td>2476674.0</td>\n",
       "      <td>US</td>\n",
       "      <td>California</td>\n",
       "      <td>37.951323</td>\n",
       "      <td>-122.598442</td>\n",
       "      <td>2019-05-08T07:49:00</td>\n",
       "      <td>2019-05-08 07:49:00</td>\n",
       "      <td>2019</td>\n",
       "      <td>19</td>\n",
       "      <td>http://www.wikidata.org/entity/Q564265</td>\n",
       "      <td>6317</td>\n",
       "      <td>178036.0</td>\n",
       "      <td>2476674.0</td>\n",
       "      <td>423937213450C257</td>\n",
       "      <td>6317.0</td>\n",
       "      <td>42393721</td>\n",
       "    </tr>\n",
       "    <tr>\n",
       "      <th>19</th>\n",
       "      <td>8021.0</td>\n",
       "      <td>2482507.0</td>\n",
       "      <td>US</td>\n",
       "      <td>California</td>\n",
       "      <td>36.950220</td>\n",
       "      <td>-122.057557</td>\n",
       "      <td>2019-08-23T10:49:00</td>\n",
       "      <td>2019-08-23 10:49:00</td>\n",
       "      <td>2019</td>\n",
       "      <td>34</td>\n",
       "      <td>http://www.wikidata.org/entity/Q267735</td>\n",
       "      <td>8021</td>\n",
       "      <td>179731.0</td>\n",
       "      <td>2482507.0</td>\n",
       "      <td>9E9F24769B6ACBE3</td>\n",
       "      <td>8021.0</td>\n",
       "      <td>9E9F2476</td>\n",
       "    </tr>\n",
       "    <tr>\n",
       "      <th>20</th>\n",
       "      <td>18209.0</td>\n",
       "      <td>2478133.0</td>\n",
       "      <td>US</td>\n",
       "      <td>California</td>\n",
       "      <td>37.514882</td>\n",
       "      <td>-121.831151</td>\n",
       "      <td>2019-01-19T16:51:00</td>\n",
       "      <td>2019-01-19 16:51:00</td>\n",
       "      <td>2019</td>\n",
       "      <td>3</td>\n",
       "      <td>http://www.wikidata.org/entity/Q368657</td>\n",
       "      <td>18209</td>\n",
       "      <td>178189.0</td>\n",
       "      <td>2478133.0</td>\n",
       "      <td>7E3273031F76242B</td>\n",
       "      <td>18209.0</td>\n",
       "      <td>7E327303</td>\n",
       "    </tr>\n",
       "    <tr>\n",
       "      <th>24</th>\n",
       "      <td>4235.0</td>\n",
       "      <td>2482033.0</td>\n",
       "      <td>US</td>\n",
       "      <td>California</td>\n",
       "      <td>37.973925</td>\n",
       "      <td>-121.827973</td>\n",
       "      <td>2019-03-14T11:26:00</td>\n",
       "      <td>2019-03-14 11:26:00</td>\n",
       "      <td>2019</td>\n",
       "      <td>11</td>\n",
       "      <td>http://www.wikidata.org/entity/Q679154</td>\n",
       "      <td>4235</td>\n",
       "      <td>174503.0</td>\n",
       "      <td>2482033.0</td>\n",
       "      <td>C6E1197BE78E2E17</td>\n",
       "      <td>4235.0</td>\n",
       "      <td>C6E1197B</td>\n",
       "    </tr>\n",
       "    <tr>\n",
       "      <th>29</th>\n",
       "      <td>6930.0</td>\n",
       "      <td>9761484.0</td>\n",
       "      <td>US</td>\n",
       "      <td>California</td>\n",
       "      <td>37.769881</td>\n",
       "      <td>-122.502033</td>\n",
       "      <td>2019-07-09T19:32:00</td>\n",
       "      <td>2019-07-09 19:32:00</td>\n",
       "      <td>2019</td>\n",
       "      <td>28</td>\n",
       "      <td>http://www.wikidata.org/entity/Q25348</td>\n",
       "      <td>6930</td>\n",
       "      <td>175063.0</td>\n",
       "      <td>2498132.0</td>\n",
       "      <td>85625D75F2524457</td>\n",
       "      <td>6930.0</td>\n",
       "      <td>85625D75</td>\n",
       "    </tr>\n",
       "    <tr>\n",
       "      <th>...</th>\n",
       "      <td>...</td>\n",
       "      <td>...</td>\n",
       "      <td>...</td>\n",
       "      <td>...</td>\n",
       "      <td>...</td>\n",
       "      <td>...</td>\n",
       "      <td>...</td>\n",
       "      <td>...</td>\n",
       "      <td>...</td>\n",
       "      <td>...</td>\n",
       "      <td>...</td>\n",
       "      <td>...</td>\n",
       "      <td>...</td>\n",
       "      <td>...</td>\n",
       "      <td>...</td>\n",
       "      <td>...</td>\n",
       "      <td>...</td>\n",
       "    </tr>\n",
       "    <tr>\n",
       "      <th>364342</th>\n",
       "      <td>4956.0</td>\n",
       "      <td>9630752.0</td>\n",
       "      <td>US</td>\n",
       "      <td>California</td>\n",
       "      <td>37.794537</td>\n",
       "      <td>-122.466049</td>\n",
       "      <td>2019-06-07T08:18:57</td>\n",
       "      <td>2019-06-07 08:18:57</td>\n",
       "      <td>2019</td>\n",
       "      <td>23</td>\n",
       "      <td>http://www.wikidata.org/entity/Q333796</td>\n",
       "      <td>4956</td>\n",
       "      <td>174773.0</td>\n",
       "      <td>9630752.0</td>\n",
       "      <td>93694BB5492F7012</td>\n",
       "      <td>4956.0</td>\n",
       "      <td>93694BB5</td>\n",
       "    </tr>\n",
       "    <tr>\n",
       "      <th>364351</th>\n",
       "      <td>9100.0</td>\n",
       "      <td>2492196.0</td>\n",
       "      <td>US</td>\n",
       "      <td>California</td>\n",
       "      <td>38.552241</td>\n",
       "      <td>-121.629993</td>\n",
       "      <td>2019-09-14T09:59:00</td>\n",
       "      <td>2019-09-14 09:59:00</td>\n",
       "      <td>2019</td>\n",
       "      <td>37</td>\n",
       "      <td>http://www.wikidata.org/entity/Q842599</td>\n",
       "      <td>9100</td>\n",
       "      <td>179492.0</td>\n",
       "      <td>2492196.0</td>\n",
       "      <td>A5F09E0521019564</td>\n",
       "      <td>9100.0</td>\n",
       "      <td>A5F09E05</td>\n",
       "    </tr>\n",
       "    <tr>\n",
       "      <th>364354</th>\n",
       "      <td>9185.0</td>\n",
       "      <td>5231138.0</td>\n",
       "      <td>US</td>\n",
       "      <td>California</td>\n",
       "      <td>37.433635</td>\n",
       "      <td>-122.097624</td>\n",
       "      <td>2019-01-10T13:54:00</td>\n",
       "      <td>2019-01-10 13:54:00</td>\n",
       "      <td>2019</td>\n",
       "      <td>2</td>\n",
       "      <td>http://www.wikidata.org/entity/Q690956</td>\n",
       "      <td>9185</td>\n",
       "      <td>179461.0</td>\n",
       "      <td>5231138.0</td>\n",
       "      <td>BD61BDEC7D0A1633</td>\n",
       "      <td>9185.0</td>\n",
       "      <td>BD61BDEC</td>\n",
       "    </tr>\n",
       "    <tr>\n",
       "      <th>364362</th>\n",
       "      <td>485176.0</td>\n",
       "      <td>2498155.0</td>\n",
       "      <td>US</td>\n",
       "      <td>California</td>\n",
       "      <td>37.582335</td>\n",
       "      <td>-122.314627</td>\n",
       "      <td>2019-02-09T07:46:00</td>\n",
       "      <td>2019-02-09 07:46:00</td>\n",
       "      <td>2019</td>\n",
       "      <td>6</td>\n",
       "      <td>http://www.wikidata.org/entity/Q28106685</td>\n",
       "      <td>485176</td>\n",
       "      <td>175095.0</td>\n",
       "      <td>2498155.0</td>\n",
       "      <td>D201EB7230F20770</td>\n",
       "      <td>485176.0</td>\n",
       "      <td>D201EB72</td>\n",
       "    </tr>\n",
       "    <tr>\n",
       "      <th>364364</th>\n",
       "      <td>508048.0</td>\n",
       "      <td>9036008.0</td>\n",
       "      <td>US</td>\n",
       "      <td>California</td>\n",
       "      <td>38.157721</td>\n",
       "      <td>-121.443274</td>\n",
       "      <td>2019-12-16T16:59:00</td>\n",
       "      <td>2019-12-16 16:59:00</td>\n",
       "      <td>2019</td>\n",
       "      <td>51</td>\n",
       "      <td>http://www.wikidata.org/entity/Q28114133</td>\n",
       "      <td>508048</td>\n",
       "      <td>NaN</td>\n",
       "      <td>9036008.0</td>\n",
       "      <td>E196D6F9AB1DFF7E</td>\n",
       "      <td>508048.0</td>\n",
       "      <td>E196D6F9</td>\n",
       "    </tr>\n",
       "  </tbody>\n",
       "</table>\n",
       "<p>79018 rows × 17 columns</p>\n",
       "</div>"
      ],
      "text/plain": [
       "         taxonID   taxonKey countryCode stateProvince  decimalLatitude  \\\n",
       "2         6317.0  2476674.0          US    California        37.951323   \n",
       "19        8021.0  2482507.0          US    California        36.950220   \n",
       "20       18209.0  2478133.0          US    California        37.514882   \n",
       "24        4235.0  2482033.0          US    California        37.973925   \n",
       "29        6930.0  9761484.0          US    California        37.769881   \n",
       "...          ...        ...         ...           ...              ...   \n",
       "364342    4956.0  9630752.0          US    California        37.794537   \n",
       "364351    9100.0  2492196.0          US    California        38.552241   \n",
       "364354    9185.0  5231138.0          US    California        37.433635   \n",
       "364362  485176.0  2498155.0          US    California        37.582335   \n",
       "364364  508048.0  9036008.0          US    California        38.157721   \n",
       "\n",
       "        decimalLongitude            eventDate      observation_dt  YEAR  WEEK  \\\n",
       "2            -122.598442  2019-05-08T07:49:00 2019-05-08 07:49:00  2019    19   \n",
       "19           -122.057557  2019-08-23T10:49:00 2019-08-23 10:49:00  2019    34   \n",
       "20           -121.831151  2019-01-19T16:51:00 2019-01-19 16:51:00  2019     3   \n",
       "24           -121.827973  2019-03-14T11:26:00 2019-03-14 11:26:00  2019    11   \n",
       "29           -122.502033  2019-07-09T19:32:00 2019-07-09 19:32:00  2019    28   \n",
       "...                  ...                  ...                 ...   ...   ...   \n",
       "364342       -122.466049  2019-06-07T08:18:57 2019-06-07 08:18:57  2019    23   \n",
       "364351       -121.629993  2019-09-14T09:59:00 2019-09-14 09:59:00  2019    37   \n",
       "364354       -122.097624  2019-01-10T13:54:00 2019-01-10 13:54:00  2019     2   \n",
       "364362       -122.314627  2019-02-09T07:46:00 2019-02-09 07:46:00  2019     6   \n",
       "364364       -121.443274  2019-12-16T16:59:00 2019-12-16 16:59:00  2019    51   \n",
       "\n",
       "                                            item iNat_Tid  ITIS_TSN  \\\n",
       "2         http://www.wikidata.org/entity/Q564265     6317  178036.0   \n",
       "19        http://www.wikidata.org/entity/Q267735     8021  179731.0   \n",
       "20        http://www.wikidata.org/entity/Q368657    18209  178189.0   \n",
       "24        http://www.wikidata.org/entity/Q679154     4235  174503.0   \n",
       "29         http://www.wikidata.org/entity/Q25348     6930  175063.0   \n",
       "...                                          ...      ...       ...   \n",
       "364342    http://www.wikidata.org/entity/Q333796     4956  174773.0   \n",
       "364351    http://www.wikidata.org/entity/Q842599     9100  179492.0   \n",
       "364354    http://www.wikidata.org/entity/Q690956     9185  179461.0   \n",
       "364362  http://www.wikidata.org/entity/Q28106685   485176  175095.0   \n",
       "364364  http://www.wikidata.org/entity/Q28114133   508048       NaN   \n",
       "\n",
       "           GBF_ID         avibaseid  iNat_Tid_num AVIBASEID  \n",
       "2       2476674.0  423937213450C257        6317.0  42393721  \n",
       "19      2482507.0  9E9F24769B6ACBE3        8021.0  9E9F2476  \n",
       "20      2478133.0  7E3273031F76242B       18209.0  7E327303  \n",
       "24      2482033.0  C6E1197BE78E2E17        4235.0  C6E1197B  \n",
       "29      2498132.0  85625D75F2524457        6930.0  85625D75  \n",
       "...           ...               ...           ...       ...  \n",
       "364342  9630752.0  93694BB5492F7012        4956.0  93694BB5  \n",
       "364351  2492196.0  A5F09E0521019564        9100.0  A5F09E05  \n",
       "364354  5231138.0  BD61BDEC7D0A1633        9185.0  BD61BDEC  \n",
       "364362  2498155.0  D201EB7230F20770      485176.0  D201EB72  \n",
       "364364  9036008.0  E196D6F9AB1DFF7E      508048.0  E196D6F9  \n",
       "\n",
       "[79018 rows x 17 columns]"
      ]
     },
     "execution_count": 152,
     "metadata": {},
     "output_type": "execute_result"
    }
   ],
   "source": [
    "df_iNat6"
   ]
  },
  {
   "cell_type": "code",
   "execution_count": 154,
   "metadata": {},
   "outputs": [],
   "source": [
    "df_iNat7 = df_iNat6[df_iNat6['AVIBASEID'].isin(final_list_birds2_s)]"
   ]
  },
  {
   "cell_type": "code",
   "execution_count": 155,
   "metadata": {},
   "outputs": [
    {
     "data": {
      "text/plain": [
       "(71602, 17)"
      ]
     },
     "execution_count": 155,
     "metadata": {},
     "output_type": "execute_result"
    }
   ],
   "source": [
    "df_iNat7.shape"
   ]
  },
  {
   "cell_type": "code",
   "execution_count": 156,
   "metadata": {},
   "outputs": [
    {
     "data": {
      "text/plain": [
       "353"
      ]
     },
     "execution_count": 156,
     "metadata": {},
     "output_type": "execute_result"
    }
   ],
   "source": [
    "df_iNat7['AVIBASEID'].nunique()"
   ]
  },
  {
   "cell_type": "markdown",
   "metadata": {},
   "source": [
    "# Adding Bird Name"
   ]
  },
  {
   "cell_type": "code",
   "execution_count": 158,
   "metadata": {},
   "outputs": [],
   "source": [
    "name_birds = df_eBird[['TAXON CONCEPT ID', 'COMMON NAME']]"
   ]
  },
  {
   "cell_type": "code",
   "execution_count": 160,
   "metadata": {},
   "outputs": [],
   "source": [
    "name_birds2 = name_birds.drop_duplicates().copy()"
   ]
  },
  {
   "cell_type": "code",
   "execution_count": 162,
   "metadata": {},
   "outputs": [
    {
     "data": {
      "text/plain": [
       "(1088, 2)"
      ]
     },
     "execution_count": 162,
     "metadata": {},
     "output_type": "execute_result"
    }
   ],
   "source": [
    "name_birds2.shape"
   ]
  },
  {
   "cell_type": "code",
   "execution_count": 166,
   "metadata": {},
   "outputs": [],
   "source": [
    "name_birds2['AVIBASEID'] = name_birds2['TAXON CONCEPT ID'].apply(lambda x: x[-8:])"
   ]
  },
  {
   "cell_type": "code",
   "execution_count": 167,
   "metadata": {},
   "outputs": [
    {
     "data": {
      "text/html": [
       "<div>\n",
       "<style scoped>\n",
       "    .dataframe tbody tr th:only-of-type {\n",
       "        vertical-align: middle;\n",
       "    }\n",
       "\n",
       "    .dataframe tbody tr th {\n",
       "        vertical-align: top;\n",
       "    }\n",
       "\n",
       "    .dataframe thead th {\n",
       "        text-align: right;\n",
       "    }\n",
       "</style>\n",
       "<table border=\"1\" class=\"dataframe\">\n",
       "  <thead>\n",
       "    <tr style=\"text-align: right;\">\n",
       "      <th></th>\n",
       "      <th>TAXON CONCEPT ID</th>\n",
       "      <th>COMMON NAME</th>\n",
       "      <th>AVIBASEID</th>\n",
       "    </tr>\n",
       "  </thead>\n",
       "  <tbody>\n",
       "    <tr>\n",
       "      <th>0</th>\n",
       "      <td>avibase-CA08045E</td>\n",
       "      <td>Accipiter sp.</td>\n",
       "      <td>CA08045E</td>\n",
       "    </tr>\n",
       "    <tr>\n",
       "      <th>6</th>\n",
       "      <td>avibase-7E327303</td>\n",
       "      <td>Acorn Woodpecker</td>\n",
       "      <td>7E327303</td>\n",
       "    </tr>\n",
       "    <tr>\n",
       "      <th>193</th>\n",
       "      <td>avibase-C25794D5</td>\n",
       "      <td>Allen's Hummingbird</td>\n",
       "      <td>C25794D5</td>\n",
       "    </tr>\n",
       "    <tr>\n",
       "      <th>199</th>\n",
       "      <td>avibase-8EB0C1FA</td>\n",
       "      <td>American Avocet</td>\n",
       "      <td>8EB0C1FA</td>\n",
       "    </tr>\n",
       "    <tr>\n",
       "      <th>517</th>\n",
       "      <td>avibase-13E9F9B4</td>\n",
       "      <td>American Bittern</td>\n",
       "      <td>13E9F9B4</td>\n",
       "    </tr>\n",
       "    <tr>\n",
       "      <th>...</th>\n",
       "      <td>...</td>\n",
       "      <td>...</td>\n",
       "      <td>...</td>\n",
       "    </tr>\n",
       "    <tr>\n",
       "      <th>8283270</th>\n",
       "      <td>avibase-977986EC</td>\n",
       "      <td>Red-crowned x Lilac-crowned Parrot (hybrid)</td>\n",
       "      <td>977986EC</td>\n",
       "    </tr>\n",
       "    <tr>\n",
       "      <th>8309685</th>\n",
       "      <td>avibase-F89FD6E3</td>\n",
       "      <td>Little Gull</td>\n",
       "      <td>F89FD6E3</td>\n",
       "    </tr>\n",
       "    <tr>\n",
       "      <th>8320087</th>\n",
       "      <td>avibase-CA678E73</td>\n",
       "      <td>Gadwall x Green-winged Teal (hybrid)</td>\n",
       "      <td>CA678E73</td>\n",
       "    </tr>\n",
       "    <tr>\n",
       "      <th>8456596</th>\n",
       "      <td>avibase-4755009E</td>\n",
       "      <td>Red Crossbill</td>\n",
       "      <td>4755009E</td>\n",
       "    </tr>\n",
       "    <tr>\n",
       "      <th>8546745</th>\n",
       "      <td>avibase-64C6F7F0</td>\n",
       "      <td>American Wigeon x Mallard (hybrid)</td>\n",
       "      <td>64C6F7F0</td>\n",
       "    </tr>\n",
       "  </tbody>\n",
       "</table>\n",
       "<p>1088 rows × 3 columns</p>\n",
       "</div>"
      ],
      "text/plain": [
       "         TAXON CONCEPT ID                                  COMMON NAME  \\\n",
       "0        avibase-CA08045E                                Accipiter sp.   \n",
       "6        avibase-7E327303                             Acorn Woodpecker   \n",
       "193      avibase-C25794D5                          Allen's Hummingbird   \n",
       "199      avibase-8EB0C1FA                              American Avocet   \n",
       "517      avibase-13E9F9B4                             American Bittern   \n",
       "...                   ...                                          ...   \n",
       "8283270  avibase-977986EC  Red-crowned x Lilac-crowned Parrot (hybrid)   \n",
       "8309685  avibase-F89FD6E3                                  Little Gull   \n",
       "8320087  avibase-CA678E73         Gadwall x Green-winged Teal (hybrid)   \n",
       "8456596  avibase-4755009E                                Red Crossbill   \n",
       "8546745  avibase-64C6F7F0           American Wigeon x Mallard (hybrid)   \n",
       "\n",
       "        AVIBASEID  \n",
       "0        CA08045E  \n",
       "6        7E327303  \n",
       "193      C25794D5  \n",
       "199      8EB0C1FA  \n",
       "517      13E9F9B4  \n",
       "...           ...  \n",
       "8283270  977986EC  \n",
       "8309685  F89FD6E3  \n",
       "8320087  CA678E73  \n",
       "8456596  4755009E  \n",
       "8546745  64C6F7F0  \n",
       "\n",
       "[1088 rows x 3 columns]"
      ]
     },
     "execution_count": 167,
     "metadata": {},
     "output_type": "execute_result"
    }
   ],
   "source": [
    "name_birds2"
   ]
  },
  {
   "cell_type": "code",
   "execution_count": 169,
   "metadata": {},
   "outputs": [],
   "source": [
    "df_eBird5 = df_eBird4.merge(name_birds2, how='left', on='AVIBASEID')"
   ]
  },
  {
   "cell_type": "code",
   "execution_count": 170,
   "metadata": {},
   "outputs": [
    {
     "data": {
      "text/plain": [
       "(3842332, 14)"
      ]
     },
     "execution_count": 170,
     "metadata": {},
     "output_type": "execute_result"
    }
   ],
   "source": [
    "df_eBird5.shape"
   ]
  },
  {
   "cell_type": "code",
   "execution_count": 171,
   "metadata": {},
   "outputs": [
    {
     "data": {
      "text/plain": [
       "(3842332, 12)"
      ]
     },
     "execution_count": 171,
     "metadata": {},
     "output_type": "execute_result"
    }
   ],
   "source": [
    "df_eBird4.shape"
   ]
  },
  {
   "cell_type": "code",
   "execution_count": 172,
   "metadata": {},
   "outputs": [
    {
     "data": {
      "text/plain": [
       "(71602, 17)"
      ]
     },
     "execution_count": 172,
     "metadata": {},
     "output_type": "execute_result"
    }
   ],
   "source": [
    "df_iNat7.shape"
   ]
  },
  {
   "cell_type": "code",
   "execution_count": 173,
   "metadata": {},
   "outputs": [],
   "source": [
    "df_iNat8 = df_iNat7.merge(name_birds2, how='left', on='AVIBASEID')"
   ]
  },
  {
   "cell_type": "code",
   "execution_count": 174,
   "metadata": {},
   "outputs": [
    {
     "data": {
      "text/html": [
       "<div>\n",
       "<style scoped>\n",
       "    .dataframe tbody tr th:only-of-type {\n",
       "        vertical-align: middle;\n",
       "    }\n",
       "\n",
       "    .dataframe tbody tr th {\n",
       "        vertical-align: top;\n",
       "    }\n",
       "\n",
       "    .dataframe thead th {\n",
       "        text-align: right;\n",
       "    }\n",
       "</style>\n",
       "<table border=\"1\" class=\"dataframe\">\n",
       "  <thead>\n",
       "    <tr style=\"text-align: right;\">\n",
       "      <th></th>\n",
       "      <th>taxonID</th>\n",
       "      <th>taxonKey</th>\n",
       "      <th>countryCode</th>\n",
       "      <th>stateProvince</th>\n",
       "      <th>decimalLatitude</th>\n",
       "      <th>decimalLongitude</th>\n",
       "      <th>eventDate</th>\n",
       "      <th>observation_dt</th>\n",
       "      <th>YEAR</th>\n",
       "      <th>WEEK</th>\n",
       "      <th>item</th>\n",
       "      <th>iNat_Tid</th>\n",
       "      <th>ITIS_TSN</th>\n",
       "      <th>GBF_ID</th>\n",
       "      <th>avibaseid</th>\n",
       "      <th>iNat_Tid_num</th>\n",
       "      <th>AVIBASEID</th>\n",
       "      <th>TAXON CONCEPT ID</th>\n",
       "      <th>COMMON NAME</th>\n",
       "    </tr>\n",
       "  </thead>\n",
       "  <tbody>\n",
       "    <tr>\n",
       "      <th>0</th>\n",
       "      <td>6317.0</td>\n",
       "      <td>2476674.0</td>\n",
       "      <td>US</td>\n",
       "      <td>California</td>\n",
       "      <td>37.951323</td>\n",
       "      <td>-122.598442</td>\n",
       "      <td>2019-05-08T07:49:00</td>\n",
       "      <td>2019-05-08 07:49:00</td>\n",
       "      <td>2019</td>\n",
       "      <td>19</td>\n",
       "      <td>http://www.wikidata.org/entity/Q564265</td>\n",
       "      <td>6317</td>\n",
       "      <td>178036.0</td>\n",
       "      <td>2476674.0</td>\n",
       "      <td>423937213450C257</td>\n",
       "      <td>6317.0</td>\n",
       "      <td>42393721</td>\n",
       "      <td>avibase-42393721</td>\n",
       "      <td>Anna's Hummingbird</td>\n",
       "    </tr>\n",
       "    <tr>\n",
       "      <th>1</th>\n",
       "      <td>18209.0</td>\n",
       "      <td>2478133.0</td>\n",
       "      <td>US</td>\n",
       "      <td>California</td>\n",
       "      <td>37.514882</td>\n",
       "      <td>-121.831151</td>\n",
       "      <td>2019-01-19T16:51:00</td>\n",
       "      <td>2019-01-19 16:51:00</td>\n",
       "      <td>2019</td>\n",
       "      <td>3</td>\n",
       "      <td>http://www.wikidata.org/entity/Q368657</td>\n",
       "      <td>18209</td>\n",
       "      <td>178189.0</td>\n",
       "      <td>2478133.0</td>\n",
       "      <td>7E3273031F76242B</td>\n",
       "      <td>18209.0</td>\n",
       "      <td>7E327303</td>\n",
       "      <td>avibase-7E327303</td>\n",
       "      <td>Acorn Woodpecker</td>\n",
       "    </tr>\n",
       "    <tr>\n",
       "      <th>2</th>\n",
       "      <td>4235.0</td>\n",
       "      <td>2482033.0</td>\n",
       "      <td>US</td>\n",
       "      <td>California</td>\n",
       "      <td>37.973925</td>\n",
       "      <td>-121.827973</td>\n",
       "      <td>2019-03-14T11:26:00</td>\n",
       "      <td>2019-03-14 11:26:00</td>\n",
       "      <td>2019</td>\n",
       "      <td>11</td>\n",
       "      <td>http://www.wikidata.org/entity/Q679154</td>\n",
       "      <td>4235</td>\n",
       "      <td>174503.0</td>\n",
       "      <td>2482033.0</td>\n",
       "      <td>C6E1197BE78E2E17</td>\n",
       "      <td>4235.0</td>\n",
       "      <td>C6E1197B</td>\n",
       "      <td>avibase-C6E1197B</td>\n",
       "      <td>Western Grebe</td>\n",
       "    </tr>\n",
       "    <tr>\n",
       "      <th>3</th>\n",
       "      <td>6930.0</td>\n",
       "      <td>9761484.0</td>\n",
       "      <td>US</td>\n",
       "      <td>California</td>\n",
       "      <td>37.769881</td>\n",
       "      <td>-122.502033</td>\n",
       "      <td>2019-07-09T19:32:00</td>\n",
       "      <td>2019-07-09 19:32:00</td>\n",
       "      <td>2019</td>\n",
       "      <td>28</td>\n",
       "      <td>http://www.wikidata.org/entity/Q25348</td>\n",
       "      <td>6930</td>\n",
       "      <td>175063.0</td>\n",
       "      <td>2498132.0</td>\n",
       "      <td>85625D75F2524457</td>\n",
       "      <td>6930.0</td>\n",
       "      <td>85625D75</td>\n",
       "      <td>avibase-85625D75</td>\n",
       "      <td>Mallard</td>\n",
       "    </tr>\n",
       "    <tr>\n",
       "      <th>4</th>\n",
       "      <td>4956.0</td>\n",
       "      <td>9630752.0</td>\n",
       "      <td>US</td>\n",
       "      <td>California</td>\n",
       "      <td>38.514781</td>\n",
       "      <td>-121.616883</td>\n",
       "      <td>2019-09-11T07:09:00</td>\n",
       "      <td>2019-09-11 07:09:00</td>\n",
       "      <td>2019</td>\n",
       "      <td>37</td>\n",
       "      <td>http://www.wikidata.org/entity/Q333796</td>\n",
       "      <td>4956</td>\n",
       "      <td>174773.0</td>\n",
       "      <td>9630752.0</td>\n",
       "      <td>93694BB5492F7012</td>\n",
       "      <td>4956.0</td>\n",
       "      <td>93694BB5</td>\n",
       "      <td>avibase-93694BB5</td>\n",
       "      <td>Great Blue Heron</td>\n",
       "    </tr>\n",
       "    <tr>\n",
       "      <th>...</th>\n",
       "      <td>...</td>\n",
       "      <td>...</td>\n",
       "      <td>...</td>\n",
       "      <td>...</td>\n",
       "      <td>...</td>\n",
       "      <td>...</td>\n",
       "      <td>...</td>\n",
       "      <td>...</td>\n",
       "      <td>...</td>\n",
       "      <td>...</td>\n",
       "      <td>...</td>\n",
       "      <td>...</td>\n",
       "      <td>...</td>\n",
       "      <td>...</td>\n",
       "      <td>...</td>\n",
       "      <td>...</td>\n",
       "      <td>...</td>\n",
       "      <td>...</td>\n",
       "      <td>...</td>\n",
       "    </tr>\n",
       "    <tr>\n",
       "      <th>71597</th>\n",
       "      <td>4956.0</td>\n",
       "      <td>9630752.0</td>\n",
       "      <td>US</td>\n",
       "      <td>California</td>\n",
       "      <td>37.794537</td>\n",
       "      <td>-122.466049</td>\n",
       "      <td>2019-06-07T08:18:57</td>\n",
       "      <td>2019-06-07 08:18:57</td>\n",
       "      <td>2019</td>\n",
       "      <td>23</td>\n",
       "      <td>http://www.wikidata.org/entity/Q333796</td>\n",
       "      <td>4956</td>\n",
       "      <td>174773.0</td>\n",
       "      <td>9630752.0</td>\n",
       "      <td>93694BB5492F7012</td>\n",
       "      <td>4956.0</td>\n",
       "      <td>93694BB5</td>\n",
       "      <td>avibase-93694BB5</td>\n",
       "      <td>Great Blue Heron</td>\n",
       "    </tr>\n",
       "    <tr>\n",
       "      <th>71598</th>\n",
       "      <td>9100.0</td>\n",
       "      <td>2492196.0</td>\n",
       "      <td>US</td>\n",
       "      <td>California</td>\n",
       "      <td>38.552241</td>\n",
       "      <td>-121.629993</td>\n",
       "      <td>2019-09-14T09:59:00</td>\n",
       "      <td>2019-09-14 09:59:00</td>\n",
       "      <td>2019</td>\n",
       "      <td>37</td>\n",
       "      <td>http://www.wikidata.org/entity/Q842599</td>\n",
       "      <td>9100</td>\n",
       "      <td>179492.0</td>\n",
       "      <td>2492196.0</td>\n",
       "      <td>A5F09E0521019564</td>\n",
       "      <td>9100.0</td>\n",
       "      <td>A5F09E05</td>\n",
       "      <td>avibase-A5F09E05</td>\n",
       "      <td>Song Sparrow</td>\n",
       "    </tr>\n",
       "    <tr>\n",
       "      <th>71599</th>\n",
       "      <td>9185.0</td>\n",
       "      <td>5231138.0</td>\n",
       "      <td>US</td>\n",
       "      <td>California</td>\n",
       "      <td>37.433635</td>\n",
       "      <td>-122.097624</td>\n",
       "      <td>2019-01-10T13:54:00</td>\n",
       "      <td>2019-01-10 13:54:00</td>\n",
       "      <td>2019</td>\n",
       "      <td>2</td>\n",
       "      <td>http://www.wikidata.org/entity/Q690956</td>\n",
       "      <td>9185</td>\n",
       "      <td>179461.0</td>\n",
       "      <td>5231138.0</td>\n",
       "      <td>BD61BDEC7D0A1633</td>\n",
       "      <td>9185.0</td>\n",
       "      <td>BD61BDEC</td>\n",
       "      <td>avibase-BD61BDEC</td>\n",
       "      <td>Golden-crowned Sparrow</td>\n",
       "    </tr>\n",
       "    <tr>\n",
       "      <th>71600</th>\n",
       "      <td>485176.0</td>\n",
       "      <td>2498155.0</td>\n",
       "      <td>US</td>\n",
       "      <td>California</td>\n",
       "      <td>37.582335</td>\n",
       "      <td>-122.314627</td>\n",
       "      <td>2019-02-09T07:46:00</td>\n",
       "      <td>2019-02-09 07:46:00</td>\n",
       "      <td>2019</td>\n",
       "      <td>6</td>\n",
       "      <td>http://www.wikidata.org/entity/Q28106685</td>\n",
       "      <td>485176</td>\n",
       "      <td>175095.0</td>\n",
       "      <td>2498155.0</td>\n",
       "      <td>D201EB7230F20770</td>\n",
       "      <td>485176.0</td>\n",
       "      <td>D201EB72</td>\n",
       "      <td>avibase-D201EB72</td>\n",
       "      <td>American Wigeon</td>\n",
       "    </tr>\n",
       "    <tr>\n",
       "      <th>71601</th>\n",
       "      <td>508048.0</td>\n",
       "      <td>9036008.0</td>\n",
       "      <td>US</td>\n",
       "      <td>California</td>\n",
       "      <td>38.157721</td>\n",
       "      <td>-121.443274</td>\n",
       "      <td>2019-12-16T16:59:00</td>\n",
       "      <td>2019-12-16 16:59:00</td>\n",
       "      <td>2019</td>\n",
       "      <td>51</td>\n",
       "      <td>http://www.wikidata.org/entity/Q28114133</td>\n",
       "      <td>508048</td>\n",
       "      <td>NaN</td>\n",
       "      <td>9036008.0</td>\n",
       "      <td>E196D6F9AB1DFF7E</td>\n",
       "      <td>508048.0</td>\n",
       "      <td>E196D6F9</td>\n",
       "      <td>avibase-E196D6F9</td>\n",
       "      <td>Sandhill Crane</td>\n",
       "    </tr>\n",
       "  </tbody>\n",
       "</table>\n",
       "<p>71602 rows × 19 columns</p>\n",
       "</div>"
      ],
      "text/plain": [
       "        taxonID   taxonKey countryCode stateProvince  decimalLatitude  \\\n",
       "0        6317.0  2476674.0          US    California        37.951323   \n",
       "1       18209.0  2478133.0          US    California        37.514882   \n",
       "2        4235.0  2482033.0          US    California        37.973925   \n",
       "3        6930.0  9761484.0          US    California        37.769881   \n",
       "4        4956.0  9630752.0          US    California        38.514781   \n",
       "...         ...        ...         ...           ...              ...   \n",
       "71597    4956.0  9630752.0          US    California        37.794537   \n",
       "71598    9100.0  2492196.0          US    California        38.552241   \n",
       "71599    9185.0  5231138.0          US    California        37.433635   \n",
       "71600  485176.0  2498155.0          US    California        37.582335   \n",
       "71601  508048.0  9036008.0          US    California        38.157721   \n",
       "\n",
       "       decimalLongitude            eventDate      observation_dt  YEAR  WEEK  \\\n",
       "0           -122.598442  2019-05-08T07:49:00 2019-05-08 07:49:00  2019    19   \n",
       "1           -121.831151  2019-01-19T16:51:00 2019-01-19 16:51:00  2019     3   \n",
       "2           -121.827973  2019-03-14T11:26:00 2019-03-14 11:26:00  2019    11   \n",
       "3           -122.502033  2019-07-09T19:32:00 2019-07-09 19:32:00  2019    28   \n",
       "4           -121.616883  2019-09-11T07:09:00 2019-09-11 07:09:00  2019    37   \n",
       "...                 ...                  ...                 ...   ...   ...   \n",
       "71597       -122.466049  2019-06-07T08:18:57 2019-06-07 08:18:57  2019    23   \n",
       "71598       -121.629993  2019-09-14T09:59:00 2019-09-14 09:59:00  2019    37   \n",
       "71599       -122.097624  2019-01-10T13:54:00 2019-01-10 13:54:00  2019     2   \n",
       "71600       -122.314627  2019-02-09T07:46:00 2019-02-09 07:46:00  2019     6   \n",
       "71601       -121.443274  2019-12-16T16:59:00 2019-12-16 16:59:00  2019    51   \n",
       "\n",
       "                                           item iNat_Tid  ITIS_TSN     GBF_ID  \\\n",
       "0        http://www.wikidata.org/entity/Q564265     6317  178036.0  2476674.0   \n",
       "1        http://www.wikidata.org/entity/Q368657    18209  178189.0  2478133.0   \n",
       "2        http://www.wikidata.org/entity/Q679154     4235  174503.0  2482033.0   \n",
       "3         http://www.wikidata.org/entity/Q25348     6930  175063.0  2498132.0   \n",
       "4        http://www.wikidata.org/entity/Q333796     4956  174773.0  9630752.0   \n",
       "...                                         ...      ...       ...        ...   \n",
       "71597    http://www.wikidata.org/entity/Q333796     4956  174773.0  9630752.0   \n",
       "71598    http://www.wikidata.org/entity/Q842599     9100  179492.0  2492196.0   \n",
       "71599    http://www.wikidata.org/entity/Q690956     9185  179461.0  5231138.0   \n",
       "71600  http://www.wikidata.org/entity/Q28106685   485176  175095.0  2498155.0   \n",
       "71601  http://www.wikidata.org/entity/Q28114133   508048       NaN  9036008.0   \n",
       "\n",
       "              avibaseid  iNat_Tid_num AVIBASEID  TAXON CONCEPT ID  \\\n",
       "0      423937213450C257        6317.0  42393721  avibase-42393721   \n",
       "1      7E3273031F76242B       18209.0  7E327303  avibase-7E327303   \n",
       "2      C6E1197BE78E2E17        4235.0  C6E1197B  avibase-C6E1197B   \n",
       "3      85625D75F2524457        6930.0  85625D75  avibase-85625D75   \n",
       "4      93694BB5492F7012        4956.0  93694BB5  avibase-93694BB5   \n",
       "...                 ...           ...       ...               ...   \n",
       "71597  93694BB5492F7012        4956.0  93694BB5  avibase-93694BB5   \n",
       "71598  A5F09E0521019564        9100.0  A5F09E05  avibase-A5F09E05   \n",
       "71599  BD61BDEC7D0A1633        9185.0  BD61BDEC  avibase-BD61BDEC   \n",
       "71600  D201EB7230F20770      485176.0  D201EB72  avibase-D201EB72   \n",
       "71601  E196D6F9AB1DFF7E      508048.0  E196D6F9  avibase-E196D6F9   \n",
       "\n",
       "                  COMMON NAME  \n",
       "0          Anna's Hummingbird  \n",
       "1            Acorn Woodpecker  \n",
       "2               Western Grebe  \n",
       "3                     Mallard  \n",
       "4            Great Blue Heron  \n",
       "...                       ...  \n",
       "71597        Great Blue Heron  \n",
       "71598            Song Sparrow  \n",
       "71599  Golden-crowned Sparrow  \n",
       "71600         American Wigeon  \n",
       "71601          Sandhill Crane  \n",
       "\n",
       "[71602 rows x 19 columns]"
      ]
     },
     "execution_count": 174,
     "metadata": {},
     "output_type": "execute_result"
    }
   ],
   "source": [
    "df_iNat8"
   ]
  },
  {
   "cell_type": "markdown",
   "metadata": {},
   "source": [
    "# Plots"
   ]
  },
  {
   "cell_type": "code",
   "execution_count": 175,
   "metadata": {},
   "outputs": [],
   "source": [
    "import seaborn as sns"
   ]
  },
  {
   "cell_type": "markdown",
   "metadata": {},
   "source": [
    "df_ebird5, inat8"
   ]
  },
  {
   "cell_type": "code",
   "execution_count": 183,
   "metadata": {},
   "outputs": [],
   "source": [
    "eda_inat1= df_iNat8.groupby('COMMON NAME').count()['taxonID']/716.02"
   ]
  },
  {
   "cell_type": "code",
   "execution_count": 186,
   "metadata": {},
   "outputs": [
    {
     "data": {
      "text/plain": [
       "COMMON NAME\n",
       "Red-tailed Hawk               3.273652\n",
       "Anna's Hummingbird            2.698249\n",
       "Mallard                       2.553001\n",
       "White-crowned Sparrow         2.150778\n",
       "Great Egret                   2.147985\n",
       "                                ...   \n",
       "Sulphur-bellied Flycatcher    0.001397\n",
       "Prairie Warbler               0.001397\n",
       "Flesh-footed Shearwater       0.001397\n",
       "Eastern Phoebe                0.001397\n",
       "Yellow-throated Vireo         0.001397\n",
       "Name: taxonID, Length: 352, dtype: float64"
      ]
     },
     "execution_count": 186,
     "metadata": {},
     "output_type": "execute_result"
    }
   ],
   "source": [
    "eda_inat1.sort_values(ascending=False)"
   ]
  },
  {
   "cell_type": "code",
   "execution_count": 191,
   "metadata": {},
   "outputs": [],
   "source": [
    "eda_ebird = df_eBird5.groupby('COMMON NAME').count()['AVIBASEID']"
   ]
  },
  {
   "cell_type": "code",
   "execution_count": 192,
   "metadata": {},
   "outputs": [],
   "source": [
    "eda_ebird = eda_ebird/38423.32"
   ]
  },
  {
   "cell_type": "code",
   "execution_count": 193,
   "metadata": {},
   "outputs": [
    {
     "data": {
      "text/plain": [
       "COMMON NAME\n",
       "Black Phoebe            2.874973\n",
       "Anna's Hummingbird      2.736723\n",
       "House Finch             2.557692\n",
       "California Scrub-Jay    2.544080\n",
       "Turkey Vulture          2.421889\n",
       "                          ...   \n",
       "Glossy Ibis             0.000104\n",
       "Helmeted Guineafowl     0.000104\n",
       "Neotropic Cormorant     0.000078\n",
       "Indian Peafowl          0.000052\n",
       "Graylag Goose           0.000026\n",
       "Name: AVIBASEID, Length: 352, dtype: float64"
      ]
     },
     "execution_count": 193,
     "metadata": {},
     "output_type": "execute_result"
    }
   ],
   "source": [
    "eda_ebird.sort_values(ascending=False)"
   ]
  },
  {
   "cell_type": "code",
   "execution_count": 196,
   "metadata": {},
   "outputs": [],
   "source": [
    "%matplotlib inline\n",
    "%config InlineBackend.figure_format = 'retina'"
   ]
  },
  {
   "cell_type": "code",
   "execution_count": 198,
   "metadata": {},
   "outputs": [],
   "source": [
    "import matplotlib.pyplot as plt"
   ]
  },
  {
   "cell_type": "code",
   "execution_count": 216,
   "metadata": {},
   "outputs": [
    {
     "data": {
      "text/plain": [
       "<matplotlib.legend.Legend at 0x7fcf5316a680>"
      ]
     },
     "execution_count": 216,
     "metadata": {},
     "output_type": "execute_result"
    },
    {
     "data": {
      "image/png": "[encoded data removed]",
      "text/plain": [
       "<Figure size 800x400 with 1 Axes>"
      ]
     },
     "metadata": {
      "image/png": {
       "height": 351,
       "width": 683
      }
     },
     "output_type": "display_data"
    }
   ],
   "source": [
    "fig, ax = plt.subplots(1,1,figsize=(8,4))\n",
    "sns.kdeplot(eda_ebird.values, ax=ax, label='eBird', color='#142231', bw_adjust=0.2)\n",
    "sns.kdeplot(eda_inat1.values, ax=ax, label='i-Naturalist', color='#FBA210', bw_adjust=0.2)\n",
    "ax.legend()\n"
   ]
  },
  {
   "cell_type": "code",
   "execution_count": 222,
   "metadata": {},
   "outputs": [],
   "source": [
    "eda_diff = eda_ebird.sort_index() - eda_inat1.sort_index()"
   ]
  },
  {
   "cell_type": "code",
   "execution_count": 224,
   "metadata": {},
   "outputs": [
    {
     "data": {
      "text/plain": [
       "count    3.520000e+02\n",
       "mean    -1.009294e-17\n",
       "std      2.587908e-01\n",
       "min     -1.470059e+00\n",
       "25%     -3.255552e-02\n",
       "50%     -1.088524e-03\n",
       "75%      3.080370e-02\n",
       "max      1.195224e+00\n",
       "dtype: float64"
      ]
     },
     "execution_count": 224,
     "metadata": {},
     "output_type": "execute_result"
    }
   ],
   "source": [
    "eda_diff.describe()"
   ]
  },
  {
   "cell_type": "code",
   "execution_count": 226,
   "metadata": {},
   "outputs": [],
   "source": [
    "import numpy as np"
   ]
  },
  {
   "cell_type": "code",
   "execution_count": 228,
   "metadata": {},
   "outputs": [],
   "source": [
    "eda_diff_abs = np.abs(eda_diff)"
   ]
  },
  {
   "cell_type": "code",
   "execution_count": 229,
   "metadata": {},
   "outputs": [
    {
     "data": {
      "text/plain": [
       "COMMON NAME\n",
       "Red-tailed Hawk             1.470059\n",
       "Wild Turkey                 1.396315\n",
       "Neotropic Cormorant         1.342063\n",
       "American Coot               1.272878\n",
       "European Starling           1.195224\n",
       "                              ...   \n",
       "Rough-legged Hawk           0.000107\n",
       "Great Crested Flycatcher    0.000087\n",
       "Swamp Sparrow               0.000086\n",
       "Least Flycatcher            0.000069\n",
       "Blue Jay                    0.000009\n",
       "Length: 352, dtype: float64"
      ]
     },
     "execution_count": 229,
     "metadata": {},
     "output_type": "execute_result"
    }
   ],
   "source": [
    "eda_diff_abs.sort_values(ascending=False)"
   ]
  },
  {
   "cell_type": "code",
   "execution_count": 231,
   "metadata": {},
   "outputs": [
    {
     "data": {
      "text/plain": [
       "COMMON NAME\n",
       "Red-tailed Hawk       -1.470059\n",
       "Wild Turkey           -1.396315\n",
       "Neotropic Cormorant   -1.342063\n",
       "American Coot         -1.272878\n",
       "Great Blue Heron      -1.020892\n",
       "                         ...   \n",
       "Turkey Vulture         0.799029\n",
       "Mourning Dove          0.963545\n",
       "Common Raven           0.994793\n",
       "House Finch            1.060527\n",
       "European Starling      1.195224\n",
       "Length: 352, dtype: float64"
      ]
     },
     "execution_count": 231,
     "metadata": {},
     "output_type": "execute_result"
    }
   ],
   "source": [
    "eda_diff.sort_values()"
   ]
  },
  {
   "cell_type": "code",
   "execution_count": null,
   "metadata": {},
   "outputs": [],
   "source": []
  }
 ],
 "metadata": {
  "kernelspec": {
   "display_name": "Python 3.10.11 ('exp_func')",
   "language": "python",
   "name": "python3"
  },
  "language_info": {
   "codemirror_mode": {
    "name": "ipython",
    "version": 3
   },
   "file_extension": ".py",
   "mimetype": "text/x-python",
   "name": "python",
   "nbconvert_exporter": "python",
   "pygments_lexer": "ipython3",
   "version": "3.10.11"
  },
  "orig_nbformat": 4,
  "vscode": {
   "interpreter": {
    "hash": "51ab48f99c10b131b06c2c5468102467b7e92e0ffbfd68ac19cda9304f04b617"
   }
  }
 },
 "nbformat": 4,
 "nbformat_minor": 2
}
