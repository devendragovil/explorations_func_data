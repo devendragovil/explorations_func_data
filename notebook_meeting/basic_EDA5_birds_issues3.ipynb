{
 "cells": [
  {
   "cell_type": "code",
   "execution_count": 1,
   "metadata": {},
   "outputs": [],
   "source": [
    "import pandas as pd"
   ]
  },
  {
   "cell_type": "code",
   "execution_count": 2,
   "metadata": {},
   "outputs": [
    {
     "name": "stderr",
     "output_type": "stream",
     "text": [
      "/var/folders/ms/2ygwp03d4b5526gc0h51spqh0000gn/T/ipykernel_16421/1441865066.py:1: DtypeWarning: Columns (138,180) have mixed types. Specify dtype option on import or set low_memory=False.\n",
      "  df_inat =  pd.read_csv('../data/gbif/occurrence.txt', delimiter='\\t', quotechar='\"', usecols=[\n"
     ]
    }
   ],
   "source": [
    "df_inat =  pd.read_csv('../data/gbif/occurrence.txt', delimiter='\\t', quotechar='\"', usecols=[\n",
    "    'taxonID',\n",
    "    'taxonKey',\n",
    "    'countryCode',\n",
    "    'stateProvince',\n",
    "    'decimalLatitude',\n",
    "    'decimalLongitude',\n",
    "    'eventDate',\n",
    "    'acceptedScientificName',\n",
    "    'scientificName',\n",
    "])"
   ]
  },
  {
   "cell_type": "code",
   "execution_count": 3,
   "metadata": {},
   "outputs": [
    {
     "data": {
      "text/plain": [
       "(3321454, 9)"
      ]
     },
     "execution_count": 3,
     "metadata": {},
     "output_type": "execute_result"
    }
   ],
   "source": [
    "df_inat.shape"
   ]
  },
  {
   "cell_type": "code",
   "execution_count": 4,
   "metadata": {},
   "outputs": [],
   "source": [
    "df_inat_22 = pd.read_csv('../data/gbif_22/occurrence.txt', delimiter='\\t', quoting=3, usecols=[\n",
    "    'taxonID',\n",
    "    'taxonKey',\n",
    "    'countryCode',\n",
    "    'stateProvince',\n",
    "    'decimalLatitude',\n",
    "    'decimalLongitude',\n",
    "    'eventDate',\n",
    "    'acceptedScientificName',\n",
    "    'scientificName',\n",
    "])"
   ]
  },
  {
   "cell_type": "code",
   "execution_count": 5,
   "metadata": {},
   "outputs": [
    {
     "data": {
      "text/plain": [
       "(6686625, 9)"
      ]
     },
     "execution_count": 5,
     "metadata": {},
     "output_type": "execute_result"
    }
   ],
   "source": [
    "df_inat_22.shape"
   ]
  },
  {
   "cell_type": "code",
   "execution_count": 6,
   "metadata": {},
   "outputs": [],
   "source": [
    "rel_columns_iNat = [\n",
    "    'taxonID',\n",
    "    'taxonKey',\n",
    "    'countryCode',\n",
    "    'stateProvince',\n",
    "    'decimalLatitude',\n",
    "    'decimalLongitude',\n",
    "    'eventDate',\n",
    "    'acceptedScientificName',\n",
    "    'scientificName',\n",
    "]\n",
    "rel_columns_eBird = [\n",
    "    'TAXON CONCEPT ID',\n",
    "    'OBSERVATION COUNT',\n",
    "    'COUNTRY',\n",
    "    'STATE',\n",
    "    'LATITUDE',\n",
    "    'LONGITUDE',\n",
    "    'OBSERVATION DATE',\n",
    "    'SCIENTIFIC NAME',\n",
    "    'COMMON NAME',\n",
    "]"
   ]
  },
  {
   "cell_type": "code",
   "execution_count": 7,
   "metadata": {},
   "outputs": [
    {
     "name": "stdout",
     "output_type": "stream",
     "text": [
      "Total number of records: \n",
      "3,321,454 for 2019\n",
      "6,686,625 for 2022\n"
     ]
    }
   ],
   "source": [
    "print(f\"Total number of records: \\n{df_inat.shape[0]:,} for 2019\\n{df_inat_22.shape[0]:,} for 2022\")"
   ]
  },
  {
   "cell_type": "code",
   "execution_count": 8,
   "metadata": {},
   "outputs": [],
   "source": [
    "df_eBird = pd.read_csv('../data/eBird/ebd_US-CA_201901_201912_relApr-2023/ebd_US-CA_201901_201912_relApr-2023.txt', sep='\\t', usecols=rel_columns_eBird)"
   ]
  },
  {
   "cell_type": "code",
   "execution_count": 9,
   "metadata": {},
   "outputs": [],
   "source": [
    "df_eBird_22 = pd.read_csv('../data/eBird_ebd_US-CA_202201_202212_relSep-2023/ebd_US-CA_202201_202212_relSep-2023.txt', sep='\\t', usecols=rel_columns_eBird)"
   ]
  },
  {
   "cell_type": "code",
   "execution_count": 10,
   "metadata": {},
   "outputs": [
    {
     "name": "stdout",
     "output_type": "stream",
     "text": [
      "Total number of records for eBird: \n",
      "8,694,926 for 2019\n",
      "12,673,675 for 2022\n"
     ]
    }
   ],
   "source": [
    "print(f\"Total number of records for eBird: \\n{df_eBird.shape[0]:,} for 2019\\n{df_eBird_22.shape[0]:,} for 2022\")"
   ]
  },
  {
   "cell_type": "code",
   "execution_count": 11,
   "metadata": {},
   "outputs": [],
   "source": [
    "df_iNat2 = df_inat[rel_columns_iNat].copy()\n",
    "df_eBird2 = df_eBird[rel_columns_eBird].copy()\n",
    "df_iNat2_22 = df_inat_22[rel_columns_iNat].copy()\n",
    "df_eBird2_22 = df_eBird_22[rel_columns_eBird].copy()"
   ]
  },
  {
   "cell_type": "code",
   "execution_count": 12,
   "metadata": {},
   "outputs": [
    {
     "data": {
      "text/html": [
       "<div>\n",
       "<style scoped>\n",
       "    .dataframe tbody tr th:only-of-type {\n",
       "        vertical-align: middle;\n",
       "    }\n",
       "\n",
       "    .dataframe tbody tr th {\n",
       "        vertical-align: top;\n",
       "    }\n",
       "\n",
       "    .dataframe thead th {\n",
       "        text-align: right;\n",
       "    }\n",
       "</style>\n",
       "<table border=\"1\" class=\"dataframe\">\n",
       "  <thead>\n",
       "    <tr style=\"text-align: right;\">\n",
       "      <th></th>\n",
       "      <th>taxonID</th>\n",
       "      <th>taxonKey</th>\n",
       "      <th>countryCode</th>\n",
       "      <th>stateProvince</th>\n",
       "      <th>decimalLatitude</th>\n",
       "      <th>decimalLongitude</th>\n",
       "      <th>eventDate</th>\n",
       "      <th>acceptedScientificName</th>\n",
       "      <th>scientificName</th>\n",
       "    </tr>\n",
       "  </thead>\n",
       "  <tbody>\n",
       "    <tr>\n",
       "      <th>0</th>\n",
       "      <td>123045</td>\n",
       "      <td>2515238.0</td>\n",
       "      <td>US</td>\n",
       "      <td>California</td>\n",
       "      <td>34.140209</td>\n",
       "      <td>-119.187897</td>\n",
       "      <td>2019-01-30T09:59:56</td>\n",
       "      <td>Puccinia evadens Harkn.</td>\n",
       "      <td>Puccinia evadens Harkn.</td>\n",
       "    </tr>\n",
       "    <tr>\n",
       "      <th>1</th>\n",
       "      <td>84994</td>\n",
       "      <td>5156078.0</td>\n",
       "      <td>US</td>\n",
       "      <td>Florida</td>\n",
       "      <td>28.059126</td>\n",
       "      <td>-82.418194</td>\n",
       "      <td>2019-01-21T14:35:00</td>\n",
       "      <td>Acanthocephala declivis (Say, 1832)</td>\n",
       "      <td>Acanthocephala declivis (Say, 1832)</td>\n",
       "    </tr>\n",
       "    <tr>\n",
       "      <th>2</th>\n",
       "      <td>36204</td>\n",
       "      <td>2451234.0</td>\n",
       "      <td>US</td>\n",
       "      <td>California</td>\n",
       "      <td>35.271399</td>\n",
       "      <td>-120.888941</td>\n",
       "      <td>2019-03-17T13:56:00</td>\n",
       "      <td>Sceloporus occidentalis Baird &amp; Girard, 1852</td>\n",
       "      <td>Sceloporus occidentalis Baird &amp; Girard, 1852</td>\n",
       "    </tr>\n",
       "    <tr>\n",
       "      <th>3</th>\n",
       "      <td>53326</td>\n",
       "      <td>3169708.0</td>\n",
       "      <td>US</td>\n",
       "      <td>Georgia</td>\n",
       "      <td>33.769633</td>\n",
       "      <td>-84.30645</td>\n",
       "      <td>2019-03-29T14:33:23</td>\n",
       "      <td>Vinca major L.</td>\n",
       "      <td>Vinca major L.</td>\n",
       "    </tr>\n",
       "    <tr>\n",
       "      <th>4</th>\n",
       "      <td>9176</td>\n",
       "      <td>5231132.0</td>\n",
       "      <td>US</td>\n",
       "      <td>Texas</td>\n",
       "      <td>33.562034</td>\n",
       "      <td>-101.809798</td>\n",
       "      <td>2019-04-02T12:44:00</td>\n",
       "      <td>Zonotrichia leucophrys (J.R.Forster, 1772)</td>\n",
       "      <td>Zonotrichia leucophrys (J.R.Forster, 1772)</td>\n",
       "    </tr>\n",
       "  </tbody>\n",
       "</table>\n",
       "</div>"
      ],
      "text/plain": [
       "  taxonID   taxonKey countryCode stateProvince  decimalLatitude  \\\n",
       "0  123045  2515238.0          US    California        34.140209   \n",
       "1   84994  5156078.0          US       Florida        28.059126   \n",
       "2   36204  2451234.0          US    California        35.271399   \n",
       "3   53326  3169708.0          US       Georgia        33.769633   \n",
       "4    9176  5231132.0          US         Texas        33.562034   \n",
       "\n",
       "  decimalLongitude            eventDate  \\\n",
       "0      -119.187897  2019-01-30T09:59:56   \n",
       "1       -82.418194  2019-01-21T14:35:00   \n",
       "2      -120.888941  2019-03-17T13:56:00   \n",
       "3        -84.30645  2019-03-29T14:33:23   \n",
       "4      -101.809798  2019-04-02T12:44:00   \n",
       "\n",
       "                         acceptedScientificName  \\\n",
       "0                       Puccinia evadens Harkn.   \n",
       "1           Acanthocephala declivis (Say, 1832)   \n",
       "2  Sceloporus occidentalis Baird & Girard, 1852   \n",
       "3                                Vinca major L.   \n",
       "4    Zonotrichia leucophrys (J.R.Forster, 1772)   \n",
       "\n",
       "                                 scientificName  \n",
       "0                       Puccinia evadens Harkn.  \n",
       "1           Acanthocephala declivis (Say, 1832)  \n",
       "2  Sceloporus occidentalis Baird & Girard, 1852  \n",
       "3                                Vinca major L.  \n",
       "4    Zonotrichia leucophrys (J.R.Forster, 1772)  "
      ]
     },
     "execution_count": 12,
     "metadata": {},
     "output_type": "execute_result"
    }
   ],
   "source": [
    "df_iNat2.head()"
   ]
  },
  {
   "cell_type": "code",
   "execution_count": 13,
   "metadata": {},
   "outputs": [
    {
     "data": {
      "text/plain": [
       "US    3321452\n",
       "Name: countryCode, dtype: int64"
      ]
     },
     "execution_count": 13,
     "metadata": {},
     "output_type": "execute_result"
    }
   ],
   "source": [
    "df_iNat2['countryCode'].value_counts()"
   ]
  },
  {
   "cell_type": "code",
   "execution_count": 14,
   "metadata": {},
   "outputs": [
    {
     "data": {
      "text/plain": [
       "US    6686625\n",
       "Name: countryCode, dtype: int64"
      ]
     },
     "execution_count": 14,
     "metadata": {},
     "output_type": "execute_result"
    }
   ],
   "source": [
    "df_iNat2_22['countryCode'].value_counts()"
   ]
  },
  {
   "cell_type": "markdown",
   "metadata": {},
   "source": [
    "# eBird Analysis"
   ]
  },
  {
   "cell_type": "code",
   "execution_count": 15,
   "metadata": {},
   "outputs": [
    {
     "data": {
      "text/plain": [
       "United States    8694926\n",
       "Name: COUNTRY, dtype: int64"
      ]
     },
     "execution_count": 15,
     "metadata": {},
     "output_type": "execute_result"
    }
   ],
   "source": [
    "df_eBird2['COUNTRY'].value_counts()"
   ]
  },
  {
   "cell_type": "code",
   "execution_count": 16,
   "metadata": {},
   "outputs": [
    {
     "data": {
      "text/plain": [
       "United States    12673675\n",
       "Name: COUNTRY, dtype: int64"
      ]
     },
     "execution_count": 16,
     "metadata": {},
     "output_type": "execute_result"
    }
   ],
   "source": [
    "df_eBird2_22['COUNTRY'].value_counts()"
   ]
  },
  {
   "cell_type": "code",
   "execution_count": 17,
   "metadata": {},
   "outputs": [
    {
     "data": {
      "text/plain": [
       "California    8694926\n",
       "Name: STATE, dtype: int64"
      ]
     },
     "execution_count": 17,
     "metadata": {},
     "output_type": "execute_result"
    }
   ],
   "source": [
    "df_eBird2['STATE'].value_counts()"
   ]
  },
  {
   "cell_type": "code",
   "execution_count": 18,
   "metadata": {},
   "outputs": [
    {
     "data": {
      "text/plain": [
       "California    12673675\n",
       "Name: STATE, dtype: int64"
      ]
     },
     "execution_count": 18,
     "metadata": {},
     "output_type": "execute_result"
    }
   ],
   "source": [
    "df_eBird2_22['STATE'].value_counts()"
   ]
  },
  {
   "cell_type": "code",
   "execution_count": 19,
   "metadata": {},
   "outputs": [
    {
     "data": {
      "text/html": [
       "<div>\n",
       "<style scoped>\n",
       "    .dataframe tbody tr th:only-of-type {\n",
       "        vertical-align: middle;\n",
       "    }\n",
       "\n",
       "    .dataframe tbody tr th {\n",
       "        vertical-align: top;\n",
       "    }\n",
       "\n",
       "    .dataframe thead th {\n",
       "        text-align: right;\n",
       "    }\n",
       "</style>\n",
       "<table border=\"1\" class=\"dataframe\">\n",
       "  <thead>\n",
       "    <tr style=\"text-align: right;\">\n",
       "      <th></th>\n",
       "      <th>TAXON CONCEPT ID</th>\n",
       "      <th>OBSERVATION COUNT</th>\n",
       "      <th>COUNTRY</th>\n",
       "      <th>STATE</th>\n",
       "      <th>LATITUDE</th>\n",
       "      <th>LONGITUDE</th>\n",
       "      <th>OBSERVATION DATE</th>\n",
       "      <th>SCIENTIFIC NAME</th>\n",
       "      <th>COMMON NAME</th>\n",
       "    </tr>\n",
       "  </thead>\n",
       "  <tbody>\n",
       "    <tr>\n",
       "      <th>0</th>\n",
       "      <td>avibase-CA08045E</td>\n",
       "      <td>1</td>\n",
       "      <td>United States</td>\n",
       "      <td>California</td>\n",
       "      <td>37.892331</td>\n",
       "      <td>-122.311800</td>\n",
       "      <td>2019-01-13</td>\n",
       "      <td>Accipiter sp.</td>\n",
       "      <td>Accipiter sp.</td>\n",
       "    </tr>\n",
       "    <tr>\n",
       "      <th>1</th>\n",
       "      <td>avibase-CA08045E</td>\n",
       "      <td>X</td>\n",
       "      <td>United States</td>\n",
       "      <td>California</td>\n",
       "      <td>37.871270</td>\n",
       "      <td>-122.307890</td>\n",
       "      <td>2019-01-01</td>\n",
       "      <td>Accipiter sp.</td>\n",
       "      <td>Accipiter sp.</td>\n",
       "    </tr>\n",
       "    <tr>\n",
       "      <th>2</th>\n",
       "      <td>avibase-CA08045E</td>\n",
       "      <td>1</td>\n",
       "      <td>United States</td>\n",
       "      <td>California</td>\n",
       "      <td>37.834029</td>\n",
       "      <td>-122.238747</td>\n",
       "      <td>2019-01-25</td>\n",
       "      <td>Accipiter sp.</td>\n",
       "      <td>Accipiter sp.</td>\n",
       "    </tr>\n",
       "    <tr>\n",
       "      <th>3</th>\n",
       "      <td>avibase-CA08045E</td>\n",
       "      <td>1</td>\n",
       "      <td>United States</td>\n",
       "      <td>California</td>\n",
       "      <td>37.695328</td>\n",
       "      <td>-121.844741</td>\n",
       "      <td>2019-01-10</td>\n",
       "      <td>Accipiter sp.</td>\n",
       "      <td>Accipiter sp.</td>\n",
       "    </tr>\n",
       "    <tr>\n",
       "      <th>4</th>\n",
       "      <td>avibase-CA08045E</td>\n",
       "      <td>1</td>\n",
       "      <td>United States</td>\n",
       "      <td>California</td>\n",
       "      <td>37.834029</td>\n",
       "      <td>-122.238747</td>\n",
       "      <td>2019-01-25</td>\n",
       "      <td>Accipiter sp.</td>\n",
       "      <td>Accipiter sp.</td>\n",
       "    </tr>\n",
       "  </tbody>\n",
       "</table>\n",
       "</div>"
      ],
      "text/plain": [
       "   TAXON CONCEPT ID OBSERVATION COUNT        COUNTRY       STATE   LATITUDE  \\\n",
       "0  avibase-CA08045E                 1  United States  California  37.892331   \n",
       "1  avibase-CA08045E                 X  United States  California  37.871270   \n",
       "2  avibase-CA08045E                 1  United States  California  37.834029   \n",
       "3  avibase-CA08045E                 1  United States  California  37.695328   \n",
       "4  avibase-CA08045E                 1  United States  California  37.834029   \n",
       "\n",
       "    LONGITUDE OBSERVATION DATE SCIENTIFIC NAME    COMMON NAME  \n",
       "0 -122.311800       2019-01-13   Accipiter sp.  Accipiter sp.  \n",
       "1 -122.307890       2019-01-01   Accipiter sp.  Accipiter sp.  \n",
       "2 -122.238747       2019-01-25   Accipiter sp.  Accipiter sp.  \n",
       "3 -121.844741       2019-01-10   Accipiter sp.  Accipiter sp.  \n",
       "4 -122.238747       2019-01-25   Accipiter sp.  Accipiter sp.  "
      ]
     },
     "execution_count": 19,
     "metadata": {},
     "output_type": "execute_result"
    }
   ],
   "source": [
    "df_eBird2.head()"
   ]
  },
  {
   "cell_type": "code",
   "execution_count": 20,
   "metadata": {},
   "outputs": [],
   "source": [
    "df_eBird2['AVIBASEID'] = df_eBird2['TAXON CONCEPT ID'].apply(lambda x : x[-8:])\n",
    "df_eBird2_22['AVIBASEID'] = df_eBird2_22['TAXON CONCEPT ID'].apply(lambda x : x[-8:])"
   ]
  },
  {
   "cell_type": "markdown",
   "metadata": {},
   "source": [
    "# EDA on the whole dataset without any filters"
   ]
  },
  {
   "cell_type": "markdown",
   "metadata": {},
   "source": [
    "print(f\"\"\"\n",
    "    Some important statistics:\n",
    "    +-------+------+------------+\n",
    "    | eBird | 2019 | {df_eBird2.shape[0]:,} |\n",
    "    | eBird | 2022 | {df_eBird2_22.shape[0]:,} |\n",
    "    | iNat  | 2019 | {df_iNat2.shape[0]:,} |\n",
    "    | iNat  | 2022 | {df_iNat2_22.shape[0]:,} |\n",
    "\"\"\")"
   ]
  },
  {
   "cell_type": "markdown",
   "metadata": {},
   "source": [
    "print(f\"\"\"\n",
    "    Some important statistics:\n",
    "    +-------+------+-----------------+---------------+\n",
    "    | data  | year | category        | value         |\n",
    "    | eBird | 2019 | nunique species | {df_eBird2['TAXON CONCEPT ID'].nunique():,} |\n",
    "    | eBird | 2022 | nunique species | {df_eBird2_22['TAXON CONCEPT ID'].nunique():,} |\n",
    "    | iNat  | 2019 | nunique species | {df_iNat2['taxonID'].nunique():,} |\n",
    "    | iNat  | 2022 | nunique species | {df_iNat2_22['taxonID'].nunique():,} |\n",
    "\"\"\")"
   ]
  },
  {
   "cell_type": "code",
   "execution_count": 21,
   "metadata": {},
   "outputs": [],
   "source": [
    "df_eBird_median_by_species = df_eBird2[df_eBird2['OBSERVATION COUNT']!='X'].groupby('AVIBASEID')['OBSERVATION COUNT'].median().to_dict()\n",
    "df_eBird_median_by_species_22 = df_eBird2_22[df_eBird2_22['OBSERVATION COUNT']!='X'].groupby('AVIBASEID')['OBSERVATION COUNT'].median().to_dict()"
   ]
  },
  {
   "cell_type": "code",
   "execution_count": 22,
   "metadata": {},
   "outputs": [],
   "source": [
    "df_eBird2['OBSCOUNT'] = df_eBird2[['AVIBASEID','OBSERVATION COUNT']].apply(\n",
    "    lambda row: (df_eBird_median_by_species[row['AVIBASEID']] if row['AVIBASEID'] in df_eBird_median_by_species else 1) if row['OBSERVATION COUNT'] == 'X' else row['OBSERVATION COUNT'],\n",
    "    axis=1\n",
    ")\n",
    "df_eBird2_22['OBSCOUNT'] = df_eBird2_22[['AVIBASEID','OBSERVATION COUNT']].apply(\n",
    "    lambda row: (df_eBird_median_by_species[row['AVIBASEID']] if row['AVIBASEID'] in df_eBird_median_by_species else 1) if row['OBSERVATION COUNT'] == 'X' else row['OBSERVATION COUNT'],\n",
    "    axis=1\n",
    ")"
   ]
  },
  {
   "cell_type": "code",
   "execution_count": 23,
   "metadata": {},
   "outputs": [],
   "source": [
    "df_eBird2['OBSCOUNT'] = df_eBird2['OBSCOUNT'].astype(float)\n",
    "df_eBird2_22['OBSCOUNT'] = df_eBird2_22['OBSCOUNT'].astype(float)"
   ]
  },
  {
   "cell_type": "markdown",
   "metadata": {},
   "source": [
    "print(f\"\"\"\n",
    "    Some important statistics:\n",
    "    +-------+------+----------+---------------+----------------+\n",
    "    | data  | year | category |  value  \\t| increase (%) \\t|\n",
    "    | eBird | 2019 | num rows | {df_eBird2.shape[0]:,} \\t|     NaN \\t|\n",
    "    | eBird | 2022 | num rows | {df_eBird2_22.shape[0]:,} \\t| {100*(df_eBird2_22.shape[0]-df_eBird2.shape[0])/df_eBird2.shape[0]:.4f}\\t |\n",
    "    | eBird | 2019 | agg rows | {df_eBird2['OBSCOUNT'].sum():,} \\t|     NaN \\t|\n",
    "    | eBird | 2022 | agg rows | {df_eBird2_22['OBSCOUNT'].sum():,} \\t| {100*(df_eBird2_22['OBSCOUNT'].sum() - df_eBird2['OBSCOUNT'].sum())/df_eBird2['OBSCOUNT'].sum():.4f}\\t |\n",
    "    | iNat  | 2019 | num rows | {df_iNat2.shape[0]:,} \\t|     NaN \\t|\n",
    "    | iNat  | 2022 | num rows | {df_iNat2_22.shape[0]:,} \\t| {100*(df_iNat2_22.shape[0]-df_iNat2.shape[0])/df_iNat2.shape[0]:.4f}\\t |\n",
    "\"\"\")"
   ]
  },
  {
   "cell_type": "markdown",
   "metadata": {},
   "source": [
    "# Beginning the filtering"
   ]
  },
  {
   "cell_type": "code",
   "execution_count": 24,
   "metadata": {},
   "outputs": [],
   "source": [
    "df_eBird3 = df_eBird2[\n",
    "    (df_eBird2['LATITUDE']>=36.4701132878)\n",
    "    &\n",
    "    (df_eBird2['LATITUDE']<=42.009518)\n",
    "    &\n",
    "    (df_eBird2['LONGITUDE']>= -124.409591)\n",
    "    &\n",
    "    (df_eBird2['LONGITUDE']<= -114.131211)\n",
    "].copy()\n",
    "df_eBird3_22 = df_eBird2_22[\n",
    "    (df_eBird2_22['LATITUDE']>=36.4701132878)\n",
    "    &\n",
    "    (df_eBird2_22['LATITUDE']<=42.009518)\n",
    "    &\n",
    "    (df_eBird2_22['LONGITUDE']>= -124.409591)\n",
    "    &\n",
    "    (df_eBird2_22['LONGITUDE']<= -114.131211)\n",
    "].copy()"
   ]
  },
  {
   "cell_type": "code",
   "execution_count": 25,
   "metadata": {},
   "outputs": [],
   "source": [
    "df_eBird3['observation_datetime'] = pd.to_datetime(df_eBird3['OBSERVATION DATE'])\n",
    "df_eBird3_22['observation_datetime'] = pd.to_datetime(df_eBird3_22['OBSERVATION DATE'])"
   ]
  },
  {
   "cell_type": "code",
   "execution_count": 26,
   "metadata": {},
   "outputs": [
    {
     "name": "stderr",
     "output_type": "stream",
     "text": [
      "/var/folders/ms/2ygwp03d4b5526gc0h51spqh0000gn/T/ipykernel_16421/1873497601.py:1: FutureWarning: Series.dt.weekofyear and Series.dt.week have been deprecated. Please use Series.dt.isocalendar().week instead.\n",
      "  df_eBird3['WEEK'] = df_eBird3['observation_datetime'].dt.week\n",
      "/var/folders/ms/2ygwp03d4b5526gc0h51spqh0000gn/T/ipykernel_16421/1873497601.py:2: FutureWarning: Series.dt.weekofyear and Series.dt.week have been deprecated. Please use Series.dt.isocalendar().week instead.\n",
      "  df_eBird3_22['WEEK'] = df_eBird3_22['observation_datetime'].dt.week\n"
     ]
    }
   ],
   "source": [
    "df_eBird3['WEEK'] = df_eBird3['observation_datetime'].dt.week\n",
    "df_eBird3_22['WEEK'] = df_eBird3_22['observation_datetime'].dt.week"
   ]
  },
  {
   "cell_type": "code",
   "execution_count": 27,
   "metadata": {},
   "outputs": [],
   "source": [
    "df_eBird3['YEAR'] = df_eBird3['observation_datetime'].dt.year\n",
    "df_eBird3_22['YEAR'] = df_eBird3_22['observation_datetime'].dt.year"
   ]
  },
  {
   "cell_type": "code",
   "execution_count": 28,
   "metadata": {},
   "outputs": [
    {
     "data": {
      "text/plain": [
       "(US    3321452\n",
       " Name: countryCode, dtype: int64,\n",
       " US    6686625\n",
       " Name: countryCode, dtype: int64)"
      ]
     },
     "execution_count": 28,
     "metadata": {},
     "output_type": "execute_result"
    }
   ],
   "source": [
    "df_iNat2['countryCode'].value_counts(),\\\n",
    "df_iNat2_22['countryCode'].value_counts()"
   ]
  },
  {
   "cell_type": "code",
   "execution_count": 29,
   "metadata": {},
   "outputs": [],
   "source": [
    "df_iNat2['observation_dt'] = pd.to_datetime(df_iNat2['eventDate'])\n",
    "df_iNat2_22['observation_dt'] = pd.to_datetime(df_iNat2_22['eventDate'])"
   ]
  },
  {
   "cell_type": "code",
   "execution_count": 30,
   "metadata": {},
   "outputs": [],
   "source": [
    "df_iNat3 = df_iNat2[df_iNat2['stateProvince'] == 'California'].copy()\n",
    "df_iNat3_22 = df_iNat2_22[df_iNat2_22['stateProvince'] == 'California'].copy()"
   ]
  },
  {
   "cell_type": "code",
   "execution_count": 31,
   "metadata": {},
   "outputs": [],
   "source": [
    "df_iNat3['decimalLatitude'] = df_iNat3['decimalLatitude'].astype(float)\n",
    "df_iNat3['decimalLongitude'] = df_iNat3['decimalLongitude'].astype(float)\n",
    "df_iNat3_22['decimalLatitude'] = df_iNat3_22['decimalLatitude'].astype(float)\n",
    "df_iNat3_22['decimalLongitude'] = df_iNat3_22['decimalLongitude'].astype(float)"
   ]
  },
  {
   "cell_type": "code",
   "execution_count": 32,
   "metadata": {},
   "outputs": [],
   "source": [
    "df_iNat4 = df_iNat3[\n",
    "    (df_iNat3['decimalLatitude']>=36.4701132878)\n",
    "    &\n",
    "    (df_iNat3['decimalLatitude']<=42.009518)\n",
    "    &\n",
    "    (df_iNat3['decimalLongitude']>= -124.409591)\n",
    "    &\n",
    "    (df_iNat3['decimalLongitude']<= -114.131211)\n",
    "].copy()\n",
    "df_iNat4_22 = df_iNat3_22[\n",
    "    (df_iNat3_22['decimalLatitude']>=36.4701132878)\n",
    "    &\n",
    "    (df_iNat3_22['decimalLatitude']<=42.009518)\n",
    "    &\n",
    "    (df_iNat3_22['decimalLongitude']>= -124.409591)\n",
    "    &\n",
    "    (df_iNat3_22['decimalLongitude']<= -114.131211)\n",
    "].copy()"
   ]
  },
  {
   "cell_type": "code",
   "execution_count": 33,
   "metadata": {},
   "outputs": [
    {
     "name": "stderr",
     "output_type": "stream",
     "text": [
      "/var/folders/ms/2ygwp03d4b5526gc0h51spqh0000gn/T/ipykernel_16421/2923923569.py:2: FutureWarning: Series.dt.weekofyear and Series.dt.week have been deprecated. Please use Series.dt.isocalendar().week instead.\n",
      "  df_iNat4['WEEK'] = df_iNat4['observation_dt'].dt.week\n",
      "/var/folders/ms/2ygwp03d4b5526gc0h51spqh0000gn/T/ipykernel_16421/2923923569.py:4: FutureWarning: Series.dt.weekofyear and Series.dt.week have been deprecated. Please use Series.dt.isocalendar().week instead.\n",
      "  df_iNat4_22['WEEK'] = df_iNat4_22['observation_dt'].dt.week\n"
     ]
    }
   ],
   "source": [
    "df_iNat4['YEAR'] = df_iNat4['observation_dt'].dt.year\n",
    "df_iNat4['WEEK'] = df_iNat4['observation_dt'].dt.week\n",
    "df_iNat4_22['YEAR'] = df_iNat4_22['observation_dt'].dt.year\n",
    "df_iNat4_22['WEEK'] = df_iNat4_22['observation_dt'].dt.week"
   ]
  },
  {
   "cell_type": "markdown",
   "metadata": {},
   "source": [
    "print(f\"\"\"\n",
    "    Some important statistics after filtering\\n\n",
    "    for geographic area:\n",
    "    +-------+------+---------------------+----------------------+----------------+\n",
    "    | data  | year |      category       |  value  \\t\\t| increase (%) \\t|\n",
    "    +-------+------+---------------------+----------------------+----------------+\n",
    "    | eBird | 2019 |   num rows (all)    |   {df_eBird2.shape[0]:,} \\t\\t|     NaN \\t|\n",
    "    | eBird | 2022 |   num rows (all)    |   {df_eBird2_22.shape[0]:,} \\t| {100*(df_eBird2_22.shape[0]-df_eBird2.shape[0])/df_eBird2.shape[0]:.4f}\\t|\n",
    "    | eBird | 2019 |   agg rows (all)    |   {df_eBird2['OBSCOUNT'].sum():,} \\t|     NaN \\t|\n",
    "    | eBird | 2022 |   agg rows (all)    |   {df_eBird2_22['OBSCOUNT'].sum():,} \\t| {100*(df_eBird2_22['OBSCOUNT'].sum() - df_eBird2['OBSCOUNT'].sum())/df_eBird2['OBSCOUNT'].sum():.4f}\\t|\n",
    "    | iNat  | 2019 |   num rows (all)    |   {df_iNat2.shape[0]:,} \\t\\t|     NaN \\t|\n",
    "    | iNat  | 2022 |   num rows (all)    |   {df_iNat2_22.shape[0]:,} \\t\\t| {100*(df_iNat2_22.shape[0]-df_iNat2.shape[0])/df_iNat2.shape[0]:.4f}\\t|\n",
    "    | eBird | 2019 |   num rows (filt)   |   {df_eBird3.shape[0]:,} \\t\\t|     NaN \\t|\n",
    "    | eBird | 2022 |   num rows (filt)   |   {df_eBird3_22.shape[0]:,} \\t\\t| {100*(df_eBird3_22.shape[0]-df_eBird3.shape[0])/df_eBird3.shape[0]:.4f}\\t|\n",
    "    | eBird | 2019 |   agg rows (filt)   |   {df_eBird3['OBSCOUNT'].sum():,} \\t|     NaN \\t|\n",
    "    | eBird | 2022 |   agg rows (filt)   |   {df_eBird3_22['OBSCOUNT'].sum():,} \\t| {100*(df_eBird3_22['OBSCOUNT'].sum() - df_eBird3['OBSCOUNT'].sum())/df_eBird3['OBSCOUNT'].sum():.4f}\\t|\n",
    "    | iNat  | 2019 |   num rows (filt)   |   {df_iNat4.shape[0]:,} \\t \\t|     NaN \\t|\n",
    "    | iNat  | 2022 |   num rows (filt)   |   {df_iNat4_22.shape[0]:,} \\t\\t| {100*(df_iNat4_22.shape[0]-df_iNat4.shape[0])/df_iNat4.shape[0]:.4f}\\t|\n",
    "    | eBird | 2019 | nunq species (all)  |   {df_eBird2['TAXON CONCEPT ID'].nunique():,} \\t\\t|\n",
    "    | eBird | 2022 | nunq species (all)  |   {df_eBird2_22['TAXON CONCEPT ID'].nunique():,} \\t\\t|\n",
    "    | iNat  | 2019 | nunq species (all)  |   {df_iNat2['taxonID'].nunique():,} \\t\\t|\n",
    "    | iNat  | 2022 | nunq species (all)  |   {df_iNat2_22['taxonID'].nunique():,} \\t\\t|\n",
    "    | eBird | 2019 | nunq species (fil)  |   {df_eBird3['TAXON CONCEPT ID'].nunique():,} \\t\\t|\n",
    "    | eBird | 2022 | nunq species (fil)  |   {df_eBird3_22['TAXON CONCEPT ID'].nunique():,} \\t\\t|\n",
    "    | iNat  | 2019 | nunq species (fil)  |   {df_iNat4['taxonID'].nunique():,} \\t\\t|\n",
    "    | iNat  | 2022 | nunq species (fil)  |   {df_iNat4_22['taxonID'].nunique():,} \\t\\t|\n",
    "\"\"\")"
   ]
  },
  {
   "cell_type": "markdown",
   "metadata": {},
   "source": [
    "# Merging iNat and eBird"
   ]
  },
  {
   "cell_type": "code",
   "execution_count": 34,
   "metadata": {},
   "outputs": [
    {
     "name": "stderr",
     "output_type": "stream",
     "text": [
      "/var/folders/ms/2ygwp03d4b5526gc0h51spqh0000gn/T/ipykernel_16421/2743186917.py:1: DtypeWarning: Columns (1) have mixed types. Specify dtype option on import or set low_memory=False.\n",
      "  df_tax_key = pd.read_csv('../data/query_taxonIDs_various.csv')\n"
     ]
    }
   ],
   "source": [
    "df_tax_key = pd.read_csv('../data/query_taxonIDs_various.csv')"
   ]
  },
  {
   "cell_type": "code",
   "execution_count": 35,
   "metadata": {},
   "outputs": [
    {
     "name": "stdout",
     "output_type": "stream",
     "text": [
      "<class 'pandas.core.frame.DataFrame'>\n",
      "RangeIndex: 830987 entries, 0 to 830986\n",
      "Data columns (total 5 columns):\n",
      " #   Column     Non-Null Count   Dtype  \n",
      "---  ------     --------------   -----  \n",
      " 0   item       830987 non-null  object \n",
      " 1   iNat_Tid   830987 non-null  object \n",
      " 2   ITIS_TSN   314392 non-null  float64\n",
      " 3   GBF_ID     809035 non-null  float64\n",
      " 4   avibaseid  8795 non-null    object \n",
      "dtypes: float64(2), object(3)\n",
      "memory usage: 31.7+ MB\n"
     ]
    }
   ],
   "source": [
    "df_tax_key.info()"
   ]
  },
  {
   "cell_type": "markdown",
   "metadata": {},
   "source": [
    "# Adding avibase-id to iNat"
   ]
  },
  {
   "cell_type": "code",
   "execution_count": 36,
   "metadata": {},
   "outputs": [],
   "source": [
    "df_tax_key_fil = df_tax_key[~df_tax_key['avibaseid'].isna()]"
   ]
  },
  {
   "cell_type": "code",
   "execution_count": 37,
   "metadata": {},
   "outputs": [],
   "source": [
    "df_tax_key_fil = df_tax_key_fil[df_tax_key_fil['iNat_Tid']!='Frank'].copy()"
   ]
  },
  {
   "cell_type": "code",
   "execution_count": 38,
   "metadata": {},
   "outputs": [],
   "source": [
    "df_tax_key_fil['iNat_Tid_num']= df_tax_key_fil['iNat_Tid'].astype(float)"
   ]
  },
  {
   "cell_type": "code",
   "execution_count": 39,
   "metadata": {},
   "outputs": [],
   "source": [
    "merge_process1 = df_iNat4.merge(right=df_tax_key_fil, how='left', left_on='taxonID', right_on='iNat_Tid_num')\n",
    "merge_process1_22 = df_iNat4_22.merge(right=df_tax_key_fil, how='left', left_on='taxonID', right_on='iNat_Tid_num')"
   ]
  },
  {
   "cell_type": "code",
   "execution_count": 40,
   "metadata": {},
   "outputs": [],
   "source": [
    "merge_process2 = [x[0:8] for x in merge_process1['avibaseid'].dropna().values]\n",
    "merge_process2_22 = [x[0:8] for x in merge_process1_22['avibaseid'].dropna().values]"
   ]
  },
  {
   "cell_type": "code",
   "execution_count": 41,
   "metadata": {},
   "outputs": [],
   "source": [
    "merge_process3 = list(set(merge_process2))\n",
    "merge_process3_22 = list(set(merge_process2))"
   ]
  },
  {
   "cell_type": "code",
   "execution_count": 42,
   "metadata": {},
   "outputs": [
    {
     "data": {
      "text/plain": [
       "(392, 392)"
      ]
     },
     "execution_count": 42,
     "metadata": {},
     "output_type": "execute_result"
    }
   ],
   "source": [
    "len(merge_process3), len(merge_process3_22)"
   ]
  },
  {
   "cell_type": "code",
   "execution_count": 43,
   "metadata": {},
   "outputs": [],
   "source": [
    "final_list_birds = [x for x in df_eBird3['AVIBASEID'].unique() if x in merge_process3]\n",
    "final_list_birds_22 = [x for x in df_eBird3_22['AVIBASEID'].unique() if x in merge_process3_22]"
   ]
  },
  {
   "cell_type": "code",
   "execution_count": 44,
   "metadata": {},
   "outputs": [
    {
     "data": {
      "text/plain": [
       "(353, 341)"
      ]
     },
     "execution_count": 44,
     "metadata": {},
     "output_type": "execute_result"
    }
   ],
   "source": [
    "len(final_list_birds), len(final_list_birds_22)"
   ]
  },
  {
   "cell_type": "markdown",
   "metadata": {},
   "source": [
    "### Interestingly enough the number of birds that are common in both iNat and Avibase have decreased! "
   ]
  },
  {
   "cell_type": "code",
   "execution_count": 45,
   "metadata": {},
   "outputs": [],
   "source": [
    "final_list_birds2_l = list(set(final_list_birds))\n",
    "final_list_birds2_s = set(final_list_birds)\n",
    "final_list_birds2_l_22 = list(set(final_list_birds_22))\n",
    "final_list_birds2_s_22 = set(final_list_birds_22)"
   ]
  },
  {
   "cell_type": "code",
   "execution_count": 46,
   "metadata": {},
   "outputs": [
    {
     "data": {
      "text/plain": [
       "(353, 341)"
      ]
     },
     "execution_count": 46,
     "metadata": {},
     "output_type": "execute_result"
    }
   ],
   "source": [
    "len(final_list_birds2_l), len(final_list_birds2_l_22)"
   ]
  },
  {
   "cell_type": "markdown",
   "metadata": {},
   "source": [
    "# Filtering only the relevant birds"
   ]
  },
  {
   "cell_type": "code",
   "execution_count": 47,
   "metadata": {},
   "outputs": [],
   "source": [
    "df_eBird4 = df_eBird3[df_eBird3['AVIBASEID'].isin(final_list_birds2_s)]\n",
    "df_eBird4_22 = df_eBird3_22[df_eBird3_22['AVIBASEID'].isin(final_list_birds2_s_22)]"
   ]
  },
  {
   "cell_type": "code",
   "execution_count": 48,
   "metadata": {},
   "outputs": [
    {
     "data": {
      "text/plain": [
       "((364365, 18), (660098, 18))"
      ]
     },
     "execution_count": 48,
     "metadata": {},
     "output_type": "execute_result"
    }
   ],
   "source": [
    "merge_process1.shape, merge_process1_22.shape"
   ]
  },
  {
   "cell_type": "code",
   "execution_count": 49,
   "metadata": {},
   "outputs": [],
   "source": [
    "df_iNat5 = merge_process1[~(merge_process1['avibaseid'].isna())].copy()\n",
    "df_iNat5_22 = merge_process1_22[~(merge_process1_22['avibaseid'].isna())].copy()"
   ]
  },
  {
   "cell_type": "code",
   "execution_count": 50,
   "metadata": {},
   "outputs": [],
   "source": [
    "df_iNat5['AVIBASEID'] = df_iNat5['avibaseid'].apply(lambda x: x[0:8])\n",
    "df_iNat5_22['AVIBASEID'] = df_iNat5_22['avibaseid'].apply(lambda x: x[0:8])"
   ]
  },
  {
   "cell_type": "code",
   "execution_count": 51,
   "metadata": {},
   "outputs": [],
   "source": [
    "df_iNat6 = df_iNat5.drop_duplicates().copy()\n",
    "df_iNat6_22 = df_iNat5_22.drop_duplicates().copy()"
   ]
  },
  {
   "cell_type": "code",
   "execution_count": 52,
   "metadata": {},
   "outputs": [],
   "source": [
    "df_iNat7 = df_iNat6[df_iNat6['AVIBASEID'].isin(final_list_birds2_s)]\n",
    "df_iNat7_22 = df_iNat6_22[df_iNat6_22['AVIBASEID'].isin(final_list_birds2_s_22)]"
   ]
  },
  {
   "cell_type": "markdown",
   "metadata": {},
   "source": [
    "# Adding Bird Name"
   ]
  },
  {
   "cell_type": "code",
   "execution_count": 53,
   "metadata": {},
   "outputs": [],
   "source": [
    "name_birds = df_eBird[['TAXON CONCEPT ID', 'COMMON NAME']]\n",
    "name_birds_22 = df_eBird_22[['TAXON CONCEPT ID', 'COMMON NAME']]"
   ]
  },
  {
   "cell_type": "code",
   "execution_count": 54,
   "metadata": {},
   "outputs": [],
   "source": [
    "name_birds2 = name_birds.drop_duplicates().copy()\n",
    "name_birds2_22 = name_birds_22.drop_duplicates().copy()"
   ]
  },
  {
   "cell_type": "code",
   "execution_count": 55,
   "metadata": {},
   "outputs": [
    {
     "data": {
      "text/plain": [
       "((1088, 2), (1108, 2))"
      ]
     },
     "execution_count": 55,
     "metadata": {},
     "output_type": "execute_result"
    }
   ],
   "source": [
    "name_birds2.shape, name_birds2_22.shape"
   ]
  },
  {
   "cell_type": "code",
   "execution_count": 56,
   "metadata": {},
   "outputs": [],
   "source": [
    "name_birds2['AVIBASEID'] = name_birds2['TAXON CONCEPT ID'].apply(lambda x: x[-8:])\n",
    "name_birds2_22['AVIBASEID'] = name_birds2_22['TAXON CONCEPT ID'].apply(lambda x: x[-8:])"
   ]
  },
  {
   "cell_type": "code",
   "execution_count": 57,
   "metadata": {},
   "outputs": [],
   "source": [
    "df_eBird5 = df_eBird4.merge(name_birds2, how='left', on='AVIBASEID')\n",
    "df_eBird5_22 = df_eBird4_22.merge(name_birds2_22, how='left', on='AVIBASEID')"
   ]
  },
  {
   "cell_type": "code",
   "execution_count": 58,
   "metadata": {},
   "outputs": [],
   "source": [
    "df_iNat8 = df_iNat7.merge(name_birds2, how='left', on='AVIBASEID')\n",
    "df_iNat8_22 = df_iNat7_22.merge(name_birds2_22, how='left', on='AVIBASEID')"
   ]
  },
  {
   "cell_type": "code",
   "execution_count": 59,
   "metadata": {},
   "outputs": [],
   "source": [
    "eBird_avibaseid_counts = df_eBird5.groupby(['AVIBASEID']).count()['STATE'].to_dict()\n",
    "eBird_avibaseid_counts_22 = df_eBird5_22.groupby(['AVIBASEID']).count()['STATE'].to_dict()"
   ]
  },
  {
   "cell_type": "code",
   "execution_count": 60,
   "metadata": {},
   "outputs": [],
   "source": [
    "iNat_avibaseid_counts = df_iNat8.groupby(\"AVIBASEID\").count()['stateProvince'].to_dict()\n",
    "iNat_avibaseid_counts_22 = df_iNat8_22.groupby(\"AVIBASEID\").count()['stateProvince'].to_dict()"
   ]
  },
  {
   "cell_type": "code",
   "execution_count": 61,
   "metadata": {},
   "outputs": [],
   "source": [
    "df_eBird5['COMMON NAME'] = df_eBird5['COMMON NAME_x']\n",
    "df_eBird5_22['COMMON NAME'] = df_eBird5_22['COMMON NAME_x']"
   ]
  },
  {
   "cell_type": "code",
   "execution_count": 62,
   "metadata": {},
   "outputs": [],
   "source": [
    "eBird_weekly_counts = df_eBird5.groupby(['AVIBASEID', 'COMMON NAME', 'WEEK']).count().reset_index()\n",
    "eBird_weekly_counts_22 = df_eBird5_22.groupby(['AVIBASEID', 'COMMON NAME', 'WEEK']).count().reset_index()"
   ]
  },
  {
   "cell_type": "code",
   "execution_count": 63,
   "metadata": {},
   "outputs": [],
   "source": [
    "eBird_weekly_counts2 = eBird_weekly_counts[['AVIBASEID', 'COMMON NAME', 'WEEK', 'COUNTRY']].copy()\n",
    "eBird_weekly_counts2_22 = eBird_weekly_counts_22[['AVIBASEID', 'COMMON NAME', 'WEEK', 'COUNTRY']].copy()"
   ]
  },
  {
   "cell_type": "code",
   "execution_count": 64,
   "metadata": {},
   "outputs": [
    {
     "data": {
      "text/html": [
       "<div>\n",
       "<style scoped>\n",
       "    .dataframe tbody tr th:only-of-type {\n",
       "        vertical-align: middle;\n",
       "    }\n",
       "\n",
       "    .dataframe tbody tr th {\n",
       "        vertical-align: top;\n",
       "    }\n",
       "\n",
       "    .dataframe thead th {\n",
       "        text-align: right;\n",
       "    }\n",
       "</style>\n",
       "<table border=\"1\" class=\"dataframe\">\n",
       "  <thead>\n",
       "    <tr style=\"text-align: right;\">\n",
       "      <th></th>\n",
       "      <th>AVIBASEID</th>\n",
       "      <th>COMMON NAME</th>\n",
       "      <th>WEEK</th>\n",
       "      <th>COUNTRY</th>\n",
       "    </tr>\n",
       "  </thead>\n",
       "  <tbody>\n",
       "    <tr>\n",
       "      <th>0</th>\n",
       "      <td>000482C9</td>\n",
       "      <td>Orchard Oriole</td>\n",
       "      <td>22</td>\n",
       "      <td>7</td>\n",
       "    </tr>\n",
       "    <tr>\n",
       "      <th>1</th>\n",
       "      <td>000482C9</td>\n",
       "      <td>Orchard Oriole</td>\n",
       "      <td>35</td>\n",
       "      <td>5</td>\n",
       "    </tr>\n",
       "    <tr>\n",
       "      <th>2</th>\n",
       "      <td>000482C9</td>\n",
       "      <td>Orchard Oriole</td>\n",
       "      <td>37</td>\n",
       "      <td>16</td>\n",
       "    </tr>\n",
       "    <tr>\n",
       "      <th>3</th>\n",
       "      <td>000482C9</td>\n",
       "      <td>Orchard Oriole</td>\n",
       "      <td>38</td>\n",
       "      <td>28</td>\n",
       "    </tr>\n",
       "    <tr>\n",
       "      <th>4</th>\n",
       "      <td>000482C9</td>\n",
       "      <td>Orchard Oriole</td>\n",
       "      <td>39</td>\n",
       "      <td>44</td>\n",
       "    </tr>\n",
       "    <tr>\n",
       "      <th>...</th>\n",
       "      <td>...</td>\n",
       "      <td>...</td>\n",
       "      <td>...</td>\n",
       "      <td>...</td>\n",
       "    </tr>\n",
       "    <tr>\n",
       "      <th>13827</th>\n",
       "      <td>FFF61080</td>\n",
       "      <td>Orange-crowned Warbler</td>\n",
       "      <td>48</td>\n",
       "      <td>173</td>\n",
       "    </tr>\n",
       "    <tr>\n",
       "      <th>13828</th>\n",
       "      <td>FFF61080</td>\n",
       "      <td>Orange-crowned Warbler</td>\n",
       "      <td>49</td>\n",
       "      <td>154</td>\n",
       "    </tr>\n",
       "    <tr>\n",
       "      <th>13829</th>\n",
       "      <td>FFF61080</td>\n",
       "      <td>Orange-crowned Warbler</td>\n",
       "      <td>50</td>\n",
       "      <td>332</td>\n",
       "    </tr>\n",
       "    <tr>\n",
       "      <th>13830</th>\n",
       "      <td>FFF61080</td>\n",
       "      <td>Orange-crowned Warbler</td>\n",
       "      <td>51</td>\n",
       "      <td>167</td>\n",
       "    </tr>\n",
       "    <tr>\n",
       "      <th>13831</th>\n",
       "      <td>FFF61080</td>\n",
       "      <td>Orange-crowned Warbler</td>\n",
       "      <td>52</td>\n",
       "      <td>446</td>\n",
       "    </tr>\n",
       "  </tbody>\n",
       "</table>\n",
       "<p>13832 rows × 4 columns</p>\n",
       "</div>"
      ],
      "text/plain": [
       "      AVIBASEID             COMMON NAME  WEEK  COUNTRY\n",
       "0      000482C9          Orchard Oriole    22        7\n",
       "1      000482C9          Orchard Oriole    35        5\n",
       "2      000482C9          Orchard Oriole    37       16\n",
       "3      000482C9          Orchard Oriole    38       28\n",
       "4      000482C9          Orchard Oriole    39       44\n",
       "...         ...                     ...   ...      ...\n",
       "13827  FFF61080  Orange-crowned Warbler    48      173\n",
       "13828  FFF61080  Orange-crowned Warbler    49      154\n",
       "13829  FFF61080  Orange-crowned Warbler    50      332\n",
       "13830  FFF61080  Orange-crowned Warbler    51      167\n",
       "13831  FFF61080  Orange-crowned Warbler    52      446\n",
       "\n",
       "[13832 rows x 4 columns]"
      ]
     },
     "execution_count": 64,
     "metadata": {},
     "output_type": "execute_result"
    }
   ],
   "source": [
    "eBird_weekly_counts2_22"
   ]
  },
  {
   "cell_type": "code",
   "execution_count": 65,
   "metadata": {},
   "outputs": [],
   "source": [
    "eBird_weekly_counts2.columns = [\n",
    "    'AVIBASEID', 'COMMON NAME', 'WEEK', 'COUNTS'\n",
    "]\n",
    "eBird_weekly_counts2_22.columns = [\n",
    "    'AVIBASEID', 'COMMON NAME', 'WEEK', 'COUNTS'\n",
    "]"
   ]
  },
  {
   "cell_type": "code",
   "execution_count": 66,
   "metadata": {},
   "outputs": [
    {
     "data": {
      "text/html": [
       "<div>\n",
       "<style scoped>\n",
       "    .dataframe tbody tr th:only-of-type {\n",
       "        vertical-align: middle;\n",
       "    }\n",
       "\n",
       "    .dataframe tbody tr th {\n",
       "        vertical-align: top;\n",
       "    }\n",
       "\n",
       "    .dataframe thead th {\n",
       "        text-align: right;\n",
       "    }\n",
       "</style>\n",
       "<table border=\"1\" class=\"dataframe\">\n",
       "  <thead>\n",
       "    <tr style=\"text-align: right;\">\n",
       "      <th></th>\n",
       "      <th>AVIBASEID</th>\n",
       "      <th>COMMON NAME</th>\n",
       "      <th>WEEK</th>\n",
       "      <th>COUNTS</th>\n",
       "    </tr>\n",
       "  </thead>\n",
       "  <tbody>\n",
       "    <tr>\n",
       "      <th>0</th>\n",
       "      <td>000482C9</td>\n",
       "      <td>Orchard Oriole</td>\n",
       "      <td>1</td>\n",
       "      <td>50</td>\n",
       "    </tr>\n",
       "    <tr>\n",
       "      <th>1</th>\n",
       "      <td>000482C9</td>\n",
       "      <td>Orchard Oriole</td>\n",
       "      <td>2</td>\n",
       "      <td>17</td>\n",
       "    </tr>\n",
       "    <tr>\n",
       "      <th>2</th>\n",
       "      <td>000482C9</td>\n",
       "      <td>Orchard Oriole</td>\n",
       "      <td>3</td>\n",
       "      <td>8</td>\n",
       "    </tr>\n",
       "    <tr>\n",
       "      <th>3</th>\n",
       "      <td>000482C9</td>\n",
       "      <td>Orchard Oriole</td>\n",
       "      <td>4</td>\n",
       "      <td>6</td>\n",
       "    </tr>\n",
       "    <tr>\n",
       "      <th>4</th>\n",
       "      <td>000482C9</td>\n",
       "      <td>Orchard Oriole</td>\n",
       "      <td>5</td>\n",
       "      <td>11</td>\n",
       "    </tr>\n",
       "    <tr>\n",
       "      <th>...</th>\n",
       "      <td>...</td>\n",
       "      <td>...</td>\n",
       "      <td>...</td>\n",
       "      <td>...</td>\n",
       "    </tr>\n",
       "    <tr>\n",
       "      <th>13675</th>\n",
       "      <td>FFF61080</td>\n",
       "      <td>Orange-crowned Warbler</td>\n",
       "      <td>48</td>\n",
       "      <td>135</td>\n",
       "    </tr>\n",
       "    <tr>\n",
       "      <th>13676</th>\n",
       "      <td>FFF61080</td>\n",
       "      <td>Orange-crowned Warbler</td>\n",
       "      <td>49</td>\n",
       "      <td>141</td>\n",
       "    </tr>\n",
       "    <tr>\n",
       "      <th>13677</th>\n",
       "      <td>FFF61080</td>\n",
       "      <td>Orange-crowned Warbler</td>\n",
       "      <td>50</td>\n",
       "      <td>227</td>\n",
       "    </tr>\n",
       "    <tr>\n",
       "      <th>13678</th>\n",
       "      <td>FFF61080</td>\n",
       "      <td>Orange-crowned Warbler</td>\n",
       "      <td>51</td>\n",
       "      <td>183</td>\n",
       "    </tr>\n",
       "    <tr>\n",
       "      <th>13679</th>\n",
       "      <td>FFF61080</td>\n",
       "      <td>Orange-crowned Warbler</td>\n",
       "      <td>52</td>\n",
       "      <td>228</td>\n",
       "    </tr>\n",
       "  </tbody>\n",
       "</table>\n",
       "<p>13680 rows × 4 columns</p>\n",
       "</div>"
      ],
      "text/plain": [
       "      AVIBASEID             COMMON NAME  WEEK  COUNTS\n",
       "0      000482C9          Orchard Oriole     1      50\n",
       "1      000482C9          Orchard Oriole     2      17\n",
       "2      000482C9          Orchard Oriole     3       8\n",
       "3      000482C9          Orchard Oriole     4       6\n",
       "4      000482C9          Orchard Oriole     5      11\n",
       "...         ...                     ...   ...     ...\n",
       "13675  FFF61080  Orange-crowned Warbler    48     135\n",
       "13676  FFF61080  Orange-crowned Warbler    49     141\n",
       "13677  FFF61080  Orange-crowned Warbler    50     227\n",
       "13678  FFF61080  Orange-crowned Warbler    51     183\n",
       "13679  FFF61080  Orange-crowned Warbler    52     228\n",
       "\n",
       "[13680 rows x 4 columns]"
      ]
     },
     "execution_count": 66,
     "metadata": {},
     "output_type": "execute_result"
    }
   ],
   "source": [
    "eBird_weekly_counts2"
   ]
  },
  {
   "cell_type": "code",
   "execution_count": 67,
   "metadata": {},
   "outputs": [],
   "source": [
    "eBird_weekly_counts2['REL_COUNTS'] = eBird_weekly_counts2.apply(\n",
    "    lambda row: row['COUNTS']/ eBird_avibaseid_counts[row['AVIBASEID']],\n",
    "    axis=1\n",
    ").copy()\n",
    "eBird_weekly_counts2_22['REL_COUNTS'] = eBird_weekly_counts2_22.apply(\n",
    "    lambda row: row['COUNTS']/ eBird_avibaseid_counts_22[row['AVIBASEID']],\n",
    "    axis=1\n",
    ").copy()"
   ]
  },
  {
   "cell_type": "code",
   "execution_count": 68,
   "metadata": {},
   "outputs": [
    {
     "data": {
      "text/html": [
       "<div>\n",
       "<style scoped>\n",
       "    .dataframe tbody tr th:only-of-type {\n",
       "        vertical-align: middle;\n",
       "    }\n",
       "\n",
       "    .dataframe tbody tr th {\n",
       "        vertical-align: top;\n",
       "    }\n",
       "\n",
       "    .dataframe thead th {\n",
       "        text-align: right;\n",
       "    }\n",
       "</style>\n",
       "<table border=\"1\" class=\"dataframe\">\n",
       "  <thead>\n",
       "    <tr style=\"text-align: right;\">\n",
       "      <th></th>\n",
       "      <th>AVIBASEID</th>\n",
       "      <th>COMMON NAME</th>\n",
       "      <th>WEEK</th>\n",
       "      <th>COUNTS</th>\n",
       "      <th>REL_COUNTS</th>\n",
       "    </tr>\n",
       "  </thead>\n",
       "  <tbody>\n",
       "    <tr>\n",
       "      <th>0</th>\n",
       "      <td>000482C9</td>\n",
       "      <td>Orchard Oriole</td>\n",
       "      <td>1</td>\n",
       "      <td>50</td>\n",
       "      <td>0.119048</td>\n",
       "    </tr>\n",
       "    <tr>\n",
       "      <th>1</th>\n",
       "      <td>000482C9</td>\n",
       "      <td>Orchard Oriole</td>\n",
       "      <td>2</td>\n",
       "      <td>17</td>\n",
       "      <td>0.040476</td>\n",
       "    </tr>\n",
       "    <tr>\n",
       "      <th>2</th>\n",
       "      <td>000482C9</td>\n",
       "      <td>Orchard Oriole</td>\n",
       "      <td>3</td>\n",
       "      <td>8</td>\n",
       "      <td>0.019048</td>\n",
       "    </tr>\n",
       "    <tr>\n",
       "      <th>3</th>\n",
       "      <td>000482C9</td>\n",
       "      <td>Orchard Oriole</td>\n",
       "      <td>4</td>\n",
       "      <td>6</td>\n",
       "      <td>0.014286</td>\n",
       "    </tr>\n",
       "    <tr>\n",
       "      <th>4</th>\n",
       "      <td>000482C9</td>\n",
       "      <td>Orchard Oriole</td>\n",
       "      <td>5</td>\n",
       "      <td>11</td>\n",
       "      <td>0.026190</td>\n",
       "    </tr>\n",
       "    <tr>\n",
       "      <th>...</th>\n",
       "      <td>...</td>\n",
       "      <td>...</td>\n",
       "      <td>...</td>\n",
       "      <td>...</td>\n",
       "      <td>...</td>\n",
       "    </tr>\n",
       "    <tr>\n",
       "      <th>13675</th>\n",
       "      <td>FFF61080</td>\n",
       "      <td>Orange-crowned Warbler</td>\n",
       "      <td>48</td>\n",
       "      <td>135</td>\n",
       "      <td>0.006774</td>\n",
       "    </tr>\n",
       "    <tr>\n",
       "      <th>13676</th>\n",
       "      <td>FFF61080</td>\n",
       "      <td>Orange-crowned Warbler</td>\n",
       "      <td>49</td>\n",
       "      <td>141</td>\n",
       "      <td>0.007075</td>\n",
       "    </tr>\n",
       "    <tr>\n",
       "      <th>13677</th>\n",
       "      <td>FFF61080</td>\n",
       "      <td>Orange-crowned Warbler</td>\n",
       "      <td>50</td>\n",
       "      <td>227</td>\n",
       "      <td>0.011390</td>\n",
       "    </tr>\n",
       "    <tr>\n",
       "      <th>13678</th>\n",
       "      <td>FFF61080</td>\n",
       "      <td>Orange-crowned Warbler</td>\n",
       "      <td>51</td>\n",
       "      <td>183</td>\n",
       "      <td>0.009183</td>\n",
       "    </tr>\n",
       "    <tr>\n",
       "      <th>13679</th>\n",
       "      <td>FFF61080</td>\n",
       "      <td>Orange-crowned Warbler</td>\n",
       "      <td>52</td>\n",
       "      <td>228</td>\n",
       "      <td>0.011441</td>\n",
       "    </tr>\n",
       "  </tbody>\n",
       "</table>\n",
       "<p>13680 rows × 5 columns</p>\n",
       "</div>"
      ],
      "text/plain": [
       "      AVIBASEID             COMMON NAME  WEEK  COUNTS  REL_COUNTS\n",
       "0      000482C9          Orchard Oriole     1      50    0.119048\n",
       "1      000482C9          Orchard Oriole     2      17    0.040476\n",
       "2      000482C9          Orchard Oriole     3       8    0.019048\n",
       "3      000482C9          Orchard Oriole     4       6    0.014286\n",
       "4      000482C9          Orchard Oriole     5      11    0.026190\n",
       "...         ...                     ...   ...     ...         ...\n",
       "13675  FFF61080  Orange-crowned Warbler    48     135    0.006774\n",
       "13676  FFF61080  Orange-crowned Warbler    49     141    0.007075\n",
       "13677  FFF61080  Orange-crowned Warbler    50     227    0.011390\n",
       "13678  FFF61080  Orange-crowned Warbler    51     183    0.009183\n",
       "13679  FFF61080  Orange-crowned Warbler    52     228    0.011441\n",
       "\n",
       "[13680 rows x 5 columns]"
      ]
     },
     "execution_count": 68,
     "metadata": {},
     "output_type": "execute_result"
    }
   ],
   "source": [
    "eBird_weekly_counts2"
   ]
  },
  {
   "cell_type": "code",
   "execution_count": 69,
   "metadata": {},
   "outputs": [
    {
     "data": {
      "text/plain": [
       "353.0"
      ]
     },
     "execution_count": 69,
     "metadata": {},
     "output_type": "execute_result"
    }
   ],
   "source": [
    "eBird_weekly_counts2['REL_COUNTS'].sum()"
   ]
  },
  {
   "cell_type": "code",
   "execution_count": 70,
   "metadata": {},
   "outputs": [
    {
     "data": {
      "text/plain": [
       "341.0"
      ]
     },
     "execution_count": 70,
     "metadata": {},
     "output_type": "execute_result"
    }
   ],
   "source": [
    "eBird_weekly_counts2_22['REL_COUNTS'].sum()"
   ]
  },
  {
   "cell_type": "code",
   "execution_count": null,
   "metadata": {},
   "outputs": [],
   "source": []
  },
  {
   "cell_type": "code",
   "execution_count": 71,
   "metadata": {},
   "outputs": [],
   "source": [
    "iNat_weekly_counts = df_iNat8.groupby(['AVIBASEID', 'COMMON NAME', 'WEEK']).count().reset_index()\n",
    "iNat_weekly_counts_22 = df_iNat8_22.groupby(['AVIBASEID', 'COMMON NAME', 'WEEK']).count().reset_index()"
   ]
  },
  {
   "cell_type": "code",
   "execution_count": 72,
   "metadata": {},
   "outputs": [],
   "source": [
    "iNat_weekly_counts2 = iNat_weekly_counts[['AVIBASEID', 'COMMON NAME', 'WEEK', 'countryCode']].copy()\n",
    "iNat_weekly_counts2_22 = iNat_weekly_counts_22[['AVIBASEID', 'COMMON NAME', 'WEEK', 'countryCode']].copy()"
   ]
  },
  {
   "cell_type": "code",
   "execution_count": 73,
   "metadata": {},
   "outputs": [],
   "source": [
    "iNat_weekly_counts2.columns = [\n",
    "    'AVIBASEID', 'COMMON NAME', 'WEEK', 'COUNTS'\n",
    "]\n",
    "iNat_weekly_counts2_22.columns = [\n",
    "    'AVIBASEID', 'COMMON NAME', 'WEEK', 'COUNTS'\n",
    "]"
   ]
  },
  {
   "cell_type": "code",
   "execution_count": 74,
   "metadata": {},
   "outputs": [
    {
     "data": {
      "text/html": [
       "<div>\n",
       "<style scoped>\n",
       "    .dataframe tbody tr th:only-of-type {\n",
       "        vertical-align: middle;\n",
       "    }\n",
       "\n",
       "    .dataframe tbody tr th {\n",
       "        vertical-align: top;\n",
       "    }\n",
       "\n",
       "    .dataframe thead th {\n",
       "        text-align: right;\n",
       "    }\n",
       "</style>\n",
       "<table border=\"1\" class=\"dataframe\">\n",
       "  <thead>\n",
       "    <tr style=\"text-align: right;\">\n",
       "      <th></th>\n",
       "      <th>AVIBASEID</th>\n",
       "      <th>COMMON NAME</th>\n",
       "      <th>WEEK</th>\n",
       "      <th>COUNTS</th>\n",
       "    </tr>\n",
       "  </thead>\n",
       "  <tbody>\n",
       "    <tr>\n",
       "      <th>0</th>\n",
       "      <td>000482C9</td>\n",
       "      <td>Orchard Oriole</td>\n",
       "      <td>1</td>\n",
       "      <td>1</td>\n",
       "    </tr>\n",
       "    <tr>\n",
       "      <th>1</th>\n",
       "      <td>000482C9</td>\n",
       "      <td>Orchard Oriole</td>\n",
       "      <td>2</td>\n",
       "      <td>2</td>\n",
       "    </tr>\n",
       "    <tr>\n",
       "      <th>2</th>\n",
       "      <td>000482C9</td>\n",
       "      <td>Orchard Oriole</td>\n",
       "      <td>9</td>\n",
       "      <td>1</td>\n",
       "    </tr>\n",
       "    <tr>\n",
       "      <th>3</th>\n",
       "      <td>000482C9</td>\n",
       "      <td>Orchard Oriole</td>\n",
       "      <td>38</td>\n",
       "      <td>1</td>\n",
       "    </tr>\n",
       "    <tr>\n",
       "      <th>4</th>\n",
       "      <td>000482C9</td>\n",
       "      <td>Orchard Oriole</td>\n",
       "      <td>40</td>\n",
       "      <td>2</td>\n",
       "    </tr>\n",
       "    <tr>\n",
       "      <th>...</th>\n",
       "      <td>...</td>\n",
       "      <td>...</td>\n",
       "      <td>...</td>\n",
       "      <td>...</td>\n",
       "    </tr>\n",
       "    <tr>\n",
       "      <th>8848</th>\n",
       "      <td>FFF61080</td>\n",
       "      <td>Orange-crowned Warbler</td>\n",
       "      <td>48</td>\n",
       "      <td>1</td>\n",
       "    </tr>\n",
       "    <tr>\n",
       "      <th>8849</th>\n",
       "      <td>FFF61080</td>\n",
       "      <td>Orange-crowned Warbler</td>\n",
       "      <td>49</td>\n",
       "      <td>2</td>\n",
       "    </tr>\n",
       "    <tr>\n",
       "      <th>8850</th>\n",
       "      <td>FFF61080</td>\n",
       "      <td>Orange-crowned Warbler</td>\n",
       "      <td>50</td>\n",
       "      <td>4</td>\n",
       "    </tr>\n",
       "    <tr>\n",
       "      <th>8851</th>\n",
       "      <td>FFF61080</td>\n",
       "      <td>Orange-crowned Warbler</td>\n",
       "      <td>51</td>\n",
       "      <td>1</td>\n",
       "    </tr>\n",
       "    <tr>\n",
       "      <th>8852</th>\n",
       "      <td>FFF61080</td>\n",
       "      <td>Orange-crowned Warbler</td>\n",
       "      <td>52</td>\n",
       "      <td>4</td>\n",
       "    </tr>\n",
       "  </tbody>\n",
       "</table>\n",
       "<p>8853 rows × 4 columns</p>\n",
       "</div>"
      ],
      "text/plain": [
       "     AVIBASEID             COMMON NAME  WEEK  COUNTS\n",
       "0     000482C9          Orchard Oriole     1       1\n",
       "1     000482C9          Orchard Oriole     2       2\n",
       "2     000482C9          Orchard Oriole     9       1\n",
       "3     000482C9          Orchard Oriole    38       1\n",
       "4     000482C9          Orchard Oriole    40       2\n",
       "...        ...                     ...   ...     ...\n",
       "8848  FFF61080  Orange-crowned Warbler    48       1\n",
       "8849  FFF61080  Orange-crowned Warbler    49       2\n",
       "8850  FFF61080  Orange-crowned Warbler    50       4\n",
       "8851  FFF61080  Orange-crowned Warbler    51       1\n",
       "8852  FFF61080  Orange-crowned Warbler    52       4\n",
       "\n",
       "[8853 rows x 4 columns]"
      ]
     },
     "execution_count": 74,
     "metadata": {},
     "output_type": "execute_result"
    }
   ],
   "source": [
    "iNat_weekly_counts2"
   ]
  },
  {
   "cell_type": "code",
   "execution_count": 75,
   "metadata": {},
   "outputs": [],
   "source": [
    "iNat_weekly_counts2['REL_COUNTS'] = iNat_weekly_counts2.apply(\n",
    "    lambda row: row['COUNTS']/ iNat_avibaseid_counts[row['AVIBASEID']],\n",
    "    axis=1\n",
    ").copy()\n",
    "iNat_weekly_counts2_22['REL_COUNTS'] = iNat_weekly_counts2_22.apply(\n",
    "    lambda row: row['COUNTS']/ iNat_avibaseid_counts_22[row['AVIBASEID']],\n",
    "    axis=1\n",
    ").copy()"
   ]
  },
  {
   "cell_type": "code",
   "execution_count": 76,
   "metadata": {},
   "outputs": [
    {
     "data": {
      "text/plain": [
       "352.99999999999994"
      ]
     },
     "execution_count": 76,
     "metadata": {},
     "output_type": "execute_result"
    }
   ],
   "source": [
    "iNat_weekly_counts2['REL_COUNTS'].sum()"
   ]
  },
  {
   "cell_type": "code",
   "execution_count": 77,
   "metadata": {},
   "outputs": [
    {
     "name": "stderr",
     "output_type": "stream",
     "text": [
      "/var/folders/ms/2ygwp03d4b5526gc0h51spqh0000gn/T/ipykernel_16421/351623232.py:1: FutureWarning: The default value of numeric_only in DataFrameGroupBy.sum is deprecated. In a future version, numeric_only will default to False. Either specify numeric_only or select only columns which should be valid for the function.\n",
      "  iNat_weekly_counts2.groupby(['AVIBASEID']).sum()['COUNTS'].values\n"
     ]
    },
    {
     "data": {
      "text/plain": [
       "array([   8,  606,   98,  201,  121,   12,    9,   45,  115,  179,    4,\n",
       "         10,  235,  200,  197,    5,    1,   44,  176,  267,   83,    1,\n",
       "          2,  193,  311,   41,    3,    1,    6,  252,   78,   10,   28,\n",
       "         17,   45,   66,   32,    3, 1260,  121,   44,   30,   20,   40,\n",
       "         12,    5,  149,  266,    5,   33,    1,  284,   40,    2,   11,\n",
       "        205,    5,    3,    8,  146,  608,  677,  269,  347,  396,  438,\n",
       "          8,   45,  140,    6,  182,  188,  383,   23,    4,    4,   19,\n",
       "         40,    9,   23,  157,   81,   27,   13,    1,  211,  496,  236,\n",
       "        251,  127,    9, 1160,   76,    9,   32,  195,    3,  961,   41,\n",
       "         75,  132,   88,  326,    1,    1,   46,    6, 1931,   76,  248,\n",
       "          6,    5, 1537,   16,  358,   16,   38,   49,    6,    4,    8,\n",
       "          2,    2,   88,  140,  428,  185,    9, 2342,  170,   41,    3,\n",
       "         26,  961,  281, 1279,   15,   50,  364,   21,   35,  219,    6,\n",
       "        145,   64,  418,  145,  320,    1,   22,    1,   27,    3,  376,\n",
       "        101,  375,    4,   64,  771,   14,   88,  105,    1,    1,   12,\n",
       "        473,    3,   18,  433,  212,   86,   88,   63,  150,  196,    3,\n",
       "         27,    2,    1,    3,  225,  870,  162,  491,  472,   64,  202,\n",
       "          3,   44, 1828, 1539,    5,  480,  293,   28,    9,    3,   50,\n",
       "          6, 1070,   57,    2,    1,   60,  517,   15,  157,   24,   95,\n",
       "         16,   18, 1454,    2,  293,   35,  416,   81,    2,  112,    5,\n",
       "         64,  144,    2,   22,   11,  612,    3,    1,  959, 1297,    1,\n",
       "        112,    1,  609,    9,  103,    4,    2,  441,    8,   45, 1098,\n",
       "          1,   17,   52, 1158,   31,   56, 1005,   14,    9,   30,  130,\n",
       "        326,  181, 1501,    8,   48,   58,  115, 1238,   21,  858,    7,\n",
       "         19,   41,    2,    3,  827,  150,  167,  102,  183,   18,  313,\n",
       "         29,  230,  834,   12,  623,  221,  354,  910,   57,    6,    2,\n",
       "         11,  352,  143,   24,    6,    1,   21,    1,  360,  239,  507,\n",
       "        122,    2,  160,  204,  280,    4,  152,    1,   17,   10,    9,\n",
       "         21,   25,    5,  112,  181,  213,   10,  203,    1,    1,   69,\n",
       "         54,  183,  535,   30, 1047,  745,   14,   32,  488,    2,  577,\n",
       "         23,  175,    2,   70,   33,    1,  667,  278,   67,  342,  136,\n",
       "         18,    8,    1,  306,  566,    9,  590,  352,  239,  276,  574,\n",
       "        191])"
      ]
     },
     "execution_count": 77,
     "metadata": {},
     "output_type": "execute_result"
    }
   ],
   "source": [
    "iNat_weekly_counts2.groupby(['AVIBASEID']).sum()['COUNTS'].values"
   ]
  },
  {
   "cell_type": "code",
   "execution_count": 78,
   "metadata": {},
   "outputs": [
    {
     "name": "stderr",
     "output_type": "stream",
     "text": [
      "/var/folders/ms/2ygwp03d4b5526gc0h51spqh0000gn/T/ipykernel_16421/3697873596.py:2: FutureWarning: The default value of numeric_only in DataFrameGroupBy.sum is deprecated. In a future version, numeric_only will default to False. Either specify numeric_only or select only columns which should be valid for the function.\n",
      "  .groupby(['AVIBASEID']).sum()['COUNTS']\\\n",
      "/var/folders/ms/2ygwp03d4b5526gc0h51spqh0000gn/T/ipykernel_16421/3697873596.py:4: FutureWarning: The default value of numeric_only in DataFrameGroupBy.sum is deprecated. In a future version, numeric_only will default to False. Either specify numeric_only or select only columns which should be valid for the function.\n",
      "  .sum()['COUNTS'].values)>=50].sort_values()[0:10]\n"
     ]
    },
    {
     "data": {
      "text/plain": [
       "AVIBASEID\n",
       "88AB027C    50\n",
       "58312873    50\n",
       "A8C34DC9    52\n",
       "E53FC25C    54\n",
       "AC1E519F    56\n",
       "89F8B6F5    57\n",
       "BD929CBC    57\n",
       "B48335B1    58\n",
       "8DB64266    60\n",
       "7784B060    63\n",
       "Name: COUNTS, dtype: int64"
      ]
     },
     "execution_count": 78,
     "metadata": {},
     "output_type": "execute_result"
    }
   ],
   "source": [
    "iNat_weekly_counts2\\\n",
    "    .groupby(['AVIBASEID']).sum()['COUNTS']\\\n",
    "        [(iNat_weekly_counts2.groupby(['AVIBASEID'])\\\n",
    "        .sum()['COUNTS'].values)>=50].sort_values()[0:10]"
   ]
  },
  {
   "cell_type": "code",
   "execution_count": 79,
   "metadata": {},
   "outputs": [],
   "source": [
    "name_avID_dict = iNat_weekly_counts2.iloc[:, 0:2].drop_duplicates().copy().set_index('AVIBASEID')['COMMON NAME'].to_dict()\n",
    "name_avID_dict_22 = iNat_weekly_counts2_22.iloc[:, 0:2].drop_duplicates().copy().set_index('AVIBASEID')['COMMON NAME'].to_dict()"
   ]
  },
  {
   "cell_type": "code",
   "execution_count": 80,
   "metadata": {},
   "outputs": [
    {
     "data": {
      "text/html": [
       "<div>\n",
       "<style scoped>\n",
       "    .dataframe tbody tr th:only-of-type {\n",
       "        vertical-align: middle;\n",
       "    }\n",
       "\n",
       "    .dataframe tbody tr th {\n",
       "        vertical-align: top;\n",
       "    }\n",
       "\n",
       "    .dataframe thead th {\n",
       "        text-align: right;\n",
       "    }\n",
       "</style>\n",
       "<table border=\"1\" class=\"dataframe\">\n",
       "  <thead>\n",
       "    <tr style=\"text-align: right;\">\n",
       "      <th></th>\n",
       "      <th>AVIBASEID</th>\n",
       "      <th>COMMON NAME</th>\n",
       "      <th>WEEK</th>\n",
       "      <th>COUNTS</th>\n",
       "      <th>REL_COUNTS</th>\n",
       "    </tr>\n",
       "  </thead>\n",
       "  <tbody>\n",
       "    <tr>\n",
       "      <th>0</th>\n",
       "      <td>000482C9</td>\n",
       "      <td>Orchard Oriole</td>\n",
       "      <td>1</td>\n",
       "      <td>50</td>\n",
       "      <td>0.119048</td>\n",
       "    </tr>\n",
       "    <tr>\n",
       "      <th>1</th>\n",
       "      <td>000482C9</td>\n",
       "      <td>Orchard Oriole</td>\n",
       "      <td>2</td>\n",
       "      <td>17</td>\n",
       "      <td>0.040476</td>\n",
       "    </tr>\n",
       "    <tr>\n",
       "      <th>2</th>\n",
       "      <td>000482C9</td>\n",
       "      <td>Orchard Oriole</td>\n",
       "      <td>3</td>\n",
       "      <td>8</td>\n",
       "      <td>0.019048</td>\n",
       "    </tr>\n",
       "    <tr>\n",
       "      <th>3</th>\n",
       "      <td>000482C9</td>\n",
       "      <td>Orchard Oriole</td>\n",
       "      <td>4</td>\n",
       "      <td>6</td>\n",
       "      <td>0.014286</td>\n",
       "    </tr>\n",
       "    <tr>\n",
       "      <th>4</th>\n",
       "      <td>000482C9</td>\n",
       "      <td>Orchard Oriole</td>\n",
       "      <td>5</td>\n",
       "      <td>11</td>\n",
       "      <td>0.026190</td>\n",
       "    </tr>\n",
       "    <tr>\n",
       "      <th>...</th>\n",
       "      <td>...</td>\n",
       "      <td>...</td>\n",
       "      <td>...</td>\n",
       "      <td>...</td>\n",
       "      <td>...</td>\n",
       "    </tr>\n",
       "    <tr>\n",
       "      <th>13675</th>\n",
       "      <td>FFF61080</td>\n",
       "      <td>Orange-crowned Warbler</td>\n",
       "      <td>48</td>\n",
       "      <td>135</td>\n",
       "      <td>0.006774</td>\n",
       "    </tr>\n",
       "    <tr>\n",
       "      <th>13676</th>\n",
       "      <td>FFF61080</td>\n",
       "      <td>Orange-crowned Warbler</td>\n",
       "      <td>49</td>\n",
       "      <td>141</td>\n",
       "      <td>0.007075</td>\n",
       "    </tr>\n",
       "    <tr>\n",
       "      <th>13677</th>\n",
       "      <td>FFF61080</td>\n",
       "      <td>Orange-crowned Warbler</td>\n",
       "      <td>50</td>\n",
       "      <td>227</td>\n",
       "      <td>0.011390</td>\n",
       "    </tr>\n",
       "    <tr>\n",
       "      <th>13678</th>\n",
       "      <td>FFF61080</td>\n",
       "      <td>Orange-crowned Warbler</td>\n",
       "      <td>51</td>\n",
       "      <td>183</td>\n",
       "      <td>0.009183</td>\n",
       "    </tr>\n",
       "    <tr>\n",
       "      <th>13679</th>\n",
       "      <td>FFF61080</td>\n",
       "      <td>Orange-crowned Warbler</td>\n",
       "      <td>52</td>\n",
       "      <td>228</td>\n",
       "      <td>0.011441</td>\n",
       "    </tr>\n",
       "  </tbody>\n",
       "</table>\n",
       "<p>13680 rows × 5 columns</p>\n",
       "</div>"
      ],
      "text/plain": [
       "      AVIBASEID             COMMON NAME  WEEK  COUNTS  REL_COUNTS\n",
       "0      000482C9          Orchard Oriole     1      50    0.119048\n",
       "1      000482C9          Orchard Oriole     2      17    0.040476\n",
       "2      000482C9          Orchard Oriole     3       8    0.019048\n",
       "3      000482C9          Orchard Oriole     4       6    0.014286\n",
       "4      000482C9          Orchard Oriole     5      11    0.026190\n",
       "...         ...                     ...   ...     ...         ...\n",
       "13675  FFF61080  Orange-crowned Warbler    48     135    0.006774\n",
       "13676  FFF61080  Orange-crowned Warbler    49     141    0.007075\n",
       "13677  FFF61080  Orange-crowned Warbler    50     227    0.011390\n",
       "13678  FFF61080  Orange-crowned Warbler    51     183    0.009183\n",
       "13679  FFF61080  Orange-crowned Warbler    52     228    0.011441\n",
       "\n",
       "[13680 rows x 5 columns]"
      ]
     },
     "execution_count": 80,
     "metadata": {},
     "output_type": "execute_result"
    }
   ],
   "source": [
    "eBird_weekly_counts2"
   ]
  },
  {
   "cell_type": "code",
   "execution_count": 81,
   "metadata": {},
   "outputs": [],
   "source": [
    "eBird_curves_discrete_raw = eBird_weekly_counts2.pivot_table(index='AVIBASEID', columns='WEEK', values='COUNTS' )\n",
    "eBird_curves_discrete_22_raw = eBird_weekly_counts2_22.pivot_table(index='AVIBASEID', columns='WEEK', values='COUNTS' )"
   ]
  },
  {
   "cell_type": "code",
   "execution_count": 82,
   "metadata": {},
   "outputs": [],
   "source": [
    "iNat_curves_discrete_raw = iNat_weekly_counts2.pivot_table(index='AVIBASEID', columns='WEEK', values='COUNTS' )\n",
    "iNat_curves_discrete_22_raw = iNat_weekly_counts2_22.pivot_table(index='AVIBASEID', columns='WEEK', values='COUNTS' )"
   ]
  },
  {
   "cell_type": "code",
   "execution_count": 83,
   "metadata": {},
   "outputs": [],
   "source": [
    "df_eb19_ana = pd.read_parquet('./generated_data/eBird_curves_19_final_anomalous.parquet')"
   ]
  },
  {
   "cell_type": "code",
   "execution_count": 84,
   "metadata": {},
   "outputs": [],
   "source": [
    "birds_anomalous = list(df_eb19_ana.index)"
   ]
  },
  {
   "cell_type": "code",
   "execution_count": 85,
   "metadata": {},
   "outputs": [
    {
     "data": {
      "text/plain": [
       "['2DABF98F',\n",
       " 'AF0C7BDE',\n",
       " 'BCBD2EAE',\n",
       " '4AAEF549',\n",
       " 'C5971E25',\n",
       " 'B48335B1',\n",
       " 'E1714A09',\n",
       " '1456993D',\n",
       " '4E192262',\n",
       " 'BB6B236F',\n",
       " '0716A71C',\n",
       " 'F6DF700B',\n",
       " '28A4DA76',\n",
       " '90B13ACF']"
      ]
     },
     "execution_count": 85,
     "metadata": {},
     "output_type": "execute_result"
    }
   ],
   "source": [
    "birds_anomalous"
   ]
  },
  {
   "cell_type": "code",
   "execution_count": 86,
   "metadata": {},
   "outputs": [],
   "source": [
    "eb19_raw_counts_all = eBird_curves_discrete_raw.copy()\n",
    "eb22_raw_counts_all = eBird_curves_discrete_22_raw.copy()\n",
    "in19_raw_counts_all = iNat_curves_discrete_raw.copy()\n",
    "in22_raw_counts_all = iNat_curves_discrete_22_raw.copy()"
   ]
  },
  {
   "cell_type": "code",
   "execution_count": 87,
   "metadata": {},
   "outputs": [],
   "source": [
    "eb19_raw_counts_all.fillna(0, inplace=True)\n",
    "eb22_raw_counts_all.fillna(0, inplace=True)\n",
    "in19_raw_counts_all.fillna(0, inplace=True)\n",
    "in22_raw_counts_all.fillna(0, inplace=True)"
   ]
  },
  {
   "cell_type": "code",
   "execution_count": 88,
   "metadata": {},
   "outputs": [
    {
     "data": {
      "text/html": [
       "<div>\n",
       "<style scoped>\n",
       "    .dataframe tbody tr th:only-of-type {\n",
       "        vertical-align: middle;\n",
       "    }\n",
       "\n",
       "    .dataframe tbody tr th {\n",
       "        vertical-align: top;\n",
       "    }\n",
       "\n",
       "    .dataframe thead th {\n",
       "        text-align: right;\n",
       "    }\n",
       "</style>\n",
       "<table border=\"1\" class=\"dataframe\">\n",
       "  <thead>\n",
       "    <tr style=\"text-align: right;\">\n",
       "      <th>WEEK</th>\n",
       "      <th>1</th>\n",
       "      <th>2</th>\n",
       "      <th>3</th>\n",
       "      <th>4</th>\n",
       "      <th>5</th>\n",
       "      <th>6</th>\n",
       "      <th>7</th>\n",
       "      <th>8</th>\n",
       "      <th>9</th>\n",
       "      <th>10</th>\n",
       "      <th>...</th>\n",
       "      <th>43</th>\n",
       "      <th>44</th>\n",
       "      <th>45</th>\n",
       "      <th>46</th>\n",
       "      <th>47</th>\n",
       "      <th>48</th>\n",
       "      <th>49</th>\n",
       "      <th>50</th>\n",
       "      <th>51</th>\n",
       "      <th>52</th>\n",
       "    </tr>\n",
       "    <tr>\n",
       "      <th>AVIBASEID</th>\n",
       "      <th></th>\n",
       "      <th></th>\n",
       "      <th></th>\n",
       "      <th></th>\n",
       "      <th></th>\n",
       "      <th></th>\n",
       "      <th></th>\n",
       "      <th></th>\n",
       "      <th></th>\n",
       "      <th></th>\n",
       "      <th></th>\n",
       "      <th></th>\n",
       "      <th></th>\n",
       "      <th></th>\n",
       "      <th></th>\n",
       "      <th></th>\n",
       "      <th></th>\n",
       "      <th></th>\n",
       "      <th></th>\n",
       "      <th></th>\n",
       "      <th></th>\n",
       "    </tr>\n",
       "  </thead>\n",
       "  <tbody>\n",
       "    <tr>\n",
       "      <th>000482C9</th>\n",
       "      <td>50.0</td>\n",
       "      <td>17.0</td>\n",
       "      <td>8.0</td>\n",
       "      <td>6.0</td>\n",
       "      <td>11.0</td>\n",
       "      <td>3.0</td>\n",
       "      <td>6.0</td>\n",
       "      <td>4.0</td>\n",
       "      <td>4.0</td>\n",
       "      <td>6.0</td>\n",
       "      <td>...</td>\n",
       "      <td>11.0</td>\n",
       "      <td>14.0</td>\n",
       "      <td>16.0</td>\n",
       "      <td>17.0</td>\n",
       "      <td>18.0</td>\n",
       "      <td>9.0</td>\n",
       "      <td>2.0</td>\n",
       "      <td>9.0</td>\n",
       "      <td>12.0</td>\n",
       "      <td>18.0</td>\n",
       "    </tr>\n",
       "    <tr>\n",
       "      <th>00124D98</th>\n",
       "      <td>1545.0</td>\n",
       "      <td>1202.0</td>\n",
       "      <td>896.0</td>\n",
       "      <td>1309.0</td>\n",
       "      <td>1093.0</td>\n",
       "      <td>1132.0</td>\n",
       "      <td>1143.0</td>\n",
       "      <td>1295.0</td>\n",
       "      <td>1063.0</td>\n",
       "      <td>1240.0</td>\n",
       "      <td>...</td>\n",
       "      <td>708.0</td>\n",
       "      <td>873.0</td>\n",
       "      <td>836.0</td>\n",
       "      <td>1005.0</td>\n",
       "      <td>906.0</td>\n",
       "      <td>836.0</td>\n",
       "      <td>886.0</td>\n",
       "      <td>1276.0</td>\n",
       "      <td>1070.0</td>\n",
       "      <td>1184.0</td>\n",
       "    </tr>\n",
       "    <tr>\n",
       "      <th>00635FF9</th>\n",
       "      <td>59.0</td>\n",
       "      <td>32.0</td>\n",
       "      <td>40.0</td>\n",
       "      <td>61.0</td>\n",
       "      <td>22.0</td>\n",
       "      <td>28.0</td>\n",
       "      <td>38.0</td>\n",
       "      <td>65.0</td>\n",
       "      <td>16.0</td>\n",
       "      <td>31.0</td>\n",
       "      <td>...</td>\n",
       "      <td>55.0</td>\n",
       "      <td>45.0</td>\n",
       "      <td>74.0</td>\n",
       "      <td>70.0</td>\n",
       "      <td>55.0</td>\n",
       "      <td>24.0</td>\n",
       "      <td>22.0</td>\n",
       "      <td>67.0</td>\n",
       "      <td>33.0</td>\n",
       "      <td>55.0</td>\n",
       "    </tr>\n",
       "    <tr>\n",
       "      <th>01060BFD</th>\n",
       "      <td>229.0</td>\n",
       "      <td>186.0</td>\n",
       "      <td>101.0</td>\n",
       "      <td>234.0</td>\n",
       "      <td>97.0</td>\n",
       "      <td>164.0</td>\n",
       "      <td>124.0</td>\n",
       "      <td>184.0</td>\n",
       "      <td>88.0</td>\n",
       "      <td>99.0</td>\n",
       "      <td>...</td>\n",
       "      <td>161.0</td>\n",
       "      <td>211.0</td>\n",
       "      <td>247.0</td>\n",
       "      <td>174.0</td>\n",
       "      <td>189.0</td>\n",
       "      <td>169.0</td>\n",
       "      <td>153.0</td>\n",
       "      <td>172.0</td>\n",
       "      <td>102.0</td>\n",
       "      <td>155.0</td>\n",
       "    </tr>\n",
       "    <tr>\n",
       "      <th>018B3169</th>\n",
       "      <td>374.0</td>\n",
       "      <td>342.0</td>\n",
       "      <td>225.0</td>\n",
       "      <td>380.0</td>\n",
       "      <td>275.0</td>\n",
       "      <td>240.0</td>\n",
       "      <td>241.0</td>\n",
       "      <td>352.0</td>\n",
       "      <td>218.0</td>\n",
       "      <td>169.0</td>\n",
       "      <td>...</td>\n",
       "      <td>54.0</td>\n",
       "      <td>162.0</td>\n",
       "      <td>230.0</td>\n",
       "      <td>189.0</td>\n",
       "      <td>196.0</td>\n",
       "      <td>204.0</td>\n",
       "      <td>202.0</td>\n",
       "      <td>292.0</td>\n",
       "      <td>141.0</td>\n",
       "      <td>245.0</td>\n",
       "    </tr>\n",
       "    <tr>\n",
       "      <th>...</th>\n",
       "      <td>...</td>\n",
       "      <td>...</td>\n",
       "      <td>...</td>\n",
       "      <td>...</td>\n",
       "      <td>...</td>\n",
       "      <td>...</td>\n",
       "      <td>...</td>\n",
       "      <td>...</td>\n",
       "      <td>...</td>\n",
       "      <td>...</td>\n",
       "      <td>...</td>\n",
       "      <td>...</td>\n",
       "      <td>...</td>\n",
       "      <td>...</td>\n",
       "      <td>...</td>\n",
       "      <td>...</td>\n",
       "      <td>...</td>\n",
       "      <td>...</td>\n",
       "      <td>...</td>\n",
       "      <td>...</td>\n",
       "      <td>...</td>\n",
       "    </tr>\n",
       "    <tr>\n",
       "      <th>FC366114</th>\n",
       "      <td>394.0</td>\n",
       "      <td>251.0</td>\n",
       "      <td>202.0</td>\n",
       "      <td>314.0</td>\n",
       "      <td>203.0</td>\n",
       "      <td>213.0</td>\n",
       "      <td>199.0</td>\n",
       "      <td>285.0</td>\n",
       "      <td>183.0</td>\n",
       "      <td>228.0</td>\n",
       "      <td>...</td>\n",
       "      <td>156.0</td>\n",
       "      <td>145.0</td>\n",
       "      <td>185.0</td>\n",
       "      <td>194.0</td>\n",
       "      <td>177.0</td>\n",
       "      <td>100.0</td>\n",
       "      <td>143.0</td>\n",
       "      <td>331.0</td>\n",
       "      <td>225.0</td>\n",
       "      <td>197.0</td>\n",
       "    </tr>\n",
       "    <tr>\n",
       "      <th>FD2B0309</th>\n",
       "      <td>168.0</td>\n",
       "      <td>114.0</td>\n",
       "      <td>98.0</td>\n",
       "      <td>167.0</td>\n",
       "      <td>50.0</td>\n",
       "      <td>43.0</td>\n",
       "      <td>53.0</td>\n",
       "      <td>111.0</td>\n",
       "      <td>19.0</td>\n",
       "      <td>83.0</td>\n",
       "      <td>...</td>\n",
       "      <td>84.0</td>\n",
       "      <td>115.0</td>\n",
       "      <td>100.0</td>\n",
       "      <td>139.0</td>\n",
       "      <td>142.0</td>\n",
       "      <td>98.0</td>\n",
       "      <td>49.0</td>\n",
       "      <td>52.0</td>\n",
       "      <td>94.0</td>\n",
       "      <td>88.0</td>\n",
       "    </tr>\n",
       "    <tr>\n",
       "      <th>FED3756C</th>\n",
       "      <td>403.0</td>\n",
       "      <td>307.0</td>\n",
       "      <td>250.0</td>\n",
       "      <td>446.0</td>\n",
       "      <td>154.0</td>\n",
       "      <td>228.0</td>\n",
       "      <td>208.0</td>\n",
       "      <td>255.0</td>\n",
       "      <td>178.0</td>\n",
       "      <td>150.0</td>\n",
       "      <td>...</td>\n",
       "      <td>117.0</td>\n",
       "      <td>125.0</td>\n",
       "      <td>129.0</td>\n",
       "      <td>207.0</td>\n",
       "      <td>315.0</td>\n",
       "      <td>202.0</td>\n",
       "      <td>145.0</td>\n",
       "      <td>333.0</td>\n",
       "      <td>244.0</td>\n",
       "      <td>286.0</td>\n",
       "    </tr>\n",
       "    <tr>\n",
       "      <th>FF592882</th>\n",
       "      <td>1256.0</td>\n",
       "      <td>986.0</td>\n",
       "      <td>705.0</td>\n",
       "      <td>1028.0</td>\n",
       "      <td>775.0</td>\n",
       "      <td>798.0</td>\n",
       "      <td>870.0</td>\n",
       "      <td>1138.0</td>\n",
       "      <td>784.0</td>\n",
       "      <td>784.0</td>\n",
       "      <td>...</td>\n",
       "      <td>920.0</td>\n",
       "      <td>1105.0</td>\n",
       "      <td>1049.0</td>\n",
       "      <td>1205.0</td>\n",
       "      <td>946.0</td>\n",
       "      <td>842.0</td>\n",
       "      <td>737.0</td>\n",
       "      <td>1415.0</td>\n",
       "      <td>784.0</td>\n",
       "      <td>1088.0</td>\n",
       "    </tr>\n",
       "    <tr>\n",
       "      <th>FFF61080</th>\n",
       "      <td>273.0</td>\n",
       "      <td>204.0</td>\n",
       "      <td>109.0</td>\n",
       "      <td>169.0</td>\n",
       "      <td>132.0</td>\n",
       "      <td>97.0</td>\n",
       "      <td>85.0</td>\n",
       "      <td>228.0</td>\n",
       "      <td>126.0</td>\n",
       "      <td>182.0</td>\n",
       "      <td>...</td>\n",
       "      <td>139.0</td>\n",
       "      <td>164.0</td>\n",
       "      <td>170.0</td>\n",
       "      <td>171.0</td>\n",
       "      <td>246.0</td>\n",
       "      <td>135.0</td>\n",
       "      <td>141.0</td>\n",
       "      <td>227.0</td>\n",
       "      <td>183.0</td>\n",
       "      <td>228.0</td>\n",
       "    </tr>\n",
       "  </tbody>\n",
       "</table>\n",
       "<p>353 rows × 52 columns</p>\n",
       "</div>"
      ],
      "text/plain": [
       "WEEK           1       2      3       4       5       6       7       8   \\\n",
       "AVIBASEID                                                                  \n",
       "000482C9     50.0    17.0    8.0     6.0    11.0     3.0     6.0     4.0   \n",
       "00124D98   1545.0  1202.0  896.0  1309.0  1093.0  1132.0  1143.0  1295.0   \n",
       "00635FF9     59.0    32.0   40.0    61.0    22.0    28.0    38.0    65.0   \n",
       "01060BFD    229.0   186.0  101.0   234.0    97.0   164.0   124.0   184.0   \n",
       "018B3169    374.0   342.0  225.0   380.0   275.0   240.0   241.0   352.0   \n",
       "...           ...     ...    ...     ...     ...     ...     ...     ...   \n",
       "FC366114    394.0   251.0  202.0   314.0   203.0   213.0   199.0   285.0   \n",
       "FD2B0309    168.0   114.0   98.0   167.0    50.0    43.0    53.0   111.0   \n",
       "FED3756C    403.0   307.0  250.0   446.0   154.0   228.0   208.0   255.0   \n",
       "FF592882   1256.0   986.0  705.0  1028.0   775.0   798.0   870.0  1138.0   \n",
       "FFF61080    273.0   204.0  109.0   169.0   132.0    97.0    85.0   228.0   \n",
       "\n",
       "WEEK           9       10  ...     43      44      45      46     47     48  \\\n",
       "AVIBASEID                  ...                                                \n",
       "000482C9      4.0     6.0  ...   11.0    14.0    16.0    17.0   18.0    9.0   \n",
       "00124D98   1063.0  1240.0  ...  708.0   873.0   836.0  1005.0  906.0  836.0   \n",
       "00635FF9     16.0    31.0  ...   55.0    45.0    74.0    70.0   55.0   24.0   \n",
       "01060BFD     88.0    99.0  ...  161.0   211.0   247.0   174.0  189.0  169.0   \n",
       "018B3169    218.0   169.0  ...   54.0   162.0   230.0   189.0  196.0  204.0   \n",
       "...           ...     ...  ...    ...     ...     ...     ...    ...    ...   \n",
       "FC366114    183.0   228.0  ...  156.0   145.0   185.0   194.0  177.0  100.0   \n",
       "FD2B0309     19.0    83.0  ...   84.0   115.0   100.0   139.0  142.0   98.0   \n",
       "FED3756C    178.0   150.0  ...  117.0   125.0   129.0   207.0  315.0  202.0   \n",
       "FF592882    784.0   784.0  ...  920.0  1105.0  1049.0  1205.0  946.0  842.0   \n",
       "FFF61080    126.0   182.0  ...  139.0   164.0   170.0   171.0  246.0  135.0   \n",
       "\n",
       "WEEK          49      50      51      52  \n",
       "AVIBASEID                                 \n",
       "000482C9     2.0     9.0    12.0    18.0  \n",
       "00124D98   886.0  1276.0  1070.0  1184.0  \n",
       "00635FF9    22.0    67.0    33.0    55.0  \n",
       "01060BFD   153.0   172.0   102.0   155.0  \n",
       "018B3169   202.0   292.0   141.0   245.0  \n",
       "...          ...     ...     ...     ...  \n",
       "FC366114   143.0   331.0   225.0   197.0  \n",
       "FD2B0309    49.0    52.0    94.0    88.0  \n",
       "FED3756C   145.0   333.0   244.0   286.0  \n",
       "FF592882   737.0  1415.0   784.0  1088.0  \n",
       "FFF61080   141.0   227.0   183.0   228.0  \n",
       "\n",
       "[353 rows x 52 columns]"
      ]
     },
     "execution_count": 88,
     "metadata": {},
     "output_type": "execute_result"
    }
   ],
   "source": [
    "eb19_raw_counts_all"
   ]
  },
  {
   "cell_type": "code",
   "execution_count": 89,
   "metadata": {},
   "outputs": [],
   "source": [
    "eb19_raw_counts_all.columns = ['Week-'+str(x) for x in eb19_raw_counts_all.columns]"
   ]
  },
  {
   "cell_type": "code",
   "execution_count": 90,
   "metadata": {},
   "outputs": [],
   "source": [
    "eb22_raw_counts_all.columns = ['Week-'+str(x) for x in eb22_raw_counts_all.columns]\n",
    "in19_raw_counts_all.columns = ['Week-'+str(x) for x in in19_raw_counts_all.columns]\n",
    "in22_raw_counts_all.columns = ['Week-'+str(x) for x in in22_raw_counts_all.columns]"
   ]
  },
  {
   "cell_type": "code",
   "execution_count": 91,
   "metadata": {},
   "outputs": [],
   "source": [
    "eb19_raw_counts_all.to_parquet('./generated_data/eb19_raw_counts_all.parquet')\n",
    "eb22_raw_counts_all.to_parquet('./generated_data/eb22_raw_counts_all.parquet')\n",
    "in19_raw_counts_all.to_parquet('./generated_data/in19_raw_counts_all.parquet')\n",
    "in22_raw_counts_all.to_parquet('./generated_data/in22_raw_counts_all.parquet')"
   ]
  },
  {
   "cell_type": "code",
   "execution_count": null,
   "metadata": {},
   "outputs": [],
   "source": []
  }
 ],
 "metadata": {
  "kernelspec": {
   "display_name": "Python 3.10.11 ('exp_func')",
   "language": "python",
   "name": "python3"
  },
  "language_info": {
   "codemirror_mode": {
    "name": "ipython",
    "version": 3
   },
   "file_extension": ".py",
   "mimetype": "text/x-python",
   "name": "python",
   "nbconvert_exporter": "python",
   "pygments_lexer": "ipython3",
   "version": "3.10.11"
  },
  "orig_nbformat": 4,
  "vscode": {
   "interpreter": {
    "hash": "51ab48f99c10b131b06c2c5468102467b7e92e0ffbfd68ac19cda9304f04b617"
   }
  }
 },
 "nbformat": 4,
 "nbformat_minor": 2
}
