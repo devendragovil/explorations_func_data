{
 "cells": [
  {
   "cell_type": "code",
   "execution_count": 1,
   "metadata": {},
   "outputs": [],
   "source": [
    "import pandas as pd"
   ]
  },
  {
   "cell_type": "code",
   "execution_count": 2,
   "metadata": {},
   "outputs": [
    {
     "name": "stderr",
     "output_type": "stream",
     "text": [
      "/var/folders/ms/2ygwp03d4b5526gc0h51spqh0000gn/T/ipykernel_11745/1441865066.py:1: DtypeWarning: Columns (138,180) have mixed types. Specify dtype option on import or set low_memory=False.\n",
      "  df_inat =  pd.read_csv('../data/gbif/occurrence.txt', delimiter='\\t', quotechar='\"', usecols=[\n"
     ]
    }
   ],
   "source": [
    "df_inat =  pd.read_csv('../data/gbif/occurrence.txt', delimiter='\\t', quotechar='\"', usecols=[\n",
    "    'taxonID',\n",
    "    'taxonKey',\n",
    "    'countryCode',\n",
    "    'stateProvince',\n",
    "    'decimalLatitude',\n",
    "    'decimalLongitude',\n",
    "    'eventDate',\n",
    "    'acceptedScientificName',\n",
    "    'scientificName',\n",
    "])"
   ]
  },
  {
   "cell_type": "code",
   "execution_count": 3,
   "metadata": {},
   "outputs": [
    {
     "data": {
      "text/plain": [
       "(3321454, 9)"
      ]
     },
     "execution_count": 3,
     "metadata": {},
     "output_type": "execute_result"
    }
   ],
   "source": [
    "df_inat.shape"
   ]
  },
  {
   "cell_type": "code",
   "execution_count": 4,
   "metadata": {},
   "outputs": [],
   "source": [
    "df_inat_22 = pd.read_csv('../data/gbif_22/occurrence.txt', delimiter='\\t', quoting=3, usecols=[\n",
    "    'taxonID',\n",
    "    'taxonKey',\n",
    "    'countryCode',\n",
    "    'stateProvince',\n",
    "    'decimalLatitude',\n",
    "    'decimalLongitude',\n",
    "    'eventDate',\n",
    "    'acceptedScientificName',\n",
    "    'scientificName',\n",
    "])"
   ]
  },
  {
   "cell_type": "code",
   "execution_count": 5,
   "metadata": {},
   "outputs": [
    {
     "data": {
      "text/plain": [
       "(6686625, 9)"
      ]
     },
     "execution_count": 5,
     "metadata": {},
     "output_type": "execute_result"
    }
   ],
   "source": [
    "df_inat_22.shape"
   ]
  },
  {
   "cell_type": "code",
   "execution_count": 6,
   "metadata": {},
   "outputs": [],
   "source": [
    "rel_columns_iNat = [\n",
    "    'taxonID',\n",
    "    'taxonKey',\n",
    "    'countryCode',\n",
    "    'stateProvince',\n",
    "    'decimalLatitude',\n",
    "    'decimalLongitude',\n",
    "    'eventDate',\n",
    "    'acceptedScientificName',\n",
    "    'scientificName',\n",
    "]\n",
    "rel_columns_eBird = [\n",
    "    'TAXON CONCEPT ID',\n",
    "    'OBSERVATION COUNT',\n",
    "    'COUNTRY',\n",
    "    'STATE',\n",
    "    'LATITUDE',\n",
    "    'LONGITUDE',\n",
    "    'OBSERVATION DATE',\n",
    "    'SCIENTIFIC NAME',\n",
    "    'COMMON NAME',\n",
    "]"
   ]
  },
  {
   "cell_type": "code",
   "execution_count": 7,
   "metadata": {},
   "outputs": [
    {
     "name": "stdout",
     "output_type": "stream",
     "text": [
      "Total number of records: \n",
      "3,321,454 for 2019\n",
      "6,686,625 for 2022\n"
     ]
    }
   ],
   "source": [
    "print(f\"Total number of records: \\n{df_inat.shape[0]:,} for 2019\\n{df_inat_22.shape[0]:,} for 2022\")"
   ]
  },
  {
   "cell_type": "code",
   "execution_count": 8,
   "metadata": {},
   "outputs": [],
   "source": [
    "df_eBird = pd.read_csv('../data/eBird/ebd_US-CA_201901_201912_relApr-2023/ebd_US-CA_201901_201912_relApr-2023.txt', sep='\\t', usecols=rel_columns_eBird)"
   ]
  },
  {
   "cell_type": "code",
   "execution_count": 9,
   "metadata": {},
   "outputs": [],
   "source": [
    "df_eBird_22 = pd.read_csv('../data/eBird_ebd_US-CA_202201_202212_relSep-2023/ebd_US-CA_202201_202212_relSep-2023.txt', sep='\\t', usecols=rel_columns_eBird)"
   ]
  },
  {
   "cell_type": "code",
   "execution_count": 10,
   "metadata": {},
   "outputs": [
    {
     "name": "stdout",
     "output_type": "stream",
     "text": [
      "Total number of records for eBird: \n",
      "8,694,926 for 2019\n",
      "12,673,675 for 2022\n"
     ]
    }
   ],
   "source": [
    "print(f\"Total number of records for eBird: \\n{df_eBird.shape[0]:,} for 2019\\n{df_eBird_22.shape[0]:,} for 2022\")"
   ]
  },
  {
   "cell_type": "code",
   "execution_count": 11,
   "metadata": {},
   "outputs": [],
   "source": [
    "df_iNat2 = df_inat[rel_columns_iNat].copy()\n",
    "df_eBird2 = df_eBird[rel_columns_eBird].copy()\n",
    "df_iNat2_22 = df_inat_22[rel_columns_iNat].copy()\n",
    "df_eBird2_22 = df_eBird_22[rel_columns_eBird].copy()"
   ]
  },
  {
   "cell_type": "code",
   "execution_count": 12,
   "metadata": {},
   "outputs": [
    {
     "data": {
      "text/html": [
       "<div>\n",
       "<style scoped>\n",
       "    .dataframe tbody tr th:only-of-type {\n",
       "        vertical-align: middle;\n",
       "    }\n",
       "\n",
       "    .dataframe tbody tr th {\n",
       "        vertical-align: top;\n",
       "    }\n",
       "\n",
       "    .dataframe thead th {\n",
       "        text-align: right;\n",
       "    }\n",
       "</style>\n",
       "<table border=\"1\" class=\"dataframe\">\n",
       "  <thead>\n",
       "    <tr style=\"text-align: right;\">\n",
       "      <th></th>\n",
       "      <th>taxonID</th>\n",
       "      <th>taxonKey</th>\n",
       "      <th>countryCode</th>\n",
       "      <th>stateProvince</th>\n",
       "      <th>decimalLatitude</th>\n",
       "      <th>decimalLongitude</th>\n",
       "      <th>eventDate</th>\n",
       "      <th>acceptedScientificName</th>\n",
       "      <th>scientificName</th>\n",
       "    </tr>\n",
       "  </thead>\n",
       "  <tbody>\n",
       "    <tr>\n",
       "      <th>0</th>\n",
       "      <td>123045</td>\n",
       "      <td>2515238.0</td>\n",
       "      <td>US</td>\n",
       "      <td>California</td>\n",
       "      <td>34.140209</td>\n",
       "      <td>-119.187897</td>\n",
       "      <td>2019-01-30T09:59:56</td>\n",
       "      <td>Puccinia evadens Harkn.</td>\n",
       "      <td>Puccinia evadens Harkn.</td>\n",
       "    </tr>\n",
       "    <tr>\n",
       "      <th>1</th>\n",
       "      <td>84994</td>\n",
       "      <td>5156078.0</td>\n",
       "      <td>US</td>\n",
       "      <td>Florida</td>\n",
       "      <td>28.059126</td>\n",
       "      <td>-82.418194</td>\n",
       "      <td>2019-01-21T14:35:00</td>\n",
       "      <td>Acanthocephala declivis (Say, 1832)</td>\n",
       "      <td>Acanthocephala declivis (Say, 1832)</td>\n",
       "    </tr>\n",
       "    <tr>\n",
       "      <th>2</th>\n",
       "      <td>36204</td>\n",
       "      <td>2451234.0</td>\n",
       "      <td>US</td>\n",
       "      <td>California</td>\n",
       "      <td>35.271399</td>\n",
       "      <td>-120.888941</td>\n",
       "      <td>2019-03-17T13:56:00</td>\n",
       "      <td>Sceloporus occidentalis Baird &amp; Girard, 1852</td>\n",
       "      <td>Sceloporus occidentalis Baird &amp; Girard, 1852</td>\n",
       "    </tr>\n",
       "    <tr>\n",
       "      <th>3</th>\n",
       "      <td>53326</td>\n",
       "      <td>3169708.0</td>\n",
       "      <td>US</td>\n",
       "      <td>Georgia</td>\n",
       "      <td>33.769633</td>\n",
       "      <td>-84.30645</td>\n",
       "      <td>2019-03-29T14:33:23</td>\n",
       "      <td>Vinca major L.</td>\n",
       "      <td>Vinca major L.</td>\n",
       "    </tr>\n",
       "    <tr>\n",
       "      <th>4</th>\n",
       "      <td>9176</td>\n",
       "      <td>5231132.0</td>\n",
       "      <td>US</td>\n",
       "      <td>Texas</td>\n",
       "      <td>33.562034</td>\n",
       "      <td>-101.809798</td>\n",
       "      <td>2019-04-02T12:44:00</td>\n",
       "      <td>Zonotrichia leucophrys (J.R.Forster, 1772)</td>\n",
       "      <td>Zonotrichia leucophrys (J.R.Forster, 1772)</td>\n",
       "    </tr>\n",
       "  </tbody>\n",
       "</table>\n",
       "</div>"
      ],
      "text/plain": [
       "  taxonID   taxonKey countryCode stateProvince  decimalLatitude  \\\n",
       "0  123045  2515238.0          US    California        34.140209   \n",
       "1   84994  5156078.0          US       Florida        28.059126   \n",
       "2   36204  2451234.0          US    California        35.271399   \n",
       "3   53326  3169708.0          US       Georgia        33.769633   \n",
       "4    9176  5231132.0          US         Texas        33.562034   \n",
       "\n",
       "  decimalLongitude            eventDate  \\\n",
       "0      -119.187897  2019-01-30T09:59:56   \n",
       "1       -82.418194  2019-01-21T14:35:00   \n",
       "2      -120.888941  2019-03-17T13:56:00   \n",
       "3        -84.30645  2019-03-29T14:33:23   \n",
       "4      -101.809798  2019-04-02T12:44:00   \n",
       "\n",
       "                         acceptedScientificName  \\\n",
       "0                       Puccinia evadens Harkn.   \n",
       "1           Acanthocephala declivis (Say, 1832)   \n",
       "2  Sceloporus occidentalis Baird & Girard, 1852   \n",
       "3                                Vinca major L.   \n",
       "4    Zonotrichia leucophrys (J.R.Forster, 1772)   \n",
       "\n",
       "                                 scientificName  \n",
       "0                       Puccinia evadens Harkn.  \n",
       "1           Acanthocephala declivis (Say, 1832)  \n",
       "2  Sceloporus occidentalis Baird & Girard, 1852  \n",
       "3                                Vinca major L.  \n",
       "4    Zonotrichia leucophrys (J.R.Forster, 1772)  "
      ]
     },
     "execution_count": 12,
     "metadata": {},
     "output_type": "execute_result"
    }
   ],
   "source": [
    "df_iNat2.head()"
   ]
  },
  {
   "cell_type": "code",
   "execution_count": 13,
   "metadata": {},
   "outputs": [
    {
     "data": {
      "text/plain": [
       "US    3321452\n",
       "Name: countryCode, dtype: int64"
      ]
     },
     "execution_count": 13,
     "metadata": {},
     "output_type": "execute_result"
    }
   ],
   "source": [
    "df_iNat2['countryCode'].value_counts()"
   ]
  },
  {
   "cell_type": "code",
   "execution_count": 14,
   "metadata": {},
   "outputs": [
    {
     "data": {
      "text/plain": [
       "US    6686625\n",
       "Name: countryCode, dtype: int64"
      ]
     },
     "execution_count": 14,
     "metadata": {},
     "output_type": "execute_result"
    }
   ],
   "source": [
    "df_iNat2_22['countryCode'].value_counts()"
   ]
  },
  {
   "cell_type": "markdown",
   "metadata": {},
   "source": [
    "# eBird Analysis"
   ]
  },
  {
   "cell_type": "code",
   "execution_count": 15,
   "metadata": {},
   "outputs": [
    {
     "data": {
      "text/plain": [
       "United States    8694926\n",
       "Name: COUNTRY, dtype: int64"
      ]
     },
     "execution_count": 15,
     "metadata": {},
     "output_type": "execute_result"
    }
   ],
   "source": [
    "df_eBird2['COUNTRY'].value_counts()"
   ]
  },
  {
   "cell_type": "code",
   "execution_count": 16,
   "metadata": {},
   "outputs": [
    {
     "data": {
      "text/plain": [
       "United States    12673675\n",
       "Name: COUNTRY, dtype: int64"
      ]
     },
     "execution_count": 16,
     "metadata": {},
     "output_type": "execute_result"
    }
   ],
   "source": [
    "df_eBird2_22['COUNTRY'].value_counts()"
   ]
  },
  {
   "cell_type": "code",
   "execution_count": 17,
   "metadata": {},
   "outputs": [
    {
     "data": {
      "text/plain": [
       "California    8694926\n",
       "Name: STATE, dtype: int64"
      ]
     },
     "execution_count": 17,
     "metadata": {},
     "output_type": "execute_result"
    }
   ],
   "source": [
    "df_eBird2['STATE'].value_counts()"
   ]
  },
  {
   "cell_type": "code",
   "execution_count": 18,
   "metadata": {},
   "outputs": [
    {
     "data": {
      "text/plain": [
       "California    12673675\n",
       "Name: STATE, dtype: int64"
      ]
     },
     "execution_count": 18,
     "metadata": {},
     "output_type": "execute_result"
    }
   ],
   "source": [
    "df_eBird2_22['STATE'].value_counts()"
   ]
  },
  {
   "cell_type": "code",
   "execution_count": 19,
   "metadata": {},
   "outputs": [
    {
     "data": {
      "text/html": [
       "<div>\n",
       "<style scoped>\n",
       "    .dataframe tbody tr th:only-of-type {\n",
       "        vertical-align: middle;\n",
       "    }\n",
       "\n",
       "    .dataframe tbody tr th {\n",
       "        vertical-align: top;\n",
       "    }\n",
       "\n",
       "    .dataframe thead th {\n",
       "        text-align: right;\n",
       "    }\n",
       "</style>\n",
       "<table border=\"1\" class=\"dataframe\">\n",
       "  <thead>\n",
       "    <tr style=\"text-align: right;\">\n",
       "      <th></th>\n",
       "      <th>TAXON CONCEPT ID</th>\n",
       "      <th>OBSERVATION COUNT</th>\n",
       "      <th>COUNTRY</th>\n",
       "      <th>STATE</th>\n",
       "      <th>LATITUDE</th>\n",
       "      <th>LONGITUDE</th>\n",
       "      <th>OBSERVATION DATE</th>\n",
       "      <th>SCIENTIFIC NAME</th>\n",
       "      <th>COMMON NAME</th>\n",
       "    </tr>\n",
       "  </thead>\n",
       "  <tbody>\n",
       "    <tr>\n",
       "      <th>0</th>\n",
       "      <td>avibase-CA08045E</td>\n",
       "      <td>1</td>\n",
       "      <td>United States</td>\n",
       "      <td>California</td>\n",
       "      <td>37.892331</td>\n",
       "      <td>-122.311800</td>\n",
       "      <td>2019-01-13</td>\n",
       "      <td>Accipiter sp.</td>\n",
       "      <td>Accipiter sp.</td>\n",
       "    </tr>\n",
       "    <tr>\n",
       "      <th>1</th>\n",
       "      <td>avibase-CA08045E</td>\n",
       "      <td>X</td>\n",
       "      <td>United States</td>\n",
       "      <td>California</td>\n",
       "      <td>37.871270</td>\n",
       "      <td>-122.307890</td>\n",
       "      <td>2019-01-01</td>\n",
       "      <td>Accipiter sp.</td>\n",
       "      <td>Accipiter sp.</td>\n",
       "    </tr>\n",
       "    <tr>\n",
       "      <th>2</th>\n",
       "      <td>avibase-CA08045E</td>\n",
       "      <td>1</td>\n",
       "      <td>United States</td>\n",
       "      <td>California</td>\n",
       "      <td>37.834029</td>\n",
       "      <td>-122.238747</td>\n",
       "      <td>2019-01-25</td>\n",
       "      <td>Accipiter sp.</td>\n",
       "      <td>Accipiter sp.</td>\n",
       "    </tr>\n",
       "    <tr>\n",
       "      <th>3</th>\n",
       "      <td>avibase-CA08045E</td>\n",
       "      <td>1</td>\n",
       "      <td>United States</td>\n",
       "      <td>California</td>\n",
       "      <td>37.695328</td>\n",
       "      <td>-121.844741</td>\n",
       "      <td>2019-01-10</td>\n",
       "      <td>Accipiter sp.</td>\n",
       "      <td>Accipiter sp.</td>\n",
       "    </tr>\n",
       "    <tr>\n",
       "      <th>4</th>\n",
       "      <td>avibase-CA08045E</td>\n",
       "      <td>1</td>\n",
       "      <td>United States</td>\n",
       "      <td>California</td>\n",
       "      <td>37.834029</td>\n",
       "      <td>-122.238747</td>\n",
       "      <td>2019-01-25</td>\n",
       "      <td>Accipiter sp.</td>\n",
       "      <td>Accipiter sp.</td>\n",
       "    </tr>\n",
       "  </tbody>\n",
       "</table>\n",
       "</div>"
      ],
      "text/plain": [
       "   TAXON CONCEPT ID OBSERVATION COUNT        COUNTRY       STATE   LATITUDE  \\\n",
       "0  avibase-CA08045E                 1  United States  California  37.892331   \n",
       "1  avibase-CA08045E                 X  United States  California  37.871270   \n",
       "2  avibase-CA08045E                 1  United States  California  37.834029   \n",
       "3  avibase-CA08045E                 1  United States  California  37.695328   \n",
       "4  avibase-CA08045E                 1  United States  California  37.834029   \n",
       "\n",
       "    LONGITUDE OBSERVATION DATE SCIENTIFIC NAME    COMMON NAME  \n",
       "0 -122.311800       2019-01-13   Accipiter sp.  Accipiter sp.  \n",
       "1 -122.307890       2019-01-01   Accipiter sp.  Accipiter sp.  \n",
       "2 -122.238747       2019-01-25   Accipiter sp.  Accipiter sp.  \n",
       "3 -121.844741       2019-01-10   Accipiter sp.  Accipiter sp.  \n",
       "4 -122.238747       2019-01-25   Accipiter sp.  Accipiter sp.  "
      ]
     },
     "execution_count": 19,
     "metadata": {},
     "output_type": "execute_result"
    }
   ],
   "source": [
    "df_eBird2.head()"
   ]
  },
  {
   "cell_type": "code",
   "execution_count": 20,
   "metadata": {},
   "outputs": [],
   "source": [
    "df_eBird2['AVIBASEID'] = df_eBird2['TAXON CONCEPT ID'].apply(lambda x : x[-8:])\n",
    "df_eBird2_22['AVIBASEID'] = df_eBird2_22['TAXON CONCEPT ID'].apply(lambda x : x[-8:])"
   ]
  },
  {
   "cell_type": "markdown",
   "metadata": {},
   "source": [
    "# EDA on the whole dataset without any filters"
   ]
  },
  {
   "cell_type": "code",
   "execution_count": 21,
   "metadata": {},
   "outputs": [
    {
     "name": "stdout",
     "output_type": "stream",
     "text": [
      "\n",
      "    Some important statistics:\n",
      "    +-------+------+------------+\n",
      "    | eBird | 2019 | 8,694,926 |\n",
      "    | eBird | 2022 | 12,673,675 |\n",
      "    | iNat  | 2019 | 3,321,454 |\n",
      "    | iNat  | 2022 | 6,686,625 |\n",
      "\n"
     ]
    }
   ],
   "source": [
    "print(f\"\"\"\n",
    "    Some important statistics:\n",
    "    +-------+------+------------+\n",
    "    | eBird | 2019 | {df_eBird2.shape[0]:,} |\n",
    "    | eBird | 2022 | {df_eBird2_22.shape[0]:,} |\n",
    "    | iNat  | 2019 | {df_iNat2.shape[0]:,} |\n",
    "    | iNat  | 2022 | {df_iNat2_22.shape[0]:,} |\n",
    "\"\"\")"
   ]
  },
  {
   "cell_type": "code",
   "execution_count": 22,
   "metadata": {},
   "outputs": [
    {
     "name": "stdout",
     "output_type": "stream",
     "text": [
      "\n",
      "    Some important statistics:\n",
      "    +-------+------+-----------------+---------------+\n",
      "    | data  | year | category        | value         |\n",
      "    | eBird | 2019 | nunique species | 1,088 |\n",
      "    | eBird | 2022 | nunique species | 1,108 |\n",
      "    | iNat  | 2019 | nunique species | 49,685 |\n",
      "    | iNat  | 2022 | nunique species | 58,267 |\n",
      "\n"
     ]
    }
   ],
   "source": [
    "print(f\"\"\"\n",
    "    Some important statistics:\n",
    "    +-------+------+-----------------+---------------+\n",
    "    | data  | year | category        | value         |\n",
    "    | eBird | 2019 | nunique species | {df_eBird2['TAXON CONCEPT ID'].nunique():,} |\n",
    "    | eBird | 2022 | nunique species | {df_eBird2_22['TAXON CONCEPT ID'].nunique():,} |\n",
    "    | iNat  | 2019 | nunique species | {df_iNat2['taxonID'].nunique():,} |\n",
    "    | iNat  | 2022 | nunique species | {df_iNat2_22['taxonID'].nunique():,} |\n",
    "\"\"\")"
   ]
  },
  {
   "cell_type": "code",
   "execution_count": 23,
   "metadata": {},
   "outputs": [],
   "source": [
    "df_eBird_median_by_species = df_eBird2[df_eBird2['OBSERVATION COUNT']!='X'].groupby('AVIBASEID')['OBSERVATION COUNT'].median().to_dict()\n",
    "df_eBird_median_by_species_22 = df_eBird2_22[df_eBird2_22['OBSERVATION COUNT']!='X'].groupby('AVIBASEID')['OBSERVATION COUNT'].median().to_dict()"
   ]
  },
  {
   "cell_type": "code",
   "execution_count": 24,
   "metadata": {},
   "outputs": [],
   "source": [
    "df_eBird2['OBSCOUNT'] = df_eBird2[['AVIBASEID','OBSERVATION COUNT']].apply(\n",
    "    lambda row: (df_eBird_median_by_species[row['AVIBASEID']] if row['AVIBASEID'] in df_eBird_median_by_species else 1) if row['OBSERVATION COUNT'] == 'X' else row['OBSERVATION COUNT'],\n",
    "    axis=1\n",
    ")\n",
    "df_eBird2_22['OBSCOUNT'] = df_eBird2_22[['AVIBASEID','OBSERVATION COUNT']].apply(\n",
    "    lambda row: (df_eBird_median_by_species[row['AVIBASEID']] if row['AVIBASEID'] in df_eBird_median_by_species else 1) if row['OBSERVATION COUNT'] == 'X' else row['OBSERVATION COUNT'],\n",
    "    axis=1\n",
    ")"
   ]
  },
  {
   "cell_type": "code",
   "execution_count": 25,
   "metadata": {},
   "outputs": [],
   "source": [
    "df_eBird2['OBSCOUNT'] = df_eBird2['OBSCOUNT'].astype(float)\n",
    "df_eBird2_22['OBSCOUNT'] = df_eBird2_22['OBSCOUNT'].astype(float)"
   ]
  },
  {
   "cell_type": "code",
   "execution_count": 26,
   "metadata": {},
   "outputs": [
    {
     "name": "stdout",
     "output_type": "stream",
     "text": [
      "\n",
      "    Some important statistics:\n",
      "    +-------+------+----------+---------------+----------------+\n",
      "    | data  | year | category |  value  \t| increase (%) \t|\n",
      "    | eBird | 2019 | num rows | 8,694,926 \t|     NaN \t|\n",
      "    | eBird | 2022 | num rows | 12,673,675 \t| 45.7594\t |\n",
      "    | eBird | 2019 | agg rows | 255,405,907.5 \t|     NaN \t|\n",
      "    | eBird | 2022 | agg rows | 372,180,164.5 \t| 45.7210\t |\n",
      "    | iNat  | 2019 | num rows | 3,321,454 \t|     NaN \t|\n",
      "    | iNat  | 2022 | num rows | 6,686,625 \t| 101.3162\t |\n",
      "\n"
     ]
    }
   ],
   "source": [
    "print(f\"\"\"\n",
    "    Some important statistics:\n",
    "    +-------+------+----------+---------------+----------------+\n",
    "    | data  | year | category |  value  \\t| increase (%) \\t|\n",
    "    | eBird | 2019 | num rows | {df_eBird2.shape[0]:,} \\t|     NaN \\t|\n",
    "    | eBird | 2022 | num rows | {df_eBird2_22.shape[0]:,} \\t| {100*(df_eBird2_22.shape[0]-df_eBird2.shape[0])/df_eBird2.shape[0]:.4f}\\t |\n",
    "    | eBird | 2019 | agg rows | {df_eBird2['OBSCOUNT'].sum():,} \\t|     NaN \\t|\n",
    "    | eBird | 2022 | agg rows | {df_eBird2_22['OBSCOUNT'].sum():,} \\t| {100*(df_eBird2_22['OBSCOUNT'].sum() - df_eBird2['OBSCOUNT'].sum())/df_eBird2['OBSCOUNT'].sum():.4f}\\t |\n",
    "    | iNat  | 2019 | num rows | {df_iNat2.shape[0]:,} \\t|     NaN \\t|\n",
    "    | iNat  | 2022 | num rows | {df_iNat2_22.shape[0]:,} \\t| {100*(df_iNat2_22.shape[0]-df_iNat2.shape[0])/df_iNat2.shape[0]:.4f}\\t |\n",
    "\"\"\")"
   ]
  },
  {
   "cell_type": "markdown",
   "metadata": {},
   "source": [
    "# Beginning the filtering"
   ]
  },
  {
   "cell_type": "code",
   "execution_count": 27,
   "metadata": {},
   "outputs": [],
   "source": [
    "df_eBird3 = df_eBird2[\n",
    "    (df_eBird2['LATITUDE']>=36.4701132878)\n",
    "    &\n",
    "    (df_eBird2['LATITUDE']<=42.009518)\n",
    "    &\n",
    "    (df_eBird2['LONGITUDE']>= -124.409591)\n",
    "    &\n",
    "    (df_eBird2['LONGITUDE']<= -114.131211)\n",
    "].copy()\n",
    "df_eBird3_22 = df_eBird2_22[\n",
    "    (df_eBird2_22['LATITUDE']>=36.4701132878)\n",
    "    &\n",
    "    (df_eBird2_22['LATITUDE']<=42.009518)\n",
    "    &\n",
    "    (df_eBird2_22['LONGITUDE']>= -124.409591)\n",
    "    &\n",
    "    (df_eBird2_22['LONGITUDE']<= -114.131211)\n",
    "].copy()"
   ]
  },
  {
   "cell_type": "code",
   "execution_count": 28,
   "metadata": {},
   "outputs": [],
   "source": [
    "df_eBird3['observation_datetime'] = pd.to_datetime(df_eBird3['OBSERVATION DATE'])\n",
    "df_eBird3_22['observation_datetime'] = pd.to_datetime(df_eBird3_22['OBSERVATION DATE'])"
   ]
  },
  {
   "cell_type": "code",
   "execution_count": 29,
   "metadata": {},
   "outputs": [
    {
     "name": "stderr",
     "output_type": "stream",
     "text": [
      "/var/folders/ms/2ygwp03d4b5526gc0h51spqh0000gn/T/ipykernel_11745/1873497601.py:1: FutureWarning: Series.dt.weekofyear and Series.dt.week have been deprecated. Please use Series.dt.isocalendar().week instead.\n",
      "  df_eBird3['WEEK'] = df_eBird3['observation_datetime'].dt.week\n",
      "/var/folders/ms/2ygwp03d4b5526gc0h51spqh0000gn/T/ipykernel_11745/1873497601.py:2: FutureWarning: Series.dt.weekofyear and Series.dt.week have been deprecated. Please use Series.dt.isocalendar().week instead.\n",
      "  df_eBird3_22['WEEK'] = df_eBird3_22['observation_datetime'].dt.week\n"
     ]
    }
   ],
   "source": [
    "df_eBird3['WEEK'] = df_eBird3['observation_datetime'].dt.week\n",
    "df_eBird3_22['WEEK'] = df_eBird3_22['observation_datetime'].dt.week"
   ]
  },
  {
   "cell_type": "code",
   "execution_count": 30,
   "metadata": {},
   "outputs": [],
   "source": [
    "df_eBird3['YEAR'] = df_eBird3['observation_datetime'].dt.year\n",
    "df_eBird3_22['YEAR'] = df_eBird3_22['observation_datetime'].dt.year"
   ]
  },
  {
   "cell_type": "code",
   "execution_count": 31,
   "metadata": {},
   "outputs": [
    {
     "data": {
      "text/plain": [
       "(US    3321452\n",
       " Name: countryCode, dtype: int64,\n",
       " US    6686625\n",
       " Name: countryCode, dtype: int64)"
      ]
     },
     "execution_count": 31,
     "metadata": {},
     "output_type": "execute_result"
    }
   ],
   "source": [
    "df_iNat2['countryCode'].value_counts(),\\\n",
    "df_iNat2_22['countryCode'].value_counts()"
   ]
  },
  {
   "cell_type": "code",
   "execution_count": 32,
   "metadata": {},
   "outputs": [],
   "source": [
    "df_iNat2['observation_dt'] = pd.to_datetime(df_iNat2['eventDate'])\n",
    "df_iNat2_22['observation_dt'] = pd.to_datetime(df_iNat2_22['eventDate'])"
   ]
  },
  {
   "cell_type": "code",
   "execution_count": 33,
   "metadata": {},
   "outputs": [],
   "source": [
    "df_iNat3 = df_iNat2[df_iNat2['stateProvince'] == 'California'].copy()\n",
    "df_iNat3_22 = df_iNat2_22[df_iNat2_22['stateProvince'] == 'California'].copy()"
   ]
  },
  {
   "cell_type": "code",
   "execution_count": 34,
   "metadata": {},
   "outputs": [],
   "source": [
    "df_iNat3['decimalLatitude'] = df_iNat3['decimalLatitude'].astype(float)\n",
    "df_iNat3['decimalLongitude'] = df_iNat3['decimalLongitude'].astype(float)\n",
    "df_iNat3_22['decimalLatitude'] = df_iNat3_22['decimalLatitude'].astype(float)\n",
    "df_iNat3_22['decimalLongitude'] = df_iNat3_22['decimalLongitude'].astype(float)"
   ]
  },
  {
   "cell_type": "code",
   "execution_count": 35,
   "metadata": {},
   "outputs": [],
   "source": [
    "df_iNat4 = df_iNat3[\n",
    "    (df_iNat3['decimalLatitude']>=36.4701132878)\n",
    "    &\n",
    "    (df_iNat3['decimalLatitude']<=42.009518)\n",
    "    &\n",
    "    (df_iNat3['decimalLongitude']>= -124.409591)\n",
    "    &\n",
    "    (df_iNat3['decimalLongitude']<= -114.131211)\n",
    "].copy()\n",
    "df_iNat4_22 = df_iNat3_22[\n",
    "    (df_iNat3_22['decimalLatitude']>=36.4701132878)\n",
    "    &\n",
    "    (df_iNat3_22['decimalLatitude']<=42.009518)\n",
    "    &\n",
    "    (df_iNat3_22['decimalLongitude']>= -124.409591)\n",
    "    &\n",
    "    (df_iNat3_22['decimalLongitude']<= -114.131211)\n",
    "].copy()"
   ]
  },
  {
   "cell_type": "code",
   "execution_count": 36,
   "metadata": {},
   "outputs": [
    {
     "name": "stderr",
     "output_type": "stream",
     "text": [
      "/var/folders/ms/2ygwp03d4b5526gc0h51spqh0000gn/T/ipykernel_11745/2923923569.py:2: FutureWarning: Series.dt.weekofyear and Series.dt.week have been deprecated. Please use Series.dt.isocalendar().week instead.\n",
      "  df_iNat4['WEEK'] = df_iNat4['observation_dt'].dt.week\n",
      "/var/folders/ms/2ygwp03d4b5526gc0h51spqh0000gn/T/ipykernel_11745/2923923569.py:4: FutureWarning: Series.dt.weekofyear and Series.dt.week have been deprecated. Please use Series.dt.isocalendar().week instead.\n",
      "  df_iNat4_22['WEEK'] = df_iNat4_22['observation_dt'].dt.week\n"
     ]
    }
   ],
   "source": [
    "df_iNat4['YEAR'] = df_iNat4['observation_dt'].dt.year\n",
    "df_iNat4['WEEK'] = df_iNat4['observation_dt'].dt.week\n",
    "df_iNat4_22['YEAR'] = df_iNat4_22['observation_dt'].dt.year\n",
    "df_iNat4_22['WEEK'] = df_iNat4_22['observation_dt'].dt.week"
   ]
  },
  {
   "cell_type": "code",
   "execution_count": 37,
   "metadata": {},
   "outputs": [
    {
     "name": "stdout",
     "output_type": "stream",
     "text": [
      "\n",
      "    Some important statistics after filtering\n",
      "\n",
      "    for geographic area:\n",
      "    +-------+------+---------------------+----------------------+----------------+\n",
      "    | data  | year |      category       |  value  \t\t| increase (%) \t|\n",
      "    +-------+------+---------------------+----------------------+----------------+\n",
      "    | eBird | 2019 |   num rows (all)    |   8,694,926 \t\t|     NaN \t|\n",
      "    | eBird | 2022 |   num rows (all)    |   12,673,675 \t| 45.7594\t|\n",
      "    | eBird | 2019 |   agg rows (all)    |   255,405,907.5 \t|     NaN \t|\n",
      "    | eBird | 2022 |   agg rows (all)    |   372,180,164.5 \t| 45.7210\t|\n",
      "    | iNat  | 2019 |   num rows (all)    |   3,321,454 \t\t|     NaN \t|\n",
      "    | iNat  | 2022 |   num rows (all)    |   6,686,625 \t\t| 101.3162\t|\n",
      "    | eBird | 2019 |   num rows (filt)   |   5,168,169 \t\t|     NaN \t|\n",
      "    | eBird | 2022 |   num rows (filt)   |   7,018,777 \t\t| 35.8078\t|\n",
      "    | eBird | 2019 |   agg rows (filt)   |   218,303,859.5 \t|     NaN \t|\n",
      "    | eBird | 2022 |   agg rows (filt)   |   318,394,691.0 \t| 45.8493\t|\n",
      "    | iNat  | 2019 |   num rows (filt)   |   363,386 \t \t|     NaN \t|\n",
      "    | iNat  | 2022 |   num rows (filt)   |   658,345 \t\t| 81.1696\t|\n",
      "    | eBird | 2019 | nunq species (all)  |   1,088 \t\t|\n",
      "    | eBird | 2022 | nunq species (all)  |   1,108 \t\t|\n",
      "    | iNat  | 2019 | nunq species (all)  |   49,685 \t\t|\n",
      "    | iNat  | 2022 | nunq species (all)  |   58,267 \t\t|\n",
      "    | eBird | 2019 | nunq species (fil)  |   918 \t\t|\n",
      "    | eBird | 2022 | nunq species (fil)  |   953 \t\t|\n",
      "    | iNat  | 2019 | nunq species (fil)  |   10,757 \t\t|\n",
      "    | iNat  | 2022 | nunq species (fil)  |   12,273 \t\t|\n",
      "\n"
     ]
    }
   ],
   "source": [
    "print(f\"\"\"\n",
    "    Some important statistics after filtering\\n\n",
    "    for geographic area:\n",
    "    +-------+------+---------------------+----------------------+----------------+\n",
    "    | data  | year |      category       |  value  \\t\\t| increase (%) \\t|\n",
    "    +-------+------+---------------------+----------------------+----------------+\n",
    "    | eBird | 2019 |   num rows (all)    |   {df_eBird2.shape[0]:,} \\t\\t|     NaN \\t|\n",
    "    | eBird | 2022 |   num rows (all)    |   {df_eBird2_22.shape[0]:,} \\t| {100*(df_eBird2_22.shape[0]-df_eBird2.shape[0])/df_eBird2.shape[0]:.4f}\\t|\n",
    "    | eBird | 2019 |   agg rows (all)    |   {df_eBird2['OBSCOUNT'].sum():,} \\t|     NaN \\t|\n",
    "    | eBird | 2022 |   agg rows (all)    |   {df_eBird2_22['OBSCOUNT'].sum():,} \\t| {100*(df_eBird2_22['OBSCOUNT'].sum() - df_eBird2['OBSCOUNT'].sum())/df_eBird2['OBSCOUNT'].sum():.4f}\\t|\n",
    "    | iNat  | 2019 |   num rows (all)    |   {df_iNat2.shape[0]:,} \\t\\t|     NaN \\t|\n",
    "    | iNat  | 2022 |   num rows (all)    |   {df_iNat2_22.shape[0]:,} \\t\\t| {100*(df_iNat2_22.shape[0]-df_iNat2.shape[0])/df_iNat2.shape[0]:.4f}\\t|\n",
    "    | eBird | 2019 |   num rows (filt)   |   {df_eBird3.shape[0]:,} \\t\\t|     NaN \\t|\n",
    "    | eBird | 2022 |   num rows (filt)   |   {df_eBird3_22.shape[0]:,} \\t\\t| {100*(df_eBird3_22.shape[0]-df_eBird3.shape[0])/df_eBird3.shape[0]:.4f}\\t|\n",
    "    | eBird | 2019 |   agg rows (filt)   |   {df_eBird3['OBSCOUNT'].sum():,} \\t|     NaN \\t|\n",
    "    | eBird | 2022 |   agg rows (filt)   |   {df_eBird3_22['OBSCOUNT'].sum():,} \\t| {100*(df_eBird3_22['OBSCOUNT'].sum() - df_eBird3['OBSCOUNT'].sum())/df_eBird3['OBSCOUNT'].sum():.4f}\\t|\n",
    "    | iNat  | 2019 |   num rows (filt)   |   {df_iNat4.shape[0]:,} \\t \\t|     NaN \\t|\n",
    "    | iNat  | 2022 |   num rows (filt)   |   {df_iNat4_22.shape[0]:,} \\t\\t| {100*(df_iNat4_22.shape[0]-df_iNat4.shape[0])/df_iNat4.shape[0]:.4f}\\t|\n",
    "    | eBird | 2019 | nunq species (all)  |   {df_eBird2['TAXON CONCEPT ID'].nunique():,} \\t\\t|\n",
    "    | eBird | 2022 | nunq species (all)  |   {df_eBird2_22['TAXON CONCEPT ID'].nunique():,} \\t\\t|\n",
    "    | iNat  | 2019 | nunq species (all)  |   {df_iNat2['taxonID'].nunique():,} \\t\\t|\n",
    "    | iNat  | 2022 | nunq species (all)  |   {df_iNat2_22['taxonID'].nunique():,} \\t\\t|\n",
    "    | eBird | 2019 | nunq species (fil)  |   {df_eBird3['TAXON CONCEPT ID'].nunique():,} \\t\\t|\n",
    "    | eBird | 2022 | nunq species (fil)  |   {df_eBird3_22['TAXON CONCEPT ID'].nunique():,} \\t\\t|\n",
    "    | iNat  | 2019 | nunq species (fil)  |   {df_iNat4['taxonID'].nunique():,} \\t\\t|\n",
    "    | iNat  | 2022 | nunq species (fil)  |   {df_iNat4_22['taxonID'].nunique():,} \\t\\t|\n",
    "\"\"\")"
   ]
  },
  {
   "cell_type": "markdown",
   "metadata": {},
   "source": [
    "# Merging iNat and eBird"
   ]
  },
  {
   "cell_type": "code",
   "execution_count": 38,
   "metadata": {},
   "outputs": [
    {
     "name": "stderr",
     "output_type": "stream",
     "text": [
      "/var/folders/ms/2ygwp03d4b5526gc0h51spqh0000gn/T/ipykernel_11745/2743186917.py:1: DtypeWarning: Columns (1) have mixed types. Specify dtype option on import or set low_memory=False.\n",
      "  df_tax_key = pd.read_csv('../data/query_taxonIDs_various.csv')\n"
     ]
    }
   ],
   "source": [
    "df_tax_key = pd.read_csv('../data/query_taxonIDs_various.csv')"
   ]
  },
  {
   "cell_type": "code",
   "execution_count": 39,
   "metadata": {},
   "outputs": [
    {
     "name": "stdout",
     "output_type": "stream",
     "text": [
      "<class 'pandas.core.frame.DataFrame'>\n",
      "RangeIndex: 830987 entries, 0 to 830986\n",
      "Data columns (total 5 columns):\n",
      " #   Column     Non-Null Count   Dtype  \n",
      "---  ------     --------------   -----  \n",
      " 0   item       830987 non-null  object \n",
      " 1   iNat_Tid   830987 non-null  object \n",
      " 2   ITIS_TSN   314392 non-null  float64\n",
      " 3   GBF_ID     809035 non-null  float64\n",
      " 4   avibaseid  8795 non-null    object \n",
      "dtypes: float64(2), object(3)\n",
      "memory usage: 31.7+ MB\n"
     ]
    }
   ],
   "source": [
    "df_tax_key.info()"
   ]
  },
  {
   "cell_type": "markdown",
   "metadata": {},
   "source": [
    "# Adding avibase-id to iNat"
   ]
  },
  {
   "cell_type": "code",
   "execution_count": 40,
   "metadata": {},
   "outputs": [],
   "source": [
    "df_tax_key_fil = df_tax_key[~df_tax_key['avibaseid'].isna()]"
   ]
  },
  {
   "cell_type": "code",
   "execution_count": 41,
   "metadata": {},
   "outputs": [],
   "source": [
    "df_tax_key_fil = df_tax_key_fil[df_tax_key_fil['iNat_Tid']!='Frank'].copy()"
   ]
  },
  {
   "cell_type": "code",
   "execution_count": 42,
   "metadata": {},
   "outputs": [],
   "source": [
    "df_tax_key_fil['iNat_Tid_num']= df_tax_key_fil['iNat_Tid'].astype(float)"
   ]
  },
  {
   "cell_type": "code",
   "execution_count": 43,
   "metadata": {},
   "outputs": [],
   "source": [
    "merge_process1 = df_iNat4.merge(right=df_tax_key_fil, how='left', left_on='taxonID', right_on='iNat_Tid_num')\n",
    "merge_process1_22 = df_iNat4_22.merge(right=df_tax_key_fil, how='left', left_on='taxonID', right_on='iNat_Tid_num')"
   ]
  },
  {
   "cell_type": "code",
   "execution_count": 44,
   "metadata": {},
   "outputs": [],
   "source": [
    "merge_process2 = [x[0:8] for x in merge_process1['avibaseid'].dropna().values]\n",
    "merge_process2_22 = [x[0:8] for x in merge_process1_22['avibaseid'].dropna().values]"
   ]
  },
  {
   "cell_type": "code",
   "execution_count": 45,
   "metadata": {},
   "outputs": [],
   "source": [
    "merge_process3 = list(set(merge_process2))\n",
    "merge_process3_22 = list(set(merge_process2))"
   ]
  },
  {
   "cell_type": "code",
   "execution_count": 46,
   "metadata": {},
   "outputs": [
    {
     "data": {
      "text/plain": [
       "(392, 392)"
      ]
     },
     "execution_count": 46,
     "metadata": {},
     "output_type": "execute_result"
    }
   ],
   "source": [
    "len(merge_process3), len(merge_process3_22)"
   ]
  },
  {
   "cell_type": "code",
   "execution_count": 47,
   "metadata": {},
   "outputs": [],
   "source": [
    "final_list_birds = [x for x in df_eBird3['AVIBASEID'].unique() if x in merge_process3]\n",
    "final_list_birds_22 = [x for x in df_eBird3_22['AVIBASEID'].unique() if x in merge_process3_22]"
   ]
  },
  {
   "cell_type": "code",
   "execution_count": 48,
   "metadata": {},
   "outputs": [
    {
     "data": {
      "text/plain": [
       "(353, 341)"
      ]
     },
     "execution_count": 48,
     "metadata": {},
     "output_type": "execute_result"
    }
   ],
   "source": [
    "len(final_list_birds), len(final_list_birds_22)"
   ]
  },
  {
   "cell_type": "markdown",
   "metadata": {},
   "source": [
    "### Interestingly enough the number of birds that are common in both iNat and Avibase have decreased! "
   ]
  },
  {
   "cell_type": "code",
   "execution_count": 49,
   "metadata": {},
   "outputs": [],
   "source": [
    "final_list_birds2_l = list(set(final_list_birds))\n",
    "final_list_birds2_s = set(final_list_birds)\n",
    "final_list_birds2_l_22 = list(set(final_list_birds_22))\n",
    "final_list_birds2_s_22 = set(final_list_birds_22)"
   ]
  },
  {
   "cell_type": "code",
   "execution_count": 50,
   "metadata": {},
   "outputs": [
    {
     "data": {
      "text/plain": [
       "(353, 341)"
      ]
     },
     "execution_count": 50,
     "metadata": {},
     "output_type": "execute_result"
    }
   ],
   "source": [
    "len(final_list_birds2_l), len(final_list_birds2_l_22)"
   ]
  },
  {
   "cell_type": "markdown",
   "metadata": {},
   "source": [
    "# Filtering only the relevant birds"
   ]
  },
  {
   "cell_type": "code",
   "execution_count": 51,
   "metadata": {},
   "outputs": [],
   "source": [
    "df_eBird4 = df_eBird3[df_eBird3['AVIBASEID'].isin(final_list_birds2_s)]\n",
    "df_eBird4_22 = df_eBird3_22[df_eBird3_22['AVIBASEID'].isin(final_list_birds2_s_22)]"
   ]
  },
  {
   "cell_type": "code",
   "execution_count": 52,
   "metadata": {},
   "outputs": [
    {
     "data": {
      "text/plain": [
       "((364365, 18), (660098, 18))"
      ]
     },
     "execution_count": 52,
     "metadata": {},
     "output_type": "execute_result"
    }
   ],
   "source": [
    "merge_process1.shape, merge_process1_22.shape"
   ]
  },
  {
   "cell_type": "code",
   "execution_count": 53,
   "metadata": {},
   "outputs": [],
   "source": [
    "df_iNat5 = merge_process1[~(merge_process1['avibaseid'].isna())].copy()\n",
    "df_iNat5_22 = merge_process1_22[~(merge_process1_22['avibaseid'].isna())].copy()"
   ]
  },
  {
   "cell_type": "code",
   "execution_count": 54,
   "metadata": {},
   "outputs": [],
   "source": [
    "df_iNat5['AVIBASEID'] = df_iNat5['avibaseid'].apply(lambda x: x[0:8])\n",
    "df_iNat5_22['AVIBASEID'] = df_iNat5_22['avibaseid'].apply(lambda x: x[0:8])"
   ]
  },
  {
   "cell_type": "code",
   "execution_count": 55,
   "metadata": {},
   "outputs": [],
   "source": [
    "df_iNat6 = df_iNat5.drop_duplicates().copy()\n",
    "df_iNat6_22 = df_iNat5_22.drop_duplicates().copy()"
   ]
  },
  {
   "cell_type": "code",
   "execution_count": 56,
   "metadata": {},
   "outputs": [],
   "source": [
    "df_iNat7 = df_iNat6[df_iNat6['AVIBASEID'].isin(final_list_birds2_s)]\n",
    "df_iNat7_22 = df_iNat6_22[df_iNat6_22['AVIBASEID'].isin(final_list_birds2_s_22)]"
   ]
  },
  {
   "cell_type": "markdown",
   "metadata": {},
   "source": [
    "# Adding Bird Name"
   ]
  },
  {
   "cell_type": "code",
   "execution_count": 57,
   "metadata": {},
   "outputs": [],
   "source": [
    "name_birds = df_eBird[['TAXON CONCEPT ID', 'COMMON NAME']]\n",
    "name_birds_22 = df_eBird_22[['TAXON CONCEPT ID', 'COMMON NAME']]"
   ]
  },
  {
   "cell_type": "code",
   "execution_count": 58,
   "metadata": {},
   "outputs": [],
   "source": [
    "name_birds2 = name_birds.drop_duplicates().copy()\n",
    "name_birds2_22 = name_birds_22.drop_duplicates().copy()"
   ]
  },
  {
   "cell_type": "code",
   "execution_count": 59,
   "metadata": {},
   "outputs": [
    {
     "data": {
      "text/plain": [
       "((1088, 2), (1108, 2))"
      ]
     },
     "execution_count": 59,
     "metadata": {},
     "output_type": "execute_result"
    }
   ],
   "source": [
    "name_birds2.shape, name_birds2_22.shape"
   ]
  },
  {
   "cell_type": "code",
   "execution_count": 60,
   "metadata": {},
   "outputs": [],
   "source": [
    "name_birds2['AVIBASEID'] = name_birds2['TAXON CONCEPT ID'].apply(lambda x: x[-8:])\n",
    "name_birds2_22['AVIBASEID'] = name_birds2_22['TAXON CONCEPT ID'].apply(lambda x: x[-8:])"
   ]
  },
  {
   "cell_type": "code",
   "execution_count": 61,
   "metadata": {},
   "outputs": [],
   "source": [
    "df_eBird5 = df_eBird4.merge(name_birds2, how='left', on='AVIBASEID')\n",
    "df_eBird5_22 = df_eBird4_22.merge(name_birds2_22, how='left', on='AVIBASEID')"
   ]
  },
  {
   "cell_type": "code",
   "execution_count": 62,
   "metadata": {},
   "outputs": [],
   "source": [
    "df_iNat8 = df_iNat7.merge(name_birds2, how='left', on='AVIBASEID')\n",
    "df_iNat8_22 = df_iNat7_22.merge(name_birds2_22, how='left', on='AVIBASEID')"
   ]
  },
  {
   "cell_type": "code",
   "execution_count": 63,
   "metadata": {},
   "outputs": [],
   "source": [
    "eBird_avibaseid_counts = df_eBird5.groupby(['AVIBASEID']).count()['STATE'].to_dict()\n",
    "eBird_avibaseid_counts_22 = df_eBird5_22.groupby(['AVIBASEID']).count()['STATE'].to_dict()"
   ]
  },
  {
   "cell_type": "code",
   "execution_count": 64,
   "metadata": {},
   "outputs": [],
   "source": [
    "iNat_avibaseid_counts = df_iNat8.groupby(\"AVIBASEID\").count()['stateProvince'].to_dict()\n",
    "iNat_avibaseid_counts_22 = df_iNat8_22.groupby(\"AVIBASEID\").count()['stateProvince'].to_dict()"
   ]
  },
  {
   "cell_type": "code",
   "execution_count": 65,
   "metadata": {},
   "outputs": [],
   "source": [
    "df_eBird5['COMMON NAME'] = df_eBird5['COMMON NAME_x']\n",
    "df_eBird5_22['COMMON NAME'] = df_eBird5_22['COMMON NAME_x']"
   ]
  },
  {
   "cell_type": "code",
   "execution_count": 66,
   "metadata": {},
   "outputs": [],
   "source": [
    "eBird_weekly_counts = df_eBird5.groupby(['AVIBASEID', 'COMMON NAME', 'WEEK']).count().reset_index()\n",
    "eBird_weekly_counts_22 = df_eBird5_22.groupby(['AVIBASEID', 'COMMON NAME', 'WEEK']).count().reset_index()"
   ]
  },
  {
   "cell_type": "code",
   "execution_count": 67,
   "metadata": {},
   "outputs": [],
   "source": [
    "eBird_weekly_counts2 = eBird_weekly_counts[['AVIBASEID', 'COMMON NAME', 'WEEK', 'COUNTRY']].copy()\n",
    "eBird_weekly_counts2_22 = eBird_weekly_counts_22[['AVIBASEID', 'COMMON NAME', 'WEEK', 'COUNTRY']].copy()"
   ]
  },
  {
   "cell_type": "code",
   "execution_count": 68,
   "metadata": {},
   "outputs": [
    {
     "data": {
      "text/html": [
       "<div>\n",
       "<style scoped>\n",
       "    .dataframe tbody tr th:only-of-type {\n",
       "        vertical-align: middle;\n",
       "    }\n",
       "\n",
       "    .dataframe tbody tr th {\n",
       "        vertical-align: top;\n",
       "    }\n",
       "\n",
       "    .dataframe thead th {\n",
       "        text-align: right;\n",
       "    }\n",
       "</style>\n",
       "<table border=\"1\" class=\"dataframe\">\n",
       "  <thead>\n",
       "    <tr style=\"text-align: right;\">\n",
       "      <th></th>\n",
       "      <th>AVIBASEID</th>\n",
       "      <th>COMMON NAME</th>\n",
       "      <th>WEEK</th>\n",
       "      <th>COUNTRY</th>\n",
       "    </tr>\n",
       "  </thead>\n",
       "  <tbody>\n",
       "    <tr>\n",
       "      <th>0</th>\n",
       "      <td>000482C9</td>\n",
       "      <td>Orchard Oriole</td>\n",
       "      <td>22</td>\n",
       "      <td>7</td>\n",
       "    </tr>\n",
       "    <tr>\n",
       "      <th>1</th>\n",
       "      <td>000482C9</td>\n",
       "      <td>Orchard Oriole</td>\n",
       "      <td>35</td>\n",
       "      <td>5</td>\n",
       "    </tr>\n",
       "    <tr>\n",
       "      <th>2</th>\n",
       "      <td>000482C9</td>\n",
       "      <td>Orchard Oriole</td>\n",
       "      <td>37</td>\n",
       "      <td>16</td>\n",
       "    </tr>\n",
       "    <tr>\n",
       "      <th>3</th>\n",
       "      <td>000482C9</td>\n",
       "      <td>Orchard Oriole</td>\n",
       "      <td>38</td>\n",
       "      <td>28</td>\n",
       "    </tr>\n",
       "    <tr>\n",
       "      <th>4</th>\n",
       "      <td>000482C9</td>\n",
       "      <td>Orchard Oriole</td>\n",
       "      <td>39</td>\n",
       "      <td>44</td>\n",
       "    </tr>\n",
       "    <tr>\n",
       "      <th>...</th>\n",
       "      <td>...</td>\n",
       "      <td>...</td>\n",
       "      <td>...</td>\n",
       "      <td>...</td>\n",
       "    </tr>\n",
       "    <tr>\n",
       "      <th>13827</th>\n",
       "      <td>FFF61080</td>\n",
       "      <td>Orange-crowned Warbler</td>\n",
       "      <td>48</td>\n",
       "      <td>173</td>\n",
       "    </tr>\n",
       "    <tr>\n",
       "      <th>13828</th>\n",
       "      <td>FFF61080</td>\n",
       "      <td>Orange-crowned Warbler</td>\n",
       "      <td>49</td>\n",
       "      <td>154</td>\n",
       "    </tr>\n",
       "    <tr>\n",
       "      <th>13829</th>\n",
       "      <td>FFF61080</td>\n",
       "      <td>Orange-crowned Warbler</td>\n",
       "      <td>50</td>\n",
       "      <td>332</td>\n",
       "    </tr>\n",
       "    <tr>\n",
       "      <th>13830</th>\n",
       "      <td>FFF61080</td>\n",
       "      <td>Orange-crowned Warbler</td>\n",
       "      <td>51</td>\n",
       "      <td>167</td>\n",
       "    </tr>\n",
       "    <tr>\n",
       "      <th>13831</th>\n",
       "      <td>FFF61080</td>\n",
       "      <td>Orange-crowned Warbler</td>\n",
       "      <td>52</td>\n",
       "      <td>446</td>\n",
       "    </tr>\n",
       "  </tbody>\n",
       "</table>\n",
       "<p>13832 rows × 4 columns</p>\n",
       "</div>"
      ],
      "text/plain": [
       "      AVIBASEID             COMMON NAME  WEEK  COUNTRY\n",
       "0      000482C9          Orchard Oriole    22        7\n",
       "1      000482C9          Orchard Oriole    35        5\n",
       "2      000482C9          Orchard Oriole    37       16\n",
       "3      000482C9          Orchard Oriole    38       28\n",
       "4      000482C9          Orchard Oriole    39       44\n",
       "...         ...                     ...   ...      ...\n",
       "13827  FFF61080  Orange-crowned Warbler    48      173\n",
       "13828  FFF61080  Orange-crowned Warbler    49      154\n",
       "13829  FFF61080  Orange-crowned Warbler    50      332\n",
       "13830  FFF61080  Orange-crowned Warbler    51      167\n",
       "13831  FFF61080  Orange-crowned Warbler    52      446\n",
       "\n",
       "[13832 rows x 4 columns]"
      ]
     },
     "execution_count": 68,
     "metadata": {},
     "output_type": "execute_result"
    }
   ],
   "source": [
    "eBird_weekly_counts2_22"
   ]
  },
  {
   "cell_type": "code",
   "execution_count": 69,
   "metadata": {},
   "outputs": [],
   "source": [
    "eBird_weekly_counts2.columns = [\n",
    "    'AVIBASEID', 'COMMON NAME', 'WEEK', 'COUNTS'\n",
    "]\n",
    "eBird_weekly_counts2_22.columns = [\n",
    "    'AVIBASEID', 'COMMON NAME', 'WEEK', 'COUNTS'\n",
    "]"
   ]
  },
  {
   "cell_type": "code",
   "execution_count": 70,
   "metadata": {},
   "outputs": [
    {
     "data": {
      "text/html": [
       "<div>\n",
       "<style scoped>\n",
       "    .dataframe tbody tr th:only-of-type {\n",
       "        vertical-align: middle;\n",
       "    }\n",
       "\n",
       "    .dataframe tbody tr th {\n",
       "        vertical-align: top;\n",
       "    }\n",
       "\n",
       "    .dataframe thead th {\n",
       "        text-align: right;\n",
       "    }\n",
       "</style>\n",
       "<table border=\"1\" class=\"dataframe\">\n",
       "  <thead>\n",
       "    <tr style=\"text-align: right;\">\n",
       "      <th></th>\n",
       "      <th>AVIBASEID</th>\n",
       "      <th>COMMON NAME</th>\n",
       "      <th>WEEK</th>\n",
       "      <th>COUNTS</th>\n",
       "    </tr>\n",
       "  </thead>\n",
       "  <tbody>\n",
       "    <tr>\n",
       "      <th>0</th>\n",
       "      <td>000482C9</td>\n",
       "      <td>Orchard Oriole</td>\n",
       "      <td>1</td>\n",
       "      <td>50</td>\n",
       "    </tr>\n",
       "    <tr>\n",
       "      <th>1</th>\n",
       "      <td>000482C9</td>\n",
       "      <td>Orchard Oriole</td>\n",
       "      <td>2</td>\n",
       "      <td>17</td>\n",
       "    </tr>\n",
       "    <tr>\n",
       "      <th>2</th>\n",
       "      <td>000482C9</td>\n",
       "      <td>Orchard Oriole</td>\n",
       "      <td>3</td>\n",
       "      <td>8</td>\n",
       "    </tr>\n",
       "    <tr>\n",
       "      <th>3</th>\n",
       "      <td>000482C9</td>\n",
       "      <td>Orchard Oriole</td>\n",
       "      <td>4</td>\n",
       "      <td>6</td>\n",
       "    </tr>\n",
       "    <tr>\n",
       "      <th>4</th>\n",
       "      <td>000482C9</td>\n",
       "      <td>Orchard Oriole</td>\n",
       "      <td>5</td>\n",
       "      <td>11</td>\n",
       "    </tr>\n",
       "    <tr>\n",
       "      <th>...</th>\n",
       "      <td>...</td>\n",
       "      <td>...</td>\n",
       "      <td>...</td>\n",
       "      <td>...</td>\n",
       "    </tr>\n",
       "    <tr>\n",
       "      <th>13675</th>\n",
       "      <td>FFF61080</td>\n",
       "      <td>Orange-crowned Warbler</td>\n",
       "      <td>48</td>\n",
       "      <td>135</td>\n",
       "    </tr>\n",
       "    <tr>\n",
       "      <th>13676</th>\n",
       "      <td>FFF61080</td>\n",
       "      <td>Orange-crowned Warbler</td>\n",
       "      <td>49</td>\n",
       "      <td>141</td>\n",
       "    </tr>\n",
       "    <tr>\n",
       "      <th>13677</th>\n",
       "      <td>FFF61080</td>\n",
       "      <td>Orange-crowned Warbler</td>\n",
       "      <td>50</td>\n",
       "      <td>227</td>\n",
       "    </tr>\n",
       "    <tr>\n",
       "      <th>13678</th>\n",
       "      <td>FFF61080</td>\n",
       "      <td>Orange-crowned Warbler</td>\n",
       "      <td>51</td>\n",
       "      <td>183</td>\n",
       "    </tr>\n",
       "    <tr>\n",
       "      <th>13679</th>\n",
       "      <td>FFF61080</td>\n",
       "      <td>Orange-crowned Warbler</td>\n",
       "      <td>52</td>\n",
       "      <td>228</td>\n",
       "    </tr>\n",
       "  </tbody>\n",
       "</table>\n",
       "<p>13680 rows × 4 columns</p>\n",
       "</div>"
      ],
      "text/plain": [
       "      AVIBASEID             COMMON NAME  WEEK  COUNTS\n",
       "0      000482C9          Orchard Oriole     1      50\n",
       "1      000482C9          Orchard Oriole     2      17\n",
       "2      000482C9          Orchard Oriole     3       8\n",
       "3      000482C9          Orchard Oriole     4       6\n",
       "4      000482C9          Orchard Oriole     5      11\n",
       "...         ...                     ...   ...     ...\n",
       "13675  FFF61080  Orange-crowned Warbler    48     135\n",
       "13676  FFF61080  Orange-crowned Warbler    49     141\n",
       "13677  FFF61080  Orange-crowned Warbler    50     227\n",
       "13678  FFF61080  Orange-crowned Warbler    51     183\n",
       "13679  FFF61080  Orange-crowned Warbler    52     228\n",
       "\n",
       "[13680 rows x 4 columns]"
      ]
     },
     "execution_count": 70,
     "metadata": {},
     "output_type": "execute_result"
    }
   ],
   "source": [
    "eBird_weekly_counts2"
   ]
  },
  {
   "cell_type": "code",
   "execution_count": 71,
   "metadata": {},
   "outputs": [],
   "source": [
    "eBird_weekly_counts2['REL_COUNTS'] = eBird_weekly_counts2.apply(\n",
    "    lambda row: row['COUNTS']/ eBird_avibaseid_counts[row['AVIBASEID']],\n",
    "    axis=1\n",
    ").copy()\n",
    "eBird_weekly_counts2_22['REL_COUNTS'] = eBird_weekly_counts2_22.apply(\n",
    "    lambda row: row['COUNTS']/ eBird_avibaseid_counts_22[row['AVIBASEID']],\n",
    "    axis=1\n",
    ").copy()"
   ]
  },
  {
   "cell_type": "code",
   "execution_count": 72,
   "metadata": {},
   "outputs": [
    {
     "data": {
      "text/plain": [
       "353.0"
      ]
     },
     "execution_count": 72,
     "metadata": {},
     "output_type": "execute_result"
    }
   ],
   "source": [
    "eBird_weekly_counts2['REL_COUNTS'].sum()"
   ]
  },
  {
   "cell_type": "code",
   "execution_count": 73,
   "metadata": {},
   "outputs": [
    {
     "data": {
      "text/plain": [
       "341.0"
      ]
     },
     "execution_count": 73,
     "metadata": {},
     "output_type": "execute_result"
    }
   ],
   "source": [
    "eBird_weekly_counts2_22['REL_COUNTS'].sum()"
   ]
  },
  {
   "cell_type": "code",
   "execution_count": null,
   "metadata": {},
   "outputs": [],
   "source": []
  },
  {
   "cell_type": "code",
   "execution_count": 74,
   "metadata": {},
   "outputs": [],
   "source": [
    "iNat_weekly_counts = df_iNat8.groupby(['AVIBASEID', 'COMMON NAME', 'WEEK']).count().reset_index()\n",
    "iNat_weekly_counts_22 = df_iNat8_22.groupby(['AVIBASEID', 'COMMON NAME', 'WEEK']).count().reset_index()"
   ]
  },
  {
   "cell_type": "code",
   "execution_count": 75,
   "metadata": {},
   "outputs": [],
   "source": [
    "iNat_weekly_counts2 = iNat_weekly_counts[['AVIBASEID', 'COMMON NAME', 'WEEK', 'countryCode']].copy()\n",
    "iNat_weekly_counts2_22 = iNat_weekly_counts_22[['AVIBASEID', 'COMMON NAME', 'WEEK', 'countryCode']].copy()"
   ]
  },
  {
   "cell_type": "code",
   "execution_count": 76,
   "metadata": {},
   "outputs": [],
   "source": [
    "iNat_weekly_counts2.columns = [\n",
    "    'AVIBASEID', 'COMMON NAME', 'WEEK', 'COUNTS'\n",
    "]\n",
    "iNat_weekly_counts2_22.columns = [\n",
    "    'AVIBASEID', 'COMMON NAME', 'WEEK', 'COUNTS'\n",
    "]"
   ]
  },
  {
   "cell_type": "code",
   "execution_count": 77,
   "metadata": {},
   "outputs": [
    {
     "data": {
      "text/html": [
       "<div>\n",
       "<style scoped>\n",
       "    .dataframe tbody tr th:only-of-type {\n",
       "        vertical-align: middle;\n",
       "    }\n",
       "\n",
       "    .dataframe tbody tr th {\n",
       "        vertical-align: top;\n",
       "    }\n",
       "\n",
       "    .dataframe thead th {\n",
       "        text-align: right;\n",
       "    }\n",
       "</style>\n",
       "<table border=\"1\" class=\"dataframe\">\n",
       "  <thead>\n",
       "    <tr style=\"text-align: right;\">\n",
       "      <th></th>\n",
       "      <th>AVIBASEID</th>\n",
       "      <th>COMMON NAME</th>\n",
       "      <th>WEEK</th>\n",
       "      <th>COUNTS</th>\n",
       "    </tr>\n",
       "  </thead>\n",
       "  <tbody>\n",
       "    <tr>\n",
       "      <th>0</th>\n",
       "      <td>000482C9</td>\n",
       "      <td>Orchard Oriole</td>\n",
       "      <td>1</td>\n",
       "      <td>1</td>\n",
       "    </tr>\n",
       "    <tr>\n",
       "      <th>1</th>\n",
       "      <td>000482C9</td>\n",
       "      <td>Orchard Oriole</td>\n",
       "      <td>2</td>\n",
       "      <td>2</td>\n",
       "    </tr>\n",
       "    <tr>\n",
       "      <th>2</th>\n",
       "      <td>000482C9</td>\n",
       "      <td>Orchard Oriole</td>\n",
       "      <td>9</td>\n",
       "      <td>1</td>\n",
       "    </tr>\n",
       "    <tr>\n",
       "      <th>3</th>\n",
       "      <td>000482C9</td>\n",
       "      <td>Orchard Oriole</td>\n",
       "      <td>38</td>\n",
       "      <td>1</td>\n",
       "    </tr>\n",
       "    <tr>\n",
       "      <th>4</th>\n",
       "      <td>000482C9</td>\n",
       "      <td>Orchard Oriole</td>\n",
       "      <td>40</td>\n",
       "      <td>2</td>\n",
       "    </tr>\n",
       "    <tr>\n",
       "      <th>...</th>\n",
       "      <td>...</td>\n",
       "      <td>...</td>\n",
       "      <td>...</td>\n",
       "      <td>...</td>\n",
       "    </tr>\n",
       "    <tr>\n",
       "      <th>8848</th>\n",
       "      <td>FFF61080</td>\n",
       "      <td>Orange-crowned Warbler</td>\n",
       "      <td>48</td>\n",
       "      <td>1</td>\n",
       "    </tr>\n",
       "    <tr>\n",
       "      <th>8849</th>\n",
       "      <td>FFF61080</td>\n",
       "      <td>Orange-crowned Warbler</td>\n",
       "      <td>49</td>\n",
       "      <td>2</td>\n",
       "    </tr>\n",
       "    <tr>\n",
       "      <th>8850</th>\n",
       "      <td>FFF61080</td>\n",
       "      <td>Orange-crowned Warbler</td>\n",
       "      <td>50</td>\n",
       "      <td>4</td>\n",
       "    </tr>\n",
       "    <tr>\n",
       "      <th>8851</th>\n",
       "      <td>FFF61080</td>\n",
       "      <td>Orange-crowned Warbler</td>\n",
       "      <td>51</td>\n",
       "      <td>1</td>\n",
       "    </tr>\n",
       "    <tr>\n",
       "      <th>8852</th>\n",
       "      <td>FFF61080</td>\n",
       "      <td>Orange-crowned Warbler</td>\n",
       "      <td>52</td>\n",
       "      <td>4</td>\n",
       "    </tr>\n",
       "  </tbody>\n",
       "</table>\n",
       "<p>8853 rows × 4 columns</p>\n",
       "</div>"
      ],
      "text/plain": [
       "     AVIBASEID             COMMON NAME  WEEK  COUNTS\n",
       "0     000482C9          Orchard Oriole     1       1\n",
       "1     000482C9          Orchard Oriole     2       2\n",
       "2     000482C9          Orchard Oriole     9       1\n",
       "3     000482C9          Orchard Oriole    38       1\n",
       "4     000482C9          Orchard Oriole    40       2\n",
       "...        ...                     ...   ...     ...\n",
       "8848  FFF61080  Orange-crowned Warbler    48       1\n",
       "8849  FFF61080  Orange-crowned Warbler    49       2\n",
       "8850  FFF61080  Orange-crowned Warbler    50       4\n",
       "8851  FFF61080  Orange-crowned Warbler    51       1\n",
       "8852  FFF61080  Orange-crowned Warbler    52       4\n",
       "\n",
       "[8853 rows x 4 columns]"
      ]
     },
     "execution_count": 77,
     "metadata": {},
     "output_type": "execute_result"
    }
   ],
   "source": [
    "iNat_weekly_counts2"
   ]
  },
  {
   "cell_type": "code",
   "execution_count": 78,
   "metadata": {},
   "outputs": [],
   "source": [
    "iNat_weekly_counts2['REL_COUNTS'] = iNat_weekly_counts2.apply(\n",
    "    lambda row: row['COUNTS']/ iNat_avibaseid_counts[row['AVIBASEID']],\n",
    "    axis=1\n",
    ").copy()\n",
    "iNat_weekly_counts2_22['REL_COUNTS'] = iNat_weekly_counts2_22.apply(\n",
    "    lambda row: row['COUNTS']/ iNat_avibaseid_counts_22[row['AVIBASEID']],\n",
    "    axis=1\n",
    ").copy()"
   ]
  },
  {
   "cell_type": "code",
   "execution_count": 79,
   "metadata": {},
   "outputs": [
    {
     "data": {
      "text/plain": [
       "352.99999999999994"
      ]
     },
     "execution_count": 79,
     "metadata": {},
     "output_type": "execute_result"
    }
   ],
   "source": [
    "iNat_weekly_counts2['REL_COUNTS'].sum()"
   ]
  },
  {
   "cell_type": "code",
   "execution_count": 80,
   "metadata": {},
   "outputs": [
    {
     "name": "stderr",
     "output_type": "stream",
     "text": [
      "/var/folders/ms/2ygwp03d4b5526gc0h51spqh0000gn/T/ipykernel_11745/351623232.py:1: FutureWarning: The default value of numeric_only in DataFrameGroupBy.sum is deprecated. In a future version, numeric_only will default to False. Either specify numeric_only or select only columns which should be valid for the function.\n",
      "  iNat_weekly_counts2.groupby(['AVIBASEID']).sum()['COUNTS'].values\n"
     ]
    },
    {
     "data": {
      "text/plain": [
       "array([   8,  606,   98,  201,  121,   12,    9,   45,  115,  179,    4,\n",
       "         10,  235,  200,  197,    5,    1,   44,  176,  267,   83,    1,\n",
       "          2,  193,  311,   41,    3,    1,    6,  252,   78,   10,   28,\n",
       "         17,   45,   66,   32,    3, 1260,  121,   44,   30,   20,   40,\n",
       "         12,    5,  149,  266,    5,   33,    1,  284,   40,    2,   11,\n",
       "        205,    5,    3,    8,  146,  608,  677,  269,  347,  396,  438,\n",
       "          8,   45,  140,    6,  182,  188,  383,   23,    4,    4,   19,\n",
       "         40,    9,   23,  157,   81,   27,   13,    1,  211,  496,  236,\n",
       "        251,  127,    9, 1160,   76,    9,   32,  195,    3,  961,   41,\n",
       "         75,  132,   88,  326,    1,    1,   46,    6, 1931,   76,  248,\n",
       "          6,    5, 1537,   16,  358,   16,   38,   49,    6,    4,    8,\n",
       "          2,    2,   88,  140,  428,  185,    9, 2342,  170,   41,    3,\n",
       "         26,  961,  281, 1279,   15,   50,  364,   21,   35,  219,    6,\n",
       "        145,   64,  418,  145,  320,    1,   22,    1,   27,    3,  376,\n",
       "        101,  375,    4,   64,  771,   14,   88,  105,    1,    1,   12,\n",
       "        473,    3,   18,  433,  212,   86,   88,   63,  150,  196,    3,\n",
       "         27,    2,    1,    3,  225,  870,  162,  491,  472,   64,  202,\n",
       "          3,   44, 1828, 1539,    5,  480,  293,   28,    9,    3,   50,\n",
       "          6, 1070,   57,    2,    1,   60,  517,   15,  157,   24,   95,\n",
       "         16,   18, 1454,    2,  293,   35,  416,   81,    2,  112,    5,\n",
       "         64,  144,    2,   22,   11,  612,    3,    1,  959, 1297,    1,\n",
       "        112,    1,  609,    9,  103,    4,    2,  441,    8,   45, 1098,\n",
       "          1,   17,   52, 1158,   31,   56, 1005,   14,    9,   30,  130,\n",
       "        326,  181, 1501,    8,   48,   58,  115, 1238,   21,  858,    7,\n",
       "         19,   41,    2,    3,  827,  150,  167,  102,  183,   18,  313,\n",
       "         29,  230,  834,   12,  623,  221,  354,  910,   57,    6,    2,\n",
       "         11,  352,  143,   24,    6,    1,   21,    1,  360,  239,  507,\n",
       "        122,    2,  160,  204,  280,    4,  152,    1,   17,   10,    9,\n",
       "         21,   25,    5,  112,  181,  213,   10,  203,    1,    1,   69,\n",
       "         54,  183,  535,   30, 1047,  745,   14,   32,  488,    2,  577,\n",
       "         23,  175,    2,   70,   33,    1,  667,  278,   67,  342,  136,\n",
       "         18,    8,    1,  306,  566,    9,  590,  352,  239,  276,  574,\n",
       "        191])"
      ]
     },
     "execution_count": 80,
     "metadata": {},
     "output_type": "execute_result"
    }
   ],
   "source": [
    "iNat_weekly_counts2.groupby(['AVIBASEID']).sum()['COUNTS'].values"
   ]
  },
  {
   "cell_type": "code",
   "execution_count": 81,
   "metadata": {},
   "outputs": [
    {
     "name": "stderr",
     "output_type": "stream",
     "text": [
      "/var/folders/ms/2ygwp03d4b5526gc0h51spqh0000gn/T/ipykernel_11745/3697873596.py:2: FutureWarning: The default value of numeric_only in DataFrameGroupBy.sum is deprecated. In a future version, numeric_only will default to False. Either specify numeric_only or select only columns which should be valid for the function.\n",
      "  .groupby(['AVIBASEID']).sum()['COUNTS']\\\n",
      "/var/folders/ms/2ygwp03d4b5526gc0h51spqh0000gn/T/ipykernel_11745/3697873596.py:4: FutureWarning: The default value of numeric_only in DataFrameGroupBy.sum is deprecated. In a future version, numeric_only will default to False. Either specify numeric_only or select only columns which should be valid for the function.\n",
      "  .sum()['COUNTS'].values)>=50].sort_values()[0:10]\n"
     ]
    },
    {
     "data": {
      "text/plain": [
       "AVIBASEID\n",
       "88AB027C    50\n",
       "58312873    50\n",
       "A8C34DC9    52\n",
       "E53FC25C    54\n",
       "AC1E519F    56\n",
       "89F8B6F5    57\n",
       "BD929CBC    57\n",
       "B48335B1    58\n",
       "8DB64266    60\n",
       "7784B060    63\n",
       "Name: COUNTS, dtype: int64"
      ]
     },
     "execution_count": 81,
     "metadata": {},
     "output_type": "execute_result"
    }
   ],
   "source": [
    "iNat_weekly_counts2\\\n",
    "    .groupby(['AVIBASEID']).sum()['COUNTS']\\\n",
    "        [(iNat_weekly_counts2.groupby(['AVIBASEID'])\\\n",
    "        .sum()['COUNTS'].values)>=50].sort_values()[0:10]"
   ]
  },
  {
   "cell_type": "code",
   "execution_count": 82,
   "metadata": {},
   "outputs": [],
   "source": [
    "name_avID_dict = iNat_weekly_counts2.iloc[:, 0:2].drop_duplicates().copy().set_index('AVIBASEID')['COMMON NAME'].to_dict()\n",
    "name_avID_dict_22 = iNat_weekly_counts2_22.iloc[:, 0:2].drop_duplicates().copy().set_index('AVIBASEID')['COMMON NAME'].to_dict()"
   ]
  },
  {
   "cell_type": "code",
   "execution_count": 83,
   "metadata": {},
   "outputs": [],
   "source": [
    "eBird_curves_discrete = eBird_weekly_counts2.pivot_table(index='AVIBASEID', columns='WEEK', values='REL_COUNTS' )\n",
    "eBird_curves_discrete_22 = eBird_weekly_counts2_22.pivot_table(index='AVIBASEID', columns='WEEK', values='REL_COUNTS' )"
   ]
  },
  {
   "cell_type": "code",
   "execution_count": 84,
   "metadata": {},
   "outputs": [],
   "source": [
    "eBird_curves_discrete.fillna(value=0, inplace=True)\n",
    "eBird_curves_discrete_22.fillna(value=0, inplace=True)"
   ]
  },
  {
   "cell_type": "code",
   "execution_count": 85,
   "metadata": {},
   "outputs": [],
   "source": [
    "iNat_curves_discrete = iNat_weekly_counts2.pivot_table(index='AVIBASEID', columns='WEEK', values='REL_COUNTS' )\n",
    "iNat_curves_discrete_22 = iNat_weekly_counts2_22.pivot_table(index='AVIBASEID', columns='WEEK', values='REL_COUNTS' )"
   ]
  },
  {
   "cell_type": "code",
   "execution_count": 86,
   "metadata": {},
   "outputs": [],
   "source": [
    "iNat_curves_discrete.fillna(value=0, inplace=True)\n",
    "iNat_curves_discrete_22.fillna(value=0, inplace=True)"
   ]
  },
  {
   "cell_type": "code",
   "execution_count": 87,
   "metadata": {},
   "outputs": [
    {
     "data": {
      "text/plain": [
       "(353, 52)"
      ]
     },
     "execution_count": 87,
     "metadata": {},
     "output_type": "execute_result"
    }
   ],
   "source": [
    "iNat_curves_discrete.shape"
   ]
  },
  {
   "cell_type": "code",
   "execution_count": 88,
   "metadata": {},
   "outputs": [
    {
     "data": {
      "text/plain": [
       "(331, 52)"
      ]
     },
     "execution_count": 88,
     "metadata": {},
     "output_type": "execute_result"
    }
   ],
   "source": [
    "iNat_curves_discrete_22.shape"
   ]
  },
  {
   "cell_type": "code",
   "execution_count": 89,
   "metadata": {},
   "outputs": [
    {
     "data": {
      "text/plain": [
       "(353, 52)"
      ]
     },
     "execution_count": 89,
     "metadata": {},
     "output_type": "execute_result"
    }
   ],
   "source": [
    "eBird_curves_discrete.shape"
   ]
  },
  {
   "cell_type": "code",
   "execution_count": 90,
   "metadata": {},
   "outputs": [
    {
     "data": {
      "text/plain": [
       "(341, 52)"
      ]
     },
     "execution_count": 90,
     "metadata": {},
     "output_type": "execute_result"
    }
   ],
   "source": [
    "eBird_curves_discrete_22.shape"
   ]
  },
  {
   "cell_type": "code",
   "execution_count": 91,
   "metadata": {},
   "outputs": [],
   "source": [
    "common_birds_among_all = \\\n",
    "    set(iNat_curves_discrete.index).intersection(\n",
    "        set(iNat_curves_discrete_22.index).intersection(\n",
    "            set(eBird_curves_discrete.index).intersection(\n",
    "                set(eBird_curves_discrete_22.index)\n",
    "            )\n",
    "        )\n",
    "    )"
   ]
  },
  {
   "cell_type": "code",
   "execution_count": 92,
   "metadata": {},
   "outputs": [
    {
     "data": {
      "text/plain": [
       "331"
      ]
     },
     "execution_count": 92,
     "metadata": {},
     "output_type": "execute_result"
    }
   ],
   "source": [
    "len(common_birds_among_all)"
   ]
  },
  {
   "cell_type": "code",
   "execution_count": 93,
   "metadata": {},
   "outputs": [],
   "source": [
    "iNat_cd_22 = iNat_curves_discrete_22.loc[ list(common_birds_among_all) , :]"
   ]
  },
  {
   "cell_type": "code",
   "execution_count": 94,
   "metadata": {},
   "outputs": [],
   "source": [
    "iNat_cd_19 = iNat_curves_discrete.loc[ list(common_birds_among_all) , :]"
   ]
  },
  {
   "cell_type": "code",
   "execution_count": 95,
   "metadata": {},
   "outputs": [],
   "source": [
    "ebird_cd_22 = eBird_curves_discrete_22.loc[ list(common_birds_among_all) , :]\n",
    "ebird_cd_19 = eBird_curves_discrete.loc[ list(common_birds_among_all) , :]"
   ]
  },
  {
   "cell_type": "code",
   "execution_count": 96,
   "metadata": {},
   "outputs": [
    {
     "data": {
      "text/plain": [
       "40"
      ]
     },
     "execution_count": 96,
     "metadata": {},
     "output_type": "execute_result"
    }
   ],
   "source": [
    "sum(iNat_cd_19.loc[ '90B13ACF', :].values == 0.0)"
   ]
  },
  {
   "cell_type": "code",
   "execution_count": 97,
   "metadata": {},
   "outputs": [
    {
     "name": "stdout",
     "output_type": "stream",
     "text": [
      "bird = 'D204A930' has max_bird = 49\n",
      "bird = '4F28673C' has max_bird = 50\n",
      "bird = '95B77F08' has max_bird = 50\n",
      "bird = 'B7E467E2' has max_bird = 50\n",
      "bird = '3A3C62BC' has max_bird = 51\n",
      "bird = '8D6D5F2B' has max_bird = 51\n",
      "bird = 'C6772490' has max_bird = 51\n",
      "bird = '0BDB87DE' has max_bird = 51\n",
      "bird = 'BDBB04D5' has max_bird = 47\n",
      "bird = 'A1F323F5' has max_bird = 49\n",
      "bird = '7AB1229B' has max_bird = 51\n",
      "bird = '67CEA1C1' has max_bird = 50\n",
      "bird = '08F22F84' has max_bird = 51\n",
      "bird = '4D2FF6F1' has max_bird = 48\n",
      "bird = '86182656' has max_bird = 48\n",
      "bird = '709AF716' has max_bird = 50\n",
      "bird = 'D4540F88' has max_bird = 51\n",
      "bird = 'C53F4940' has max_bird = 51\n",
      "bird = '1F1AD154' has max_bird = 49\n",
      "bird = 'E36325FA' has max_bird = 51\n",
      "bird = '420850D6' has max_bird = 47\n",
      "bird = 'E366AB90' has max_bird = 51\n",
      "bird = '1E82CE1E' has max_bird = 50\n",
      "bird = '544A5E6B' has max_bird = 50\n",
      "bird = '295C4CD6' has max_bird = 51\n",
      "bird = '24E39ACD' has max_bird = 48\n",
      "bird = '000482C9' has max_bird = 49\n",
      "bird = 'ECDE73F2' has max_bird = 51\n",
      "bird = '486265CF' has max_bird = 49\n",
      "bird = '2B46719D' has max_bird = 49\n",
      "bird = 'CEA5B6AA' has max_bird = 50\n",
      "bird = '043F337A' has max_bird = 50\n",
      "bird = '6A7F76A7' has max_bird = 50\n",
      "bird = '4D207AF6' has max_bird = 48\n",
      "bird = '26BA25EF' has max_bird = 48\n",
      "bird = '9BEBC025' has max_bird = 51\n",
      "bird = '1FFFEF4E' has max_bird = 50\n",
      "bird = '5EC21767' has max_bird = 47\n",
      "bird = '1BB9C864' has max_bird = 50\n",
      "bird = 'A59FA446' has max_bird = 47\n",
      "bird = '115AF02D' has max_bird = 47\n",
      "bird = '9690689D' has max_bird = 50\n",
      "bird = '62CA2AF8' has max_bird = 51\n",
      "bird = '6D2B5CDA' has max_bird = 51\n",
      "bird = '4168AF09' has max_bird = 51\n",
      "bird = 'F5837054' has max_bird = 51\n",
      "bird = 'B1F0CC82' has max_bird = 47\n",
      "bird = 'F35821AA' has max_bird = 50\n",
      "bird = '891798D9' has max_bird = 47\n",
      "bird = '83F9C058' has max_bird = 51\n",
      "bird = '0A4609D1' has max_bird = 47\n",
      "bird = '7CB8F5B7' has max_bird = 49\n",
      "bird = '07C11CF3' has max_bird = 49\n",
      "bird = '41062654' has max_bird = 51\n",
      "bird = '12D5BA6C' has max_bird = 51\n",
      "bird = '79F3C681' has max_bird = 51\n",
      "bird = 'A6905B3C' has max_bird = 51\n",
      "bird = '9FFEDE99' has max_bird = 51\n",
      "bird = 'A8C34DC9' has max_bird = 51\n",
      "bird = '145F1116' has max_bird = 49\n",
      "bird = '6CDC3C9C' has max_bird = 51\n",
      "bird = '87CBEBF7' has max_bird = 49\n",
      "bird = '9BE68BD3' has max_bird = 49\n",
      "bird = 'A0F29F1E' has max_bird = 47\n",
      "bird = '56036504' has max_bird = 50\n",
      "bird = '18A19380' has max_bird = 49\n",
      "bird = '4FF7DE80' has max_bird = 51\n",
      "bird = '4AED44E8' has max_bird = 51\n",
      "bird = 'B86C504C' has max_bird = 49\n",
      "bird = '46B54DB1' has max_bird = 47\n",
      "bird = '1044B438' has max_bird = 49\n"
     ]
    }
   ],
   "source": [
    "common_birds_among_all_filter = []\n",
    "for bird in common_birds_among_all:\n",
    "    bird_int_19 = sum(iNat_cd_19.loc[ bird, :].values == 0.0)\n",
    "    bird_int_22 = sum(iNat_cd_22.loc[ bird, :].values == 0.0)\n",
    "    bird_ebd_19 = sum(ebird_cd_19.loc[ bird, :].values == 0.0)\n",
    "    bird_ebd_22 = sum(ebird_cd_22.loc[ bird, :].values == 0.0)\n",
    "    max_bird = max(\n",
    "        bird_ebd_19,\n",
    "        bird_ebd_22,\n",
    "        bird_int_19,\n",
    "        bird_int_22\n",
    "    )\n",
    "    if max_bird > 46:\n",
    "        print(f\"{bird = } has {max_bird = }\")\n",
    "        continue\n",
    "    common_birds_among_all_filter.append(bird)"
   ]
  },
  {
   "cell_type": "code",
   "execution_count": 98,
   "metadata": {},
   "outputs": [
    {
     "data": {
      "text/plain": [
       "260"
      ]
     },
     "execution_count": 98,
     "metadata": {},
     "output_type": "execute_result"
    }
   ],
   "source": [
    "len(common_birds_among_all_filter)"
   ]
  },
  {
   "cell_type": "code",
   "execution_count": 99,
   "metadata": {},
   "outputs": [
    {
     "data": {
      "text/plain": [
       "{'000482C9',\n",
       " '043F337A',\n",
       " '07C11CF3',\n",
       " '08F22F84',\n",
       " '0A4609D1',\n",
       " '0BDB87DE',\n",
       " '1044B438',\n",
       " '115AF02D',\n",
       " '12D5BA6C',\n",
       " '145F1116',\n",
       " '18A19380',\n",
       " '1BB9C864',\n",
       " '1E82CE1E',\n",
       " '1F1AD154',\n",
       " '1FFFEF4E',\n",
       " '24E39ACD',\n",
       " '26BA25EF',\n",
       " '295C4CD6',\n",
       " '2B46719D',\n",
       " '3A3C62BC',\n",
       " '41062654',\n",
       " '4168AF09',\n",
       " '420850D6',\n",
       " '46B54DB1',\n",
       " '486265CF',\n",
       " '4AED44E8',\n",
       " '4D207AF6',\n",
       " '4D2FF6F1',\n",
       " '4F28673C',\n",
       " '4FF7DE80',\n",
       " '544A5E6B',\n",
       " '56036504',\n",
       " '5EC21767',\n",
       " '62CA2AF8',\n",
       " '67CEA1C1',\n",
       " '6A7F76A7',\n",
       " '6CDC3C9C',\n",
       " '6D2B5CDA',\n",
       " '709AF716',\n",
       " '79F3C681',\n",
       " '7AB1229B',\n",
       " '7CB8F5B7',\n",
       " '83F9C058',\n",
       " '86182656',\n",
       " '87CBEBF7',\n",
       " '891798D9',\n",
       " '8D6D5F2B',\n",
       " '95B77F08',\n",
       " '9690689D',\n",
       " '9BE68BD3',\n",
       " '9BEBC025',\n",
       " '9FFEDE99',\n",
       " 'A0F29F1E',\n",
       " 'A1F323F5',\n",
       " 'A59FA446',\n",
       " 'A6905B3C',\n",
       " 'A8C34DC9',\n",
       " 'B1F0CC82',\n",
       " 'B7E467E2',\n",
       " 'B86C504C',\n",
       " 'BDBB04D5',\n",
       " 'C53F4940',\n",
       " 'C6772490',\n",
       " 'CEA5B6AA',\n",
       " 'D204A930',\n",
       " 'D4540F88',\n",
       " 'E36325FA',\n",
       " 'E366AB90',\n",
       " 'ECDE73F2',\n",
       " 'F35821AA',\n",
       " 'F5837054'}"
      ]
     },
     "execution_count": 99,
     "metadata": {},
     "output_type": "execute_result"
    }
   ],
   "source": [
    "common_birds_among_all.difference(common_birds_among_all_filter)"
   ]
  },
  {
   "cell_type": "code",
   "execution_count": 100,
   "metadata": {},
   "outputs": [],
   "source": [
    "import scipy"
   ]
  },
  {
   "cell_type": "code",
   "execution_count": 101,
   "metadata": {},
   "outputs": [],
   "source": [
    "def function_smoothing(x, sigma=3):\n",
    "    y = scipy.ndimage.gaussian_filter(\n",
    "        x,\n",
    "        sigma\n",
    "    )\n",
    "    return y"
   ]
  },
  {
   "cell_type": "code",
   "execution_count": 102,
   "metadata": {},
   "outputs": [],
   "source": [
    "import matplotlib.pyplot as plt"
   ]
  },
  {
   "cell_type": "code",
   "execution_count": 103,
   "metadata": {},
   "outputs": [],
   "source": [
    "def make_smooth_curves(x, sigma=3, lims=(0,0.1)):\n",
    "    aviID = x\n",
    "    plt.ylim(lims)\n",
    "    y1_smoothed = function_smoothing(\n",
    "        iNat_curves_discrete.loc[aviID, :],\n",
    "        sigma=sigma\n",
    "    )\n",
    "    y2_smoothed = function_smoothing(\n",
    "        eBird_curves_discrete.loc[aviID, :],\n",
    "        sigma=sigma\n",
    "    )\n",
    "    y1_smoothed_22 = function_smoothing(\n",
    "        iNat_curves_discrete_22.loc[aviID, :],\n",
    "        sigma=sigma\n",
    "    )\n",
    "    y2_smoothed_22 = function_smoothing(\n",
    "        eBird_curves_discrete_22.loc[aviID, :],\n",
    "        sigma=sigma\n",
    "    )\n",
    "    plt.plot(y1_smoothed, label='iNat_data (2019)')\n",
    "    plt.plot(y2_smoothed, label='eBird_data (2019)')\n",
    "    plt.plot(y1_smoothed_22, label='iNat_data (2022)')\n",
    "    plt.plot(y2_smoothed_22, label='eBird_data (2022)')\n",
    "    plt.legend()\n",
    "    plt.title(f\"Observation Curves for the bird: {name_avID_dict[x]}\")"
   ]
  },
  {
   "cell_type": "code",
   "execution_count": 104,
   "metadata": {},
   "outputs": [
    {
     "data": {
      "text/plain": [
       "['7E327303',\n",
       " 'AA7901D8',\n",
       " '3647E146',\n",
       " '9A77D2B0',\n",
       " '1CBD2CED',\n",
       " 'AB1CB216',\n",
       " '39086887',\n",
       " '75600969',\n",
       " '1456993D',\n",
       " 'FB738385',\n",
       " '2CC21529',\n",
       " '3AC46C54',\n",
       " '5BC4E0EF',\n",
       " '7FCE8A43',\n",
       " '6B7A93C5',\n",
       " 'BBA2F9DF',\n",
       " '6C50988A',\n",
       " 'B745D852',\n",
       " '0716A71C',\n",
       " '7E65A952',\n",
       " 'E196D6F9',\n",
       " '90E2543E',\n",
       " '13854B6E',\n",
       " 'F59AB6B3',\n",
       " 'BD929CBC',\n",
       " '03AC32BA',\n",
       " '5CBA3391',\n",
       " '6BB94D7E',\n",
       " '32DCEC14',\n",
       " '60214D49',\n",
       " '80285D5C',\n",
       " '930E8874',\n",
       " 'B9B272F4',\n",
       " '7784B060',\n",
       " '603194D3',\n",
       " '640D71AA',\n",
       " '01060BFD',\n",
       " '15369E8E',\n",
       " '151C2B3F',\n",
       " 'A091D50A',\n",
       " '9A8E55D0',\n",
       " '534FB490',\n",
       " '58312873',\n",
       " '4A5B4883',\n",
       " '3558066B',\n",
       " 'E4A5B66A',\n",
       " '28A4DA76',\n",
       " '9BEECB7E',\n",
       " 'BC5A9498',\n",
       " 'FD2B0309',\n",
       " '824361E5',\n",
       " '1EB2595E',\n",
       " 'B7D7EF23',\n",
       " 'E1714A09',\n",
       " '1929E1E1',\n",
       " '97B870B4',\n",
       " 'B7B1A5DD',\n",
       " '9F67F3AF',\n",
       " '13E9F9B4',\n",
       " '029491CD',\n",
       " '0337440E',\n",
       " '31ACA998',\n",
       " 'DE473F42',\n",
       " 'A5EC8BF5',\n",
       " 'F3DA111C',\n",
       " '2CF6D6F6',\n",
       " '2C7A2673',\n",
       " 'B4EE123D',\n",
       " '667C6969',\n",
       " '8F268682',\n",
       " '787E0536',\n",
       " '0BCBA6B9',\n",
       " 'FB4D08F0',\n",
       " '4E192262',\n",
       " 'B5CE8FAD',\n",
       " 'E7C9A1F5',\n",
       " 'F5C8516D',\n",
       " '9C5ED06A',\n",
       " 'C27D9E26',\n",
       " '240E3390',\n",
       " '31557374',\n",
       " '8601A467',\n",
       " '4185F617',\n",
       " 'FED3756C',\n",
       " 'D201EB72',\n",
       " 'ED4CE8E7',\n",
       " '694C127A',\n",
       " 'F5C181CA',\n",
       " '3072CC16',\n",
       " '0B1B2EB6',\n",
       " 'C6E1197B',\n",
       " '9437D635',\n",
       " '0EB07C12',\n",
       " '3E04020B',\n",
       " '538A9CA7',\n",
       " '0ADA5F17',\n",
       " '3E2D0C9B',\n",
       " 'BD61BDEC',\n",
       " '8F123A11',\n",
       " '15EE0D36',\n",
       " 'EB0CD5DC',\n",
       " '866903B9',\n",
       " '24F14328',\n",
       " '0E599E6C',\n",
       " 'FC366114',\n",
       " 'EAD14427',\n",
       " '95E28A57',\n",
       " '2225D685',\n",
       " '78509A5D',\n",
       " '58C502EA',\n",
       " '734C73A9',\n",
       " 'BA4C8A02',\n",
       " 'DB5DABCF',\n",
       " 'DACF7A98',\n",
       " 'BC06BC0D',\n",
       " '85106518',\n",
       " '049D9AEA',\n",
       " '89F8B6F5',\n",
       " '154BCCAE',\n",
       " 'DE0971C1',\n",
       " 'F6DF700B',\n",
       " 'BB6B236F',\n",
       " '0413ED30',\n",
       " '36171C2B',\n",
       " 'ACC99F35',\n",
       " '8EB0C1FA',\n",
       " '1725B07D',\n",
       " 'AF49F890',\n",
       " '951C150C',\n",
       " 'BCF9A19A',\n",
       " '575A3E3B',\n",
       " '6D4F72B1',\n",
       " 'B48335B1',\n",
       " '1E1AB415',\n",
       " 'BA9191BC',\n",
       " '249AE8DF',\n",
       " '1E1B6D19',\n",
       " '27B2749A',\n",
       " '407E2CA8',\n",
       " 'AF0C7BDE',\n",
       " '2FA39DCD',\n",
       " 'AC1E519F',\n",
       " 'C9ABA616',\n",
       " '77567086',\n",
       " '28669A3D',\n",
       " '00124D98',\n",
       " '6C74415D',\n",
       " 'BE78E765',\n",
       " 'F7937349',\n",
       " '42393721',\n",
       " '27903EF7',\n",
       " 'E0A04985',\n",
       " 'E53FC25C',\n",
       " '536A5157',\n",
       " '9456DEDF',\n",
       " '178B8955',\n",
       " 'DC3050A9',\n",
       " 'EA5E858A',\n",
       " 'BBFF0963',\n",
       " '20C2214E',\n",
       " '989B57D8',\n",
       " '3F9E1C51',\n",
       " 'A5F09E05',\n",
       " '31CE00C7',\n",
       " 'A47B0BD4',\n",
       " 'D05FFEF7',\n",
       " '2281F1C7',\n",
       " '93694BB5',\n",
       " '53D94597',\n",
       " '6BDADC9C',\n",
       " 'CAA5E106',\n",
       " '00635FF9',\n",
       " '39BD9FF2',\n",
       " '76DF73A9',\n",
       " 'F012ED4B',\n",
       " '8DB64266',\n",
       " 'EA4D6C0B',\n",
       " '50566E50',\n",
       " '0D88C072',\n",
       " 'A7A75EA1',\n",
       " 'B01E8BD4',\n",
       " '018B3169',\n",
       " 'C5971E25',\n",
       " '87705CC4',\n",
       " '23863F65',\n",
       " '94A44032',\n",
       " 'B182DED2',\n",
       " '90B13ACF',\n",
       " '86D45B8F',\n",
       " '3EF081A8',\n",
       " '466E9077',\n",
       " 'FFF61080',\n",
       " '5BFFE091',\n",
       " '19CCBBD2',\n",
       " 'B9EE9676',\n",
       " '85625D75',\n",
       " '7EFF698D',\n",
       " '6EB81C98',\n",
       " 'E6F3BA54',\n",
       " '7A24F57F',\n",
       " '6996D540',\n",
       " 'D3A260BC',\n",
       " '4A3B2CFF',\n",
       " 'BD49DB46',\n",
       " '52F63879',\n",
       " '5816834E',\n",
       " 'C25794D5',\n",
       " '20748450',\n",
       " 'C235A4D7',\n",
       " '1F09CCCC',\n",
       " 'BAC33609',\n",
       " '45D829B3',\n",
       " '115F04DD',\n",
       " 'D621FFC6',\n",
       " 'E7A14E91',\n",
       " '5459228D',\n",
       " '87878948',\n",
       " 'F6CA75F0',\n",
       " '56CCA717',\n",
       " '526A3692',\n",
       " '60E6081E',\n",
       " '89431E9F',\n",
       " '39F29B55',\n",
       " '0783A7EA',\n",
       " '7E022378',\n",
       " 'B59E1863',\n",
       " '2DABF98F',\n",
       " '75DC49AD',\n",
       " '11CF8C9A',\n",
       " '49D9148A',\n",
       " '2F5DF476',\n",
       " 'BD0914CB',\n",
       " '88AB027C',\n",
       " 'EB98812F',\n",
       " '5284C27B',\n",
       " 'B12B8816',\n",
       " '36B3872D',\n",
       " 'CB343E43',\n",
       " 'D13B9122',\n",
       " 'AC2B812A',\n",
       " '171E91FF',\n",
       " 'B401C2DD',\n",
       " '4AAEF549',\n",
       " '5F8E7CA8',\n",
       " '68EA281A',\n",
       " 'A15C5071',\n",
       " '624078BA',\n",
       " 'F93AC929',\n",
       " 'BCBD2EAE',\n",
       " 'EE8ECB1D',\n",
       " '135564AA',\n",
       " '37E9CCDA',\n",
       " '4BB4F257',\n",
       " 'FF592882',\n",
       " 'F6C6C3F7',\n",
       " '12E354E2',\n",
       " 'ACB9D1C6',\n",
       " '06B9BD24',\n",
       " 'F9305BAA',\n",
       " '25C94A8F']"
      ]
     },
     "execution_count": 104,
     "metadata": {},
     "output_type": "execute_result"
    }
   ],
   "source": [
    "common_birds_among_all_filter"
   ]
  },
  {
   "cell_type": "code",
   "execution_count": 105,
   "metadata": {},
   "outputs": [
    {
     "data": {
      "image/png": "[encoded data removed]",
      "text/plain": [
       "<Figure size 640x480 with 1 Axes>"
      ]
     },
     "metadata": {},
     "output_type": "display_data"
    }
   ],
   "source": [
    "make_smooth_curves('7AB1229B', lims=(0,0.15), sigma=3)"
   ]
  },
  {
   "cell_type": "code",
   "execution_count": 106,
   "metadata": {},
   "outputs": [
    {
     "data": {
      "image/png": "[encoded data removed]",
      "text/plain": [
       "<Figure size 640x480 with 1 Axes>"
      ]
     },
     "metadata": {},
     "output_type": "display_data"
    }
   ],
   "source": [
    "make_smooth_curves('7AB1229B', lims=(0,0.15), sigma=2)"
   ]
  },
  {
   "cell_type": "code",
   "execution_count": 107,
   "metadata": {},
   "outputs": [
    {
     "data": {
      "image/png": "[encoded data removed]",
      "text/plain": [
       "<Figure size 640x480 with 1 Axes>"
      ]
     },
     "metadata": {},
     "output_type": "display_data"
    }
   ],
   "source": [
    "make_smooth_curves('7AB1229B', lims=(0,1), sigma=0.3)"
   ]
  },
  {
   "cell_type": "code",
   "execution_count": 108,
   "metadata": {},
   "outputs": [],
   "source": [
    "import numpy as np"
   ]
  },
  {
   "cell_type": "code",
   "execution_count": 226,
   "metadata": {},
   "outputs": [],
   "source": [
    "def make_smooth_curves_rm2wk_iNat(x, sigma=3, lims=(0,0.1)):\n",
    "    aviID = x\n",
    "    plt.ylim(lims)\n",
    "    y1 = iNat_curves_discrete.loc[aviID, :].values.copy()\n",
    "    y1_22 = iNat_curves_discrete_22.loc[aviID, :].values.copy()\n",
    "    y1[16:18] = np.mean(y1[13:21])\n",
    "    y1_22[16:18] = np.mean(y1_22[13:21])\n",
    "    y1_smoothed = function_smoothing(\n",
    "        y1,\n",
    "        sigma=sigma\n",
    "    )\n",
    "    y2_smoothed = function_smoothing(\n",
    "        eBird_curves_discrete.loc[aviID, :],\n",
    "        sigma=sigma\n",
    "    )\n",
    "    y1_smoothed_22 = function_smoothing(\n",
    "        y1_22,\n",
    "        sigma=sigma\n",
    "    )\n",
    "    y2_smoothed_22 = function_smoothing(\n",
    "        eBird_curves_discrete_22.loc[aviID, :],\n",
    "        sigma=sigma\n",
    "    )\n",
    "    plt.plot(y1_smoothed, label='iNat_data (2019)')\n",
    "    plt.plot(y2_smoothed, label='eBird_data (2019)')\n",
    "    plt.plot(y1_smoothed_22, label='iNat_data (2022)')\n",
    "    plt.plot(y2_smoothed_22, label='eBird_data (2022)')\n",
    "    plt.xlabel(\"Week Number of the year (--->)\")\n",
    "    plt.ylabel(\"Probability Density\")\n",
    "    \n",
    "    plt.legend()\n",
    "    plt.title(f\"Observation Curves for the bird: {name_avID_dict[x]}\")"
   ]
  },
  {
   "cell_type": "code",
   "execution_count": 110,
   "metadata": {},
   "outputs": [
    {
     "data": {
      "image/png": "[encoded data removed]",
      "text/plain": [
       "<Figure size 640x480 with 1 Axes>"
      ]
     },
     "metadata": {},
     "output_type": "display_data"
    }
   ],
   "source": [
    "make_smooth_curves_rm2wk_iNat('C27D9E26', lims=(0,0.1), sigma=2)"
   ]
  },
  {
   "cell_type": "code",
   "execution_count": 111,
   "metadata": {},
   "outputs": [],
   "source": [
    "from scipy.special import kl_div"
   ]
  },
  {
   "cell_type": "code",
   "execution_count": 112,
   "metadata": {},
   "outputs": [],
   "source": [
    "def generate_kl_div(x, sigma=3):\n",
    "    aviID = x\n",
    "    y1 = iNat_curves_discrete.loc[aviID, :].values.copy()\n",
    "    y1_22 = iNat_curves_discrete_22.loc[aviID, :].values.copy()\n",
    "    y1[16:18] = np.mean(y1[13:21])\n",
    "    y1_22[16:18] = np.mean(y1_22[13:21])\n",
    "    y1_smoothed = function_smoothing(\n",
    "        y1,\n",
    "        sigma=sigma\n",
    "    ) + 0.001\n",
    "    y2_smoothed = function_smoothing(\n",
    "        eBird_curves_discrete.loc[aviID, :],\n",
    "        sigma=sigma\n",
    "    ) + 0.001\n",
    "    y1_smoothed_22 = function_smoothing(\n",
    "        y1_22,\n",
    "        sigma=sigma\n",
    "    ) + 0.001\n",
    "    y2_smoothed_22 = function_smoothing(\n",
    "        eBird_curves_discrete_22.loc[aviID, :],\n",
    "        sigma=sigma\n",
    "    ) + 0.001\n",
    "    kl_div_inat = (kl_div(y1_smoothed, y1_smoothed_22)).sum()\n",
    "    kl_div_ebird = (kl_div(y2_smoothed, y2_smoothed_22)).sum()\n",
    "    kl_div_19 = (kl_div(y1_smoothed, y2_smoothed)).sum()\n",
    "    kl_div_22 = (kl_div(y1_smoothed_22, y2_smoothed_22)).sum()\n",
    "    to_return = [\n",
    "        x,\n",
    "        kl_div_inat,\n",
    "        kl_div_ebird,\n",
    "        kl_div_19,\n",
    "        kl_div_22\n",
    "    ]\n",
    "    return to_return"
   ]
  },
  {
   "cell_type": "code",
   "execution_count": 113,
   "metadata": {},
   "outputs": [],
   "source": [
    "all_kl_div = []\n",
    "for bird in common_birds_among_all_filter:\n",
    "    a = generate_kl_div(bird, sigma=2)\n",
    "    all_kl_div.append(a)\n",
    "\n",
    "    "
   ]
  },
  {
   "cell_type": "code",
   "execution_count": 114,
   "metadata": {},
   "outputs": [],
   "source": [
    "df_all_kl_divs = pd.DataFrame(np.array(all_kl_div))"
   ]
  },
  {
   "cell_type": "code",
   "execution_count": 115,
   "metadata": {},
   "outputs": [
    {
     "data": {
      "text/plain": [
       "0    object\n",
       "1    object\n",
       "2    object\n",
       "3    object\n",
       "4    object\n",
       "dtype: object"
      ]
     },
     "execution_count": 115,
     "metadata": {},
     "output_type": "execute_result"
    }
   ],
   "source": [
    "df_all_kl_divs.dtypes"
   ]
  },
  {
   "cell_type": "code",
   "execution_count": 116,
   "metadata": {},
   "outputs": [
    {
     "data": {
      "text/html": [
       "<div>\n",
       "<style scoped>\n",
       "    .dataframe tbody tr th:only-of-type {\n",
       "        vertical-align: middle;\n",
       "    }\n",
       "\n",
       "    .dataframe tbody tr th {\n",
       "        vertical-align: top;\n",
       "    }\n",
       "\n",
       "    .dataframe thead th {\n",
       "        text-align: right;\n",
       "    }\n",
       "</style>\n",
       "<table border=\"1\" class=\"dataframe\">\n",
       "  <thead>\n",
       "    <tr style=\"text-align: right;\">\n",
       "      <th></th>\n",
       "      <th>0</th>\n",
       "      <th>1</th>\n",
       "      <th>2</th>\n",
       "      <th>3</th>\n",
       "      <th>4</th>\n",
       "    </tr>\n",
       "  </thead>\n",
       "  <tbody>\n",
       "    <tr>\n",
       "      <th>0</th>\n",
       "      <td>7E327303</td>\n",
       "      <td>0.017053899606837924</td>\n",
       "      <td>0.003483549422725822</td>\n",
       "      <td>0.008285186455893843</td>\n",
       "      <td>0.0338446042509305</td>\n",
       "    </tr>\n",
       "    <tr>\n",
       "      <th>1</th>\n",
       "      <td>AA7901D8</td>\n",
       "      <td>0.014964853180516727</td>\n",
       "      <td>0.004439822968152164</td>\n",
       "      <td>0.012338075389128357</td>\n",
       "      <td>0.003427190725112786</td>\n",
       "    </tr>\n",
       "    <tr>\n",
       "      <th>2</th>\n",
       "      <td>3647E146</td>\n",
       "      <td>0.42861608481256214</td>\n",
       "      <td>0.07181011967110254</td>\n",
       "      <td>0.14151960991114063</td>\n",
       "      <td>0.2690783188286058</td>\n",
       "    </tr>\n",
       "    <tr>\n",
       "      <th>3</th>\n",
       "      <td>9A77D2B0</td>\n",
       "      <td>0.6034300275689051</td>\n",
       "      <td>0.07672147247234046</td>\n",
       "      <td>0.9675549957657043</td>\n",
       "      <td>0.16060031940216365</td>\n",
       "    </tr>\n",
       "    <tr>\n",
       "      <th>4</th>\n",
       "      <td>1CBD2CED</td>\n",
       "      <td>0.4194523610524258</td>\n",
       "      <td>0.07904597287171859</td>\n",
       "      <td>0.1991780092930432</td>\n",
       "      <td>0.17602459776515614</td>\n",
       "    </tr>\n",
       "    <tr>\n",
       "      <th>...</th>\n",
       "      <td>...</td>\n",
       "      <td>...</td>\n",
       "      <td>...</td>\n",
       "      <td>...</td>\n",
       "      <td>...</td>\n",
       "    </tr>\n",
       "    <tr>\n",
       "      <th>255</th>\n",
       "      <td>12E354E2</td>\n",
       "      <td>0.24930400571651742</td>\n",
       "      <td>0.009201082432797497</td>\n",
       "      <td>0.23062380013180145</td>\n",
       "      <td>0.09978204463151857</td>\n",
       "    </tr>\n",
       "    <tr>\n",
       "      <th>256</th>\n",
       "      <td>ACB9D1C6</td>\n",
       "      <td>0.12057255684835755</td>\n",
       "      <td>0.0341278947566348</td>\n",
       "      <td>0.24800931298122558</td>\n",
       "      <td>0.14779299503070842</td>\n",
       "    </tr>\n",
       "    <tr>\n",
       "      <th>257</th>\n",
       "      <td>06B9BD24</td>\n",
       "      <td>0.040894472948028913</td>\n",
       "      <td>0.022132149537106707</td>\n",
       "      <td>0.056428009423880474</td>\n",
       "      <td>0.019600671712839385</td>\n",
       "    </tr>\n",
       "    <tr>\n",
       "      <th>258</th>\n",
       "      <td>F9305BAA</td>\n",
       "      <td>0.03334331462543723</td>\n",
       "      <td>0.027055961110574598</td>\n",
       "      <td>0.046781143094502174</td>\n",
       "      <td>0.03333737300627035</td>\n",
       "    </tr>\n",
       "    <tr>\n",
       "      <th>259</th>\n",
       "      <td>25C94A8F</td>\n",
       "      <td>0.10388236150302911</td>\n",
       "      <td>0.03635779919259007</td>\n",
       "      <td>0.09196475818291225</td>\n",
       "      <td>0.02767560469245514</td>\n",
       "    </tr>\n",
       "  </tbody>\n",
       "</table>\n",
       "<p>260 rows × 5 columns</p>\n",
       "</div>"
      ],
      "text/plain": [
       "            0                     1                     2  \\\n",
       "0    7E327303  0.017053899606837924  0.003483549422725822   \n",
       "1    AA7901D8  0.014964853180516727  0.004439822968152164   \n",
       "2    3647E146   0.42861608481256214   0.07181011967110254   \n",
       "3    9A77D2B0    0.6034300275689051   0.07672147247234046   \n",
       "4    1CBD2CED    0.4194523610524258   0.07904597287171859   \n",
       "..        ...                   ...                   ...   \n",
       "255  12E354E2   0.24930400571651742  0.009201082432797497   \n",
       "256  ACB9D1C6   0.12057255684835755    0.0341278947566348   \n",
       "257  06B9BD24  0.040894472948028913  0.022132149537106707   \n",
       "258  F9305BAA   0.03334331462543723  0.027055961110574598   \n",
       "259  25C94A8F   0.10388236150302911   0.03635779919259007   \n",
       "\n",
       "                        3                     4  \n",
       "0    0.008285186455893843    0.0338446042509305  \n",
       "1    0.012338075389128357  0.003427190725112786  \n",
       "2     0.14151960991114063    0.2690783188286058  \n",
       "3      0.9675549957657043   0.16060031940216365  \n",
       "4      0.1991780092930432   0.17602459776515614  \n",
       "..                    ...                   ...  \n",
       "255   0.23062380013180145   0.09978204463151857  \n",
       "256   0.24800931298122558   0.14779299503070842  \n",
       "257  0.056428009423880474  0.019600671712839385  \n",
       "258  0.046781143094502174   0.03333737300627035  \n",
       "259   0.09196475818291225   0.02767560469245514  \n",
       "\n",
       "[260 rows x 5 columns]"
      ]
     },
     "execution_count": 116,
     "metadata": {},
     "output_type": "execute_result"
    }
   ],
   "source": [
    "df_all_kl_divs"
   ]
  },
  {
   "cell_type": "code",
   "execution_count": 117,
   "metadata": {},
   "outputs": [],
   "source": [
    "df_all_kl_divs.columns = [\n",
    "    'AvibaseID',\n",
    "    'iNat',\n",
    "    'eBird',\n",
    "    'Y19',\n",
    "    'Y22'\n",
    "]"
   ]
  },
  {
   "cell_type": "code",
   "execution_count": 118,
   "metadata": {},
   "outputs": [],
   "source": [
    "df_all_kl_divs['iNat'] = df_all_kl_divs['iNat'].astype(float) \n",
    "df_all_kl_divs['eBird'] = df_all_kl_divs['eBird'].astype(float) \n",
    "df_all_kl_divs['Y19'] = df_all_kl_divs['Y19'].astype(float) \n",
    "df_all_kl_divs['Y22'] = df_all_kl_divs['Y22'].astype(float) "
   ]
  },
  {
   "cell_type": "code",
   "execution_count": 119,
   "metadata": {},
   "outputs": [
    {
     "data": {
      "text/html": [
       "<div>\n",
       "<style scoped>\n",
       "    .dataframe tbody tr th:only-of-type {\n",
       "        vertical-align: middle;\n",
       "    }\n",
       "\n",
       "    .dataframe tbody tr th {\n",
       "        vertical-align: top;\n",
       "    }\n",
       "\n",
       "    .dataframe thead th {\n",
       "        text-align: right;\n",
       "    }\n",
       "</style>\n",
       "<table border=\"1\" class=\"dataframe\">\n",
       "  <thead>\n",
       "    <tr style=\"text-align: right;\">\n",
       "      <th></th>\n",
       "      <th>iNat</th>\n",
       "      <th>eBird</th>\n",
       "      <th>Y19</th>\n",
       "      <th>Y22</th>\n",
       "    </tr>\n",
       "  </thead>\n",
       "  <tbody>\n",
       "    <tr>\n",
       "      <th>count</th>\n",
       "      <td>260.000000</td>\n",
       "      <td>260.000000</td>\n",
       "      <td>260.000000</td>\n",
       "      <td>260.000000</td>\n",
       "    </tr>\n",
       "    <tr>\n",
       "      <th>mean</th>\n",
       "      <td>0.234234</td>\n",
       "      <td>0.073937</td>\n",
       "      <td>0.125649</td>\n",
       "      <td>0.087085</td>\n",
       "    </tr>\n",
       "    <tr>\n",
       "      <th>std</th>\n",
       "      <td>0.422631</td>\n",
       "      <td>0.192235</td>\n",
       "      <td>0.171646</td>\n",
       "      <td>0.117606</td>\n",
       "    </tr>\n",
       "    <tr>\n",
       "      <th>min</th>\n",
       "      <td>0.006539</td>\n",
       "      <td>0.002277</td>\n",
       "      <td>0.008238</td>\n",
       "      <td>0.003427</td>\n",
       "    </tr>\n",
       "    <tr>\n",
       "      <th>25%</th>\n",
       "      <td>0.033379</td>\n",
       "      <td>0.008453</td>\n",
       "      <td>0.032308</td>\n",
       "      <td>0.019597</td>\n",
       "    </tr>\n",
       "    <tr>\n",
       "      <th>50%</th>\n",
       "      <td>0.076962</td>\n",
       "      <td>0.019336</td>\n",
       "      <td>0.058044</td>\n",
       "      <td>0.039760</td>\n",
       "    </tr>\n",
       "    <tr>\n",
       "      <th>75%</th>\n",
       "      <td>0.234868</td>\n",
       "      <td>0.050074</td>\n",
       "      <td>0.138742</td>\n",
       "      <td>0.101043</td>\n",
       "    </tr>\n",
       "    <tr>\n",
       "      <th>max</th>\n",
       "      <td>3.384553</td>\n",
       "      <td>1.558674</td>\n",
       "      <td>1.292542</td>\n",
       "      <td>0.772442</td>\n",
       "    </tr>\n",
       "  </tbody>\n",
       "</table>\n",
       "</div>"
      ],
      "text/plain": [
       "             iNat       eBird         Y19         Y22\n",
       "count  260.000000  260.000000  260.000000  260.000000\n",
       "mean     0.234234    0.073937    0.125649    0.087085\n",
       "std      0.422631    0.192235    0.171646    0.117606\n",
       "min      0.006539    0.002277    0.008238    0.003427\n",
       "25%      0.033379    0.008453    0.032308    0.019597\n",
       "50%      0.076962    0.019336    0.058044    0.039760\n",
       "75%      0.234868    0.050074    0.138742    0.101043\n",
       "max      3.384553    1.558674    1.292542    0.772442"
      ]
     },
     "execution_count": 119,
     "metadata": {},
     "output_type": "execute_result"
    }
   ],
   "source": [
    "df_all_kl_divs.describe()"
   ]
  },
  {
   "cell_type": "code",
   "execution_count": 120,
   "metadata": {},
   "outputs": [
    {
     "data": {
      "text/html": [
       "<div>\n",
       "<style scoped>\n",
       "    .dataframe tbody tr th:only-of-type {\n",
       "        vertical-align: middle;\n",
       "    }\n",
       "\n",
       "    .dataframe tbody tr th {\n",
       "        vertical-align: top;\n",
       "    }\n",
       "\n",
       "    .dataframe thead th {\n",
       "        text-align: right;\n",
       "    }\n",
       "</style>\n",
       "<table border=\"1\" class=\"dataframe\">\n",
       "  <thead>\n",
       "    <tr style=\"text-align: right;\">\n",
       "      <th></th>\n",
       "      <th>AvibaseID</th>\n",
       "      <th>iNat</th>\n",
       "      <th>eBird</th>\n",
       "      <th>Y19</th>\n",
       "      <th>Y22</th>\n",
       "    </tr>\n",
       "  </thead>\n",
       "  <tbody>\n",
       "    <tr>\n",
       "      <th>31</th>\n",
       "      <td>930E8874</td>\n",
       "      <td>1.091398</td>\n",
       "      <td>0.055521</td>\n",
       "      <td>0.643068</td>\n",
       "      <td>0.772442</td>\n",
       "    </tr>\n",
       "    <tr>\n",
       "      <th>41</th>\n",
       "      <td>534FB490</td>\n",
       "      <td>2.057678</td>\n",
       "      <td>0.114230</td>\n",
       "      <td>0.787529</td>\n",
       "      <td>0.586072</td>\n",
       "    </tr>\n",
       "    <tr>\n",
       "      <th>112</th>\n",
       "      <td>DB5DABCF</td>\n",
       "      <td>1.380246</td>\n",
       "      <td>0.113167</td>\n",
       "      <td>0.158528</td>\n",
       "      <td>0.534300</td>\n",
       "    </tr>\n",
       "    <tr>\n",
       "      <th>78</th>\n",
       "      <td>C27D9E26</td>\n",
       "      <td>0.666676</td>\n",
       "      <td>0.211633</td>\n",
       "      <td>0.226741</td>\n",
       "      <td>0.529112</td>\n",
       "    </tr>\n",
       "    <tr>\n",
       "      <th>126</th>\n",
       "      <td>1725B07D</td>\n",
       "      <td>0.162775</td>\n",
       "      <td>0.051786</td>\n",
       "      <td>0.541761</td>\n",
       "      <td>0.527120</td>\n",
       "    </tr>\n",
       "    <tr>\n",
       "      <th>...</th>\n",
       "      <td>...</td>\n",
       "      <td>...</td>\n",
       "      <td>...</td>\n",
       "      <td>...</td>\n",
       "      <td>...</td>\n",
       "    </tr>\n",
       "    <tr>\n",
       "      <th>208</th>\n",
       "      <td>C235A4D7</td>\n",
       "      <td>0.018103</td>\n",
       "      <td>0.005044</td>\n",
       "      <td>0.026651</td>\n",
       "      <td>0.004328</td>\n",
       "    </tr>\n",
       "    <tr>\n",
       "      <th>166</th>\n",
       "      <td>2281F1C7</td>\n",
       "      <td>0.019239</td>\n",
       "      <td>0.004026</td>\n",
       "      <td>0.015379</td>\n",
       "      <td>0.004074</td>\n",
       "    </tr>\n",
       "    <tr>\n",
       "      <th>244</th>\n",
       "      <td>68EA281A</td>\n",
       "      <td>0.034812</td>\n",
       "      <td>0.014386</td>\n",
       "      <td>0.009927</td>\n",
       "      <td>0.003974</td>\n",
       "    </tr>\n",
       "    <tr>\n",
       "      <th>236</th>\n",
       "      <td>36B3872D</td>\n",
       "      <td>0.016146</td>\n",
       "      <td>0.002683</td>\n",
       "      <td>0.012143</td>\n",
       "      <td>0.003801</td>\n",
       "    </tr>\n",
       "    <tr>\n",
       "      <th>1</th>\n",
       "      <td>AA7901D8</td>\n",
       "      <td>0.014965</td>\n",
       "      <td>0.004440</td>\n",
       "      <td>0.012338</td>\n",
       "      <td>0.003427</td>\n",
       "    </tr>\n",
       "  </tbody>\n",
       "</table>\n",
       "<p>260 rows × 5 columns</p>\n",
       "</div>"
      ],
      "text/plain": [
       "    AvibaseID      iNat     eBird       Y19       Y22\n",
       "31   930E8874  1.091398  0.055521  0.643068  0.772442\n",
       "41   534FB490  2.057678  0.114230  0.787529  0.586072\n",
       "112  DB5DABCF  1.380246  0.113167  0.158528  0.534300\n",
       "78   C27D9E26  0.666676  0.211633  0.226741  0.529112\n",
       "126  1725B07D  0.162775  0.051786  0.541761  0.527120\n",
       "..        ...       ...       ...       ...       ...\n",
       "208  C235A4D7  0.018103  0.005044  0.026651  0.004328\n",
       "166  2281F1C7  0.019239  0.004026  0.015379  0.004074\n",
       "244  68EA281A  0.034812  0.014386  0.009927  0.003974\n",
       "236  36B3872D  0.016146  0.002683  0.012143  0.003801\n",
       "1    AA7901D8  0.014965  0.004440  0.012338  0.003427\n",
       "\n",
       "[260 rows x 5 columns]"
      ]
     },
     "execution_count": 120,
     "metadata": {},
     "output_type": "execute_result"
    }
   ],
   "source": [
    "df_all_kl_divs.sort_values(by='Y22', ascending=False)"
   ]
  },
  {
   "cell_type": "code",
   "execution_count": 127,
   "metadata": {},
   "outputs": [
    {
     "data": {
      "text/html": [
       "<div>\n",
       "<style scoped>\n",
       "    .dataframe tbody tr th:only-of-type {\n",
       "        vertical-align: middle;\n",
       "    }\n",
       "\n",
       "    .dataframe tbody tr th {\n",
       "        vertical-align: top;\n",
       "    }\n",
       "\n",
       "    .dataframe thead th {\n",
       "        text-align: right;\n",
       "    }\n",
       "</style>\n",
       "<table border=\"1\" class=\"dataframe\">\n",
       "  <thead>\n",
       "    <tr style=\"text-align: right;\">\n",
       "      <th>WEEK</th>\n",
       "      <th>1</th>\n",
       "      <th>2</th>\n",
       "      <th>3</th>\n",
       "      <th>4</th>\n",
       "      <th>5</th>\n",
       "      <th>6</th>\n",
       "      <th>7</th>\n",
       "      <th>8</th>\n",
       "      <th>9</th>\n",
       "      <th>10</th>\n",
       "      <th>...</th>\n",
       "      <th>43</th>\n",
       "      <th>44</th>\n",
       "      <th>45</th>\n",
       "      <th>46</th>\n",
       "      <th>47</th>\n",
       "      <th>48</th>\n",
       "      <th>49</th>\n",
       "      <th>50</th>\n",
       "      <th>51</th>\n",
       "      <th>52</th>\n",
       "    </tr>\n",
       "    <tr>\n",
       "      <th>AVIBASEID</th>\n",
       "      <th></th>\n",
       "      <th></th>\n",
       "      <th></th>\n",
       "      <th></th>\n",
       "      <th></th>\n",
       "      <th></th>\n",
       "      <th></th>\n",
       "      <th></th>\n",
       "      <th></th>\n",
       "      <th></th>\n",
       "      <th></th>\n",
       "      <th></th>\n",
       "      <th></th>\n",
       "      <th></th>\n",
       "      <th></th>\n",
       "      <th></th>\n",
       "      <th></th>\n",
       "      <th></th>\n",
       "      <th></th>\n",
       "      <th></th>\n",
       "      <th></th>\n",
       "    </tr>\n",
       "  </thead>\n",
       "  <tbody>\n",
       "    <tr>\n",
       "      <th>000482C9</th>\n",
       "      <td>0.000000</td>\n",
       "      <td>0.000000</td>\n",
       "      <td>0.000000</td>\n",
       "      <td>0.000000</td>\n",
       "      <td>0.000000</td>\n",
       "      <td>0.000000</td>\n",
       "      <td>0.000000</td>\n",
       "      <td>0.000000</td>\n",
       "      <td>0.000000</td>\n",
       "      <td>0.000000</td>\n",
       "      <td>...</td>\n",
       "      <td>0.013699</td>\n",
       "      <td>0.034247</td>\n",
       "      <td>0.006849</td>\n",
       "      <td>0.000000</td>\n",
       "      <td>0.000000</td>\n",
       "      <td>0.000000</td>\n",
       "      <td>0.000000</td>\n",
       "      <td>0.006849</td>\n",
       "      <td>0.047945</td>\n",
       "      <td>0.000000</td>\n",
       "    </tr>\n",
       "    <tr>\n",
       "      <th>00124D98</th>\n",
       "      <td>0.016357</td>\n",
       "      <td>0.014596</td>\n",
       "      <td>0.015360</td>\n",
       "      <td>0.015912</td>\n",
       "      <td>0.019513</td>\n",
       "      <td>0.022939</td>\n",
       "      <td>0.029908</td>\n",
       "      <td>0.022310</td>\n",
       "      <td>0.019813</td>\n",
       "      <td>0.020955</td>\n",
       "      <td>...</td>\n",
       "      <td>0.011469</td>\n",
       "      <td>0.011595</td>\n",
       "      <td>0.011711</td>\n",
       "      <td>0.012718</td>\n",
       "      <td>0.011508</td>\n",
       "      <td>0.009737</td>\n",
       "      <td>0.009882</td>\n",
       "      <td>0.024178</td>\n",
       "      <td>0.012031</td>\n",
       "      <td>0.026162</td>\n",
       "    </tr>\n",
       "    <tr>\n",
       "      <th>00635FF9</th>\n",
       "      <td>0.011645</td>\n",
       "      <td>0.016302</td>\n",
       "      <td>0.010570</td>\n",
       "      <td>0.013436</td>\n",
       "      <td>0.010928</td>\n",
       "      <td>0.020064</td>\n",
       "      <td>0.019706</td>\n",
       "      <td>0.012899</td>\n",
       "      <td>0.014690</td>\n",
       "      <td>0.015944</td>\n",
       "      <td>...</td>\n",
       "      <td>0.013615</td>\n",
       "      <td>0.011824</td>\n",
       "      <td>0.010570</td>\n",
       "      <td>0.013436</td>\n",
       "      <td>0.008957</td>\n",
       "      <td>0.006270</td>\n",
       "      <td>0.005912</td>\n",
       "      <td>0.021856</td>\n",
       "      <td>0.007345</td>\n",
       "      <td>0.013973</td>\n",
       "    </tr>\n",
       "    <tr>\n",
       "      <th>01060BFD</th>\n",
       "      <td>0.025568</td>\n",
       "      <td>0.017070</td>\n",
       "      <td>0.021543</td>\n",
       "      <td>0.015729</td>\n",
       "      <td>0.014163</td>\n",
       "      <td>0.018710</td>\n",
       "      <td>0.013492</td>\n",
       "      <td>0.013567</td>\n",
       "      <td>0.009616</td>\n",
       "      <td>0.010585</td>\n",
       "      <td>...</td>\n",
       "      <td>0.019009</td>\n",
       "      <td>0.017294</td>\n",
       "      <td>0.016027</td>\n",
       "      <td>0.019530</td>\n",
       "      <td>0.017667</td>\n",
       "      <td>0.011405</td>\n",
       "      <td>0.010809</td>\n",
       "      <td>0.026165</td>\n",
       "      <td>0.013791</td>\n",
       "      <td>0.033023</td>\n",
       "    </tr>\n",
       "    <tr>\n",
       "      <th>018B3169</th>\n",
       "      <td>0.053792</td>\n",
       "      <td>0.049086</td>\n",
       "      <td>0.055003</td>\n",
       "      <td>0.047472</td>\n",
       "      <td>0.037386</td>\n",
       "      <td>0.039268</td>\n",
       "      <td>0.040613</td>\n",
       "      <td>0.044648</td>\n",
       "      <td>0.032948</td>\n",
       "      <td>0.031737</td>\n",
       "      <td>...</td>\n",
       "      <td>0.011700</td>\n",
       "      <td>0.015062</td>\n",
       "      <td>0.037924</td>\n",
       "      <td>0.029451</td>\n",
       "      <td>0.044917</td>\n",
       "      <td>0.028779</td>\n",
       "      <td>0.031872</td>\n",
       "      <td>0.067913</td>\n",
       "      <td>0.040075</td>\n",
       "      <td>0.089295</td>\n",
       "    </tr>\n",
       "    <tr>\n",
       "      <th>...</th>\n",
       "      <td>...</td>\n",
       "      <td>...</td>\n",
       "      <td>...</td>\n",
       "      <td>...</td>\n",
       "      <td>...</td>\n",
       "      <td>...</td>\n",
       "      <td>...</td>\n",
       "      <td>...</td>\n",
       "      <td>...</td>\n",
       "      <td>...</td>\n",
       "      <td>...</td>\n",
       "      <td>...</td>\n",
       "      <td>...</td>\n",
       "      <td>...</td>\n",
       "      <td>...</td>\n",
       "      <td>...</td>\n",
       "      <td>...</td>\n",
       "      <td>...</td>\n",
       "      <td>...</td>\n",
       "      <td>...</td>\n",
       "      <td>...</td>\n",
       "    </tr>\n",
       "    <tr>\n",
       "      <th>FC366114</th>\n",
       "      <td>0.029371</td>\n",
       "      <td>0.026586</td>\n",
       "      <td>0.026520</td>\n",
       "      <td>0.027514</td>\n",
       "      <td>0.025990</td>\n",
       "      <td>0.033017</td>\n",
       "      <td>0.031691</td>\n",
       "      <td>0.027979</td>\n",
       "      <td>0.021282</td>\n",
       "      <td>0.024133</td>\n",
       "      <td>...</td>\n",
       "      <td>0.014785</td>\n",
       "      <td>0.013127</td>\n",
       "      <td>0.014188</td>\n",
       "      <td>0.015580</td>\n",
       "      <td>0.018564</td>\n",
       "      <td>0.015315</td>\n",
       "      <td>0.012597</td>\n",
       "      <td>0.041305</td>\n",
       "      <td>0.018100</td>\n",
       "      <td>0.044620</td>\n",
       "    </tr>\n",
       "    <tr>\n",
       "      <th>FD2B0309</th>\n",
       "      <td>0.013940</td>\n",
       "      <td>0.013809</td>\n",
       "      <td>0.025907</td>\n",
       "      <td>0.023672</td>\n",
       "      <td>0.019726</td>\n",
       "      <td>0.024855</td>\n",
       "      <td>0.017754</td>\n",
       "      <td>0.020252</td>\n",
       "      <td>0.020121</td>\n",
       "      <td>0.018148</td>\n",
       "      <td>...</td>\n",
       "      <td>0.013546</td>\n",
       "      <td>0.011573</td>\n",
       "      <td>0.015255</td>\n",
       "      <td>0.018280</td>\n",
       "      <td>0.011310</td>\n",
       "      <td>0.007233</td>\n",
       "      <td>0.006049</td>\n",
       "      <td>0.009469</td>\n",
       "      <td>0.011967</td>\n",
       "      <td>0.022357</td>\n",
       "    </tr>\n",
       "    <tr>\n",
       "      <th>FED3756C</th>\n",
       "      <td>0.036807</td>\n",
       "      <td>0.037103</td>\n",
       "      <td>0.036068</td>\n",
       "      <td>0.050111</td>\n",
       "      <td>0.032077</td>\n",
       "      <td>0.039246</td>\n",
       "      <td>0.031412</td>\n",
       "      <td>0.026460</td>\n",
       "      <td>0.023208</td>\n",
       "      <td>0.021286</td>\n",
       "      <td>...</td>\n",
       "      <td>0.013304</td>\n",
       "      <td>0.011826</td>\n",
       "      <td>0.017147</td>\n",
       "      <td>0.026164</td>\n",
       "      <td>0.020399</td>\n",
       "      <td>0.014634</td>\n",
       "      <td>0.013599</td>\n",
       "      <td>0.038064</td>\n",
       "      <td>0.018995</td>\n",
       "      <td>0.038877</td>\n",
       "    </tr>\n",
       "    <tr>\n",
       "      <th>FF592882</th>\n",
       "      <td>0.017977</td>\n",
       "      <td>0.017512</td>\n",
       "      <td>0.016405</td>\n",
       "      <td>0.016603</td>\n",
       "      <td>0.018478</td>\n",
       "      <td>0.019864</td>\n",
       "      <td>0.025138</td>\n",
       "      <td>0.019747</td>\n",
       "      <td>0.016301</td>\n",
       "      <td>0.017523</td>\n",
       "      <td>...</td>\n",
       "      <td>0.019677</td>\n",
       "      <td>0.016603</td>\n",
       "      <td>0.016289</td>\n",
       "      <td>0.014112</td>\n",
       "      <td>0.016138</td>\n",
       "      <td>0.011899</td>\n",
       "      <td>0.011399</td>\n",
       "      <td>0.030948</td>\n",
       "      <td>0.017244</td>\n",
       "      <td>0.032159</td>\n",
       "    </tr>\n",
       "    <tr>\n",
       "      <th>FFF61080</th>\n",
       "      <td>0.009798</td>\n",
       "      <td>0.009356</td>\n",
       "      <td>0.008030</td>\n",
       "      <td>0.007588</td>\n",
       "      <td>0.008177</td>\n",
       "      <td>0.007809</td>\n",
       "      <td>0.009798</td>\n",
       "      <td>0.009982</td>\n",
       "      <td>0.012376</td>\n",
       "      <td>0.022726</td>\n",
       "      <td>...</td>\n",
       "      <td>0.010424</td>\n",
       "      <td>0.008214</td>\n",
       "      <td>0.007735</td>\n",
       "      <td>0.009650</td>\n",
       "      <td>0.008103</td>\n",
       "      <td>0.006372</td>\n",
       "      <td>0.005672</td>\n",
       "      <td>0.012229</td>\n",
       "      <td>0.006151</td>\n",
       "      <td>0.016428</td>\n",
       "    </tr>\n",
       "  </tbody>\n",
       "</table>\n",
       "<p>341 rows × 52 columns</p>\n",
       "</div>"
      ],
      "text/plain": [
       "WEEK             1         2         3         4         5         6   \\\n",
       "AVIBASEID                                                               \n",
       "000482C9   0.000000  0.000000  0.000000  0.000000  0.000000  0.000000   \n",
       "00124D98   0.016357  0.014596  0.015360  0.015912  0.019513  0.022939   \n",
       "00635FF9   0.011645  0.016302  0.010570  0.013436  0.010928  0.020064   \n",
       "01060BFD   0.025568  0.017070  0.021543  0.015729  0.014163  0.018710   \n",
       "018B3169   0.053792  0.049086  0.055003  0.047472  0.037386  0.039268   \n",
       "...             ...       ...       ...       ...       ...       ...   \n",
       "FC366114   0.029371  0.026586  0.026520  0.027514  0.025990  0.033017   \n",
       "FD2B0309   0.013940  0.013809  0.025907  0.023672  0.019726  0.024855   \n",
       "FED3756C   0.036807  0.037103  0.036068  0.050111  0.032077  0.039246   \n",
       "FF592882   0.017977  0.017512  0.016405  0.016603  0.018478  0.019864   \n",
       "FFF61080   0.009798  0.009356  0.008030  0.007588  0.008177  0.007809   \n",
       "\n",
       "WEEK             7         8         9         10  ...        43        44  \\\n",
       "AVIBASEID                                          ...                       \n",
       "000482C9   0.000000  0.000000  0.000000  0.000000  ...  0.013699  0.034247   \n",
       "00124D98   0.029908  0.022310  0.019813  0.020955  ...  0.011469  0.011595   \n",
       "00635FF9   0.019706  0.012899  0.014690  0.015944  ...  0.013615  0.011824   \n",
       "01060BFD   0.013492  0.013567  0.009616  0.010585  ...  0.019009  0.017294   \n",
       "018B3169   0.040613  0.044648  0.032948  0.031737  ...  0.011700  0.015062   \n",
       "...             ...       ...       ...       ...  ...       ...       ...   \n",
       "FC366114   0.031691  0.027979  0.021282  0.024133  ...  0.014785  0.013127   \n",
       "FD2B0309   0.017754  0.020252  0.020121  0.018148  ...  0.013546  0.011573   \n",
       "FED3756C   0.031412  0.026460  0.023208  0.021286  ...  0.013304  0.011826   \n",
       "FF592882   0.025138  0.019747  0.016301  0.017523  ...  0.019677  0.016603   \n",
       "FFF61080   0.009798  0.009982  0.012376  0.022726  ...  0.010424  0.008214   \n",
       "\n",
       "WEEK             45        46        47        48        49        50  \\\n",
       "AVIBASEID                                                               \n",
       "000482C9   0.006849  0.000000  0.000000  0.000000  0.000000  0.006849   \n",
       "00124D98   0.011711  0.012718  0.011508  0.009737  0.009882  0.024178   \n",
       "00635FF9   0.010570  0.013436  0.008957  0.006270  0.005912  0.021856   \n",
       "01060BFD   0.016027  0.019530  0.017667  0.011405  0.010809  0.026165   \n",
       "018B3169   0.037924  0.029451  0.044917  0.028779  0.031872  0.067913   \n",
       "...             ...       ...       ...       ...       ...       ...   \n",
       "FC366114   0.014188  0.015580  0.018564  0.015315  0.012597  0.041305   \n",
       "FD2B0309   0.015255  0.018280  0.011310  0.007233  0.006049  0.009469   \n",
       "FED3756C   0.017147  0.026164  0.020399  0.014634  0.013599  0.038064   \n",
       "FF592882   0.016289  0.014112  0.016138  0.011899  0.011399  0.030948   \n",
       "FFF61080   0.007735  0.009650  0.008103  0.006372  0.005672  0.012229   \n",
       "\n",
       "WEEK             51        52  \n",
       "AVIBASEID                      \n",
       "000482C9   0.047945  0.000000  \n",
       "00124D98   0.012031  0.026162  \n",
       "00635FF9   0.007345  0.013973  \n",
       "01060BFD   0.013791  0.033023  \n",
       "018B3169   0.040075  0.089295  \n",
       "...             ...       ...  \n",
       "FC366114   0.018100  0.044620  \n",
       "FD2B0309   0.011967  0.022357  \n",
       "FED3756C   0.018995  0.038877  \n",
       "FF592882   0.017244  0.032159  \n",
       "FFF61080   0.006151  0.016428  \n",
       "\n",
       "[341 rows x 52 columns]"
      ]
     },
     "execution_count": 127,
     "metadata": {},
     "output_type": "execute_result"
    }
   ],
   "source": [
    "eBird_curves_discrete_22"
   ]
  },
  {
   "cell_type": "code",
   "execution_count": 130,
   "metadata": {},
   "outputs": [
    {
     "data": {
      "text/plain": [
       "AVIBASEID\n",
       "000482C9    1.0\n",
       "00124D98    1.0\n",
       "00635FF9    1.0\n",
       "01060BFD    1.0\n",
       "018B3169    1.0\n",
       "           ... \n",
       "FC366114    1.0\n",
       "FD2B0309    1.0\n",
       "FED3756C    1.0\n",
       "FF592882    1.0\n",
       "FFF61080    1.0\n",
       "Length: 341, dtype: float64"
      ]
     },
     "execution_count": 130,
     "metadata": {},
     "output_type": "execute_result"
    }
   ],
   "source": [
    "((eBird_curves_discrete_22 + 0.0001)/1.0052).sum(axis=1)"
   ]
  },
  {
   "cell_type": "code",
   "execution_count": 179,
   "metadata": {},
   "outputs": [],
   "source": [
    "datasets = [iNat_curves_discrete, iNat_curves_discrete_22, eBird_curves_discrete, eBird_curves_discrete_22]\n",
    "datasets_normalized = []\n",
    "columns_str = [f\"{i}\" for i in range(1, 53)]\n",
    "for dataset_i in datasets:\n",
    "    dataset_i_norm = (dataset_i + 0.0001)/1.0052\n",
    "    dataset_i_norm.columns = columns_str\n",
    "    datasets_normalized.append(dataset_i_norm)\n",
    "    "
   ]
  },
  {
   "cell_type": "code",
   "execution_count": 180,
   "metadata": {},
   "outputs": [],
   "source": [
    "from scipy.spatial.distance import jensenshannon"
   ]
  },
  {
   "cell_type": "code",
   "execution_count": 181,
   "metadata": {},
   "outputs": [],
   "source": [
    "datasets_normalized_smoothed = []"
   ]
  },
  {
   "cell_type": "code",
   "execution_count": 182,
   "metadata": {},
   "outputs": [],
   "source": [
    "a = np.array([\n",
    "    [1, 2, 3],\n",
    "    [4, 5, 6],\n",
    "    [7, 8, 9],\n",
    "])\n",
    "\n",
    "b = np.array([0.5, 1, 2])"
   ]
  },
  {
   "cell_type": "code",
   "execution_count": 183,
   "metadata": {},
   "outputs": [
    {
     "data": {
      "text/plain": [
       "array([[2. , 4. , 6. ],\n",
       "       [4. , 5. , 6. ],\n",
       "       [3.5, 4. , 4.5]])"
      ]
     },
     "execution_count": 183,
     "metadata": {},
     "output_type": "execute_result"
    }
   ],
   "source": [
    "a/b.reshape((3,1))"
   ]
  },
  {
   "cell_type": "code",
   "execution_count": 186,
   "metadata": {},
   "outputs": [
    {
     "data": {
      "text/html": [
       "<div>\n",
       "<style scoped>\n",
       "    .dataframe tbody tr th:only-of-type {\n",
       "        vertical-align: middle;\n",
       "    }\n",
       "\n",
       "    .dataframe tbody tr th {\n",
       "        vertical-align: top;\n",
       "    }\n",
       "\n",
       "    .dataframe thead th {\n",
       "        text-align: right;\n",
       "    }\n",
       "</style>\n",
       "<table border=\"1\" class=\"dataframe\">\n",
       "  <thead>\n",
       "    <tr style=\"text-align: right;\">\n",
       "      <th></th>\n",
       "      <th>1</th>\n",
       "      <th>2</th>\n",
       "      <th>3</th>\n",
       "      <th>4</th>\n",
       "      <th>5</th>\n",
       "      <th>6</th>\n",
       "      <th>7</th>\n",
       "      <th>8</th>\n",
       "      <th>9</th>\n",
       "      <th>10</th>\n",
       "      <th>...</th>\n",
       "      <th>43</th>\n",
       "      <th>44</th>\n",
       "      <th>45</th>\n",
       "      <th>46</th>\n",
       "      <th>47</th>\n",
       "      <th>48</th>\n",
       "      <th>49</th>\n",
       "      <th>50</th>\n",
       "      <th>51</th>\n",
       "      <th>52</th>\n",
       "    </tr>\n",
       "    <tr>\n",
       "      <th>AVIBASEID</th>\n",
       "      <th></th>\n",
       "      <th></th>\n",
       "      <th></th>\n",
       "      <th></th>\n",
       "      <th></th>\n",
       "      <th></th>\n",
       "      <th></th>\n",
       "      <th></th>\n",
       "      <th></th>\n",
       "      <th></th>\n",
       "      <th></th>\n",
       "      <th></th>\n",
       "      <th></th>\n",
       "      <th></th>\n",
       "      <th></th>\n",
       "      <th></th>\n",
       "      <th></th>\n",
       "      <th></th>\n",
       "      <th></th>\n",
       "      <th></th>\n",
       "      <th></th>\n",
       "    </tr>\n",
       "  </thead>\n",
       "  <tbody>\n",
       "    <tr>\n",
       "      <th>000482C9</th>\n",
       "      <td>0.000099</td>\n",
       "      <td>0.000099</td>\n",
       "      <td>0.000099</td>\n",
       "      <td>0.000099</td>\n",
       "      <td>0.000099</td>\n",
       "      <td>0.000099</td>\n",
       "      <td>0.000099</td>\n",
       "      <td>0.000099</td>\n",
       "      <td>0.000099</td>\n",
       "      <td>0.000099</td>\n",
       "      <td>...</td>\n",
       "      <td>0.000099</td>\n",
       "      <td>0.000099</td>\n",
       "      <td>0.000099</td>\n",
       "      <td>0.331708</td>\n",
       "      <td>0.000099</td>\n",
       "      <td>0.000099</td>\n",
       "      <td>0.000099</td>\n",
       "      <td>0.000099</td>\n",
       "      <td>0.331708</td>\n",
       "      <td>0.000099</td>\n",
       "    </tr>\n",
       "    <tr>\n",
       "      <th>00124D98</th>\n",
       "      <td>0.016814</td>\n",
       "      <td>0.018819</td>\n",
       "      <td>0.019488</td>\n",
       "      <td>0.014139</td>\n",
       "      <td>0.024836</td>\n",
       "      <td>0.022162</td>\n",
       "      <td>0.018819</td>\n",
       "      <td>0.016145</td>\n",
       "      <td>0.022831</td>\n",
       "      <td>0.024836</td>\n",
       "      <td>...</td>\n",
       "      <td>0.010797</td>\n",
       "      <td>0.010797</td>\n",
       "      <td>0.010128</td>\n",
       "      <td>0.014808</td>\n",
       "      <td>0.014139</td>\n",
       "      <td>0.010797</td>\n",
       "      <td>0.012134</td>\n",
       "      <td>0.012134</td>\n",
       "      <td>0.016145</td>\n",
       "      <td>0.016145</td>\n",
       "    </tr>\n",
       "    <tr>\n",
       "      <th>00635FF9</th>\n",
       "      <td>0.016680</td>\n",
       "      <td>0.005626</td>\n",
       "      <td>0.000099</td>\n",
       "      <td>0.038787</td>\n",
       "      <td>0.016680</td>\n",
       "      <td>0.027734</td>\n",
       "      <td>0.022207</td>\n",
       "      <td>0.011153</td>\n",
       "      <td>0.016680</td>\n",
       "      <td>0.016680</td>\n",
       "      <td>...</td>\n",
       "      <td>0.011153</td>\n",
       "      <td>0.005626</td>\n",
       "      <td>0.044314</td>\n",
       "      <td>0.022207</td>\n",
       "      <td>0.016680</td>\n",
       "      <td>0.005626</td>\n",
       "      <td>0.022207</td>\n",
       "      <td>0.011153</td>\n",
       "      <td>0.011153</td>\n",
       "      <td>0.005626</td>\n",
       "    </tr>\n",
       "    <tr>\n",
       "      <th>01060BFD</th>\n",
       "      <td>0.008304</td>\n",
       "      <td>0.020611</td>\n",
       "      <td>0.008304</td>\n",
       "      <td>0.010355</td>\n",
       "      <td>0.006253</td>\n",
       "      <td>0.002151</td>\n",
       "      <td>0.008304</td>\n",
       "      <td>0.006253</td>\n",
       "      <td>0.004202</td>\n",
       "      <td>0.000099</td>\n",
       "      <td>...</td>\n",
       "      <td>0.010355</td>\n",
       "      <td>0.010355</td>\n",
       "      <td>0.016509</td>\n",
       "      <td>0.010355</td>\n",
       "      <td>0.012407</td>\n",
       "      <td>0.012407</td>\n",
       "      <td>0.010355</td>\n",
       "      <td>0.008304</td>\n",
       "      <td>0.012407</td>\n",
       "      <td>0.018560</td>\n",
       "    </tr>\n",
       "    <tr>\n",
       "      <th>018B3169</th>\n",
       "      <td>0.051913</td>\n",
       "      <td>0.083002</td>\n",
       "      <td>0.077820</td>\n",
       "      <td>0.010462</td>\n",
       "      <td>0.026006</td>\n",
       "      <td>0.036369</td>\n",
       "      <td>0.031188</td>\n",
       "      <td>0.041551</td>\n",
       "      <td>0.062276</td>\n",
       "      <td>0.015644</td>\n",
       "      <td>...</td>\n",
       "      <td>0.005281</td>\n",
       "      <td>0.010462</td>\n",
       "      <td>0.020825</td>\n",
       "      <td>0.020825</td>\n",
       "      <td>0.041551</td>\n",
       "      <td>0.015644</td>\n",
       "      <td>0.077820</td>\n",
       "      <td>0.057095</td>\n",
       "      <td>0.036369</td>\n",
       "      <td>0.083002</td>\n",
       "    </tr>\n",
       "    <tr>\n",
       "      <th>...</th>\n",
       "      <td>...</td>\n",
       "      <td>...</td>\n",
       "      <td>...</td>\n",
       "      <td>...</td>\n",
       "      <td>...</td>\n",
       "      <td>...</td>\n",
       "      <td>...</td>\n",
       "      <td>...</td>\n",
       "      <td>...</td>\n",
       "      <td>...</td>\n",
       "      <td>...</td>\n",
       "      <td>...</td>\n",
       "      <td>...</td>\n",
       "      <td>...</td>\n",
       "      <td>...</td>\n",
       "      <td>...</td>\n",
       "      <td>...</td>\n",
       "      <td>...</td>\n",
       "      <td>...</td>\n",
       "      <td>...</td>\n",
       "      <td>...</td>\n",
       "    </tr>\n",
       "    <tr>\n",
       "      <th>FC366114</th>\n",
       "      <td>0.016174</td>\n",
       "      <td>0.021532</td>\n",
       "      <td>0.021532</td>\n",
       "      <td>0.017067</td>\n",
       "      <td>0.020639</td>\n",
       "      <td>0.031355</td>\n",
       "      <td>0.023318</td>\n",
       "      <td>0.025104</td>\n",
       "      <td>0.015281</td>\n",
       "      <td>0.019746</td>\n",
       "      <td>...</td>\n",
       "      <td>0.013495</td>\n",
       "      <td>0.009030</td>\n",
       "      <td>0.014388</td>\n",
       "      <td>0.017067</td>\n",
       "      <td>0.013495</td>\n",
       "      <td>0.009030</td>\n",
       "      <td>0.017960</td>\n",
       "      <td>0.008137</td>\n",
       "      <td>0.020639</td>\n",
       "      <td>0.019746</td>\n",
       "    </tr>\n",
       "    <tr>\n",
       "      <th>FD2B0309</th>\n",
       "      <td>0.020581</td>\n",
       "      <td>0.005951</td>\n",
       "      <td>0.011803</td>\n",
       "      <td>0.029359</td>\n",
       "      <td>0.017655</td>\n",
       "      <td>0.014729</td>\n",
       "      <td>0.014729</td>\n",
       "      <td>0.023507</td>\n",
       "      <td>0.035211</td>\n",
       "      <td>0.043989</td>\n",
       "      <td>...</td>\n",
       "      <td>0.041063</td>\n",
       "      <td>0.008877</td>\n",
       "      <td>0.014729</td>\n",
       "      <td>0.003025</td>\n",
       "      <td>0.017655</td>\n",
       "      <td>0.011803</td>\n",
       "      <td>0.003025</td>\n",
       "      <td>0.005951</td>\n",
       "      <td>0.023507</td>\n",
       "      <td>0.032285</td>\n",
       "    </tr>\n",
       "    <tr>\n",
       "      <th>FED3756C</th>\n",
       "      <td>0.040587</td>\n",
       "      <td>0.020343</td>\n",
       "      <td>0.040587</td>\n",
       "      <td>0.046371</td>\n",
       "      <td>0.027573</td>\n",
       "      <td>0.042033</td>\n",
       "      <td>0.031911</td>\n",
       "      <td>0.034803</td>\n",
       "      <td>0.023235</td>\n",
       "      <td>0.023235</td>\n",
       "      <td>...</td>\n",
       "      <td>0.018897</td>\n",
       "      <td>0.007329</td>\n",
       "      <td>0.023235</td>\n",
       "      <td>0.017451</td>\n",
       "      <td>0.024681</td>\n",
       "      <td>0.013113</td>\n",
       "      <td>0.017451</td>\n",
       "      <td>0.027573</td>\n",
       "      <td>0.036249</td>\n",
       "      <td>0.020343</td>\n",
       "    </tr>\n",
       "    <tr>\n",
       "      <th>FF592882</th>\n",
       "      <td>0.011524</td>\n",
       "      <td>0.010645</td>\n",
       "      <td>0.014161</td>\n",
       "      <td>0.008888</td>\n",
       "      <td>0.015918</td>\n",
       "      <td>0.011524</td>\n",
       "      <td>0.020312</td>\n",
       "      <td>0.018555</td>\n",
       "      <td>0.018555</td>\n",
       "      <td>0.019434</td>\n",
       "      <td>...</td>\n",
       "      <td>0.017676</td>\n",
       "      <td>0.018555</td>\n",
       "      <td>0.014161</td>\n",
       "      <td>0.011524</td>\n",
       "      <td>0.017676</td>\n",
       "      <td>0.006251</td>\n",
       "      <td>0.013282</td>\n",
       "      <td>0.015918</td>\n",
       "      <td>0.015918</td>\n",
       "      <td>0.016797</td>\n",
       "    </tr>\n",
       "    <tr>\n",
       "      <th>FFF61080</th>\n",
       "      <td>0.014948</td>\n",
       "      <td>0.017069</td>\n",
       "      <td>0.006463</td>\n",
       "      <td>0.008584</td>\n",
       "      <td>0.008584</td>\n",
       "      <td>0.004342</td>\n",
       "      <td>0.008584</td>\n",
       "      <td>0.006463</td>\n",
       "      <td>0.017069</td>\n",
       "      <td>0.017069</td>\n",
       "      <td>...</td>\n",
       "      <td>0.012826</td>\n",
       "      <td>0.012826</td>\n",
       "      <td>0.008584</td>\n",
       "      <td>0.004342</td>\n",
       "      <td>0.017069</td>\n",
       "      <td>0.012826</td>\n",
       "      <td>0.008584</td>\n",
       "      <td>0.012826</td>\n",
       "      <td>0.014948</td>\n",
       "      <td>0.029796</td>\n",
       "    </tr>\n",
       "  </tbody>\n",
       "</table>\n",
       "<p>331 rows × 52 columns</p>\n",
       "</div>"
      ],
      "text/plain": [
       "                  1         2         3         4         5         6  \\\n",
       "AVIBASEID                                                               \n",
       "000482C9   0.000099  0.000099  0.000099  0.000099  0.000099  0.000099   \n",
       "00124D98   0.016814  0.018819  0.019488  0.014139  0.024836  0.022162   \n",
       "00635FF9   0.016680  0.005626  0.000099  0.038787  0.016680  0.027734   \n",
       "01060BFD   0.008304  0.020611  0.008304  0.010355  0.006253  0.002151   \n",
       "018B3169   0.051913  0.083002  0.077820  0.010462  0.026006  0.036369   \n",
       "...             ...       ...       ...       ...       ...       ...   \n",
       "FC366114   0.016174  0.021532  0.021532  0.017067  0.020639  0.031355   \n",
       "FD2B0309   0.020581  0.005951  0.011803  0.029359  0.017655  0.014729   \n",
       "FED3756C   0.040587  0.020343  0.040587  0.046371  0.027573  0.042033   \n",
       "FF592882   0.011524  0.010645  0.014161  0.008888  0.015918  0.011524   \n",
       "FFF61080   0.014948  0.017069  0.006463  0.008584  0.008584  0.004342   \n",
       "\n",
       "                  7         8         9        10  ...        43        44  \\\n",
       "AVIBASEID                                          ...                       \n",
       "000482C9   0.000099  0.000099  0.000099  0.000099  ...  0.000099  0.000099   \n",
       "00124D98   0.018819  0.016145  0.022831  0.024836  ...  0.010797  0.010797   \n",
       "00635FF9   0.022207  0.011153  0.016680  0.016680  ...  0.011153  0.005626   \n",
       "01060BFD   0.008304  0.006253  0.004202  0.000099  ...  0.010355  0.010355   \n",
       "018B3169   0.031188  0.041551  0.062276  0.015644  ...  0.005281  0.010462   \n",
       "...             ...       ...       ...       ...  ...       ...       ...   \n",
       "FC366114   0.023318  0.025104  0.015281  0.019746  ...  0.013495  0.009030   \n",
       "FD2B0309   0.014729  0.023507  0.035211  0.043989  ...  0.041063  0.008877   \n",
       "FED3756C   0.031911  0.034803  0.023235  0.023235  ...  0.018897  0.007329   \n",
       "FF592882   0.020312  0.018555  0.018555  0.019434  ...  0.017676  0.018555   \n",
       "FFF61080   0.008584  0.006463  0.017069  0.017069  ...  0.012826  0.012826   \n",
       "\n",
       "                 45        46        47        48        49        50  \\\n",
       "AVIBASEID                                                               \n",
       "000482C9   0.000099  0.331708  0.000099  0.000099  0.000099  0.000099   \n",
       "00124D98   0.010128  0.014808  0.014139  0.010797  0.012134  0.012134   \n",
       "00635FF9   0.044314  0.022207  0.016680  0.005626  0.022207  0.011153   \n",
       "01060BFD   0.016509  0.010355  0.012407  0.012407  0.010355  0.008304   \n",
       "018B3169   0.020825  0.020825  0.041551  0.015644  0.077820  0.057095   \n",
       "...             ...       ...       ...       ...       ...       ...   \n",
       "FC366114   0.014388  0.017067  0.013495  0.009030  0.017960  0.008137   \n",
       "FD2B0309   0.014729  0.003025  0.017655  0.011803  0.003025  0.005951   \n",
       "FED3756C   0.023235  0.017451  0.024681  0.013113  0.017451  0.027573   \n",
       "FF592882   0.014161  0.011524  0.017676  0.006251  0.013282  0.015918   \n",
       "FFF61080   0.008584  0.004342  0.017069  0.012826  0.008584  0.012826   \n",
       "\n",
       "                 51        52  \n",
       "AVIBASEID                      \n",
       "000482C9   0.331708  0.000099  \n",
       "00124D98   0.016145  0.016145  \n",
       "00635FF9   0.011153  0.005626  \n",
       "01060BFD   0.012407  0.018560  \n",
       "018B3169   0.036369  0.083002  \n",
       "...             ...       ...  \n",
       "FC366114   0.020639  0.019746  \n",
       "FD2B0309   0.023507  0.032285  \n",
       "FED3756C   0.036249  0.020343  \n",
       "FF592882   0.015918  0.016797  \n",
       "FFF61080   0.014948  0.029796  \n",
       "\n",
       "[331 rows x 52 columns]"
      ]
     },
     "execution_count": 186,
     "metadata": {},
     "output_type": "execute_result"
    }
   ],
   "source": [
    "datasets_normalized[1]"
   ]
  },
  {
   "cell_type": "code",
   "execution_count": 191,
   "metadata": {},
   "outputs": [
    {
     "data": {
      "text/plain": [
       "array([[1.],\n",
       "       [1.],\n",
       "       [1.],\n",
       "       [1.],\n",
       "       [1.],\n",
       "       [1.],\n",
       "       [1.],\n",
       "       [1.],\n",
       "       [1.],\n",
       "       [1.],\n",
       "       [1.],\n",
       "       [1.],\n",
       "       [1.],\n",
       "       [1.],\n",
       "       [1.],\n",
       "       [1.],\n",
       "       [1.],\n",
       "       [1.],\n",
       "       [1.],\n",
       "       [1.],\n",
       "       [1.],\n",
       "       [1.],\n",
       "       [1.],\n",
       "       [1.],\n",
       "       [1.],\n",
       "       [1.],\n",
       "       [1.],\n",
       "       [1.],\n",
       "       [1.],\n",
       "       [1.],\n",
       "       [1.],\n",
       "       [1.],\n",
       "       [1.],\n",
       "       [1.],\n",
       "       [1.],\n",
       "       [1.],\n",
       "       [1.],\n",
       "       [1.],\n",
       "       [1.],\n",
       "       [1.],\n",
       "       [1.],\n",
       "       [1.],\n",
       "       [1.],\n",
       "       [1.],\n",
       "       [1.],\n",
       "       [1.],\n",
       "       [1.],\n",
       "       [1.],\n",
       "       [1.],\n",
       "       [1.],\n",
       "       [1.],\n",
       "       [1.],\n",
       "       [1.],\n",
       "       [1.],\n",
       "       [1.],\n",
       "       [1.],\n",
       "       [1.],\n",
       "       [1.],\n",
       "       [1.],\n",
       "       [1.],\n",
       "       [1.],\n",
       "       [1.],\n",
       "       [1.],\n",
       "       [1.],\n",
       "       [1.],\n",
       "       [1.],\n",
       "       [1.],\n",
       "       [1.],\n",
       "       [1.],\n",
       "       [1.],\n",
       "       [1.],\n",
       "       [1.],\n",
       "       [1.],\n",
       "       [1.],\n",
       "       [1.],\n",
       "       [1.],\n",
       "       [1.],\n",
       "       [1.],\n",
       "       [1.],\n",
       "       [1.],\n",
       "       [1.],\n",
       "       [1.],\n",
       "       [1.],\n",
       "       [1.],\n",
       "       [1.],\n",
       "       [1.],\n",
       "       [1.],\n",
       "       [1.],\n",
       "       [1.],\n",
       "       [1.],\n",
       "       [1.],\n",
       "       [1.],\n",
       "       [1.],\n",
       "       [1.],\n",
       "       [1.],\n",
       "       [1.],\n",
       "       [1.],\n",
       "       [1.],\n",
       "       [1.],\n",
       "       [1.],\n",
       "       [1.],\n",
       "       [1.],\n",
       "       [1.],\n",
       "       [1.],\n",
       "       [1.],\n",
       "       [1.],\n",
       "       [1.],\n",
       "       [1.],\n",
       "       [1.],\n",
       "       [1.],\n",
       "       [1.],\n",
       "       [1.],\n",
       "       [1.],\n",
       "       [1.],\n",
       "       [1.],\n",
       "       [1.],\n",
       "       [1.],\n",
       "       [1.],\n",
       "       [1.],\n",
       "       [1.],\n",
       "       [1.],\n",
       "       [1.],\n",
       "       [1.],\n",
       "       [1.],\n",
       "       [1.],\n",
       "       [1.],\n",
       "       [1.],\n",
       "       [1.],\n",
       "       [1.],\n",
       "       [1.],\n",
       "       [1.],\n",
       "       [1.],\n",
       "       [1.],\n",
       "       [1.],\n",
       "       [1.],\n",
       "       [1.],\n",
       "       [1.],\n",
       "       [1.],\n",
       "       [1.],\n",
       "       [1.],\n",
       "       [1.],\n",
       "       [1.],\n",
       "       [1.],\n",
       "       [1.],\n",
       "       [1.],\n",
       "       [1.],\n",
       "       [1.],\n",
       "       [1.],\n",
       "       [1.],\n",
       "       [1.],\n",
       "       [1.],\n",
       "       [1.],\n",
       "       [1.],\n",
       "       [1.],\n",
       "       [1.],\n",
       "       [1.],\n",
       "       [1.],\n",
       "       [1.],\n",
       "       [1.],\n",
       "       [1.],\n",
       "       [1.],\n",
       "       [1.],\n",
       "       [1.],\n",
       "       [1.],\n",
       "       [1.],\n",
       "       [1.],\n",
       "       [1.],\n",
       "       [1.],\n",
       "       [1.],\n",
       "       [1.],\n",
       "       [1.],\n",
       "       [1.],\n",
       "       [1.],\n",
       "       [1.],\n",
       "       [1.],\n",
       "       [1.],\n",
       "       [1.],\n",
       "       [1.],\n",
       "       [1.],\n",
       "       [1.],\n",
       "       [1.],\n",
       "       [1.],\n",
       "       [1.],\n",
       "       [1.],\n",
       "       [1.],\n",
       "       [1.],\n",
       "       [1.],\n",
       "       [1.],\n",
       "       [1.],\n",
       "       [1.],\n",
       "       [1.],\n",
       "       [1.],\n",
       "       [1.],\n",
       "       [1.],\n",
       "       [1.],\n",
       "       [1.],\n",
       "       [1.],\n",
       "       [1.],\n",
       "       [1.],\n",
       "       [1.],\n",
       "       [1.],\n",
       "       [1.],\n",
       "       [1.],\n",
       "       [1.],\n",
       "       [1.],\n",
       "       [1.],\n",
       "       [1.],\n",
       "       [1.],\n",
       "       [1.],\n",
       "       [1.],\n",
       "       [1.],\n",
       "       [1.],\n",
       "       [1.],\n",
       "       [1.],\n",
       "       [1.],\n",
       "       [1.],\n",
       "       [1.],\n",
       "       [1.],\n",
       "       [1.],\n",
       "       [1.],\n",
       "       [1.],\n",
       "       [1.],\n",
       "       [1.],\n",
       "       [1.],\n",
       "       [1.],\n",
       "       [1.],\n",
       "       [1.],\n",
       "       [1.],\n",
       "       [1.],\n",
       "       [1.],\n",
       "       [1.],\n",
       "       [1.],\n",
       "       [1.],\n",
       "       [1.],\n",
       "       [1.],\n",
       "       [1.],\n",
       "       [1.],\n",
       "       [1.],\n",
       "       [1.],\n",
       "       [1.],\n",
       "       [1.],\n",
       "       [1.],\n",
       "       [1.],\n",
       "       [1.],\n",
       "       [1.],\n",
       "       [1.],\n",
       "       [1.],\n",
       "       [1.],\n",
       "       [1.],\n",
       "       [1.],\n",
       "       [1.],\n",
       "       [1.],\n",
       "       [1.],\n",
       "       [1.],\n",
       "       [1.],\n",
       "       [1.],\n",
       "       [1.],\n",
       "       [1.],\n",
       "       [1.],\n",
       "       [1.],\n",
       "       [1.],\n",
       "       [1.],\n",
       "       [1.],\n",
       "       [1.],\n",
       "       [1.],\n",
       "       [1.],\n",
       "       [1.],\n",
       "       [1.],\n",
       "       [1.],\n",
       "       [1.],\n",
       "       [1.],\n",
       "       [1.],\n",
       "       [1.],\n",
       "       [1.],\n",
       "       [1.],\n",
       "       [1.],\n",
       "       [1.],\n",
       "       [1.],\n",
       "       [1.],\n",
       "       [1.],\n",
       "       [1.],\n",
       "       [1.],\n",
       "       [1.],\n",
       "       [1.],\n",
       "       [1.],\n",
       "       [1.],\n",
       "       [1.],\n",
       "       [1.],\n",
       "       [1.],\n",
       "       [1.],\n",
       "       [1.],\n",
       "       [1.],\n",
       "       [1.],\n",
       "       [1.],\n",
       "       [1.],\n",
       "       [1.],\n",
       "       [1.],\n",
       "       [1.],\n",
       "       [1.],\n",
       "       [1.],\n",
       "       [1.],\n",
       "       [1.],\n",
       "       [1.],\n",
       "       [1.],\n",
       "       [1.],\n",
       "       [1.],\n",
       "       [1.],\n",
       "       [1.],\n",
       "       [1.],\n",
       "       [1.],\n",
       "       [1.],\n",
       "       [1.],\n",
       "       [1.],\n",
       "       [1.],\n",
       "       [1.],\n",
       "       [1.],\n",
       "       [1.],\n",
       "       [1.],\n",
       "       [1.],\n",
       "       [1.],\n",
       "       [1.],\n",
       "       [1.],\n",
       "       [1.],\n",
       "       [1.],\n",
       "       [1.],\n",
       "       [1.],\n",
       "       [1.],\n",
       "       [1.],\n",
       "       [1.],\n",
       "       [1.],\n",
       "       [1.],\n",
       "       [1.],\n",
       "       [1.],\n",
       "       [1.],\n",
       "       [1.],\n",
       "       [1.],\n",
       "       [1.],\n",
       "       [1.],\n",
       "       [1.],\n",
       "       [1.],\n",
       "       [1.],\n",
       "       [1.],\n",
       "       [1.],\n",
       "       [1.],\n",
       "       [1.],\n",
       "       [1.],\n",
       "       [1.],\n",
       "       [1.],\n",
       "       [1.],\n",
       "       [1.],\n",
       "       [1.],\n",
       "       [1.],\n",
       "       [1.]])"
      ]
     },
     "execution_count": 191,
     "metadata": {},
     "output_type": "execute_result"
    }
   ],
   "source": [
    "datasets_normalized[0].sum(axis=1).values.reshape(datasets_normalized[0].shape[0],1)"
   ]
  },
  {
   "cell_type": "code",
   "execution_count": 192,
   "metadata": {},
   "outputs": [],
   "source": [
    "for i in range(4):\n",
    "    if i > 1: \n",
    "        datasets_normalized_smoothed.append(datasets_normalized[i])\n",
    "        continue\n",
    "    else:\n",
    "        data = datasets_normalized[i].copy()\n",
    "        data.values[:, 16] = np.mean(data.values[:, 13:21], axis=1)\n",
    "        data.values[:, 17] = np.mean(data.values[:, 13:21], axis=1)\n",
    "        data = data/(data.sum(axis=1).values.reshape((data.shape[0]), 1))\n",
    "        datasets_normalized_smoothed.append(data)\n"
   ]
  },
  {
   "cell_type": "code",
   "execution_count": 196,
   "metadata": {},
   "outputs": [
    {
     "data": {
      "text/plain": [
       "AVIBASEID\n",
       "000482C9    1.0\n",
       "00124D98    1.0\n",
       "00635FF9    1.0\n",
       "01060BFD    1.0\n",
       "018B3169    1.0\n",
       "           ... \n",
       "FC366114    1.0\n",
       "FD2B0309    1.0\n",
       "FED3756C    1.0\n",
       "FF592882    1.0\n",
       "FFF61080    1.0\n",
       "Length: 331, dtype: float64"
      ]
     },
     "execution_count": 196,
     "metadata": {},
     "output_type": "execute_result"
    }
   ],
   "source": [
    "datasets_normalized[1].sum(axis=1)"
   ]
  },
  {
   "cell_type": "code",
   "execution_count": 197,
   "metadata": {},
   "outputs": [
    {
     "name": "stdout",
     "output_type": "stream",
     "text": [
      "(353, 52)\n",
      "(331, 52)\n",
      "(353, 52)\n",
      "(341, 52)\n"
     ]
    }
   ],
   "source": [
    "for i in datasets_normalized_smoothed:\n",
    "    print(i.shape)"
   ]
  },
  {
   "cell_type": "code",
   "execution_count": 198,
   "metadata": {},
   "outputs": [
    {
     "data": {
      "text/plain": [
       "260"
      ]
     },
     "execution_count": 198,
     "metadata": {},
     "output_type": "execute_result"
    }
   ],
   "source": [
    "len(common_birds_among_all_filter)"
   ]
  },
  {
   "cell_type": "code",
   "execution_count": 202,
   "metadata": {},
   "outputs": [],
   "source": [
    "iNat_curves_19_final = datasets_normalized_smoothed[0].loc[common_birds_among_all_filter, :]\n",
    "iNat_curves_22_final = datasets_normalized_smoothed[1].loc[common_birds_among_all_filter, :]\n",
    "eBird_curves_19_final = datasets_normalized_smoothed[2].loc[common_birds_among_all_filter, :]\n",
    "eBird_curves_22_final = datasets_normalized_smoothed[3].loc[common_birds_among_all_filter, :]"
   ]
  },
  {
   "cell_type": "code",
   "execution_count": 203,
   "metadata": {},
   "outputs": [],
   "source": [
    "iNat_curves_19_final.to_parquet('./generated_data/iNat_curves_19_final.parquet')\n",
    "iNat_curves_22_final.to_parquet('./generated_data/iNat_curves_22_final.parquet')\n",
    "eBird_curves_19_final.to_parquet('./generated_data/eBird_curves_19_final.parquet')\n",
    "eBird_curves_22_final.to_parquet('./generated_data/eBird_curves_22_final.parquet')"
   ]
  },
  {
   "cell_type": "code",
   "execution_count": 206,
   "metadata": {},
   "outputs": [
    {
     "data": {
      "text/plain": [
       "0.1545353753610052"
      ]
     },
     "execution_count": 206,
     "metadata": {},
     "output_type": "execute_result"
    }
   ],
   "source": [
    "jensenshannon(iNat_curves_19_final.values[0, :], iNat_curves_22_final.values[0, :])"
   ]
  },
  {
   "cell_type": "code",
   "execution_count": 207,
   "metadata": {},
   "outputs": [],
   "source": [
    "def generate_js_dist(x, sigma=2):\n",
    "    aviID = x\n",
    "    y1 = iNat_curves_19_final.loc[aviID, :].values.copy()\n",
    "    y1_22 = iNat_curves_22_final.loc[aviID, :].values.copy()\n",
    "    y1_smoothed = function_smoothing(\n",
    "        y1,\n",
    "        sigma=sigma\n",
    "    )\n",
    "    y2_smoothed = function_smoothing(\n",
    "        eBird_curves_19_final.loc[aviID, :],\n",
    "        sigma=sigma\n",
    "    )\n",
    "    y1_smoothed_22 = function_smoothing(\n",
    "        y1_22,\n",
    "        sigma=sigma\n",
    "    )\n",
    "    y2_smoothed_22 = function_smoothing(\n",
    "        eBird_curves_22_final.loc[aviID, :],\n",
    "        sigma=sigma\n",
    "    )\n",
    "    js_dist_inat = (jensenshannon(y1_smoothed, y1_smoothed_22))\n",
    "    js_dist_ebird = (jensenshannon(y2_smoothed, y2_smoothed_22))\n",
    "    js_dist_19 = (jensenshannon(y1_smoothed, y2_smoothed))\n",
    "    js_dist_22 = (jensenshannon(y1_smoothed_22, y2_smoothed_22))\n",
    "    to_return = [\n",
    "        x,\n",
    "        js_dist_inat,\n",
    "        js_dist_ebird,\n",
    "        js_dist_19,\n",
    "        js_dist_22,\n",
    "    ]\n",
    "    return to_return"
   ]
  },
  {
   "cell_type": "code",
   "execution_count": 208,
   "metadata": {},
   "outputs": [],
   "source": [
    "all_js_dist = []\n",
    "for bird in common_birds_among_all_filter:\n",
    "    a = generate_js_dist(bird, sigma=2)\n",
    "    all_js_dist.append(a)\n",
    "\n",
    "    "
   ]
  },
  {
   "cell_type": "code",
   "execution_count": 209,
   "metadata": {},
   "outputs": [],
   "source": [
    "df_all_js_dists = pd.DataFrame(np.array(all_js_dist))"
   ]
  },
  {
   "cell_type": "code",
   "execution_count": 210,
   "metadata": {},
   "outputs": [
    {
     "data": {
      "text/plain": [
       "0    object\n",
       "1    object\n",
       "2    object\n",
       "3    object\n",
       "4    object\n",
       "dtype: object"
      ]
     },
     "execution_count": 210,
     "metadata": {},
     "output_type": "execute_result"
    }
   ],
   "source": [
    "df_all_js_dists.dtypes"
   ]
  },
  {
   "cell_type": "code",
   "execution_count": 211,
   "metadata": {},
   "outputs": [
    {
     "data": {
      "text/html": [
       "<div>\n",
       "<style scoped>\n",
       "    .dataframe tbody tr th:only-of-type {\n",
       "        vertical-align: middle;\n",
       "    }\n",
       "\n",
       "    .dataframe tbody tr th {\n",
       "        vertical-align: top;\n",
       "    }\n",
       "\n",
       "    .dataframe thead th {\n",
       "        text-align: right;\n",
       "    }\n",
       "</style>\n",
       "<table border=\"1\" class=\"dataframe\">\n",
       "  <thead>\n",
       "    <tr style=\"text-align: right;\">\n",
       "      <th></th>\n",
       "      <th>0</th>\n",
       "      <th>1</th>\n",
       "      <th>2</th>\n",
       "      <th>3</th>\n",
       "      <th>4</th>\n",
       "    </tr>\n",
       "  </thead>\n",
       "  <tbody>\n",
       "    <tr>\n",
       "      <th>0</th>\n",
       "      <td>7E327303</td>\n",
       "      <td>0.06670290771414913</td>\n",
       "      <td>0.030301320283779708</td>\n",
       "      <td>0.04588574357257456</td>\n",
       "      <td>0.09385540000636639</td>\n",
       "    </tr>\n",
       "    <tr>\n",
       "      <th>1</th>\n",
       "      <td>AA7901D8</td>\n",
       "      <td>0.062427018725321845</td>\n",
       "      <td>0.034045014862036864</td>\n",
       "      <td>0.056628304790264775</td>\n",
       "      <td>0.029154913689772296</td>\n",
       "    </tr>\n",
       "    <tr>\n",
       "      <th>2</th>\n",
       "      <td>3647E146</td>\n",
       "      <td>0.3269442971269486</td>\n",
       "      <td>0.1379490187200341</td>\n",
       "      <td>0.2033942238004113</td>\n",
       "      <td>0.27768249558300184</td>\n",
       "    </tr>\n",
       "    <tr>\n",
       "      <th>3</th>\n",
       "      <td>9A77D2B0</td>\n",
       "      <td>0.36448711745354084</td>\n",
       "      <td>0.1596377411897463</td>\n",
       "      <td>0.4405479512188041</td>\n",
       "      <td>0.21464007163851537</td>\n",
       "    </tr>\n",
       "    <tr>\n",
       "      <th>4</th>\n",
       "      <td>1CBD2CED</td>\n",
       "      <td>0.3023279275828896</td>\n",
       "      <td>0.14105136347077332</td>\n",
       "      <td>0.2355827469399066</td>\n",
       "      <td>0.23500969473038733</td>\n",
       "    </tr>\n",
       "    <tr>\n",
       "      <th>...</th>\n",
       "      <td>...</td>\n",
       "      <td>...</td>\n",
       "      <td>...</td>\n",
       "      <td>...</td>\n",
       "      <td>...</td>\n",
       "    </tr>\n",
       "    <tr>\n",
       "      <th>255</th>\n",
       "      <td>12E354E2</td>\n",
       "      <td>0.27336623945953537</td>\n",
       "      <td>0.048980657976272664</td>\n",
       "      <td>0.26911691165063184</td>\n",
       "      <td>0.1583061684977432</td>\n",
       "    </tr>\n",
       "    <tr>\n",
       "      <th>256</th>\n",
       "      <td>ACB9D1C6</td>\n",
       "      <td>0.18083052962494486</td>\n",
       "      <td>0.09496597487269194</td>\n",
       "      <td>0.2861865617544564</td>\n",
       "      <td>0.20339920676983514</td>\n",
       "    </tr>\n",
       "    <tr>\n",
       "      <th>257</th>\n",
       "      <td>06B9BD24</td>\n",
       "      <td>0.10362167118886315</td>\n",
       "      <td>0.07663738473070629</td>\n",
       "      <td>0.11992866499921344</td>\n",
       "      <td>0.07246058899060843</td>\n",
       "    </tr>\n",
       "    <tr>\n",
       "      <th>258</th>\n",
       "      <td>F9305BAA</td>\n",
       "      <td>0.09468561557333871</td>\n",
       "      <td>0.08323094518310555</td>\n",
       "      <td>0.10956440116597488</td>\n",
       "      <td>0.09117879161530523</td>\n",
       "    </tr>\n",
       "    <tr>\n",
       "      <th>259</th>\n",
       "      <td>25C94A8F</td>\n",
       "      <td>0.16578000721830166</td>\n",
       "      <td>0.09953536662321352</td>\n",
       "      <td>0.1666480516850453</td>\n",
       "      <td>0.09281947134554125</td>\n",
       "    </tr>\n",
       "  </tbody>\n",
       "</table>\n",
       "<p>260 rows × 5 columns</p>\n",
       "</div>"
      ],
      "text/plain": [
       "            0                     1                     2  \\\n",
       "0    7E327303   0.06670290771414913  0.030301320283779708   \n",
       "1    AA7901D8  0.062427018725321845  0.034045014862036864   \n",
       "2    3647E146    0.3269442971269486    0.1379490187200341   \n",
       "3    9A77D2B0   0.36448711745354084    0.1596377411897463   \n",
       "4    1CBD2CED    0.3023279275828896   0.14105136347077332   \n",
       "..        ...                   ...                   ...   \n",
       "255  12E354E2   0.27336623945953537  0.048980657976272664   \n",
       "256  ACB9D1C6   0.18083052962494486   0.09496597487269194   \n",
       "257  06B9BD24   0.10362167118886315   0.07663738473070629   \n",
       "258  F9305BAA   0.09468561557333871   0.08323094518310555   \n",
       "259  25C94A8F   0.16578000721830166   0.09953536662321352   \n",
       "\n",
       "                        3                     4  \n",
       "0     0.04588574357257456   0.09385540000636639  \n",
       "1    0.056628304790264775  0.029154913689772296  \n",
       "2      0.2033942238004113   0.27768249558300184  \n",
       "3      0.4405479512188041   0.21464007163851537  \n",
       "4      0.2355827469399066   0.23500969473038733  \n",
       "..                    ...                   ...  \n",
       "255   0.26911691165063184    0.1583061684977432  \n",
       "256    0.2861865617544564   0.20339920676983514  \n",
       "257   0.11992866499921344   0.07246058899060843  \n",
       "258   0.10956440116597488   0.09117879161530523  \n",
       "259    0.1666480516850453   0.09281947134554125  \n",
       "\n",
       "[260 rows x 5 columns]"
      ]
     },
     "execution_count": 211,
     "metadata": {},
     "output_type": "execute_result"
    }
   ],
   "source": [
    "df_all_js_dists"
   ]
  },
  {
   "cell_type": "code",
   "execution_count": 212,
   "metadata": {},
   "outputs": [],
   "source": [
    "df_all_js_dists.columns = [\n",
    "    'AvibaseID',\n",
    "    'iNat',\n",
    "    'eBird',\n",
    "    'Y19',\n",
    "    'Y22'\n",
    "]"
   ]
  },
  {
   "cell_type": "code",
   "execution_count": 216,
   "metadata": {},
   "outputs": [],
   "source": [
    "df_all_js_dists['iNat'] = df_all_js_dists['iNat'].astype(float) \n",
    "df_all_js_dists['eBird'] = df_all_js_dists['eBird'].astype(float) \n",
    "df_all_js_dists['Y19'] = df_all_js_dists['Y19'].astype(float) \n",
    "df_all_js_dists['Y22'] = df_all_js_dists['Y22'].astype(float) "
   ]
  },
  {
   "cell_type": "code",
   "execution_count": 217,
   "metadata": {},
   "outputs": [
    {
     "data": {
      "text/html": [
       "<div>\n",
       "<style scoped>\n",
       "    .dataframe tbody tr th:only-of-type {\n",
       "        vertical-align: middle;\n",
       "    }\n",
       "\n",
       "    .dataframe tbody tr th {\n",
       "        vertical-align: top;\n",
       "    }\n",
       "\n",
       "    .dataframe thead th {\n",
       "        text-align: right;\n",
       "    }\n",
       "</style>\n",
       "<table border=\"1\" class=\"dataframe\">\n",
       "  <thead>\n",
       "    <tr style=\"text-align: right;\">\n",
       "      <th></th>\n",
       "      <th>iNat</th>\n",
       "      <th>eBird</th>\n",
       "      <th>Y19</th>\n",
       "      <th>Y22</th>\n",
       "    </tr>\n",
       "  </thead>\n",
       "  <tbody>\n",
       "    <tr>\n",
       "      <th>count</th>\n",
       "      <td>260.000000</td>\n",
       "      <td>260.000000</td>\n",
       "      <td>260.000000</td>\n",
       "      <td>260.000000</td>\n",
       "    </tr>\n",
       "    <tr>\n",
       "      <th>mean</th>\n",
       "      <td>0.191300</td>\n",
       "      <td>0.100552</td>\n",
       "      <td>0.158304</td>\n",
       "      <td>0.131568</td>\n",
       "    </tr>\n",
       "    <tr>\n",
       "      <th>std</th>\n",
       "      <td>0.131466</td>\n",
       "      <td>0.090020</td>\n",
       "      <td>0.092499</td>\n",
       "      <td>0.080906</td>\n",
       "    </tr>\n",
       "    <tr>\n",
       "      <th>min</th>\n",
       "      <td>0.040133</td>\n",
       "      <td>0.024395</td>\n",
       "      <td>0.037482</td>\n",
       "      <td>0.029155</td>\n",
       "    </tr>\n",
       "    <tr>\n",
       "      <th>25%</th>\n",
       "      <td>0.097091</td>\n",
       "      <td>0.047512</td>\n",
       "      <td>0.094915</td>\n",
       "      <td>0.073705</td>\n",
       "    </tr>\n",
       "    <tr>\n",
       "      <th>50%</th>\n",
       "      <td>0.146839</td>\n",
       "      <td>0.071560</td>\n",
       "      <td>0.127721</td>\n",
       "      <td>0.104820</td>\n",
       "    </tr>\n",
       "    <tr>\n",
       "      <th>75%</th>\n",
       "      <td>0.241610</td>\n",
       "      <td>0.115378</td>\n",
       "      <td>0.203800</td>\n",
       "      <td>0.167602</td>\n",
       "    </tr>\n",
       "    <tr>\n",
       "      <th>max</th>\n",
       "      <td>0.719887</td>\n",
       "      <td>0.562660</td>\n",
       "      <td>0.527727</td>\n",
       "      <td>0.443231</td>\n",
       "    </tr>\n",
       "  </tbody>\n",
       "</table>\n",
       "</div>"
      ],
      "text/plain": [
       "             iNat       eBird         Y19         Y22\n",
       "count  260.000000  260.000000  260.000000  260.000000\n",
       "mean     0.191300    0.100552    0.158304    0.131568\n",
       "std      0.131466    0.090020    0.092499    0.080906\n",
       "min      0.040133    0.024395    0.037482    0.029155\n",
       "25%      0.097091    0.047512    0.094915    0.073705\n",
       "50%      0.146839    0.071560    0.127721    0.104820\n",
       "75%      0.241610    0.115378    0.203800    0.167602\n",
       "max      0.719887    0.562660    0.527727    0.443231"
      ]
     },
     "execution_count": 217,
     "metadata": {},
     "output_type": "execute_result"
    }
   ],
   "source": [
    "df_all_js_dists.describe()"
   ]
  },
  {
   "cell_type": "code",
   "execution_count": 225,
   "metadata": {},
   "outputs": [],
   "source": [
    "df_all_js_dists.sort_values(by='eBird', ascending=False).to_clipboard()"
   ]
  },
  {
   "cell_type": "code",
   "execution_count": 227,
   "metadata": {},
   "outputs": [
    {
     "data": {
      "image/png": "[encoded data removed]",
      "text/plain": [
       "<Figure size 640x480 with 1 Axes>"
      ]
     },
     "metadata": {},
     "output_type": "display_data"
    }
   ],
   "source": [
    "make_smooth_curves_rm2wk_iNat('4AAEF549', lims=(0,0.2), sigma=2)\n",
    "# plt.ylabel(\"Week Number of the year (--->)\")"
   ]
  },
  {
   "cell_type": "code",
   "execution_count": 228,
   "metadata": {},
   "outputs": [
    {
     "data": {
      "image/png": "[encoded data removed]",
      "text/plain": [
       "<Figure size 640x480 with 1 Axes>"
      ]
     },
     "metadata": {},
     "output_type": "display_data"
    }
   ],
   "source": [
    "make_smooth_curves_rm2wk_iNat('2DABF98F', lims=(0,0.2), sigma=2)\n",
    "# plt.ylabel(\"Week Number of the year (--->)\")"
   ]
  },
  {
   "cell_type": "code",
   "execution_count": 230,
   "metadata": {},
   "outputs": [
    {
     "data": {
      "image/png": "[encoded data removed]",
      "text/plain": [
       "<Figure size 640x480 with 1 Axes>"
      ]
     },
     "metadata": {},
     "output_type": "display_data"
    }
   ],
   "source": [
    "make_smooth_curves_rm2wk_iNat('115F04DD', lims=(0,0.2), sigma=2)\n",
    "# plt.ylabel(\"Week Number of the year (--->)\")"
   ]
  },
  {
   "cell_type": "code",
   "execution_count": null,
   "metadata": {},
   "outputs": [],
   "source": []
  }
 ],
 "metadata": {
  "kernelspec": {
   "display_name": "Python 3.10.11 ('exp_func')",
   "language": "python",
   "name": "python3"
  },
  "language_info": {
   "codemirror_mode": {
    "name": "ipython",
    "version": 3
   },
   "file_extension": ".py",
   "mimetype": "text/x-python",
   "name": "python",
   "nbconvert_exporter": "python",
   "pygments_lexer": "ipython3",
   "version": "3.10.11"
  },
  "orig_nbformat": 4,
  "vscode": {
   "interpreter": {
    "hash": "51ab48f99c10b131b06c2c5468102467b7e92e0ffbfd68ac19cda9304f04b617"
   }
  }
 },
 "nbformat": 4,
 "nbformat_minor": 2
}
