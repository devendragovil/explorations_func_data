{
 "cells": [
  {
   "cell_type": "code",
   "execution_count": 1,
   "metadata": {},
   "outputs": [],
   "source": [
    "import pandas as pd"
   ]
  },
  {
   "cell_type": "code",
   "execution_count": 2,
   "metadata": {},
   "outputs": [
    {
     "name": "stderr",
     "output_type": "stream",
     "text": [
      "/var/folders/ms/2ygwp03d4b5526gc0h51spqh0000gn/T/ipykernel_17714/1441865066.py:1: DtypeWarning: Columns (138,180) have mixed types. Specify dtype option on import or set low_memory=False.\n",
      "  df_inat =  pd.read_csv('../data/gbif/occurrence.txt', delimiter='\\t', quotechar='\"', usecols=[\n"
     ]
    }
   ],
   "source": [
    "df_inat =  pd.read_csv('../data/gbif/occurrence.txt', delimiter='\\t', quotechar='\"', usecols=[\n",
    "    'taxonID',\n",
    "    'taxonKey',\n",
    "    'countryCode',\n",
    "    'stateProvince',\n",
    "    'decimalLatitude',\n",
    "    'decimalLongitude',\n",
    "    'eventDate',\n",
    "    'acceptedScientificName',\n",
    "    'scientificName',\n",
    "])"
   ]
  },
  {
   "cell_type": "code",
   "execution_count": 3,
   "metadata": {},
   "outputs": [
    {
     "data": {
      "text/plain": [
       "(3321454, 9)"
      ]
     },
     "execution_count": 3,
     "metadata": {},
     "output_type": "execute_result"
    }
   ],
   "source": [
    "df_inat.shape"
   ]
  },
  {
   "cell_type": "code",
   "execution_count": 4,
   "metadata": {},
   "outputs": [],
   "source": [
    "df_inat_22 = pd.read_csv('../data/gbif_22/occurrence.txt', delimiter='\\t', quoting=3, usecols=[\n",
    "    'taxonID',\n",
    "    'taxonKey',\n",
    "    'countryCode',\n",
    "    'stateProvince',\n",
    "    'decimalLatitude',\n",
    "    'decimalLongitude',\n",
    "    'eventDate',\n",
    "    'acceptedScientificName',\n",
    "    'scientificName',\n",
    "])"
   ]
  },
  {
   "cell_type": "code",
   "execution_count": 5,
   "metadata": {},
   "outputs": [
    {
     "data": {
      "text/plain": [
       "(6686625, 9)"
      ]
     },
     "execution_count": 5,
     "metadata": {},
     "output_type": "execute_result"
    }
   ],
   "source": [
    "df_inat_22.shape"
   ]
  },
  {
   "cell_type": "code",
   "execution_count": 6,
   "metadata": {},
   "outputs": [],
   "source": [
    "rel_columns_iNat = [\n",
    "    'taxonID',\n",
    "    'taxonKey',\n",
    "    'countryCode',\n",
    "    'stateProvince',\n",
    "    'decimalLatitude',\n",
    "    'decimalLongitude',\n",
    "    'eventDate',\n",
    "    'acceptedScientificName',\n",
    "    'scientificName',\n",
    "]\n",
    "rel_columns_eBird = [\n",
    "    'TAXON CONCEPT ID',\n",
    "    'OBSERVATION COUNT',\n",
    "    'COUNTRY',\n",
    "    'STATE',\n",
    "    'LATITUDE',\n",
    "    'LONGITUDE',\n",
    "    'OBSERVATION DATE',\n",
    "    'SCIENTIFIC NAME',\n",
    "    'COMMON NAME',\n",
    "]"
   ]
  },
  {
   "cell_type": "code",
   "execution_count": 7,
   "metadata": {},
   "outputs": [
    {
     "name": "stdout",
     "output_type": "stream",
     "text": [
      "Total number of records: \n",
      "3,321,454 for 2019\n",
      "6,686,625 for 2022\n"
     ]
    }
   ],
   "source": [
    "print(f\"Total number of records: \\n{df_inat.shape[0]:,} for 2019\\n{df_inat_22.shape[0]:,} for 2022\")"
   ]
  },
  {
   "cell_type": "code",
   "execution_count": 8,
   "metadata": {},
   "outputs": [],
   "source": [
    "df_eBird = pd.read_csv('../data/eBird/ebd_US-CA_201901_201912_relApr-2023/ebd_US-CA_201901_201912_relApr-2023.txt', sep='\\t', usecols=rel_columns_eBird)"
   ]
  },
  {
   "cell_type": "code",
   "execution_count": 9,
   "metadata": {},
   "outputs": [],
   "source": [
    "df_eBird_22 = pd.read_csv('../data/eBird_ebd_US-CA_202201_202212_relSep-2023/ebd_US-CA_202201_202212_relSep-2023.txt', sep='\\t', usecols=rel_columns_eBird)"
   ]
  },
  {
   "cell_type": "code",
   "execution_count": 10,
   "metadata": {},
   "outputs": [
    {
     "name": "stdout",
     "output_type": "stream",
     "text": [
      "Total number of records for eBird: \n",
      "8,694,926 for 2019\n",
      "12,673,675 for 2022\n"
     ]
    }
   ],
   "source": [
    "print(f\"Total number of records for eBird: \\n{df_eBird.shape[0]:,} for 2019\\n{df_eBird_22.shape[0]:,} for 2022\")"
   ]
  },
  {
   "cell_type": "code",
   "execution_count": 11,
   "metadata": {},
   "outputs": [],
   "source": [
    "df_iNat2 = df_inat[rel_columns_iNat].copy()\n",
    "df_eBird2 = df_eBird[rel_columns_eBird].copy()\n",
    "df_iNat2_22 = df_inat_22[rel_columns_iNat].copy()\n",
    "df_eBird2_22 = df_eBird_22[rel_columns_eBird].copy()"
   ]
  },
  {
   "cell_type": "code",
   "execution_count": 12,
   "metadata": {},
   "outputs": [
    {
     "data": {
      "text/html": [
       "<div>\n",
       "<style scoped>\n",
       "    .dataframe tbody tr th:only-of-type {\n",
       "        vertical-align: middle;\n",
       "    }\n",
       "\n",
       "    .dataframe tbody tr th {\n",
       "        vertical-align: top;\n",
       "    }\n",
       "\n",
       "    .dataframe thead th {\n",
       "        text-align: right;\n",
       "    }\n",
       "</style>\n",
       "<table border=\"1\" class=\"dataframe\">\n",
       "  <thead>\n",
       "    <tr style=\"text-align: right;\">\n",
       "      <th></th>\n",
       "      <th>taxonID</th>\n",
       "      <th>taxonKey</th>\n",
       "      <th>countryCode</th>\n",
       "      <th>stateProvince</th>\n",
       "      <th>decimalLatitude</th>\n",
       "      <th>decimalLongitude</th>\n",
       "      <th>eventDate</th>\n",
       "      <th>acceptedScientificName</th>\n",
       "      <th>scientificName</th>\n",
       "    </tr>\n",
       "  </thead>\n",
       "  <tbody>\n",
       "    <tr>\n",
       "      <th>0</th>\n",
       "      <td>123045</td>\n",
       "      <td>2515238.0</td>\n",
       "      <td>US</td>\n",
       "      <td>California</td>\n",
       "      <td>34.140209</td>\n",
       "      <td>-119.187897</td>\n",
       "      <td>2019-01-30T09:59:56</td>\n",
       "      <td>Puccinia evadens Harkn.</td>\n",
       "      <td>Puccinia evadens Harkn.</td>\n",
       "    </tr>\n",
       "    <tr>\n",
       "      <th>1</th>\n",
       "      <td>84994</td>\n",
       "      <td>5156078.0</td>\n",
       "      <td>US</td>\n",
       "      <td>Florida</td>\n",
       "      <td>28.059126</td>\n",
       "      <td>-82.418194</td>\n",
       "      <td>2019-01-21T14:35:00</td>\n",
       "      <td>Acanthocephala declivis (Say, 1832)</td>\n",
       "      <td>Acanthocephala declivis (Say, 1832)</td>\n",
       "    </tr>\n",
       "    <tr>\n",
       "      <th>2</th>\n",
       "      <td>36204</td>\n",
       "      <td>2451234.0</td>\n",
       "      <td>US</td>\n",
       "      <td>California</td>\n",
       "      <td>35.271399</td>\n",
       "      <td>-120.888941</td>\n",
       "      <td>2019-03-17T13:56:00</td>\n",
       "      <td>Sceloporus occidentalis Baird &amp; Girard, 1852</td>\n",
       "      <td>Sceloporus occidentalis Baird &amp; Girard, 1852</td>\n",
       "    </tr>\n",
       "    <tr>\n",
       "      <th>3</th>\n",
       "      <td>53326</td>\n",
       "      <td>3169708.0</td>\n",
       "      <td>US</td>\n",
       "      <td>Georgia</td>\n",
       "      <td>33.769633</td>\n",
       "      <td>-84.30645</td>\n",
       "      <td>2019-03-29T14:33:23</td>\n",
       "      <td>Vinca major L.</td>\n",
       "      <td>Vinca major L.</td>\n",
       "    </tr>\n",
       "    <tr>\n",
       "      <th>4</th>\n",
       "      <td>9176</td>\n",
       "      <td>5231132.0</td>\n",
       "      <td>US</td>\n",
       "      <td>Texas</td>\n",
       "      <td>33.562034</td>\n",
       "      <td>-101.809798</td>\n",
       "      <td>2019-04-02T12:44:00</td>\n",
       "      <td>Zonotrichia leucophrys (J.R.Forster, 1772)</td>\n",
       "      <td>Zonotrichia leucophrys (J.R.Forster, 1772)</td>\n",
       "    </tr>\n",
       "  </tbody>\n",
       "</table>\n",
       "</div>"
      ],
      "text/plain": [
       "  taxonID   taxonKey countryCode stateProvince  decimalLatitude  \\\n",
       "0  123045  2515238.0          US    California        34.140209   \n",
       "1   84994  5156078.0          US       Florida        28.059126   \n",
       "2   36204  2451234.0          US    California        35.271399   \n",
       "3   53326  3169708.0          US       Georgia        33.769633   \n",
       "4    9176  5231132.0          US         Texas        33.562034   \n",
       "\n",
       "  decimalLongitude            eventDate  \\\n",
       "0      -119.187897  2019-01-30T09:59:56   \n",
       "1       -82.418194  2019-01-21T14:35:00   \n",
       "2      -120.888941  2019-03-17T13:56:00   \n",
       "3        -84.30645  2019-03-29T14:33:23   \n",
       "4      -101.809798  2019-04-02T12:44:00   \n",
       "\n",
       "                         acceptedScientificName  \\\n",
       "0                       Puccinia evadens Harkn.   \n",
       "1           Acanthocephala declivis (Say, 1832)   \n",
       "2  Sceloporus occidentalis Baird & Girard, 1852   \n",
       "3                                Vinca major L.   \n",
       "4    Zonotrichia leucophrys (J.R.Forster, 1772)   \n",
       "\n",
       "                                 scientificName  \n",
       "0                       Puccinia evadens Harkn.  \n",
       "1           Acanthocephala declivis (Say, 1832)  \n",
       "2  Sceloporus occidentalis Baird & Girard, 1852  \n",
       "3                                Vinca major L.  \n",
       "4    Zonotrichia leucophrys (J.R.Forster, 1772)  "
      ]
     },
     "execution_count": 12,
     "metadata": {},
     "output_type": "execute_result"
    }
   ],
   "source": [
    "df_iNat2.head()"
   ]
  },
  {
   "cell_type": "code",
   "execution_count": 13,
   "metadata": {},
   "outputs": [
    {
     "data": {
      "text/plain": [
       "US    3321452\n",
       "Name: countryCode, dtype: int64"
      ]
     },
     "execution_count": 13,
     "metadata": {},
     "output_type": "execute_result"
    }
   ],
   "source": [
    "df_iNat2['countryCode'].value_counts()"
   ]
  },
  {
   "cell_type": "code",
   "execution_count": 14,
   "metadata": {},
   "outputs": [
    {
     "data": {
      "text/plain": [
       "US    6686625\n",
       "Name: countryCode, dtype: int64"
      ]
     },
     "execution_count": 14,
     "metadata": {},
     "output_type": "execute_result"
    }
   ],
   "source": [
    "df_iNat2_22['countryCode'].value_counts()"
   ]
  },
  {
   "cell_type": "markdown",
   "metadata": {},
   "source": [
    "# eBird Analysis"
   ]
  },
  {
   "cell_type": "code",
   "execution_count": 15,
   "metadata": {},
   "outputs": [
    {
     "data": {
      "text/plain": [
       "United States    8694926\n",
       "Name: COUNTRY, dtype: int64"
      ]
     },
     "execution_count": 15,
     "metadata": {},
     "output_type": "execute_result"
    }
   ],
   "source": [
    "df_eBird2['COUNTRY'].value_counts()"
   ]
  },
  {
   "cell_type": "code",
   "execution_count": 16,
   "metadata": {},
   "outputs": [
    {
     "data": {
      "text/plain": [
       "United States    12673675\n",
       "Name: COUNTRY, dtype: int64"
      ]
     },
     "execution_count": 16,
     "metadata": {},
     "output_type": "execute_result"
    }
   ],
   "source": [
    "df_eBird2_22['COUNTRY'].value_counts()"
   ]
  },
  {
   "cell_type": "code",
   "execution_count": 17,
   "metadata": {},
   "outputs": [
    {
     "data": {
      "text/plain": [
       "California    8694926\n",
       "Name: STATE, dtype: int64"
      ]
     },
     "execution_count": 17,
     "metadata": {},
     "output_type": "execute_result"
    }
   ],
   "source": [
    "df_eBird2['STATE'].value_counts()"
   ]
  },
  {
   "cell_type": "code",
   "execution_count": 18,
   "metadata": {},
   "outputs": [
    {
     "data": {
      "text/plain": [
       "California    12673675\n",
       "Name: STATE, dtype: int64"
      ]
     },
     "execution_count": 18,
     "metadata": {},
     "output_type": "execute_result"
    }
   ],
   "source": [
    "df_eBird2_22['STATE'].value_counts()"
   ]
  },
  {
   "cell_type": "code",
   "execution_count": 19,
   "metadata": {},
   "outputs": [
    {
     "data": {
      "text/html": [
       "<div>\n",
       "<style scoped>\n",
       "    .dataframe tbody tr th:only-of-type {\n",
       "        vertical-align: middle;\n",
       "    }\n",
       "\n",
       "    .dataframe tbody tr th {\n",
       "        vertical-align: top;\n",
       "    }\n",
       "\n",
       "    .dataframe thead th {\n",
       "        text-align: right;\n",
       "    }\n",
       "</style>\n",
       "<table border=\"1\" class=\"dataframe\">\n",
       "  <thead>\n",
       "    <tr style=\"text-align: right;\">\n",
       "      <th></th>\n",
       "      <th>TAXON CONCEPT ID</th>\n",
       "      <th>OBSERVATION COUNT</th>\n",
       "      <th>COUNTRY</th>\n",
       "      <th>STATE</th>\n",
       "      <th>LATITUDE</th>\n",
       "      <th>LONGITUDE</th>\n",
       "      <th>OBSERVATION DATE</th>\n",
       "      <th>SCIENTIFIC NAME</th>\n",
       "      <th>COMMON NAME</th>\n",
       "    </tr>\n",
       "  </thead>\n",
       "  <tbody>\n",
       "    <tr>\n",
       "      <th>0</th>\n",
       "      <td>avibase-CA08045E</td>\n",
       "      <td>1</td>\n",
       "      <td>United States</td>\n",
       "      <td>California</td>\n",
       "      <td>37.892331</td>\n",
       "      <td>-122.311800</td>\n",
       "      <td>2019-01-13</td>\n",
       "      <td>Accipiter sp.</td>\n",
       "      <td>Accipiter sp.</td>\n",
       "    </tr>\n",
       "    <tr>\n",
       "      <th>1</th>\n",
       "      <td>avibase-CA08045E</td>\n",
       "      <td>X</td>\n",
       "      <td>United States</td>\n",
       "      <td>California</td>\n",
       "      <td>37.871270</td>\n",
       "      <td>-122.307890</td>\n",
       "      <td>2019-01-01</td>\n",
       "      <td>Accipiter sp.</td>\n",
       "      <td>Accipiter sp.</td>\n",
       "    </tr>\n",
       "    <tr>\n",
       "      <th>2</th>\n",
       "      <td>avibase-CA08045E</td>\n",
       "      <td>1</td>\n",
       "      <td>United States</td>\n",
       "      <td>California</td>\n",
       "      <td>37.834029</td>\n",
       "      <td>-122.238747</td>\n",
       "      <td>2019-01-25</td>\n",
       "      <td>Accipiter sp.</td>\n",
       "      <td>Accipiter sp.</td>\n",
       "    </tr>\n",
       "    <tr>\n",
       "      <th>3</th>\n",
       "      <td>avibase-CA08045E</td>\n",
       "      <td>1</td>\n",
       "      <td>United States</td>\n",
       "      <td>California</td>\n",
       "      <td>37.695328</td>\n",
       "      <td>-121.844741</td>\n",
       "      <td>2019-01-10</td>\n",
       "      <td>Accipiter sp.</td>\n",
       "      <td>Accipiter sp.</td>\n",
       "    </tr>\n",
       "    <tr>\n",
       "      <th>4</th>\n",
       "      <td>avibase-CA08045E</td>\n",
       "      <td>1</td>\n",
       "      <td>United States</td>\n",
       "      <td>California</td>\n",
       "      <td>37.834029</td>\n",
       "      <td>-122.238747</td>\n",
       "      <td>2019-01-25</td>\n",
       "      <td>Accipiter sp.</td>\n",
       "      <td>Accipiter sp.</td>\n",
       "    </tr>\n",
       "  </tbody>\n",
       "</table>\n",
       "</div>"
      ],
      "text/plain": [
       "   TAXON CONCEPT ID OBSERVATION COUNT        COUNTRY       STATE   LATITUDE  \\\n",
       "0  avibase-CA08045E                 1  United States  California  37.892331   \n",
       "1  avibase-CA08045E                 X  United States  California  37.871270   \n",
       "2  avibase-CA08045E                 1  United States  California  37.834029   \n",
       "3  avibase-CA08045E                 1  United States  California  37.695328   \n",
       "4  avibase-CA08045E                 1  United States  California  37.834029   \n",
       "\n",
       "    LONGITUDE OBSERVATION DATE SCIENTIFIC NAME    COMMON NAME  \n",
       "0 -122.311800       2019-01-13   Accipiter sp.  Accipiter sp.  \n",
       "1 -122.307890       2019-01-01   Accipiter sp.  Accipiter sp.  \n",
       "2 -122.238747       2019-01-25   Accipiter sp.  Accipiter sp.  \n",
       "3 -121.844741       2019-01-10   Accipiter sp.  Accipiter sp.  \n",
       "4 -122.238747       2019-01-25   Accipiter sp.  Accipiter sp.  "
      ]
     },
     "execution_count": 19,
     "metadata": {},
     "output_type": "execute_result"
    }
   ],
   "source": [
    "df_eBird2.head()"
   ]
  },
  {
   "cell_type": "code",
   "execution_count": 20,
   "metadata": {},
   "outputs": [],
   "source": [
    "df_eBird2['AVIBASEID'] = df_eBird2['TAXON CONCEPT ID'].apply(lambda x : x[-8:])\n",
    "df_eBird2_22['AVIBASEID'] = df_eBird2_22['TAXON CONCEPT ID'].apply(lambda x : x[-8:])"
   ]
  },
  {
   "cell_type": "markdown",
   "metadata": {},
   "source": [
    "# EDA on the whole dataset without any filters"
   ]
  },
  {
   "cell_type": "code",
   "execution_count": 21,
   "metadata": {},
   "outputs": [
    {
     "name": "stdout",
     "output_type": "stream",
     "text": [
      "\n",
      "    Some important statistics:\n",
      "    +-------+------+------------+\n",
      "    | eBird | 2019 | 8,694,926 |\n",
      "    | eBird | 2022 | 12,673,675 |\n",
      "    | iNat  | 2019 | 3,321,454 |\n",
      "    | iNat  | 2022 | 6,686,625 |\n",
      "\n"
     ]
    }
   ],
   "source": [
    "print(f\"\"\"\n",
    "    Some important statistics:\n",
    "    +-------+------+------------+\n",
    "    | eBird | 2019 | {df_eBird2.shape[0]:,} |\n",
    "    | eBird | 2022 | {df_eBird2_22.shape[0]:,} |\n",
    "    | iNat  | 2019 | {df_iNat2.shape[0]:,} |\n",
    "    | iNat  | 2022 | {df_iNat2_22.shape[0]:,} |\n",
    "\"\"\")"
   ]
  },
  {
   "cell_type": "code",
   "execution_count": 22,
   "metadata": {},
   "outputs": [
    {
     "name": "stdout",
     "output_type": "stream",
     "text": [
      "\n",
      "    Some important statistics:\n",
      "    +-------+------+-----------------+---------------+\n",
      "    | data  | year | category        | value         |\n",
      "    | eBird | 2019 | nunique species | 1,088 |\n",
      "    | eBird | 2022 | nunique species | 1,108 |\n",
      "    | iNat  | 2019 | nunique species | 49,685 |\n",
      "    | iNat  | 2022 | nunique species | 58,267 |\n",
      "\n"
     ]
    }
   ],
   "source": [
    "print(f\"\"\"\n",
    "    Some important statistics:\n",
    "    +-------+------+-----------------+---------------+\n",
    "    | data  | year | category        | value         |\n",
    "    | eBird | 2019 | nunique species | {df_eBird2['TAXON CONCEPT ID'].nunique():,} |\n",
    "    | eBird | 2022 | nunique species | {df_eBird2_22['TAXON CONCEPT ID'].nunique():,} |\n",
    "    | iNat  | 2019 | nunique species | {df_iNat2['taxonID'].nunique():,} |\n",
    "    | iNat  | 2022 | nunique species | {df_iNat2_22['taxonID'].nunique():,} |\n",
    "\"\"\")"
   ]
  },
  {
   "cell_type": "code",
   "execution_count": 23,
   "metadata": {},
   "outputs": [],
   "source": [
    "df_eBird_median_by_species = df_eBird2[df_eBird2['OBSERVATION COUNT']!='X'].groupby('AVIBASEID')['OBSERVATION COUNT'].median().to_dict()\n",
    "df_eBird_median_by_species_22 = df_eBird2_22[df_eBird2_22['OBSERVATION COUNT']!='X'].groupby('AVIBASEID')['OBSERVATION COUNT'].median().to_dict()"
   ]
  },
  {
   "cell_type": "code",
   "execution_count": 24,
   "metadata": {},
   "outputs": [],
   "source": [
    "df_eBird2['OBSCOUNT'] = df_eBird2[['AVIBASEID','OBSERVATION COUNT']].apply(\n",
    "    lambda row: (df_eBird_median_by_species[row['AVIBASEID']] if row['AVIBASEID'] in df_eBird_median_by_species else 1) if row['OBSERVATION COUNT'] == 'X' else row['OBSERVATION COUNT'],\n",
    "    axis=1\n",
    ")\n",
    "df_eBird2_22['OBSCOUNT'] = df_eBird2_22[['AVIBASEID','OBSERVATION COUNT']].apply(\n",
    "    lambda row: (df_eBird_median_by_species[row['AVIBASEID']] if row['AVIBASEID'] in df_eBird_median_by_species else 1) if row['OBSERVATION COUNT'] == 'X' else row['OBSERVATION COUNT'],\n",
    "    axis=1\n",
    ")"
   ]
  },
  {
   "cell_type": "code",
   "execution_count": 25,
   "metadata": {},
   "outputs": [],
   "source": [
    "df_eBird2['OBSCOUNT'] = df_eBird2['OBSCOUNT'].astype(float)\n",
    "df_eBird2_22['OBSCOUNT'] = df_eBird2_22['OBSCOUNT'].astype(float)"
   ]
  },
  {
   "cell_type": "code",
   "execution_count": 26,
   "metadata": {},
   "outputs": [
    {
     "name": "stdout",
     "output_type": "stream",
     "text": [
      "\n",
      "    Some important statistics:\n",
      "    +-------+------+----------+---------------+----------------+\n",
      "    | data  | year | category |  value  \t| increase (%) \t|\n",
      "    | eBird | 2019 | num rows | 8,694,926 \t|     NaN \t|\n",
      "    | eBird | 2022 | num rows | 12,673,675 \t| 45.7594\t |\n",
      "    | eBird | 2019 | agg rows | 255,405,907.5 \t|     NaN \t|\n",
      "    | eBird | 2022 | agg rows | 372,180,164.5 \t| 45.7210\t |\n",
      "    | iNat  | 2019 | num rows | 3,321,454 \t|     NaN \t|\n",
      "    | iNat  | 2022 | num rows | 6,686,625 \t| 101.3162\t |\n",
      "\n"
     ]
    }
   ],
   "source": [
    "print(f\"\"\"\n",
    "    Some important statistics:\n",
    "    +-------+------+----------+---------------+----------------+\n",
    "    | data  | year | category |  value  \\t| increase (%) \\t|\n",
    "    | eBird | 2019 | num rows | {df_eBird2.shape[0]:,} \\t|     NaN \\t|\n",
    "    | eBird | 2022 | num rows | {df_eBird2_22.shape[0]:,} \\t| {100*(df_eBird2_22.shape[0]-df_eBird2.shape[0])/df_eBird2.shape[0]:.4f}\\t |\n",
    "    | eBird | 2019 | agg rows | {df_eBird2['OBSCOUNT'].sum():,} \\t|     NaN \\t|\n",
    "    | eBird | 2022 | agg rows | {df_eBird2_22['OBSCOUNT'].sum():,} \\t| {100*(df_eBird2_22['OBSCOUNT'].sum() - df_eBird2['OBSCOUNT'].sum())/df_eBird2['OBSCOUNT'].sum():.4f}\\t |\n",
    "    | iNat  | 2019 | num rows | {df_iNat2.shape[0]:,} \\t|     NaN \\t|\n",
    "    | iNat  | 2022 | num rows | {df_iNat2_22.shape[0]:,} \\t| {100*(df_iNat2_22.shape[0]-df_iNat2.shape[0])/df_iNat2.shape[0]:.4f}\\t |\n",
    "\"\"\")"
   ]
  },
  {
   "cell_type": "markdown",
   "metadata": {},
   "source": [
    "# Beginning the filtering"
   ]
  },
  {
   "cell_type": "code",
   "execution_count": 27,
   "metadata": {},
   "outputs": [],
   "source": [
    "df_eBird3 = df_eBird2[\n",
    "    (df_eBird2['LATITUDE']>=36.4701132878)\n",
    "    &\n",
    "    (df_eBird2['LATITUDE']<=42.009518)\n",
    "    &\n",
    "    (df_eBird2['LONGITUDE']>= -124.409591)\n",
    "    &\n",
    "    (df_eBird2['LONGITUDE']<= -114.131211)\n",
    "].copy()\n",
    "df_eBird3_22 = df_eBird2_22[\n",
    "    (df_eBird2_22['LATITUDE']>=36.4701132878)\n",
    "    &\n",
    "    (df_eBird2_22['LATITUDE']<=42.009518)\n",
    "    &\n",
    "    (df_eBird2_22['LONGITUDE']>= -124.409591)\n",
    "    &\n",
    "    (df_eBird2_22['LONGITUDE']<= -114.131211)\n",
    "].copy()"
   ]
  },
  {
   "cell_type": "code",
   "execution_count": 28,
   "metadata": {},
   "outputs": [],
   "source": [
    "df_eBird3['observation_datetime'] = pd.to_datetime(df_eBird3['OBSERVATION DATE'])\n",
    "df_eBird3_22['observation_datetime'] = pd.to_datetime(df_eBird3_22['OBSERVATION DATE'])"
   ]
  },
  {
   "cell_type": "code",
   "execution_count": 29,
   "metadata": {},
   "outputs": [
    {
     "name": "stderr",
     "output_type": "stream",
     "text": [
      "/var/folders/ms/2ygwp03d4b5526gc0h51spqh0000gn/T/ipykernel_17714/1873497601.py:1: FutureWarning: Series.dt.weekofyear and Series.dt.week have been deprecated. Please use Series.dt.isocalendar().week instead.\n",
      "  df_eBird3['WEEK'] = df_eBird3['observation_datetime'].dt.week\n",
      "/var/folders/ms/2ygwp03d4b5526gc0h51spqh0000gn/T/ipykernel_17714/1873497601.py:2: FutureWarning: Series.dt.weekofyear and Series.dt.week have been deprecated. Please use Series.dt.isocalendar().week instead.\n",
      "  df_eBird3_22['WEEK'] = df_eBird3_22['observation_datetime'].dt.week\n"
     ]
    }
   ],
   "source": [
    "df_eBird3['WEEK'] = df_eBird3['observation_datetime'].dt.week\n",
    "df_eBird3_22['WEEK'] = df_eBird3_22['observation_datetime'].dt.week"
   ]
  },
  {
   "cell_type": "code",
   "execution_count": 30,
   "metadata": {},
   "outputs": [],
   "source": [
    "df_eBird3['YEAR'] = df_eBird3['observation_datetime'].dt.year\n",
    "df_eBird3_22['YEAR'] = df_eBird3_22['observation_datetime'].dt.year"
   ]
  },
  {
   "cell_type": "code",
   "execution_count": 31,
   "metadata": {},
   "outputs": [
    {
     "data": {
      "text/plain": [
       "(US    3321452\n",
       " Name: countryCode, dtype: int64,\n",
       " US    6686625\n",
       " Name: countryCode, dtype: int64)"
      ]
     },
     "execution_count": 31,
     "metadata": {},
     "output_type": "execute_result"
    }
   ],
   "source": [
    "df_iNat2['countryCode'].value_counts(),\\\n",
    "df_iNat2_22['countryCode'].value_counts()"
   ]
  },
  {
   "cell_type": "code",
   "execution_count": 32,
   "metadata": {},
   "outputs": [],
   "source": [
    "df_iNat2['observation_dt'] = pd.to_datetime(df_iNat2['eventDate'])\n",
    "df_iNat2_22['observation_dt'] = pd.to_datetime(df_iNat2_22['eventDate'])"
   ]
  },
  {
   "cell_type": "code",
   "execution_count": 33,
   "metadata": {},
   "outputs": [],
   "source": [
    "df_iNat3 = df_iNat2[df_iNat2['stateProvince'] == 'California'].copy()\n",
    "df_iNat3_22 = df_iNat2_22[df_iNat2_22['stateProvince'] == 'California'].copy()"
   ]
  },
  {
   "cell_type": "code",
   "execution_count": 34,
   "metadata": {},
   "outputs": [],
   "source": [
    "df_iNat3['decimalLatitude'] = df_iNat3['decimalLatitude'].astype(float)\n",
    "df_iNat3['decimalLongitude'] = df_iNat3['decimalLongitude'].astype(float)\n",
    "df_iNat3_22['decimalLatitude'] = df_iNat3_22['decimalLatitude'].astype(float)\n",
    "df_iNat3_22['decimalLongitude'] = df_iNat3_22['decimalLongitude'].astype(float)"
   ]
  },
  {
   "cell_type": "code",
   "execution_count": 35,
   "metadata": {},
   "outputs": [],
   "source": [
    "df_iNat4 = df_iNat3[\n",
    "    (df_iNat3['decimalLatitude']>=36.4701132878)\n",
    "    &\n",
    "    (df_iNat3['decimalLatitude']<=42.009518)\n",
    "    &\n",
    "    (df_iNat3['decimalLongitude']>= -124.409591)\n",
    "    &\n",
    "    (df_iNat3['decimalLongitude']<= -114.131211)\n",
    "].copy()\n",
    "df_iNat4_22 = df_iNat3_22[\n",
    "    (df_iNat3_22['decimalLatitude']>=36.4701132878)\n",
    "    &\n",
    "    (df_iNat3_22['decimalLatitude']<=42.009518)\n",
    "    &\n",
    "    (df_iNat3_22['decimalLongitude']>= -124.409591)\n",
    "    &\n",
    "    (df_iNat3_22['decimalLongitude']<= -114.131211)\n",
    "].copy()"
   ]
  },
  {
   "cell_type": "code",
   "execution_count": 36,
   "metadata": {},
   "outputs": [
    {
     "name": "stderr",
     "output_type": "stream",
     "text": [
      "/var/folders/ms/2ygwp03d4b5526gc0h51spqh0000gn/T/ipykernel_17714/2923923569.py:2: FutureWarning: Series.dt.weekofyear and Series.dt.week have been deprecated. Please use Series.dt.isocalendar().week instead.\n",
      "  df_iNat4['WEEK'] = df_iNat4['observation_dt'].dt.week\n",
      "/var/folders/ms/2ygwp03d4b5526gc0h51spqh0000gn/T/ipykernel_17714/2923923569.py:4: FutureWarning: Series.dt.weekofyear and Series.dt.week have been deprecated. Please use Series.dt.isocalendar().week instead.\n",
      "  df_iNat4_22['WEEK'] = df_iNat4_22['observation_dt'].dt.week\n"
     ]
    }
   ],
   "source": [
    "df_iNat4['YEAR'] = df_iNat4['observation_dt'].dt.year\n",
    "df_iNat4['WEEK'] = df_iNat4['observation_dt'].dt.week\n",
    "df_iNat4_22['YEAR'] = df_iNat4_22['observation_dt'].dt.year\n",
    "df_iNat4_22['WEEK'] = df_iNat4_22['observation_dt'].dt.week"
   ]
  },
  {
   "cell_type": "code",
   "execution_count": 37,
   "metadata": {},
   "outputs": [
    {
     "name": "stdout",
     "output_type": "stream",
     "text": [
      "\n",
      "    Some important statistics after filtering\n",
      "\n",
      "    for geographic area:\n",
      "    +-------+------+---------------------+----------------------+----------------+\n",
      "    | data  | year |      category       |  value  \t\t| increase (%) \t|\n",
      "    +-------+------+---------------------+----------------------+----------------+\n",
      "    | eBird | 2019 |   num rows (all)    |   8,694,926 \t\t|     NaN \t|\n",
      "    | eBird | 2022 |   num rows (all)    |   12,673,675 \t| 45.7594\t|\n",
      "    | eBird | 2019 |   agg rows (all)    |   255,405,907.5 \t|     NaN \t|\n",
      "    | eBird | 2022 |   agg rows (all)    |   372,180,164.5 \t| 45.7210\t|\n",
      "    | iNat  | 2019 |   num rows (all)    |   3,321,454 \t\t|     NaN \t|\n",
      "    | iNat  | 2022 |   num rows (all)    |   6,686,625 \t\t| 101.3162\t|\n",
      "    | eBird | 2019 |   num rows (filt)   |   5,168,169 \t\t|     NaN \t|\n",
      "    | eBird | 2022 |   num rows (filt)   |   7,018,777 \t\t| 35.8078\t|\n",
      "    | eBird | 2019 |   agg rows (filt)   |   218,303,859.5 \t|     NaN \t|\n",
      "    | eBird | 2022 |   agg rows (filt)   |   318,394,691.0 \t| 45.8493\t|\n",
      "    | iNat  | 2019 |   num rows (filt)   |   363,386 \t \t|     NaN \t|\n",
      "    | iNat  | 2022 |   num rows (filt)   |   658,345 \t\t| 81.1696\t|\n",
      "    | eBird | 2019 | nunq species (all)  |   1,088 \t\t|\n",
      "    | eBird | 2022 | nunq species (all)  |   1,108 \t\t|\n",
      "    | iNat  | 2019 | nunq species (all)  |   49,685 \t\t|\n",
      "    | iNat  | 2022 | nunq species (all)  |   58,267 \t\t|\n",
      "    | eBird | 2019 | nunq species (fil)  |   918 \t\t|\n",
      "    | eBird | 2022 | nunq species (fil)  |   953 \t\t|\n",
      "    | iNat  | 2019 | nunq species (fil)  |   10,757 \t\t|\n",
      "    | iNat  | 2022 | nunq species (fil)  |   12,273 \t\t|\n",
      "\n"
     ]
    }
   ],
   "source": [
    "print(f\"\"\"\n",
    "    Some important statistics after filtering\\n\n",
    "    for geographic area:\n",
    "    +-------+------+---------------------+----------------------+----------------+\n",
    "    | data  | year |      category       |  value  \\t\\t| increase (%) \\t|\n",
    "    +-------+------+---------------------+----------------------+----------------+\n",
    "    | eBird | 2019 |   num rows (all)    |   {df_eBird2.shape[0]:,} \\t\\t|     NaN \\t|\n",
    "    | eBird | 2022 |   num rows (all)    |   {df_eBird2_22.shape[0]:,} \\t| {100*(df_eBird2_22.shape[0]-df_eBird2.shape[0])/df_eBird2.shape[0]:.4f}\\t|\n",
    "    | eBird | 2019 |   agg rows (all)    |   {df_eBird2['OBSCOUNT'].sum():,} \\t|     NaN \\t|\n",
    "    | eBird | 2022 |   agg rows (all)    |   {df_eBird2_22['OBSCOUNT'].sum():,} \\t| {100*(df_eBird2_22['OBSCOUNT'].sum() - df_eBird2['OBSCOUNT'].sum())/df_eBird2['OBSCOUNT'].sum():.4f}\\t|\n",
    "    | iNat  | 2019 |   num rows (all)    |   {df_iNat2.shape[0]:,} \\t\\t|     NaN \\t|\n",
    "    | iNat  | 2022 |   num rows (all)    |   {df_iNat2_22.shape[0]:,} \\t\\t| {100*(df_iNat2_22.shape[0]-df_iNat2.shape[0])/df_iNat2.shape[0]:.4f}\\t|\n",
    "    | eBird | 2019 |   num rows (filt)   |   {df_eBird3.shape[0]:,} \\t\\t|     NaN \\t|\n",
    "    | eBird | 2022 |   num rows (filt)   |   {df_eBird3_22.shape[0]:,} \\t\\t| {100*(df_eBird3_22.shape[0]-df_eBird3.shape[0])/df_eBird3.shape[0]:.4f}\\t|\n",
    "    | eBird | 2019 |   agg rows (filt)   |   {df_eBird3['OBSCOUNT'].sum():,} \\t|     NaN \\t|\n",
    "    | eBird | 2022 |   agg rows (filt)   |   {df_eBird3_22['OBSCOUNT'].sum():,} \\t| {100*(df_eBird3_22['OBSCOUNT'].sum() - df_eBird3['OBSCOUNT'].sum())/df_eBird3['OBSCOUNT'].sum():.4f}\\t|\n",
    "    | iNat  | 2019 |   num rows (filt)   |   {df_iNat4.shape[0]:,} \\t \\t|     NaN \\t|\n",
    "    | iNat  | 2022 |   num rows (filt)   |   {df_iNat4_22.shape[0]:,} \\t\\t| {100*(df_iNat4_22.shape[0]-df_iNat4.shape[0])/df_iNat4.shape[0]:.4f}\\t|\n",
    "    | eBird | 2019 | nunq species (all)  |   {df_eBird2['TAXON CONCEPT ID'].nunique():,} \\t\\t|\n",
    "    | eBird | 2022 | nunq species (all)  |   {df_eBird2_22['TAXON CONCEPT ID'].nunique():,} \\t\\t|\n",
    "    | iNat  | 2019 | nunq species (all)  |   {df_iNat2['taxonID'].nunique():,} \\t\\t|\n",
    "    | iNat  | 2022 | nunq species (all)  |   {df_iNat2_22['taxonID'].nunique():,} \\t\\t|\n",
    "    | eBird | 2019 | nunq species (fil)  |   {df_eBird3['TAXON CONCEPT ID'].nunique():,} \\t\\t|\n",
    "    | eBird | 2022 | nunq species (fil)  |   {df_eBird3_22['TAXON CONCEPT ID'].nunique():,} \\t\\t|\n",
    "    | iNat  | 2019 | nunq species (fil)  |   {df_iNat4['taxonID'].nunique():,} \\t\\t|\n",
    "    | iNat  | 2022 | nunq species (fil)  |   {df_iNat4_22['taxonID'].nunique():,} \\t\\t|\n",
    "\"\"\")"
   ]
  },
  {
   "cell_type": "markdown",
   "metadata": {},
   "source": [
    "# Merging iNat and eBird"
   ]
  },
  {
   "cell_type": "code",
   "execution_count": 38,
   "metadata": {},
   "outputs": [
    {
     "name": "stderr",
     "output_type": "stream",
     "text": [
      "/var/folders/ms/2ygwp03d4b5526gc0h51spqh0000gn/T/ipykernel_17714/2743186917.py:1: DtypeWarning: Columns (1) have mixed types. Specify dtype option on import or set low_memory=False.\n",
      "  df_tax_key = pd.read_csv('../data/query_taxonIDs_various.csv')\n"
     ]
    }
   ],
   "source": [
    "df_tax_key = pd.read_csv('../data/query_taxonIDs_various.csv')"
   ]
  },
  {
   "cell_type": "code",
   "execution_count": 39,
   "metadata": {},
   "outputs": [
    {
     "name": "stdout",
     "output_type": "stream",
     "text": [
      "<class 'pandas.core.frame.DataFrame'>\n",
      "RangeIndex: 830987 entries, 0 to 830986\n",
      "Data columns (total 5 columns):\n",
      " #   Column     Non-Null Count   Dtype  \n",
      "---  ------     --------------   -----  \n",
      " 0   item       830987 non-null  object \n",
      " 1   iNat_Tid   830987 non-null  object \n",
      " 2   ITIS_TSN   314392 non-null  float64\n",
      " 3   GBF_ID     809035 non-null  float64\n",
      " 4   avibaseid  8795 non-null    object \n",
      "dtypes: float64(2), object(3)\n",
      "memory usage: 31.7+ MB\n"
     ]
    }
   ],
   "source": [
    "df_tax_key.info()"
   ]
  },
  {
   "cell_type": "markdown",
   "metadata": {},
   "source": [
    "# Adding avibase-id to iNat"
   ]
  },
  {
   "cell_type": "code",
   "execution_count": 40,
   "metadata": {},
   "outputs": [],
   "source": [
    "df_tax_key_fil = df_tax_key[~df_tax_key['avibaseid'].isna()]"
   ]
  },
  {
   "cell_type": "code",
   "execution_count": 41,
   "metadata": {},
   "outputs": [],
   "source": [
    "df_tax_key_fil = df_tax_key_fil[df_tax_key_fil['iNat_Tid']!='Frank'].copy()"
   ]
  },
  {
   "cell_type": "code",
   "execution_count": 42,
   "metadata": {},
   "outputs": [],
   "source": [
    "df_tax_key_fil['iNat_Tid_num']= df_tax_key_fil['iNat_Tid'].astype(float)"
   ]
  },
  {
   "cell_type": "code",
   "execution_count": 43,
   "metadata": {},
   "outputs": [],
   "source": [
    "merge_process1 = df_iNat4.merge(right=df_tax_key_fil, how='left', left_on='taxonID', right_on='iNat_Tid_num')\n",
    "merge_process1_22 = df_iNat4_22.merge(right=df_tax_key_fil, how='left', left_on='taxonID', right_on='iNat_Tid_num')"
   ]
  },
  {
   "cell_type": "code",
   "execution_count": 44,
   "metadata": {},
   "outputs": [],
   "source": [
    "merge_process2 = [x[0:8] for x in merge_process1['avibaseid'].dropna().values]\n",
    "merge_process2_22 = [x[0:8] for x in merge_process1_22['avibaseid'].dropna().values]"
   ]
  },
  {
   "cell_type": "code",
   "execution_count": 45,
   "metadata": {},
   "outputs": [],
   "source": [
    "merge_process3 = list(set(merge_process2))\n",
    "merge_process3_22 = list(set(merge_process2))"
   ]
  },
  {
   "cell_type": "code",
   "execution_count": 46,
   "metadata": {},
   "outputs": [
    {
     "data": {
      "text/plain": [
       "(392, 392)"
      ]
     },
     "execution_count": 46,
     "metadata": {},
     "output_type": "execute_result"
    }
   ],
   "source": [
    "len(merge_process3), len(merge_process3_22)"
   ]
  },
  {
   "cell_type": "code",
   "execution_count": 47,
   "metadata": {},
   "outputs": [],
   "source": [
    "final_list_birds = [x for x in df_eBird3['AVIBASEID'].unique() if x in merge_process3]\n",
    "final_list_birds_22 = [x for x in df_eBird3_22['AVIBASEID'].unique() if x in merge_process3_22]"
   ]
  },
  {
   "cell_type": "code",
   "execution_count": 48,
   "metadata": {},
   "outputs": [
    {
     "data": {
      "text/plain": [
       "(353, 341)"
      ]
     },
     "execution_count": 48,
     "metadata": {},
     "output_type": "execute_result"
    }
   ],
   "source": [
    "len(final_list_birds), len(final_list_birds_22)"
   ]
  },
  {
   "cell_type": "markdown",
   "metadata": {},
   "source": [
    "### Interestingly enough the number of birds that are common in both iNat and Avibase have decreased! "
   ]
  },
  {
   "cell_type": "code",
   "execution_count": 49,
   "metadata": {},
   "outputs": [],
   "source": [
    "final_list_birds2_l = list(set(final_list_birds))\n",
    "final_list_birds2_s = set(final_list_birds)\n",
    "final_list_birds2_l_22 = list(set(final_list_birds_22))\n",
    "final_list_birds2_s_22 = set(final_list_birds_22)"
   ]
  },
  {
   "cell_type": "code",
   "execution_count": 50,
   "metadata": {},
   "outputs": [
    {
     "data": {
      "text/plain": [
       "(353, 341)"
      ]
     },
     "execution_count": 50,
     "metadata": {},
     "output_type": "execute_result"
    }
   ],
   "source": [
    "len(final_list_birds2_l), len(final_list_birds2_l_22)"
   ]
  },
  {
   "cell_type": "markdown",
   "metadata": {},
   "source": [
    "# Filtering only the relevant birds"
   ]
  },
  {
   "cell_type": "code",
   "execution_count": 51,
   "metadata": {},
   "outputs": [],
   "source": [
    "df_eBird4 = df_eBird3[df_eBird3['AVIBASEID'].isin(final_list_birds2_s)]\n",
    "df_eBird4_22 = df_eBird3_22[df_eBird3_22['AVIBASEID'].isin(final_list_birds2_s_22)]"
   ]
  },
  {
   "cell_type": "code",
   "execution_count": 52,
   "metadata": {},
   "outputs": [
    {
     "data": {
      "text/plain": [
       "((364365, 18), (660098, 18))"
      ]
     },
     "execution_count": 52,
     "metadata": {},
     "output_type": "execute_result"
    }
   ],
   "source": [
    "merge_process1.shape, merge_process1_22.shape"
   ]
  },
  {
   "cell_type": "code",
   "execution_count": 53,
   "metadata": {},
   "outputs": [],
   "source": [
    "df_iNat5 = merge_process1[~(merge_process1['avibaseid'].isna())].copy()\n",
    "df_iNat5_22 = merge_process1_22[~(merge_process1_22['avibaseid'].isna())].copy()"
   ]
  },
  {
   "cell_type": "code",
   "execution_count": 54,
   "metadata": {},
   "outputs": [],
   "source": [
    "df_iNat5['AVIBASEID'] = df_iNat5['avibaseid'].apply(lambda x: x[0:8])\n",
    "df_iNat5_22['AVIBASEID'] = df_iNat5_22['avibaseid'].apply(lambda x: x[0:8])"
   ]
  },
  {
   "cell_type": "code",
   "execution_count": 55,
   "metadata": {},
   "outputs": [],
   "source": [
    "df_iNat6 = df_iNat5.drop_duplicates().copy()\n",
    "df_iNat6_22 = df_iNat5_22.drop_duplicates().copy()"
   ]
  },
  {
   "cell_type": "code",
   "execution_count": 56,
   "metadata": {},
   "outputs": [],
   "source": [
    "df_iNat7 = df_iNat6[df_iNat6['AVIBASEID'].isin(final_list_birds2_s)]\n",
    "df_iNat7_22 = df_iNat6_22[df_iNat6_22['AVIBASEID'].isin(final_list_birds2_s_22)]"
   ]
  },
  {
   "cell_type": "markdown",
   "metadata": {},
   "source": [
    "# Adding Bird Name"
   ]
  },
  {
   "cell_type": "code",
   "execution_count": 58,
   "metadata": {},
   "outputs": [],
   "source": [
    "name_birds = df_eBird[['TAXON CONCEPT ID', 'COMMON NAME']]\n",
    "name_birds_22 = df_eBird_22[['TAXON CONCEPT ID', 'COMMON NAME']]"
   ]
  },
  {
   "cell_type": "code",
   "execution_count": 59,
   "metadata": {},
   "outputs": [],
   "source": [
    "name_birds2 = name_birds.drop_duplicates().copy()\n",
    "name_birds2_22 = name_birds_22.drop_duplicates().copy()"
   ]
  },
  {
   "cell_type": "code",
   "execution_count": 60,
   "metadata": {},
   "outputs": [
    {
     "data": {
      "text/plain": [
       "((1088, 2), (1108, 2))"
      ]
     },
     "execution_count": 60,
     "metadata": {},
     "output_type": "execute_result"
    }
   ],
   "source": [
    "name_birds2.shape, name_birds2_22.shape"
   ]
  },
  {
   "cell_type": "code",
   "execution_count": 61,
   "metadata": {},
   "outputs": [],
   "source": [
    "name_birds2['AVIBASEID'] = name_birds2['TAXON CONCEPT ID'].apply(lambda x: x[-8:])\n",
    "name_birds2_22['AVIBASEID'] = name_birds2_22['TAXON CONCEPT ID'].apply(lambda x: x[-8:])"
   ]
  },
  {
   "cell_type": "code",
   "execution_count": 62,
   "metadata": {},
   "outputs": [],
   "source": [
    "df_eBird5 = df_eBird4.merge(name_birds2, how='left', on='AVIBASEID')\n",
    "df_eBird5_22 = df_eBird4_22.merge(name_birds2_22, how='left', on='AVIBASEID')"
   ]
  },
  {
   "cell_type": "code",
   "execution_count": 63,
   "metadata": {},
   "outputs": [],
   "source": [
    "df_iNat8 = df_iNat7.merge(name_birds2, how='left', on='AVIBASEID')\n",
    "df_iNat8_22 = df_iNat7_22.merge(name_birds2_22, how='left', on='AVIBASEID')"
   ]
  },
  {
   "cell_type": "code",
   "execution_count": 64,
   "metadata": {},
   "outputs": [],
   "source": [
    "eBird_avibaseid_counts = df_eBird5.groupby(['AVIBASEID']).count()['STATE'].to_dict()\n",
    "eBird_avibaseid_counts_22 = df_eBird5_22.groupby(['AVIBASEID']).count()['STATE'].to_dict()"
   ]
  },
  {
   "cell_type": "code",
   "execution_count": 65,
   "metadata": {},
   "outputs": [],
   "source": [
    "iNat_avibaseid_counts = df_iNat8.groupby(\"AVIBASEID\").count()['stateProvince'].to_dict()\n",
    "iNat_avibaseid_counts_22 = df_iNat8_22.groupby(\"AVIBASEID\").count()['stateProvince'].to_dict()"
   ]
  },
  {
   "cell_type": "code",
   "execution_count": 69,
   "metadata": {},
   "outputs": [],
   "source": [
    "df_eBird5['COMMON NAME'] = df_eBird5['COMMON NAME_x']\n",
    "df_eBird5_22['COMMON NAME'] = df_eBird5_22['COMMON NAME_x']"
   ]
  },
  {
   "cell_type": "code",
   "execution_count": 70,
   "metadata": {},
   "outputs": [],
   "source": [
    "eBird_weekly_counts = df_eBird5.groupby(['AVIBASEID', 'COMMON NAME', 'WEEK']).count().reset_index()\n",
    "eBird_weekly_counts_22 = df_eBird5_22.groupby(['AVIBASEID', 'COMMON NAME', 'WEEK']).count().reset_index()"
   ]
  },
  {
   "cell_type": "code",
   "execution_count": 71,
   "metadata": {},
   "outputs": [],
   "source": [
    "eBird_weekly_counts2 = eBird_weekly_counts[['AVIBASEID', 'COMMON NAME', 'WEEK', 'COUNTRY']].copy()\n",
    "eBird_weekly_counts2_22 = eBird_weekly_counts_22[['AVIBASEID', 'COMMON NAME', 'WEEK', 'COUNTRY']].copy()"
   ]
  },
  {
   "cell_type": "code",
   "execution_count": 73,
   "metadata": {},
   "outputs": [
    {
     "data": {
      "text/html": [
       "<div>\n",
       "<style scoped>\n",
       "    .dataframe tbody tr th:only-of-type {\n",
       "        vertical-align: middle;\n",
       "    }\n",
       "\n",
       "    .dataframe tbody tr th {\n",
       "        vertical-align: top;\n",
       "    }\n",
       "\n",
       "    .dataframe thead th {\n",
       "        text-align: right;\n",
       "    }\n",
       "</style>\n",
       "<table border=\"1\" class=\"dataframe\">\n",
       "  <thead>\n",
       "    <tr style=\"text-align: right;\">\n",
       "      <th></th>\n",
       "      <th>AVIBASEID</th>\n",
       "      <th>COMMON NAME</th>\n",
       "      <th>WEEK</th>\n",
       "      <th>COUNTRY</th>\n",
       "    </tr>\n",
       "  </thead>\n",
       "  <tbody>\n",
       "    <tr>\n",
       "      <th>0</th>\n",
       "      <td>000482C9</td>\n",
       "      <td>Orchard Oriole</td>\n",
       "      <td>22</td>\n",
       "      <td>7</td>\n",
       "    </tr>\n",
       "    <tr>\n",
       "      <th>1</th>\n",
       "      <td>000482C9</td>\n",
       "      <td>Orchard Oriole</td>\n",
       "      <td>35</td>\n",
       "      <td>5</td>\n",
       "    </tr>\n",
       "    <tr>\n",
       "      <th>2</th>\n",
       "      <td>000482C9</td>\n",
       "      <td>Orchard Oriole</td>\n",
       "      <td>37</td>\n",
       "      <td>16</td>\n",
       "    </tr>\n",
       "    <tr>\n",
       "      <th>3</th>\n",
       "      <td>000482C9</td>\n",
       "      <td>Orchard Oriole</td>\n",
       "      <td>38</td>\n",
       "      <td>28</td>\n",
       "    </tr>\n",
       "    <tr>\n",
       "      <th>4</th>\n",
       "      <td>000482C9</td>\n",
       "      <td>Orchard Oriole</td>\n",
       "      <td>39</td>\n",
       "      <td>44</td>\n",
       "    </tr>\n",
       "    <tr>\n",
       "      <th>...</th>\n",
       "      <td>...</td>\n",
       "      <td>...</td>\n",
       "      <td>...</td>\n",
       "      <td>...</td>\n",
       "    </tr>\n",
       "    <tr>\n",
       "      <th>13827</th>\n",
       "      <td>FFF61080</td>\n",
       "      <td>Orange-crowned Warbler</td>\n",
       "      <td>48</td>\n",
       "      <td>173</td>\n",
       "    </tr>\n",
       "    <tr>\n",
       "      <th>13828</th>\n",
       "      <td>FFF61080</td>\n",
       "      <td>Orange-crowned Warbler</td>\n",
       "      <td>49</td>\n",
       "      <td>154</td>\n",
       "    </tr>\n",
       "    <tr>\n",
       "      <th>13829</th>\n",
       "      <td>FFF61080</td>\n",
       "      <td>Orange-crowned Warbler</td>\n",
       "      <td>50</td>\n",
       "      <td>332</td>\n",
       "    </tr>\n",
       "    <tr>\n",
       "      <th>13830</th>\n",
       "      <td>FFF61080</td>\n",
       "      <td>Orange-crowned Warbler</td>\n",
       "      <td>51</td>\n",
       "      <td>167</td>\n",
       "    </tr>\n",
       "    <tr>\n",
       "      <th>13831</th>\n",
       "      <td>FFF61080</td>\n",
       "      <td>Orange-crowned Warbler</td>\n",
       "      <td>52</td>\n",
       "      <td>446</td>\n",
       "    </tr>\n",
       "  </tbody>\n",
       "</table>\n",
       "<p>13832 rows × 4 columns</p>\n",
       "</div>"
      ],
      "text/plain": [
       "      AVIBASEID             COMMON NAME  WEEK  COUNTRY\n",
       "0      000482C9          Orchard Oriole    22        7\n",
       "1      000482C9          Orchard Oriole    35        5\n",
       "2      000482C9          Orchard Oriole    37       16\n",
       "3      000482C9          Orchard Oriole    38       28\n",
       "4      000482C9          Orchard Oriole    39       44\n",
       "...         ...                     ...   ...      ...\n",
       "13827  FFF61080  Orange-crowned Warbler    48      173\n",
       "13828  FFF61080  Orange-crowned Warbler    49      154\n",
       "13829  FFF61080  Orange-crowned Warbler    50      332\n",
       "13830  FFF61080  Orange-crowned Warbler    51      167\n",
       "13831  FFF61080  Orange-crowned Warbler    52      446\n",
       "\n",
       "[13832 rows x 4 columns]"
      ]
     },
     "execution_count": 73,
     "metadata": {},
     "output_type": "execute_result"
    }
   ],
   "source": [
    "eBird_weekly_counts2_22"
   ]
  },
  {
   "cell_type": "code",
   "execution_count": 74,
   "metadata": {},
   "outputs": [],
   "source": [
    "eBird_weekly_counts2.columns = [\n",
    "    'AVIBASEID', 'COMMON NAME', 'WEEK', 'COUNTS'\n",
    "]\n",
    "eBird_weekly_counts2_22.columns = [\n",
    "    'AVIBASEID', 'COMMON NAME', 'WEEK', 'COUNTS'\n",
    "]"
   ]
  },
  {
   "cell_type": "code",
   "execution_count": 75,
   "metadata": {},
   "outputs": [
    {
     "data": {
      "text/html": [
       "<div>\n",
       "<style scoped>\n",
       "    .dataframe tbody tr th:only-of-type {\n",
       "        vertical-align: middle;\n",
       "    }\n",
       "\n",
       "    .dataframe tbody tr th {\n",
       "        vertical-align: top;\n",
       "    }\n",
       "\n",
       "    .dataframe thead th {\n",
       "        text-align: right;\n",
       "    }\n",
       "</style>\n",
       "<table border=\"1\" class=\"dataframe\">\n",
       "  <thead>\n",
       "    <tr style=\"text-align: right;\">\n",
       "      <th></th>\n",
       "      <th>AVIBASEID</th>\n",
       "      <th>COMMON NAME</th>\n",
       "      <th>WEEK</th>\n",
       "      <th>COUNTS</th>\n",
       "    </tr>\n",
       "  </thead>\n",
       "  <tbody>\n",
       "    <tr>\n",
       "      <th>0</th>\n",
       "      <td>000482C9</td>\n",
       "      <td>Orchard Oriole</td>\n",
       "      <td>1</td>\n",
       "      <td>50</td>\n",
       "    </tr>\n",
       "    <tr>\n",
       "      <th>1</th>\n",
       "      <td>000482C9</td>\n",
       "      <td>Orchard Oriole</td>\n",
       "      <td>2</td>\n",
       "      <td>17</td>\n",
       "    </tr>\n",
       "    <tr>\n",
       "      <th>2</th>\n",
       "      <td>000482C9</td>\n",
       "      <td>Orchard Oriole</td>\n",
       "      <td>3</td>\n",
       "      <td>8</td>\n",
       "    </tr>\n",
       "    <tr>\n",
       "      <th>3</th>\n",
       "      <td>000482C9</td>\n",
       "      <td>Orchard Oriole</td>\n",
       "      <td>4</td>\n",
       "      <td>6</td>\n",
       "    </tr>\n",
       "    <tr>\n",
       "      <th>4</th>\n",
       "      <td>000482C9</td>\n",
       "      <td>Orchard Oriole</td>\n",
       "      <td>5</td>\n",
       "      <td>11</td>\n",
       "    </tr>\n",
       "    <tr>\n",
       "      <th>...</th>\n",
       "      <td>...</td>\n",
       "      <td>...</td>\n",
       "      <td>...</td>\n",
       "      <td>...</td>\n",
       "    </tr>\n",
       "    <tr>\n",
       "      <th>13675</th>\n",
       "      <td>FFF61080</td>\n",
       "      <td>Orange-crowned Warbler</td>\n",
       "      <td>48</td>\n",
       "      <td>135</td>\n",
       "    </tr>\n",
       "    <tr>\n",
       "      <th>13676</th>\n",
       "      <td>FFF61080</td>\n",
       "      <td>Orange-crowned Warbler</td>\n",
       "      <td>49</td>\n",
       "      <td>141</td>\n",
       "    </tr>\n",
       "    <tr>\n",
       "      <th>13677</th>\n",
       "      <td>FFF61080</td>\n",
       "      <td>Orange-crowned Warbler</td>\n",
       "      <td>50</td>\n",
       "      <td>227</td>\n",
       "    </tr>\n",
       "    <tr>\n",
       "      <th>13678</th>\n",
       "      <td>FFF61080</td>\n",
       "      <td>Orange-crowned Warbler</td>\n",
       "      <td>51</td>\n",
       "      <td>183</td>\n",
       "    </tr>\n",
       "    <tr>\n",
       "      <th>13679</th>\n",
       "      <td>FFF61080</td>\n",
       "      <td>Orange-crowned Warbler</td>\n",
       "      <td>52</td>\n",
       "      <td>228</td>\n",
       "    </tr>\n",
       "  </tbody>\n",
       "</table>\n",
       "<p>13680 rows × 4 columns</p>\n",
       "</div>"
      ],
      "text/plain": [
       "      AVIBASEID             COMMON NAME  WEEK  COUNTS\n",
       "0      000482C9          Orchard Oriole     1      50\n",
       "1      000482C9          Orchard Oriole     2      17\n",
       "2      000482C9          Orchard Oriole     3       8\n",
       "3      000482C9          Orchard Oriole     4       6\n",
       "4      000482C9          Orchard Oriole     5      11\n",
       "...         ...                     ...   ...     ...\n",
       "13675  FFF61080  Orange-crowned Warbler    48     135\n",
       "13676  FFF61080  Orange-crowned Warbler    49     141\n",
       "13677  FFF61080  Orange-crowned Warbler    50     227\n",
       "13678  FFF61080  Orange-crowned Warbler    51     183\n",
       "13679  FFF61080  Orange-crowned Warbler    52     228\n",
       "\n",
       "[13680 rows x 4 columns]"
      ]
     },
     "execution_count": 75,
     "metadata": {},
     "output_type": "execute_result"
    }
   ],
   "source": [
    "eBird_weekly_counts2"
   ]
  },
  {
   "cell_type": "code",
   "execution_count": 76,
   "metadata": {},
   "outputs": [],
   "source": [
    "eBird_weekly_counts2['REL_COUNTS'] = eBird_weekly_counts2.apply(\n",
    "    lambda row: row['COUNTS']/ eBird_avibaseid_counts[row['AVIBASEID']],\n",
    "    axis=1\n",
    ").copy()\n",
    "eBird_weekly_counts2_22['REL_COUNTS'] = eBird_weekly_counts2_22.apply(\n",
    "    lambda row: row['COUNTS']/ eBird_avibaseid_counts_22[row['AVIBASEID']],\n",
    "    axis=1\n",
    ").copy()"
   ]
  },
  {
   "cell_type": "code",
   "execution_count": 77,
   "metadata": {},
   "outputs": [
    {
     "data": {
      "text/plain": [
       "353.0"
      ]
     },
     "execution_count": 77,
     "metadata": {},
     "output_type": "execute_result"
    }
   ],
   "source": [
    "eBird_weekly_counts2['REL_COUNTS'].sum()"
   ]
  },
  {
   "cell_type": "code",
   "execution_count": 78,
   "metadata": {},
   "outputs": [
    {
     "data": {
      "text/plain": [
       "341.0"
      ]
     },
     "execution_count": 78,
     "metadata": {},
     "output_type": "execute_result"
    }
   ],
   "source": [
    "eBird_weekly_counts2_22['REL_COUNTS'].sum()"
   ]
  },
  {
   "cell_type": "code",
   "execution_count": null,
   "metadata": {},
   "outputs": [],
   "source": []
  },
  {
   "cell_type": "code",
   "execution_count": 79,
   "metadata": {},
   "outputs": [],
   "source": [
    "iNat_weekly_counts = df_iNat8.groupby(['AVIBASEID', 'COMMON NAME', 'WEEK']).count().reset_index()\n",
    "iNat_weekly_counts_22 = df_iNat8_22.groupby(['AVIBASEID', 'COMMON NAME', 'WEEK']).count().reset_index()"
   ]
  },
  {
   "cell_type": "code",
   "execution_count": 80,
   "metadata": {},
   "outputs": [],
   "source": [
    "iNat_weekly_counts2 = iNat_weekly_counts[['AVIBASEID', 'COMMON NAME', 'WEEK', 'countryCode']].copy()\n",
    "iNat_weekly_counts2_22 = iNat_weekly_counts_22[['AVIBASEID', 'COMMON NAME', 'WEEK', 'countryCode']].copy()"
   ]
  },
  {
   "cell_type": "code",
   "execution_count": 81,
   "metadata": {},
   "outputs": [],
   "source": [
    "iNat_weekly_counts2.columns = [\n",
    "    'AVIBASEID', 'COMMON NAME', 'WEEK', 'COUNTS'\n",
    "]\n",
    "iNat_weekly_counts2_22.columns = [\n",
    "    'AVIBASEID', 'COMMON NAME', 'WEEK', 'COUNTS'\n",
    "]"
   ]
  },
  {
   "cell_type": "code",
   "execution_count": 82,
   "metadata": {},
   "outputs": [
    {
     "data": {
      "text/html": [
       "<div>\n",
       "<style scoped>\n",
       "    .dataframe tbody tr th:only-of-type {\n",
       "        vertical-align: middle;\n",
       "    }\n",
       "\n",
       "    .dataframe tbody tr th {\n",
       "        vertical-align: top;\n",
       "    }\n",
       "\n",
       "    .dataframe thead th {\n",
       "        text-align: right;\n",
       "    }\n",
       "</style>\n",
       "<table border=\"1\" class=\"dataframe\">\n",
       "  <thead>\n",
       "    <tr style=\"text-align: right;\">\n",
       "      <th></th>\n",
       "      <th>AVIBASEID</th>\n",
       "      <th>COMMON NAME</th>\n",
       "      <th>WEEK</th>\n",
       "      <th>COUNTS</th>\n",
       "    </tr>\n",
       "  </thead>\n",
       "  <tbody>\n",
       "    <tr>\n",
       "      <th>0</th>\n",
       "      <td>000482C9</td>\n",
       "      <td>Orchard Oriole</td>\n",
       "      <td>1</td>\n",
       "      <td>1</td>\n",
       "    </tr>\n",
       "    <tr>\n",
       "      <th>1</th>\n",
       "      <td>000482C9</td>\n",
       "      <td>Orchard Oriole</td>\n",
       "      <td>2</td>\n",
       "      <td>2</td>\n",
       "    </tr>\n",
       "    <tr>\n",
       "      <th>2</th>\n",
       "      <td>000482C9</td>\n",
       "      <td>Orchard Oriole</td>\n",
       "      <td>9</td>\n",
       "      <td>1</td>\n",
       "    </tr>\n",
       "    <tr>\n",
       "      <th>3</th>\n",
       "      <td>000482C9</td>\n",
       "      <td>Orchard Oriole</td>\n",
       "      <td>38</td>\n",
       "      <td>1</td>\n",
       "    </tr>\n",
       "    <tr>\n",
       "      <th>4</th>\n",
       "      <td>000482C9</td>\n",
       "      <td>Orchard Oriole</td>\n",
       "      <td>40</td>\n",
       "      <td>2</td>\n",
       "    </tr>\n",
       "    <tr>\n",
       "      <th>...</th>\n",
       "      <td>...</td>\n",
       "      <td>...</td>\n",
       "      <td>...</td>\n",
       "      <td>...</td>\n",
       "    </tr>\n",
       "    <tr>\n",
       "      <th>8848</th>\n",
       "      <td>FFF61080</td>\n",
       "      <td>Orange-crowned Warbler</td>\n",
       "      <td>48</td>\n",
       "      <td>1</td>\n",
       "    </tr>\n",
       "    <tr>\n",
       "      <th>8849</th>\n",
       "      <td>FFF61080</td>\n",
       "      <td>Orange-crowned Warbler</td>\n",
       "      <td>49</td>\n",
       "      <td>2</td>\n",
       "    </tr>\n",
       "    <tr>\n",
       "      <th>8850</th>\n",
       "      <td>FFF61080</td>\n",
       "      <td>Orange-crowned Warbler</td>\n",
       "      <td>50</td>\n",
       "      <td>4</td>\n",
       "    </tr>\n",
       "    <tr>\n",
       "      <th>8851</th>\n",
       "      <td>FFF61080</td>\n",
       "      <td>Orange-crowned Warbler</td>\n",
       "      <td>51</td>\n",
       "      <td>1</td>\n",
       "    </tr>\n",
       "    <tr>\n",
       "      <th>8852</th>\n",
       "      <td>FFF61080</td>\n",
       "      <td>Orange-crowned Warbler</td>\n",
       "      <td>52</td>\n",
       "      <td>4</td>\n",
       "    </tr>\n",
       "  </tbody>\n",
       "</table>\n",
       "<p>8853 rows × 4 columns</p>\n",
       "</div>"
      ],
      "text/plain": [
       "     AVIBASEID             COMMON NAME  WEEK  COUNTS\n",
       "0     000482C9          Orchard Oriole     1       1\n",
       "1     000482C9          Orchard Oriole     2       2\n",
       "2     000482C9          Orchard Oriole     9       1\n",
       "3     000482C9          Orchard Oriole    38       1\n",
       "4     000482C9          Orchard Oriole    40       2\n",
       "...        ...                     ...   ...     ...\n",
       "8848  FFF61080  Orange-crowned Warbler    48       1\n",
       "8849  FFF61080  Orange-crowned Warbler    49       2\n",
       "8850  FFF61080  Orange-crowned Warbler    50       4\n",
       "8851  FFF61080  Orange-crowned Warbler    51       1\n",
       "8852  FFF61080  Orange-crowned Warbler    52       4\n",
       "\n",
       "[8853 rows x 4 columns]"
      ]
     },
     "execution_count": 82,
     "metadata": {},
     "output_type": "execute_result"
    }
   ],
   "source": [
    "iNat_weekly_counts2"
   ]
  },
  {
   "cell_type": "code",
   "execution_count": 83,
   "metadata": {},
   "outputs": [],
   "source": [
    "iNat_weekly_counts2['REL_COUNTS'] = iNat_weekly_counts2.apply(\n",
    "    lambda row: row['COUNTS']/ iNat_avibaseid_counts[row['AVIBASEID']],\n",
    "    axis=1\n",
    ").copy()\n",
    "iNat_weekly_counts2_22['REL_COUNTS'] = iNat_weekly_counts2_22.apply(\n",
    "    lambda row: row['COUNTS']/ iNat_avibaseid_counts_22[row['AVIBASEID']],\n",
    "    axis=1\n",
    ").copy()"
   ]
  },
  {
   "cell_type": "code",
   "execution_count": 84,
   "metadata": {},
   "outputs": [
    {
     "data": {
      "text/plain": [
       "352.99999999999994"
      ]
     },
     "execution_count": 84,
     "metadata": {},
     "output_type": "execute_result"
    }
   ],
   "source": [
    "iNat_weekly_counts2['REL_COUNTS'].sum()"
   ]
  },
  {
   "cell_type": "code",
   "execution_count": 140,
   "metadata": {},
   "outputs": [
    {
     "name": "stderr",
     "output_type": "stream",
     "text": [
      "/var/folders/ms/2ygwp03d4b5526gc0h51spqh0000gn/T/ipykernel_17714/351623232.py:1: FutureWarning: The default value of numeric_only in DataFrameGroupBy.sum is deprecated. In a future version, numeric_only will default to False. Either specify numeric_only or select only columns which should be valid for the function.\n",
      "  iNat_weekly_counts2.groupby(['AVIBASEID']).sum()['COUNTS'].values\n"
     ]
    },
    {
     "data": {
      "text/plain": [
       "array([   8,  606,   98,  201,  121,   12,    9,   45,  115,  179,    4,\n",
       "         10,  235,  200,  197,    5,    1,   44,  176,  267,   83,    1,\n",
       "          2,  193,  311,   41,    3,    1,    6,  252,   78,   10,   28,\n",
       "         17,   45,   66,   32,    3, 1260,  121,   44,   30,   20,   40,\n",
       "         12,    5,  149,  266,    5,   33,    1,  284,   40,    2,   11,\n",
       "        205,    5,    3,    8,  146,  608,  677,  269,  347,  396,  438,\n",
       "          8,   45,  140,    6,  182,  188,  383,   23,    4,    4,   19,\n",
       "         40,    9,   23,  157,   81,   27,   13,    1,  211,  496,  236,\n",
       "        251,  127,    9, 1160,   76,    9,   32,  195,    3,  961,   41,\n",
       "         75,  132,   88,  326,    1,    1,   46,    6, 1931,   76,  248,\n",
       "          6,    5, 1537,   16,  358,   16,   38,   49,    6,    4,    8,\n",
       "          2,    2,   88,  140,  428,  185,    9, 2342,  170,   41,    3,\n",
       "         26,  961,  281, 1279,   15,   50,  364,   21,   35,  219,    6,\n",
       "        145,   64,  418,  145,  320,    1,   22,    1,   27,    3,  376,\n",
       "        101,  375,    4,   64,  771,   14,   88,  105,    1,    1,   12,\n",
       "        473,    3,   18,  433,  212,   86,   88,   63,  150,  196,    3,\n",
       "         27,    2,    1,    3,  225,  870,  162,  491,  472,   64,  202,\n",
       "          3,   44, 1828, 1539,    5,  480,  293,   28,    9,    3,   50,\n",
       "          6, 1070,   57,    2,    1,   60,  517,   15,  157,   24,   95,\n",
       "         16,   18, 1454,    2,  293,   35,  416,   81,    2,  112,    5,\n",
       "         64,  144,    2,   22,   11,  612,    3,    1,  959, 1297,    1,\n",
       "        112,    1,  609,    9,  103,    4,    2,  441,    8,   45, 1098,\n",
       "          1,   17,   52, 1158,   31,   56, 1005,   14,    9,   30,  130,\n",
       "        326,  181, 1501,    8,   48,   58,  115, 1238,   21,  858,    7,\n",
       "         19,   41,    2,    3,  827,  150,  167,  102,  183,   18,  313,\n",
       "         29,  230,  834,   12,  623,  221,  354,  910,   57,    6,    2,\n",
       "         11,  352,  143,   24,    6,    1,   21,    1,  360,  239,  507,\n",
       "        122,    2,  160,  204,  280,    4,  152,    1,   17,   10,    9,\n",
       "         21,   25,    5,  112,  181,  213,   10,  203,    1,    1,   69,\n",
       "         54,  183,  535,   30, 1047,  745,   14,   32,  488,    2,  577,\n",
       "         23,  175,    2,   70,   33,    1,  667,  278,   67,  342,  136,\n",
       "         18,    8,    1,  306,  566,    9,  590,  352,  239,  276,  574,\n",
       "        191])"
      ]
     },
     "execution_count": 140,
     "metadata": {},
     "output_type": "execute_result"
    }
   ],
   "source": [
    "iNat_weekly_counts2.groupby(['AVIBASEID']).sum()['COUNTS'].values"
   ]
  },
  {
   "cell_type": "code",
   "execution_count": 144,
   "metadata": {},
   "outputs": [
    {
     "name": "stderr",
     "output_type": "stream",
     "text": [
      "/var/folders/ms/2ygwp03d4b5526gc0h51spqh0000gn/T/ipykernel_17714/3697873596.py:2: FutureWarning: The default value of numeric_only in DataFrameGroupBy.sum is deprecated. In a future version, numeric_only will default to False. Either specify numeric_only or select only columns which should be valid for the function.\n",
      "  .groupby(['AVIBASEID']).sum()['COUNTS']\\\n",
      "/var/folders/ms/2ygwp03d4b5526gc0h51spqh0000gn/T/ipykernel_17714/3697873596.py:4: FutureWarning: The default value of numeric_only in DataFrameGroupBy.sum is deprecated. In a future version, numeric_only will default to False. Either specify numeric_only or select only columns which should be valid for the function.\n",
      "  .sum()['COUNTS'].values)>=50].sort_values()[0:10]\n"
     ]
    },
    {
     "data": {
      "text/plain": [
       "AVIBASEID\n",
       "88AB027C    50\n",
       "58312873    50\n",
       "A8C34DC9    52\n",
       "E53FC25C    54\n",
       "AC1E519F    56\n",
       "89F8B6F5    57\n",
       "BD929CBC    57\n",
       "B48335B1    58\n",
       "8DB64266    60\n",
       "7784B060    63\n",
       "Name: COUNTS, dtype: int64"
      ]
     },
     "execution_count": 144,
     "metadata": {},
     "output_type": "execute_result"
    }
   ],
   "source": [
    "iNat_weekly_counts2\\\n",
    "    .groupby(['AVIBASEID']).sum()['COUNTS']\\\n",
    "        [(iNat_weekly_counts2.groupby(['AVIBASEID'])\\\n",
    "        .sum()['COUNTS'].values)>=50].sort_values()[0:10]"
   ]
  },
  {
   "cell_type": "code",
   "execution_count": 86,
   "metadata": {},
   "outputs": [],
   "source": [
    "name_avID_dict = iNat_weekly_counts2.iloc[:, 0:2].drop_duplicates().copy().set_index('AVIBASEID')['COMMON NAME'].to_dict()\n",
    "name_avID_dict_22 = iNat_weekly_counts2_22.iloc[:, 0:2].drop_duplicates().copy().set_index('AVIBASEID')['COMMON NAME'].to_dict()"
   ]
  },
  {
   "cell_type": "code",
   "execution_count": 87,
   "metadata": {},
   "outputs": [],
   "source": [
    "eBird_curves_discrete = eBird_weekly_counts2.pivot_table(index='AVIBASEID', columns='WEEK', values='REL_COUNTS' )\n",
    "eBird_curves_discrete_22 = eBird_weekly_counts2_22.pivot_table(index='AVIBASEID', columns='WEEK', values='REL_COUNTS' )"
   ]
  },
  {
   "cell_type": "code",
   "execution_count": 88,
   "metadata": {},
   "outputs": [],
   "source": [
    "eBird_curves_discrete.fillna(value=0, inplace=True)\n",
    "eBird_curves_discrete_22.fillna(value=0, inplace=True)"
   ]
  },
  {
   "cell_type": "code",
   "execution_count": 89,
   "metadata": {},
   "outputs": [],
   "source": [
    "iNat_curves_discrete = iNat_weekly_counts2.pivot_table(index='AVIBASEID', columns='WEEK', values='REL_COUNTS' )\n",
    "iNat_curves_discrete_22 = iNat_weekly_counts2_22.pivot_table(index='AVIBASEID', columns='WEEK', values='REL_COUNTS' )"
   ]
  },
  {
   "cell_type": "code",
   "execution_count": 90,
   "metadata": {},
   "outputs": [],
   "source": [
    "iNat_curves_discrete.fillna(value=0, inplace=True)\n",
    "iNat_curves_discrete_22.fillna(value=0, inplace=True)"
   ]
  },
  {
   "cell_type": "code",
   "execution_count": 91,
   "metadata": {},
   "outputs": [
    {
     "data": {
      "text/html": [
       "<div>\n",
       "<style scoped>\n",
       "    .dataframe tbody tr th:only-of-type {\n",
       "        vertical-align: middle;\n",
       "    }\n",
       "\n",
       "    .dataframe tbody tr th {\n",
       "        vertical-align: top;\n",
       "    }\n",
       "\n",
       "    .dataframe thead th {\n",
       "        text-align: right;\n",
       "    }\n",
       "</style>\n",
       "<table border=\"1\" class=\"dataframe\">\n",
       "  <thead>\n",
       "    <tr style=\"text-align: right;\">\n",
       "      <th>WEEK</th>\n",
       "      <th>1</th>\n",
       "      <th>2</th>\n",
       "      <th>3</th>\n",
       "      <th>4</th>\n",
       "      <th>5</th>\n",
       "      <th>6</th>\n",
       "      <th>7</th>\n",
       "      <th>8</th>\n",
       "      <th>9</th>\n",
       "      <th>10</th>\n",
       "      <th>...</th>\n",
       "      <th>43</th>\n",
       "      <th>44</th>\n",
       "      <th>45</th>\n",
       "      <th>46</th>\n",
       "      <th>47</th>\n",
       "      <th>48</th>\n",
       "      <th>49</th>\n",
       "      <th>50</th>\n",
       "      <th>51</th>\n",
       "      <th>52</th>\n",
       "    </tr>\n",
       "    <tr>\n",
       "      <th>AVIBASEID</th>\n",
       "      <th></th>\n",
       "      <th></th>\n",
       "      <th></th>\n",
       "      <th></th>\n",
       "      <th></th>\n",
       "      <th></th>\n",
       "      <th></th>\n",
       "      <th></th>\n",
       "      <th></th>\n",
       "      <th></th>\n",
       "      <th></th>\n",
       "      <th></th>\n",
       "      <th></th>\n",
       "      <th></th>\n",
       "      <th></th>\n",
       "      <th></th>\n",
       "      <th></th>\n",
       "      <th></th>\n",
       "      <th></th>\n",
       "      <th></th>\n",
       "      <th></th>\n",
       "    </tr>\n",
       "  </thead>\n",
       "  <tbody>\n",
       "    <tr>\n",
       "      <th>000482C9</th>\n",
       "      <td>0.119048</td>\n",
       "      <td>0.040476</td>\n",
       "      <td>0.019048</td>\n",
       "      <td>0.014286</td>\n",
       "      <td>0.026190</td>\n",
       "      <td>0.007143</td>\n",
       "      <td>0.014286</td>\n",
       "      <td>0.009524</td>\n",
       "      <td>0.009524</td>\n",
       "      <td>0.014286</td>\n",
       "      <td>...</td>\n",
       "      <td>0.026190</td>\n",
       "      <td>0.033333</td>\n",
       "      <td>0.038095</td>\n",
       "      <td>0.040476</td>\n",
       "      <td>0.042857</td>\n",
       "      <td>0.021429</td>\n",
       "      <td>0.004762</td>\n",
       "      <td>0.021429</td>\n",
       "      <td>0.028571</td>\n",
       "      <td>0.042857</td>\n",
       "    </tr>\n",
       "    <tr>\n",
       "      <th>00124D98</th>\n",
       "      <td>0.022217</td>\n",
       "      <td>0.017285</td>\n",
       "      <td>0.012884</td>\n",
       "      <td>0.018823</td>\n",
       "      <td>0.015717</td>\n",
       "      <td>0.016278</td>\n",
       "      <td>0.016436</td>\n",
       "      <td>0.018622</td>\n",
       "      <td>0.015286</td>\n",
       "      <td>0.017831</td>\n",
       "      <td>...</td>\n",
       "      <td>0.010181</td>\n",
       "      <td>0.012554</td>\n",
       "      <td>0.012022</td>\n",
       "      <td>0.014452</td>\n",
       "      <td>0.013028</td>\n",
       "      <td>0.012022</td>\n",
       "      <td>0.012741</td>\n",
       "      <td>0.018349</td>\n",
       "      <td>0.015386</td>\n",
       "      <td>0.017026</td>\n",
       "    </tr>\n",
       "    <tr>\n",
       "      <th>00635FF9</th>\n",
       "      <td>0.014224</td>\n",
       "      <td>0.007715</td>\n",
       "      <td>0.009643</td>\n",
       "      <td>0.014706</td>\n",
       "      <td>0.005304</td>\n",
       "      <td>0.006750</td>\n",
       "      <td>0.009161</td>\n",
       "      <td>0.015670</td>\n",
       "      <td>0.003857</td>\n",
       "      <td>0.007473</td>\n",
       "      <td>...</td>\n",
       "      <td>0.013259</td>\n",
       "      <td>0.010849</td>\n",
       "      <td>0.017840</td>\n",
       "      <td>0.016876</td>\n",
       "      <td>0.013259</td>\n",
       "      <td>0.005786</td>\n",
       "      <td>0.005304</td>\n",
       "      <td>0.016152</td>\n",
       "      <td>0.007956</td>\n",
       "      <td>0.013259</td>\n",
       "    </tr>\n",
       "    <tr>\n",
       "      <th>01060BFD</th>\n",
       "      <td>0.021075</td>\n",
       "      <td>0.017118</td>\n",
       "      <td>0.009295</td>\n",
       "      <td>0.021535</td>\n",
       "      <td>0.008927</td>\n",
       "      <td>0.015093</td>\n",
       "      <td>0.011412</td>\n",
       "      <td>0.016934</td>\n",
       "      <td>0.008099</td>\n",
       "      <td>0.009111</td>\n",
       "      <td>...</td>\n",
       "      <td>0.014817</td>\n",
       "      <td>0.019418</td>\n",
       "      <td>0.022731</td>\n",
       "      <td>0.016013</td>\n",
       "      <td>0.017394</td>\n",
       "      <td>0.015553</td>\n",
       "      <td>0.014081</td>\n",
       "      <td>0.015829</td>\n",
       "      <td>0.009387</td>\n",
       "      <td>0.014265</td>\n",
       "    </tr>\n",
       "    <tr>\n",
       "      <th>018B3169</th>\n",
       "      <td>0.062974</td>\n",
       "      <td>0.057585</td>\n",
       "      <td>0.037885</td>\n",
       "      <td>0.063984</td>\n",
       "      <td>0.046304</td>\n",
       "      <td>0.040411</td>\n",
       "      <td>0.040579</td>\n",
       "      <td>0.059269</td>\n",
       "      <td>0.036707</td>\n",
       "      <td>0.028456</td>\n",
       "      <td>...</td>\n",
       "      <td>0.009092</td>\n",
       "      <td>0.027277</td>\n",
       "      <td>0.038727</td>\n",
       "      <td>0.031824</td>\n",
       "      <td>0.033002</td>\n",
       "      <td>0.034349</td>\n",
       "      <td>0.034012</td>\n",
       "      <td>0.049167</td>\n",
       "      <td>0.023741</td>\n",
       "      <td>0.041253</td>\n",
       "    </tr>\n",
       "    <tr>\n",
       "      <th>...</th>\n",
       "      <td>...</td>\n",
       "      <td>...</td>\n",
       "      <td>...</td>\n",
       "      <td>...</td>\n",
       "      <td>...</td>\n",
       "      <td>...</td>\n",
       "      <td>...</td>\n",
       "      <td>...</td>\n",
       "      <td>...</td>\n",
       "      <td>...</td>\n",
       "      <td>...</td>\n",
       "      <td>...</td>\n",
       "      <td>...</td>\n",
       "      <td>...</td>\n",
       "      <td>...</td>\n",
       "      <td>...</td>\n",
       "      <td>...</td>\n",
       "      <td>...</td>\n",
       "      <td>...</td>\n",
       "      <td>...</td>\n",
       "      <td>...</td>\n",
       "    </tr>\n",
       "    <tr>\n",
       "      <th>FC366114</th>\n",
       "      <td>0.041123</td>\n",
       "      <td>0.026198</td>\n",
       "      <td>0.021083</td>\n",
       "      <td>0.032773</td>\n",
       "      <td>0.021188</td>\n",
       "      <td>0.022231</td>\n",
       "      <td>0.020770</td>\n",
       "      <td>0.029746</td>\n",
       "      <td>0.019100</td>\n",
       "      <td>0.023797</td>\n",
       "      <td>...</td>\n",
       "      <td>0.016282</td>\n",
       "      <td>0.015134</td>\n",
       "      <td>0.019309</td>\n",
       "      <td>0.020248</td>\n",
       "      <td>0.018474</td>\n",
       "      <td>0.010437</td>\n",
       "      <td>0.014925</td>\n",
       "      <td>0.034548</td>\n",
       "      <td>0.023484</td>\n",
       "      <td>0.020562</td>\n",
       "    </tr>\n",
       "    <tr>\n",
       "      <th>FD2B0309</th>\n",
       "      <td>0.027732</td>\n",
       "      <td>0.018818</td>\n",
       "      <td>0.016177</td>\n",
       "      <td>0.027567</td>\n",
       "      <td>0.008254</td>\n",
       "      <td>0.007098</td>\n",
       "      <td>0.008749</td>\n",
       "      <td>0.018323</td>\n",
       "      <td>0.003136</td>\n",
       "      <td>0.013701</td>\n",
       "      <td>...</td>\n",
       "      <td>0.013866</td>\n",
       "      <td>0.018983</td>\n",
       "      <td>0.016507</td>\n",
       "      <td>0.022945</td>\n",
       "      <td>0.023440</td>\n",
       "      <td>0.016177</td>\n",
       "      <td>0.008088</td>\n",
       "      <td>0.008584</td>\n",
       "      <td>0.015517</td>\n",
       "      <td>0.014526</td>\n",
       "    </tr>\n",
       "    <tr>\n",
       "      <th>FED3756C</th>\n",
       "      <td>0.045327</td>\n",
       "      <td>0.034529</td>\n",
       "      <td>0.028118</td>\n",
       "      <td>0.050163</td>\n",
       "      <td>0.017321</td>\n",
       "      <td>0.025644</td>\n",
       "      <td>0.023394</td>\n",
       "      <td>0.028681</td>\n",
       "      <td>0.020020</td>\n",
       "      <td>0.016871</td>\n",
       "      <td>...</td>\n",
       "      <td>0.013159</td>\n",
       "      <td>0.014059</td>\n",
       "      <td>0.014509</td>\n",
       "      <td>0.023282</td>\n",
       "      <td>0.035429</td>\n",
       "      <td>0.022720</td>\n",
       "      <td>0.016309</td>\n",
       "      <td>0.037454</td>\n",
       "      <td>0.027443</td>\n",
       "      <td>0.032167</td>\n",
       "    </tr>\n",
       "    <tr>\n",
       "      <th>FF592882</th>\n",
       "      <td>0.023050</td>\n",
       "      <td>0.018095</td>\n",
       "      <td>0.012938</td>\n",
       "      <td>0.018866</td>\n",
       "      <td>0.014223</td>\n",
       "      <td>0.014645</td>\n",
       "      <td>0.015966</td>\n",
       "      <td>0.020885</td>\n",
       "      <td>0.014388</td>\n",
       "      <td>0.014388</td>\n",
       "      <td>...</td>\n",
       "      <td>0.016884</td>\n",
       "      <td>0.020279</td>\n",
       "      <td>0.019251</td>\n",
       "      <td>0.022114</td>\n",
       "      <td>0.017361</td>\n",
       "      <td>0.015452</td>\n",
       "      <td>0.013525</td>\n",
       "      <td>0.025968</td>\n",
       "      <td>0.014388</td>\n",
       "      <td>0.019967</td>\n",
       "    </tr>\n",
       "    <tr>\n",
       "      <th>FFF61080</th>\n",
       "      <td>0.013699</td>\n",
       "      <td>0.010236</td>\n",
       "      <td>0.005469</td>\n",
       "      <td>0.008480</td>\n",
       "      <td>0.006624</td>\n",
       "      <td>0.004867</td>\n",
       "      <td>0.004265</td>\n",
       "      <td>0.011441</td>\n",
       "      <td>0.006322</td>\n",
       "      <td>0.009132</td>\n",
       "      <td>...</td>\n",
       "      <td>0.006975</td>\n",
       "      <td>0.008229</td>\n",
       "      <td>0.008530</td>\n",
       "      <td>0.008580</td>\n",
       "      <td>0.012344</td>\n",
       "      <td>0.006774</td>\n",
       "      <td>0.007075</td>\n",
       "      <td>0.011390</td>\n",
       "      <td>0.009183</td>\n",
       "      <td>0.011441</td>\n",
       "    </tr>\n",
       "  </tbody>\n",
       "</table>\n",
       "<p>353 rows × 52 columns</p>\n",
       "</div>"
      ],
      "text/plain": [
       "WEEK             1         2         3         4         5         6   \\\n",
       "AVIBASEID                                                               \n",
       "000482C9   0.119048  0.040476  0.019048  0.014286  0.026190  0.007143   \n",
       "00124D98   0.022217  0.017285  0.012884  0.018823  0.015717  0.016278   \n",
       "00635FF9   0.014224  0.007715  0.009643  0.014706  0.005304  0.006750   \n",
       "01060BFD   0.021075  0.017118  0.009295  0.021535  0.008927  0.015093   \n",
       "018B3169   0.062974  0.057585  0.037885  0.063984  0.046304  0.040411   \n",
       "...             ...       ...       ...       ...       ...       ...   \n",
       "FC366114   0.041123  0.026198  0.021083  0.032773  0.021188  0.022231   \n",
       "FD2B0309   0.027732  0.018818  0.016177  0.027567  0.008254  0.007098   \n",
       "FED3756C   0.045327  0.034529  0.028118  0.050163  0.017321  0.025644   \n",
       "FF592882   0.023050  0.018095  0.012938  0.018866  0.014223  0.014645   \n",
       "FFF61080   0.013699  0.010236  0.005469  0.008480  0.006624  0.004867   \n",
       "\n",
       "WEEK             7         8         9         10  ...        43        44  \\\n",
       "AVIBASEID                                          ...                       \n",
       "000482C9   0.014286  0.009524  0.009524  0.014286  ...  0.026190  0.033333   \n",
       "00124D98   0.016436  0.018622  0.015286  0.017831  ...  0.010181  0.012554   \n",
       "00635FF9   0.009161  0.015670  0.003857  0.007473  ...  0.013259  0.010849   \n",
       "01060BFD   0.011412  0.016934  0.008099  0.009111  ...  0.014817  0.019418   \n",
       "018B3169   0.040579  0.059269  0.036707  0.028456  ...  0.009092  0.027277   \n",
       "...             ...       ...       ...       ...  ...       ...       ...   \n",
       "FC366114   0.020770  0.029746  0.019100  0.023797  ...  0.016282  0.015134   \n",
       "FD2B0309   0.008749  0.018323  0.003136  0.013701  ...  0.013866  0.018983   \n",
       "FED3756C   0.023394  0.028681  0.020020  0.016871  ...  0.013159  0.014059   \n",
       "FF592882   0.015966  0.020885  0.014388  0.014388  ...  0.016884  0.020279   \n",
       "FFF61080   0.004265  0.011441  0.006322  0.009132  ...  0.006975  0.008229   \n",
       "\n",
       "WEEK             45        46        47        48        49        50  \\\n",
       "AVIBASEID                                                               \n",
       "000482C9   0.038095  0.040476  0.042857  0.021429  0.004762  0.021429   \n",
       "00124D98   0.012022  0.014452  0.013028  0.012022  0.012741  0.018349   \n",
       "00635FF9   0.017840  0.016876  0.013259  0.005786  0.005304  0.016152   \n",
       "01060BFD   0.022731  0.016013  0.017394  0.015553  0.014081  0.015829   \n",
       "018B3169   0.038727  0.031824  0.033002  0.034349  0.034012  0.049167   \n",
       "...             ...       ...       ...       ...       ...       ...   \n",
       "FC366114   0.019309  0.020248  0.018474  0.010437  0.014925  0.034548   \n",
       "FD2B0309   0.016507  0.022945  0.023440  0.016177  0.008088  0.008584   \n",
       "FED3756C   0.014509  0.023282  0.035429  0.022720  0.016309  0.037454   \n",
       "FF592882   0.019251  0.022114  0.017361  0.015452  0.013525  0.025968   \n",
       "FFF61080   0.008530  0.008580  0.012344  0.006774  0.007075  0.011390   \n",
       "\n",
       "WEEK             51        52  \n",
       "AVIBASEID                      \n",
       "000482C9   0.028571  0.042857  \n",
       "00124D98   0.015386  0.017026  \n",
       "00635FF9   0.007956  0.013259  \n",
       "01060BFD   0.009387  0.014265  \n",
       "018B3169   0.023741  0.041253  \n",
       "...             ...       ...  \n",
       "FC366114   0.023484  0.020562  \n",
       "FD2B0309   0.015517  0.014526  \n",
       "FED3756C   0.027443  0.032167  \n",
       "FF592882   0.014388  0.019967  \n",
       "FFF61080   0.009183  0.011441  \n",
       "\n",
       "[353 rows x 52 columns]"
      ]
     },
     "execution_count": 91,
     "metadata": {},
     "output_type": "execute_result"
    }
   ],
   "source": [
    "eBird_curves_discrete"
   ]
  },
  {
   "cell_type": "code",
   "execution_count": 92,
   "metadata": {},
   "outputs": [
    {
     "data": {
      "text/html": [
       "<div>\n",
       "<style scoped>\n",
       "    .dataframe tbody tr th:only-of-type {\n",
       "        vertical-align: middle;\n",
       "    }\n",
       "\n",
       "    .dataframe tbody tr th {\n",
       "        vertical-align: top;\n",
       "    }\n",
       "\n",
       "    .dataframe thead th {\n",
       "        text-align: right;\n",
       "    }\n",
       "</style>\n",
       "<table border=\"1\" class=\"dataframe\">\n",
       "  <thead>\n",
       "    <tr style=\"text-align: right;\">\n",
       "      <th>WEEK</th>\n",
       "      <th>1</th>\n",
       "      <th>2</th>\n",
       "      <th>3</th>\n",
       "      <th>4</th>\n",
       "      <th>5</th>\n",
       "      <th>6</th>\n",
       "      <th>7</th>\n",
       "      <th>8</th>\n",
       "      <th>9</th>\n",
       "      <th>10</th>\n",
       "      <th>...</th>\n",
       "      <th>43</th>\n",
       "      <th>44</th>\n",
       "      <th>45</th>\n",
       "      <th>46</th>\n",
       "      <th>47</th>\n",
       "      <th>48</th>\n",
       "      <th>49</th>\n",
       "      <th>50</th>\n",
       "      <th>51</th>\n",
       "      <th>52</th>\n",
       "    </tr>\n",
       "    <tr>\n",
       "      <th>AVIBASEID</th>\n",
       "      <th></th>\n",
       "      <th></th>\n",
       "      <th></th>\n",
       "      <th></th>\n",
       "      <th></th>\n",
       "      <th></th>\n",
       "      <th></th>\n",
       "      <th></th>\n",
       "      <th></th>\n",
       "      <th></th>\n",
       "      <th></th>\n",
       "      <th></th>\n",
       "      <th></th>\n",
       "      <th></th>\n",
       "      <th></th>\n",
       "      <th></th>\n",
       "      <th></th>\n",
       "      <th></th>\n",
       "      <th></th>\n",
       "      <th></th>\n",
       "      <th></th>\n",
       "    </tr>\n",
       "  </thead>\n",
       "  <tbody>\n",
       "    <tr>\n",
       "      <th>000482C9</th>\n",
       "      <td>0.125000</td>\n",
       "      <td>0.250000</td>\n",
       "      <td>0.000000</td>\n",
       "      <td>0.000000</td>\n",
       "      <td>0.000000</td>\n",
       "      <td>0.000000</td>\n",
       "      <td>0.000000</td>\n",
       "      <td>0.000000</td>\n",
       "      <td>0.125000</td>\n",
       "      <td>0.000000</td>\n",
       "      <td>...</td>\n",
       "      <td>0.125000</td>\n",
       "      <td>0.000000</td>\n",
       "      <td>0.000000</td>\n",
       "      <td>0.000000</td>\n",
       "      <td>0.000000</td>\n",
       "      <td>0.000000</td>\n",
       "      <td>0.000000</td>\n",
       "      <td>0.000000</td>\n",
       "      <td>0.000000</td>\n",
       "      <td>0.000000</td>\n",
       "    </tr>\n",
       "    <tr>\n",
       "      <th>00124D98</th>\n",
       "      <td>0.011551</td>\n",
       "      <td>0.014851</td>\n",
       "      <td>0.004950</td>\n",
       "      <td>0.021452</td>\n",
       "      <td>0.013201</td>\n",
       "      <td>0.003300</td>\n",
       "      <td>0.004950</td>\n",
       "      <td>0.013201</td>\n",
       "      <td>0.009901</td>\n",
       "      <td>0.014851</td>\n",
       "      <td>...</td>\n",
       "      <td>0.011551</td>\n",
       "      <td>0.011551</td>\n",
       "      <td>0.006601</td>\n",
       "      <td>0.019802</td>\n",
       "      <td>0.004950</td>\n",
       "      <td>0.014851</td>\n",
       "      <td>0.009901</td>\n",
       "      <td>0.008251</td>\n",
       "      <td>0.018152</td>\n",
       "      <td>0.006601</td>\n",
       "    </tr>\n",
       "    <tr>\n",
       "      <th>00635FF9</th>\n",
       "      <td>0.010204</td>\n",
       "      <td>0.000000</td>\n",
       "      <td>0.010204</td>\n",
       "      <td>0.010204</td>\n",
       "      <td>0.020408</td>\n",
       "      <td>0.010204</td>\n",
       "      <td>0.020408</td>\n",
       "      <td>0.000000</td>\n",
       "      <td>0.000000</td>\n",
       "      <td>0.020408</td>\n",
       "      <td>...</td>\n",
       "      <td>0.030612</td>\n",
       "      <td>0.020408</td>\n",
       "      <td>0.051020</td>\n",
       "      <td>0.010204</td>\n",
       "      <td>0.000000</td>\n",
       "      <td>0.030612</td>\n",
       "      <td>0.000000</td>\n",
       "      <td>0.020408</td>\n",
       "      <td>0.000000</td>\n",
       "      <td>0.010204</td>\n",
       "    </tr>\n",
       "    <tr>\n",
       "      <th>01060BFD</th>\n",
       "      <td>0.019900</td>\n",
       "      <td>0.029851</td>\n",
       "      <td>0.000000</td>\n",
       "      <td>0.029851</td>\n",
       "      <td>0.000000</td>\n",
       "      <td>0.004975</td>\n",
       "      <td>0.024876</td>\n",
       "      <td>0.014925</td>\n",
       "      <td>0.000000</td>\n",
       "      <td>0.004975</td>\n",
       "      <td>...</td>\n",
       "      <td>0.004975</td>\n",
       "      <td>0.014925</td>\n",
       "      <td>0.054726</td>\n",
       "      <td>0.004975</td>\n",
       "      <td>0.029851</td>\n",
       "      <td>0.014925</td>\n",
       "      <td>0.000000</td>\n",
       "      <td>0.019900</td>\n",
       "      <td>0.000000</td>\n",
       "      <td>0.009950</td>\n",
       "    </tr>\n",
       "    <tr>\n",
       "      <th>018B3169</th>\n",
       "      <td>0.049587</td>\n",
       "      <td>0.049587</td>\n",
       "      <td>0.016529</td>\n",
       "      <td>0.074380</td>\n",
       "      <td>0.024793</td>\n",
       "      <td>0.024793</td>\n",
       "      <td>0.000000</td>\n",
       "      <td>0.057851</td>\n",
       "      <td>0.000000</td>\n",
       "      <td>0.033058</td>\n",
       "      <td>...</td>\n",
       "      <td>0.008264</td>\n",
       "      <td>0.016529</td>\n",
       "      <td>0.049587</td>\n",
       "      <td>0.041322</td>\n",
       "      <td>0.008264</td>\n",
       "      <td>0.024793</td>\n",
       "      <td>0.016529</td>\n",
       "      <td>0.049587</td>\n",
       "      <td>0.057851</td>\n",
       "      <td>0.057851</td>\n",
       "    </tr>\n",
       "    <tr>\n",
       "      <th>...</th>\n",
       "      <td>...</td>\n",
       "      <td>...</td>\n",
       "      <td>...</td>\n",
       "      <td>...</td>\n",
       "      <td>...</td>\n",
       "      <td>...</td>\n",
       "      <td>...</td>\n",
       "      <td>...</td>\n",
       "      <td>...</td>\n",
       "      <td>...</td>\n",
       "      <td>...</td>\n",
       "      <td>...</td>\n",
       "      <td>...</td>\n",
       "      <td>...</td>\n",
       "      <td>...</td>\n",
       "      <td>...</td>\n",
       "      <td>...</td>\n",
       "      <td>...</td>\n",
       "      <td>...</td>\n",
       "      <td>...</td>\n",
       "      <td>...</td>\n",
       "    </tr>\n",
       "    <tr>\n",
       "      <th>FC366114</th>\n",
       "      <td>0.014205</td>\n",
       "      <td>0.008523</td>\n",
       "      <td>0.008523</td>\n",
       "      <td>0.036932</td>\n",
       "      <td>0.028409</td>\n",
       "      <td>0.017045</td>\n",
       "      <td>0.011364</td>\n",
       "      <td>0.019886</td>\n",
       "      <td>0.011364</td>\n",
       "      <td>0.022727</td>\n",
       "      <td>...</td>\n",
       "      <td>0.008523</td>\n",
       "      <td>0.017045</td>\n",
       "      <td>0.008523</td>\n",
       "      <td>0.031250</td>\n",
       "      <td>0.017045</td>\n",
       "      <td>0.005682</td>\n",
       "      <td>0.005682</td>\n",
       "      <td>0.014205</td>\n",
       "      <td>0.019886</td>\n",
       "      <td>0.005682</td>\n",
       "    </tr>\n",
       "    <tr>\n",
       "      <th>FD2B0309</th>\n",
       "      <td>0.000000</td>\n",
       "      <td>0.025105</td>\n",
       "      <td>0.033473</td>\n",
       "      <td>0.033473</td>\n",
       "      <td>0.008368</td>\n",
       "      <td>0.012552</td>\n",
       "      <td>0.000000</td>\n",
       "      <td>0.016736</td>\n",
       "      <td>0.000000</td>\n",
       "      <td>0.008368</td>\n",
       "      <td>...</td>\n",
       "      <td>0.037657</td>\n",
       "      <td>0.016736</td>\n",
       "      <td>0.004184</td>\n",
       "      <td>0.020921</td>\n",
       "      <td>0.016736</td>\n",
       "      <td>0.025105</td>\n",
       "      <td>0.004184</td>\n",
       "      <td>0.008368</td>\n",
       "      <td>0.029289</td>\n",
       "      <td>0.008368</td>\n",
       "    </tr>\n",
       "    <tr>\n",
       "      <th>FED3756C</th>\n",
       "      <td>0.021739</td>\n",
       "      <td>0.039855</td>\n",
       "      <td>0.014493</td>\n",
       "      <td>0.057971</td>\n",
       "      <td>0.021739</td>\n",
       "      <td>0.010870</td>\n",
       "      <td>0.039855</td>\n",
       "      <td>0.028986</td>\n",
       "      <td>0.010870</td>\n",
       "      <td>0.014493</td>\n",
       "      <td>...</td>\n",
       "      <td>0.021739</td>\n",
       "      <td>0.003623</td>\n",
       "      <td>0.025362</td>\n",
       "      <td>0.025362</td>\n",
       "      <td>0.014493</td>\n",
       "      <td>0.010870</td>\n",
       "      <td>0.010870</td>\n",
       "      <td>0.025362</td>\n",
       "      <td>0.014493</td>\n",
       "      <td>0.043478</td>\n",
       "    </tr>\n",
       "    <tr>\n",
       "      <th>FF592882</th>\n",
       "      <td>0.012195</td>\n",
       "      <td>0.012195</td>\n",
       "      <td>0.006969</td>\n",
       "      <td>0.013937</td>\n",
       "      <td>0.010453</td>\n",
       "      <td>0.010453</td>\n",
       "      <td>0.012195</td>\n",
       "      <td>0.026132</td>\n",
       "      <td>0.024390</td>\n",
       "      <td>0.013937</td>\n",
       "      <td>...</td>\n",
       "      <td>0.019164</td>\n",
       "      <td>0.027875</td>\n",
       "      <td>0.008711</td>\n",
       "      <td>0.012195</td>\n",
       "      <td>0.006969</td>\n",
       "      <td>0.012195</td>\n",
       "      <td>0.017422</td>\n",
       "      <td>0.020906</td>\n",
       "      <td>0.012195</td>\n",
       "      <td>0.015679</td>\n",
       "    </tr>\n",
       "    <tr>\n",
       "      <th>FFF61080</th>\n",
       "      <td>0.015707</td>\n",
       "      <td>0.010471</td>\n",
       "      <td>0.015707</td>\n",
       "      <td>0.005236</td>\n",
       "      <td>0.005236</td>\n",
       "      <td>0.026178</td>\n",
       "      <td>0.005236</td>\n",
       "      <td>0.015707</td>\n",
       "      <td>0.010471</td>\n",
       "      <td>0.015707</td>\n",
       "      <td>...</td>\n",
       "      <td>0.005236</td>\n",
       "      <td>0.010471</td>\n",
       "      <td>0.010471</td>\n",
       "      <td>0.010471</td>\n",
       "      <td>0.005236</td>\n",
       "      <td>0.005236</td>\n",
       "      <td>0.010471</td>\n",
       "      <td>0.020942</td>\n",
       "      <td>0.005236</td>\n",
       "      <td>0.020942</td>\n",
       "    </tr>\n",
       "  </tbody>\n",
       "</table>\n",
       "<p>353 rows × 52 columns</p>\n",
       "</div>"
      ],
      "text/plain": [
       "WEEK             1         2         3         4         5         6   \\\n",
       "AVIBASEID                                                               \n",
       "000482C9   0.125000  0.250000  0.000000  0.000000  0.000000  0.000000   \n",
       "00124D98   0.011551  0.014851  0.004950  0.021452  0.013201  0.003300   \n",
       "00635FF9   0.010204  0.000000  0.010204  0.010204  0.020408  0.010204   \n",
       "01060BFD   0.019900  0.029851  0.000000  0.029851  0.000000  0.004975   \n",
       "018B3169   0.049587  0.049587  0.016529  0.074380  0.024793  0.024793   \n",
       "...             ...       ...       ...       ...       ...       ...   \n",
       "FC366114   0.014205  0.008523  0.008523  0.036932  0.028409  0.017045   \n",
       "FD2B0309   0.000000  0.025105  0.033473  0.033473  0.008368  0.012552   \n",
       "FED3756C   0.021739  0.039855  0.014493  0.057971  0.021739  0.010870   \n",
       "FF592882   0.012195  0.012195  0.006969  0.013937  0.010453  0.010453   \n",
       "FFF61080   0.015707  0.010471  0.015707  0.005236  0.005236  0.026178   \n",
       "\n",
       "WEEK             7         8         9         10  ...        43        44  \\\n",
       "AVIBASEID                                          ...                       \n",
       "000482C9   0.000000  0.000000  0.125000  0.000000  ...  0.125000  0.000000   \n",
       "00124D98   0.004950  0.013201  0.009901  0.014851  ...  0.011551  0.011551   \n",
       "00635FF9   0.020408  0.000000  0.000000  0.020408  ...  0.030612  0.020408   \n",
       "01060BFD   0.024876  0.014925  0.000000  0.004975  ...  0.004975  0.014925   \n",
       "018B3169   0.000000  0.057851  0.000000  0.033058  ...  0.008264  0.016529   \n",
       "...             ...       ...       ...       ...  ...       ...       ...   \n",
       "FC366114   0.011364  0.019886  0.011364  0.022727  ...  0.008523  0.017045   \n",
       "FD2B0309   0.000000  0.016736  0.000000  0.008368  ...  0.037657  0.016736   \n",
       "FED3756C   0.039855  0.028986  0.010870  0.014493  ...  0.021739  0.003623   \n",
       "FF592882   0.012195  0.026132  0.024390  0.013937  ...  0.019164  0.027875   \n",
       "FFF61080   0.005236  0.015707  0.010471  0.015707  ...  0.005236  0.010471   \n",
       "\n",
       "WEEK             45        46        47        48        49        50  \\\n",
       "AVIBASEID                                                               \n",
       "000482C9   0.000000  0.000000  0.000000  0.000000  0.000000  0.000000   \n",
       "00124D98   0.006601  0.019802  0.004950  0.014851  0.009901  0.008251   \n",
       "00635FF9   0.051020  0.010204  0.000000  0.030612  0.000000  0.020408   \n",
       "01060BFD   0.054726  0.004975  0.029851  0.014925  0.000000  0.019900   \n",
       "018B3169   0.049587  0.041322  0.008264  0.024793  0.016529  0.049587   \n",
       "...             ...       ...       ...       ...       ...       ...   \n",
       "FC366114   0.008523  0.031250  0.017045  0.005682  0.005682  0.014205   \n",
       "FD2B0309   0.004184  0.020921  0.016736  0.025105  0.004184  0.008368   \n",
       "FED3756C   0.025362  0.025362  0.014493  0.010870  0.010870  0.025362   \n",
       "FF592882   0.008711  0.012195  0.006969  0.012195  0.017422  0.020906   \n",
       "FFF61080   0.010471  0.010471  0.005236  0.005236  0.010471  0.020942   \n",
       "\n",
       "WEEK             51        52  \n",
       "AVIBASEID                      \n",
       "000482C9   0.000000  0.000000  \n",
       "00124D98   0.018152  0.006601  \n",
       "00635FF9   0.000000  0.010204  \n",
       "01060BFD   0.000000  0.009950  \n",
       "018B3169   0.057851  0.057851  \n",
       "...             ...       ...  \n",
       "FC366114   0.019886  0.005682  \n",
       "FD2B0309   0.029289  0.008368  \n",
       "FED3756C   0.014493  0.043478  \n",
       "FF592882   0.012195  0.015679  \n",
       "FFF61080   0.005236  0.020942  \n",
       "\n",
       "[353 rows x 52 columns]"
      ]
     },
     "execution_count": 92,
     "metadata": {},
     "output_type": "execute_result"
    }
   ],
   "source": [
    "iNat_curves_discrete"
   ]
  },
  {
   "cell_type": "code",
   "execution_count": 93,
   "metadata": {},
   "outputs": [],
   "source": [
    "import matplotlib.pyplot as plt"
   ]
  },
  {
   "cell_type": "code",
   "execution_count": 94,
   "metadata": {},
   "outputs": [],
   "source": [
    "%config inlineBackend.figure_format = 'retina'"
   ]
  },
  {
   "cell_type": "code",
   "execution_count": 95,
   "metadata": {},
   "outputs": [],
   "source": [
    "import scipy"
   ]
  },
  {
   "cell_type": "code",
   "execution_count": 96,
   "metadata": {},
   "outputs": [],
   "source": [
    "def function_smoothing(x, sigma=3):\n",
    "    y = scipy.ndimage.gaussian_filter(\n",
    "        x,\n",
    "        sigma\n",
    "    )\n",
    "    return y\n"
   ]
  },
  {
   "cell_type": "code",
   "execution_count": 104,
   "metadata": {},
   "outputs": [],
   "source": [
    "def make_smooth_curves(x, sigma=3, lims=(0,0.1)):\n",
    "    aviID = x\n",
    "    plt.ylim(lims)\n",
    "    y1_smoothed = function_smoothing(\n",
    "        iNat_curves_discrete.loc[aviID, :],\n",
    "        sigma=sigma\n",
    "    )\n",
    "    y2_smoothed = function_smoothing(\n",
    "        eBird_curves_discrete.loc[aviID, :],\n",
    "        sigma=sigma\n",
    "    )\n",
    "    y1_smoothed_22 = function_smoothing(\n",
    "        iNat_curves_discrete_22.loc[aviID, :],\n",
    "        sigma=sigma\n",
    "    )\n",
    "    y2_smoothed_22 = function_smoothing(\n",
    "        eBird_curves_discrete_22.loc[aviID, :],\n",
    "        sigma=sigma\n",
    "    )\n",
    "    plt.plot(y1_smoothed, label='iNat_data (2019)')\n",
    "    plt.plot(y2_smoothed, label='eBird_data (2019)')\n",
    "    plt.plot(y1_smoothed_22, label='iNat_data (2022)')\n",
    "    plt.plot(y2_smoothed_22, label='eBird_data (2022)')\n",
    "    plt.legend()\n",
    "    plt.title(f\"Observation Curves for the bird: {name_avID_dict[x]}\")"
   ]
  },
  {
   "cell_type": "code",
   "execution_count": 105,
   "metadata": {},
   "outputs": [
    {
     "data": {
      "image/png": "[encoded data removed]",
      "text/plain": [
       "<Figure size 640x480 with 1 Axes>"
      ]
     },
     "metadata": {},
     "output_type": "display_data"
    }
   ],
   "source": [
    "make_smooth_curves(\"42393721\", sigma=2)"
   ]
  },
  {
   "cell_type": "code",
   "execution_count": 106,
   "metadata": {},
   "outputs": [],
   "source": [
    "import numpy as np"
   ]
  },
  {
   "cell_type": "code",
   "execution_count": 109,
   "metadata": {},
   "outputs": [],
   "source": [
    "def make_smooth_curves_rm2wk_iNat(x, sigma=3, lims=(0,0.1)):\n",
    "    aviID = x\n",
    "    plt.ylim(lims)\n",
    "    y1 = iNat_curves_discrete.loc[aviID, :].values.copy()\n",
    "    y1_22 = iNat_curves_discrete_22.loc[aviID, :].values.copy()\n",
    "    y1[16:18] = np.mean(y1[13:21])\n",
    "    y1_22[16:18] = np.mean(y1_22[13:21])\n",
    "    y1_smoothed = function_smoothing(\n",
    "        y1,\n",
    "        sigma=sigma\n",
    "    )\n",
    "    y2_smoothed = function_smoothing(\n",
    "        eBird_curves_discrete.loc[aviID, :],\n",
    "        sigma=sigma\n",
    "    )\n",
    "    y1_smoothed_22 = function_smoothing(\n",
    "        y1_22,\n",
    "        sigma=sigma\n",
    "    )\n",
    "    y2_smoothed_22 = function_smoothing(\n",
    "        eBird_curves_discrete_22.loc[aviID, :],\n",
    "        sigma=sigma\n",
    "    )\n",
    "    plt.plot(y1_smoothed, label='iNat_data (2019)')\n",
    "    plt.plot(y2_smoothed, label='eBird_data (2019)')\n",
    "    plt.plot(y1_smoothed_22, label='iNat_data (2022)')\n",
    "    plt.plot(y2_smoothed_22, label='eBird_data (2022)')\n",
    "    \n",
    "    plt.legend()\n",
    "    plt.title(f\"Observation Curves for the bird: {name_avID_dict[x]}\")"
   ]
  },
  {
   "cell_type": "markdown",
   "metadata": {},
   "source": [
    "536A5157    2342\n",
    "42393721    1931\n",
    "85625D75    1828\n",
    "8601A467    1539\n",
    "49D9148A "
   ]
  },
  {
   "cell_type": "code",
   "execution_count": null,
   "metadata": {},
   "outputs": [],
   "source": [
    "88AB027C    50\n",
    "58312873    50\n",
    "A8C34DC9    52\n",
    "E53FC25C    54\n",
    "AC1E519F    56\n",
    "89F8B6F5    57\n",
    "BD929CBC    57\n",
    "B48335B1 "
   ]
  },
  {
   "cell_type": "markdown",
   "metadata": {},
   "source": [
    "Good Plots:\n",
    "- E53FC25C"
   ]
  },
  {
   "cell_type": "code",
   "execution_count": 156,
   "metadata": {},
   "outputs": [
    {
     "data": {
      "image/png": "[encoded data removed]",
      "text/plain": [
       "<Figure size 640x480 with 1 Axes>"
      ]
     },
     "metadata": {},
     "output_type": "display_data"
    }
   ],
   "source": [
    "make_smooth_curves_rm2wk_iNat(\"89F8B6F5\", sigma=2.5, lims=(0,0.2))"
   ]
  },
  {
   "cell_type": "markdown",
   "metadata": {},
   "source": [
    "Notes:\n",
    "- Smoothings: Fourier\n",
    "- Curve Representation: Optimal Transport Map\n",
    "- Play with filtering\n",
    "- More years?\n",
    "- Common Birds\n",
    "- Comparison of Curves in multiple years and with diff data sources\n",
    "- PCA vs FPCA (Dimension Reduction)"
   ]
  },
  {
   "cell_type": "code",
   "execution_count": 114,
   "metadata": {},
   "outputs": [
    {
     "data": {
      "text/html": [
       "<div>\n",
       "<style scoped>\n",
       "    .dataframe tbody tr th:only-of-type {\n",
       "        vertical-align: middle;\n",
       "    }\n",
       "\n",
       "    .dataframe tbody tr th {\n",
       "        vertical-align: top;\n",
       "    }\n",
       "\n",
       "    .dataframe thead th {\n",
       "        text-align: right;\n",
       "    }\n",
       "</style>\n",
       "<table border=\"1\" class=\"dataframe\">\n",
       "  <thead>\n",
       "    <tr style=\"text-align: right;\">\n",
       "      <th>WEEK</th>\n",
       "      <th>1</th>\n",
       "      <th>2</th>\n",
       "      <th>3</th>\n",
       "      <th>4</th>\n",
       "      <th>5</th>\n",
       "      <th>6</th>\n",
       "      <th>7</th>\n",
       "      <th>8</th>\n",
       "      <th>9</th>\n",
       "      <th>10</th>\n",
       "      <th>...</th>\n",
       "      <th>43</th>\n",
       "      <th>44</th>\n",
       "      <th>45</th>\n",
       "      <th>46</th>\n",
       "      <th>47</th>\n",
       "      <th>48</th>\n",
       "      <th>49</th>\n",
       "      <th>50</th>\n",
       "      <th>51</th>\n",
       "      <th>52</th>\n",
       "    </tr>\n",
       "    <tr>\n",
       "      <th>AVIBASEID</th>\n",
       "      <th></th>\n",
       "      <th></th>\n",
       "      <th></th>\n",
       "      <th></th>\n",
       "      <th></th>\n",
       "      <th></th>\n",
       "      <th></th>\n",
       "      <th></th>\n",
       "      <th></th>\n",
       "      <th></th>\n",
       "      <th></th>\n",
       "      <th></th>\n",
       "      <th></th>\n",
       "      <th></th>\n",
       "      <th></th>\n",
       "      <th></th>\n",
       "      <th></th>\n",
       "      <th></th>\n",
       "      <th></th>\n",
       "      <th></th>\n",
       "      <th></th>\n",
       "    </tr>\n",
       "  </thead>\n",
       "  <tbody>\n",
       "    <tr>\n",
       "      <th>000482C9</th>\n",
       "      <td>0.119048</td>\n",
       "      <td>0.040476</td>\n",
       "      <td>0.019048</td>\n",
       "      <td>0.014286</td>\n",
       "      <td>0.026190</td>\n",
       "      <td>0.007143</td>\n",
       "      <td>0.014286</td>\n",
       "      <td>0.009524</td>\n",
       "      <td>0.009524</td>\n",
       "      <td>0.014286</td>\n",
       "      <td>...</td>\n",
       "      <td>0.026190</td>\n",
       "      <td>0.033333</td>\n",
       "      <td>0.038095</td>\n",
       "      <td>0.040476</td>\n",
       "      <td>0.042857</td>\n",
       "      <td>0.021429</td>\n",
       "      <td>0.004762</td>\n",
       "      <td>0.021429</td>\n",
       "      <td>0.028571</td>\n",
       "      <td>0.042857</td>\n",
       "    </tr>\n",
       "    <tr>\n",
       "      <th>00124D98</th>\n",
       "      <td>0.022217</td>\n",
       "      <td>0.017285</td>\n",
       "      <td>0.012884</td>\n",
       "      <td>0.018823</td>\n",
       "      <td>0.015717</td>\n",
       "      <td>0.016278</td>\n",
       "      <td>0.016436</td>\n",
       "      <td>0.018622</td>\n",
       "      <td>0.015286</td>\n",
       "      <td>0.017831</td>\n",
       "      <td>...</td>\n",
       "      <td>0.010181</td>\n",
       "      <td>0.012554</td>\n",
       "      <td>0.012022</td>\n",
       "      <td>0.014452</td>\n",
       "      <td>0.013028</td>\n",
       "      <td>0.012022</td>\n",
       "      <td>0.012741</td>\n",
       "      <td>0.018349</td>\n",
       "      <td>0.015386</td>\n",
       "      <td>0.017026</td>\n",
       "    </tr>\n",
       "    <tr>\n",
       "      <th>00635FF9</th>\n",
       "      <td>0.014224</td>\n",
       "      <td>0.007715</td>\n",
       "      <td>0.009643</td>\n",
       "      <td>0.014706</td>\n",
       "      <td>0.005304</td>\n",
       "      <td>0.006750</td>\n",
       "      <td>0.009161</td>\n",
       "      <td>0.015670</td>\n",
       "      <td>0.003857</td>\n",
       "      <td>0.007473</td>\n",
       "      <td>...</td>\n",
       "      <td>0.013259</td>\n",
       "      <td>0.010849</td>\n",
       "      <td>0.017840</td>\n",
       "      <td>0.016876</td>\n",
       "      <td>0.013259</td>\n",
       "      <td>0.005786</td>\n",
       "      <td>0.005304</td>\n",
       "      <td>0.016152</td>\n",
       "      <td>0.007956</td>\n",
       "      <td>0.013259</td>\n",
       "    </tr>\n",
       "    <tr>\n",
       "      <th>01060BFD</th>\n",
       "      <td>0.021075</td>\n",
       "      <td>0.017118</td>\n",
       "      <td>0.009295</td>\n",
       "      <td>0.021535</td>\n",
       "      <td>0.008927</td>\n",
       "      <td>0.015093</td>\n",
       "      <td>0.011412</td>\n",
       "      <td>0.016934</td>\n",
       "      <td>0.008099</td>\n",
       "      <td>0.009111</td>\n",
       "      <td>...</td>\n",
       "      <td>0.014817</td>\n",
       "      <td>0.019418</td>\n",
       "      <td>0.022731</td>\n",
       "      <td>0.016013</td>\n",
       "      <td>0.017394</td>\n",
       "      <td>0.015553</td>\n",
       "      <td>0.014081</td>\n",
       "      <td>0.015829</td>\n",
       "      <td>0.009387</td>\n",
       "      <td>0.014265</td>\n",
       "    </tr>\n",
       "    <tr>\n",
       "      <th>018B3169</th>\n",
       "      <td>0.062974</td>\n",
       "      <td>0.057585</td>\n",
       "      <td>0.037885</td>\n",
       "      <td>0.063984</td>\n",
       "      <td>0.046304</td>\n",
       "      <td>0.040411</td>\n",
       "      <td>0.040579</td>\n",
       "      <td>0.059269</td>\n",
       "      <td>0.036707</td>\n",
       "      <td>0.028456</td>\n",
       "      <td>...</td>\n",
       "      <td>0.009092</td>\n",
       "      <td>0.027277</td>\n",
       "      <td>0.038727</td>\n",
       "      <td>0.031824</td>\n",
       "      <td>0.033002</td>\n",
       "      <td>0.034349</td>\n",
       "      <td>0.034012</td>\n",
       "      <td>0.049167</td>\n",
       "      <td>0.023741</td>\n",
       "      <td>0.041253</td>\n",
       "    </tr>\n",
       "    <tr>\n",
       "      <th>...</th>\n",
       "      <td>...</td>\n",
       "      <td>...</td>\n",
       "      <td>...</td>\n",
       "      <td>...</td>\n",
       "      <td>...</td>\n",
       "      <td>...</td>\n",
       "      <td>...</td>\n",
       "      <td>...</td>\n",
       "      <td>...</td>\n",
       "      <td>...</td>\n",
       "      <td>...</td>\n",
       "      <td>...</td>\n",
       "      <td>...</td>\n",
       "      <td>...</td>\n",
       "      <td>...</td>\n",
       "      <td>...</td>\n",
       "      <td>...</td>\n",
       "      <td>...</td>\n",
       "      <td>...</td>\n",
       "      <td>...</td>\n",
       "      <td>...</td>\n",
       "    </tr>\n",
       "    <tr>\n",
       "      <th>FC366114</th>\n",
       "      <td>0.041123</td>\n",
       "      <td>0.026198</td>\n",
       "      <td>0.021083</td>\n",
       "      <td>0.032773</td>\n",
       "      <td>0.021188</td>\n",
       "      <td>0.022231</td>\n",
       "      <td>0.020770</td>\n",
       "      <td>0.029746</td>\n",
       "      <td>0.019100</td>\n",
       "      <td>0.023797</td>\n",
       "      <td>...</td>\n",
       "      <td>0.016282</td>\n",
       "      <td>0.015134</td>\n",
       "      <td>0.019309</td>\n",
       "      <td>0.020248</td>\n",
       "      <td>0.018474</td>\n",
       "      <td>0.010437</td>\n",
       "      <td>0.014925</td>\n",
       "      <td>0.034548</td>\n",
       "      <td>0.023484</td>\n",
       "      <td>0.020562</td>\n",
       "    </tr>\n",
       "    <tr>\n",
       "      <th>FD2B0309</th>\n",
       "      <td>0.027732</td>\n",
       "      <td>0.018818</td>\n",
       "      <td>0.016177</td>\n",
       "      <td>0.027567</td>\n",
       "      <td>0.008254</td>\n",
       "      <td>0.007098</td>\n",
       "      <td>0.008749</td>\n",
       "      <td>0.018323</td>\n",
       "      <td>0.003136</td>\n",
       "      <td>0.013701</td>\n",
       "      <td>...</td>\n",
       "      <td>0.013866</td>\n",
       "      <td>0.018983</td>\n",
       "      <td>0.016507</td>\n",
       "      <td>0.022945</td>\n",
       "      <td>0.023440</td>\n",
       "      <td>0.016177</td>\n",
       "      <td>0.008088</td>\n",
       "      <td>0.008584</td>\n",
       "      <td>0.015517</td>\n",
       "      <td>0.014526</td>\n",
       "    </tr>\n",
       "    <tr>\n",
       "      <th>FED3756C</th>\n",
       "      <td>0.045327</td>\n",
       "      <td>0.034529</td>\n",
       "      <td>0.028118</td>\n",
       "      <td>0.050163</td>\n",
       "      <td>0.017321</td>\n",
       "      <td>0.025644</td>\n",
       "      <td>0.023394</td>\n",
       "      <td>0.028681</td>\n",
       "      <td>0.020020</td>\n",
       "      <td>0.016871</td>\n",
       "      <td>...</td>\n",
       "      <td>0.013159</td>\n",
       "      <td>0.014059</td>\n",
       "      <td>0.014509</td>\n",
       "      <td>0.023282</td>\n",
       "      <td>0.035429</td>\n",
       "      <td>0.022720</td>\n",
       "      <td>0.016309</td>\n",
       "      <td>0.037454</td>\n",
       "      <td>0.027443</td>\n",
       "      <td>0.032167</td>\n",
       "    </tr>\n",
       "    <tr>\n",
       "      <th>FF592882</th>\n",
       "      <td>0.023050</td>\n",
       "      <td>0.018095</td>\n",
       "      <td>0.012938</td>\n",
       "      <td>0.018866</td>\n",
       "      <td>0.014223</td>\n",
       "      <td>0.014645</td>\n",
       "      <td>0.015966</td>\n",
       "      <td>0.020885</td>\n",
       "      <td>0.014388</td>\n",
       "      <td>0.014388</td>\n",
       "      <td>...</td>\n",
       "      <td>0.016884</td>\n",
       "      <td>0.020279</td>\n",
       "      <td>0.019251</td>\n",
       "      <td>0.022114</td>\n",
       "      <td>0.017361</td>\n",
       "      <td>0.015452</td>\n",
       "      <td>0.013525</td>\n",
       "      <td>0.025968</td>\n",
       "      <td>0.014388</td>\n",
       "      <td>0.019967</td>\n",
       "    </tr>\n",
       "    <tr>\n",
       "      <th>FFF61080</th>\n",
       "      <td>0.013699</td>\n",
       "      <td>0.010236</td>\n",
       "      <td>0.005469</td>\n",
       "      <td>0.008480</td>\n",
       "      <td>0.006624</td>\n",
       "      <td>0.004867</td>\n",
       "      <td>0.004265</td>\n",
       "      <td>0.011441</td>\n",
       "      <td>0.006322</td>\n",
       "      <td>0.009132</td>\n",
       "      <td>...</td>\n",
       "      <td>0.006975</td>\n",
       "      <td>0.008229</td>\n",
       "      <td>0.008530</td>\n",
       "      <td>0.008580</td>\n",
       "      <td>0.012344</td>\n",
       "      <td>0.006774</td>\n",
       "      <td>0.007075</td>\n",
       "      <td>0.011390</td>\n",
       "      <td>0.009183</td>\n",
       "      <td>0.011441</td>\n",
       "    </tr>\n",
       "  </tbody>\n",
       "</table>\n",
       "<p>353 rows × 52 columns</p>\n",
       "</div>"
      ],
      "text/plain": [
       "WEEK             1         2         3         4         5         6   \\\n",
       "AVIBASEID                                                               \n",
       "000482C9   0.119048  0.040476  0.019048  0.014286  0.026190  0.007143   \n",
       "00124D98   0.022217  0.017285  0.012884  0.018823  0.015717  0.016278   \n",
       "00635FF9   0.014224  0.007715  0.009643  0.014706  0.005304  0.006750   \n",
       "01060BFD   0.021075  0.017118  0.009295  0.021535  0.008927  0.015093   \n",
       "018B3169   0.062974  0.057585  0.037885  0.063984  0.046304  0.040411   \n",
       "...             ...       ...       ...       ...       ...       ...   \n",
       "FC366114   0.041123  0.026198  0.021083  0.032773  0.021188  0.022231   \n",
       "FD2B0309   0.027732  0.018818  0.016177  0.027567  0.008254  0.007098   \n",
       "FED3756C   0.045327  0.034529  0.028118  0.050163  0.017321  0.025644   \n",
       "FF592882   0.023050  0.018095  0.012938  0.018866  0.014223  0.014645   \n",
       "FFF61080   0.013699  0.010236  0.005469  0.008480  0.006624  0.004867   \n",
       "\n",
       "WEEK             7         8         9         10  ...        43        44  \\\n",
       "AVIBASEID                                          ...                       \n",
       "000482C9   0.014286  0.009524  0.009524  0.014286  ...  0.026190  0.033333   \n",
       "00124D98   0.016436  0.018622  0.015286  0.017831  ...  0.010181  0.012554   \n",
       "00635FF9   0.009161  0.015670  0.003857  0.007473  ...  0.013259  0.010849   \n",
       "01060BFD   0.011412  0.016934  0.008099  0.009111  ...  0.014817  0.019418   \n",
       "018B3169   0.040579  0.059269  0.036707  0.028456  ...  0.009092  0.027277   \n",
       "...             ...       ...       ...       ...  ...       ...       ...   \n",
       "FC366114   0.020770  0.029746  0.019100  0.023797  ...  0.016282  0.015134   \n",
       "FD2B0309   0.008749  0.018323  0.003136  0.013701  ...  0.013866  0.018983   \n",
       "FED3756C   0.023394  0.028681  0.020020  0.016871  ...  0.013159  0.014059   \n",
       "FF592882   0.015966  0.020885  0.014388  0.014388  ...  0.016884  0.020279   \n",
       "FFF61080   0.004265  0.011441  0.006322  0.009132  ...  0.006975  0.008229   \n",
       "\n",
       "WEEK             45        46        47        48        49        50  \\\n",
       "AVIBASEID                                                               \n",
       "000482C9   0.038095  0.040476  0.042857  0.021429  0.004762  0.021429   \n",
       "00124D98   0.012022  0.014452  0.013028  0.012022  0.012741  0.018349   \n",
       "00635FF9   0.017840  0.016876  0.013259  0.005786  0.005304  0.016152   \n",
       "01060BFD   0.022731  0.016013  0.017394  0.015553  0.014081  0.015829   \n",
       "018B3169   0.038727  0.031824  0.033002  0.034349  0.034012  0.049167   \n",
       "...             ...       ...       ...       ...       ...       ...   \n",
       "FC366114   0.019309  0.020248  0.018474  0.010437  0.014925  0.034548   \n",
       "FD2B0309   0.016507  0.022945  0.023440  0.016177  0.008088  0.008584   \n",
       "FED3756C   0.014509  0.023282  0.035429  0.022720  0.016309  0.037454   \n",
       "FF592882   0.019251  0.022114  0.017361  0.015452  0.013525  0.025968   \n",
       "FFF61080   0.008530  0.008580  0.012344  0.006774  0.007075  0.011390   \n",
       "\n",
       "WEEK             51        52  \n",
       "AVIBASEID                      \n",
       "000482C9   0.028571  0.042857  \n",
       "00124D98   0.015386  0.017026  \n",
       "00635FF9   0.007956  0.013259  \n",
       "01060BFD   0.009387  0.014265  \n",
       "018B3169   0.023741  0.041253  \n",
       "...             ...       ...  \n",
       "FC366114   0.023484  0.020562  \n",
       "FD2B0309   0.015517  0.014526  \n",
       "FED3756C   0.027443  0.032167  \n",
       "FF592882   0.014388  0.019967  \n",
       "FFF61080   0.009183  0.011441  \n",
       "\n",
       "[353 rows x 52 columns]"
      ]
     },
     "execution_count": 114,
     "metadata": {},
     "output_type": "execute_result"
    }
   ],
   "source": [
    "eBird_curves_discrete"
   ]
  },
  {
   "cell_type": "code",
   "execution_count": 115,
   "metadata": {},
   "outputs": [
    {
     "data": {
      "text/html": [
       "<div>\n",
       "<style scoped>\n",
       "    .dataframe tbody tr th:only-of-type {\n",
       "        vertical-align: middle;\n",
       "    }\n",
       "\n",
       "    .dataframe tbody tr th {\n",
       "        vertical-align: top;\n",
       "    }\n",
       "\n",
       "    .dataframe thead th {\n",
       "        text-align: right;\n",
       "    }\n",
       "</style>\n",
       "<table border=\"1\" class=\"dataframe\">\n",
       "  <thead>\n",
       "    <tr style=\"text-align: right;\">\n",
       "      <th>WEEK</th>\n",
       "      <th>1</th>\n",
       "      <th>2</th>\n",
       "      <th>3</th>\n",
       "      <th>4</th>\n",
       "      <th>5</th>\n",
       "      <th>6</th>\n",
       "      <th>7</th>\n",
       "      <th>8</th>\n",
       "      <th>9</th>\n",
       "      <th>10</th>\n",
       "      <th>...</th>\n",
       "      <th>43</th>\n",
       "      <th>44</th>\n",
       "      <th>45</th>\n",
       "      <th>46</th>\n",
       "      <th>47</th>\n",
       "      <th>48</th>\n",
       "      <th>49</th>\n",
       "      <th>50</th>\n",
       "      <th>51</th>\n",
       "      <th>52</th>\n",
       "    </tr>\n",
       "    <tr>\n",
       "      <th>AVIBASEID</th>\n",
       "      <th></th>\n",
       "      <th></th>\n",
       "      <th></th>\n",
       "      <th></th>\n",
       "      <th></th>\n",
       "      <th></th>\n",
       "      <th></th>\n",
       "      <th></th>\n",
       "      <th></th>\n",
       "      <th></th>\n",
       "      <th></th>\n",
       "      <th></th>\n",
       "      <th></th>\n",
       "      <th></th>\n",
       "      <th></th>\n",
       "      <th></th>\n",
       "      <th></th>\n",
       "      <th></th>\n",
       "      <th></th>\n",
       "      <th></th>\n",
       "      <th></th>\n",
       "    </tr>\n",
       "  </thead>\n",
       "  <tbody>\n",
       "    <tr>\n",
       "      <th>000482C9</th>\n",
       "      <td>0.125000</td>\n",
       "      <td>0.250000</td>\n",
       "      <td>0.000000</td>\n",
       "      <td>0.000000</td>\n",
       "      <td>0.000000</td>\n",
       "      <td>0.000000</td>\n",
       "      <td>0.000000</td>\n",
       "      <td>0.000000</td>\n",
       "      <td>0.125000</td>\n",
       "      <td>0.000000</td>\n",
       "      <td>...</td>\n",
       "      <td>0.125000</td>\n",
       "      <td>0.000000</td>\n",
       "      <td>0.000000</td>\n",
       "      <td>0.000000</td>\n",
       "      <td>0.000000</td>\n",
       "      <td>0.000000</td>\n",
       "      <td>0.000000</td>\n",
       "      <td>0.000000</td>\n",
       "      <td>0.000000</td>\n",
       "      <td>0.000000</td>\n",
       "    </tr>\n",
       "    <tr>\n",
       "      <th>00124D98</th>\n",
       "      <td>0.011551</td>\n",
       "      <td>0.014851</td>\n",
       "      <td>0.004950</td>\n",
       "      <td>0.021452</td>\n",
       "      <td>0.013201</td>\n",
       "      <td>0.003300</td>\n",
       "      <td>0.004950</td>\n",
       "      <td>0.013201</td>\n",
       "      <td>0.009901</td>\n",
       "      <td>0.014851</td>\n",
       "      <td>...</td>\n",
       "      <td>0.011551</td>\n",
       "      <td>0.011551</td>\n",
       "      <td>0.006601</td>\n",
       "      <td>0.019802</td>\n",
       "      <td>0.004950</td>\n",
       "      <td>0.014851</td>\n",
       "      <td>0.009901</td>\n",
       "      <td>0.008251</td>\n",
       "      <td>0.018152</td>\n",
       "      <td>0.006601</td>\n",
       "    </tr>\n",
       "    <tr>\n",
       "      <th>00635FF9</th>\n",
       "      <td>0.010204</td>\n",
       "      <td>0.000000</td>\n",
       "      <td>0.010204</td>\n",
       "      <td>0.010204</td>\n",
       "      <td>0.020408</td>\n",
       "      <td>0.010204</td>\n",
       "      <td>0.020408</td>\n",
       "      <td>0.000000</td>\n",
       "      <td>0.000000</td>\n",
       "      <td>0.020408</td>\n",
       "      <td>...</td>\n",
       "      <td>0.030612</td>\n",
       "      <td>0.020408</td>\n",
       "      <td>0.051020</td>\n",
       "      <td>0.010204</td>\n",
       "      <td>0.000000</td>\n",
       "      <td>0.030612</td>\n",
       "      <td>0.000000</td>\n",
       "      <td>0.020408</td>\n",
       "      <td>0.000000</td>\n",
       "      <td>0.010204</td>\n",
       "    </tr>\n",
       "    <tr>\n",
       "      <th>01060BFD</th>\n",
       "      <td>0.019900</td>\n",
       "      <td>0.029851</td>\n",
       "      <td>0.000000</td>\n",
       "      <td>0.029851</td>\n",
       "      <td>0.000000</td>\n",
       "      <td>0.004975</td>\n",
       "      <td>0.024876</td>\n",
       "      <td>0.014925</td>\n",
       "      <td>0.000000</td>\n",
       "      <td>0.004975</td>\n",
       "      <td>...</td>\n",
       "      <td>0.004975</td>\n",
       "      <td>0.014925</td>\n",
       "      <td>0.054726</td>\n",
       "      <td>0.004975</td>\n",
       "      <td>0.029851</td>\n",
       "      <td>0.014925</td>\n",
       "      <td>0.000000</td>\n",
       "      <td>0.019900</td>\n",
       "      <td>0.000000</td>\n",
       "      <td>0.009950</td>\n",
       "    </tr>\n",
       "    <tr>\n",
       "      <th>018B3169</th>\n",
       "      <td>0.049587</td>\n",
       "      <td>0.049587</td>\n",
       "      <td>0.016529</td>\n",
       "      <td>0.074380</td>\n",
       "      <td>0.024793</td>\n",
       "      <td>0.024793</td>\n",
       "      <td>0.000000</td>\n",
       "      <td>0.057851</td>\n",
       "      <td>0.000000</td>\n",
       "      <td>0.033058</td>\n",
       "      <td>...</td>\n",
       "      <td>0.008264</td>\n",
       "      <td>0.016529</td>\n",
       "      <td>0.049587</td>\n",
       "      <td>0.041322</td>\n",
       "      <td>0.008264</td>\n",
       "      <td>0.024793</td>\n",
       "      <td>0.016529</td>\n",
       "      <td>0.049587</td>\n",
       "      <td>0.057851</td>\n",
       "      <td>0.057851</td>\n",
       "    </tr>\n",
       "    <tr>\n",
       "      <th>...</th>\n",
       "      <td>...</td>\n",
       "      <td>...</td>\n",
       "      <td>...</td>\n",
       "      <td>...</td>\n",
       "      <td>...</td>\n",
       "      <td>...</td>\n",
       "      <td>...</td>\n",
       "      <td>...</td>\n",
       "      <td>...</td>\n",
       "      <td>...</td>\n",
       "      <td>...</td>\n",
       "      <td>...</td>\n",
       "      <td>...</td>\n",
       "      <td>...</td>\n",
       "      <td>...</td>\n",
       "      <td>...</td>\n",
       "      <td>...</td>\n",
       "      <td>...</td>\n",
       "      <td>...</td>\n",
       "      <td>...</td>\n",
       "      <td>...</td>\n",
       "    </tr>\n",
       "    <tr>\n",
       "      <th>FC366114</th>\n",
       "      <td>0.014205</td>\n",
       "      <td>0.008523</td>\n",
       "      <td>0.008523</td>\n",
       "      <td>0.036932</td>\n",
       "      <td>0.028409</td>\n",
       "      <td>0.017045</td>\n",
       "      <td>0.011364</td>\n",
       "      <td>0.019886</td>\n",
       "      <td>0.011364</td>\n",
       "      <td>0.022727</td>\n",
       "      <td>...</td>\n",
       "      <td>0.008523</td>\n",
       "      <td>0.017045</td>\n",
       "      <td>0.008523</td>\n",
       "      <td>0.031250</td>\n",
       "      <td>0.017045</td>\n",
       "      <td>0.005682</td>\n",
       "      <td>0.005682</td>\n",
       "      <td>0.014205</td>\n",
       "      <td>0.019886</td>\n",
       "      <td>0.005682</td>\n",
       "    </tr>\n",
       "    <tr>\n",
       "      <th>FD2B0309</th>\n",
       "      <td>0.000000</td>\n",
       "      <td>0.025105</td>\n",
       "      <td>0.033473</td>\n",
       "      <td>0.033473</td>\n",
       "      <td>0.008368</td>\n",
       "      <td>0.012552</td>\n",
       "      <td>0.000000</td>\n",
       "      <td>0.016736</td>\n",
       "      <td>0.000000</td>\n",
       "      <td>0.008368</td>\n",
       "      <td>...</td>\n",
       "      <td>0.037657</td>\n",
       "      <td>0.016736</td>\n",
       "      <td>0.004184</td>\n",
       "      <td>0.020921</td>\n",
       "      <td>0.016736</td>\n",
       "      <td>0.025105</td>\n",
       "      <td>0.004184</td>\n",
       "      <td>0.008368</td>\n",
       "      <td>0.029289</td>\n",
       "      <td>0.008368</td>\n",
       "    </tr>\n",
       "    <tr>\n",
       "      <th>FED3756C</th>\n",
       "      <td>0.021739</td>\n",
       "      <td>0.039855</td>\n",
       "      <td>0.014493</td>\n",
       "      <td>0.057971</td>\n",
       "      <td>0.021739</td>\n",
       "      <td>0.010870</td>\n",
       "      <td>0.039855</td>\n",
       "      <td>0.028986</td>\n",
       "      <td>0.010870</td>\n",
       "      <td>0.014493</td>\n",
       "      <td>...</td>\n",
       "      <td>0.021739</td>\n",
       "      <td>0.003623</td>\n",
       "      <td>0.025362</td>\n",
       "      <td>0.025362</td>\n",
       "      <td>0.014493</td>\n",
       "      <td>0.010870</td>\n",
       "      <td>0.010870</td>\n",
       "      <td>0.025362</td>\n",
       "      <td>0.014493</td>\n",
       "      <td>0.043478</td>\n",
       "    </tr>\n",
       "    <tr>\n",
       "      <th>FF592882</th>\n",
       "      <td>0.012195</td>\n",
       "      <td>0.012195</td>\n",
       "      <td>0.006969</td>\n",
       "      <td>0.013937</td>\n",
       "      <td>0.010453</td>\n",
       "      <td>0.010453</td>\n",
       "      <td>0.012195</td>\n",
       "      <td>0.026132</td>\n",
       "      <td>0.024390</td>\n",
       "      <td>0.013937</td>\n",
       "      <td>...</td>\n",
       "      <td>0.019164</td>\n",
       "      <td>0.027875</td>\n",
       "      <td>0.008711</td>\n",
       "      <td>0.012195</td>\n",
       "      <td>0.006969</td>\n",
       "      <td>0.012195</td>\n",
       "      <td>0.017422</td>\n",
       "      <td>0.020906</td>\n",
       "      <td>0.012195</td>\n",
       "      <td>0.015679</td>\n",
       "    </tr>\n",
       "    <tr>\n",
       "      <th>FFF61080</th>\n",
       "      <td>0.015707</td>\n",
       "      <td>0.010471</td>\n",
       "      <td>0.015707</td>\n",
       "      <td>0.005236</td>\n",
       "      <td>0.005236</td>\n",
       "      <td>0.026178</td>\n",
       "      <td>0.005236</td>\n",
       "      <td>0.015707</td>\n",
       "      <td>0.010471</td>\n",
       "      <td>0.015707</td>\n",
       "      <td>...</td>\n",
       "      <td>0.005236</td>\n",
       "      <td>0.010471</td>\n",
       "      <td>0.010471</td>\n",
       "      <td>0.010471</td>\n",
       "      <td>0.005236</td>\n",
       "      <td>0.005236</td>\n",
       "      <td>0.010471</td>\n",
       "      <td>0.020942</td>\n",
       "      <td>0.005236</td>\n",
       "      <td>0.020942</td>\n",
       "    </tr>\n",
       "  </tbody>\n",
       "</table>\n",
       "<p>353 rows × 52 columns</p>\n",
       "</div>"
      ],
      "text/plain": [
       "WEEK             1         2         3         4         5         6   \\\n",
       "AVIBASEID                                                               \n",
       "000482C9   0.125000  0.250000  0.000000  0.000000  0.000000  0.000000   \n",
       "00124D98   0.011551  0.014851  0.004950  0.021452  0.013201  0.003300   \n",
       "00635FF9   0.010204  0.000000  0.010204  0.010204  0.020408  0.010204   \n",
       "01060BFD   0.019900  0.029851  0.000000  0.029851  0.000000  0.004975   \n",
       "018B3169   0.049587  0.049587  0.016529  0.074380  0.024793  0.024793   \n",
       "...             ...       ...       ...       ...       ...       ...   \n",
       "FC366114   0.014205  0.008523  0.008523  0.036932  0.028409  0.017045   \n",
       "FD2B0309   0.000000  0.025105  0.033473  0.033473  0.008368  0.012552   \n",
       "FED3756C   0.021739  0.039855  0.014493  0.057971  0.021739  0.010870   \n",
       "FF592882   0.012195  0.012195  0.006969  0.013937  0.010453  0.010453   \n",
       "FFF61080   0.015707  0.010471  0.015707  0.005236  0.005236  0.026178   \n",
       "\n",
       "WEEK             7         8         9         10  ...        43        44  \\\n",
       "AVIBASEID                                          ...                       \n",
       "000482C9   0.000000  0.000000  0.125000  0.000000  ...  0.125000  0.000000   \n",
       "00124D98   0.004950  0.013201  0.009901  0.014851  ...  0.011551  0.011551   \n",
       "00635FF9   0.020408  0.000000  0.000000  0.020408  ...  0.030612  0.020408   \n",
       "01060BFD   0.024876  0.014925  0.000000  0.004975  ...  0.004975  0.014925   \n",
       "018B3169   0.000000  0.057851  0.000000  0.033058  ...  0.008264  0.016529   \n",
       "...             ...       ...       ...       ...  ...       ...       ...   \n",
       "FC366114   0.011364  0.019886  0.011364  0.022727  ...  0.008523  0.017045   \n",
       "FD2B0309   0.000000  0.016736  0.000000  0.008368  ...  0.037657  0.016736   \n",
       "FED3756C   0.039855  0.028986  0.010870  0.014493  ...  0.021739  0.003623   \n",
       "FF592882   0.012195  0.026132  0.024390  0.013937  ...  0.019164  0.027875   \n",
       "FFF61080   0.005236  0.015707  0.010471  0.015707  ...  0.005236  0.010471   \n",
       "\n",
       "WEEK             45        46        47        48        49        50  \\\n",
       "AVIBASEID                                                               \n",
       "000482C9   0.000000  0.000000  0.000000  0.000000  0.000000  0.000000   \n",
       "00124D98   0.006601  0.019802  0.004950  0.014851  0.009901  0.008251   \n",
       "00635FF9   0.051020  0.010204  0.000000  0.030612  0.000000  0.020408   \n",
       "01060BFD   0.054726  0.004975  0.029851  0.014925  0.000000  0.019900   \n",
       "018B3169   0.049587  0.041322  0.008264  0.024793  0.016529  0.049587   \n",
       "...             ...       ...       ...       ...       ...       ...   \n",
       "FC366114   0.008523  0.031250  0.017045  0.005682  0.005682  0.014205   \n",
       "FD2B0309   0.004184  0.020921  0.016736  0.025105  0.004184  0.008368   \n",
       "FED3756C   0.025362  0.025362  0.014493  0.010870  0.010870  0.025362   \n",
       "FF592882   0.008711  0.012195  0.006969  0.012195  0.017422  0.020906   \n",
       "FFF61080   0.010471  0.010471  0.005236  0.005236  0.010471  0.020942   \n",
       "\n",
       "WEEK             51        52  \n",
       "AVIBASEID                      \n",
       "000482C9   0.000000  0.000000  \n",
       "00124D98   0.018152  0.006601  \n",
       "00635FF9   0.000000  0.010204  \n",
       "01060BFD   0.000000  0.009950  \n",
       "018B3169   0.057851  0.057851  \n",
       "...             ...       ...  \n",
       "FC366114   0.019886  0.005682  \n",
       "FD2B0309   0.029289  0.008368  \n",
       "FED3756C   0.014493  0.043478  \n",
       "FF592882   0.012195  0.015679  \n",
       "FFF61080   0.005236  0.020942  \n",
       "\n",
       "[353 rows x 52 columns]"
      ]
     },
     "execution_count": 115,
     "metadata": {},
     "output_type": "execute_result"
    }
   ],
   "source": [
    "iNat_curves_discrete"
   ]
  },
  {
   "cell_type": "code",
   "execution_count": 116,
   "metadata": {},
   "outputs": [
    {
     "data": {
      "text/plain": [
       "3842332"
      ]
     },
     "execution_count": 116,
     "metadata": {},
     "output_type": "execute_result"
    }
   ],
   "source": [
    "eBird_weekly_counts2['COUNTS'].sum()"
   ]
  },
  {
   "cell_type": "code",
   "execution_count": 117,
   "metadata": {},
   "outputs": [
    {
     "name": "stderr",
     "output_type": "stream",
     "text": [
      "/var/folders/ms/2ygwp03d4b5526gc0h51spqh0000gn/T/ipykernel_17714/998403258.py:1: FutureWarning: The default value of numeric_only in DataFrameGroupBy.sum is deprecated. In a future version, numeric_only will default to False. Either specify numeric_only or select only columns which should be valid for the function.\n",
      "  freq_ebird_birds = eBird_weekly_counts2.groupby('AVIBASEID').sum()['COUNTS']/38423.32\n"
     ]
    }
   ],
   "source": [
    "freq_ebird_birds = eBird_weekly_counts2.groupby('AVIBASEID').sum()['COUNTS']/38423.32"
   ]
  },
  {
   "cell_type": "code",
   "execution_count": 118,
   "metadata": {},
   "outputs": [
    {
     "data": {
      "text/plain": [
       "71565"
      ]
     },
     "execution_count": 118,
     "metadata": {},
     "output_type": "execute_result"
    }
   ],
   "source": [
    "iNat_weekly_counts2['COUNTS'].sum()"
   ]
  },
  {
   "cell_type": "code",
   "execution_count": 119,
   "metadata": {},
   "outputs": [
    {
     "name": "stderr",
     "output_type": "stream",
     "text": [
      "/var/folders/ms/2ygwp03d4b5526gc0h51spqh0000gn/T/ipykernel_17714/375797155.py:1: FutureWarning: The default value of numeric_only in DataFrameGroupBy.sum is deprecated. In a future version, numeric_only will default to False. Either specify numeric_only or select only columns which should be valid for the function.\n",
      "  freq_inat_birds = iNat_weekly_counts2.groupby('AVIBASEID').sum()['COUNTS']/715.65\n"
     ]
    }
   ],
   "source": [
    "freq_inat_birds = iNat_weekly_counts2.groupby('AVIBASEID').sum()['COUNTS']/715.65"
   ]
  },
  {
   "cell_type": "code",
   "execution_count": 120,
   "metadata": {},
   "outputs": [
    {
     "data": {
      "text/plain": [
       "AVIBASEID\n",
       "4AED44E8    0.000026\n",
       "A8C34DC9    0.000052\n",
       "56036504    0.000078\n",
       "D4540F88    0.000104\n",
       "1044B438    0.000104\n",
       "              ...   \n",
       "36B3872D    2.421889\n",
       "151C2B3F    2.544080\n",
       "89431E9F    2.557692\n",
       "42393721    2.736723\n",
       "B182DED2    2.874973\n",
       "Name: COUNTS, Length: 353, dtype: float64"
      ]
     },
     "execution_count": 120,
     "metadata": {},
     "output_type": "execute_result"
    }
   ],
   "source": [
    "freq_ebird_birds.sort_values()"
   ]
  },
  {
   "cell_type": "code",
   "execution_count": 121,
   "metadata": {},
   "outputs": [
    {
     "data": {
      "text/plain": [
       "'Black Phoebe'"
      ]
     },
     "execution_count": 121,
     "metadata": {},
     "output_type": "execute_result"
    }
   ],
   "source": [
    "name_avID_dict[\"B182DED2\"]"
   ]
  },
  {
   "cell_type": "code",
   "execution_count": 122,
   "metadata": {},
   "outputs": [],
   "source": [
    "a = freq_inat_birds.sort_values()[freq_inat_birds.sort_values() < 0.005].keys()"
   ]
  },
  {
   "cell_type": "code",
   "execution_count": 123,
   "metadata": {},
   "outputs": [],
   "source": [
    "b = freq_ebird_birds.sort_values()[freq_ebird_birds.sort_values() < 0.005].keys()"
   ]
  },
  {
   "cell_type": "code",
   "execution_count": 124,
   "metadata": {},
   "outputs": [],
   "source": [
    "remove_birds = set(list(a) + list(b))"
   ]
  },
  {
   "cell_type": "code",
   "execution_count": 125,
   "metadata": {},
   "outputs": [],
   "source": [
    "all_birds = set(eBird_curves_discrete.index)"
   ]
  },
  {
   "cell_type": "code",
   "execution_count": 126,
   "metadata": {},
   "outputs": [],
   "source": [
    "all_birds_min_meet =all_birds.difference(remove_birds)"
   ]
  },
  {
   "cell_type": "code",
   "execution_count": 127,
   "metadata": {},
   "outputs": [
    {
     "data": {
      "text/plain": [
       "(353, 76, 277)"
      ]
     },
     "execution_count": 127,
     "metadata": {},
     "output_type": "execute_result"
    }
   ],
   "source": [
    "len(all_birds), len(remove_birds), len(all_birds_min_meet)"
   ]
  },
  {
   "cell_type": "code",
   "execution_count": 128,
   "metadata": {},
   "outputs": [
    {
     "data": {
      "text/plain": [
       "['DA2F24E3',\n",
       " '295C4CD6',\n",
       " '031409C7',\n",
       " '07C11CF3',\n",
       " '62CA2AF8',\n",
       " 'E1714A09',\n",
       " 'A2BB98A9',\n",
       " '649F85B5',\n",
       " '79F3C681',\n",
       " '9690689D']"
      ]
     },
     "execution_count": 128,
     "metadata": {},
     "output_type": "execute_result"
    }
   ],
   "source": [
    "list(remove_birds)[0:10]"
   ]
  },
  {
   "cell_type": "code",
   "execution_count": 206,
   "metadata": {},
   "outputs": [],
   "source": [
    "eBird_curves_discrete2 = eBird_curves_discrete[eBird_curves_discrete.index.isin(all_birds_min_meet)].copy()"
   ]
  },
  {
   "cell_type": "code",
   "execution_count": 207,
   "metadata": {},
   "outputs": [],
   "source": [
    "iNat_curves_discrete2 = iNat_curves_discrete[iNat_curves_discrete.index.isin(all_birds_min_meet)].copy()"
   ]
  },
  {
   "cell_type": "code",
   "execution_count": 208,
   "metadata": {},
   "outputs": [
    {
     "data": {
      "text/html": [
       "<div>\n",
       "<style scoped>\n",
       "    .dataframe tbody tr th:only-of-type {\n",
       "        vertical-align: middle;\n",
       "    }\n",
       "\n",
       "    .dataframe tbody tr th {\n",
       "        vertical-align: top;\n",
       "    }\n",
       "\n",
       "    .dataframe thead th {\n",
       "        text-align: right;\n",
       "    }\n",
       "</style>\n",
       "<table border=\"1\" class=\"dataframe\">\n",
       "  <thead>\n",
       "    <tr style=\"text-align: right;\">\n",
       "      <th>WEEK</th>\n",
       "      <th>1</th>\n",
       "      <th>2</th>\n",
       "      <th>3</th>\n",
       "      <th>4</th>\n",
       "      <th>5</th>\n",
       "      <th>6</th>\n",
       "      <th>7</th>\n",
       "      <th>8</th>\n",
       "      <th>9</th>\n",
       "      <th>10</th>\n",
       "      <th>...</th>\n",
       "      <th>43</th>\n",
       "      <th>44</th>\n",
       "      <th>45</th>\n",
       "      <th>46</th>\n",
       "      <th>47</th>\n",
       "      <th>48</th>\n",
       "      <th>49</th>\n",
       "      <th>50</th>\n",
       "      <th>51</th>\n",
       "      <th>52</th>\n",
       "    </tr>\n",
       "    <tr>\n",
       "      <th>AVIBASEID</th>\n",
       "      <th></th>\n",
       "      <th></th>\n",
       "      <th></th>\n",
       "      <th></th>\n",
       "      <th></th>\n",
       "      <th></th>\n",
       "      <th></th>\n",
       "      <th></th>\n",
       "      <th></th>\n",
       "      <th></th>\n",
       "      <th></th>\n",
       "      <th></th>\n",
       "      <th></th>\n",
       "      <th></th>\n",
       "      <th></th>\n",
       "      <th></th>\n",
       "      <th></th>\n",
       "      <th></th>\n",
       "      <th></th>\n",
       "      <th></th>\n",
       "      <th></th>\n",
       "    </tr>\n",
       "  </thead>\n",
       "  <tbody>\n",
       "    <tr>\n",
       "      <th>000482C9</th>\n",
       "      <td>0.119048</td>\n",
       "      <td>0.040476</td>\n",
       "      <td>0.019048</td>\n",
       "      <td>0.014286</td>\n",
       "      <td>0.026190</td>\n",
       "      <td>0.007143</td>\n",
       "      <td>0.014286</td>\n",
       "      <td>0.009524</td>\n",
       "      <td>0.009524</td>\n",
       "      <td>0.014286</td>\n",
       "      <td>...</td>\n",
       "      <td>0.026190</td>\n",
       "      <td>0.033333</td>\n",
       "      <td>0.038095</td>\n",
       "      <td>0.040476</td>\n",
       "      <td>0.042857</td>\n",
       "      <td>0.021429</td>\n",
       "      <td>0.004762</td>\n",
       "      <td>0.021429</td>\n",
       "      <td>0.028571</td>\n",
       "      <td>0.042857</td>\n",
       "    </tr>\n",
       "    <tr>\n",
       "      <th>00124D98</th>\n",
       "      <td>0.022217</td>\n",
       "      <td>0.017285</td>\n",
       "      <td>0.012884</td>\n",
       "      <td>0.018823</td>\n",
       "      <td>0.015717</td>\n",
       "      <td>0.016278</td>\n",
       "      <td>0.016436</td>\n",
       "      <td>0.018622</td>\n",
       "      <td>0.015286</td>\n",
       "      <td>0.017831</td>\n",
       "      <td>...</td>\n",
       "      <td>0.010181</td>\n",
       "      <td>0.012554</td>\n",
       "      <td>0.012022</td>\n",
       "      <td>0.014452</td>\n",
       "      <td>0.013028</td>\n",
       "      <td>0.012022</td>\n",
       "      <td>0.012741</td>\n",
       "      <td>0.018349</td>\n",
       "      <td>0.015386</td>\n",
       "      <td>0.017026</td>\n",
       "    </tr>\n",
       "    <tr>\n",
       "      <th>00635FF9</th>\n",
       "      <td>0.014224</td>\n",
       "      <td>0.007715</td>\n",
       "      <td>0.009643</td>\n",
       "      <td>0.014706</td>\n",
       "      <td>0.005304</td>\n",
       "      <td>0.006750</td>\n",
       "      <td>0.009161</td>\n",
       "      <td>0.015670</td>\n",
       "      <td>0.003857</td>\n",
       "      <td>0.007473</td>\n",
       "      <td>...</td>\n",
       "      <td>0.013259</td>\n",
       "      <td>0.010849</td>\n",
       "      <td>0.017840</td>\n",
       "      <td>0.016876</td>\n",
       "      <td>0.013259</td>\n",
       "      <td>0.005786</td>\n",
       "      <td>0.005304</td>\n",
       "      <td>0.016152</td>\n",
       "      <td>0.007956</td>\n",
       "      <td>0.013259</td>\n",
       "    </tr>\n",
       "    <tr>\n",
       "      <th>01060BFD</th>\n",
       "      <td>0.021075</td>\n",
       "      <td>0.017118</td>\n",
       "      <td>0.009295</td>\n",
       "      <td>0.021535</td>\n",
       "      <td>0.008927</td>\n",
       "      <td>0.015093</td>\n",
       "      <td>0.011412</td>\n",
       "      <td>0.016934</td>\n",
       "      <td>0.008099</td>\n",
       "      <td>0.009111</td>\n",
       "      <td>...</td>\n",
       "      <td>0.014817</td>\n",
       "      <td>0.019418</td>\n",
       "      <td>0.022731</td>\n",
       "      <td>0.016013</td>\n",
       "      <td>0.017394</td>\n",
       "      <td>0.015553</td>\n",
       "      <td>0.014081</td>\n",
       "      <td>0.015829</td>\n",
       "      <td>0.009387</td>\n",
       "      <td>0.014265</td>\n",
       "    </tr>\n",
       "    <tr>\n",
       "      <th>018B3169</th>\n",
       "      <td>0.062974</td>\n",
       "      <td>0.057585</td>\n",
       "      <td>0.037885</td>\n",
       "      <td>0.063984</td>\n",
       "      <td>0.046304</td>\n",
       "      <td>0.040411</td>\n",
       "      <td>0.040579</td>\n",
       "      <td>0.059269</td>\n",
       "      <td>0.036707</td>\n",
       "      <td>0.028456</td>\n",
       "      <td>...</td>\n",
       "      <td>0.009092</td>\n",
       "      <td>0.027277</td>\n",
       "      <td>0.038727</td>\n",
       "      <td>0.031824</td>\n",
       "      <td>0.033002</td>\n",
       "      <td>0.034349</td>\n",
       "      <td>0.034012</td>\n",
       "      <td>0.049167</td>\n",
       "      <td>0.023741</td>\n",
       "      <td>0.041253</td>\n",
       "    </tr>\n",
       "    <tr>\n",
       "      <th>...</th>\n",
       "      <td>...</td>\n",
       "      <td>...</td>\n",
       "      <td>...</td>\n",
       "      <td>...</td>\n",
       "      <td>...</td>\n",
       "      <td>...</td>\n",
       "      <td>...</td>\n",
       "      <td>...</td>\n",
       "      <td>...</td>\n",
       "      <td>...</td>\n",
       "      <td>...</td>\n",
       "      <td>...</td>\n",
       "      <td>...</td>\n",
       "      <td>...</td>\n",
       "      <td>...</td>\n",
       "      <td>...</td>\n",
       "      <td>...</td>\n",
       "      <td>...</td>\n",
       "      <td>...</td>\n",
       "      <td>...</td>\n",
       "      <td>...</td>\n",
       "    </tr>\n",
       "    <tr>\n",
       "      <th>FC366114</th>\n",
       "      <td>0.041123</td>\n",
       "      <td>0.026198</td>\n",
       "      <td>0.021083</td>\n",
       "      <td>0.032773</td>\n",
       "      <td>0.021188</td>\n",
       "      <td>0.022231</td>\n",
       "      <td>0.020770</td>\n",
       "      <td>0.029746</td>\n",
       "      <td>0.019100</td>\n",
       "      <td>0.023797</td>\n",
       "      <td>...</td>\n",
       "      <td>0.016282</td>\n",
       "      <td>0.015134</td>\n",
       "      <td>0.019309</td>\n",
       "      <td>0.020248</td>\n",
       "      <td>0.018474</td>\n",
       "      <td>0.010437</td>\n",
       "      <td>0.014925</td>\n",
       "      <td>0.034548</td>\n",
       "      <td>0.023484</td>\n",
       "      <td>0.020562</td>\n",
       "    </tr>\n",
       "    <tr>\n",
       "      <th>FD2B0309</th>\n",
       "      <td>0.027732</td>\n",
       "      <td>0.018818</td>\n",
       "      <td>0.016177</td>\n",
       "      <td>0.027567</td>\n",
       "      <td>0.008254</td>\n",
       "      <td>0.007098</td>\n",
       "      <td>0.008749</td>\n",
       "      <td>0.018323</td>\n",
       "      <td>0.003136</td>\n",
       "      <td>0.013701</td>\n",
       "      <td>...</td>\n",
       "      <td>0.013866</td>\n",
       "      <td>0.018983</td>\n",
       "      <td>0.016507</td>\n",
       "      <td>0.022945</td>\n",
       "      <td>0.023440</td>\n",
       "      <td>0.016177</td>\n",
       "      <td>0.008088</td>\n",
       "      <td>0.008584</td>\n",
       "      <td>0.015517</td>\n",
       "      <td>0.014526</td>\n",
       "    </tr>\n",
       "    <tr>\n",
       "      <th>FED3756C</th>\n",
       "      <td>0.045327</td>\n",
       "      <td>0.034529</td>\n",
       "      <td>0.028118</td>\n",
       "      <td>0.050163</td>\n",
       "      <td>0.017321</td>\n",
       "      <td>0.025644</td>\n",
       "      <td>0.023394</td>\n",
       "      <td>0.028681</td>\n",
       "      <td>0.020020</td>\n",
       "      <td>0.016871</td>\n",
       "      <td>...</td>\n",
       "      <td>0.013159</td>\n",
       "      <td>0.014059</td>\n",
       "      <td>0.014509</td>\n",
       "      <td>0.023282</td>\n",
       "      <td>0.035429</td>\n",
       "      <td>0.022720</td>\n",
       "      <td>0.016309</td>\n",
       "      <td>0.037454</td>\n",
       "      <td>0.027443</td>\n",
       "      <td>0.032167</td>\n",
       "    </tr>\n",
       "    <tr>\n",
       "      <th>FF592882</th>\n",
       "      <td>0.023050</td>\n",
       "      <td>0.018095</td>\n",
       "      <td>0.012938</td>\n",
       "      <td>0.018866</td>\n",
       "      <td>0.014223</td>\n",
       "      <td>0.014645</td>\n",
       "      <td>0.015966</td>\n",
       "      <td>0.020885</td>\n",
       "      <td>0.014388</td>\n",
       "      <td>0.014388</td>\n",
       "      <td>...</td>\n",
       "      <td>0.016884</td>\n",
       "      <td>0.020279</td>\n",
       "      <td>0.019251</td>\n",
       "      <td>0.022114</td>\n",
       "      <td>0.017361</td>\n",
       "      <td>0.015452</td>\n",
       "      <td>0.013525</td>\n",
       "      <td>0.025968</td>\n",
       "      <td>0.014388</td>\n",
       "      <td>0.019967</td>\n",
       "    </tr>\n",
       "    <tr>\n",
       "      <th>FFF61080</th>\n",
       "      <td>0.013699</td>\n",
       "      <td>0.010236</td>\n",
       "      <td>0.005469</td>\n",
       "      <td>0.008480</td>\n",
       "      <td>0.006624</td>\n",
       "      <td>0.004867</td>\n",
       "      <td>0.004265</td>\n",
       "      <td>0.011441</td>\n",
       "      <td>0.006322</td>\n",
       "      <td>0.009132</td>\n",
       "      <td>...</td>\n",
       "      <td>0.006975</td>\n",
       "      <td>0.008229</td>\n",
       "      <td>0.008530</td>\n",
       "      <td>0.008580</td>\n",
       "      <td>0.012344</td>\n",
       "      <td>0.006774</td>\n",
       "      <td>0.007075</td>\n",
       "      <td>0.011390</td>\n",
       "      <td>0.009183</td>\n",
       "      <td>0.011441</td>\n",
       "    </tr>\n",
       "  </tbody>\n",
       "</table>\n",
       "<p>277 rows × 52 columns</p>\n",
       "</div>"
      ],
      "text/plain": [
       "WEEK             1         2         3         4         5         6   \\\n",
       "AVIBASEID                                                               \n",
       "000482C9   0.119048  0.040476  0.019048  0.014286  0.026190  0.007143   \n",
       "00124D98   0.022217  0.017285  0.012884  0.018823  0.015717  0.016278   \n",
       "00635FF9   0.014224  0.007715  0.009643  0.014706  0.005304  0.006750   \n",
       "01060BFD   0.021075  0.017118  0.009295  0.021535  0.008927  0.015093   \n",
       "018B3169   0.062974  0.057585  0.037885  0.063984  0.046304  0.040411   \n",
       "...             ...       ...       ...       ...       ...       ...   \n",
       "FC366114   0.041123  0.026198  0.021083  0.032773  0.021188  0.022231   \n",
       "FD2B0309   0.027732  0.018818  0.016177  0.027567  0.008254  0.007098   \n",
       "FED3756C   0.045327  0.034529  0.028118  0.050163  0.017321  0.025644   \n",
       "FF592882   0.023050  0.018095  0.012938  0.018866  0.014223  0.014645   \n",
       "FFF61080   0.013699  0.010236  0.005469  0.008480  0.006624  0.004867   \n",
       "\n",
       "WEEK             7         8         9         10  ...        43        44  \\\n",
       "AVIBASEID                                          ...                       \n",
       "000482C9   0.014286  0.009524  0.009524  0.014286  ...  0.026190  0.033333   \n",
       "00124D98   0.016436  0.018622  0.015286  0.017831  ...  0.010181  0.012554   \n",
       "00635FF9   0.009161  0.015670  0.003857  0.007473  ...  0.013259  0.010849   \n",
       "01060BFD   0.011412  0.016934  0.008099  0.009111  ...  0.014817  0.019418   \n",
       "018B3169   0.040579  0.059269  0.036707  0.028456  ...  0.009092  0.027277   \n",
       "...             ...       ...       ...       ...  ...       ...       ...   \n",
       "FC366114   0.020770  0.029746  0.019100  0.023797  ...  0.016282  0.015134   \n",
       "FD2B0309   0.008749  0.018323  0.003136  0.013701  ...  0.013866  0.018983   \n",
       "FED3756C   0.023394  0.028681  0.020020  0.016871  ...  0.013159  0.014059   \n",
       "FF592882   0.015966  0.020885  0.014388  0.014388  ...  0.016884  0.020279   \n",
       "FFF61080   0.004265  0.011441  0.006322  0.009132  ...  0.006975  0.008229   \n",
       "\n",
       "WEEK             45        46        47        48        49        50  \\\n",
       "AVIBASEID                                                               \n",
       "000482C9   0.038095  0.040476  0.042857  0.021429  0.004762  0.021429   \n",
       "00124D98   0.012022  0.014452  0.013028  0.012022  0.012741  0.018349   \n",
       "00635FF9   0.017840  0.016876  0.013259  0.005786  0.005304  0.016152   \n",
       "01060BFD   0.022731  0.016013  0.017394  0.015553  0.014081  0.015829   \n",
       "018B3169   0.038727  0.031824  0.033002  0.034349  0.034012  0.049167   \n",
       "...             ...       ...       ...       ...       ...       ...   \n",
       "FC366114   0.019309  0.020248  0.018474  0.010437  0.014925  0.034548   \n",
       "FD2B0309   0.016507  0.022945  0.023440  0.016177  0.008088  0.008584   \n",
       "FED3756C   0.014509  0.023282  0.035429  0.022720  0.016309  0.037454   \n",
       "FF592882   0.019251  0.022114  0.017361  0.015452  0.013525  0.025968   \n",
       "FFF61080   0.008530  0.008580  0.012344  0.006774  0.007075  0.011390   \n",
       "\n",
       "WEEK             51        52  \n",
       "AVIBASEID                      \n",
       "000482C9   0.028571  0.042857  \n",
       "00124D98   0.015386  0.017026  \n",
       "00635FF9   0.007956  0.013259  \n",
       "01060BFD   0.009387  0.014265  \n",
       "018B3169   0.023741  0.041253  \n",
       "...             ...       ...  \n",
       "FC366114   0.023484  0.020562  \n",
       "FD2B0309   0.015517  0.014526  \n",
       "FED3756C   0.027443  0.032167  \n",
       "FF592882   0.014388  0.019967  \n",
       "FFF61080   0.009183  0.011441  \n",
       "\n",
       "[277 rows x 52 columns]"
      ]
     },
     "execution_count": 208,
     "metadata": {},
     "output_type": "execute_result"
    }
   ],
   "source": [
    "eBird_curves_discrete2"
   ]
  },
  {
   "cell_type": "code",
   "execution_count": 209,
   "metadata": {},
   "outputs": [
    {
     "data": {
      "text/html": [
       "<div>\n",
       "<style scoped>\n",
       "    .dataframe tbody tr th:only-of-type {\n",
       "        vertical-align: middle;\n",
       "    }\n",
       "\n",
       "    .dataframe tbody tr th {\n",
       "        vertical-align: top;\n",
       "    }\n",
       "\n",
       "    .dataframe thead th {\n",
       "        text-align: right;\n",
       "    }\n",
       "</style>\n",
       "<table border=\"1\" class=\"dataframe\">\n",
       "  <thead>\n",
       "    <tr style=\"text-align: right;\">\n",
       "      <th>WEEK</th>\n",
       "      <th>1</th>\n",
       "      <th>2</th>\n",
       "      <th>3</th>\n",
       "      <th>4</th>\n",
       "      <th>5</th>\n",
       "      <th>6</th>\n",
       "      <th>7</th>\n",
       "      <th>8</th>\n",
       "      <th>9</th>\n",
       "      <th>10</th>\n",
       "      <th>...</th>\n",
       "      <th>43</th>\n",
       "      <th>44</th>\n",
       "      <th>45</th>\n",
       "      <th>46</th>\n",
       "      <th>47</th>\n",
       "      <th>48</th>\n",
       "      <th>49</th>\n",
       "      <th>50</th>\n",
       "      <th>51</th>\n",
       "      <th>52</th>\n",
       "    </tr>\n",
       "    <tr>\n",
       "      <th>AVIBASEID</th>\n",
       "      <th></th>\n",
       "      <th></th>\n",
       "      <th></th>\n",
       "      <th></th>\n",
       "      <th></th>\n",
       "      <th></th>\n",
       "      <th></th>\n",
       "      <th></th>\n",
       "      <th></th>\n",
       "      <th></th>\n",
       "      <th></th>\n",
       "      <th></th>\n",
       "      <th></th>\n",
       "      <th></th>\n",
       "      <th></th>\n",
       "      <th></th>\n",
       "      <th></th>\n",
       "      <th></th>\n",
       "      <th></th>\n",
       "      <th></th>\n",
       "      <th></th>\n",
       "    </tr>\n",
       "  </thead>\n",
       "  <tbody>\n",
       "    <tr>\n",
       "      <th>000482C9</th>\n",
       "      <td>0.125000</td>\n",
       "      <td>0.250000</td>\n",
       "      <td>0.000000</td>\n",
       "      <td>0.000000</td>\n",
       "      <td>0.000000</td>\n",
       "      <td>0.000000</td>\n",
       "      <td>0.000000</td>\n",
       "      <td>0.000000</td>\n",
       "      <td>0.125000</td>\n",
       "      <td>0.000000</td>\n",
       "      <td>...</td>\n",
       "      <td>0.125000</td>\n",
       "      <td>0.000000</td>\n",
       "      <td>0.000000</td>\n",
       "      <td>0.000000</td>\n",
       "      <td>0.000000</td>\n",
       "      <td>0.000000</td>\n",
       "      <td>0.000000</td>\n",
       "      <td>0.000000</td>\n",
       "      <td>0.000000</td>\n",
       "      <td>0.000000</td>\n",
       "    </tr>\n",
       "    <tr>\n",
       "      <th>00124D98</th>\n",
       "      <td>0.011551</td>\n",
       "      <td>0.014851</td>\n",
       "      <td>0.004950</td>\n",
       "      <td>0.021452</td>\n",
       "      <td>0.013201</td>\n",
       "      <td>0.003300</td>\n",
       "      <td>0.004950</td>\n",
       "      <td>0.013201</td>\n",
       "      <td>0.009901</td>\n",
       "      <td>0.014851</td>\n",
       "      <td>...</td>\n",
       "      <td>0.011551</td>\n",
       "      <td>0.011551</td>\n",
       "      <td>0.006601</td>\n",
       "      <td>0.019802</td>\n",
       "      <td>0.004950</td>\n",
       "      <td>0.014851</td>\n",
       "      <td>0.009901</td>\n",
       "      <td>0.008251</td>\n",
       "      <td>0.018152</td>\n",
       "      <td>0.006601</td>\n",
       "    </tr>\n",
       "    <tr>\n",
       "      <th>00635FF9</th>\n",
       "      <td>0.010204</td>\n",
       "      <td>0.000000</td>\n",
       "      <td>0.010204</td>\n",
       "      <td>0.010204</td>\n",
       "      <td>0.020408</td>\n",
       "      <td>0.010204</td>\n",
       "      <td>0.020408</td>\n",
       "      <td>0.000000</td>\n",
       "      <td>0.000000</td>\n",
       "      <td>0.020408</td>\n",
       "      <td>...</td>\n",
       "      <td>0.030612</td>\n",
       "      <td>0.020408</td>\n",
       "      <td>0.051020</td>\n",
       "      <td>0.010204</td>\n",
       "      <td>0.000000</td>\n",
       "      <td>0.030612</td>\n",
       "      <td>0.000000</td>\n",
       "      <td>0.020408</td>\n",
       "      <td>0.000000</td>\n",
       "      <td>0.010204</td>\n",
       "    </tr>\n",
       "    <tr>\n",
       "      <th>01060BFD</th>\n",
       "      <td>0.019900</td>\n",
       "      <td>0.029851</td>\n",
       "      <td>0.000000</td>\n",
       "      <td>0.029851</td>\n",
       "      <td>0.000000</td>\n",
       "      <td>0.004975</td>\n",
       "      <td>0.024876</td>\n",
       "      <td>0.014925</td>\n",
       "      <td>0.000000</td>\n",
       "      <td>0.004975</td>\n",
       "      <td>...</td>\n",
       "      <td>0.004975</td>\n",
       "      <td>0.014925</td>\n",
       "      <td>0.054726</td>\n",
       "      <td>0.004975</td>\n",
       "      <td>0.029851</td>\n",
       "      <td>0.014925</td>\n",
       "      <td>0.000000</td>\n",
       "      <td>0.019900</td>\n",
       "      <td>0.000000</td>\n",
       "      <td>0.009950</td>\n",
       "    </tr>\n",
       "    <tr>\n",
       "      <th>018B3169</th>\n",
       "      <td>0.049587</td>\n",
       "      <td>0.049587</td>\n",
       "      <td>0.016529</td>\n",
       "      <td>0.074380</td>\n",
       "      <td>0.024793</td>\n",
       "      <td>0.024793</td>\n",
       "      <td>0.000000</td>\n",
       "      <td>0.057851</td>\n",
       "      <td>0.000000</td>\n",
       "      <td>0.033058</td>\n",
       "      <td>...</td>\n",
       "      <td>0.008264</td>\n",
       "      <td>0.016529</td>\n",
       "      <td>0.049587</td>\n",
       "      <td>0.041322</td>\n",
       "      <td>0.008264</td>\n",
       "      <td>0.024793</td>\n",
       "      <td>0.016529</td>\n",
       "      <td>0.049587</td>\n",
       "      <td>0.057851</td>\n",
       "      <td>0.057851</td>\n",
       "    </tr>\n",
       "    <tr>\n",
       "      <th>...</th>\n",
       "      <td>...</td>\n",
       "      <td>...</td>\n",
       "      <td>...</td>\n",
       "      <td>...</td>\n",
       "      <td>...</td>\n",
       "      <td>...</td>\n",
       "      <td>...</td>\n",
       "      <td>...</td>\n",
       "      <td>...</td>\n",
       "      <td>...</td>\n",
       "      <td>...</td>\n",
       "      <td>...</td>\n",
       "      <td>...</td>\n",
       "      <td>...</td>\n",
       "      <td>...</td>\n",
       "      <td>...</td>\n",
       "      <td>...</td>\n",
       "      <td>...</td>\n",
       "      <td>...</td>\n",
       "      <td>...</td>\n",
       "      <td>...</td>\n",
       "    </tr>\n",
       "    <tr>\n",
       "      <th>FC366114</th>\n",
       "      <td>0.014205</td>\n",
       "      <td>0.008523</td>\n",
       "      <td>0.008523</td>\n",
       "      <td>0.036932</td>\n",
       "      <td>0.028409</td>\n",
       "      <td>0.017045</td>\n",
       "      <td>0.011364</td>\n",
       "      <td>0.019886</td>\n",
       "      <td>0.011364</td>\n",
       "      <td>0.022727</td>\n",
       "      <td>...</td>\n",
       "      <td>0.008523</td>\n",
       "      <td>0.017045</td>\n",
       "      <td>0.008523</td>\n",
       "      <td>0.031250</td>\n",
       "      <td>0.017045</td>\n",
       "      <td>0.005682</td>\n",
       "      <td>0.005682</td>\n",
       "      <td>0.014205</td>\n",
       "      <td>0.019886</td>\n",
       "      <td>0.005682</td>\n",
       "    </tr>\n",
       "    <tr>\n",
       "      <th>FD2B0309</th>\n",
       "      <td>0.000000</td>\n",
       "      <td>0.025105</td>\n",
       "      <td>0.033473</td>\n",
       "      <td>0.033473</td>\n",
       "      <td>0.008368</td>\n",
       "      <td>0.012552</td>\n",
       "      <td>0.000000</td>\n",
       "      <td>0.016736</td>\n",
       "      <td>0.000000</td>\n",
       "      <td>0.008368</td>\n",
       "      <td>...</td>\n",
       "      <td>0.037657</td>\n",
       "      <td>0.016736</td>\n",
       "      <td>0.004184</td>\n",
       "      <td>0.020921</td>\n",
       "      <td>0.016736</td>\n",
       "      <td>0.025105</td>\n",
       "      <td>0.004184</td>\n",
       "      <td>0.008368</td>\n",
       "      <td>0.029289</td>\n",
       "      <td>0.008368</td>\n",
       "    </tr>\n",
       "    <tr>\n",
       "      <th>FED3756C</th>\n",
       "      <td>0.021739</td>\n",
       "      <td>0.039855</td>\n",
       "      <td>0.014493</td>\n",
       "      <td>0.057971</td>\n",
       "      <td>0.021739</td>\n",
       "      <td>0.010870</td>\n",
       "      <td>0.039855</td>\n",
       "      <td>0.028986</td>\n",
       "      <td>0.010870</td>\n",
       "      <td>0.014493</td>\n",
       "      <td>...</td>\n",
       "      <td>0.021739</td>\n",
       "      <td>0.003623</td>\n",
       "      <td>0.025362</td>\n",
       "      <td>0.025362</td>\n",
       "      <td>0.014493</td>\n",
       "      <td>0.010870</td>\n",
       "      <td>0.010870</td>\n",
       "      <td>0.025362</td>\n",
       "      <td>0.014493</td>\n",
       "      <td>0.043478</td>\n",
       "    </tr>\n",
       "    <tr>\n",
       "      <th>FF592882</th>\n",
       "      <td>0.012195</td>\n",
       "      <td>0.012195</td>\n",
       "      <td>0.006969</td>\n",
       "      <td>0.013937</td>\n",
       "      <td>0.010453</td>\n",
       "      <td>0.010453</td>\n",
       "      <td>0.012195</td>\n",
       "      <td>0.026132</td>\n",
       "      <td>0.024390</td>\n",
       "      <td>0.013937</td>\n",
       "      <td>...</td>\n",
       "      <td>0.019164</td>\n",
       "      <td>0.027875</td>\n",
       "      <td>0.008711</td>\n",
       "      <td>0.012195</td>\n",
       "      <td>0.006969</td>\n",
       "      <td>0.012195</td>\n",
       "      <td>0.017422</td>\n",
       "      <td>0.020906</td>\n",
       "      <td>0.012195</td>\n",
       "      <td>0.015679</td>\n",
       "    </tr>\n",
       "    <tr>\n",
       "      <th>FFF61080</th>\n",
       "      <td>0.015707</td>\n",
       "      <td>0.010471</td>\n",
       "      <td>0.015707</td>\n",
       "      <td>0.005236</td>\n",
       "      <td>0.005236</td>\n",
       "      <td>0.026178</td>\n",
       "      <td>0.005236</td>\n",
       "      <td>0.015707</td>\n",
       "      <td>0.010471</td>\n",
       "      <td>0.015707</td>\n",
       "      <td>...</td>\n",
       "      <td>0.005236</td>\n",
       "      <td>0.010471</td>\n",
       "      <td>0.010471</td>\n",
       "      <td>0.010471</td>\n",
       "      <td>0.005236</td>\n",
       "      <td>0.005236</td>\n",
       "      <td>0.010471</td>\n",
       "      <td>0.020942</td>\n",
       "      <td>0.005236</td>\n",
       "      <td>0.020942</td>\n",
       "    </tr>\n",
       "  </tbody>\n",
       "</table>\n",
       "<p>277 rows × 52 columns</p>\n",
       "</div>"
      ],
      "text/plain": [
       "WEEK             1         2         3         4         5         6   \\\n",
       "AVIBASEID                                                               \n",
       "000482C9   0.125000  0.250000  0.000000  0.000000  0.000000  0.000000   \n",
       "00124D98   0.011551  0.014851  0.004950  0.021452  0.013201  0.003300   \n",
       "00635FF9   0.010204  0.000000  0.010204  0.010204  0.020408  0.010204   \n",
       "01060BFD   0.019900  0.029851  0.000000  0.029851  0.000000  0.004975   \n",
       "018B3169   0.049587  0.049587  0.016529  0.074380  0.024793  0.024793   \n",
       "...             ...       ...       ...       ...       ...       ...   \n",
       "FC366114   0.014205  0.008523  0.008523  0.036932  0.028409  0.017045   \n",
       "FD2B0309   0.000000  0.025105  0.033473  0.033473  0.008368  0.012552   \n",
       "FED3756C   0.021739  0.039855  0.014493  0.057971  0.021739  0.010870   \n",
       "FF592882   0.012195  0.012195  0.006969  0.013937  0.010453  0.010453   \n",
       "FFF61080   0.015707  0.010471  0.015707  0.005236  0.005236  0.026178   \n",
       "\n",
       "WEEK             7         8         9         10  ...        43        44  \\\n",
       "AVIBASEID                                          ...                       \n",
       "000482C9   0.000000  0.000000  0.125000  0.000000  ...  0.125000  0.000000   \n",
       "00124D98   0.004950  0.013201  0.009901  0.014851  ...  0.011551  0.011551   \n",
       "00635FF9   0.020408  0.000000  0.000000  0.020408  ...  0.030612  0.020408   \n",
       "01060BFD   0.024876  0.014925  0.000000  0.004975  ...  0.004975  0.014925   \n",
       "018B3169   0.000000  0.057851  0.000000  0.033058  ...  0.008264  0.016529   \n",
       "...             ...       ...       ...       ...  ...       ...       ...   \n",
       "FC366114   0.011364  0.019886  0.011364  0.022727  ...  0.008523  0.017045   \n",
       "FD2B0309   0.000000  0.016736  0.000000  0.008368  ...  0.037657  0.016736   \n",
       "FED3756C   0.039855  0.028986  0.010870  0.014493  ...  0.021739  0.003623   \n",
       "FF592882   0.012195  0.026132  0.024390  0.013937  ...  0.019164  0.027875   \n",
       "FFF61080   0.005236  0.015707  0.010471  0.015707  ...  0.005236  0.010471   \n",
       "\n",
       "WEEK             45        46        47        48        49        50  \\\n",
       "AVIBASEID                                                               \n",
       "000482C9   0.000000  0.000000  0.000000  0.000000  0.000000  0.000000   \n",
       "00124D98   0.006601  0.019802  0.004950  0.014851  0.009901  0.008251   \n",
       "00635FF9   0.051020  0.010204  0.000000  0.030612  0.000000  0.020408   \n",
       "01060BFD   0.054726  0.004975  0.029851  0.014925  0.000000  0.019900   \n",
       "018B3169   0.049587  0.041322  0.008264  0.024793  0.016529  0.049587   \n",
       "...             ...       ...       ...       ...       ...       ...   \n",
       "FC366114   0.008523  0.031250  0.017045  0.005682  0.005682  0.014205   \n",
       "FD2B0309   0.004184  0.020921  0.016736  0.025105  0.004184  0.008368   \n",
       "FED3756C   0.025362  0.025362  0.014493  0.010870  0.010870  0.025362   \n",
       "FF592882   0.008711  0.012195  0.006969  0.012195  0.017422  0.020906   \n",
       "FFF61080   0.010471  0.010471  0.005236  0.005236  0.010471  0.020942   \n",
       "\n",
       "WEEK             51        52  \n",
       "AVIBASEID                      \n",
       "000482C9   0.000000  0.000000  \n",
       "00124D98   0.018152  0.006601  \n",
       "00635FF9   0.000000  0.010204  \n",
       "01060BFD   0.000000  0.009950  \n",
       "018B3169   0.057851  0.057851  \n",
       "...             ...       ...  \n",
       "FC366114   0.019886  0.005682  \n",
       "FD2B0309   0.029289  0.008368  \n",
       "FED3756C   0.014493  0.043478  \n",
       "FF592882   0.012195  0.015679  \n",
       "FFF61080   0.005236  0.020942  \n",
       "\n",
       "[277 rows x 52 columns]"
      ]
     },
     "execution_count": 209,
     "metadata": {},
     "output_type": "execute_result"
    }
   ],
   "source": [
    "iNat_curves_discrete2"
   ]
  },
  {
   "cell_type": "code",
   "execution_count": 210,
   "metadata": {},
   "outputs": [],
   "source": [
    "eBird_curves_discrete2_val = eBird_curves_discrete2.values\n",
    "iNat_curves_discrete2_val = iNat_curves_discrete2.values"
   ]
  },
  {
   "cell_type": "code",
   "execution_count": 212,
   "metadata": {},
   "outputs": [
    {
     "data": {
      "text/plain": [
       "(277, 52)"
      ]
     },
     "execution_count": 212,
     "metadata": {},
     "output_type": "execute_result"
    }
   ],
   "source": [
    "eBird_curves_discrete2_val.shape"
   ]
  },
  {
   "cell_type": "code",
   "execution_count": 213,
   "metadata": {},
   "outputs": [],
   "source": [
    "iNat_curves_discrete2_val_smoothed = iNat_curves_discrete2_val.copy()"
   ]
  },
  {
   "cell_type": "code",
   "execution_count": 214,
   "metadata": {},
   "outputs": [],
   "source": [
    "for rn in range(277):\n",
    "    iNat_curves_discrete2_val_smoothed[rn, 16:18] = \\\n",
    "        np.mean(iNat_curves_discrete2_val_smoothed[rn, 13:21])\n"
   ]
  },
  {
   "cell_type": "code",
   "execution_count": 217,
   "metadata": {},
   "outputs": [],
   "source": [
    "avg_iNat_curve = np.mean(iNat_curves_discrete2_val_smoothed, axis=0)"
   ]
  },
  {
   "cell_type": "code",
   "execution_count": 218,
   "metadata": {},
   "outputs": [
    {
     "data": {
      "text/plain": [
       "(52,)"
      ]
     },
     "execution_count": 218,
     "metadata": {},
     "output_type": "execute_result"
    }
   ],
   "source": [
    "avg_iNat_curve.shape"
   ]
  },
  {
   "cell_type": "code",
   "execution_count": 219,
   "metadata": {},
   "outputs": [],
   "source": [
    "avg_eBird_curve = np.mean(eBird_curves_discrete2_val, axis=0)"
   ]
  },
  {
   "cell_type": "code",
   "execution_count": 220,
   "metadata": {},
   "outputs": [
    {
     "data": {
      "text/plain": [
       "(52,)"
      ]
     },
     "execution_count": 220,
     "metadata": {},
     "output_type": "execute_result"
    }
   ],
   "source": [
    "avg_eBird_curve.shape"
   ]
  },
  {
   "cell_type": "code",
   "execution_count": 221,
   "metadata": {},
   "outputs": [
    {
     "data": {
      "text/plain": [
       "<matplotlib.legend.Legend at 0x7fa56dc82410>"
      ]
     },
     "execution_count": 221,
     "metadata": {},
     "output_type": "execute_result"
    },
    {
     "data": {
      "image/png": "[encoded data removed]",
      "text/plain": [
       "<Figure size 640x480 with 1 Axes>"
      ]
     },
     "metadata": {},
     "output_type": "display_data"
    }
   ],
   "source": [
    "plt.plot(avg_iNat_curve, label='iNat_data_avg')\n",
    "plt.plot(avg_eBird_curve, label='eBird_data_avg')\n",
    "plt.legend()"
   ]
  },
  {
   "cell_type": "code",
   "execution_count": 228,
   "metadata": {},
   "outputs": [],
   "source": [
    "avg_iNat_curve = avg_iNat_curve*(1/0.9792)"
   ]
  },
  {
   "cell_type": "code",
   "execution_count": 229,
   "metadata": {},
   "outputs": [
    {
     "data": {
      "text/plain": [
       "1.000067843841919"
      ]
     },
     "execution_count": 229,
     "metadata": {},
     "output_type": "execute_result"
    }
   ],
   "source": [
    "sum(avg_iNat_curve)"
   ]
  },
  {
   "cell_type": "code",
   "execution_count": 230,
   "metadata": {},
   "outputs": [
    {
     "data": {
      "text/plain": [
       "0.9999999999999999"
      ]
     },
     "execution_count": 230,
     "metadata": {},
     "output_type": "execute_result"
    }
   ],
   "source": [
    "sum(avg_eBird_curve)"
   ]
  },
  {
   "cell_type": "code",
   "execution_count": 327,
   "metadata": {},
   "outputs": [
    {
     "data": {
      "text/plain": [
       "<matplotlib.legend.Legend at 0x7fa497368580>"
      ]
     },
     "execution_count": 327,
     "metadata": {},
     "output_type": "execute_result"
    },
    {
     "data": {
      "image/png": "[encoded data removed]",
      "text/plain": [
       "<Figure size 640x480 with 1 Axes>"
      ]
     },
     "metadata": {},
     "output_type": "display_data"
    }
   ],
   "source": [
    "plt.ylim((0,0.03))\n",
    "plt.plot(function_smoothing(avg_iNat_curve, sigma=0.1), label='iNat_data_avg')\n",
    "plt.plot(function_smoothing(avg_eBird_curve, sigma=0.1), label='eBird_data_avg')\n",
    "plt.legend()"
   ]
  },
  {
   "cell_type": "code",
   "execution_count": 235,
   "metadata": {},
   "outputs": [],
   "source": [
    "from scipy.special import kl_div"
   ]
  },
  {
   "cell_type": "code",
   "execution_count": 328,
   "metadata": {},
   "outputs": [
    {
     "data": {
      "text/plain": [
       "0.017811905009289666"
      ]
     },
     "execution_count": 328,
     "metadata": {},
     "output_type": "execute_result"
    }
   ],
   "source": [
    "(kl_div(avg_iNat_curve, avg_eBird_curve)).sum()"
   ]
  },
  {
   "cell_type": "code",
   "execution_count": 249,
   "metadata": {},
   "outputs": [],
   "source": [
    "numbering_birds = list(eBird_curves_discrete2.index)"
   ]
  },
  {
   "cell_type": "code",
   "execution_count": 250,
   "metadata": {},
   "outputs": [
    {
     "data": {
      "text/plain": [
       "276"
      ]
     },
     "execution_count": 250,
     "metadata": {},
     "output_type": "execute_result"
    }
   ],
   "source": [
    "numbering_birds.index(\"FFF61080\")"
   ]
  },
  {
   "cell_type": "code",
   "execution_count": 253,
   "metadata": {},
   "outputs": [],
   "source": [
    "def rm_make_discrete_curves(x):\n",
    "    aviID = x\n",
    "    plt.ylim((0,0.1))\n",
    "    idx = numbering_birds.index(aviID)\n",
    "    plt.plot(iNat_curves_discrete2_val_smoothed[idx, :], label='iNat_data')\n",
    "    plt.plot(eBird_curves_discrete2_val[idx, :], label='eBird_data')\n",
    "    plt.legend()\n",
    "    plt.title(f\"Observation Curves for the bird: {name_avID_dict[aviID]}\")"
   ]
  },
  {
   "cell_type": "code",
   "execution_count": 254,
   "metadata": {},
   "outputs": [
    {
     "data": {
      "image/png": "[encoded data removed]",
      "text/plain": [
       "<Figure size 640x480 with 1 Axes>"
      ]
     },
     "metadata": {},
     "output_type": "display_data"
    }
   ],
   "source": [
    "rm_make_discrete_curves(\"FFF61080\")"
   ]
  },
  {
   "cell_type": "code",
   "execution_count": 278,
   "metadata": {},
   "outputs": [],
   "source": [
    "def rm_make_smooth_curves(x, sigma=(3,3)):\n",
    "    aviID = x\n",
    "    plt.ylim((0,0.1))\n",
    "    idx = numbering_birds.index(aviID)\n",
    "    y1_smoothed = function_smoothing(\n",
    "        iNat_curves_discrete2_val_smoothed[idx, :],\n",
    "        sigma=sigma[0]\n",
    "    )\n",
    "    y2_smoothed = function_smoothing(\n",
    "        eBird_curves_discrete2_val[idx, :],\n",
    "        sigma=sigma[1]\n",
    "    )\n",
    "    plt.plot(y1_smoothed, label='iNat_data')\n",
    "    plt.plot(y2_smoothed, label='eBird_data')\n",
    "    plt.legend()\n",
    "    plt.title(f\"Observation Curves for the bird: {name_avID_dict[x]}\")"
   ]
  },
  {
   "cell_type": "code",
   "execution_count": 279,
   "metadata": {},
   "outputs": [
    {
     "data": {
      "image/png": "[encoded data removed]",
      "text/plain": [
       "<Figure size 640x480 with 1 Axes>"
      ]
     },
     "metadata": {},
     "output_type": "display_data"
    }
   ],
   "source": [
    "rm_make_smooth_curves(\"FFF61080\")"
   ]
  },
  {
   "cell_type": "code",
   "execution_count": 260,
   "metadata": {},
   "outputs": [],
   "source": [
    "kl_div_birds_discrete = [ np.mean(kl_div(iNat_curves_discrete2_val_smoothed[i, :], eBird_curves_discrete2_val[i,:])) for i in range(277)]"
   ]
  },
  {
   "cell_type": "code",
   "execution_count": 261,
   "metadata": {},
   "outputs": [
    {
     "data": {
      "text/plain": [
       "[0.027860262203060367,\n",
       " 0.0017741294080098786,\n",
       " 0.007145485199253134,\n",
       " 0.005649871029707983,\n",
       " 0.007207304327143478,\n",
       " inf,\n",
       " 0.010853779833459433,\n",
       " 0.005317918293000994,\n",
       " 0.0032752770828258764,\n",
       " inf,\n",
       " 0.004776274797368476,\n",
       " 0.005486003399473081,\n",
       " 0.0032761218388327575,\n",
       " 0.008766810881567192,\n",
       " 0.003757013122478695,\n",
       " inf,\n",
       " 0.003538983162784645,\n",
       " 0.004496052471672023,\n",
       " 0.012543632774884255,\n",
       " 0.033646590305988364,\n",
       " 0.008017835199707597,\n",
       " 0.01885887716080353,\n",
       " 0.02498723676744741,\n",
       " 0.013212648653305374,\n",
       " 0.013440496776713017,\n",
       " 0.014200338055048473,\n",
       " 0.0011299861741151697,\n",
       " 0.004822263508012903,\n",
       " 0.012519478327674579,\n",
       " 0.010476967581984992,\n",
       " 0.024825660470501217,\n",
       " 0.021951831981337485,\n",
       " 0.026340902417860794,\n",
       " 0.06469292233760324,\n",
       " 0.0034467227049185204,\n",
       " 0.001961779897841419,\n",
       " 0.017502365376429282,\n",
       " 0.003007610876967899,\n",
       " 0.00733811617446258,\n",
       " 0.030006584267950102,\n",
       " 0.003803061602514476,\n",
       " 0.02419851501108871,\n",
       " 0.004934831940361187,\n",
       " 0.0015390645552850063,\n",
       " 0.001963753713676005,\n",
       " 0.0014944331174057658,\n",
       " 0.0029856950580867386,\n",
       " 0.002795459703496579,\n",
       " 0.002134302617639264,\n",
       " 0.02640697214129018,\n",
       " 0.015896525362916337,\n",
       " 0.006088628451033025,\n",
       " 0.03414801292345924,\n",
       " 0.0036817736772071278,\n",
       " 0.0049703352415789905,\n",
       " 0.002083826082592949,\n",
       " 0.012475510543702115,\n",
       " 0.02077943249499894,\n",
       " 0.010952541505363417,\n",
       " 0.03563579532685467,\n",
       " inf,\n",
       " 0.005373123962543904,\n",
       " 0.012725183546734999,\n",
       " 0.015832414684348914,\n",
       " 0.027245510282106707,\n",
       " 0.0043981932100933385,\n",
       " 0.002577320679724516,\n",
       " 0.0035837955481579915,\n",
       " 0.002946155078739652,\n",
       " 0.006479154504989027,\n",
       " 0.026929247489909984,\n",
       " 0.0011156829941517859,\n",
       " 0.008475116516908436,\n",
       " inf,\n",
       " 0.00938166308135657,\n",
       " 0.01762788482313908,\n",
       " 0.00148000954877931,\n",
       " 0.014984197715915946,\n",
       " 0.005772878480116085,\n",
       " 0.006103730134870337,\n",
       " 0.005483248307823435,\n",
       " 0.002754473568797104,\n",
       " 0.022971844363132488,\n",
       " 0.03150150929984559,\n",
       " 0.0006530703499697462,\n",
       " 0.007099244709003367,\n",
       " 0.004658876564507606,\n",
       " 0.026032336748580152,\n",
       " 0.0011566375123736776,\n",
       " 0.015348358276316938,\n",
       " 0.002781830312579034,\n",
       " 0.01583954041531116,\n",
       " 0.0049477333934802945,\n",
       " inf,\n",
       " inf,\n",
       " 0.006385336827072855,\n",
       " 0.0031210965964026394,\n",
       " 0.002815576309133018,\n",
       " 0.003796990813151795,\n",
       " 0.028182054848495834,\n",
       " 0.0008525396728934475,\n",
       " 0.0047016891520687614,\n",
       " 0.024305439751539926,\n",
       " 0.013945777422862552,\n",
       " 0.0050113959523486774,\n",
       " 0.003097892049704901,\n",
       " 0.013343923893243783,\n",
       " 0.008233693681823874,\n",
       " 0.0023670437458784845,\n",
       " inf,\n",
       " 0.014041271267590734,\n",
       " 0.0034355080192309,\n",
       " 0.03509460048689173,\n",
       " 0.006825171295699221,\n",
       " 0.011433983092434576,\n",
       " 0.0015459868916520051,\n",
       " 0.006056199300399067,\n",
       " 0.004502052201242948,\n",
       " 0.02669462350754305,\n",
       " 0.020093983716465195,\n",
       " 0.0015847342517726754,\n",
       " 0.00740886157884757,\n",
       " 0.0045991189337129,\n",
       " 0.010253272138927997,\n",
       " 0.0015971593595745395,\n",
       " 0.016439536281068028,\n",
       " 0.013787376419676542,\n",
       " 0.005276050685054911,\n",
       " 0.03341996468511283,\n",
       " 0.0028710608723909016,\n",
       " 0.01437450971651798,\n",
       " 0.001990888551575229,\n",
       " 0.0019600229574463376,\n",
       " 0.009773472134379263,\n",
       " 0.009035614093157401,\n",
       " 0.0052715769095244315,\n",
       " 0.0035554362533995287,\n",
       " 0.014501623761614171,\n",
       " 0.0065874978358589475,\n",
       " 0.0009898092180472043,\n",
       " 0.0043669866498682545,\n",
       " 0.0015806592719289658,\n",
       " 0.003143599023705213,\n",
       " 0.008489260046853832,\n",
       " 0.002660781179393122,\n",
       " 0.0038773163332009803,\n",
       " 0.0014921706687225388,\n",
       " 0.0016440528585107128,\n",
       " 0.058972027358802886,\n",
       " 0.0017282799674645942,\n",
       " 0.0025115097456361204,\n",
       " inf,\n",
       " 0.023941737671393085,\n",
       " inf,\n",
       " 0.025842613825752574,\n",
       " 0.00103442252293064,\n",
       " 0.015677719258720798,\n",
       " 0.01049994759841599,\n",
       " 0.0026144638653629957,\n",
       " inf,\n",
       " inf,\n",
       " 0.013522162325269711,\n",
       " 0.006513130038148773,\n",
       " 0.006042219664678315,\n",
       " inf,\n",
       " 0.0009371280856352528,\n",
       " 0.003255770952460579,\n",
       " 0.007057274402173698,\n",
       " 0.00155422489426367,\n",
       " 0.0028446202685302757,\n",
       " 0.0045804930277058694,\n",
       " 0.011048294828472121,\n",
       " 0.005156538511236924,\n",
       " 0.0074956763844194274,\n",
       " inf,\n",
       " 0.0012833896977834107,\n",
       " 0.001994911372057705,\n",
       " 0.001676649681574224,\n",
       " 0.005856086159188335,\n",
       " 0.001526601441416718,\n",
       " inf,\n",
       " 0.005816933090706607,\n",
       " 0.03414113594161683,\n",
       " 0.003156215249797436,\n",
       " 0.029270833948569996,\n",
       " 0.010573738620882152,\n",
       " 0.0019469804497505227,\n",
       " 0.017612175033147295,\n",
       " 0.0009178706788989487,\n",
       " 0.011171707942711788,\n",
       " 0.0012146538392003685,\n",
       " 0.019030994868969555,\n",
       " 0.01182096797557903,\n",
       " inf,\n",
       " 0.003997615668240444,\n",
       " 0.0030510619436659872,\n",
       " inf,\n",
       " 0.001121406333483456,\n",
       " 0.04555483777078531,\n",
       " 0.012581462449211636,\n",
       " 0.010001658349406,\n",
       " 0.00436159329410253,\n",
       " 0.0010327238661674597,\n",
       " 0.031756064330424334,\n",
       " 0.001055189041494412,\n",
       " 0.017973241126183762,\n",
       " 0.023324267341717664,\n",
       " 0.0011623261804832054,\n",
       " 0.010296184968619905,\n",
       " 0.004761155032802398,\n",
       " 0.004427826091410762,\n",
       " 0.0029354041800381714,\n",
       " 0.014602904417666875,\n",
       " 0.003222386986108246,\n",
       " 0.01916812667210905,\n",
       " 0.0027006966828832706,\n",
       " 0.0017144933560132463,\n",
       " 0.018167850075227757,\n",
       " 0.0016835229388747932,\n",
       " 0.004320894298380918,\n",
       " 0.0030007563038443987,\n",
       " 0.0012562524446884046,\n",
       " 0.007798826280300191,\n",
       " 0.023174695533427856,\n",
       " 0.003473255929882126,\n",
       " 0.0037565886852524103,\n",
       " 0.01942222387275725,\n",
       " inf,\n",
       " 0.004511379035461666,\n",
       " 0.0059640157332058845,\n",
       " 0.0015120816992212768,\n",
       " 0.006692961501124106,\n",
       " 0.006155447751092689,\n",
       " 0.0035237849379412844,\n",
       " 0.0030320671423457526,\n",
       " 0.030142784076433612,\n",
       " 0.0050525971422324505,\n",
       " inf,\n",
       " 0.029955614535845977,\n",
       " 0.016673015665865577,\n",
       " inf,\n",
       " 0.01663893490748489,\n",
       " 0.007448103238700427,\n",
       " 0.003670109967710549,\n",
       " inf,\n",
       " 0.008906151646149425,\n",
       " inf,\n",
       " inf,\n",
       " 0.0040092148544742185,\n",
       " 0.002239114678971611,\n",
       " 0.03134533756368129,\n",
       " 0.0014992993272533882,\n",
       " 0.0019552588055156074,\n",
       " 0.023934481802691275,\n",
       " 0.00729806799546761,\n",
       " 0.0019557688233090434,\n",
       " 0.002093679692799314,\n",
       " 0.05489215058366704,\n",
       " 0.01239822580901704,\n",
       " 0.005619579663619118,\n",
       " 0.0012966511033022329,\n",
       " 0.003688021165485016,\n",
       " inf,\n",
       " 0.007694468920605217,\n",
       " 0.001720583632996804,\n",
       " inf,\n",
       " 0.023112974193782033,\n",
       " 0.020204227915942254,\n",
       " 0.003784812369191262,\n",
       " 0.0018618092464768696,\n",
       " 0.022124063367522942,\n",
       " 0.001120524403716363,\n",
       " 0.0031382040260289545,\n",
       " 0.005126685444523622,\n",
       " 0.0029396430235884238,\n",
       " 0.0014742652762465467,\n",
       " 0.004568424286495373]"
      ]
     },
     "execution_count": 261,
     "metadata": {},
     "output_type": "execute_result"
    }
   ],
   "source": [
    "kl_div_birds_discrete"
   ]
  },
  {
   "cell_type": "code",
   "execution_count": 265,
   "metadata": {},
   "outputs": [],
   "source": [
    "df_kl_div_discrete = pd.DataFrame(list(zip(numbering_birds,kl_div_birds_discrete)))"
   ]
  },
  {
   "cell_type": "code",
   "execution_count": 268,
   "metadata": {},
   "outputs": [],
   "source": [
    "df_kl_div_discrete.columns = ['AVIBASEID', 'KL_Divergence_Value']"
   ]
  },
  {
   "cell_type": "code",
   "execution_count": 271,
   "metadata": {},
   "outputs": [],
   "source": [
    "df_kl_div_discrete['COMMON NAME'] = df_kl_div_discrete['AVIBASEID'].apply(lambda x: name_avID_dict[x])"
   ]
  },
  {
   "cell_type": "code",
   "execution_count": 273,
   "metadata": {},
   "outputs": [
    {
     "data": {
      "text/html": [
       "<div>\n",
       "<style scoped>\n",
       "    .dataframe tbody tr th:only-of-type {\n",
       "        vertical-align: middle;\n",
       "    }\n",
       "\n",
       "    .dataframe tbody tr th {\n",
       "        vertical-align: top;\n",
       "    }\n",
       "\n",
       "    .dataframe thead th {\n",
       "        text-align: right;\n",
       "    }\n",
       "</style>\n",
       "<table border=\"1\" class=\"dataframe\">\n",
       "  <thead>\n",
       "    <tr style=\"text-align: right;\">\n",
       "      <th></th>\n",
       "      <th>AVIBASEID</th>\n",
       "      <th>KL_Divergence_Value</th>\n",
       "      <th>COMMON NAME</th>\n",
       "    </tr>\n",
       "  </thead>\n",
       "  <tbody>\n",
       "    <tr>\n",
       "      <th>84</th>\n",
       "      <td>42393721</td>\n",
       "      <td>0.000653</td>\n",
       "      <td>Anna's Hummingbird</td>\n",
       "    </tr>\n",
       "    <tr>\n",
       "      <th>100</th>\n",
       "      <td>536A5157</td>\n",
       "      <td>0.000853</td>\n",
       "      <td>Red-tailed Hawk</td>\n",
       "    </tr>\n",
       "    <tr>\n",
       "      <th>188</th>\n",
       "      <td>AA7901D8</td>\n",
       "      <td>0.000918</td>\n",
       "      <td>Snowy Egret</td>\n",
       "    </tr>\n",
       "    <tr>\n",
       "      <th>165</th>\n",
       "      <td>93694BB5</td>\n",
       "      <td>0.000937</td>\n",
       "      <td>Great Blue Heron</td>\n",
       "    </tr>\n",
       "    <tr>\n",
       "      <th>139</th>\n",
       "      <td>7E327303</td>\n",
       "      <td>0.000990</td>\n",
       "      <td>Acorn Woodpecker</td>\n",
       "    </tr>\n",
       "    <tr>\n",
       "      <th>...</th>\n",
       "      <td>...</td>\n",
       "      <td>...</td>\n",
       "      <td>...</td>\n",
       "    </tr>\n",
       "    <tr>\n",
       "      <th>244</th>\n",
       "      <td>E0A04985</td>\n",
       "      <td>inf</td>\n",
       "      <td>Ash-throated Flycatcher</td>\n",
       "    </tr>\n",
       "    <tr>\n",
       "      <th>246</th>\n",
       "      <td>E4A5B66A</td>\n",
       "      <td>inf</td>\n",
       "      <td>Sooty Grouse</td>\n",
       "    </tr>\n",
       "    <tr>\n",
       "      <th>247</th>\n",
       "      <td>E53FC25C</td>\n",
       "      <td>inf</td>\n",
       "      <td>Swainson's Thrush</td>\n",
       "    </tr>\n",
       "    <tr>\n",
       "      <th>193</th>\n",
       "      <td>AF0C7BDE</td>\n",
       "      <td>inf</td>\n",
       "      <td>Long-tailed Duck</td>\n",
       "    </tr>\n",
       "    <tr>\n",
       "      <th>180</th>\n",
       "      <td>A0F29F1E</td>\n",
       "      <td>inf</td>\n",
       "      <td>Black-throated Sparrow</td>\n",
       "    </tr>\n",
       "  </tbody>\n",
       "</table>\n",
       "<p>277 rows × 3 columns</p>\n",
       "</div>"
      ],
      "text/plain": [
       "    AVIBASEID  KL_Divergence_Value              COMMON NAME\n",
       "84   42393721             0.000653       Anna's Hummingbird\n",
       "100  536A5157             0.000853          Red-tailed Hawk\n",
       "188  AA7901D8             0.000918              Snowy Egret\n",
       "165  93694BB5             0.000937         Great Blue Heron\n",
       "139  7E327303             0.000990         Acorn Woodpecker\n",
       "..        ...                  ...                      ...\n",
       "244  E0A04985                  inf  Ash-throated Flycatcher\n",
       "246  E4A5B66A                  inf             Sooty Grouse\n",
       "247  E53FC25C                  inf        Swainson's Thrush\n",
       "193  AF0C7BDE                  inf         Long-tailed Duck\n",
       "180  A0F29F1E                  inf   Black-throated Sparrow\n",
       "\n",
       "[277 rows x 3 columns]"
      ]
     },
     "execution_count": 273,
     "metadata": {},
     "output_type": "execute_result"
    }
   ],
   "source": [
    "df_kl_div_discrete.sort_values(by='KL_Divergence_Value')"
   ]
  },
  {
   "cell_type": "code",
   "execution_count": 280,
   "metadata": {},
   "outputs": [],
   "source": [
    "def generate_kl_smooth(sigma=(3,3)):\n",
    "    all_kl = []\n",
    "    for i in range(277):\n",
    "        x_smooth = scipy.ndimage.gaussian_filter(\n",
    "            iNat_curves_discrete2_val_smoothed[i, :],\n",
    "            sigma=sigma[0]\n",
    "        )\n",
    "        y_smooth = scipy.ndimage.gaussian_filter(\n",
    "            eBird_curves_discrete2_val[i,:],\n",
    "            sigma=sigma[1]\n",
    "        )\n",
    "        kl_div_val = np.mean(kl_div(x_smooth, y_smooth))\n",
    "        all_kl.append(kl_div_val)\n",
    "    return all_kl\n",
    "    "
   ]
  },
  {
   "cell_type": "code",
   "execution_count": 282,
   "metadata": {},
   "outputs": [],
   "source": [
    "kl_div_birds_smooth = generate_kl_smooth(sigma=(2,2))"
   ]
  },
  {
   "cell_type": "code",
   "execution_count": 283,
   "metadata": {},
   "outputs": [
    {
     "data": {
      "text/plain": [
       "[0.006677762714700047,\n",
       " 0.0004172758959795477,\n",
       " 0.0013143098646005752,\n",
       " 0.0011268373789211589,\n",
       " 0.0023169916510894398,\n",
       " 0.006874541655820957,\n",
       " 0.0013358487929553537,\n",
       " 0.001121916357914427,\n",
       " 0.0008211623848387021,\n",
       " 0.01579147562039713,\n",
       " 0.0011503983530139037,\n",
       " 0.0020054564607979394,\n",
       " 0.0009425900559727169,\n",
       " 0.0012030496770964972,\n",
       " 0.001104898020424131,\n",
       " 0.001537105377757541,\n",
       " 0.0005854368699641995,\n",
       " 0.0014001643445122728,\n",
       " 0.003525396349330746,\n",
       " 0.0075449815204053075,\n",
       " 0.0017465339612815736,\n",
       " 0.004817215978340982,\n",
       " 0.008133768870221637,\n",
       " 0.00307455476266553,\n",
       " 0.002094516835659666,\n",
       " 0.003409200020027454,\n",
       " 0.0005963086526381428,\n",
       " 0.0008470833774691996,\n",
       " 0.002130997972380622,\n",
       " 0.001121144475704335,\n",
       " 0.01229084101990126,\n",
       " 0.011329039899625418,\n",
       " 0.006312801931774624,\n",
       " 0.03653207537675382,\n",
       " 0.0009607161122497887,\n",
       " 0.00037146575897948123,\n",
       " 0.004201714698905681,\n",
       " 0.0006522192240842133,\n",
       " 0.0006662016570209681,\n",
       " 0.01341315436401162,\n",
       " 0.0010612743795298258,\n",
       " 0.005363434692602838,\n",
       " 0.0013825766458523086,\n",
       " 0.00020255188904123037,\n",
       " 0.000762710151619433,\n",
       " 0.0003271464861842663,\n",
       " 0.0009317308563379501,\n",
       " 0.0007538700515968379,\n",
       " 0.0006334909598764405,\n",
       " 0.007163274900636605,\n",
       " 0.002707585460898351,\n",
       " 0.001973648840051896,\n",
       " 0.010141358523386962,\n",
       " 0.0006811785267049743,\n",
       " 0.0006752724003880363,\n",
       " 0.0004482338300438705,\n",
       " 0.0019875541395220765,\n",
       " 0.004676637235334123,\n",
       " 0.0028025433495482374,\n",
       " 0.013823590031443352,\n",
       " 0.001154965420577689,\n",
       " 0.0020254602130424983,\n",
       " 0.003711993101320514,\n",
       " 0.0039315299591066374,\n",
       " 0.008853379675621706,\n",
       " 0.0017232309726278642,\n",
       " 0.000827249762518957,\n",
       " 0.000419804161267192,\n",
       " 0.0004274426368929944,\n",
       " 0.0012163661149300399,\n",
       " 0.003022348808723637,\n",
       " 0.00024622232227718675,\n",
       " 0.0011359593613715897,\n",
       " 0.004160085967341448,\n",
       " 0.002432718310843775,\n",
       " 0.010925314040665057,\n",
       " 0.00022992971866924548,\n",
       " 0.0037295109317713065,\n",
       " 0.0012541193798899656,\n",
       " 0.000621280751607377,\n",
       " 0.001068770353503814,\n",
       " 0.0011036623353998557,\n",
       " 0.005972591913359871,\n",
       " 0.005195237584528029,\n",
       " 0.00021392300287744463,\n",
       " 0.00178974699933578,\n",
       " 0.0007122472288471787,\n",
       " 0.007332798129083158,\n",
       " 0.0003996433359369502,\n",
       " 0.0047574550933262,\n",
       " 0.0005774786020546955,\n",
       " 0.002289470425905482,\n",
       " 0.0012447173391009888,\n",
       " inf,\n",
       " inf,\n",
       " 0.001811854565350747,\n",
       " 0.0006821437827548195,\n",
       " 0.0006129157163361778,\n",
       " 0.00041356169973129516,\n",
       " 0.016775725031126936,\n",
       " 0.00043295305892791715,\n",
       " 0.0007109261461583536,\n",
       " 0.008403823084734998,\n",
       " 0.003603634453276046,\n",
       " 0.0015384865693004461,\n",
       " 0.0017705419734646325,\n",
       " 0.00242059059076403,\n",
       " 0.001388608308506725,\n",
       " 0.0006497932229453884,\n",
       " inf,\n",
       " 0.0012195802493082256,\n",
       " 0.00039519581435440914,\n",
       " 0.018994344190429377,\n",
       " 0.0015425678258119563,\n",
       " 0.0033360367231106145,\n",
       " 0.0003375062822504988,\n",
       " 0.0015139583386702825,\n",
       " 0.001816849570837581,\n",
       " 0.009478215679905023,\n",
       " 0.003195579157315998,\n",
       " 0.00022049707107079614,\n",
       " 0.001583378805506167,\n",
       " 0.0011097355577058296,\n",
       " 0.0030684289139544566,\n",
       " 0.0007029561070318016,\n",
       " 0.00314074562468007,\n",
       " 0.004655376210301385,\n",
       " 0.0008406802499296869,\n",
       " 0.009638095582010259,\n",
       " 0.0008853698160796792,\n",
       " 0.003613536956558803,\n",
       " 0.00039947455984043923,\n",
       " 0.0004983935892020653,\n",
       " 0.0020451060092799914,\n",
       " 0.001558293152390214,\n",
       " 0.0010325713016857898,\n",
       " 0.000670953034679122,\n",
       " 0.005020484086246978,\n",
       " 0.0025207056419916554,\n",
       " 0.00016818718773293576,\n",
       " 0.0009551635708323015,\n",
       " 0.00028188170283105447,\n",
       " 0.0011812241867535172,\n",
       " 0.0011297813739902527,\n",
       " 0.0005824724911143542,\n",
       " 0.0005675155860858492,\n",
       " 0.0007510746148674421,\n",
       " 0.0009465523669549932,\n",
       " 0.01934752731211257,\n",
       " 0.00046373898055792744,\n",
       " 0.00027732586543509314,\n",
       " 0.003064173385950042,\n",
       " 0.0067449609775336915,\n",
       " 0.00543398884023542,\n",
       " 0.016683240988713863,\n",
       " 0.0003871076078250529,\n",
       " 0.005303549267919371,\n",
       " 0.0024629996688162975,\n",
       " 0.0006340850062146323,\n",
       " 0.007055953850169097,\n",
       " 0.0012126411260082533,\n",
       " 0.003879599213890877,\n",
       " 0.0010576176889491064,\n",
       " 0.0013631619486894008,\n",
       " 0.013076370192776098,\n",
       " 0.00033191051391849666,\n",
       " 0.0008492317283399369,\n",
       " 0.0013603221794442166,\n",
       " 0.0004818824006552876,\n",
       " 0.00018480446306515618,\n",
       " 0.00067792794904137,\n",
       " 0.0023820174431536246,\n",
       " 0.0011746175726705373,\n",
       " 0.0021584484972930387,\n",
       " 0.02092452368755427,\n",
       " 0.0004957096477933448,\n",
       " 0.0005616228764673524,\n",
       " 0.0009864140963587976,\n",
       " 0.0009164942391577628,\n",
       " 0.0002093564772632829,\n",
       " 0.01874174277399696,\n",
       " 0.0009075068728836566,\n",
       " 0.006452310490655867,\n",
       " 0.001428840446582696,\n",
       " 0.004257521874127194,\n",
       " 0.0008433227232270623,\n",
       " 0.0007817758618862499,\n",
       " 0.001973545293331501,\n",
       " 0.00025026707641873043,\n",
       " 0.0013884166219192738,\n",
       " 0.0005778065617217293,\n",
       " 0.005120748625393203,\n",
       " 0.0019714317908417055,\n",
       " 0.004288592805792525,\n",
       " 0.0008305196571422487,\n",
       " 0.0008349096636109182,\n",
       " 0.0088983966830732,\n",
       " 0.0004926977531717033,\n",
       " 0.018675402946442626,\n",
       " 0.002145048492174011,\n",
       " 0.0019083147496011337,\n",
       " 0.000577629126112259,\n",
       " 0.0006098633557815971,\n",
       " 0.014193395168751287,\n",
       " 0.00028669784848097497,\n",
       " 0.0024532508903524386,\n",
       " 0.00965951017496411,\n",
       " 0.0002313158120554537,\n",
       " 0.004550946065703128,\n",
       " 0.0005128720695044386,\n",
       " 0.00112609897847034,\n",
       " 0.0005849340117377549,\n",
       " 0.0015348849549449651,\n",
       " 0.0008692792102310105,\n",
       " 0.004350036238828658,\n",
       " 0.0006689191881856747,\n",
       " 0.0002998109483916922,\n",
       " 0.0030203522098609164,\n",
       " 0.0005077524461894505,\n",
       " 0.0011955620372996396,\n",
       " 0.0012159761885606538,\n",
       " 0.00034737820560472223,\n",
       " 0.0016248883623961646,\n",
       " 0.0022818724513784315,\n",
       " 0.0005459957445726338,\n",
       " 0.0003375024993538229,\n",
       " 0.004888707732781524,\n",
       " inf,\n",
       " 0.0015635515526616335,\n",
       " 0.0021590743770668903,\n",
       " 0.00026502986882818075,\n",
       " 0.001056993602208624,\n",
       " 0.001215450762518037,\n",
       " 0.0002704344544123943,\n",
       " 0.0005039755380226236,\n",
       " 0.009840093307811604,\n",
       " 0.0022836909622061257,\n",
       " 0.006551611802662889,\n",
       " 0.007585558608454733,\n",
       " 0.003299412222258578,\n",
       " 0.003546412801156041,\n",
       " 0.007833408761709392,\n",
       " 0.0013702759339393503,\n",
       " 0.0010770747126662187,\n",
       " inf,\n",
       " 0.0027608279018912656,\n",
       " 0.006482442090776245,\n",
       " 0.0015523850896199324,\n",
       " 0.0005829933245610961,\n",
       " 0.0003133259061643336,\n",
       " 0.0056729315311900615,\n",
       " 0.0008602661809757681,\n",
       " 0.0007907473633680432,\n",
       " 0.0033605531193500672,\n",
       " 0.000798828604941814,\n",
       " 0.0008174201185856656,\n",
       " 0.0007009262308905148,\n",
       " 0.028508941821128533,\n",
       " 0.0018636419734073804,\n",
       " 0.00175684712119761,\n",
       " 0.0002590968993162428,\n",
       " 0.0016956723433545204,\n",
       " inf,\n",
       " 0.0011680875058281222,\n",
       " 0.0007025822969279525,\n",
       " inf,\n",
       " 0.005654036868917862,\n",
       " 0.004723124468811382,\n",
       " 0.0009507277828523224,\n",
       " 0.0008852707617052081,\n",
       " 0.008428478185160366,\n",
       " 0.00023985863783791917,\n",
       " 0.0013617476030092267,\n",
       " 0.0009175668002769825,\n",
       " 0.000760344446696423,\n",
       " 0.00040057367987704284,\n",
       " 0.0013669364632744193]"
      ]
     },
     "execution_count": 283,
     "metadata": {},
     "output_type": "execute_result"
    }
   ],
   "source": [
    "kl_div_birds_smooth"
   ]
  },
  {
   "cell_type": "code",
   "execution_count": 284,
   "metadata": {},
   "outputs": [],
   "source": [
    "df_kl_div_smooth = pd.DataFrame(list(zip(numbering_birds,kl_div_birds_smooth)))"
   ]
  },
  {
   "cell_type": "code",
   "execution_count": 285,
   "metadata": {},
   "outputs": [],
   "source": [
    "df_kl_div_smooth.columns = ['AVIBASEID', 'KL_Divergence_Value']"
   ]
  },
  {
   "cell_type": "code",
   "execution_count": 286,
   "metadata": {},
   "outputs": [],
   "source": [
    "df_kl_div_smooth['COMMON NAME'] = df_kl_div_smooth['AVIBASEID'].apply(lambda x: name_avID_dict[x])"
   ]
  },
  {
   "cell_type": "code",
   "execution_count": 287,
   "metadata": {},
   "outputs": [
    {
     "data": {
      "text/html": [
       "<div>\n",
       "<style scoped>\n",
       "    .dataframe tbody tr th:only-of-type {\n",
       "        vertical-align: middle;\n",
       "    }\n",
       "\n",
       "    .dataframe tbody tr th {\n",
       "        vertical-align: top;\n",
       "    }\n",
       "\n",
       "    .dataframe thead th {\n",
       "        text-align: right;\n",
       "    }\n",
       "</style>\n",
       "<table border=\"1\" class=\"dataframe\">\n",
       "  <thead>\n",
       "    <tr style=\"text-align: right;\">\n",
       "      <th></th>\n",
       "      <th>AVIBASEID</th>\n",
       "      <th>KL_Divergence_Value</th>\n",
       "      <th>COMMON NAME</th>\n",
       "    </tr>\n",
       "  </thead>\n",
       "  <tbody>\n",
       "    <tr>\n",
       "      <th>139</th>\n",
       "      <td>7E327303</td>\n",
       "      <td>0.000168</td>\n",
       "      <td>Acorn Woodpecker</td>\n",
       "    </tr>\n",
       "    <tr>\n",
       "      <th>169</th>\n",
       "      <td>951C150C</td>\n",
       "      <td>0.000185</td>\n",
       "      <td>Olive-sided Flycatcher</td>\n",
       "    </tr>\n",
       "    <tr>\n",
       "      <th>43</th>\n",
       "      <td>20C2214E</td>\n",
       "      <td>0.000203</td>\n",
       "      <td>American Kestrel</td>\n",
       "    </tr>\n",
       "    <tr>\n",
       "      <th>179</th>\n",
       "      <td>A091D50A</td>\n",
       "      <td>0.000209</td>\n",
       "      <td>Northern Harrier</td>\n",
       "    </tr>\n",
       "    <tr>\n",
       "      <th>84</th>\n",
       "      <td>42393721</td>\n",
       "      <td>0.000214</td>\n",
       "      <td>Anna's Hummingbird</td>\n",
       "    </tr>\n",
       "    <tr>\n",
       "      <th>...</th>\n",
       "      <td>...</td>\n",
       "      <td>...</td>\n",
       "      <td>...</td>\n",
       "    </tr>\n",
       "    <tr>\n",
       "      <th>93</th>\n",
       "      <td>4D2FF6F1</td>\n",
       "      <td>inf</td>\n",
       "      <td>Common Tern</td>\n",
       "    </tr>\n",
       "    <tr>\n",
       "      <th>109</th>\n",
       "      <td>5BC4E0EF</td>\n",
       "      <td>inf</td>\n",
       "      <td>Willow Flycatcher</td>\n",
       "    </tr>\n",
       "    <tr>\n",
       "      <th>227</th>\n",
       "      <td>C5971E25</td>\n",
       "      <td>inf</td>\n",
       "      <td>Rock Sandpiper</td>\n",
       "    </tr>\n",
       "    <tr>\n",
       "      <th>244</th>\n",
       "      <td>E0A04985</td>\n",
       "      <td>inf</td>\n",
       "      <td>Ash-throated Flycatcher</td>\n",
       "    </tr>\n",
       "    <tr>\n",
       "      <th>265</th>\n",
       "      <td>F6CA75F0</td>\n",
       "      <td>inf</td>\n",
       "      <td>Western Wood-Pewee</td>\n",
       "    </tr>\n",
       "  </tbody>\n",
       "</table>\n",
       "<p>277 rows × 3 columns</p>\n",
       "</div>"
      ],
      "text/plain": [
       "    AVIBASEID  KL_Divergence_Value              COMMON NAME\n",
       "139  7E327303             0.000168         Acorn Woodpecker\n",
       "169  951C150C             0.000185   Olive-sided Flycatcher\n",
       "43   20C2214E             0.000203         American Kestrel\n",
       "179  A091D50A             0.000209         Northern Harrier\n",
       "84   42393721             0.000214       Anna's Hummingbird\n",
       "..        ...                  ...                      ...\n",
       "93   4D2FF6F1                  inf              Common Tern\n",
       "109  5BC4E0EF                  inf        Willow Flycatcher\n",
       "227  C5971E25                  inf           Rock Sandpiper\n",
       "244  E0A04985                  inf  Ash-throated Flycatcher\n",
       "265  F6CA75F0                  inf       Western Wood-Pewee\n",
       "\n",
       "[277 rows x 3 columns]"
      ]
     },
     "execution_count": 287,
     "metadata": {},
     "output_type": "execute_result"
    }
   ],
   "source": [
    "df_kl_div_smooth.sort_values(by='KL_Divergence_Value')"
   ]
  },
  {
   "cell_type": "code",
   "execution_count": 288,
   "metadata": {},
   "outputs": [
    {
     "data": {
      "image/png": "[encoded data removed]",
      "text/plain": [
       "<Figure size 640x480 with 1 Axes>"
      ]
     },
     "metadata": {},
     "output_type": "display_data"
    }
   ],
   "source": [
    "rm_make_smooth_curves(\"7E327303\", sigma=(3,3))"
   ]
  },
  {
   "cell_type": "code",
   "execution_count": 289,
   "metadata": {},
   "outputs": [],
   "source": [
    "df_kl_div_all = pd.DataFrame(list(zip(numbering_birds,kl_div_birds_smooth, kl_div_birds_discrete)))"
   ]
  },
  {
   "cell_type": "code",
   "execution_count": 291,
   "metadata": {},
   "outputs": [],
   "source": [
    "df_kl_div_all.columns = ['AVIBASEID', 'KL_DIV_SMOOTH', 'KL_DIV_DISCRETE']"
   ]
  },
  {
   "cell_type": "code",
   "execution_count": 293,
   "metadata": {},
   "outputs": [],
   "source": [
    "df_kl_div_all['COMMON NAME'] = df_kl_div_all['AVIBASEID'].apply(lambda x: name_avID_dict[x])"
   ]
  },
  {
   "cell_type": "code",
   "execution_count": 294,
   "metadata": {},
   "outputs": [
    {
     "data": {
      "text/html": [
       "<div>\n",
       "<style scoped>\n",
       "    .dataframe tbody tr th:only-of-type {\n",
       "        vertical-align: middle;\n",
       "    }\n",
       "\n",
       "    .dataframe tbody tr th {\n",
       "        vertical-align: top;\n",
       "    }\n",
       "\n",
       "    .dataframe thead th {\n",
       "        text-align: right;\n",
       "    }\n",
       "</style>\n",
       "<table border=\"1\" class=\"dataframe\">\n",
       "  <thead>\n",
       "    <tr style=\"text-align: right;\">\n",
       "      <th></th>\n",
       "      <th>AVIBASEID</th>\n",
       "      <th>KL_DIV_SMOOTH</th>\n",
       "      <th>KL_DIV_DISCRETE</th>\n",
       "      <th>COMMON NAME</th>\n",
       "    </tr>\n",
       "  </thead>\n",
       "  <tbody>\n",
       "    <tr>\n",
       "      <th>0</th>\n",
       "      <td>000482C9</td>\n",
       "      <td>0.006678</td>\n",
       "      <td>0.027860</td>\n",
       "      <td>Orchard Oriole</td>\n",
       "    </tr>\n",
       "    <tr>\n",
       "      <th>1</th>\n",
       "      <td>00124D98</td>\n",
       "      <td>0.000417</td>\n",
       "      <td>0.001774</td>\n",
       "      <td>Mourning Dove</td>\n",
       "    </tr>\n",
       "    <tr>\n",
       "      <th>2</th>\n",
       "      <td>00635FF9</td>\n",
       "      <td>0.001314</td>\n",
       "      <td>0.007145</td>\n",
       "      <td>Pileated Woodpecker</td>\n",
       "    </tr>\n",
       "    <tr>\n",
       "      <th>3</th>\n",
       "      <td>01060BFD</td>\n",
       "      <td>0.001127</td>\n",
       "      <td>0.005650</td>\n",
       "      <td>Western Sandpiper</td>\n",
       "    </tr>\n",
       "    <tr>\n",
       "      <th>4</th>\n",
       "      <td>018B3169</td>\n",
       "      <td>0.002317</td>\n",
       "      <td>0.007207</td>\n",
       "      <td>Horned Grebe</td>\n",
       "    </tr>\n",
       "    <tr>\n",
       "      <th>...</th>\n",
       "      <td>...</td>\n",
       "      <td>...</td>\n",
       "      <td>...</td>\n",
       "      <td>...</td>\n",
       "    </tr>\n",
       "    <tr>\n",
       "      <th>272</th>\n",
       "      <td>FC366114</td>\n",
       "      <td>0.001362</td>\n",
       "      <td>0.003138</td>\n",
       "      <td>Great Horned Owl</td>\n",
       "    </tr>\n",
       "    <tr>\n",
       "      <th>273</th>\n",
       "      <td>FD2B0309</td>\n",
       "      <td>0.000918</td>\n",
       "      <td>0.005127</td>\n",
       "      <td>White-faced Ibis</td>\n",
       "    </tr>\n",
       "    <tr>\n",
       "      <th>274</th>\n",
       "      <td>FED3756C</td>\n",
       "      <td>0.000760</td>\n",
       "      <td>0.002940</td>\n",
       "      <td>Bald Eagle</td>\n",
       "    </tr>\n",
       "    <tr>\n",
       "      <th>275</th>\n",
       "      <td>FF592882</td>\n",
       "      <td>0.000401</td>\n",
       "      <td>0.001474</td>\n",
       "      <td>Chestnut-backed Chickadee</td>\n",
       "    </tr>\n",
       "    <tr>\n",
       "      <th>276</th>\n",
       "      <td>FFF61080</td>\n",
       "      <td>0.001367</td>\n",
       "      <td>0.004568</td>\n",
       "      <td>Orange-crowned Warbler</td>\n",
       "    </tr>\n",
       "  </tbody>\n",
       "</table>\n",
       "<p>277 rows × 4 columns</p>\n",
       "</div>"
      ],
      "text/plain": [
       "    AVIBASEID  KL_DIV_SMOOTH  KL_DIV_DISCRETE                COMMON NAME\n",
       "0    000482C9       0.006678         0.027860             Orchard Oriole\n",
       "1    00124D98       0.000417         0.001774              Mourning Dove\n",
       "2    00635FF9       0.001314         0.007145        Pileated Woodpecker\n",
       "3    01060BFD       0.001127         0.005650          Western Sandpiper\n",
       "4    018B3169       0.002317         0.007207               Horned Grebe\n",
       "..        ...            ...              ...                        ...\n",
       "272  FC366114       0.001362         0.003138           Great Horned Owl\n",
       "273  FD2B0309       0.000918         0.005127           White-faced Ibis\n",
       "274  FED3756C       0.000760         0.002940                 Bald Eagle\n",
       "275  FF592882       0.000401         0.001474  Chestnut-backed Chickadee\n",
       "276  FFF61080       0.001367         0.004568     Orange-crowned Warbler\n",
       "\n",
       "[277 rows x 4 columns]"
      ]
     },
     "execution_count": 294,
     "metadata": {},
     "output_type": "execute_result"
    }
   ],
   "source": [
    "df_kl_div_all"
   ]
  },
  {
   "cell_type": "code",
   "execution_count": 305,
   "metadata": {},
   "outputs": [
    {
     "data": {
      "text/plain": [
       "7"
      ]
     },
     "execution_count": 305,
     "metadata": {},
     "output_type": "execute_result"
    }
   ],
   "source": [
    "np.sum(df_kl_div_smooth.sort_values(by='KL_Divergence_Value').values[:,1] == np.inf)"
   ]
  },
  {
   "cell_type": "code",
   "execution_count": 307,
   "metadata": {},
   "outputs": [
    {
     "data": {
      "text/plain": [
       "25"
      ]
     },
     "execution_count": 307,
     "metadata": {},
     "output_type": "execute_result"
    }
   ],
   "source": [
    "np.sum(df_kl_div_discrete.sort_values(by='KL_Divergence_Value').values[:,1] == np.inf)"
   ]
  },
  {
   "cell_type": "code",
   "execution_count": null,
   "metadata": {},
   "outputs": [],
   "source": []
  },
  {
   "cell_type": "markdown",
   "metadata": {},
   "source": [
    "# Plots"
   ]
  },
  {
   "cell_type": "code",
   "execution_count": 175,
   "metadata": {},
   "outputs": [],
   "source": [
    "import seaborn as sns"
   ]
  },
  {
   "cell_type": "markdown",
   "metadata": {},
   "source": [
    "df_ebird5, inat8"
   ]
  },
  {
   "cell_type": "code",
   "execution_count": 183,
   "metadata": {},
   "outputs": [],
   "source": [
    "eda_inat1= df_iNat8.groupby('COMMON NAME').count()['taxonID']/716.02"
   ]
  },
  {
   "cell_type": "code",
   "execution_count": 186,
   "metadata": {},
   "outputs": [
    {
     "data": {
      "text/plain": [
       "COMMON NAME\n",
       "Red-tailed Hawk               3.273652\n",
       "Anna's Hummingbird            2.698249\n",
       "Mallard                       2.553001\n",
       "White-crowned Sparrow         2.150778\n",
       "Great Egret                   2.147985\n",
       "                                ...   \n",
       "Sulphur-bellied Flycatcher    0.001397\n",
       "Prairie Warbler               0.001397\n",
       "Flesh-footed Shearwater       0.001397\n",
       "Eastern Phoebe                0.001397\n",
       "Yellow-throated Vireo         0.001397\n",
       "Name: taxonID, Length: 352, dtype: float64"
      ]
     },
     "execution_count": 186,
     "metadata": {},
     "output_type": "execute_result"
    }
   ],
   "source": [
    "eda_inat1.sort_values(ascending=False)"
   ]
  },
  {
   "cell_type": "code",
   "execution_count": 191,
   "metadata": {},
   "outputs": [],
   "source": [
    "eda_ebird = df_eBird5.groupby('COMMON NAME').count()['AVIBASEID']"
   ]
  },
  {
   "cell_type": "code",
   "execution_count": 192,
   "metadata": {},
   "outputs": [],
   "source": [
    "eda_ebird = eda_ebird/38423.32"
   ]
  },
  {
   "cell_type": "code",
   "execution_count": 193,
   "metadata": {},
   "outputs": [
    {
     "data": {
      "text/plain": [
       "COMMON NAME\n",
       "Black Phoebe            2.874973\n",
       "Anna's Hummingbird      2.736723\n",
       "House Finch             2.557692\n",
       "California Scrub-Jay    2.544080\n",
       "Turkey Vulture          2.421889\n",
       "                          ...   \n",
       "Glossy Ibis             0.000104\n",
       "Helmeted Guineafowl     0.000104\n",
       "Neotropic Cormorant     0.000078\n",
       "Indian Peafowl          0.000052\n",
       "Graylag Goose           0.000026\n",
       "Name: AVIBASEID, Length: 352, dtype: float64"
      ]
     },
     "execution_count": 193,
     "metadata": {},
     "output_type": "execute_result"
    }
   ],
   "source": [
    "eda_ebird.sort_values(ascending=False)"
   ]
  },
  {
   "cell_type": "code",
   "execution_count": 196,
   "metadata": {},
   "outputs": [],
   "source": [
    "%matplotlib inline\n",
    "%config InlineBackend.figure_format = 'retina'"
   ]
  },
  {
   "cell_type": "code",
   "execution_count": 198,
   "metadata": {},
   "outputs": [],
   "source": [
    "import matplotlib.pyplot as plt"
   ]
  },
  {
   "cell_type": "code",
   "execution_count": 216,
   "metadata": {},
   "outputs": [
    {
     "data": {
      "text/plain": [
       "<matplotlib.legend.Legend at 0x7fcf5316a680>"
      ]
     },
     "execution_count": 216,
     "metadata": {},
     "output_type": "execute_result"
    },
    {
     "data": {
      "image/png": "[encoded data removed]",
      "text/plain": [
       "<Figure size 800x400 with 1 Axes>"
      ]
     },
     "metadata": {
      "image/png": {
       "height": 351,
       "width": 683
      }
     },
     "output_type": "display_data"
    }
   ],
   "source": [
    "fig, ax = plt.subplots(1,1,figsize=(8,4))\n",
    "sns.kdeplot(eda_ebird.values, ax=ax, label='eBird', color='#142231', bw_adjust=0.2)\n",
    "sns.kdeplot(eda_inat1.values, ax=ax, label='i-Naturalist', color='#FBA210', bw_adjust=0.2)\n",
    "ax.legend()\n"
   ]
  },
  {
   "cell_type": "code",
   "execution_count": 222,
   "metadata": {},
   "outputs": [],
   "source": [
    "eda_diff = eda_ebird.sort_index() - eda_inat1.sort_index()"
   ]
  },
  {
   "cell_type": "code",
   "execution_count": 224,
   "metadata": {},
   "outputs": [
    {
     "data": {
      "text/plain": [
       "count    3.520000e+02\n",
       "mean    -1.009294e-17\n",
       "std      2.587908e-01\n",
       "min     -1.470059e+00\n",
       "25%     -3.255552e-02\n",
       "50%     -1.088524e-03\n",
       "75%      3.080370e-02\n",
       "max      1.195224e+00\n",
       "dtype: float64"
      ]
     },
     "execution_count": 224,
     "metadata": {},
     "output_type": "execute_result"
    }
   ],
   "source": [
    "eda_diff.describe()"
   ]
  },
  {
   "cell_type": "code",
   "execution_count": 226,
   "metadata": {},
   "outputs": [],
   "source": [
    "import numpy as np"
   ]
  },
  {
   "cell_type": "code",
   "execution_count": 228,
   "metadata": {},
   "outputs": [],
   "source": [
    "eda_diff_abs = np.abs(eda_diff)"
   ]
  },
  {
   "cell_type": "code",
   "execution_count": 229,
   "metadata": {},
   "outputs": [
    {
     "data": {
      "text/plain": [
       "COMMON NAME\n",
       "Red-tailed Hawk             1.470059\n",
       "Wild Turkey                 1.396315\n",
       "Neotropic Cormorant         1.342063\n",
       "American Coot               1.272878\n",
       "European Starling           1.195224\n",
       "                              ...   \n",
       "Rough-legged Hawk           0.000107\n",
       "Great Crested Flycatcher    0.000087\n",
       "Swamp Sparrow               0.000086\n",
       "Least Flycatcher            0.000069\n",
       "Blue Jay                    0.000009\n",
       "Length: 352, dtype: float64"
      ]
     },
     "execution_count": 229,
     "metadata": {},
     "output_type": "execute_result"
    }
   ],
   "source": [
    "eda_diff_abs.sort_values(ascending=False)"
   ]
  },
  {
   "cell_type": "code",
   "execution_count": 231,
   "metadata": {},
   "outputs": [
    {
     "data": {
      "text/plain": [
       "COMMON NAME\n",
       "Red-tailed Hawk       -1.470059\n",
       "Wild Turkey           -1.396315\n",
       "Neotropic Cormorant   -1.342063\n",
       "American Coot         -1.272878\n",
       "Great Blue Heron      -1.020892\n",
       "                         ...   \n",
       "Turkey Vulture         0.799029\n",
       "Mourning Dove          0.963545\n",
       "Common Raven           0.994793\n",
       "House Finch            1.060527\n",
       "European Starling      1.195224\n",
       "Length: 352, dtype: float64"
      ]
     },
     "execution_count": 231,
     "metadata": {},
     "output_type": "execute_result"
    }
   ],
   "source": [
    "eda_diff.sort_values()"
   ]
  },
  {
   "cell_type": "code",
   "execution_count": null,
   "metadata": {},
   "outputs": [],
   "source": []
  }
 ],
 "metadata": {
  "kernelspec": {
   "display_name": "Python 3.10.11 ('exp_func')",
   "language": "python",
   "name": "python3"
  },
  "language_info": {
   "codemirror_mode": {
    "name": "ipython",
    "version": 3
   },
   "file_extension": ".py",
   "mimetype": "text/x-python",
   "name": "python",
   "nbconvert_exporter": "python",
   "pygments_lexer": "ipython3",
   "version": "3.10.11"
  },
  "orig_nbformat": 4,
  "vscode": {
   "interpreter": {
    "hash": "51ab48f99c10b131b06c2c5468102467b7e92e0ffbfd68ac19cda9304f04b617"
   }
  }
 },
 "nbformat": 4,
 "nbformat_minor": 2
}
